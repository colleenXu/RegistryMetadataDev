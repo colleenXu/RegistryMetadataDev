{
 "cells": [
  {
   "cell_type": "markdown",
   "metadata": {},
   "source": [
    "# HPOA stuff"
   ]
  },
  {
   "cell_type": "markdown",
   "metadata": {},
   "source": [
    "## Setup"
   ]
  },
  {
   "cell_type": "code",
   "execution_count": 1,
   "metadata": {
    "ExecuteTime": {
     "end_time": "2021-04-20T02:20:02.204746Z",
     "start_time": "2021-04-20T02:20:01.850636Z"
    }
   },
   "outputs": [],
   "source": [
    "## CX: allows multiple lines of code to print from one code block\n",
    "from IPython.core.interactiveshell import InteractiveShell\n",
    "InteractiveShell.ast_node_interactivity = \"all\"\n",
    "\n",
    "## to get around bugs\n",
    "import nest_asyncio\n",
    "nest_asyncio.apply()\n",
    "\n",
    "import pathlib\n",
    "import pandas as pd\n",
    "import re\n",
    "\n"
   ]
  },
  {
   "cell_type": "code",
   "execution_count": 2,
   "metadata": {
    "ExecuteTime": {
     "end_time": "2021-03-05T03:40:54.131263Z",
     "start_time": "2021-03-05T03:40:54.123279Z"
    }
   },
   "outputs": [],
   "source": [
    "def process_gene(file_path_gene_disease):\n",
    "    df_gene_disease = pd.read_csv(\n",
    "        file_path_gene_disease,\n",
    "        encoding=\"ISO-8859-1\",\n",
    "        sep=\"\\t\",\n",
    "        comment=\"#\",\n",
    "        compression=\"gzip\",\n",
    "    )\n",
    "    rename_gene = {\n",
    "        \"diseaseId\": \"umls\",\n",
    "        \"geneId\": \"gene_id\",\n",
    "        \"geneSymbol\": \"gene_name\",\n",
    "        \"diseaseName\": \"disease_name\",\n",
    "        \"pmid\": \"pubmed\",\n",
    "    }\n",
    "    df_gene_disease = df_gene_disease.where((pd.notnull(df_gene_disease)), None)\n",
    "    # source field could be multiple data sources concatenated by \";\", break them into a list\n",
    "    # df_gene_disease.source = to_list(df_gene_disease.source)\n",
    "    # df_gene_disease.diseaseType = to_list(df_gene_disease.diseaseType)\n",
    "    # df_gene_disease.diseaseSemanticType = to_list(df_gene_disease.diseaseSemanticType)\n",
    "    d = defaultdict(list)\n",
    "    # rename pandas columns\n",
    "    df_gene_disease = df_gene_disease.rename(columns=rename_gene)\n",
    "    # for each gene, group the results based on source, and merge all pubmed IDs together\n",
    "    for grp, subdf in df_gene_disease.groupby([\"umls\", \"source\", \"gene_id\"]):\n",
    "        records = subdf.to_dict(orient=\"records\")\n",
    "        doc = {\"source\": grp[1], \"gene_id\": int(grp[2]), \"pubmed\": set()}\n",
    "        for record in records:\n",
    "            for k, v in record.items():\n",
    "                if isinstance(v, np.int64):\n",
    "                    record[k] = int(v)\n",
    "                if k in [\"gene_name\", \"DSI\", \"DPI\", \"score\", \"EI\"]:\n",
    "                    doc[k] = v\n",
    "                elif k in [\"YearInitial\", \"YearFinal\"]:\n",
    "                    doc[k] = int(v) if v else v\n",
    "                elif k == \"pubmed\" and v:\n",
    "                    doc[k].add(int(v))\n",
    "        doc[\"pubmed\"] = list(doc[\"pubmed\"])\n",
    "        d[grp[0].replace(\"umls\", \"umls_cui\")].append(doc)\n",
    "    return d"
   ]
  },
  {
   "cell_type": "code",
   "execution_count": 5,
   "metadata": {
    "ExecuteTime": {
     "end_time": "2021-03-05T03:42:04.230886Z",
     "start_time": "2021-03-05T03:41:53.157358Z"
    }
   },
   "outputs": [
    {
     "ename": "NameError",
     "evalue": "name 'defaultdict' is not defined",
     "output_type": "error",
     "traceback": [
      "\u001b[0;31m---------------------------------------------------------------------------\u001b[0m",
      "\u001b[0;31mNameError\u001b[0m                                 Traceback (most recent call last)",
      "\u001b[0;32m<ipython-input-5-5f497ffc48e2>\u001b[0m in \u001b[0;36m<module>\u001b[0;34m\u001b[0m\n\u001b[1;32m      1\u001b[0m \u001b[0mfolder\u001b[0m \u001b[0;34m=\u001b[0m \u001b[0mpathlib\u001b[0m\u001b[0;34m.\u001b[0m\u001b[0mPath\u001b[0m\u001b[0;34m.\u001b[0m\u001b[0mhome\u001b[0m\u001b[0;34m(\u001b[0m\u001b[0;34m)\u001b[0m\u001b[0;34m.\u001b[0m\u001b[0mjoinpath\u001b[0m\u001b[0;34m(\u001b[0m\u001b[0;34m'Desktop'\u001b[0m\u001b[0;34m,\u001b[0m \u001b[0;34m'ScrippsJob'\u001b[0m\u001b[0;34m,\u001b[0m \u001b[0;34m'DisGeNET'\u001b[0m\u001b[0;34m)\u001b[0m\u001b[0;34m\u001b[0m\u001b[0;34m\u001b[0m\u001b[0m\n\u001b[1;32m      2\u001b[0m \u001b[0mallgene_pmid_path\u001b[0m \u001b[0;34m=\u001b[0m \u001b[0mfolder\u001b[0m\u001b[0;34m.\u001b[0m\u001b[0mjoinpath\u001b[0m\u001b[0;34m(\u001b[0m\u001b[0;34m'all_gene_disease_pmid_associations.tsv.gz'\u001b[0m\u001b[0;34m)\u001b[0m\u001b[0;34m\u001b[0m\u001b[0;34m\u001b[0m\u001b[0m\n\u001b[0;32m----> 3\u001b[0;31m \u001b[0mallgene_pmid\u001b[0m \u001b[0;34m=\u001b[0m \u001b[0mprocess_gene\u001b[0m\u001b[0;34m(\u001b[0m\u001b[0mallgene_pmid_path\u001b[0m\u001b[0;34m)\u001b[0m\u001b[0;34m\u001b[0m\u001b[0;34m\u001b[0m\u001b[0m\n\u001b[0m",
      "\u001b[0;32m<ipython-input-2-30f45e14f9c5>\u001b[0m in \u001b[0;36mprocess_gene\u001b[0;34m(file_path_gene_disease)\u001b[0m\n\u001b[1;32m     19\u001b[0m     \u001b[0;31m# df_gene_disease.diseaseType = to_list(df_gene_disease.diseaseType)\u001b[0m\u001b[0;34m\u001b[0m\u001b[0;34m\u001b[0m\u001b[0;34m\u001b[0m\u001b[0m\n\u001b[1;32m     20\u001b[0m     \u001b[0;31m# df_gene_disease.diseaseSemanticType = to_list(df_gene_disease.diseaseSemanticType)\u001b[0m\u001b[0;34m\u001b[0m\u001b[0;34m\u001b[0m\u001b[0;34m\u001b[0m\u001b[0m\n\u001b[0;32m---> 21\u001b[0;31m     \u001b[0md\u001b[0m \u001b[0;34m=\u001b[0m \u001b[0mdefaultdict\u001b[0m\u001b[0;34m(\u001b[0m\u001b[0mlist\u001b[0m\u001b[0;34m)\u001b[0m\u001b[0;34m\u001b[0m\u001b[0;34m\u001b[0m\u001b[0m\n\u001b[0m\u001b[1;32m     22\u001b[0m     \u001b[0;31m# rename pandas columns\u001b[0m\u001b[0;34m\u001b[0m\u001b[0;34m\u001b[0m\u001b[0;34m\u001b[0m\u001b[0m\n\u001b[1;32m     23\u001b[0m     \u001b[0mdf_gene_disease\u001b[0m \u001b[0;34m=\u001b[0m \u001b[0mdf_gene_disease\u001b[0m\u001b[0;34m.\u001b[0m\u001b[0mrename\u001b[0m\u001b[0;34m(\u001b[0m\u001b[0mcolumns\u001b[0m\u001b[0;34m=\u001b[0m\u001b[0mrename_gene\u001b[0m\u001b[0;34m)\u001b[0m\u001b[0;34m\u001b[0m\u001b[0;34m\u001b[0m\u001b[0m\n",
      "\u001b[0;31mNameError\u001b[0m: name 'defaultdict' is not defined"
     ]
    }
   ],
   "source": [
    "folder = pathlib.Path.home().joinpath('Desktop', 'ScrippsJob', 'DisGeNET')\n",
    "allgene_pmid_path = folder.joinpath('all_gene_disease_pmid_associations.tsv.gz')\n",
    "allgene_pmid = process_gene(allgene_pmid_path)"
   ]
  },
  {
   "cell_type": "code",
   "execution_count": null,
   "metadata": {},
   "outputs": [],
   "source": []
  },
  {
   "cell_type": "code",
   "execution_count": 2,
   "metadata": {
    "ExecuteTime": {
     "end_time": "2021-02-16T23:12:17.525833Z",
     "start_time": "2021-02-16T23:12:17.109044Z"
    }
   },
   "outputs": [
    {
     "data": {
      "text/plain": [
       "Index(['#DatabaseID', 'DiseaseName', 'Qualifier', 'HPO_ID', 'Reference',\n",
       "       'Evidence', 'Onset', 'Frequency', 'Sex', 'Modifier', 'Aspect',\n",
       "       'Biocuration'],\n",
       "      dtype='object')"
      ]
     },
     "execution_count": 2,
     "metadata": {},
     "output_type": "execute_result"
    },
    {
     "data": {
      "text/plain": [
       "(216197, 12)"
      ]
     },
     "execution_count": 2,
     "metadata": {},
     "output_type": "execute_result"
    }
   ],
   "source": [
    "HPO_path = pathlib.Path.home().joinpath('Desktop', 'ScrippsJob', 'phenotype.hpoa')\n",
    "hpoa = pd.read_table(HPO_path, sep=\"\\t\", skiprows=4, \n",
    "                    dtype=str)\n",
    "hpoa.columns\n",
    "hpoa.shape"
   ]
  },
  {
   "cell_type": "code",
   "execution_count": 3,
   "metadata": {
    "ExecuteTime": {
     "end_time": "2021-02-16T23:12:20.877263Z",
     "start_time": "2021-02-16T23:12:20.874274Z"
    }
   },
   "outputs": [],
   "source": [
    "## rename\n",
    "hpoa.columns = ['DatabaseID', 'DiseaseName', 'Qualifier', 'HPO_ID', 'Reference',\n",
    "                'Evidence', 'Onset', 'Frequency', 'Sex', 'Modifier', 'Aspect',\n",
    "                'Biocuration']"
   ]
  },
  {
   "cell_type": "markdown",
   "metadata": {},
   "source": [
    "## Look at DatabaseID, HPO_ID"
   ]
  },
  {
   "cell_type": "markdown",
   "metadata": {},
   "source": [
    "- DatabaseID = disease's ID, HPO_ID = phenotype-related ID (HPO terms)\n",
    "- Almost all of the database uses OMIM or ORPHA disease IDs, a little bit of the database has DECIPHER IDs.  \n",
    "- Only 1 DatabaseID and 1 HPO_ID per row   \n",
    "- There are 12082 unique disease IDs, 9646 unique phenotype-related IDs (HPO terms)"
   ]
  },
  {
   "cell_type": "code",
   "execution_count": 4,
   "metadata": {
    "ExecuteTime": {
     "end_time": "2021-02-16T23:12:23.975697Z",
     "start_time": "2021-02-16T23:12:23.291617Z"
    }
   },
   "outputs": [
    {
     "data": {
      "text/plain": [
       "False    216197\n",
       "Name: DatabaseID, dtype: int64"
      ]
     },
     "execution_count": 4,
     "metadata": {},
     "output_type": "execute_result"
    },
    {
     "data": {
      "text/plain": [
       "OMIM        112500\n",
       "ORPHA       103410\n",
       "DECIPHER       287\n",
       "dtype: int64"
      ]
     },
     "execution_count": 4,
     "metadata": {},
     "output_type": "execute_result"
    },
    {
     "data": {
      "text/plain": [
       "True"
      ]
     },
     "execution_count": 4,
     "metadata": {},
     "output_type": "execute_result"
    },
    {
     "data": {
      "text/plain": [
       "12082"
      ]
     },
     "execution_count": 4,
     "metadata": {},
     "output_type": "execute_result"
    },
    {
     "data": {
      "text/plain": [
       "47"
      ]
     },
     "execution_count": 4,
     "metadata": {},
     "output_type": "execute_result"
    }
   ],
   "source": [
    "hpoa.DatabaseID.str.contains(';').value_counts()\n",
    "hpoa.DatabaseID.str.extract('(.*):').value_counts()\n",
    "112500+103410+287 == 216197\n",
    "hpoa.DatabaseID.nunique()\n",
    "\n",
    "hpoa[hpoa.DatabaseID.str.contains('DECIPHER:')].DatabaseID.nunique()"
   ]
  },
  {
   "cell_type": "code",
   "execution_count": 5,
   "metadata": {
    "ExecuteTime": {
     "end_time": "2021-02-16T23:12:37.063213Z",
     "start_time": "2021-02-16T23:12:36.956371Z"
    }
   },
   "outputs": [
    {
     "data": {
      "text/plain": [
       "array(['DECIPHER:72', 'DECIPHER:45', 'DECIPHER:85', 'DECIPHER:18',\n",
       "       'DECIPHER:15', 'DECIPHER:37', 'DECIPHER:38', 'DECIPHER:21',\n",
       "       'DECIPHER:43', 'DECIPHER:66', 'DECIPHER:42', 'DECIPHER:67',\n",
       "       'DECIPHER:57', 'DECIPHER:46', 'DECIPHER:16', 'DECIPHER:19',\n",
       "       'DECIPHER:58', 'DECIPHER:17', 'DECIPHER:70', 'DECIPHER:4',\n",
       "       'DECIPHER:39', 'DECIPHER:8', 'DECIPHER:14', 'DECIPHER:2',\n",
       "       'DECIPHER:81', 'DECIPHER:44', 'DECIPHER:51', 'DECIPHER:59',\n",
       "       'DECIPHER:47', 'DECIPHER:53', 'DECIPHER:34', 'DECIPHER:92',\n",
       "       'DECIPHER:31', 'DECIPHER:20', 'DECIPHER:35', 'DECIPHER:68',\n",
       "       'DECIPHER:54', 'DECIPHER:52', 'DECIPHER:32', 'DECIPHER:1',\n",
       "       'DECIPHER:76', 'DECIPHER:62', 'DECIPHER:29', 'DECIPHER:74',\n",
       "       'DECIPHER:65', 'DECIPHER:3', 'DECIPHER:48'], dtype=object)"
      ]
     },
     "execution_count": 5,
     "metadata": {},
     "output_type": "execute_result"
    }
   ],
   "source": [
    "hpoa[hpoa.DatabaseID.str.contains('DECIPHER:')].DatabaseID.unique()"
   ]
  },
  {
   "cell_type": "code",
   "execution_count": null,
   "metadata": {
    "ExecuteTime": {
     "end_time": "2021-02-09T20:22:33.597232Z",
     "start_time": "2021-02-09T20:22:33.363330Z"
    }
   },
   "outputs": [],
   "source": [
    "hpoa.HPO_ID.str.contains(';').value_counts()\n",
    "hpoa.HPO_ID.str.contains('HP:').value_counts()\n",
    "hpoa.HPO_ID.nunique()"
   ]
  },
  {
   "cell_type": "markdown",
   "metadata": {
    "heading_collapsed": true
   },
   "source": [
    "## won't use: Look at DiseaseName"
   ]
  },
  {
   "cell_type": "markdown",
   "metadata": {
    "hidden": true
   },
   "source": [
    "Only OMIM DiseaseNames are hard to parse (have \";\" delimited, meaning multiple names). OMIM DiseaseNames also have weird \";;\". Thinking of fields like this as \"lists in string form\" or \"free text\" (not simple labels or categorical variables). \n",
    "\n",
    "It looks like having \" or \" or \", \" in the DiseaseName does NOT mean multiple names"
   ]
  },
  {
   "cell_type": "code",
   "execution_count": null,
   "metadata": {
    "ExecuteTime": {
     "end_time": "2021-02-09T20:22:36.728869Z",
     "start_time": "2021-02-09T20:22:36.301267Z"
    },
    "hidden": true
   },
   "outputs": [],
   "source": [
    "hpoa[hpoa['DatabaseID'].str.contains('OMIM')].DiseaseName.str.contains(';').value_counts()\n",
    "hpoa[hpoa['DatabaseID'].str.contains('ORPHA')].DiseaseName.str.contains(';').value_counts()\n",
    "hpoa[hpoa['DatabaseID'].str.contains('DECIPHER')].DiseaseName.str.contains(';').value_counts()"
   ]
  },
  {
   "cell_type": "code",
   "execution_count": null,
   "metadata": {
    "ExecuteTime": {
     "end_time": "2021-02-09T20:22:38.336937Z",
     "start_time": "2021-02-09T20:22:38.211325Z"
    },
    "hidden": true
   },
   "outputs": [],
   "source": [
    "## huh so Orphanet only gives P and C annotations\n",
    "hpoa[hpoa['DatabaseID'].str.contains('ORPHA')].Aspect.value_counts()"
   ]
  },
  {
   "cell_type": "code",
   "execution_count": null,
   "metadata": {
    "ExecuteTime": {
     "end_time": "2021-02-09T20:22:39.221581Z",
     "start_time": "2021-02-09T20:22:39.003955Z"
    },
    "hidden": true
   },
   "outputs": [],
   "source": [
    "hpoa[hpoa['DatabaseID'].str.contains('OMIM')].Aspect.value_counts()\n",
    "hpoa[hpoa['DatabaseID'].str.contains('DECIPHER')].Aspect.value_counts()"
   ]
  },
  {
   "cell_type": "markdown",
   "metadata": {
    "heading_collapsed": true
   },
   "source": [
    "## modified parser: Qualifier"
   ]
  },
  {
   "cell_type": "markdown",
   "metadata": {
    "hidden": true
   },
   "source": [
    "There are 1464 rows with annotations saying this disease DOES NOT have this phenotypic abnormality (aspect = \"P\"). Downstream services need to be able to deal with this, or we have to take these annotations out. \n",
    "\n",
    "I checked https://hpo.jax.org/app/browse/disease/OMIM:614856 and I don't see the NOT annotations. Using Chunlei's words, this would mean NOT exposing the info. "
   ]
  },
  {
   "cell_type": "code",
   "execution_count": null,
   "metadata": {
    "ExecuteTime": {
     "end_time": "2021-02-09T20:44:09.886500Z",
     "start_time": "2021-02-09T20:44:09.859813Z"
    },
    "hidden": true
   },
   "outputs": [],
   "source": [
    "hpoa['Qualifier'].value_counts()\n",
    "hpoa[hpoa['Qualifier'] == \"NOT\"].Aspect.value_counts()"
   ]
  },
  {
   "cell_type": "code",
   "execution_count": null,
   "metadata": {
    "ExecuteTime": {
     "end_time": "2021-02-09T19:57:51.682857Z",
     "start_time": "2021-02-09T19:57:51.594604Z"
    },
    "hidden": true
   },
   "outputs": [],
   "source": [
    "hpoa[hpoa['Qualifier'] == \"NOT\"]"
   ]
  },
  {
   "cell_type": "code",
   "execution_count": null,
   "metadata": {
    "ExecuteTime": {
     "end_time": "2021-02-09T20:50:00.099798Z",
     "start_time": "2021-02-09T20:49:59.939160Z"
    },
    "hidden": true
   },
   "outputs": [],
   "source": [
    "hpoa.where((pd.notnull(hpoa)), None)"
   ]
  },
  {
   "cell_type": "markdown",
   "metadata": {
    "heading_collapsed": true
   },
   "source": [
    "## modified parser: Aspect"
   ]
  },
  {
   "cell_type": "markdown",
   "metadata": {
    "hidden": true
   },
   "source": [
    "So...'P' are the Disease - PhenotypicFeature annotations\n",
    "\n",
    "I want to edit parsing to treat 'I' (disease inheritance) annots like the other two 'C' (disease clinical course) and 'M' (disease modifier). What to do with this (annotate disease nodes?).  \n",
    "\n",
    "But the extra trickiness is that these annots come with baggage...Reference, Frequency, Sex, Modifier info. It's hard to know how to structure this. "
   ]
  },
  {
   "cell_type": "code",
   "execution_count": null,
   "metadata": {
    "ExecuteTime": {
     "end_time": "2021-02-09T19:59:28.679588Z",
     "start_time": "2021-02-09T19:59:28.657524Z"
    },
    "hidden": true
   },
   "outputs": [],
   "source": [
    "hpoa.Aspect.value_counts()"
   ]
  },
  {
   "cell_type": "code",
   "execution_count": null,
   "metadata": {
    "ExecuteTime": {
     "end_time": "2021-02-09T19:59:29.965470Z",
     "start_time": "2021-02-09T19:59:29.939006Z"
    },
    "hidden": true
   },
   "outputs": [],
   "source": [
    "hpoa[hpoa['Aspect'] != 'P'].count()"
   ]
  },
  {
   "cell_type": "markdown",
   "metadata": {},
   "source": [
    "## modified parser: Reference"
   ]
  },
  {
   "cell_type": "markdown",
   "metadata": {},
   "source": [
    "### Intro"
   ]
  },
  {
   "cell_type": "markdown",
   "metadata": {},
   "source": [
    "This column (every row has a value) is tricky because...  \n",
    "- it is \";\" delimited: ~ 1000 rows have multiple values. Max number of values is 7 o_0. \n",
    "- there are multiple kinds of IDs: DECIPHER, ISBN (ISBN, ISBN-10, ISBN-13), OMIM, ORPHA, PMID and websites (http and https)\n",
    "\n",
    "So....with the current metadata, publications would be ISBN and PMID (separate by ID namespace).     \n",
    "Websites would be http, https, OMIM, ORPHA, DECIPHER (construct URLs, then keep all together). "
   ]
  },
  {
   "cell_type": "code",
   "execution_count": 8,
   "metadata": {
    "ExecuteTime": {
     "end_time": "2021-02-16T23:24:27.360029Z",
     "start_time": "2021-02-16T23:24:27.191445Z"
    }
   },
   "outputs": [],
   "source": [
    "references = hpoa.Reference.str.split(';')"
   ]
  },
  {
   "cell_type": "code",
   "execution_count": 9,
   "metadata": {
    "ExecuteTime": {
     "end_time": "2021-02-16T23:24:28.149571Z",
     "start_time": "2021-02-16T23:24:27.930912Z"
    }
   },
   "outputs": [
    {
     "data": {
      "text/plain": [
       "1    215223\n",
       "2       876\n",
       "3        82\n",
       "4         8\n",
       "5         4\n",
       "6         3\n",
       "7         1\n",
       "dtype: int64"
      ]
     },
     "execution_count": 9,
     "metadata": {},
     "output_type": "execute_result"
    }
   ],
   "source": [
    "## see how many rows have multiple references\n",
    "count = []\n",
    "for i in references:\n",
    "    count.append(len(i))\n",
    "pd.Series(count).value_counts()"
   ]
  },
  {
   "cell_type": "code",
   "execution_count": 10,
   "metadata": {
    "ExecuteTime": {
     "end_time": "2021-02-16T23:24:29.929537Z",
     "start_time": "2021-02-16T23:24:29.828288Z"
    }
   },
   "outputs": [
    {
     "data": {
      "text/plain": [
       "2131              PMID:23692737;PMID:17206620;PMID:15728585\n",
       "2136              PMID:23692737;PMID:17206620;PMID:15728585\n",
       "3036      http://www.ncbi.nlm.nih.gov/books/NBK1526/;PMI...\n",
       "4976              PMID:22512499;PMID:15814878;PMID:17392301\n",
       "9320                PMID:11050632;PMID:7987310;PMID:8588586\n",
       "                                ...                        \n",
       "106140             PMID:11180245;PMID:8213919;PMID:12210303\n",
       "106147             PMID:3377005;PMID:14684697;PMID:12210303\n",
       "106165             PMID:8213919;PMID:14684697;PMID:12618959\n",
       "106169              PMID:3377005;PMID:8213919;PMID:12210303\n",
       "106178              PMID:3377005;PMID:8213919;PMID:12210303\n",
       "Name: Reference, Length: 82, dtype: object"
      ]
     },
     "execution_count": 10,
     "metadata": {},
     "output_type": "execute_result"
    }
   ],
   "source": [
    "hpoa[pd.Series(count) == 3].Reference"
   ]
  },
  {
   "cell_type": "code",
   "execution_count": null,
   "metadata": {
    "ExecuteTime": {
     "end_time": "2021-02-09T21:45:34.277018Z",
     "start_time": "2021-02-09T21:45:33.817440Z"
    }
   },
   "outputs": [],
   "source": [
    "## what prefixes are there?\n",
    "set_prefixes = set()\n",
    "p = re.compile(\"(.*):\")\n",
    "for i in references:\n",
    "    for n in i:\n",
    "        tempPrefix = p.findall(n)\n",
    "        set_prefixes.update(tempPrefix)"
   ]
  },
  {
   "cell_type": "code",
   "execution_count": null,
   "metadata": {
    "ExecuteTime": {
     "end_time": "2021-02-09T21:45:36.580543Z",
     "start_time": "2021-02-09T21:45:36.576858Z"
    },
    "scrolled": true
   },
   "outputs": [],
   "source": [
    "set_prefixes"
   ]
  },
  {
   "cell_type": "markdown",
   "metadata": {},
   "source": [
    "### Some EDA"
   ]
  },
  {
   "cell_type": "markdown",
   "metadata": {},
   "source": [
    "So...214 rows have a single DECIPHER IDs as their \"reference\"."
   ]
  },
  {
   "cell_type": "code",
   "execution_count": null,
   "metadata": {},
   "outputs": [],
   "source": [
    "hpoa[(hpoa.Reference.str.split(\";\"))]"
   ]
  },
  {
   "cell_type": "code",
   "execution_count": null,
   "metadata": {
    "ExecuteTime": {
     "end_time": "2021-02-10T05:43:05.742107Z",
     "start_time": "2021-02-10T05:43:05.356702Z"
    }
   },
   "outputs": [],
   "source": [
    "hpoa.Reference.str.contains('DECIPHER').value_counts()\n",
    "hpoa[(hpoa.Reference.str.contains('DECIPHER')) &\n",
    "     (hpoa.Reference.str.contains(';'))]\n",
    "\n",
    "hpoa[(hpoa.Reference.str.contains('DECIPHER'))].head()"
   ]
  },
  {
   "cell_type": "markdown",
   "metadata": {},
   "source": [
    "So...\n",
    "- 1 row has a single ISBN ID \n",
    "- 8 rows have a single ISBN-10 ID (1 unique value)\n",
    "- 431 rows have ISBN-13 ID as reference\n",
    "  - 45 of those rows have more than one reference; you can see mixes with OMIM and http IDs..."
   ]
  },
  {
   "cell_type": "code",
   "execution_count": 6,
   "metadata": {
    "ExecuteTime": {
     "end_time": "2021-02-16T23:14:34.690726Z",
     "start_time": "2021-02-16T23:14:34.010730Z"
    }
   },
   "outputs": [
    {
     "data": {
      "text/plain": [
       "110660    ISBN:3642035590\n",
       "Name: Reference, dtype: object"
      ]
     },
     "execution_count": 6,
     "metadata": {},
     "output_type": "execute_result"
    },
    {
     "data": {
      "text/plain": [
       "101045    ISBN-10:0-19-262896-8\n",
       "101047    ISBN-10:0-19-262896-8\n",
       "101048    ISBN-10:0-19-262896-8\n",
       "101049    ISBN-10:0-19-262896-8\n",
       "101053    ISBN-10:0-19-262896-8\n",
       "101054    ISBN-10:0-19-262896-8\n",
       "101057    ISBN-10:0-19-262896-8\n",
       "101059    ISBN-10:0-19-262896-8\n",
       "Name: Reference, dtype: object"
      ]
     },
     "execution_count": 6,
     "metadata": {},
     "output_type": "execute_result"
    },
    {
     "data": {
      "text/plain": [
       "False    215768\n",
       "True        429\n",
       "Name: Reference, dtype: int64"
      ]
     },
     "execution_count": 6,
     "metadata": {},
     "output_type": "execute_result"
    },
    {
     "data": {
      "text/plain": [
       "(45, 12)"
      ]
     },
     "execution_count": 6,
     "metadata": {},
     "output_type": "execute_result"
    },
    {
     "data": {
      "text/plain": [
       "['http://www.ncbi.nlm.nih.gov/bookshelf/br.fcgi?book=gene&part=ofd1;ISBN-13:978-0721606156',\n",
       " 'http://www.ncbi.nlm.nih.gov/bookshelf/br.fcgi?book=gene&part=ofd1;ISBN-13:978-0721606156',\n",
       " 'ISBN-13:978-0721606156;OMIM:252100',\n",
       " 'http://www.ncbi.nlm.nih.gov/bookshelf/br.fcgi?book=gene&part=ofd1;ISBN-13:978-0721606156',\n",
       " 'http://www.ncbi.nlm.nih.gov/bookshelf/br.fcgi?book=gene&part=ofd1;ISBN-13:978-0721606156']"
      ]
     },
     "execution_count": 6,
     "metadata": {},
     "output_type": "execute_result"
    }
   ],
   "source": [
    "hpoa[hpoa.Reference.str.contains('ISBN:')].Reference\n",
    "hpoa[hpoa.Reference.str.contains('ISBN-10:')].Reference\n",
    "hpoa.Reference.str.contains('ISBN-13:').value_counts()\n",
    "hpoa[(hpoa.Reference.str.contains('ISBN-13:')) &\n",
    "     (hpoa.Reference.str.contains(';'))].shape\n",
    "hpoa[(hpoa.Reference.str.contains('ISBN-13:')) &\n",
    "     (hpoa.Reference.str.contains(';'))].head().Reference.to_list()"
   ]
  },
  {
   "cell_type": "code",
   "execution_count": 17,
   "metadata": {
    "ExecuteTime": {
     "end_time": "2021-02-16T23:50:38.333865Z",
     "start_time": "2021-02-16T23:50:38.125454Z"
    }
   },
   "outputs": [
    {
     "data": {
      "text/html": [
       "<div>\n",
       "<style scoped>\n",
       "    .dataframe tbody tr th:only-of-type {\n",
       "        vertical-align: middle;\n",
       "    }\n",
       "\n",
       "    .dataframe tbody tr th {\n",
       "        vertical-align: top;\n",
       "    }\n",
       "\n",
       "    .dataframe thead th {\n",
       "        text-align: right;\n",
       "    }\n",
       "</style>\n",
       "<table border=\"1\" class=\"dataframe\">\n",
       "  <thead>\n",
       "    <tr style=\"text-align: right;\">\n",
       "      <th></th>\n",
       "      <th>DatabaseID</th>\n",
       "      <th>DiseaseName</th>\n",
       "      <th>Qualifier</th>\n",
       "      <th>HPO_ID</th>\n",
       "      <th>Reference</th>\n",
       "      <th>Evidence</th>\n",
       "      <th>Onset</th>\n",
       "      <th>Frequency</th>\n",
       "      <th>Sex</th>\n",
       "      <th>Modifier</th>\n",
       "      <th>Aspect</th>\n",
       "      <th>Biocuration</th>\n",
       "    </tr>\n",
       "  </thead>\n",
       "  <tbody>\n",
       "    <tr>\n",
       "      <th>2220</th>\n",
       "      <td>OMIM:252100</td>\n",
       "      <td>MOHR SYNDROME OFDS II ORAL-FACIAL-DIGITAL SYND...</td>\n",
       "      <td>NaN</td>\n",
       "      <td>HP:0001156</td>\n",
       "      <td>http://www.ncbi.nlm.nih.gov/bookshelf/br.fcgi?...</td>\n",
       "      <td>PCS</td>\n",
       "      <td>NaN</td>\n",
       "      <td>HP:0040282</td>\n",
       "      <td>NaN</td>\n",
       "      <td>NaN</td>\n",
       "      <td>P</td>\n",
       "      <td>HPO:iea[2010-01-19]</td>\n",
       "    </tr>\n",
       "    <tr>\n",
       "      <th>2221</th>\n",
       "      <td>OMIM:252100</td>\n",
       "      <td>MOHR SYNDROME OFDS II ORAL-FACIAL-DIGITAL SYND...</td>\n",
       "      <td>NaN</td>\n",
       "      <td>HP:0000161</td>\n",
       "      <td>http://www.ncbi.nlm.nih.gov/bookshelf/br.fcgi?...</td>\n",
       "      <td>PCS</td>\n",
       "      <td>NaN</td>\n",
       "      <td>HP:0040282</td>\n",
       "      <td>NaN</td>\n",
       "      <td>NaN</td>\n",
       "      <td>P</td>\n",
       "      <td>HPO:iea[2009-02-17]</td>\n",
       "    </tr>\n",
       "    <tr>\n",
       "      <th>2230</th>\n",
       "      <td>OMIM:252100</td>\n",
       "      <td>MOHR SYNDROME OFDS II ORAL-FACIAL-DIGITAL SYND...</td>\n",
       "      <td>NaN</td>\n",
       "      <td>HP:0001841</td>\n",
       "      <td>http://www.ncbi.nlm.nih.gov/bookshelf/br.fcgi?...</td>\n",
       "      <td>PCS</td>\n",
       "      <td>NaN</td>\n",
       "      <td>HP:0040282</td>\n",
       "      <td>NaN</td>\n",
       "      <td>NaN</td>\n",
       "      <td>P</td>\n",
       "      <td>HPO:iea[2010-01-19]</td>\n",
       "    </tr>\n",
       "    <tr>\n",
       "      <th>2231</th>\n",
       "      <td>OMIM:252100</td>\n",
       "      <td>MOHR SYNDROME OFDS II ORAL-FACIAL-DIGITAL SYND...</td>\n",
       "      <td>NaN</td>\n",
       "      <td>HP:0000456</td>\n",
       "      <td>http://www.ncbi.nlm.nih.gov/bookshelf/br.fcgi?...</td>\n",
       "      <td>PCS</td>\n",
       "      <td>NaN</td>\n",
       "      <td>HP:0040282</td>\n",
       "      <td>NaN</td>\n",
       "      <td>NaN</td>\n",
       "      <td>P</td>\n",
       "      <td>HPO:iea[2009-02-17]</td>\n",
       "    </tr>\n",
       "    <tr>\n",
       "      <th>2235</th>\n",
       "      <td>OMIM:252100</td>\n",
       "      <td>MOHR SYNDROME OFDS II ORAL-FACIAL-DIGITAL SYND...</td>\n",
       "      <td>NaN</td>\n",
       "      <td>HP:0000199</td>\n",
       "      <td>http://www.ncbi.nlm.nih.gov/bookshelf/br.fcgi?...</td>\n",
       "      <td>PCS</td>\n",
       "      <td>NaN</td>\n",
       "      <td>HP:0040282</td>\n",
       "      <td>NaN</td>\n",
       "      <td>NaN</td>\n",
       "      <td>P</td>\n",
       "      <td>HPO:iea[2009-02-17]</td>\n",
       "    </tr>\n",
       "    <tr>\n",
       "      <th>2237</th>\n",
       "      <td>OMIM:252100</td>\n",
       "      <td>MOHR SYNDROME OFDS II ORAL-FACIAL-DIGITAL SYND...</td>\n",
       "      <td>NaN</td>\n",
       "      <td>HP:0001162</td>\n",
       "      <td>http://www.ncbi.nlm.nih.gov/bookshelf/br.fcgi?...</td>\n",
       "      <td>PCS</td>\n",
       "      <td>NaN</td>\n",
       "      <td>HP:0040282</td>\n",
       "      <td>NaN</td>\n",
       "      <td>NaN</td>\n",
       "      <td>P</td>\n",
       "      <td>HPO:iea[2010-01-19]</td>\n",
       "    </tr>\n",
       "    <tr>\n",
       "      <th>2248</th>\n",
       "      <td>OMIM:252100</td>\n",
       "      <td>MOHR SYNDROME OFDS II ORAL-FACIAL-DIGITAL SYND...</td>\n",
       "      <td>NaN</td>\n",
       "      <td>HP:0004209</td>\n",
       "      <td>http://www.ncbi.nlm.nih.gov/bookshelf/br.fcgi?...</td>\n",
       "      <td>PCS</td>\n",
       "      <td>NaN</td>\n",
       "      <td>HP:0040282</td>\n",
       "      <td>NaN</td>\n",
       "      <td>NaN</td>\n",
       "      <td>P</td>\n",
       "      <td>HPO:iea[2010-01-19]</td>\n",
       "    </tr>\n",
       "    <tr>\n",
       "      <th>2251</th>\n",
       "      <td>OMIM:252100</td>\n",
       "      <td>MOHR SYNDROME OFDS II ORAL-FACIAL-DIGITAL SYND...</td>\n",
       "      <td>NaN</td>\n",
       "      <td>HP:0001830</td>\n",
       "      <td>http://www.ncbi.nlm.nih.gov/bookshelf/br.fcgi?...</td>\n",
       "      <td>PCS</td>\n",
       "      <td>NaN</td>\n",
       "      <td>HP:0040282</td>\n",
       "      <td>NaN</td>\n",
       "      <td>NaN</td>\n",
       "      <td>P</td>\n",
       "      <td>HPO:iea[2010-01-19]</td>\n",
       "    </tr>\n",
       "    <tr>\n",
       "      <th>2941</th>\n",
       "      <td>OMIM:180849</td>\n",
       "      <td>RUBINSTEIN-TAYBI SYNDROME 1</td>\n",
       "      <td>NaN</td>\n",
       "      <td>HP:0002788</td>\n",
       "      <td>http://www.ncbi.nlm.nih.gov/books/NBK1526/;PMI...</td>\n",
       "      <td>PCS</td>\n",
       "      <td>HP:0003593</td>\n",
       "      <td>NaN</td>\n",
       "      <td>NaN</td>\n",
       "      <td>NaN</td>\n",
       "      <td>P</td>\n",
       "      <td>HPO:iea[2012-04-24]</td>\n",
       "    </tr>\n",
       "    <tr>\n",
       "      <th>2952</th>\n",
       "      <td>OMIM:180849</td>\n",
       "      <td>RUBINSTEIN-TAYBI SYNDROME 1</td>\n",
       "      <td>NaN</td>\n",
       "      <td>HP:0008872</td>\n",
       "      <td>http://www.ncbi.nlm.nih.gov/books/NBK1526/;PMI...</td>\n",
       "      <td>PCS</td>\n",
       "      <td>NaN</td>\n",
       "      <td>NaN</td>\n",
       "      <td>NaN</td>\n",
       "      <td>NaN</td>\n",
       "      <td>P</td>\n",
       "      <td>HPO:iea[2012-04-24]</td>\n",
       "    </tr>\n",
       "    <tr>\n",
       "      <th>2954</th>\n",
       "      <td>OMIM:180849</td>\n",
       "      <td>RUBINSTEIN-TAYBI SYNDROME 1</td>\n",
       "      <td>NaN</td>\n",
       "      <td>HP:0002999</td>\n",
       "      <td>http://www.ncbi.nlm.nih.gov/books/NBK1526/;ISB...</td>\n",
       "      <td>PCS</td>\n",
       "      <td>NaN</td>\n",
       "      <td>NaN</td>\n",
       "      <td>NaN</td>\n",
       "      <td>NaN</td>\n",
       "      <td>P</td>\n",
       "      <td>HPO:iea[2009-02-17]</td>\n",
       "    </tr>\n",
       "    <tr>\n",
       "      <th>2955</th>\n",
       "      <td>OMIM:180849</td>\n",
       "      <td>RUBINSTEIN-TAYBI SYNDROME 1</td>\n",
       "      <td>NaN</td>\n",
       "      <td>HP:0000218</td>\n",
       "      <td>http://www.ncbi.nlm.nih.gov/books/NBK1526/;ISB...</td>\n",
       "      <td>PCS</td>\n",
       "      <td>NaN</td>\n",
       "      <td>NaN</td>\n",
       "      <td>NaN</td>\n",
       "      <td>NaN</td>\n",
       "      <td>P</td>\n",
       "      <td>HPO:iea[2009-02-17]</td>\n",
       "    </tr>\n",
       "    <tr>\n",
       "      <th>2963</th>\n",
       "      <td>OMIM:180849</td>\n",
       "      <td>RUBINSTEIN-TAYBI SYNDROME 1</td>\n",
       "      <td>NaN</td>\n",
       "      <td>HP:0002098</td>\n",
       "      <td>http://www.ncbi.nlm.nih.gov/books/NBK1526/;PMI...</td>\n",
       "      <td>PCS</td>\n",
       "      <td>HP:0003623</td>\n",
       "      <td>NaN</td>\n",
       "      <td>NaN</td>\n",
       "      <td>NaN</td>\n",
       "      <td>P</td>\n",
       "      <td>HPO:iea[2012-04-24]</td>\n",
       "    </tr>\n",
       "    <tr>\n",
       "      <th>2994</th>\n",
       "      <td>OMIM:180849</td>\n",
       "      <td>RUBINSTEIN-TAYBI SYNDROME 1</td>\n",
       "      <td>NaN</td>\n",
       "      <td>HP:0001249</td>\n",
       "      <td>http://www.ncbi.nlm.nih.gov/books/NBK1526/;ISB...</td>\n",
       "      <td>PCS</td>\n",
       "      <td>NaN</td>\n",
       "      <td>NaN</td>\n",
       "      <td>NaN</td>\n",
       "      <td>NaN</td>\n",
       "      <td>P</td>\n",
       "      <td>HPO:iea[2009-02-17]</td>\n",
       "    </tr>\n",
       "    <tr>\n",
       "      <th>2995</th>\n",
       "      <td>OMIM:180849</td>\n",
       "      <td>RUBINSTEIN-TAYBI SYNDROME 1</td>\n",
       "      <td>NaN</td>\n",
       "      <td>HP:0005743</td>\n",
       "      <td>http://www.ncbi.nlm.nih.gov/books/NBK1526/;ISB...</td>\n",
       "      <td>PCS</td>\n",
       "      <td>NaN</td>\n",
       "      <td>NaN</td>\n",
       "      <td>NaN</td>\n",
       "      <td>NaN</td>\n",
       "      <td>P</td>\n",
       "      <td>HPO:iea[2012-04-24]</td>\n",
       "    </tr>\n",
       "    <tr>\n",
       "      <th>3018</th>\n",
       "      <td>OMIM:180849</td>\n",
       "      <td>RUBINSTEIN-TAYBI SYNDROME 1</td>\n",
       "      <td>NaN</td>\n",
       "      <td>HP:0000419</td>\n",
       "      <td>http://www.ncbi.nlm.nih.gov/books/NBK1526/;ISB...</td>\n",
       "      <td>PCS</td>\n",
       "      <td>NaN</td>\n",
       "      <td>NaN</td>\n",
       "      <td>NaN</td>\n",
       "      <td>NaN</td>\n",
       "      <td>P</td>\n",
       "      <td>HPO:iea[2012-04-24]</td>\n",
       "    </tr>\n",
       "    <tr>\n",
       "      <th>3020</th>\n",
       "      <td>OMIM:180849</td>\n",
       "      <td>RUBINSTEIN-TAYBI SYNDROME 1</td>\n",
       "      <td>NaN</td>\n",
       "      <td>HP:0000539</td>\n",
       "      <td>http://www.ncbi.nlm.nih.gov/books/NBK1526/;ISB...</td>\n",
       "      <td>PCS</td>\n",
       "      <td>NaN</td>\n",
       "      <td>NaN</td>\n",
       "      <td>NaN</td>\n",
       "      <td>NaN</td>\n",
       "      <td>P</td>\n",
       "      <td>HPO:iea[2012-04-24]</td>\n",
       "    </tr>\n",
       "    <tr>\n",
       "      <th>3022</th>\n",
       "      <td>OMIM:180849</td>\n",
       "      <td>RUBINSTEIN-TAYBI SYNDROME 1</td>\n",
       "      <td>NaN</td>\n",
       "      <td>HP:0009765</td>\n",
       "      <td>http://www.ncbi.nlm.nih.gov/books/NBK1526/;ISB...</td>\n",
       "      <td>PCS</td>\n",
       "      <td>NaN</td>\n",
       "      <td>NaN</td>\n",
       "      <td>NaN</td>\n",
       "      <td>NaN</td>\n",
       "      <td>P</td>\n",
       "      <td>HPO:iea[2009-02-17]</td>\n",
       "    </tr>\n",
       "    <tr>\n",
       "      <th>3034</th>\n",
       "      <td>OMIM:180849</td>\n",
       "      <td>RUBINSTEIN-TAYBI SYNDROME 1</td>\n",
       "      <td>NaN</td>\n",
       "      <td>HP:0010066</td>\n",
       "      <td>http://www.ncbi.nlm.nih.gov/books/NBK1526/;ISB...</td>\n",
       "      <td>PCS</td>\n",
       "      <td>NaN</td>\n",
       "      <td>NaN</td>\n",
       "      <td>NaN</td>\n",
       "      <td>NaN</td>\n",
       "      <td>P</td>\n",
       "      <td>HPO:iea[2012-04-24]</td>\n",
       "    </tr>\n",
       "    <tr>\n",
       "      <th>3036</th>\n",
       "      <td>OMIM:180849</td>\n",
       "      <td>RUBINSTEIN-TAYBI SYNDROME 1</td>\n",
       "      <td>NaN</td>\n",
       "      <td>HP:0001510</td>\n",
       "      <td>http://www.ncbi.nlm.nih.gov/books/NBK1526/;PMI...</td>\n",
       "      <td>PCS</td>\n",
       "      <td>NaN</td>\n",
       "      <td>NaN</td>\n",
       "      <td>NaN</td>\n",
       "      <td>NaN</td>\n",
       "      <td>P</td>\n",
       "      <td>HPO:iea[2009-02-17]</td>\n",
       "    </tr>\n",
       "    <tr>\n",
       "      <th>5095</th>\n",
       "      <td>DECIPHER:45</td>\n",
       "      <td>Xq28 (MECP2) duplication</td>\n",
       "      <td>NaN</td>\n",
       "      <td>HP:0010864</td>\n",
       "      <td>http://www.ncbi.nlm.nih.gov/bookshelf/br.fcgi?...</td>\n",
       "      <td>PCS</td>\n",
       "      <td>NaN</td>\n",
       "      <td>NaN</td>\n",
       "      <td>male</td>\n",
       "      <td>NaN</td>\n",
       "      <td>P</td>\n",
       "      <td>HPO:iea[2010-09-15]</td>\n",
       "    </tr>\n",
       "    <tr>\n",
       "      <th>24810</th>\n",
       "      <td>OMIM:274000</td>\n",
       "      <td>Thrombocytopenia-absent radius syndrome</td>\n",
       "      <td>NaN</td>\n",
       "      <td>HP:0006507</td>\n",
       "      <td>ISBN-13:978-3-7945-2657-4;http://www.ncbi.nlm....</td>\n",
       "      <td>TAS</td>\n",
       "      <td>NaN</td>\n",
       "      <td>50%</td>\n",
       "      <td>NaN</td>\n",
       "      <td>NaN</td>\n",
       "      <td>P</td>\n",
       "      <td>HPO:iea[2010-10-01]</td>\n",
       "    </tr>\n",
       "    <tr>\n",
       "      <th>24825</th>\n",
       "      <td>OMIM:274000</td>\n",
       "      <td>Thrombocytopenia-absent radius syndrome</td>\n",
       "      <td>NaN</td>\n",
       "      <td>HP:0003043</td>\n",
       "      <td>ISBN-13:978-3-7945-2657-4;http://www.ncbi.nlm....</td>\n",
       "      <td>TAS</td>\n",
       "      <td>NaN</td>\n",
       "      <td>HP:0040283</td>\n",
       "      <td>NaN</td>\n",
       "      <td>NaN</td>\n",
       "      <td>P</td>\n",
       "      <td>HPO:iea[2010-10-01]</td>\n",
       "    </tr>\n",
       "    <tr>\n",
       "      <th>24852</th>\n",
       "      <td>OMIM:274000</td>\n",
       "      <td>Thrombocytopenia-absent radius syndrome</td>\n",
       "      <td>NaN</td>\n",
       "      <td>HP:0009829</td>\n",
       "      <td>ISBN-13:978-3-7945-2657-4;http://www.ncbi.nlm....</td>\n",
       "      <td>TAS</td>\n",
       "      <td>NaN</td>\n",
       "      <td>HP:0040283</td>\n",
       "      <td>NaN</td>\n",
       "      <td>NaN</td>\n",
       "      <td>P</td>\n",
       "      <td>HPO:iea[2010-10-01]</td>\n",
       "    </tr>\n",
       "    <tr>\n",
       "      <th>40426</th>\n",
       "      <td>OMIM:270400</td>\n",
       "      <td>#270400 SMITH-LEMLI-OPITZ SYNDROME; SLOS;;SLO ...</td>\n",
       "      <td>NaN</td>\n",
       "      <td>HP:0010569</td>\n",
       "      <td>OMIM:270400;http://www.ncbi.nlm.nih.gov/booksh...</td>\n",
       "      <td>PCS</td>\n",
       "      <td>NaN</td>\n",
       "      <td>20/20</td>\n",
       "      <td>NaN</td>\n",
       "      <td>NaN</td>\n",
       "      <td>P</td>\n",
       "      <td>HPO:probinson[2013-08-11];HPO:skoehler[2012-10...</td>\n",
       "    </tr>\n",
       "    <tr>\n",
       "      <th>42003</th>\n",
       "      <td>OMIM:607872</td>\n",
       "      <td>CHROMOSOME 1p36 DELETION SYNDROME</td>\n",
       "      <td>NaN</td>\n",
       "      <td>HP:0000742</td>\n",
       "      <td>http://www.ncbi.nlm.nih.gov/books/NBK1191/;ISB...</td>\n",
       "      <td>PCS</td>\n",
       "      <td>NaN</td>\n",
       "      <td>NaN</td>\n",
       "      <td>NaN</td>\n",
       "      <td>NaN</td>\n",
       "      <td>P</td>\n",
       "      <td>HPO:iea[2012-04-24]</td>\n",
       "    </tr>\n",
       "    <tr>\n",
       "      <th>42037</th>\n",
       "      <td>OMIM:607872</td>\n",
       "      <td>CHROMOSOME 1p36 DELETION SYNDROME</td>\n",
       "      <td>NaN</td>\n",
       "      <td>HP:0030680</td>\n",
       "      <td>http://www.ncbi.nlm.nih.gov/books/NBK1191/;PMI...</td>\n",
       "      <td>PCS</td>\n",
       "      <td>NaN</td>\n",
       "      <td>NaN</td>\n",
       "      <td>NaN</td>\n",
       "      <td>NaN</td>\n",
       "      <td>P</td>\n",
       "      <td>HPO:iea[2012-04-24]</td>\n",
       "    </tr>\n",
       "    <tr>\n",
       "      <th>55502</th>\n",
       "      <td>OMIM:222448</td>\n",
       "      <td>DONNAI-BARROW SYNDROME</td>\n",
       "      <td>NaN</td>\n",
       "      <td>HP:0000455</td>\n",
       "      <td>http://www.ncbi.nlm.nih.gov/bookshelf/br.fcgi?...</td>\n",
       "      <td>PCS</td>\n",
       "      <td>NaN</td>\n",
       "      <td>HP:0040281</td>\n",
       "      <td>NaN</td>\n",
       "      <td>NaN</td>\n",
       "      <td>P</td>\n",
       "      <td>HPO:iea[2010-04-26]</td>\n",
       "    </tr>\n",
       "    <tr>\n",
       "      <th>55520</th>\n",
       "      <td>OMIM:222448</td>\n",
       "      <td>DONNAI-BARROW SYNDROME</td>\n",
       "      <td>NaN</td>\n",
       "      <td>HP:0000007</td>\n",
       "      <td>http://www.ncbi.nlm.nih.gov/bookshelf/br.fcgi?...</td>\n",
       "      <td>PCS</td>\n",
       "      <td>NaN</td>\n",
       "      <td>NaN</td>\n",
       "      <td>NaN</td>\n",
       "      <td>NaN</td>\n",
       "      <td>I</td>\n",
       "      <td>HPO:iea[2009-02-17]</td>\n",
       "    </tr>\n",
       "    <tr>\n",
       "      <th>64815</th>\n",
       "      <td>OMIM:194050</td>\n",
       "      <td>WILLIAMS-BEUREN SYNDROME</td>\n",
       "      <td>NaN</td>\n",
       "      <td>HP:0000343</td>\n",
       "      <td>http://www.ncbi.nlm.nih.gov/bookshelf/br.fcgi?...</td>\n",
       "      <td>PCS</td>\n",
       "      <td>NaN</td>\n",
       "      <td>10/20</td>\n",
       "      <td>NaN</td>\n",
       "      <td>NaN</td>\n",
       "      <td>P</td>\n",
       "      <td>HPO:iea[2010-04-29];HPO:iea[2010-05-03]</td>\n",
       "    </tr>\n",
       "    <tr>\n",
       "      <th>66104</th>\n",
       "      <td>OMIM:312080</td>\n",
       "      <td>PELIZAEUS-MERZBACHER DISEASE</td>\n",
       "      <td>NaN</td>\n",
       "      <td>HP:0100709</td>\n",
       "      <td>http://www.ncbi.nlm.nih.gov/books/NBK1182/;PMI...</td>\n",
       "      <td>PCS</td>\n",
       "      <td>NaN</td>\n",
       "      <td>HP:0040282</td>\n",
       "      <td>NaN</td>\n",
       "      <td>NaN</td>\n",
       "      <td>P</td>\n",
       "      <td>HPO:iea[2012-04-24]</td>\n",
       "    </tr>\n",
       "    <tr>\n",
       "      <th>73802</th>\n",
       "      <td>OMIM:127300</td>\n",
       "      <td>LERI-WEILL DYSCHONDROSTEOSIS</td>\n",
       "      <td>NaN</td>\n",
       "      <td>HP:0002762</td>\n",
       "      <td>PMID:11739418;http://www.ncbi.nlm.nih.gov/book...</td>\n",
       "      <td>PCS</td>\n",
       "      <td>NaN</td>\n",
       "      <td>NaN</td>\n",
       "      <td>NaN</td>\n",
       "      <td>NaN</td>\n",
       "      <td>P</td>\n",
       "      <td>HPO:iea[2010-08-13]</td>\n",
       "    </tr>\n",
       "    <tr>\n",
       "      <th>73807</th>\n",
       "      <td>OMIM:127300</td>\n",
       "      <td>LERI-WEILL DYSCHONDROSTEOSIS</td>\n",
       "      <td>NaN</td>\n",
       "      <td>HP:0000218</td>\n",
       "      <td>PMID:11739418;http://www.ncbi.nlm.nih.gov/book...</td>\n",
       "      <td>PCS</td>\n",
       "      <td>NaN</td>\n",
       "      <td>NaN</td>\n",
       "      <td>NaN</td>\n",
       "      <td>NaN</td>\n",
       "      <td>P</td>\n",
       "      <td>HPO:iea[2009-02-17]</td>\n",
       "    </tr>\n",
       "    <tr>\n",
       "      <th>73812</th>\n",
       "      <td>OMIM:127300</td>\n",
       "      <td>LERI-WEILL DYSCHONDROSTEOSIS</td>\n",
       "      <td>NaN</td>\n",
       "      <td>HP:0002650</td>\n",
       "      <td>PMID:11739418;http://www.ncbi.nlm.nih.gov/book...</td>\n",
       "      <td>PCS</td>\n",
       "      <td>NaN</td>\n",
       "      <td>NaN</td>\n",
       "      <td>NaN</td>\n",
       "      <td>NaN</td>\n",
       "      <td>P</td>\n",
       "      <td>HPO:iea[2009-02-17]</td>\n",
       "    </tr>\n",
       "    <tr>\n",
       "      <th>73935</th>\n",
       "      <td>OMIM:194072</td>\n",
       "      <td>WILMS TUMOR, ANIRIDIA, GENITOURINARY ANOMALIES...</td>\n",
       "      <td>NaN</td>\n",
       "      <td>HP:0001513</td>\n",
       "      <td>http://decipher.sanger.ac.uk/syndrome/35;OMIM:...</td>\n",
       "      <td>TAS</td>\n",
       "      <td>NaN</td>\n",
       "      <td>4/20</td>\n",
       "      <td>NaN</td>\n",
       "      <td>NaN</td>\n",
       "      <td>P</td>\n",
       "      <td>HPO:iea[2010-12-02];HPO:iea[2009-02-17]</td>\n",
       "    </tr>\n",
       "    <tr>\n",
       "      <th>75457</th>\n",
       "      <td>OMIM:109400</td>\n",
       "      <td>BASAL CELL NEVUS SYNDROME</td>\n",
       "      <td>NaN</td>\n",
       "      <td>HP:0002007</td>\n",
       "      <td>http://www.ncbi.nlm.nih.gov/bookshelf/br.fcgi?...</td>\n",
       "      <td>PCS</td>\n",
       "      <td>NaN</td>\n",
       "      <td>20/20</td>\n",
       "      <td>NaN</td>\n",
       "      <td>NaN</td>\n",
       "      <td>P</td>\n",
       "      <td>HPO:skoehler[2012-10-12];HPO:iea[2009-02-17]</td>\n",
       "    </tr>\n",
       "    <tr>\n",
       "      <th>102973</th>\n",
       "      <td>OMIM:182290</td>\n",
       "      <td>SMITH-MAGENIS SYNDROME SMITH-MAGENIS CHROMOSOM...</td>\n",
       "      <td>NaN</td>\n",
       "      <td>HP:0001609</td>\n",
       "      <td>http://www.ncbi.nlm.nih.gov/bookshelf/br.fcgi?...</td>\n",
       "      <td>PCS</td>\n",
       "      <td>NaN</td>\n",
       "      <td>67/82</td>\n",
       "      <td>NaN</td>\n",
       "      <td>NaN</td>\n",
       "      <td>P</td>\n",
       "      <td>HPO:iea[2009-02-17];HP:probinson[2019-06-12];H...</td>\n",
       "    </tr>\n",
       "    <tr>\n",
       "      <th>103957</th>\n",
       "      <td>OMIM:176270</td>\n",
       "      <td>PRADER-WILLI SYNDROME</td>\n",
       "      <td>NaN</td>\n",
       "      <td>HP:0000219</td>\n",
       "      <td>http://www.ncbi.nlm.nih.gov/bookshelf/br.fcgi?...</td>\n",
       "      <td>TAS</td>\n",
       "      <td>NaN</td>\n",
       "      <td>15/20</td>\n",
       "      <td>NaN</td>\n",
       "      <td>NaN</td>\n",
       "      <td>P</td>\n",
       "      <td>HPO:skoehler[2013-06-04];HPO:iea[2009-02-17]</td>\n",
       "    </tr>\n",
       "    <tr>\n",
       "      <th>110460</th>\n",
       "      <td>OMIM:194190</td>\n",
       "      <td>WOLF-HIRSCHHORN SYNDROME</td>\n",
       "      <td>NaN</td>\n",
       "      <td>HP:0004322</td>\n",
       "      <td>http://www.ncbi.nlm.nih.gov/bookshelf/br.fcgi?...</td>\n",
       "      <td>TAS</td>\n",
       "      <td>NaN</td>\n",
       "      <td>HP:0040282</td>\n",
       "      <td>NaN</td>\n",
       "      <td>NaN</td>\n",
       "      <td>P</td>\n",
       "      <td>HPO:iea[2010-09-10]</td>\n",
       "    </tr>\n",
       "    <tr>\n",
       "      <th>110509</th>\n",
       "      <td>OMIM:194190</td>\n",
       "      <td>WOLF-HIRSCHHORN SYNDROME</td>\n",
       "      <td>NaN</td>\n",
       "      <td>HP:0001508</td>\n",
       "      <td>http://www.ncbi.nlm.nih.gov/bookshelf/br.fcgi?...</td>\n",
       "      <td>TAS</td>\n",
       "      <td>NaN</td>\n",
       "      <td>HP:0040282</td>\n",
       "      <td>NaN</td>\n",
       "      <td>NaN</td>\n",
       "      <td>P</td>\n",
       "      <td>HPO:iea[2009-02-17]</td>\n",
       "    </tr>\n",
       "    <tr>\n",
       "      <th>110539</th>\n",
       "      <td>OMIM:194190</td>\n",
       "      <td>WOLF-HIRSCHHORN SYNDROME</td>\n",
       "      <td>NaN</td>\n",
       "      <td>HP:0001511</td>\n",
       "      <td>http://www.ncbi.nlm.nih.gov/bookshelf/br.fcgi?...</td>\n",
       "      <td>TAS</td>\n",
       "      <td>NaN</td>\n",
       "      <td>HP:0040281</td>\n",
       "      <td>NaN</td>\n",
       "      <td>NaN</td>\n",
       "      <td>P</td>\n",
       "      <td>HPO:iea[2010-09-10]</td>\n",
       "    </tr>\n",
       "    <tr>\n",
       "      <th>110541</th>\n",
       "      <td>OMIM:194190</td>\n",
       "      <td>WOLF-HIRSCHHORN SYNDROME</td>\n",
       "      <td>NaN</td>\n",
       "      <td>HP:0001510</td>\n",
       "      <td>http://www.ncbi.nlm.nih.gov/bookshelf/br.fcgi?...</td>\n",
       "      <td>TAS</td>\n",
       "      <td>NaN</td>\n",
       "      <td>HP:0040281</td>\n",
       "      <td>NaN</td>\n",
       "      <td>NaN</td>\n",
       "      <td>P</td>\n",
       "      <td>HPO:iea[2010-09-10]</td>\n",
       "    </tr>\n",
       "  </tbody>\n",
       "</table>\n",
       "</div>"
      ],
      "text/plain": [
       "         DatabaseID                                        DiseaseName  \\\n",
       "2220    OMIM:252100  MOHR SYNDROME OFDS II ORAL-FACIAL-DIGITAL SYND...   \n",
       "2221    OMIM:252100  MOHR SYNDROME OFDS II ORAL-FACIAL-DIGITAL SYND...   \n",
       "2230    OMIM:252100  MOHR SYNDROME OFDS II ORAL-FACIAL-DIGITAL SYND...   \n",
       "2231    OMIM:252100  MOHR SYNDROME OFDS II ORAL-FACIAL-DIGITAL SYND...   \n",
       "2235    OMIM:252100  MOHR SYNDROME OFDS II ORAL-FACIAL-DIGITAL SYND...   \n",
       "2237    OMIM:252100  MOHR SYNDROME OFDS II ORAL-FACIAL-DIGITAL SYND...   \n",
       "2248    OMIM:252100  MOHR SYNDROME OFDS II ORAL-FACIAL-DIGITAL SYND...   \n",
       "2251    OMIM:252100  MOHR SYNDROME OFDS II ORAL-FACIAL-DIGITAL SYND...   \n",
       "2941    OMIM:180849                        RUBINSTEIN-TAYBI SYNDROME 1   \n",
       "2952    OMIM:180849                        RUBINSTEIN-TAYBI SYNDROME 1   \n",
       "2954    OMIM:180849                        RUBINSTEIN-TAYBI SYNDROME 1   \n",
       "2955    OMIM:180849                        RUBINSTEIN-TAYBI SYNDROME 1   \n",
       "2963    OMIM:180849                        RUBINSTEIN-TAYBI SYNDROME 1   \n",
       "2994    OMIM:180849                        RUBINSTEIN-TAYBI SYNDROME 1   \n",
       "2995    OMIM:180849                        RUBINSTEIN-TAYBI SYNDROME 1   \n",
       "3018    OMIM:180849                        RUBINSTEIN-TAYBI SYNDROME 1   \n",
       "3020    OMIM:180849                        RUBINSTEIN-TAYBI SYNDROME 1   \n",
       "3022    OMIM:180849                        RUBINSTEIN-TAYBI SYNDROME 1   \n",
       "3034    OMIM:180849                        RUBINSTEIN-TAYBI SYNDROME 1   \n",
       "3036    OMIM:180849                        RUBINSTEIN-TAYBI SYNDROME 1   \n",
       "5095    DECIPHER:45                           Xq28 (MECP2) duplication   \n",
       "24810   OMIM:274000            Thrombocytopenia-absent radius syndrome   \n",
       "24825   OMIM:274000            Thrombocytopenia-absent radius syndrome   \n",
       "24852   OMIM:274000            Thrombocytopenia-absent radius syndrome   \n",
       "40426   OMIM:270400  #270400 SMITH-LEMLI-OPITZ SYNDROME; SLOS;;SLO ...   \n",
       "42003   OMIM:607872                  CHROMOSOME 1p36 DELETION SYNDROME   \n",
       "42037   OMIM:607872                  CHROMOSOME 1p36 DELETION SYNDROME   \n",
       "55502   OMIM:222448                             DONNAI-BARROW SYNDROME   \n",
       "55520   OMIM:222448                             DONNAI-BARROW SYNDROME   \n",
       "64815   OMIM:194050                           WILLIAMS-BEUREN SYNDROME   \n",
       "66104   OMIM:312080                       PELIZAEUS-MERZBACHER DISEASE   \n",
       "73802   OMIM:127300                       LERI-WEILL DYSCHONDROSTEOSIS   \n",
       "73807   OMIM:127300                       LERI-WEILL DYSCHONDROSTEOSIS   \n",
       "73812   OMIM:127300                       LERI-WEILL DYSCHONDROSTEOSIS   \n",
       "73935   OMIM:194072  WILMS TUMOR, ANIRIDIA, GENITOURINARY ANOMALIES...   \n",
       "75457   OMIM:109400                          BASAL CELL NEVUS SYNDROME   \n",
       "102973  OMIM:182290  SMITH-MAGENIS SYNDROME SMITH-MAGENIS CHROMOSOM...   \n",
       "103957  OMIM:176270                              PRADER-WILLI SYNDROME   \n",
       "110460  OMIM:194190                           WOLF-HIRSCHHORN SYNDROME   \n",
       "110509  OMIM:194190                           WOLF-HIRSCHHORN SYNDROME   \n",
       "110539  OMIM:194190                           WOLF-HIRSCHHORN SYNDROME   \n",
       "110541  OMIM:194190                           WOLF-HIRSCHHORN SYNDROME   \n",
       "\n",
       "       Qualifier      HPO_ID  \\\n",
       "2220         NaN  HP:0001156   \n",
       "2221         NaN  HP:0000161   \n",
       "2230         NaN  HP:0001841   \n",
       "2231         NaN  HP:0000456   \n",
       "2235         NaN  HP:0000199   \n",
       "2237         NaN  HP:0001162   \n",
       "2248         NaN  HP:0004209   \n",
       "2251         NaN  HP:0001830   \n",
       "2941         NaN  HP:0002788   \n",
       "2952         NaN  HP:0008872   \n",
       "2954         NaN  HP:0002999   \n",
       "2955         NaN  HP:0000218   \n",
       "2963         NaN  HP:0002098   \n",
       "2994         NaN  HP:0001249   \n",
       "2995         NaN  HP:0005743   \n",
       "3018         NaN  HP:0000419   \n",
       "3020         NaN  HP:0000539   \n",
       "3022         NaN  HP:0009765   \n",
       "3034         NaN  HP:0010066   \n",
       "3036         NaN  HP:0001510   \n",
       "5095         NaN  HP:0010864   \n",
       "24810        NaN  HP:0006507   \n",
       "24825        NaN  HP:0003043   \n",
       "24852        NaN  HP:0009829   \n",
       "40426        NaN  HP:0010569   \n",
       "42003        NaN  HP:0000742   \n",
       "42037        NaN  HP:0030680   \n",
       "55502        NaN  HP:0000455   \n",
       "55520        NaN  HP:0000007   \n",
       "64815        NaN  HP:0000343   \n",
       "66104        NaN  HP:0100709   \n",
       "73802        NaN  HP:0002762   \n",
       "73807        NaN  HP:0000218   \n",
       "73812        NaN  HP:0002650   \n",
       "73935        NaN  HP:0001513   \n",
       "75457        NaN  HP:0002007   \n",
       "102973       NaN  HP:0001609   \n",
       "103957       NaN  HP:0000219   \n",
       "110460       NaN  HP:0004322   \n",
       "110509       NaN  HP:0001508   \n",
       "110539       NaN  HP:0001511   \n",
       "110541       NaN  HP:0001510   \n",
       "\n",
       "                                                Reference Evidence  \\\n",
       "2220    http://www.ncbi.nlm.nih.gov/bookshelf/br.fcgi?...      PCS   \n",
       "2221    http://www.ncbi.nlm.nih.gov/bookshelf/br.fcgi?...      PCS   \n",
       "2230    http://www.ncbi.nlm.nih.gov/bookshelf/br.fcgi?...      PCS   \n",
       "2231    http://www.ncbi.nlm.nih.gov/bookshelf/br.fcgi?...      PCS   \n",
       "2235    http://www.ncbi.nlm.nih.gov/bookshelf/br.fcgi?...      PCS   \n",
       "2237    http://www.ncbi.nlm.nih.gov/bookshelf/br.fcgi?...      PCS   \n",
       "2248    http://www.ncbi.nlm.nih.gov/bookshelf/br.fcgi?...      PCS   \n",
       "2251    http://www.ncbi.nlm.nih.gov/bookshelf/br.fcgi?...      PCS   \n",
       "2941    http://www.ncbi.nlm.nih.gov/books/NBK1526/;PMI...      PCS   \n",
       "2952    http://www.ncbi.nlm.nih.gov/books/NBK1526/;PMI...      PCS   \n",
       "2954    http://www.ncbi.nlm.nih.gov/books/NBK1526/;ISB...      PCS   \n",
       "2955    http://www.ncbi.nlm.nih.gov/books/NBK1526/;ISB...      PCS   \n",
       "2963    http://www.ncbi.nlm.nih.gov/books/NBK1526/;PMI...      PCS   \n",
       "2994    http://www.ncbi.nlm.nih.gov/books/NBK1526/;ISB...      PCS   \n",
       "2995    http://www.ncbi.nlm.nih.gov/books/NBK1526/;ISB...      PCS   \n",
       "3018    http://www.ncbi.nlm.nih.gov/books/NBK1526/;ISB...      PCS   \n",
       "3020    http://www.ncbi.nlm.nih.gov/books/NBK1526/;ISB...      PCS   \n",
       "3022    http://www.ncbi.nlm.nih.gov/books/NBK1526/;ISB...      PCS   \n",
       "3034    http://www.ncbi.nlm.nih.gov/books/NBK1526/;ISB...      PCS   \n",
       "3036    http://www.ncbi.nlm.nih.gov/books/NBK1526/;PMI...      PCS   \n",
       "5095    http://www.ncbi.nlm.nih.gov/bookshelf/br.fcgi?...      PCS   \n",
       "24810   ISBN-13:978-3-7945-2657-4;http://www.ncbi.nlm....      TAS   \n",
       "24825   ISBN-13:978-3-7945-2657-4;http://www.ncbi.nlm....      TAS   \n",
       "24852   ISBN-13:978-3-7945-2657-4;http://www.ncbi.nlm....      TAS   \n",
       "40426   OMIM:270400;http://www.ncbi.nlm.nih.gov/booksh...      PCS   \n",
       "42003   http://www.ncbi.nlm.nih.gov/books/NBK1191/;ISB...      PCS   \n",
       "42037   http://www.ncbi.nlm.nih.gov/books/NBK1191/;PMI...      PCS   \n",
       "55502   http://www.ncbi.nlm.nih.gov/bookshelf/br.fcgi?...      PCS   \n",
       "55520   http://www.ncbi.nlm.nih.gov/bookshelf/br.fcgi?...      PCS   \n",
       "64815   http://www.ncbi.nlm.nih.gov/bookshelf/br.fcgi?...      PCS   \n",
       "66104   http://www.ncbi.nlm.nih.gov/books/NBK1182/;PMI...      PCS   \n",
       "73802   PMID:11739418;http://www.ncbi.nlm.nih.gov/book...      PCS   \n",
       "73807   PMID:11739418;http://www.ncbi.nlm.nih.gov/book...      PCS   \n",
       "73812   PMID:11739418;http://www.ncbi.nlm.nih.gov/book...      PCS   \n",
       "73935   http://decipher.sanger.ac.uk/syndrome/35;OMIM:...      TAS   \n",
       "75457   http://www.ncbi.nlm.nih.gov/bookshelf/br.fcgi?...      PCS   \n",
       "102973  http://www.ncbi.nlm.nih.gov/bookshelf/br.fcgi?...      PCS   \n",
       "103957  http://www.ncbi.nlm.nih.gov/bookshelf/br.fcgi?...      TAS   \n",
       "110460  http://www.ncbi.nlm.nih.gov/bookshelf/br.fcgi?...      TAS   \n",
       "110509  http://www.ncbi.nlm.nih.gov/bookshelf/br.fcgi?...      TAS   \n",
       "110539  http://www.ncbi.nlm.nih.gov/bookshelf/br.fcgi?...      TAS   \n",
       "110541  http://www.ncbi.nlm.nih.gov/bookshelf/br.fcgi?...      TAS   \n",
       "\n",
       "             Onset   Frequency   Sex Modifier Aspect  \\\n",
       "2220           NaN  HP:0040282   NaN      NaN      P   \n",
       "2221           NaN  HP:0040282   NaN      NaN      P   \n",
       "2230           NaN  HP:0040282   NaN      NaN      P   \n",
       "2231           NaN  HP:0040282   NaN      NaN      P   \n",
       "2235           NaN  HP:0040282   NaN      NaN      P   \n",
       "2237           NaN  HP:0040282   NaN      NaN      P   \n",
       "2248           NaN  HP:0040282   NaN      NaN      P   \n",
       "2251           NaN  HP:0040282   NaN      NaN      P   \n",
       "2941    HP:0003593         NaN   NaN      NaN      P   \n",
       "2952           NaN         NaN   NaN      NaN      P   \n",
       "2954           NaN         NaN   NaN      NaN      P   \n",
       "2955           NaN         NaN   NaN      NaN      P   \n",
       "2963    HP:0003623         NaN   NaN      NaN      P   \n",
       "2994           NaN         NaN   NaN      NaN      P   \n",
       "2995           NaN         NaN   NaN      NaN      P   \n",
       "3018           NaN         NaN   NaN      NaN      P   \n",
       "3020           NaN         NaN   NaN      NaN      P   \n",
       "3022           NaN         NaN   NaN      NaN      P   \n",
       "3034           NaN         NaN   NaN      NaN      P   \n",
       "3036           NaN         NaN   NaN      NaN      P   \n",
       "5095           NaN         NaN  male      NaN      P   \n",
       "24810          NaN         50%   NaN      NaN      P   \n",
       "24825          NaN  HP:0040283   NaN      NaN      P   \n",
       "24852          NaN  HP:0040283   NaN      NaN      P   \n",
       "40426          NaN       20/20   NaN      NaN      P   \n",
       "42003          NaN         NaN   NaN      NaN      P   \n",
       "42037          NaN         NaN   NaN      NaN      P   \n",
       "55502          NaN  HP:0040281   NaN      NaN      P   \n",
       "55520          NaN         NaN   NaN      NaN      I   \n",
       "64815          NaN       10/20   NaN      NaN      P   \n",
       "66104          NaN  HP:0040282   NaN      NaN      P   \n",
       "73802          NaN         NaN   NaN      NaN      P   \n",
       "73807          NaN         NaN   NaN      NaN      P   \n",
       "73812          NaN         NaN   NaN      NaN      P   \n",
       "73935          NaN        4/20   NaN      NaN      P   \n",
       "75457          NaN       20/20   NaN      NaN      P   \n",
       "102973         NaN       67/82   NaN      NaN      P   \n",
       "103957         NaN       15/20   NaN      NaN      P   \n",
       "110460         NaN  HP:0040282   NaN      NaN      P   \n",
       "110509         NaN  HP:0040282   NaN      NaN      P   \n",
       "110539         NaN  HP:0040281   NaN      NaN      P   \n",
       "110541         NaN  HP:0040281   NaN      NaN      P   \n",
       "\n",
       "                                              Biocuration  \n",
       "2220                                  HPO:iea[2010-01-19]  \n",
       "2221                                  HPO:iea[2009-02-17]  \n",
       "2230                                  HPO:iea[2010-01-19]  \n",
       "2231                                  HPO:iea[2009-02-17]  \n",
       "2235                                  HPO:iea[2009-02-17]  \n",
       "2237                                  HPO:iea[2010-01-19]  \n",
       "2248                                  HPO:iea[2010-01-19]  \n",
       "2251                                  HPO:iea[2010-01-19]  \n",
       "2941                                  HPO:iea[2012-04-24]  \n",
       "2952                                  HPO:iea[2012-04-24]  \n",
       "2954                                  HPO:iea[2009-02-17]  \n",
       "2955                                  HPO:iea[2009-02-17]  \n",
       "2963                                  HPO:iea[2012-04-24]  \n",
       "2994                                  HPO:iea[2009-02-17]  \n",
       "2995                                  HPO:iea[2012-04-24]  \n",
       "3018                                  HPO:iea[2012-04-24]  \n",
       "3020                                  HPO:iea[2012-04-24]  \n",
       "3022                                  HPO:iea[2009-02-17]  \n",
       "3034                                  HPO:iea[2012-04-24]  \n",
       "3036                                  HPO:iea[2009-02-17]  \n",
       "5095                                  HPO:iea[2010-09-15]  \n",
       "24810                                 HPO:iea[2010-10-01]  \n",
       "24825                                 HPO:iea[2010-10-01]  \n",
       "24852                                 HPO:iea[2010-10-01]  \n",
       "40426   HPO:probinson[2013-08-11];HPO:skoehler[2012-10...  \n",
       "42003                                 HPO:iea[2012-04-24]  \n",
       "42037                                 HPO:iea[2012-04-24]  \n",
       "55502                                 HPO:iea[2010-04-26]  \n",
       "55520                                 HPO:iea[2009-02-17]  \n",
       "64815             HPO:iea[2010-04-29];HPO:iea[2010-05-03]  \n",
       "66104                                 HPO:iea[2012-04-24]  \n",
       "73802                                 HPO:iea[2010-08-13]  \n",
       "73807                                 HPO:iea[2009-02-17]  \n",
       "73812                                 HPO:iea[2009-02-17]  \n",
       "73935             HPO:iea[2010-12-02];HPO:iea[2009-02-17]  \n",
       "75457        HPO:skoehler[2012-10-12];HPO:iea[2009-02-17]  \n",
       "102973  HPO:iea[2009-02-17];HP:probinson[2019-06-12];H...  \n",
       "103957       HPO:skoehler[2013-06-04];HPO:iea[2009-02-17]  \n",
       "110460                                HPO:iea[2010-09-10]  \n",
       "110509                                HPO:iea[2009-02-17]  \n",
       "110539                                HPO:iea[2010-09-10]  \n",
       "110541                                HPO:iea[2010-09-10]  "
      ]
     },
     "execution_count": 17,
     "metadata": {},
     "output_type": "execute_result"
    }
   ],
   "source": [
    "hpoa[(hpoa.Reference.str.contains('http')) &\n",
    "     (hpoa.Reference.str.contains(';'))]"
   ]
  },
  {
   "cell_type": "code",
   "execution_count": null,
   "metadata": {
    "ExecuteTime": {
     "end_time": "2021-02-09T20:01:14.800504Z",
     "start_time": "2021-02-09T20:01:14.685004Z"
    }
   },
   "outputs": [],
   "source": [
    "hpoa[hpoa.Reference.str.contains('ISBN-10')]\n"
   ]
  },
  {
   "cell_type": "markdown",
   "metadata": {},
   "source": [
    "### Parsing to separate"
   ]
  },
  {
   "cell_type": "markdown",
   "metadata": {},
   "source": [
    "Creating new columns for reference information:\n",
    "- ISBN (includes ISBN, ISBN-10, ISBN-13)\n",
    "- PMID \n",
    "- one column of websites, including....\n",
    "  - http, https (keep URLs)\n",
    "  - OMIM, DECIPHER (construct URLs, then keep all together)\n",
    "  - ORPHA (just give URL to search for disease, can't direct link to disease...)"
   ]
  },
  {
   "cell_type": "code",
   "execution_count": null,
   "metadata": {
    "ExecuteTime": {
     "end_time": "2021-02-10T05:10:29.221074Z",
     "start_time": "2021-02-10T05:10:28.110541Z"
    }
   },
   "outputs": [],
   "source": [
    "references = hpoa.Reference.str.split(';')\n",
    "\n",
    "listISBN = []\n",
    "listPMID = []\n",
    "listWebsites = []\n",
    "\n",
    "for entry in references:   \n",
    "    tempISBN = []\n",
    "    tempPMID = []\n",
    "    tempWebsites = []\n",
    "    for i in entry:\n",
    "        if 'ISBN' in i:\n",
    "            ## just substring for the rest\n",
    "            tempISBN.append(i.split(\":\")[1])\n",
    "        elif 'PMID:' in i:\n",
    "            ## just substring for the rest\n",
    "            tempPMID.append(i[5:])     \n",
    "        elif 'http' in i:\n",
    "        ## add http or https stuff straight to websites\n",
    "            tempWebsites.append(i)\n",
    "        ## generate website urls\n",
    "        elif 'DECIPHER:' in i:\n",
    "            tempWebsites.append('https://decipher.sanger.ac.uk/syndrome/{0}/overview'.format(i[9:]))\n",
    "        elif 'OMIM:' in i:\n",
    "            tempWebsites.append('https://www.omim.org/entry/' + i[5:])  \n",
    "        elif 'ORPHA:' in i:\n",
    "            tempWebsites.append('https://www.orpha.net/consor/cgi-bin/OC_Exp.php?lng=EN&Expert=' + i[6:])    \n",
    "        else:\n",
    "            print(\"encountered unexpected reference, please check parsing:\\n{0}\".format(i))\n",
    "    \n",
    "    if not tempISBN: ## is empty\n",
    "        listISBN.append(None)\n",
    "    else:\n",
    "        ## remove duplicates\n",
    "        tempISBN = list(set(tempISBN))\n",
    "        listISBN.append(tempISBN)   \n",
    "        \n",
    "    if not tempPMID: ## is empty\n",
    "        listPMID.append(None)\n",
    "    else:\n",
    "        ## remove duplicates\n",
    "        tempPMID = list(set(tempPMID))\n",
    "        listPMID.append(tempPMID)   \n",
    "        \n",
    "    if not tempWebsites: ## is empty\n",
    "        listWebsites.append(None)\n",
    "    else:\n",
    "        ## remove duplicates\n",
    "        tempWebsites = list(set(tempWebsites))\n",
    "        listWebsites.append(tempWebsites)          "
   ]
  },
  {
   "cell_type": "code",
   "execution_count": null,
   "metadata": {
    "ExecuteTime": {
     "end_time": "2021-02-10T05:10:30.062232Z",
     "start_time": "2021-02-10T05:10:29.926707Z"
    }
   },
   "outputs": [],
   "source": [
    "## create new columns\n",
    "hpoa = hpoa.assign(isbn = listISBN,\n",
    "                   pmid = listPMID, websites = listWebsites)"
   ]
  },
  {
   "cell_type": "code",
   "execution_count": null,
   "metadata": {
    "ExecuteTime": {
     "end_time": "2021-02-10T05:39:24.944280Z",
     "start_time": "2021-02-10T05:39:24.908609Z"
    }
   },
   "outputs": [],
   "source": [
    "hpoa[hpoa['DatabaseID'] == 'ORPHA:10']"
   ]
  },
  {
   "cell_type": "markdown",
   "metadata": {
    "heading_collapsed": true
   },
   "source": [
    "## no change in parser: Evidence"
   ]
  },
  {
   "cell_type": "markdown",
   "metadata": {
    "hidden": true
   },
   "source": [
    "I think this can be treated as a categorical variable\n",
    "\n",
    "Every row has one value, either IEA, PCS, or TAS.  \n",
    "I don't think I can use this for provenance easily though, since...\n",
    "* sometimes Evidence says IEA but Biocuration has a person's ID\n",
    "* sometimes Evidence isn't IEA but Biocuration says iea "
   ]
  },
  {
   "cell_type": "code",
   "execution_count": null,
   "metadata": {
    "ExecuteTime": {
     "end_time": "2020-12-31T01:14:54.363529Z",
     "start_time": "2020-12-31T01:14:54.328431Z"
    },
    "hidden": true
   },
   "outputs": [],
   "source": [
    "hpoa.Evidence.value_counts()\n",
    "hpoa.Evidence.count()"
   ]
  },
  {
   "cell_type": "code",
   "execution_count": null,
   "metadata": {
    "ExecuteTime": {
     "end_time": "2020-12-31T01:14:54.706249Z",
     "start_time": "2020-12-31T01:14:54.365213Z"
    },
    "hidden": true
   },
   "outputs": [],
   "source": [
    "## showing that evidence is IEA but Biocuration isn't: happens for ~2/5 of the IEA entries\n",
    "hpoa[(hpoa['Evidence'] == 'IEA') &\n",
    "     (~ hpoa['Biocuration'].str.contains('iea'))].shape\n",
    "hpoa[(hpoa['Evidence'] == 'IEA') &\n",
    "     (~ hpoa['Biocuration'].str.contains('iea'))].head()"
   ]
  },
  {
   "cell_type": "code",
   "execution_count": null,
   "metadata": {
    "ExecuteTime": {
     "end_time": "2020-12-31T01:14:54.948586Z",
     "start_time": "2020-12-31T01:14:54.708213Z"
    },
    "hidden": true
   },
   "outputs": [],
   "source": [
    "## showing that evidence isn't but Biocuration is (a small percentage of the rows)\n",
    "4383/(142433+19903)\n",
    "hpoa[(hpoa['Evidence'] != 'IEA') &\n",
    "     (hpoa['Biocuration'].str.contains('iea'))].shape\n",
    "hpoa[(hpoa['Evidence'] != 'IEA') &\n",
    "     (hpoa['Biocuration'].str.contains('iea'))].head()"
   ]
  },
  {
   "cell_type": "markdown",
   "metadata": {
    "heading_collapsed": true
   },
   "source": [
    "## no change in parser: Onset"
   ]
  },
  {
   "cell_type": "markdown",
   "metadata": {
    "hidden": true
   },
   "source": [
    "* very few rows (<1%) have this information\n",
    "* currently each row has only one value (no \";\" delimiter) but I dunno if this will change\n",
    "* All rows with this info are \"disease has phenotypic abnormality\" rows (Aspect = P)\n",
    "* I think this can be a categorical variable on the Disease - PhenotypicFeature edge. \n",
    "* There may be a rough chronological order to the terms (for listing possible values)\n",
    "* likely use comments to make these terms actually understandable"
   ]
  },
  {
   "cell_type": "code",
   "execution_count": null,
   "metadata": {
    "ExecuteTime": {
     "end_time": "2021-02-10T07:23:32.687943Z",
     "start_time": "2021-02-10T07:23:32.635324Z"
    },
    "hidden": true
   },
   "outputs": [],
   "source": [
    "hpoa.dropna(subset = ['Onset']).Aspect.value_counts()\n",
    "hpoa.Onset.count()\n",
    "1651/214124\n",
    "hpoa.Onset.nunique()\n",
    "hpoa.Onset.value_counts()"
   ]
  },
  {
   "cell_type": "code",
   "execution_count": null,
   "metadata": {
    "ExecuteTime": {
     "end_time": "2021-02-10T08:23:15.976703Z",
     "start_time": "2021-02-10T08:23:15.910001Z"
    },
    "hidden": true
   },
   "outputs": [],
   "source": [
    "## this is a weird annotation since this term just means \"Onset\"\n",
    "## currently it is shown on the website this way though https://hpo.jax.org/app/browse/disease/OMIM:222448\n",
    "hpoa[hpoa.Onset == \"HP:0003674\"]"
   ]
  },
  {
   "cell_type": "markdown",
   "metadata": {
    "heading_collapsed": true
   },
   "source": [
    "## modified parser: Frequency"
   ]
  },
  {
   "cell_type": "markdown",
   "metadata": {
    "hidden": true
   },
   "source": [
    "### Intro"
   ]
  },
  {
   "cell_type": "markdown",
   "metadata": {
    "hidden": true
   },
   "source": [
    "This column is tricky because there are multiple kinds of values. Currently only one value per row (no \";\" delimitor) \n",
    "- some are fractions: could convert to decimal, but keeping numerator and denominator could give prevalence info (although the denominator is tricky to describe since it's people with the disease only; the other two are prevalence/specificity of phenotype for the disease). \n",
    "- one of the fractions is '0/0'. Please be careful with this\n",
    "- some are percentages: these could convert to decimal easily\n",
    "- some are HP terms: these are a categorical variable...\n",
    "\n",
    "Extra trickiness: apparently other kinds of disease annotations (course, inheritance, modifier) also have frequency..."
   ]
  },
  {
   "cell_type": "code",
   "execution_count": null,
   "metadata": {
    "ExecuteTime": {
     "end_time": "2021-02-10T07:35:17.340620Z",
     "start_time": "2021-02-10T07:35:16.945969Z"
    },
    "hidden": true
   },
   "outputs": [],
   "source": [
    "hpoa[~ hpoa['Frequency'].isna()].Aspect.value_counts()\n",
    "hpoa.Frequency.count()\n",
    "123155 / 216197\n",
    "hpoa.Frequency.str.contains(\";\").value_counts()\n",
    "hpoa.Frequency.str.contains(\"/\").value_counts()\n",
    "hpoa.Frequency.str.contains(\"%\").value_counts()\n",
    "hpoa.Frequency.str.contains(\"HP:\").value_counts()\n",
    "13677+306+109172 == 123155"
   ]
  },
  {
   "cell_type": "markdown",
   "metadata": {
    "hidden": true
   },
   "source": [
    "### Some EDA"
   ]
  },
  {
   "cell_type": "markdown",
   "metadata": {
    "hidden": true
   },
   "source": [
    "note that some frequency terms are 1 since the fraction is 1/1"
   ]
  },
  {
   "cell_type": "code",
   "execution_count": null,
   "metadata": {
    "ExecuteTime": {
     "end_time": "2021-02-10T07:35:32.090443Z",
     "start_time": "2021-02-10T07:35:32.066170Z"
    },
    "hidden": true
   },
   "outputs": [],
   "source": [
    "hpoa[hpoa['Frequency'].isna()].Frequency"
   ]
  },
  {
   "cell_type": "markdown",
   "metadata": {
    "hidden": true
   },
   "source": [
    "### Parsing to separate"
   ]
  },
  {
   "cell_type": "markdown",
   "metadata": {
    "hidden": true
   },
   "source": [
    "Code below makes 4 columns: categorical frequency (for HP terms), numeric frequency (for percentages and fractions), numerator and denominator (for fractions). \n",
    "\n",
    "categorical frequency ends up with 5 diff HP terms. "
   ]
  },
  {
   "cell_type": "code",
   "execution_count": null,
   "metadata": {
    "ExecuteTime": {
     "end_time": "2020-12-31T01:14:56.105769Z",
     "start_time": "2020-12-31T01:14:55.485531Z"
    },
    "hidden": true
   },
   "outputs": [],
   "source": [
    "for i in hpoa.Frequency.astype(str):\n",
    "    ## since only one value in each row\n",
    "    if i == 'nan':\n",
    "        categoryFreq.append(None)\n",
    "        numericFreq.append(None)\n",
    "        numerator.append(None)\n",
    "        denominator.append(None)        \n",
    "    elif 'HP:' in i:\n",
    "        categoryFreq.append(i)\n",
    "        numericFreq.append(None)\n",
    "        numerator.append(None)\n",
    "        denominator.append(None)\n",
    "    elif '%' in i:\n",
    "        tempN = float(i.strip('%')) / 100.0\n",
    "        numericFreq.append(tempN)\n",
    "        categoryFreq.append(None)\n",
    "        numerator.append(None)\n",
    "        denominator.append(None)\n",
    "    elif '/' in i:\n",
    "        tempL = [int(ele) for ele in i.split(\"/\")]\n",
    "        ## if numerator or denominator is 0, since that happened\n",
    "        ## if numerator > denominator, since that happened too\n",
    "        if (tempL[1] == 0) or (tempL[0] == 0) or (tempL[0] > tempL[1]):\n",
    "            ## current decision is to leave it blank\n",
    "            numericFreq.append(None)\n",
    "            categoryFreq.append(None)\n",
    "            numerator.append(None)\n",
    "            denominator.append(None)    \n",
    "        else:\n",
    "            numerator.append(int(tempL[0]))\n",
    "            denominator.append(int(tempL[1]))       \n",
    "            numericFreq.append(eval(i))\n",
    "            categoryFreq.append(None)        \n",
    "    else:\n",
    "        print(\"encountered unexpected format, please check parsing:\\n{0}\".format(i))"
   ]
  },
  {
   "cell_type": "code",
   "execution_count": null,
   "metadata": {
    "ExecuteTime": {
     "end_time": "2020-12-31T01:14:56.191655Z",
     "start_time": "2020-12-31T01:14:56.107684Z"
    },
    "hidden": true
   },
   "outputs": [],
   "source": [
    "## create new columns\n",
    "hpoa = hpoa.assign(FreqCategories = categoryFreq, NumericFreq = numericFreq, FreqNumerator = numerator,\n",
    "                   FreqDenominator = denominator)"
   ]
  },
  {
   "cell_type": "code",
   "execution_count": null,
   "metadata": {
    "ExecuteTime": {
     "end_time": "2020-12-31T01:14:56.257751Z",
     "start_time": "2020-12-31T01:14:56.193543Z"
    },
    "hidden": true
   },
   "outputs": [],
   "source": [
    "hpoa.FreqCategories.value_counts()\n",
    "hpoa.NumericFreq.describe()\n",
    "hpoa.FreqNumerator.describe()\n",
    "hpoa.FreqDenominator.describe()"
   ]
  },
  {
   "cell_type": "code",
   "execution_count": null,
   "metadata": {
    "ExecuteTime": {
     "end_time": "2020-12-31T01:14:56.386508Z",
     "start_time": "2020-12-31T01:14:56.259631Z"
    },
    "hidden": true
   },
   "outputs": [],
   "source": [
    "## wow some big numbers\n",
    "hpoa[hpoa.FreqNumerator > 300]"
   ]
  },
  {
   "cell_type": "markdown",
   "metadata": {
    "heading_collapsed": true
   },
   "source": [
    "## modified parser: Sex"
   ]
  },
  {
   "cell_type": "markdown",
   "metadata": {
    "hidden": true
   },
   "source": [
    "currently dealt with for aspect \"P\" annotations -> made them all lowercase\n",
    "\n",
    "so it's super rare to have this field. Extra trickiness: apparently other kinds of disease annotations (course, inheritance, modifier) also have sex...    \n",
    "Also...it has inconsistent capitalization."
   ]
  },
  {
   "cell_type": "code",
   "execution_count": null,
   "metadata": {
    "hidden": true
   },
   "outputs": [],
   "source": [
    "hpoa"
   ]
  },
  {
   "cell_type": "code",
   "execution_count": null,
   "metadata": {
    "ExecuteTime": {
     "end_time": "2021-02-09T21:09:38.820563Z",
     "start_time": "2021-02-09T21:09:38.783098Z"
    },
    "hidden": true
   },
   "outputs": [],
   "source": [
    "hpoa.Sex.count()\n",
    "hpoa.Sex.value_counts()\n",
    "hpoa[~ hpoa['Sex'].isna()].Aspect.value_counts()"
   ]
  },
  {
   "cell_type": "markdown",
   "metadata": {
    "heading_collapsed": true
   },
   "source": [
    "## modified parser: Modifier"
   ]
  },
  {
   "cell_type": "markdown",
   "metadata": {
    "hidden": true
   },
   "source": [
    "It's rare to have this field   \n",
    "This column is tricky because...\n",
    "- there can be multiple values (although the truth is only two records have truly >1 value. The rest are REPEATS). \n",
    "- there's a lot of different values. Hard to list them all out\n",
    "\n",
    "Extra trickiness: apparently other kinds of disease annotations (course, inheritance) also have modifier...  "
   ]
  },
  {
   "cell_type": "code",
   "execution_count": null,
   "metadata": {
    "ExecuteTime": {
     "end_time": "2021-02-10T08:38:07.000947Z",
     "start_time": "2021-02-10T08:38:06.987013Z"
    },
    "hidden": true
   },
   "outputs": [],
   "source": [
    "hpoa[~ hpoa['Modifier'].isna()].Modifier.value_counts()"
   ]
  },
  {
   "cell_type": "code",
   "execution_count": null,
   "metadata": {
    "ExecuteTime": {
     "end_time": "2021-02-10T08:39:02.677290Z",
     "start_time": "2021-02-10T08:39:02.644126Z"
    },
    "hidden": true
   },
   "outputs": [],
   "source": [
    "hpoa.Modifier.count()\n",
    "hpoa[(hpoa['Modifier'] == 'HP:0012839;HP:0012840') |\n",
    "     (hpoa['Modifier'] == 'HP:0025206;HP:0025303')\n",
    "    ] "
   ]
  },
  {
   "cell_type": "markdown",
   "metadata": {
    "heading_collapsed": true
   },
   "source": [
    "## won't use: Biocuration"
   ]
  },
  {
   "cell_type": "markdown",
   "metadata": {
    "hidden": true
   },
   "source": [
    "This column is tricky because...\n",
    "- there can be multiple values.\n",
    "- each value has two parts: a person/entity curie and a date"
   ]
  },
  {
   "cell_type": "code",
   "execution_count": null,
   "metadata": {
    "ExecuteTime": {
     "end_time": "2021-02-10T08:39:28.062183Z",
     "start_time": "2021-02-10T08:39:27.949271Z"
    },
    "hidden": true
   },
   "outputs": [],
   "source": [
    "hpoa.Biocuration.str.contains(\";\").value_counts()\n",
    "hpoa.Biocuration.to_list()[0:5]"
   ]
  },
  {
   "cell_type": "markdown",
   "metadata": {},
   "source": [
    "# exploring CTD data"
   ]
  },
  {
   "cell_type": "markdown",
   "metadata": {},
   "source": [
    "## disease -> chemical"
   ]
  },
  {
   "cell_type": "code",
   "execution_count": 2,
   "metadata": {
    "ExecuteTime": {
     "end_time": "2021-04-20T02:20:21.098789Z",
     "start_time": "2021-04-20T02:20:06.666182Z"
    }
   },
   "outputs": [
    {
     "data": {
      "text/plain": [
       "Index(['chemical_name', 'mesh_chemical_id', 'cas_registry_number',\n",
       "       'DiseaseName', 'DiseaseID', 'direct_evidence', 'inference_gene_symbol',\n",
       "       'inference_score', 'omim_id', 'pubmed'],\n",
       "      dtype='object')"
      ]
     },
     "execution_count": 2,
     "metadata": {},
     "output_type": "execute_result"
    },
    {
     "data": {
      "text/plain": [
       "(7198752, 10)"
      ]
     },
     "execution_count": 2,
     "metadata": {},
     "output_type": "execute_result"
    }
   ],
   "source": [
    "CTD_path = pathlib.Path.home().joinpath('Downloads', 'CTD_chemicals_diseases.csv.gz')\n",
    "CTD = pd.read_table(CTD_path, sep=\",\", comment='#', compression='gzip', \n",
    "                    names=['chemical_name', 'mesh_chemical_id', 'cas_registry_number', 'DiseaseName', \n",
    "                           'DiseaseID', 'direct_evidence', 'inference_gene_symbol', 'inference_score', \n",
    "                           'omim_id', 'pubmed'],\n",
    "                   dtype=str)\n",
    "CTD['inference_score'] = CTD['inference_score'].astype(float)\n",
    "\n",
    "## convert inference score back to numeric\n",
    "\n",
    "CTD.columns\n",
    "CTD.shape"
   ]
  },
  {
   "cell_type": "code",
   "execution_count": 8,
   "metadata": {
    "ExecuteTime": {
     "end_time": "2021-02-12T23:15:44.877791Z",
     "start_time": "2021-02-12T23:15:44.378153Z"
    }
   },
   "outputs": [
    {
     "data": {
      "text/plain": [
       "count    7.097579e+06\n",
       "mean     2.224442e+01\n",
       "std      5.702759e+01\n",
       "min      1.740000e+00\n",
       "25%      4.380000e+00\n",
       "50%      8.270000e+00\n",
       "75%      1.985000e+01\n",
       "max      2.478960e+03\n",
       "Name: inference_score, dtype: float64"
      ]
     },
     "execution_count": 8,
     "metadata": {},
     "output_type": "execute_result"
    }
   ],
   "source": [
    "CTD['inference_score'].describe()"
   ]
  },
  {
   "cell_type": "code",
   "execution_count": 5,
   "metadata": {
    "ExecuteTime": {
     "end_time": "2021-02-12T22:51:51.280172Z",
     "start_time": "2021-02-12T22:51:49.554378Z"
    }
   },
   "outputs": [
    {
     "data": {
      "text/plain": [
       "MESH:D008106    120847\n",
       "MESH:D011471    108432\n",
       "MESH:D001943    104691\n",
       "MESH:D006528     90997\n",
       "MESH:D056486     72936\n",
       "                 ...  \n",
       "MESH:D014917         1\n",
       "MESH:C531755         1\n",
       "MESH:C538117         1\n",
       "MESH:D020243         1\n",
       "MESH:D014735         1\n",
       "Name: DiseaseID, Length: 7236, dtype: int64"
      ]
     },
     "execution_count": 5,
     "metadata": {},
     "output_type": "execute_result"
    },
    {
     "data": {
      "text/plain": [
       "count      7236.000000\n",
       "mean        994.852405\n",
       "std        4656.083091\n",
       "min           1.000000\n",
       "25%          32.000000\n",
       "50%          75.000000\n",
       "75%         215.000000\n",
       "max      120847.000000\n",
       "Name: DiseaseID, dtype: float64"
      ]
     },
     "execution_count": 5,
     "metadata": {},
     "output_type": "execute_result"
    }
   ],
   "source": [
    "CTD['DiseaseID'].value_counts()\n",
    "CTD['DiseaseID'].value_counts().describe()"
   ]
  },
  {
   "cell_type": "code",
   "execution_count": 6,
   "metadata": {
    "ExecuteTime": {
     "end_time": "2021-02-12T22:52:25.641000Z",
     "start_time": "2021-02-12T22:52:25.241339Z"
    }
   },
   "outputs": [
    {
     "data": {
      "text/plain": [
       "(101173, 10)"
      ]
     },
     "execution_count": 6,
     "metadata": {},
     "output_type": "execute_result"
    },
    {
     "data": {
      "text/plain": [
       "(101173, 3)"
      ]
     },
     "execution_count": 6,
     "metadata": {},
     "output_type": "execute_result"
    },
    {
     "data": {
      "text/plain": [
       "chemical_name            101173\n",
       "mesh_chemical_id         101173\n",
       "cas_registry_number       76544\n",
       "DiseaseName              101173\n",
       "DiseaseID                101173\n",
       "direct_evidence          101173\n",
       "inference_gene_symbol         0\n",
       "inference_score               0\n",
       "omim_id                       0\n",
       "pubmed                   101173\n",
       "dtype: int64"
      ]
     },
     "execution_count": 6,
     "metadata": {},
     "output_type": "execute_result"
    }
   ],
   "source": [
    "trial = CTD[~ CTD['direct_evidence'].isna()].copy()\n",
    "trial.shape\n",
    "trial[['mesh_chemical_id', 'DiseaseID', 'direct_evidence']].drop_duplicates().shape\n",
    "trial.count()\n",
    "## the size of these two are the same, meaning that there currently aren't duplicates "
   ]
  },
  {
   "cell_type": "code",
   "execution_count": 41,
   "metadata": {
    "ExecuteTime": {
     "end_time": "2021-02-16T02:17:36.488964Z",
     "start_time": "2021-02-16T02:17:36.458850Z"
    }
   },
   "outputs": [
    {
     "data": {
      "text/html": [
       "<div>\n",
       "<style scoped>\n",
       "    .dataframe tbody tr th:only-of-type {\n",
       "        vertical-align: middle;\n",
       "    }\n",
       "\n",
       "    .dataframe tbody tr th {\n",
       "        vertical-align: top;\n",
       "    }\n",
       "\n",
       "    .dataframe thead th {\n",
       "        text-align: right;\n",
       "    }\n",
       "</style>\n",
       "<table border=\"1\" class=\"dataframe\">\n",
       "  <thead>\n",
       "    <tr style=\"text-align: right;\">\n",
       "      <th></th>\n",
       "      <th>chemical_name</th>\n",
       "      <th>mesh_chemical_id</th>\n",
       "      <th>cas_registry_number</th>\n",
       "      <th>DiseaseName</th>\n",
       "      <th>DiseaseID</th>\n",
       "      <th>direct_evidence</th>\n",
       "      <th>inference_gene_symbol</th>\n",
       "      <th>inference_score</th>\n",
       "      <th>omim_id</th>\n",
       "      <th>pubmed</th>\n",
       "    </tr>\n",
       "  </thead>\n",
       "  <tbody>\n",
       "    <tr>\n",
       "      <th>2251290</th>\n",
       "      <td>Contraceptives, Oral</td>\n",
       "      <td>D003276</td>\n",
       "      <td>NaN</td>\n",
       "      <td>Hypertension, Malignant</td>\n",
       "      <td>MESH:D006974</td>\n",
       "      <td>marker/mechanism</td>\n",
       "      <td>NaN</td>\n",
       "      <td>NaN</td>\n",
       "      <td>NaN</td>\n",
       "      <td>1138738|4559540|5083217|6809465|7866596</td>\n",
       "    </tr>\n",
       "  </tbody>\n",
       "</table>\n",
       "</div>"
      ],
      "text/plain": [
       "                chemical_name mesh_chemical_id cas_registry_number  \\\n",
       "2251290  Contraceptives, Oral          D003276                 NaN   \n",
       "\n",
       "                     DiseaseName     DiseaseID   direct_evidence  \\\n",
       "2251290  Hypertension, Malignant  MESH:D006974  marker/mechanism   \n",
       "\n",
       "        inference_gene_symbol  inference_score omim_id  \\\n",
       "2251290                   NaN              NaN     NaN   \n",
       "\n",
       "                                          pubmed  \n",
       "2251290  1138738|4559540|5083217|6809465|7866596  "
      ]
     },
     "execution_count": 41,
     "metadata": {},
     "output_type": "execute_result"
    }
   ],
   "source": [
    "trial[(trial['DiseaseID'] == 'MESH:D006974') &\n",
    "      (trial['mesh_chemical_id'] == 'D003276')]"
   ]
  },
  {
   "cell_type": "code",
   "execution_count": 45,
   "metadata": {
    "ExecuteTime": {
     "end_time": "2021-02-16T02:20:44.547227Z",
     "start_time": "2021-02-16T02:20:44.493783Z"
    }
   },
   "outputs": [
    {
     "data": {
      "text/plain": [
       "MESH:D056486    1432\n",
       "MESH:D012640    1274\n",
       "MESH:D006973     952\n",
       "MESH:D009336     928\n",
       "MESH:D007674     794\n",
       "MESH:D010146     777\n",
       "MESH:D007022     737\n",
       "MESH:D007249     716\n",
       "MESH:D004487     673\n",
       "MESH:D064420     637\n",
       "Name: DiseaseID, dtype: int64"
      ]
     },
     "execution_count": 45,
     "metadata": {},
     "output_type": "execute_result"
    },
    {
     "data": {
      "text/plain": [
       "count    3255.000000\n",
       "mean       31.082335\n",
       "std        80.299929\n",
       "min         1.000000\n",
       "25%         2.000000\n",
       "50%         6.000000\n",
       "75%        22.000000\n",
       "max      1432.000000\n",
       "Name: DiseaseID, dtype: float64"
      ]
     },
     "execution_count": 45,
     "metadata": {},
     "output_type": "execute_result"
    }
   ],
   "source": [
    "trial['DiseaseID'].value_counts()[0:10]\n",
    "trial['DiseaseID'].value_counts().describe()"
   ]
  },
  {
   "cell_type": "code",
   "execution_count": 46,
   "metadata": {
    "ExecuteTime": {
     "end_time": "2021-02-11T08:18:12.727548Z",
     "start_time": "2021-02-11T08:18:09.172091Z"
    }
   },
   "outputs": [
    {
     "data": {
      "text/plain": [
       "chemical_name            7097579\n",
       "mesh_chemical_id         7097579\n",
       "cas_registry_number      4899533\n",
       "DiseaseName              7097579\n",
       "DiseaseID                7097579\n",
       "direct_evidence                0\n",
       "inference_gene_symbol    7097579\n",
       "inference_score          7097579\n",
       "omim_id                   551929\n",
       "pubmed                   6674393\n",
       "dtype: int64"
      ]
     },
     "execution_count": 46,
     "metadata": {},
     "output_type": "execute_result"
    }
   ],
   "source": [
    "trial2 = CTD[CTD['direct_evidence'].isna()]\n",
    "trial2.count()\n",
    "## so some have pubmed and others don't"
   ]
  },
  {
   "cell_type": "code",
   "execution_count": 39,
   "metadata": {
    "ExecuteTime": {
     "end_time": "2021-02-11T08:09:09.539672Z",
     "start_time": "2021-02-11T08:09:09.481271Z"
    }
   },
   "outputs": [
    {
     "data": {
      "text/plain": [
       "(101173, 3)"
      ]
     },
     "execution_count": 39,
     "metadata": {},
     "output_type": "execute_result"
    }
   ],
   "source": []
  },
  {
   "cell_type": "code",
   "execution_count": 35,
   "metadata": {
    "ExecuteTime": {
     "end_time": "2021-02-11T08:00:33.581980Z",
     "start_time": "2021-02-11T08:00:29.221657Z"
    }
   },
   "outputs": [
    {
     "name": "stdout",
     "output_type": "stream",
     "text": [
      "MESH:C000598644\n",
      "                chemical_name mesh_chemical_id cas_registry_number  \\\n",
      "1890279  Carbon Tetrachloride          D002251             56-23-5   \n",
      "2465352                   DDT          D003634             50-29-3   \n",
      "2563708       Dextran Sulfate          D016264           9042-14-2   \n",
      "2675659          Dietary Fats          D004041                 NaN   \n",
      "2888927           Doxorubicin          D004317          23214-92-8   \n",
      "\n",
      "                                               DiseaseName        DiseaseID  \\\n",
      "1890279  Leukoencephalopathy Brain Calcifications and C...  MESH:C000598644   \n",
      "2465352  Leukoencephalopathy Brain Calcifications and C...  MESH:C000598644   \n",
      "2563708  Leukoencephalopathy Brain Calcifications and C...  MESH:C000598644   \n",
      "2675659  Leukoencephalopathy Brain Calcifications and C...  MESH:C000598644   \n",
      "2888927  Leukoencephalopathy Brain Calcifications and C...  MESH:C000598644   \n",
      "\n",
      "        direct_evidence inference_gene_symbol  inference_score omim_id pubmed  \n",
      "1890279             NaN              SNORD118             5.29  614561    NaN  \n",
      "2465352             NaN              SNORD118             6.48  614561    NaN  \n",
      "2563708             NaN              SNORD118             6.08  614561    NaN  \n",
      "2675659             NaN              SNORD118             5.40  614561    NaN  \n",
      "2888927             NaN              SNORD118             5.25  614561    NaN  \n",
      "MESH:C000600608\n",
      "                                      chemical_name mesh_chemical_id  \\\n",
      "45392                         1,2-Dimethylhydrazine          D019813   \n",
      "144437                  1-Methyl-3-isobutylxanthine          D015056   \n",
      "245017   2',3,3',4',5-pentachloro-4-hydroxybiphenyl          C111118   \n",
      "762672                                       abrine          C496492   \n",
      "784286                                    acetamide          C030686   \n",
      "800028                                Acetaminophen          D000082   \n",
      "840095                          Acetylgalactosamine          D000116   \n",
      "903076                                 Aflatoxin B1          D016604   \n",
      "1345718                                 Azacitidine          D001374   \n",
      "1361366                                   AZM551248          C547126   \n",
      "1438868                              Benzo(a)pyrene          D001564   \n",
      "1568277                 bis(4-hydroxyphenyl)sulfone          C543008   \n",
      "1596272                                 bisphenol A          C006780   \n",
      "1719148                               butyraldehyde          C018475   \n",
      "1886353                        Carbon Tetrachloride          D002251   \n",
      "2136256                                   Cisplatin          D002945   \n",
      "2258705                                      Copper          D003300   \n",
      "2276279                              Copper Sulfate          D019327   \n",
      "2339122                                   Cuprizone          D003471   \n",
      "2395745                                Cyclosporine          D016572   \n",
      "2528400                            Dermatan Sulfate          D003871   \n",
      "2544268                               Dexamethasone          D003907   \n",
      "2650655                      dicyclohexyl phthalate          C036042   \n",
      "2712203                          Diethylnitrosamine          D004052   \n",
      "2775877                          dimethyl phthalate          C024629   \n",
      "2810878                                     Dioxins          D004147   \n",
      "2884882                                 Doxorubicin          D004317   \n",
      "2969016                                  Endosulfan          D004726   \n",
      "3072210                        estradiol 3-benzoate          C074283   \n",
      "3157847                            Ethylnitrosourea          D005038   \n",
      "3228375                                 Fenretinide          D017313   \n",
      "3347418                                  Folic Acid          D005492   \n",
      "3424165                                       furan          C039281   \n",
      "3634125                                      GSK-J4       C000593030   \n",
      "3853846                           indole-3-carbinol          C016517   \n",
      "3864417                                Indomethacin          D007213   \n",
      "3967517                                   jinfukang          C544151   \n",
      "4490352                     Methyl Methanesulfonate          D008741   \n",
      "4613053                        monomethyl phthalate          C517284   \n",
      "5082576                                  oxybenzone          C005290   \n",
      "5333109                               Phenobarbital          D010634   \n",
      "5449084                              pirinixic acid          C006253   \n",
      "5471166                              Plant Extracts          D010936   \n",
      "5705506                             pyrachlostrobin          C513428   \n",
      "5751624                                   Quercetin          D011794   \n",
      "6316345                                   Sunitinib       D000077210   \n",
      "6469398                    Tetrachlorodibenzodioxin          D013749   \n",
      "6706423                                   Tretinoin          D014212   \n",
      "6830147        tris(1,3-dichloro-2-propyl)phosphate          C016805   \n",
      "6902826                                    Urethane          D014520   \n",
      "6938410                               Valproic Acid          D014635   \n",
      "\n",
      "        cas_registry_number  \\\n",
      "45392              540-73-8   \n",
      "144437           28822-58-4   \n",
      "245017                  NaN   \n",
      "762672                  NaN   \n",
      "784286              60-35-5   \n",
      "800028             103-90-2   \n",
      "840095           31022-50-1   \n",
      "903076            1162-65-8   \n",
      "1345718            320-67-2   \n",
      "1361366                 NaN   \n",
      "1438868             50-32-8   \n",
      "1568277             80-09-1   \n",
      "1596272             80-05-7   \n",
      "1719148            123-72-8   \n",
      "1886353             56-23-5   \n",
      "2136256          15663-27-1   \n",
      "2258705           7440-50-8   \n",
      "2276279           7758-98-7   \n",
      "2339122            370-81-0   \n",
      "2395745          59865-13-3   \n",
      "2528400          24967-94-0   \n",
      "2544268             50-02-2   \n",
      "2650655             84-61-7   \n",
      "2712203             55-18-5   \n",
      "2775877            131-11-3   \n",
      "2810878                 NaN   \n",
      "2884882          23214-92-8   \n",
      "2969016            115-29-7   \n",
      "3072210             50-50-0   \n",
      "3157847            759-73-9   \n",
      "3228375          65646-68-6   \n",
      "3347418             59-30-3   \n",
      "3424165            110-00-9   \n",
      "3634125                 NaN   \n",
      "3853846            700-06-1   \n",
      "3864417             53-86-1   \n",
      "3967517                 NaN   \n",
      "4490352             66-27-3   \n",
      "4613053                 NaN   \n",
      "5082576            131-57-7   \n",
      "5333109             50-06-6   \n",
      "5449084          50892-23-4   \n",
      "5471166                 NaN   \n",
      "5705506                 NaN   \n",
      "5751624            117-39-5   \n",
      "6316345                 NaN   \n",
      "6469398           1746-01-6   \n",
      "6706423            302-79-4   \n",
      "6830147          13674-87-8   \n",
      "6902826             51-79-6   \n",
      "6938410             99-66-1   \n",
      "\n",
      "                                               DiseaseName        DiseaseID  \\\n",
      "45392    Ehlers-Danlos Syndrome, musculocontractural ty...  MESH:C000600608   \n",
      "144437   Ehlers-Danlos Syndrome, musculocontractural ty...  MESH:C000600608   \n",
      "245017   Ehlers-Danlos Syndrome, musculocontractural ty...  MESH:C000600608   \n",
      "762672   Ehlers-Danlos Syndrome, musculocontractural ty...  MESH:C000600608   \n",
      "784286   Ehlers-Danlos Syndrome, musculocontractural ty...  MESH:C000600608   \n",
      "800028   Ehlers-Danlos Syndrome, musculocontractural ty...  MESH:C000600608   \n",
      "840095   Ehlers-Danlos Syndrome, musculocontractural ty...  MESH:C000600608   \n",
      "903076   Ehlers-Danlos Syndrome, musculocontractural ty...  MESH:C000600608   \n",
      "1345718  Ehlers-Danlos Syndrome, musculocontractural ty...  MESH:C000600608   \n",
      "1361366  Ehlers-Danlos Syndrome, musculocontractural ty...  MESH:C000600608   \n",
      "1438868  Ehlers-Danlos Syndrome, musculocontractural ty...  MESH:C000600608   \n",
      "1568277  Ehlers-Danlos Syndrome, musculocontractural ty...  MESH:C000600608   \n",
      "1596272  Ehlers-Danlos Syndrome, musculocontractural ty...  MESH:C000600608   \n",
      "1719148  Ehlers-Danlos Syndrome, musculocontractural ty...  MESH:C000600608   \n",
      "1886353  Ehlers-Danlos Syndrome, musculocontractural ty...  MESH:C000600608   \n",
      "2136256  Ehlers-Danlos Syndrome, musculocontractural ty...  MESH:C000600608   \n",
      "2258705  Ehlers-Danlos Syndrome, musculocontractural ty...  MESH:C000600608   \n",
      "2276279  Ehlers-Danlos Syndrome, musculocontractural ty...  MESH:C000600608   \n",
      "2339122  Ehlers-Danlos Syndrome, musculocontractural ty...  MESH:C000600608   \n",
      "2395745  Ehlers-Danlos Syndrome, musculocontractural ty...  MESH:C000600608   \n",
      "2528400  Ehlers-Danlos Syndrome, musculocontractural ty...  MESH:C000600608   \n",
      "2544268  Ehlers-Danlos Syndrome, musculocontractural ty...  MESH:C000600608   \n",
      "2650655  Ehlers-Danlos Syndrome, musculocontractural ty...  MESH:C000600608   \n",
      "2712203  Ehlers-Danlos Syndrome, musculocontractural ty...  MESH:C000600608   \n",
      "2775877  Ehlers-Danlos Syndrome, musculocontractural ty...  MESH:C000600608   \n",
      "2810878  Ehlers-Danlos Syndrome, musculocontractural ty...  MESH:C000600608   \n",
      "2884882  Ehlers-Danlos Syndrome, musculocontractural ty...  MESH:C000600608   \n",
      "2969016  Ehlers-Danlos Syndrome, musculocontractural ty...  MESH:C000600608   \n",
      "3072210  Ehlers-Danlos Syndrome, musculocontractural ty...  MESH:C000600608   \n",
      "3157847  Ehlers-Danlos Syndrome, musculocontractural ty...  MESH:C000600608   \n",
      "3228375  Ehlers-Danlos Syndrome, musculocontractural ty...  MESH:C000600608   \n",
      "3347418  Ehlers-Danlos Syndrome, musculocontractural ty...  MESH:C000600608   \n",
      "3424165  Ehlers-Danlos Syndrome, musculocontractural ty...  MESH:C000600608   \n",
      "3634125  Ehlers-Danlos Syndrome, musculocontractural ty...  MESH:C000600608   \n",
      "3853846  Ehlers-Danlos Syndrome, musculocontractural ty...  MESH:C000600608   \n",
      "3864417  Ehlers-Danlos Syndrome, musculocontractural ty...  MESH:C000600608   \n",
      "3967517  Ehlers-Danlos Syndrome, musculocontractural ty...  MESH:C000600608   \n",
      "4490352  Ehlers-Danlos Syndrome, musculocontractural ty...  MESH:C000600608   \n",
      "4613053  Ehlers-Danlos Syndrome, musculocontractural ty...  MESH:C000600608   \n",
      "5082576  Ehlers-Danlos Syndrome, musculocontractural ty...  MESH:C000600608   \n",
      "5333109  Ehlers-Danlos Syndrome, musculocontractural ty...  MESH:C000600608   \n",
      "5449084  Ehlers-Danlos Syndrome, musculocontractural ty...  MESH:C000600608   \n",
      "5471166  Ehlers-Danlos Syndrome, musculocontractural ty...  MESH:C000600608   \n",
      "5705506  Ehlers-Danlos Syndrome, musculocontractural ty...  MESH:C000600608   \n",
      "5751624  Ehlers-Danlos Syndrome, musculocontractural ty...  MESH:C000600608   \n",
      "6316345  Ehlers-Danlos Syndrome, musculocontractural ty...  MESH:C000600608   \n",
      "6469398  Ehlers-Danlos Syndrome, musculocontractural ty...  MESH:C000600608   \n",
      "6706423  Ehlers-Danlos Syndrome, musculocontractural ty...  MESH:C000600608   \n",
      "6830147  Ehlers-Danlos Syndrome, musculocontractural ty...  MESH:C000600608   \n",
      "6902826  Ehlers-Danlos Syndrome, musculocontractural ty...  MESH:C000600608   \n",
      "6938410  Ehlers-Danlos Syndrome, musculocontractural ty...  MESH:C000600608   \n",
      "\n",
      "        direct_evidence inference_gene_symbol  inference_score omim_id  \\\n",
      "45392               NaN                CHST14             4.10  601776   \n",
      "144437              NaN                CHST14             4.67  601776   \n",
      "245017              NaN                CHST14             4.83  601776   \n",
      "762672              NaN                CHST14             4.29  601776   \n",
      "784286              NaN                CHST14             4.59  601776   \n",
      "800028              NaN                CHST14             4.03  601776   \n",
      "840095              NaN                CHST14             8.38  601776   \n",
      "903076              NaN                CHST14             4.02  601776   \n",
      "1345718             NaN                CHST14             5.65  601776   \n",
      "1361366             NaN                CHST14             4.92  601776   \n",
      "1438868             NaN                CHST14             3.79  601776   \n",
      "1568277             NaN                CHST14             4.57  601776   \n",
      "1596272             NaN                CHST14             3.69  601776   \n",
      "1719148             NaN                CHST14             4.61  601776   \n",
      "1886353             NaN                CHST14             4.26  601776   \n",
      "2136256             NaN                CHST14             4.20  601776   \n",
      "2258705             NaN                CHST14             4.42  601776   \n",
      "2276279             NaN                CHST14             4.34  601776   \n",
      "2339122             NaN                CHST14             4.66  601776   \n",
      "2395745             NaN                CHST14             4.15  601776   \n",
      "2528400             NaN                CHST14             7.29  601776   \n",
      "2544268             NaN                CHST14             4.28  601776   \n",
      "2650655             NaN                CHST14             5.35  601776   \n",
      "2712203             NaN                CHST14             4.64  601776   \n",
      "2775877             NaN                CHST14             5.43  601776   \n",
      "2810878             NaN                CHST14             5.16  601776   \n",
      "2884882             NaN                CHST14             4.22  601776   \n",
      "2969016             NaN                CHST14             4.51  601776   \n",
      "3072210             NaN                CHST14             6.03  601776   \n",
      "3157847             NaN                CHST14             5.54  601776   \n",
      "3228375             NaN                CHST14             4.55  601776   \n",
      "3347418             NaN                CHST14             4.12  601776   \n",
      "3424165             NaN                CHST14             4.61  601776   \n",
      "3634125             NaN                CHST14             4.85  601776   \n",
      "3853846             NaN                CHST14             5.10  601776   \n",
      "3864417             NaN                CHST14             4.47  601776   \n",
      "3967517             NaN                CHST14             4.40  601776   \n",
      "4490352             NaN                CHST14             4.29  601776   \n",
      "4613053             NaN                CHST14             5.29  601776   \n",
      "5082576             NaN                CHST14             5.99  601776   \n",
      "5333109             NaN                CHST14             4.47  601776   \n",
      "5449084             NaN                CHST14             4.26  601776   \n",
      "5471166             NaN                CHST14             4.46  601776   \n",
      "5705506             NaN                CHST14             5.34  601776   \n",
      "5751624             NaN                CHST14             4.57  601776   \n",
      "6316345             NaN                CHST14             4.36  601776   \n",
      "6469398             NaN                CHST14             3.89  601776   \n",
      "6706423             NaN                CHST14             4.37  601776   \n",
      "6830147             NaN                CHST14             4.50  601776   \n",
      "6902826             NaN                CHST14             4.52  601776   \n",
      "6938410             NaN                CHST14             3.84  601776   \n",
      "\n",
      "                    pubmed  \n",
      "45392    20004762|20842734  \n",
      "144437   20004762|20842734  \n",
      "245017   20004762|20842734  \n",
      "762672   20004762|20842734  \n",
      "784286   20004762|20842734  \n",
      "800028   20004762|20842734  \n",
      "840095   20004762|20842734  \n",
      "903076   20004762|20842734  \n",
      "1345718  20004762|20842734  \n",
      "1361366  20004762|20842734  \n",
      "1438868  20004762|20842734  \n",
      "1568277  20004762|20842734  \n",
      "1596272  20004762|20842734  \n",
      "1719148  20004762|20842734  \n",
      "1886353  20004762|20842734  \n",
      "2136256  20004762|20842734  \n",
      "2258705  20004762|20842734  \n",
      "2276279  20004762|20842734  \n",
      "2339122  20004762|20842734  \n",
      "2395745  20004762|20842734  \n",
      "2528400  20004762|20842734  \n",
      "2544268  20004762|20842734  \n",
      "2650655  20004762|20842734  \n",
      "2712203  20004762|20842734  \n",
      "2775877  20004762|20842734  \n",
      "2810878  20004762|20842734  \n",
      "2884882  20004762|20842734  \n",
      "2969016  20004762|20842734  \n",
      "3072210  20004762|20842734  \n",
      "3157847  20004762|20842734  \n",
      "3228375  20004762|20842734  \n",
      "3347418  20004762|20842734  \n",
      "3424165  20004762|20842734  \n",
      "3634125  20004762|20842734  \n",
      "3853846  20004762|20842734  \n",
      "3864417  20004762|20842734  \n",
      "3967517  20004762|20842734  \n",
      "4490352  20004762|20842734  \n",
      "4613053  20004762|20842734  \n",
      "5082576  20004762|20842734  \n",
      "5333109  20004762|20842734  \n",
      "5449084  20004762|20842734  \n",
      "5471166  20004762|20842734  \n",
      "5705506  20004762|20842734  \n",
      "5751624  20004762|20842734  \n",
      "6316345  20004762|20842734  \n",
      "6469398  20004762|20842734  \n",
      "6706423  20004762|20842734  \n",
      "6830147  20004762|20842734  \n",
      "6902826  20004762|20842734  \n",
      "6938410  20004762|20842734  \n",
      "MESH:C000631847\n",
      "                                             chemical_name mesh_chemical_id  \\\n",
      "6481                                    1,12-benzoperylene          C006718   \n",
      "11143               1,1-dimethylbutyl-1-deoxy-Delta(9)-THC          C432747   \n",
      "24523                              1,25-dihydroxyvitamin D          C097949   \n",
      "30076    1-(2-bromophenyl)-3-(7-cyano-3H-benzotriazol-4...          C549500   \n",
      "53680                                1,2-Dimethylhydrazine          D019813   \n",
      "...                                                    ...              ...   \n",
      "7154767                                               Zinc          D015032   \n",
      "7154768                                               Zinc          D015032   \n",
      "7162232                                      zinc chloride          C016837   \n",
      "7175640                                       Zinc Sulfate          D019287   \n",
      "7189675                                    Zoledronic Acid       D000077211   \n",
      "\n",
      "        cas_registry_number                       DiseaseName  \\\n",
      "6481               191-24-2  Osteogenesis Imperfecta, Type IV   \n",
      "11143                   NaN  Osteogenesis Imperfecta, Type IV   \n",
      "24523            66772-14-3  Osteogenesis Imperfecta, Type IV   \n",
      "30076                   NaN  Osteogenesis Imperfecta, Type IV   \n",
      "53680              540-73-8  Osteogenesis Imperfecta, Type IV   \n",
      "...                     ...                               ...   \n",
      "7154767           7440-66-6  Osteogenesis Imperfecta, Type IV   \n",
      "7154768           7440-66-6  Osteogenesis Imperfecta, Type IV   \n",
      "7162232           7646-85-7  Osteogenesis Imperfecta, Type IV   \n",
      "7175640           7733-02-0  Osteogenesis Imperfecta, Type IV   \n",
      "7189675                 NaN  Osteogenesis Imperfecta, Type IV   \n",
      "\n",
      "               DiseaseID direct_evidence inference_gene_symbol  \\\n",
      "6481     MESH:C000631847             NaN                COL1A1   \n",
      "11143    MESH:C000631847             NaN                COL1A1   \n",
      "24523    MESH:C000631847             NaN                COL1A1   \n",
      "30076    MESH:C000631847             NaN                COL1A1   \n",
      "53680    MESH:C000631847             NaN                COL1A1   \n",
      "...                  ...             ...                   ...   \n",
      "7154767  MESH:C000631847             NaN                COL1A1   \n",
      "7154768  MESH:C000631847             NaN                COL1A2   \n",
      "7162232  MESH:C000631847             NaN                COL1A1   \n",
      "7175640  MESH:C000631847             NaN                COL1A1   \n",
      "7189675  MESH:C000631847             NaN                COL1A1   \n",
      "\n",
      "         inference_score omim_id pubmed  \n",
      "6481                4.60  166220    NaN  \n",
      "11143               5.25  166220    NaN  \n",
      "24523               5.54  166220    NaN  \n",
      "30076               5.97  166220    NaN  \n",
      "53680               4.88  166220    NaN  \n",
      "...                  ...     ...    ...  \n",
      "7154767             7.09  166220    NaN  \n",
      "7154768             7.09  166220    NaN  \n",
      "7162232             4.19  166220    NaN  \n",
      "7175640             3.96  166220    NaN  \n",
      "7189675             3.69  166220    NaN  \n",
      "\n",
      "[841 rows x 10 columns]\n",
      "MESH:C531609\n",
      "             chemical_name mesh_chemical_id cas_registry_number  \\\n",
      "4193587  Lithium Carbonate          D016651            554-13-2   \n",
      "\n",
      "              DiseaseName     DiseaseID   direct_evidence  \\\n",
      "4193587  Diffuse alopecia  MESH:C531609  marker/mechanism   \n",
      "\n",
      "        inference_gene_symbol  inference_score omim_id   pubmed  \n",
      "4193587                   NaN              NaN     NaN  1909035  \n",
      "MESH:C531617\n",
      "                                             chemical_name mesh_chemical_id  \\\n",
      "71        10,10-bis(4-pyridinylmethyl)-9(10H)-anthracenone          C112297   \n",
      "1373     10-(fluoroethoxyphosphinyl)-N-(biotinamidopent...          C403065   \n",
      "1578                                10-hydroxycamptothecin          C028098   \n",
      "1762     10-methoxy-2,2-dimethyl-2,6-dihydropyrano(3,2-...          C554291   \n",
      "1763     10-methoxy-2,2-dimethyl-2,6-dihydropyrano(3,2-...          C554291   \n",
      "...                                                    ...              ...   \n",
      "7195415                                            Zymosan          D015054   \n",
      "7195416                                            Zymosan          D015054   \n",
      "7195417                                            Zymosan          D015054   \n",
      "7195418                                            Zymosan          D015054   \n",
      "7195419                                            Zymosan          D015054   \n",
      "\n",
      "        cas_registry_number                      DiseaseName     DiseaseID  \\\n",
      "71                      NaN  Amyotrophic lateral sclerosis 1  MESH:C531617   \n",
      "1373                    NaN  Amyotrophic lateral sclerosis 1  MESH:C531617   \n",
      "1578             67656-30-8  Amyotrophic lateral sclerosis 1  MESH:C531617   \n",
      "1762                    NaN  Amyotrophic lateral sclerosis 1  MESH:C531617   \n",
      "1763                    NaN  Amyotrophic lateral sclerosis 1  MESH:C531617   \n",
      "...                     ...                              ...           ...   \n",
      "7195415           9010-72-4  Amyotrophic lateral sclerosis 1  MESH:C531617   \n",
      "7195416           9010-72-4  Amyotrophic lateral sclerosis 1  MESH:C531617   \n",
      "7195417           9010-72-4  Amyotrophic lateral sclerosis 1  MESH:C531617   \n",
      "7195418           9010-72-4  Amyotrophic lateral sclerosis 1  MESH:C531617   \n",
      "7195419           9010-72-4  Amyotrophic lateral sclerosis 1  MESH:C531617   \n",
      "\n",
      "        direct_evidence inference_gene_symbol  inference_score omim_id  \\\n",
      "71                  NaN                   FOS             4.60     NaN   \n",
      "1373                NaN                 KIF3C             5.49     NaN   \n",
      "1578                NaN                BCL2L1             4.68     NaN   \n",
      "1762                NaN                BCL2L1             9.64     NaN   \n",
      "1763                NaN                  XIAP             9.64     NaN   \n",
      "...                 ...                   ...              ...     ...   \n",
      "7195415             NaN                  PENK            23.08     NaN   \n",
      "7195416             NaN                  RXRA            23.08     NaN   \n",
      "7195417             NaN                  SOD1            23.08  105400   \n",
      "7195418             NaN                   TNF            23.08     NaN   \n",
      "7195419             NaN                  XIAP            23.08     NaN   \n",
      "\n",
      "                                                    pubmed  \n",
      "71                                                11796754  \n",
      "1373                                              11796754  \n",
      "1578                                              11796754  \n",
      "1762                                              11796754  \n",
      "1763                                              11796754  \n",
      "...                                                    ...  \n",
      "7195415                                           11796754  \n",
      "7195416                                           11796754  \n",
      "7195417  10764647|11181815|11346368|11675877|11796754|1...  \n",
      "7195418                                           11796754  \n",
      "7195419                                           11796754  \n",
      "\n",
      "[11613 rows x 10 columns]\n",
      "MESH:C531651\n",
      "                                      chemical_name mesh_chemical_id  \\\n",
      "55876                         1,2-Dimethylhydrazine          D019813   \n",
      "218279           2,2',4,4'-tetrabromodiphenyl ether          C511295   \n",
      "248410   2',3,3',4',5-pentachloro-4-hydroxybiphenyl          C111118   \n",
      "313401                           2,4-dinitrotoluene          C016403   \n",
      "598266                          4-hydroxy-2-nonenal          C027576   \n",
      "813355                                Acetaminophen          D000082   \n",
      "950141                               Air Pollutants          D000393   \n",
      "1293534                                   Aspartame          D001218   \n",
      "1364288                                   AZM551248          C547126   \n",
      "1454843                              Benzo(a)pyrene          D001564   \n",
      "1612793                                 bisphenol A          C006780   \n",
      "1772464                            Cadmium Chloride          D019256   \n",
      "1896973                        Carbon Tetrachloride          D002251   \n",
      "2147158                                   Cisplatin          D002945   \n",
      "2223476                          cobaltous chloride          C018021   \n",
      "2406397                                Cyclosporine          D016572   \n",
      "2911795                                  Dronabinol          D013759   \n",
      "2976045                                  Endosulfan          D004726   \n",
      "3124971                           Ethinyl Estradiol          D004997   \n",
      "3198961                           Fats, Unsaturated          D005224   \n",
      "3268533                                    fipronil          C082360   \n",
      "3358567                                  Folic Acid          D005492   \n",
      "3772519                           Hydrogen Peroxide          D006861   \n",
      "3897656                                   Ionomycin          D015759   \n",
      "3956762                                Isotretinoin          D015474   \n",
      "3972891                                   jinfukang          C544151   \n",
      "4052097                                 Lactic Acid          D019344   \n",
      "4100133                                 Leflunomide       D000077339   \n",
      "4162686           lipopolysaccharide, E coli O55-B5          C482199   \n",
      "4398217                               Methapyrilene          D008701   \n",
      "4426300                                Methotrexate          D008727   \n",
      "4764398                                  nefazodone          C051752   \n",
      "4854994                                  nimesulide          C012655   \n",
      "5192111                          Particulate Matter          D052638   \n",
      "5645597                                 propiverine          C015586   \n",
      "6001286                                    Selenium          D012643   \n",
      "6180161                            Sodium Glutamate          D012970   \n",
      "6344633                                   T-2 Toxin          D013605   \n",
      "6484913                    Tetrachlorodibenzodioxin          D013749   \n",
      "6510433                Tetradecanoylphorbol Acetate          D013755   \n",
      "6543865                                Theophylline          D013806   \n",
      "6623910                            titanium dioxide          C009495   \n",
      "6716503                                   Tretinoin          D014212   \n",
      "6867667                                    Tungsten          D014414   \n",
      "6953441                               Valproic Acid          D014635   \n",
      "6997501                           Vehicle Emissions          D001335   \n",
      "7024170                                 vinclozolin          C025643   \n",
      "7057624                                   Vitamin E          D014810   \n",
      "\n",
      "        cas_registry_number                                   DiseaseName  \\\n",
      "55876              540-73-8  Rhizomelic chondrodysplasia punctata, type 1   \n",
      "218279                  NaN  Rhizomelic chondrodysplasia punctata, type 1   \n",
      "248410                  NaN  Rhizomelic chondrodysplasia punctata, type 1   \n",
      "313401             121-14-2  Rhizomelic chondrodysplasia punctata, type 1   \n",
      "598266           29343-52-0  Rhizomelic chondrodysplasia punctata, type 1   \n",
      "813355             103-90-2  Rhizomelic chondrodysplasia punctata, type 1   \n",
      "950141                  NaN  Rhizomelic chondrodysplasia punctata, type 1   \n",
      "1293534          22839-47-0  Rhizomelic chondrodysplasia punctata, type 1   \n",
      "1364288                 NaN  Rhizomelic chondrodysplasia punctata, type 1   \n",
      "1454843             50-32-8  Rhizomelic chondrodysplasia punctata, type 1   \n",
      "1612793             80-05-7  Rhizomelic chondrodysplasia punctata, type 1   \n",
      "1772464          10108-64-2  Rhizomelic chondrodysplasia punctata, type 1   \n",
      "1896973             56-23-5  Rhizomelic chondrodysplasia punctata, type 1   \n",
      "2147158          15663-27-1  Rhizomelic chondrodysplasia punctata, type 1   \n",
      "2223476           7646-79-9  Rhizomelic chondrodysplasia punctata, type 1   \n",
      "2406397          59865-13-3  Rhizomelic chondrodysplasia punctata, type 1   \n",
      "2911795                 NaN  Rhizomelic chondrodysplasia punctata, type 1   \n",
      "2976045            115-29-7  Rhizomelic chondrodysplasia punctata, type 1   \n",
      "3124971             57-63-6  Rhizomelic chondrodysplasia punctata, type 1   \n",
      "3198961                 NaN  Rhizomelic chondrodysplasia punctata, type 1   \n",
      "3268533         120068-37-3  Rhizomelic chondrodysplasia punctata, type 1   \n",
      "3358567             59-30-3  Rhizomelic chondrodysplasia punctata, type 1   \n",
      "3772519           7722-84-1  Rhizomelic chondrodysplasia punctata, type 1   \n",
      "3897656          56092-81-0  Rhizomelic chondrodysplasia punctata, type 1   \n",
      "3956762           4759-48-2  Rhizomelic chondrodysplasia punctata, type 1   \n",
      "3972891                 NaN  Rhizomelic chondrodysplasia punctata, type 1   \n",
      "4052097             50-21-5  Rhizomelic chondrodysplasia punctata, type 1   \n",
      "4100133          75706-12-6  Rhizomelic chondrodysplasia punctata, type 1   \n",
      "4162686                 NaN  Rhizomelic chondrodysplasia punctata, type 1   \n",
      "4398217             91-80-5  Rhizomelic chondrodysplasia punctata, type 1   \n",
      "4426300             59-05-2  Rhizomelic chondrodysplasia punctata, type 1   \n",
      "4764398          83366-66-9  Rhizomelic chondrodysplasia punctata, type 1   \n",
      "4854994          51803-78-2  Rhizomelic chondrodysplasia punctata, type 1   \n",
      "5192111                 NaN  Rhizomelic chondrodysplasia punctata, type 1   \n",
      "5645597          60569-19-9  Rhizomelic chondrodysplasia punctata, type 1   \n",
      "6001286           7782-49-2  Rhizomelic chondrodysplasia punctata, type 1   \n",
      "6180161            142-47-2  Rhizomelic chondrodysplasia punctata, type 1   \n",
      "6344633          21259-20-1  Rhizomelic chondrodysplasia punctata, type 1   \n",
      "6484913           1746-01-6  Rhizomelic chondrodysplasia punctata, type 1   \n",
      "6510433          16561-29-8  Rhizomelic chondrodysplasia punctata, type 1   \n",
      "6543865             58-55-9  Rhizomelic chondrodysplasia punctata, type 1   \n",
      "6623910          13463-67-7  Rhizomelic chondrodysplasia punctata, type 1   \n",
      "6716503            302-79-4  Rhizomelic chondrodysplasia punctata, type 1   \n",
      "6867667           7440-33-7  Rhizomelic chondrodysplasia punctata, type 1   \n",
      "6953441             99-66-1  Rhizomelic chondrodysplasia punctata, type 1   \n",
      "6997501                 NaN  Rhizomelic chondrodysplasia punctata, type 1   \n",
      "7024170          50471-44-8  Rhizomelic chondrodysplasia punctata, type 1   \n",
      "7057624           1406-18-4  Rhizomelic chondrodysplasia punctata, type 1   \n",
      "\n",
      "            DiseaseID direct_evidence inference_gene_symbol  inference_score  \\\n",
      "55876    MESH:C531651             NaN                  PEX7             4.15   \n",
      "218279   MESH:C531651             NaN                  PEX7             4.67   \n",
      "248410   MESH:C531651             NaN                  PEX7             4.88   \n",
      "313401   MESH:C531651             NaN                  PEX7             4.85   \n",
      "598266   MESH:C531651             NaN                  PEX7             5.41   \n",
      "813355   MESH:C531651             NaN                  PEX7             4.08   \n",
      "950141   MESH:C531651             NaN                  PEX7             4.50   \n",
      "1293534  MESH:C531651             NaN                  PEX7             6.19   \n",
      "1364288  MESH:C531651             NaN                  PEX7             4.97   \n",
      "1454843  MESH:C531651             NaN                  PEX7             3.84   \n",
      "1612793  MESH:C531651             NaN                  PEX7             3.75   \n",
      "1772464  MESH:C531651             NaN                  PEX7             4.41   \n",
      "1896973  MESH:C531651             NaN                  PEX7             4.31   \n",
      "2147158  MESH:C531651             NaN                  PEX7             4.25   \n",
      "2223476  MESH:C531651             NaN                  PEX7             4.55   \n",
      "2406397  MESH:C531651             NaN                  PEX7             4.21   \n",
      "2911795  MESH:C531651             NaN                  PEX7             4.68   \n",
      "2976045  MESH:C531651             NaN                  PEX7             4.56   \n",
      "3124971  MESH:C531651             NaN                  PEX7             4.20   \n",
      "3198961  MESH:C531651             NaN                  PEX7             6.37   \n",
      "3268533  MESH:C531651             NaN                  PEX7             5.28   \n",
      "3358567  MESH:C531651             NaN                  PEX7             4.17   \n",
      "3772519  MESH:C531651             NaN                  PEX7             4.63   \n",
      "3897656  MESH:C531651             NaN                  PEX7             4.58   \n",
      "3956762  MESH:C531651             NaN                  PEX7             5.36   \n",
      "3972891  MESH:C531651             NaN                  PEX7             4.45   \n",
      "4052097  MESH:C531651             NaN                  PEX7             4.71   \n",
      "4100133  MESH:C531651             NaN                  PEX7             4.81   \n",
      "4162686  MESH:C531651             NaN                  PEX7             5.01   \n",
      "4398217  MESH:C531651             NaN                  PEX7             4.65   \n",
      "4426300  MESH:C531651             NaN                  PEX7             4.78   \n",
      "4764398  MESH:C531651             NaN                  PEX7             5.05   \n",
      "4854994  MESH:C531651             NaN                  PEX7             5.18   \n",
      "5192111  MESH:C531651             NaN                  PEX7             4.36   \n",
      "5645597  MESH:C531651             NaN                  PEX7             6.27   \n",
      "6001286  MESH:C531651             NaN                  PEX7             5.06   \n",
      "6180161  MESH:C531651             NaN                  PEX7             5.42   \n",
      "6344633  MESH:C531651             NaN                  PEX7             4.88   \n",
      "6484913  MESH:C531651             NaN                  PEX7             3.95   \n",
      "6510433  MESH:C531651             NaN                  PEX7             4.52   \n",
      "6543865  MESH:C531651             NaN                  PEX7             5.53   \n",
      "6623910  MESH:C531651             NaN                  PEX7             4.38   \n",
      "6716503  MESH:C531651             NaN                  PEX7             4.42   \n",
      "6867667  MESH:C531651             NaN                  PEX7             4.94   \n",
      "6953441  MESH:C531651             NaN                  PEX7             3.90   \n",
      "6997501  MESH:C531651             NaN                  PEX7             4.22   \n",
      "7024170  MESH:C531651             NaN                  PEX7             4.49   \n",
      "7057624  MESH:C531651             NaN                  PEX7             5.04   \n",
      "\n",
      "        omim_id             pubmed  \n",
      "55876    215100  11781871|12522768  \n",
      "218279   215100  11781871|12522768  \n",
      "248410   215100  11781871|12522768  \n",
      "313401   215100  11781871|12522768  \n",
      "598266   215100  11781871|12522768  \n",
      "813355   215100  11781871|12522768  \n",
      "950141   215100  11781871|12522768  \n",
      "1293534  215100  11781871|12522768  \n",
      "1364288  215100  11781871|12522768  \n",
      "1454843  215100  11781871|12522768  \n",
      "1612793  215100  11781871|12522768  \n",
      "1772464  215100  11781871|12522768  \n",
      "1896973  215100  11781871|12522768  \n",
      "2147158  215100  11781871|12522768  \n",
      "2223476  215100  11781871|12522768  \n",
      "2406397  215100  11781871|12522768  \n",
      "2911795  215100  11781871|12522768  \n",
      "2976045  215100  11781871|12522768  \n",
      "3124971  215100  11781871|12522768  \n",
      "3198961  215100  11781871|12522768  \n",
      "3268533  215100  11781871|12522768  \n",
      "3358567  215100  11781871|12522768  \n",
      "3772519  215100  11781871|12522768  \n",
      "3897656  215100  11781871|12522768  \n",
      "3956762  215100  11781871|12522768  \n",
      "3972891  215100  11781871|12522768  \n",
      "4052097  215100  11781871|12522768  \n",
      "4100133  215100  11781871|12522768  \n",
      "4162686  215100  11781871|12522768  \n",
      "4398217  215100  11781871|12522768  \n",
      "4426300  215100  11781871|12522768  \n",
      "4764398  215100  11781871|12522768  \n",
      "4854994  215100  11781871|12522768  \n",
      "5192111  215100  11781871|12522768  \n",
      "5645597  215100  11781871|12522768  \n",
      "6001286  215100  11781871|12522768  \n",
      "6180161  215100  11781871|12522768  \n",
      "6344633  215100  11781871|12522768  \n",
      "6484913  215100  11781871|12522768  \n",
      "6510433  215100  11781871|12522768  \n",
      "6543865  215100  11781871|12522768  \n",
      "6623910  215100  11781871|12522768  \n",
      "6716503  215100  11781871|12522768  \n",
      "6867667  215100  11781871|12522768  \n",
      "6953441  215100  11781871|12522768  \n",
      "6997501  215100  11781871|12522768  \n",
      "7024170  215100  11781871|12522768  \n",
      "7057624  215100  11781871|12522768  \n"
     ]
    }
   ],
   "source": [
    "count = 0\n",
    "for did, subdf in CTD.groupby('DiseaseID'):\n",
    "    print(did)\n",
    "    print(subdf)\n",
    "    count += 1\n",
    "    if count>5:\n",
    "        break"
   ]
  },
  {
   "cell_type": "code",
   "execution_count": 16,
   "metadata": {
    "ExecuteTime": {
     "end_time": "2021-02-11T07:21:03.746424Z",
     "start_time": "2021-02-11T07:21:02.575356Z"
    }
   },
   "outputs": [
    {
     "data": {
      "text/plain": [
       "25380136    77440\n",
       "7979221     32466\n",
       "16214533    31401\n",
       "28284560    26399\n",
       "27093858    23712\n",
       "Name: pubmed, dtype: int64"
      ]
     },
     "execution_count": 16,
     "metadata": {},
     "output_type": "execute_result"
    }
   ],
   "source": [
    "CTD.pubmed.value_counts().head()"
   ]
  },
  {
   "cell_type": "code",
   "execution_count": 9,
   "metadata": {
    "ExecuteTime": {
     "end_time": "2021-04-20T02:25:02.821756Z",
     "start_time": "2021-04-20T02:25:01.385472Z"
    }
   },
   "outputs": [
    {
     "data": {
      "text/html": [
       "<div>\n",
       "<style scoped>\n",
       "    .dataframe tbody tr th:only-of-type {\n",
       "        vertical-align: middle;\n",
       "    }\n",
       "\n",
       "    .dataframe tbody tr th {\n",
       "        vertical-align: top;\n",
       "    }\n",
       "\n",
       "    .dataframe thead th {\n",
       "        text-align: right;\n",
       "    }\n",
       "</style>\n",
       "<table border=\"1\" class=\"dataframe\">\n",
       "  <thead>\n",
       "    <tr style=\"text-align: right;\">\n",
       "      <th></th>\n",
       "      <th>chemical_name</th>\n",
       "      <th>mesh_chemical_id</th>\n",
       "      <th>cas_registry_number</th>\n",
       "      <th>DiseaseName</th>\n",
       "      <th>DiseaseID</th>\n",
       "      <th>direct_evidence</th>\n",
       "      <th>inference_gene_symbol</th>\n",
       "      <th>inference_score</th>\n",
       "      <th>omim_id</th>\n",
       "      <th>pubmed</th>\n",
       "    </tr>\n",
       "  </thead>\n",
       "  <tbody>\n",
       "    <tr>\n",
       "      <th>970390</th>\n",
       "      <td>alfacalcidol</td>\n",
       "      <td>C008088</td>\n",
       "      <td>41294-56-8</td>\n",
       "      <td>Graves Disease</td>\n",
       "      <td>MESH:D006111</td>\n",
       "      <td>therapeutic</td>\n",
       "      <td>NaN</td>\n",
       "      <td>NaN</td>\n",
       "      <td>NaN</td>\n",
       "      <td>9322804</td>\n",
       "    </tr>\n",
       "    <tr>\n",
       "      <th>1173741</th>\n",
       "      <td>Antithyroid Agents</td>\n",
       "      <td>D013956</td>\n",
       "      <td>NaN</td>\n",
       "      <td>Graves Disease</td>\n",
       "      <td>MESH:D006111</td>\n",
       "      <td>therapeutic</td>\n",
       "      <td>NaN</td>\n",
       "      <td>NaN</td>\n",
       "      <td>NaN</td>\n",
       "      <td>19263707</td>\n",
       "    </tr>\n",
       "    <tr>\n",
       "      <th>1871562</th>\n",
       "      <td>Carbimazole</td>\n",
       "      <td>D002231</td>\n",
       "      <td>22232-54-8</td>\n",
       "      <td>Graves Disease</td>\n",
       "      <td>MESH:D006111</td>\n",
       "      <td>therapeutic</td>\n",
       "      <td>NaN</td>\n",
       "      <td>NaN</td>\n",
       "      <td>NaN</td>\n",
       "      <td>12201214|16018796|1681385|19263707|7950664|945...</td>\n",
       "    </tr>\n",
       "    <tr>\n",
       "      <th>4400969</th>\n",
       "      <td>Methimazole</td>\n",
       "      <td>D008713</td>\n",
       "      <td>60-56-0</td>\n",
       "      <td>Graves Disease</td>\n",
       "      <td>MESH:D006111</td>\n",
       "      <td>therapeutic</td>\n",
       "      <td>NaN</td>\n",
       "      <td>NaN</td>\n",
       "      <td>NaN</td>\n",
       "      <td>11038449|12467281|15072706|16372246|1642096|18...</td>\n",
       "    </tr>\n",
       "    <tr>\n",
       "      <th>5566874</th>\n",
       "      <td>Potassium Iodide</td>\n",
       "      <td>D011193</td>\n",
       "      <td>7681-11-0</td>\n",
       "      <td>Graves Disease</td>\n",
       "      <td>MESH:D006111</td>\n",
       "      <td>therapeutic</td>\n",
       "      <td>NaN</td>\n",
       "      <td>NaN</td>\n",
       "      <td>NaN</td>\n",
       "      <td>3840600</td>\n",
       "    </tr>\n",
       "    <tr>\n",
       "      <th>5579912</th>\n",
       "      <td>Prednisolone</td>\n",
       "      <td>D011239</td>\n",
       "      <td>50-24-8</td>\n",
       "      <td>Graves Disease</td>\n",
       "      <td>MESH:D006111</td>\n",
       "      <td>therapeutic</td>\n",
       "      <td>NaN</td>\n",
       "      <td>NaN</td>\n",
       "      <td>NaN</td>\n",
       "      <td>9134835</td>\n",
       "    </tr>\n",
       "    <tr>\n",
       "      <th>5582350</th>\n",
       "      <td>Prednisone</td>\n",
       "      <td>D011241</td>\n",
       "      <td>53-03-2</td>\n",
       "      <td>Graves Disease</td>\n",
       "      <td>MESH:D006111</td>\n",
       "      <td>therapeutic</td>\n",
       "      <td>NaN</td>\n",
       "      <td>NaN</td>\n",
       "      <td>NaN</td>\n",
       "      <td>2263031</td>\n",
       "    </tr>\n",
       "    <tr>\n",
       "      <th>5650871</th>\n",
       "      <td>Propranolol</td>\n",
       "      <td>D011433</td>\n",
       "      <td>525-66-6</td>\n",
       "      <td>Graves Disease</td>\n",
       "      <td>MESH:D006111</td>\n",
       "      <td>therapeutic</td>\n",
       "      <td>NaN</td>\n",
       "      <td>NaN</td>\n",
       "      <td>NaN</td>\n",
       "      <td>17462097|7714072|9392993</td>\n",
       "    </tr>\n",
       "    <tr>\n",
       "      <th>5661294</th>\n",
       "      <td>Propylthiouracil</td>\n",
       "      <td>D011441</td>\n",
       "      <td>51-52-5</td>\n",
       "      <td>Graves Disease</td>\n",
       "      <td>MESH:D006111</td>\n",
       "      <td>therapeutic</td>\n",
       "      <td>NaN</td>\n",
       "      <td>NaN</td>\n",
       "      <td>NaN</td>\n",
       "      <td>11922496|11956877|12521217|1339201|15283191|16...</td>\n",
       "    </tr>\n",
       "    <tr>\n",
       "      <th>6589387</th>\n",
       "      <td>Thyroxine</td>\n",
       "      <td>D013974</td>\n",
       "      <td>7488-70-2</td>\n",
       "      <td>Graves Disease</td>\n",
       "      <td>MESH:D006111</td>\n",
       "      <td>marker/mechanism</td>\n",
       "      <td>NaN</td>\n",
       "      <td>NaN</td>\n",
       "      <td>NaN</td>\n",
       "      <td>9392993</td>\n",
       "    </tr>\n",
       "  </tbody>\n",
       "</table>\n",
       "</div>"
      ],
      "text/plain": [
       "              chemical_name mesh_chemical_id cas_registry_number  \\\n",
       "970390         alfacalcidol          C008088          41294-56-8   \n",
       "1173741  Antithyroid Agents          D013956                 NaN   \n",
       "1871562         Carbimazole          D002231          22232-54-8   \n",
       "4400969         Methimazole          D008713             60-56-0   \n",
       "5566874    Potassium Iodide          D011193           7681-11-0   \n",
       "5579912        Prednisolone          D011239             50-24-8   \n",
       "5582350          Prednisone          D011241             53-03-2   \n",
       "5650871         Propranolol          D011433            525-66-6   \n",
       "5661294    Propylthiouracil          D011441             51-52-5   \n",
       "6589387           Thyroxine          D013974           7488-70-2   \n",
       "\n",
       "            DiseaseName     DiseaseID   direct_evidence inference_gene_symbol  \\\n",
       "970390   Graves Disease  MESH:D006111       therapeutic                   NaN   \n",
       "1173741  Graves Disease  MESH:D006111       therapeutic                   NaN   \n",
       "1871562  Graves Disease  MESH:D006111       therapeutic                   NaN   \n",
       "4400969  Graves Disease  MESH:D006111       therapeutic                   NaN   \n",
       "5566874  Graves Disease  MESH:D006111       therapeutic                   NaN   \n",
       "5579912  Graves Disease  MESH:D006111       therapeutic                   NaN   \n",
       "5582350  Graves Disease  MESH:D006111       therapeutic                   NaN   \n",
       "5650871  Graves Disease  MESH:D006111       therapeutic                   NaN   \n",
       "5661294  Graves Disease  MESH:D006111       therapeutic                   NaN   \n",
       "6589387  Graves Disease  MESH:D006111  marker/mechanism                   NaN   \n",
       "\n",
       "         inference_score omim_id  \\\n",
       "970390               NaN     NaN   \n",
       "1173741              NaN     NaN   \n",
       "1871562              NaN     NaN   \n",
       "4400969              NaN     NaN   \n",
       "5566874              NaN     NaN   \n",
       "5579912              NaN     NaN   \n",
       "5582350              NaN     NaN   \n",
       "5650871              NaN     NaN   \n",
       "5661294              NaN     NaN   \n",
       "6589387              NaN     NaN   \n",
       "\n",
       "                                                    pubmed  \n",
       "970390                                             9322804  \n",
       "1173741                                           19263707  \n",
       "1871562  12201214|16018796|1681385|19263707|7950664|945...  \n",
       "4400969  11038449|12467281|15072706|16372246|1642096|18...  \n",
       "5566874                                            3840600  \n",
       "5579912                                            9134835  \n",
       "5582350                                            2263031  \n",
       "5650871                           17462097|7714072|9392993  \n",
       "5661294  11922496|11956877|12521217|1339201|15283191|16...  \n",
       "6589387                                            9392993  "
      ]
     },
     "execution_count": 9,
     "metadata": {},
     "output_type": "execute_result"
    },
    {
     "data": {
      "text/html": [
       "<div>\n",
       "<style scoped>\n",
       "    .dataframe tbody tr th:only-of-type {\n",
       "        vertical-align: middle;\n",
       "    }\n",
       "\n",
       "    .dataframe tbody tr th {\n",
       "        vertical-align: top;\n",
       "    }\n",
       "\n",
       "    .dataframe thead th {\n",
       "        text-align: right;\n",
       "    }\n",
       "</style>\n",
       "<table border=\"1\" class=\"dataframe\">\n",
       "  <thead>\n",
       "    <tr style=\"text-align: right;\">\n",
       "      <th></th>\n",
       "      <th>chemical_name</th>\n",
       "      <th>mesh_chemical_id</th>\n",
       "      <th>cas_registry_number</th>\n",
       "      <th>DiseaseName</th>\n",
       "      <th>DiseaseID</th>\n",
       "      <th>direct_evidence</th>\n",
       "      <th>inference_gene_symbol</th>\n",
       "      <th>inference_score</th>\n",
       "      <th>omim_id</th>\n",
       "      <th>pubmed</th>\n",
       "    </tr>\n",
       "  </thead>\n",
       "  <tbody>\n",
       "  </tbody>\n",
       "</table>\n",
       "</div>"
      ],
      "text/plain": [
       "Empty DataFrame\n",
       "Columns: [chemical_name, mesh_chemical_id, cas_registry_number, DiseaseName, DiseaseID, direct_evidence, inference_gene_symbol, inference_score, omim_id, pubmed]\n",
       "Index: []"
      ]
     },
     "execution_count": 9,
     "metadata": {},
     "output_type": "execute_result"
    },
    {
     "data": {
      "text/html": [
       "<div>\n",
       "<style scoped>\n",
       "    .dataframe tbody tr th:only-of-type {\n",
       "        vertical-align: middle;\n",
       "    }\n",
       "\n",
       "    .dataframe tbody tr th {\n",
       "        vertical-align: top;\n",
       "    }\n",
       "\n",
       "    .dataframe thead th {\n",
       "        text-align: right;\n",
       "    }\n",
       "</style>\n",
       "<table border=\"1\" class=\"dataframe\">\n",
       "  <thead>\n",
       "    <tr style=\"text-align: right;\">\n",
       "      <th></th>\n",
       "      <th>chemical_name</th>\n",
       "      <th>mesh_chemical_id</th>\n",
       "      <th>cas_registry_number</th>\n",
       "      <th>DiseaseName</th>\n",
       "      <th>DiseaseID</th>\n",
       "      <th>direct_evidence</th>\n",
       "      <th>inference_gene_symbol</th>\n",
       "      <th>inference_score</th>\n",
       "      <th>omim_id</th>\n",
       "      <th>pubmed</th>\n",
       "    </tr>\n",
       "  </thead>\n",
       "  <tbody>\n",
       "  </tbody>\n",
       "</table>\n",
       "</div>"
      ],
      "text/plain": [
       "Empty DataFrame\n",
       "Columns: [chemical_name, mesh_chemical_id, cas_registry_number, DiseaseName, DiseaseID, direct_evidence, inference_gene_symbol, inference_score, omim_id, pubmed]\n",
       "Index: []"
      ]
     },
     "execution_count": 9,
     "metadata": {},
     "output_type": "execute_result"
    }
   ],
   "source": [
    "## exploring what happens when disease has mesh and omim IDs. \n",
    "##   see http://ctdbase.org/detail.go?type=disease&acc=MESH%3aD006111\n",
    "\n",
    "CTD[(CTD['DiseaseID'] == 'MESH:D006111') & \n",
    "    (~ CTD['direct_evidence'].isna())]\n",
    "\n",
    "## this is mapped to the same mesh ID. see \n",
    "CTD[(CTD['DiseaseID'] == 'OMIM:275000')]\n",
    "CTD[(CTD['DiseaseID'] == 'OMIM:603388')]"
   ]
  },
  {
   "cell_type": "code",
   "execution_count": 3,
   "metadata": {
    "ExecuteTime": {
     "end_time": "2021-03-04T00:23:10.933921Z",
     "start_time": "2021-03-04T00:23:07.645767Z"
    }
   },
   "outputs": [
    {
     "data": {
      "text/html": [
       "<div>\n",
       "<style scoped>\n",
       "    .dataframe tbody tr th:only-of-type {\n",
       "        vertical-align: middle;\n",
       "    }\n",
       "\n",
       "    .dataframe tbody tr th {\n",
       "        vertical-align: top;\n",
       "    }\n",
       "\n",
       "    .dataframe thead th {\n",
       "        text-align: right;\n",
       "    }\n",
       "</style>\n",
       "<table border=\"1\" class=\"dataframe\">\n",
       "  <thead>\n",
       "    <tr style=\"text-align: right;\">\n",
       "      <th></th>\n",
       "      <th>chemical_name</th>\n",
       "      <th>mesh_chemical_id</th>\n",
       "      <th>cas_registry_number</th>\n",
       "      <th>DiseaseName</th>\n",
       "      <th>DiseaseID</th>\n",
       "      <th>direct_evidence</th>\n",
       "      <th>inference_gene_symbol</th>\n",
       "      <th>inference_score</th>\n",
       "      <th>omim_id</th>\n",
       "      <th>pubmed</th>\n",
       "    </tr>\n",
       "  </thead>\n",
       "  <tbody>\n",
       "    <tr>\n",
       "      <th>1103873</th>\n",
       "      <td>Amodiaquine</td>\n",
       "      <td>D000655</td>\n",
       "      <td>86-42-0</td>\n",
       "      <td>PLASMODIUM FALCIPARUM BLOOD INFECTION LEVEL</td>\n",
       "      <td>OMIM:248310</td>\n",
       "      <td>therapeutic</td>\n",
       "      <td>NaN</td>\n",
       "      <td>NaN</td>\n",
       "      <td>NaN</td>\n",
       "      <td>2663213</td>\n",
       "    </tr>\n",
       "    <tr>\n",
       "      <th>1285363</th>\n",
       "      <td>Ascorbic Acid</td>\n",
       "      <td>D001205</td>\n",
       "      <td>50-81-7</td>\n",
       "      <td>IMMUNE SUPPRESSION</td>\n",
       "      <td>OMIM:146850</td>\n",
       "      <td>therapeutic</td>\n",
       "      <td>NaN</td>\n",
       "      <td>NaN</td>\n",
       "      <td>NaN</td>\n",
       "      <td>15020195</td>\n",
       "    </tr>\n",
       "    <tr>\n",
       "      <th>1606493</th>\n",
       "      <td>bisphenol A</td>\n",
       "      <td>C006780</td>\n",
       "      <td>80-05-7</td>\n",
       "      <td>MUSCLE HYPERTROPHY</td>\n",
       "      <td>OMIM:614160</td>\n",
       "      <td>marker/mechanism</td>\n",
       "      <td>NaN</td>\n",
       "      <td>NaN</td>\n",
       "      <td>NaN</td>\n",
       "      <td>31501865</td>\n",
       "    </tr>\n",
       "    <tr>\n",
       "      <th>1689896</th>\n",
       "      <td>Bupropion</td>\n",
       "      <td>D016642</td>\n",
       "      <td>34841-39-9</td>\n",
       "      <td>TOBACCO ADDICTION, SUSCEPTIBILITY TO</td>\n",
       "      <td>OMIM:188890</td>\n",
       "      <td>therapeutic</td>\n",
       "      <td>NaN</td>\n",
       "      <td>NaN</td>\n",
       "      <td>NaN</td>\n",
       "      <td>16785264</td>\n",
       "    </tr>\n",
       "    <tr>\n",
       "      <th>2137688</th>\n",
       "      <td>Cisplatin</td>\n",
       "      <td>D002945</td>\n",
       "      <td>15663-27-1</td>\n",
       "      <td>HEARING LOSS, CISPLATIN-INDUCED, SUSCEPTIBILIT...</td>\n",
       "      <td>OMIM:613290</td>\n",
       "      <td>marker/mechanism</td>\n",
       "      <td>NaN</td>\n",
       "      <td>NaN</td>\n",
       "      <td>NaN</td>\n",
       "      <td>19898482|25551397|25665007|30952644|9256891</td>\n",
       "    </tr>\n",
       "    <tr>\n",
       "      <th>2357064</th>\n",
       "      <td>CV 3988</td>\n",
       "      <td>C037913</td>\n",
       "      <td>85703-73-7</td>\n",
       "      <td>IMMUNE SUPPRESSION</td>\n",
       "      <td>OMIM:146850</td>\n",
       "      <td>therapeutic</td>\n",
       "      <td>NaN</td>\n",
       "      <td>NaN</td>\n",
       "      <td>NaN</td>\n",
       "      <td>15020195</td>\n",
       "    </tr>\n",
       "    <tr>\n",
       "      <th>2387443</th>\n",
       "      <td>Cyclophosphamide</td>\n",
       "      <td>D003520</td>\n",
       "      <td>50-18-0</td>\n",
       "      <td>SPERMATOGENIC FAILURE 6</td>\n",
       "      <td>OMIM:102530</td>\n",
       "      <td>marker/mechanism</td>\n",
       "      <td>NaN</td>\n",
       "      <td>NaN</td>\n",
       "      <td>NaN</td>\n",
       "      <td>16517039</td>\n",
       "    </tr>\n",
       "    <tr>\n",
       "      <th>2398579</th>\n",
       "      <td>Cyclosporine</td>\n",
       "      <td>D016572</td>\n",
       "      <td>59865-13-3</td>\n",
       "      <td>IMMUNE SUPPRESSION</td>\n",
       "      <td>OMIM:146850</td>\n",
       "      <td>marker/mechanism</td>\n",
       "      <td>NaN</td>\n",
       "      <td>NaN</td>\n",
       "      <td>NaN</td>\n",
       "      <td>20156427</td>\n",
       "    </tr>\n",
       "    <tr>\n",
       "      <th>2895309</th>\n",
       "      <td>Doxorubicin</td>\n",
       "      <td>D004317</td>\n",
       "      <td>23214-92-8</td>\n",
       "      <td>QT INTERVAL, VARIATION IN</td>\n",
       "      <td>OMIM:610141</td>\n",
       "      <td>marker/mechanism</td>\n",
       "      <td>NaN</td>\n",
       "      <td>NaN</td>\n",
       "      <td>NaN</td>\n",
       "      <td>12597018|7919046</td>\n",
       "    </tr>\n",
       "    <tr>\n",
       "      <th>3974389</th>\n",
       "      <td>JP5 jet fuel</td>\n",
       "      <td>C029662</td>\n",
       "      <td>8008-20-6</td>\n",
       "      <td>IMMUNE SUPPRESSION</td>\n",
       "      <td>OMIM:146850</td>\n",
       "      <td>marker/mechanism</td>\n",
       "      <td>NaN</td>\n",
       "      <td>NaN</td>\n",
       "      <td>NaN</td>\n",
       "      <td>15020195</td>\n",
       "    </tr>\n",
       "    <tr>\n",
       "      <th>3976429</th>\n",
       "      <td>JP8 aviation fuel</td>\n",
       "      <td>C098607</td>\n",
       "      <td>NaN</td>\n",
       "      <td>IMMUNE SUPPRESSION</td>\n",
       "      <td>OMIM:146850</td>\n",
       "      <td>marker/mechanism</td>\n",
       "      <td>NaN</td>\n",
       "      <td>NaN</td>\n",
       "      <td>NaN</td>\n",
       "      <td>15020195</td>\n",
       "    </tr>\n",
       "    <tr>\n",
       "      <th>4347620</th>\n",
       "      <td>Mercuric Chloride</td>\n",
       "      <td>D008627</td>\n",
       "      <td>7487-94-7</td>\n",
       "      <td>IMMUNE SUPPRESSION</td>\n",
       "      <td>OMIM:146850</td>\n",
       "      <td>marker/mechanism</td>\n",
       "      <td>NaN</td>\n",
       "      <td>NaN</td>\n",
       "      <td>NaN</td>\n",
       "      <td>2009908|7657819</td>\n",
       "    </tr>\n",
       "    <tr>\n",
       "      <th>4843591</th>\n",
       "      <td>Nicotine</td>\n",
       "      <td>D009538</td>\n",
       "      <td>NaN</td>\n",
       "      <td>TOBACCO ADDICTION, SUSCEPTIBILITY TO</td>\n",
       "      <td>OMIM:188890</td>\n",
       "      <td>marker/mechanism</td>\n",
       "      <td>NaN</td>\n",
       "      <td>NaN</td>\n",
       "      <td>NaN</td>\n",
       "      <td>11259349|16720336</td>\n",
       "    </tr>\n",
       "    <tr>\n",
       "      <th>4843592</th>\n",
       "      <td>Nicotine</td>\n",
       "      <td>D009538</td>\n",
       "      <td>NaN</td>\n",
       "      <td>TOBACCO ADDICTION, SUSCEPTIBILITY TO</td>\n",
       "      <td>OMIM:188890</td>\n",
       "      <td>therapeutic</td>\n",
       "      <td>NaN</td>\n",
       "      <td>NaN</td>\n",
       "      <td>NaN</td>\n",
       "      <td>16785264</td>\n",
       "    </tr>\n",
       "    <tr>\n",
       "      <th>5191733</th>\n",
       "      <td>Particulate Matter</td>\n",
       "      <td>D052638</td>\n",
       "      <td>NaN</td>\n",
       "      <td>PULMONARY FUNCTION</td>\n",
       "      <td>OMIM:608852</td>\n",
       "      <td>marker/mechanism</td>\n",
       "      <td>NaN</td>\n",
       "      <td>NaN</td>\n",
       "      <td>NaN</td>\n",
       "      <td>26294199</td>\n",
       "    </tr>\n",
       "    <tr>\n",
       "      <th>5197241</th>\n",
       "      <td>PCA 4248</td>\n",
       "      <td>C066024</td>\n",
       "      <td>123875-01-4</td>\n",
       "      <td>IMMUNE SUPPRESSION</td>\n",
       "      <td>OMIM:146850</td>\n",
       "      <td>therapeutic</td>\n",
       "      <td>NaN</td>\n",
       "      <td>NaN</td>\n",
       "      <td>NaN</td>\n",
       "      <td>15020195</td>\n",
       "    </tr>\n",
       "    <tr>\n",
       "      <th>5485520</th>\n",
       "      <td>Plant Preparations</td>\n",
       "      <td>D028321</td>\n",
       "      <td>NaN</td>\n",
       "      <td>IMMUNE SUPPRESSION</td>\n",
       "      <td>OMIM:146850</td>\n",
       "      <td>therapeutic</td>\n",
       "      <td>NaN</td>\n",
       "      <td>NaN</td>\n",
       "      <td>NaN</td>\n",
       "      <td>20156427</td>\n",
       "    </tr>\n",
       "    <tr>\n",
       "      <th>5489146</th>\n",
       "      <td>Platelet Activating Factor</td>\n",
       "      <td>D010972</td>\n",
       "      <td>NaN</td>\n",
       "      <td>IMMUNE SUPPRESSION</td>\n",
       "      <td>OMIM:146850</td>\n",
       "      <td>marker/mechanism</td>\n",
       "      <td>NaN</td>\n",
       "      <td>NaN</td>\n",
       "      <td>NaN</td>\n",
       "      <td>15020195</td>\n",
       "    </tr>\n",
       "    <tr>\n",
       "      <th>7054719</th>\n",
       "      <td>Vitamin E</td>\n",
       "      <td>D014810</td>\n",
       "      <td>1406-18-4</td>\n",
       "      <td>IMMUNE SUPPRESSION</td>\n",
       "      <td>OMIM:146850</td>\n",
       "      <td>therapeutic</td>\n",
       "      <td>NaN</td>\n",
       "      <td>NaN</td>\n",
       "      <td>NaN</td>\n",
       "      <td>15020195</td>\n",
       "    </tr>\n",
       "  </tbody>\n",
       "</table>\n",
       "</div>"
      ],
      "text/plain": [
       "                      chemical_name mesh_chemical_id cas_registry_number  \\\n",
       "1103873                 Amodiaquine          D000655             86-42-0   \n",
       "1285363               Ascorbic Acid          D001205             50-81-7   \n",
       "1606493                 bisphenol A          C006780             80-05-7   \n",
       "1689896                   Bupropion          D016642          34841-39-9   \n",
       "2137688                   Cisplatin          D002945          15663-27-1   \n",
       "2357064                     CV 3988          C037913          85703-73-7   \n",
       "2387443            Cyclophosphamide          D003520             50-18-0   \n",
       "2398579                Cyclosporine          D016572          59865-13-3   \n",
       "2895309                 Doxorubicin          D004317          23214-92-8   \n",
       "3974389                JP5 jet fuel          C029662           8008-20-6   \n",
       "3976429           JP8 aviation fuel          C098607                 NaN   \n",
       "4347620           Mercuric Chloride          D008627           7487-94-7   \n",
       "4843591                    Nicotine          D009538                 NaN   \n",
       "4843592                    Nicotine          D009538                 NaN   \n",
       "5191733          Particulate Matter          D052638                 NaN   \n",
       "5197241                    PCA 4248          C066024         123875-01-4   \n",
       "5485520          Plant Preparations          D028321                 NaN   \n",
       "5489146  Platelet Activating Factor          D010972                 NaN   \n",
       "7054719                   Vitamin E          D014810           1406-18-4   \n",
       "\n",
       "                                               DiseaseName    DiseaseID  \\\n",
       "1103873        PLASMODIUM FALCIPARUM BLOOD INFECTION LEVEL  OMIM:248310   \n",
       "1285363                                 IMMUNE SUPPRESSION  OMIM:146850   \n",
       "1606493                                 MUSCLE HYPERTROPHY  OMIM:614160   \n",
       "1689896               TOBACCO ADDICTION, SUSCEPTIBILITY TO  OMIM:188890   \n",
       "2137688  HEARING LOSS, CISPLATIN-INDUCED, SUSCEPTIBILIT...  OMIM:613290   \n",
       "2357064                                 IMMUNE SUPPRESSION  OMIM:146850   \n",
       "2387443                            SPERMATOGENIC FAILURE 6  OMIM:102530   \n",
       "2398579                                 IMMUNE SUPPRESSION  OMIM:146850   \n",
       "2895309                          QT INTERVAL, VARIATION IN  OMIM:610141   \n",
       "3974389                                 IMMUNE SUPPRESSION  OMIM:146850   \n",
       "3976429                                 IMMUNE SUPPRESSION  OMIM:146850   \n",
       "4347620                                 IMMUNE SUPPRESSION  OMIM:146850   \n",
       "4843591               TOBACCO ADDICTION, SUSCEPTIBILITY TO  OMIM:188890   \n",
       "4843592               TOBACCO ADDICTION, SUSCEPTIBILITY TO  OMIM:188890   \n",
       "5191733                                 PULMONARY FUNCTION  OMIM:608852   \n",
       "5197241                                 IMMUNE SUPPRESSION  OMIM:146850   \n",
       "5485520                                 IMMUNE SUPPRESSION  OMIM:146850   \n",
       "5489146                                 IMMUNE SUPPRESSION  OMIM:146850   \n",
       "7054719                                 IMMUNE SUPPRESSION  OMIM:146850   \n",
       "\n",
       "          direct_evidence inference_gene_symbol  inference_score omim_id  \\\n",
       "1103873       therapeutic                   NaN              NaN     NaN   \n",
       "1285363       therapeutic                   NaN              NaN     NaN   \n",
       "1606493  marker/mechanism                   NaN              NaN     NaN   \n",
       "1689896       therapeutic                   NaN              NaN     NaN   \n",
       "2137688  marker/mechanism                   NaN              NaN     NaN   \n",
       "2357064       therapeutic                   NaN              NaN     NaN   \n",
       "2387443  marker/mechanism                   NaN              NaN     NaN   \n",
       "2398579  marker/mechanism                   NaN              NaN     NaN   \n",
       "2895309  marker/mechanism                   NaN              NaN     NaN   \n",
       "3974389  marker/mechanism                   NaN              NaN     NaN   \n",
       "3976429  marker/mechanism                   NaN              NaN     NaN   \n",
       "4347620  marker/mechanism                   NaN              NaN     NaN   \n",
       "4843591  marker/mechanism                   NaN              NaN     NaN   \n",
       "4843592       therapeutic                   NaN              NaN     NaN   \n",
       "5191733  marker/mechanism                   NaN              NaN     NaN   \n",
       "5197241       therapeutic                   NaN              NaN     NaN   \n",
       "5485520       therapeutic                   NaN              NaN     NaN   \n",
       "5489146  marker/mechanism                   NaN              NaN     NaN   \n",
       "7054719       therapeutic                   NaN              NaN     NaN   \n",
       "\n",
       "                                              pubmed  \n",
       "1103873                                      2663213  \n",
       "1285363                                     15020195  \n",
       "1606493                                     31501865  \n",
       "1689896                                     16785264  \n",
       "2137688  19898482|25551397|25665007|30952644|9256891  \n",
       "2357064                                     15020195  \n",
       "2387443                                     16517039  \n",
       "2398579                                     20156427  \n",
       "2895309                             12597018|7919046  \n",
       "3974389                                     15020195  \n",
       "3976429                                     15020195  \n",
       "4347620                              2009908|7657819  \n",
       "4843591                            11259349|16720336  \n",
       "4843592                                     16785264  \n",
       "5191733                                     26294199  \n",
       "5197241                                     15020195  \n",
       "5485520                                     20156427  \n",
       "5489146                                     15020195  \n",
       "7054719                                     15020195  "
      ]
     },
     "execution_count": 3,
     "metadata": {},
     "output_type": "execute_result"
    }
   ],
   "source": [
    "CTD[CTD['DiseaseID'].str.startswith('OMIM:') & \n",
    "    (~ CTD['direct_evidence'].isna())]"
   ]
  },
  {
   "cell_type": "code",
   "execution_count": 20,
   "metadata": {
    "ExecuteTime": {
     "end_time": "2021-02-17T00:03:12.413051Z",
     "start_time": "2021-02-17T00:03:04.927366Z"
    }
   },
   "outputs": [
    {
     "data": {
      "text/plain": [
       "False    7072948\n",
       "True      125804\n",
       "Name: DiseaseID, dtype: int64"
      ]
     },
     "execution_count": 20,
     "metadata": {},
     "output_type": "execute_result"
    },
    {
     "data": {
      "text/plain": [
       "True     7072948\n",
       "False     125804\n",
       "Name: DiseaseID, dtype: int64"
      ]
     },
     "execution_count": 20,
     "metadata": {},
     "output_type": "execute_result"
    },
    {
     "data": {
      "text/html": [
       "<div>\n",
       "<style scoped>\n",
       "    .dataframe tbody tr th:only-of-type {\n",
       "        vertical-align: middle;\n",
       "    }\n",
       "\n",
       "    .dataframe tbody tr th {\n",
       "        vertical-align: top;\n",
       "    }\n",
       "\n",
       "    .dataframe thead th {\n",
       "        text-align: right;\n",
       "    }\n",
       "</style>\n",
       "<table border=\"1\" class=\"dataframe\">\n",
       "  <thead>\n",
       "    <tr style=\"text-align: right;\">\n",
       "      <th></th>\n",
       "      <th>chemical_name</th>\n",
       "      <th>mesh_chemical_id</th>\n",
       "      <th>cas_registry_number</th>\n",
       "      <th>DiseaseName</th>\n",
       "      <th>DiseaseID</th>\n",
       "      <th>direct_evidence</th>\n",
       "      <th>inference_gene_symbol</th>\n",
       "      <th>inference_score</th>\n",
       "      <th>omim_id</th>\n",
       "      <th>pubmed</th>\n",
       "    </tr>\n",
       "  </thead>\n",
       "  <tbody>\n",
       "    <tr>\n",
       "      <th>60</th>\n",
       "      <td>10074-G5</td>\n",
       "      <td>C534883</td>\n",
       "      <td>NaN</td>\n",
       "      <td>PROSTATE CANCER/BRAIN CANCER SUSCEPTIBILITY</td>\n",
       "      <td>OMIM:603688</td>\n",
       "      <td>NaN</td>\n",
       "      <td>EPHB2</td>\n",
       "      <td>7.91</td>\n",
       "      <td>603688</td>\n",
       "      <td>NaN</td>\n",
       "    </tr>\n",
       "    <tr>\n",
       "      <th>84</th>\n",
       "      <td>10,10-bis(4-pyridinylmethyl)-9(10H)-anthracenone</td>\n",
       "      <td>C112297</td>\n",
       "      <td>NaN</td>\n",
       "      <td>DEVELOPMENTAL AND EPILEPTIC ENCEPHALOPATHY 7</td>\n",
       "      <td>OMIM:613720</td>\n",
       "      <td>NaN</td>\n",
       "      <td>KCNQ2</td>\n",
       "      <td>7.69</td>\n",
       "      <td>613720</td>\n",
       "      <td>NaN</td>\n",
       "    </tr>\n",
       "    <tr>\n",
       "      <th>115</th>\n",
       "      <td>10,10-bis(4-pyridinylmethyl)-9(10H)-anthracenone</td>\n",
       "      <td>C112297</td>\n",
       "      <td>NaN</td>\n",
       "      <td>SEIZURES, BENIGN FAMILIAL NEONATAL, 1</td>\n",
       "      <td>OMIM:121200</td>\n",
       "      <td>NaN</td>\n",
       "      <td>KCNQ2</td>\n",
       "      <td>7.69</td>\n",
       "      <td>121200</td>\n",
       "      <td>NaN</td>\n",
       "    </tr>\n",
       "    <tr>\n",
       "      <th>116</th>\n",
       "      <td>10,10-bis(4-pyridinylmethyl)-9(10H)-anthracenone</td>\n",
       "      <td>C112297</td>\n",
       "      <td>NaN</td>\n",
       "      <td>SEIZURES, BENIGN FAMILIAL NEONATAL, 2</td>\n",
       "      <td>OMIM:121201</td>\n",
       "      <td>NaN</td>\n",
       "      <td>KCNQ3</td>\n",
       "      <td>7.83</td>\n",
       "      <td>121201</td>\n",
       "      <td>NaN</td>\n",
       "    </tr>\n",
       "    <tr>\n",
       "      <th>450</th>\n",
       "      <td>103D5R</td>\n",
       "      <td>C496879</td>\n",
       "      <td>NaN</td>\n",
       "      <td>COWDEN SYNDROME 6</td>\n",
       "      <td>OMIM:615109</td>\n",
       "      <td>NaN</td>\n",
       "      <td>AKT1</td>\n",
       "      <td>6.45</td>\n",
       "      <td>615109</td>\n",
       "      <td>NaN</td>\n",
       "    </tr>\n",
       "    <tr>\n",
       "      <th>...</th>\n",
       "      <td>...</td>\n",
       "      <td>...</td>\n",
       "      <td>...</td>\n",
       "      <td>...</td>\n",
       "      <td>...</td>\n",
       "      <td>...</td>\n",
       "      <td>...</td>\n",
       "      <td>...</td>\n",
       "      <td>...</td>\n",
       "      <td>...</td>\n",
       "    </tr>\n",
       "    <tr>\n",
       "      <th>7197687</th>\n",
       "      <td>Zymosan</td>\n",
       "      <td>D015054</td>\n",
       "      <td>9010-72-4</td>\n",
       "      <td>MYCOBACTERIUM TUBERCULOSIS, SUSCEPTIBILITY TO</td>\n",
       "      <td>OMIM:607948</td>\n",
       "      <td>NaN</td>\n",
       "      <td>TLR2</td>\n",
       "      <td>13.18</td>\n",
       "      <td>607948</td>\n",
       "      <td>NaN</td>\n",
       "    </tr>\n",
       "    <tr>\n",
       "      <th>7197908</th>\n",
       "      <td>Zymosan</td>\n",
       "      <td>D015054</td>\n",
       "      <td>9010-72-4</td>\n",
       "      <td>NEURODEVELOPMENTAL DISORDER WITH SPASTIC DIPLE...</td>\n",
       "      <td>OMIM:615075</td>\n",
       "      <td>NaN</td>\n",
       "      <td>CTNNB1</td>\n",
       "      <td>5.16</td>\n",
       "      <td>615075</td>\n",
       "      <td>NaN</td>\n",
       "    </tr>\n",
       "    <tr>\n",
       "      <th>7197992</th>\n",
       "      <td>Zymosan</td>\n",
       "      <td>D015054</td>\n",
       "      <td>9010-72-4</td>\n",
       "      <td>OSTEOMYELITIS, STERILE MULTIFOCAL, WITH PERIOS...</td>\n",
       "      <td>OMIM:612852</td>\n",
       "      <td>NaN</td>\n",
       "      <td>IL1RN</td>\n",
       "      <td>5.46</td>\n",
       "      <td>612852</td>\n",
       "      <td>NaN</td>\n",
       "    </tr>\n",
       "    <tr>\n",
       "      <th>7197995</th>\n",
       "      <td>Zymosan</td>\n",
       "      <td>D015054</td>\n",
       "      <td>9010-72-4</td>\n",
       "      <td>OSTEOPETROSIS, AUTOSOMAL RECESSIVE 2</td>\n",
       "      <td>OMIM:259710</td>\n",
       "      <td>NaN</td>\n",
       "      <td>TNFSF11</td>\n",
       "      <td>5.51</td>\n",
       "      <td>259710</td>\n",
       "      <td>NaN</td>\n",
       "    </tr>\n",
       "    <tr>\n",
       "      <th>7198750</th>\n",
       "      <td>zymosterol</td>\n",
       "      <td>C015582</td>\n",
       "      <td>128-33-6</td>\n",
       "      <td>MICROCEPHALY, CONGENITAL CATARACT, AND PSORIAS...</td>\n",
       "      <td>OMIM:616834</td>\n",
       "      <td>NaN</td>\n",
       "      <td>MSMO1</td>\n",
       "      <td>7.81</td>\n",
       "      <td>616834</td>\n",
       "      <td>NaN</td>\n",
       "    </tr>\n",
       "  </tbody>\n",
       "</table>\n",
       "<p>125804 rows × 10 columns</p>\n",
       "</div>"
      ],
      "text/plain": [
       "                                            chemical_name mesh_chemical_id  \\\n",
       "60                                               10074-G5          C534883   \n",
       "84       10,10-bis(4-pyridinylmethyl)-9(10H)-anthracenone          C112297   \n",
       "115      10,10-bis(4-pyridinylmethyl)-9(10H)-anthracenone          C112297   \n",
       "116      10,10-bis(4-pyridinylmethyl)-9(10H)-anthracenone          C112297   \n",
       "450                                                103D5R          C496879   \n",
       "...                                                   ...              ...   \n",
       "7197687                                           Zymosan          D015054   \n",
       "7197908                                           Zymosan          D015054   \n",
       "7197992                                           Zymosan          D015054   \n",
       "7197995                                           Zymosan          D015054   \n",
       "7198750                                        zymosterol          C015582   \n",
       "\n",
       "        cas_registry_number  \\\n",
       "60                      NaN   \n",
       "84                      NaN   \n",
       "115                     NaN   \n",
       "116                     NaN   \n",
       "450                     NaN   \n",
       "...                     ...   \n",
       "7197687           9010-72-4   \n",
       "7197908           9010-72-4   \n",
       "7197992           9010-72-4   \n",
       "7197995           9010-72-4   \n",
       "7198750            128-33-6   \n",
       "\n",
       "                                               DiseaseName    DiseaseID  \\\n",
       "60             PROSTATE CANCER/BRAIN CANCER SUSCEPTIBILITY  OMIM:603688   \n",
       "84            DEVELOPMENTAL AND EPILEPTIC ENCEPHALOPATHY 7  OMIM:613720   \n",
       "115                  SEIZURES, BENIGN FAMILIAL NEONATAL, 1  OMIM:121200   \n",
       "116                  SEIZURES, BENIGN FAMILIAL NEONATAL, 2  OMIM:121201   \n",
       "450                                      COWDEN SYNDROME 6  OMIM:615109   \n",
       "...                                                    ...          ...   \n",
       "7197687      MYCOBACTERIUM TUBERCULOSIS, SUSCEPTIBILITY TO  OMIM:607948   \n",
       "7197908  NEURODEVELOPMENTAL DISORDER WITH SPASTIC DIPLE...  OMIM:615075   \n",
       "7197992  OSTEOMYELITIS, STERILE MULTIFOCAL, WITH PERIOS...  OMIM:612852   \n",
       "7197995               OSTEOPETROSIS, AUTOSOMAL RECESSIVE 2  OMIM:259710   \n",
       "7198750  MICROCEPHALY, CONGENITAL CATARACT, AND PSORIAS...  OMIM:616834   \n",
       "\n",
       "        direct_evidence inference_gene_symbol  inference_score omim_id pubmed  \n",
       "60                  NaN                 EPHB2             7.91  603688    NaN  \n",
       "84                  NaN                 KCNQ2             7.69  613720    NaN  \n",
       "115                 NaN                 KCNQ2             7.69  121200    NaN  \n",
       "116                 NaN                 KCNQ3             7.83  121201    NaN  \n",
       "450                 NaN                  AKT1             6.45  615109    NaN  \n",
       "...                 ...                   ...              ...     ...    ...  \n",
       "7197687             NaN                  TLR2            13.18  607948    NaN  \n",
       "7197908             NaN                CTNNB1             5.16  615075    NaN  \n",
       "7197992             NaN                 IL1RN             5.46  612852    NaN  \n",
       "7197995             NaN               TNFSF11             5.51  259710    NaN  \n",
       "7198750             NaN                 MSMO1             7.81  616834    NaN  \n",
       "\n",
       "[125804 rows x 10 columns]"
      ]
     },
     "execution_count": 20,
     "metadata": {},
     "output_type": "execute_result"
    }
   ],
   "source": [
    "CTD['DiseaseID'].str.startswith('OMIM:').value_counts()\n",
    "CTD['DiseaseID'].str.startswith('MESH:').value_counts()\n",
    "\n",
    "CTD[CTD['DiseaseID'].str.startswith('OMIM:')]"
   ]
  },
  {
   "cell_type": "code",
   "execution_count": 10,
   "metadata": {
    "ExecuteTime": {
     "end_time": "2021-02-11T07:17:27.417611Z",
     "start_time": "2021-02-11T07:17:26.657800Z"
    }
   },
   "outputs": [
    {
     "data": {
      "text/plain": [
       "16291"
      ]
     },
     "execution_count": 10,
     "metadata": {},
     "output_type": "execute_result"
    },
    {
     "data": {
      "text/plain": [
       "7239"
      ]
     },
     "execution_count": 10,
     "metadata": {},
     "output_type": "execute_result"
    }
   ],
   "source": [
    "CTD['mesh_chemical_id'].nunique()\n",
    "CTD['DiseaseID'].nunique()"
   ]
  },
  {
   "cell_type": "code",
   "execution_count": null,
   "metadata": {
    "ExecuteTime": {
     "end_time": "2021-01-19T22:00:01.976833Z",
     "start_time": "2021-01-19T22:00:01.492644Z"
    }
   },
   "outputs": [],
   "source": [
    "CTD[(CTD['DiseaseID'] == 'MESH:D012128')]"
   ]
  },
  {
   "cell_type": "code",
   "execution_count": null,
   "metadata": {
    "ExecuteTime": {
     "end_time": "2021-01-19T22:07:55.369113Z",
     "start_time": "2021-01-19T22:07:54.887350Z"
    }
   },
   "outputs": [],
   "source": [
    "CTD[(CTD['DiseaseID'] == 'MESH:D012128')].chemical_name.nunique()"
   ]
  },
  {
   "cell_type": "code",
   "execution_count": null,
   "metadata": {
    "ExecuteTime": {
     "end_time": "2021-01-19T22:02:25.635380Z",
     "start_time": "2021-01-19T22:02:22.758034Z"
    }
   },
   "outputs": [],
   "source": [
    "CTD[(CTD['DiseaseID'] == 'MESH:D012128') &\n",
    "    (CTD.chemical_name.str.startswith('Zinc'))]"
   ]
  },
  {
   "cell_type": "code",
   "execution_count": 11,
   "metadata": {
    "ExecuteTime": {
     "end_time": "2021-02-11T07:17:43.487638Z",
     "start_time": "2021-02-11T07:17:43.148258Z"
    }
   },
   "outputs": [
    {
     "data": {
      "text/plain": [
       "marker/mechanism    64754\n",
       "therapeutic         36239\n",
       "Name: direct_evidence, dtype: int64"
      ]
     },
     "execution_count": 11,
     "metadata": {},
     "output_type": "execute_result"
    }
   ],
   "source": [
    "CTD.direct_evidence.value_counts()"
   ]
  },
  {
   "cell_type": "code",
   "execution_count": null,
   "metadata": {
    "ExecuteTime": {
     "end_time": "2021-01-02T23:52:09.953449Z",
     "start_time": "2021-01-02T23:52:09.466748Z"
    }
   },
   "outputs": [],
   "source": [
    "CTD.inference_score.count()\n",
    "CTD.inference_score.describe()"
   ]
  },
  {
   "cell_type": "code",
   "execution_count": null,
   "metadata": {
    "ExecuteTime": {
     "end_time": "2021-01-03T00:30:29.952563Z",
     "start_time": "2021-01-03T00:30:23.926844Z"
    }
   },
   "outputs": [],
   "source": [
    "CTD.DiseaseID.str.contains('OMIM:').value_counts()\n",
    "CTD.DiseaseID.str.contains('MESH:').value_counts()\n",
    "## so all diseaseIDs are either MESH or OMIM"
   ]
  },
  {
   "cell_type": "markdown",
   "metadata": {},
   "source": [
    "## disease -> pathway"
   ]
  },
  {
   "cell_type": "code",
   "execution_count": 46,
   "metadata": {
    "ExecuteTime": {
     "end_time": "2021-02-16T02:24:06.448549Z",
     "start_time": "2021-02-16T02:24:05.704539Z"
    }
   },
   "outputs": [
    {
     "data": {
      "text/plain": [
       "Index(['DiseaseName', 'DiseaseID', 'PathwayName', 'PathwayID',\n",
       "       'InferenceGeneSymbol'],\n",
       "      dtype='object')"
      ]
     },
     "execution_count": 46,
     "metadata": {},
     "output_type": "execute_result"
    },
    {
     "data": {
      "text/plain": [
       "(589408, 5)"
      ]
     },
     "execution_count": 46,
     "metadata": {},
     "output_type": "execute_result"
    }
   ],
   "source": [
    "CTD2_path = pathlib.Path.home().joinpath('Downloads', 'CTD_diseases_pathways.csv.gz')\n",
    "CTD2 = pd.read_table(CTD2_path, sep=\",\", comment='#', compression='gzip',\n",
    "                    names=['DiseaseName', 'DiseaseID', 'PathwayName', 'PathwayID', 'InferenceGeneSymbol'],\n",
    "                    dtype=str)\n",
    "CTD2.columns\n",
    "CTD2.shape"
   ]
  },
  {
   "cell_type": "code",
   "execution_count": 47,
   "metadata": {
    "ExecuteTime": {
     "end_time": "2021-02-16T02:24:07.443458Z",
     "start_time": "2021-02-16T02:24:07.269748Z"
    }
   },
   "outputs": [
    {
     "data": {
      "text/plain": [
       "MESH:D011471    1558\n",
       "MESH:D008106    1443\n",
       "MESH:D001943    1416\n",
       "MESH:D006528    1358\n",
       "MESH:D013274    1284\n",
       "                ... \n",
       "OMIM:615527        1\n",
       "MESH:C537659       1\n",
       "MESH:D002282       1\n",
       "MESH:C567906       1\n",
       "MESH:C567758       1\n",
       "Name: DiseaseID, Length: 5031, dtype: int64"
      ]
     },
     "execution_count": 47,
     "metadata": {},
     "output_type": "execute_result"
    }
   ],
   "source": [
    "CTD2[['DiseaseID', 'PathwayID']].drop_duplicates().DiseaseID.value_counts()"
   ]
  },
  {
   "cell_type": "code",
   "execution_count": 48,
   "metadata": {
    "ExecuteTime": {
     "end_time": "2021-02-16T02:24:09.872409Z",
     "start_time": "2021-02-16T02:24:09.707559Z"
    }
   },
   "outputs": [
    {
     "data": {
      "text/plain": [
       "MESH:D017202    1054\n",
       "MESH:D018450    1040\n",
       "MESH:D009362    1039\n",
       "MESH:D008545    1037\n",
       "MESH:D003110    1036\n",
       "MESH:D008325    1020\n",
       "MESH:D001321    1014\n",
       "MESH:D003924    1007\n",
       "MESH:D009361     996\n",
       "MESH:D002294     995\n",
       "Name: DiseaseID, dtype: int64"
      ]
     },
     "execution_count": 48,
     "metadata": {},
     "output_type": "execute_result"
    }
   ],
   "source": [
    "CTD2[['DiseaseID', 'PathwayID']].drop_duplicates().DiseaseID.value_counts()[10:20]"
   ]
  },
  {
   "cell_type": "code",
   "execution_count": 49,
   "metadata": {
    "ExecuteTime": {
     "end_time": "2021-02-16T02:27:13.593483Z",
     "start_time": "2021-02-16T02:27:13.505748Z"
    }
   },
   "outputs": [
    {
     "data": {
      "text/html": [
       "<div>\n",
       "<style scoped>\n",
       "    .dataframe tbody tr th:only-of-type {\n",
       "        vertical-align: middle;\n",
       "    }\n",
       "\n",
       "    .dataframe tbody tr th {\n",
       "        vertical-align: top;\n",
       "    }\n",
       "\n",
       "    .dataframe thead th {\n",
       "        text-align: right;\n",
       "    }\n",
       "</style>\n",
       "<table border=\"1\" class=\"dataframe\">\n",
       "  <thead>\n",
       "    <tr style=\"text-align: right;\">\n",
       "      <th></th>\n",
       "      <th>DiseaseName</th>\n",
       "      <th>DiseaseID</th>\n",
       "      <th>PathwayName</th>\n",
       "      <th>PathwayID</th>\n",
       "      <th>InferenceGeneSymbol</th>\n",
       "    </tr>\n",
       "  </thead>\n",
       "  <tbody>\n",
       "    <tr>\n",
       "      <th>108673</th>\n",
       "      <td>Carcinoma, Squamous Cell</td>\n",
       "      <td>MESH:D002294</td>\n",
       "      <td>Interleukin-6 signaling</td>\n",
       "      <td>REACT:R-HSA-1059683</td>\n",
       "      <td>IL6</td>\n",
       "    </tr>\n",
       "    <tr>\n",
       "      <th>108674</th>\n",
       "      <td>Carcinoma, Squamous Cell</td>\n",
       "      <td>MESH:D002294</td>\n",
       "      <td>Interleukin-6 signaling</td>\n",
       "      <td>REACT:R-HSA-1059683</td>\n",
       "      <td>PTPN11</td>\n",
       "    </tr>\n",
       "    <tr>\n",
       "      <th>108675</th>\n",
       "      <td>Carcinoma, Squamous Cell</td>\n",
       "      <td>MESH:D002294</td>\n",
       "      <td>Interleukin-6 signaling</td>\n",
       "      <td>REACT:R-HSA-1059683</td>\n",
       "      <td>STAT3</td>\n",
       "    </tr>\n",
       "  </tbody>\n",
       "</table>\n",
       "</div>"
      ],
      "text/plain": [
       "                     DiseaseName     DiseaseID              PathwayName  \\\n",
       "108673  Carcinoma, Squamous Cell  MESH:D002294  Interleukin-6 signaling   \n",
       "108674  Carcinoma, Squamous Cell  MESH:D002294  Interleukin-6 signaling   \n",
       "108675  Carcinoma, Squamous Cell  MESH:D002294  Interleukin-6 signaling   \n",
       "\n",
       "                  PathwayID InferenceGeneSymbol  \n",
       "108673  REACT:R-HSA-1059683                 IL6  \n",
       "108674  REACT:R-HSA-1059683              PTPN11  \n",
       "108675  REACT:R-HSA-1059683               STAT3  "
      ]
     },
     "execution_count": 49,
     "metadata": {},
     "output_type": "execute_result"
    }
   ],
   "source": [
    "CTD2[(CTD2['DiseaseID'] == 'MESH:D002294') &\n",
    "     (CTD2['PathwayID'] == 'REACT:R-HSA-1059683')]"
   ]
  },
  {
   "cell_type": "code",
   "execution_count": null,
   "metadata": {
    "ExecuteTime": {
     "end_time": "2021-01-19T22:16:42.151874Z",
     "start_time": "2021-01-19T22:16:42.109600Z"
    }
   },
   "outputs": [],
   "source": [
    "CTD2[(CTD2['DiseaseID'] == 'MESH:D012128')].PathwayID.nunique()"
   ]
  },
  {
   "cell_type": "code",
   "execution_count": null,
   "metadata": {
    "ExecuteTime": {
     "end_time": "2021-01-03T00:40:25.380538Z",
     "start_time": "2021-01-03T00:40:24.832278Z"
    }
   },
   "outputs": [],
   "source": [
    "CTD2.DiseaseID.str.contains('OMIM:').value_counts()\n",
    "CTD2.DiseaseID.str.contains('MESH:').value_counts()\n",
    "## so all diseaseIDs are either MESH or OMIM"
   ]
  },
  {
   "cell_type": "code",
   "execution_count": null,
   "metadata": {
    "ExecuteTime": {
     "end_time": "2021-01-03T00:40:52.231836Z",
     "start_time": "2021-01-03T00:40:51.662755Z"
    }
   },
   "outputs": [],
   "source": [
    "CTD2.PathwayID.str.contains('REACT:').value_counts()\n",
    "CTD2.PathwayID.str.contains('KEGG:').value_counts()"
   ]
  },
  {
   "cell_type": "code",
   "execution_count": null,
   "metadata": {
    "ExecuteTime": {
     "end_time": "2021-01-03T00:51:39.170592Z",
     "start_time": "2021-01-03T00:51:38.581727Z"
    }
   },
   "outputs": [],
   "source": [
    "CTD2[CTD2['DiseaseID'].str.contains('MESH')].PathwayID.str.contains('REACT:').value_counts()\n",
    "## so disease MESH - REACT pathway and disease MESH - KEGG pathway both exist"
   ]
  },
  {
   "cell_type": "code",
   "execution_count": null,
   "metadata": {
    "ExecuteTime": {
     "end_time": "2021-01-03T00:52:18.327278Z",
     "start_time": "2021-01-03T00:52:18.063788Z"
    }
   },
   "outputs": [],
   "source": [
    "CTD2[CTD2['DiseaseID'].str.contains('OMIM')].PathwayID.str.contains('REACT:').value_counts()\n",
    "## so disease OMIM - REACT pathway and disease OMIM - KEGG pathway both exist"
   ]
  },
  {
   "cell_type": "code",
   "execution_count": null,
   "metadata": {},
   "outputs": [],
   "source": []
  }
 ],
 "metadata": {
  "kernelspec": {
   "display_name": "Python 3",
   "language": "python",
   "name": "python3"
  },
  "language_info": {
   "codemirror_mode": {
    "name": "ipython",
    "version": 3
   },
   "file_extension": ".py",
   "mimetype": "text/x-python",
   "name": "python",
   "nbconvert_exporter": "python",
   "pygments_lexer": "ipython3",
   "version": "3.9.4"
  },
  "toc": {
   "base_numbering": 1,
   "nav_menu": {},
   "number_sections": true,
   "sideBar": true,
   "skip_h1_title": false,
   "title_cell": "Table of Contents",
   "title_sidebar": "Contents",
   "toc_cell": false,
   "toc_position": {
    "height": "calc(100% - 180px)",
    "left": "10px",
    "top": "150px",
    "width": "171.8px"
   },
   "toc_section_display": true,
   "toc_window_display": true
  },
  "varInspector": {
   "cols": {
    "lenName": 16,
    "lenType": 16,
    "lenVar": 40
   },
   "kernels_config": {
    "python": {
     "delete_cmd_postfix": "",
     "delete_cmd_prefix": "del ",
     "library": "var_list.py",
     "varRefreshCmd": "print(var_dic_list())"
    },
    "r": {
     "delete_cmd_postfix": ") ",
     "delete_cmd_prefix": "rm(",
     "library": "var_list.r",
     "varRefreshCmd": "cat(var_dic_list()) "
    }
   },
   "types_to_exclude": [
    "module",
    "function",
    "builtin_function_or_method",
    "instance",
    "_Feature"
   ],
   "window_display": false
  }
 },
 "nbformat": 4,
 "nbformat_minor": 4
}
