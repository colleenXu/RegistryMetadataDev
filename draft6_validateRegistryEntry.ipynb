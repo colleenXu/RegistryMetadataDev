{
 "cells": [
  {
   "cell_type": "markdown",
   "metadata": {},
   "source": [
    "# Example of validating the registry entry using schema"
   ]
  },
  {
   "cell_type": "code",
   "execution_count": 1,
   "metadata": {
    "ExecuteTime": {
     "end_time": "2020-12-27T07:15:14.088150Z",
     "start_time": "2020-12-27T07:15:13.460518Z"
    }
   },
   "outputs": [],
   "source": [
    "## CX: allows multiple lines of code to print from one code block\n",
    "from IPython.core.interactiveshell import InteractiveShell\n",
    "InteractiveShell.ast_node_interactivity = \"all\"\n",
    "\n",
    "import json\n",
    "import jsonschema\n",
    "import pathlib\n",
    "import jsonref\n",
    "import yaml"
   ]
  },
  {
   "cell_type": "code",
   "execution_count": 2,
   "metadata": {
    "ExecuteTime": {
     "end_time": "2020-12-27T07:15:14.722068Z",
     "start_time": "2020-12-27T07:15:14.711822Z"
    }
   },
   "outputs": [
    {
     "data": {
      "text/plain": [
       "PosixPath('/Users/jay/Desktop/biothings_explorer/jupyter notebooks/CX_WIPs/Draft_Metadata')"
      ]
     },
     "execution_count": 2,
     "metadata": {},
     "output_type": "execute_result"
    }
   ],
   "source": [
    "pathlib.Path.cwd()"
   ]
  },
  {
   "cell_type": "markdown",
   "metadata": {},
   "source": [
    "## loading schema"
   ]
  },
  {
   "cell_type": "code",
   "execution_count": 3,
   "metadata": {
    "ExecuteTime": {
     "end_time": "2020-12-27T07:15:16.709122Z",
     "start_time": "2020-12-27T07:15:16.588565Z"
    }
   },
   "outputs": [],
   "source": [
    "yaml_schema = pathlib.Path.cwd().joinpath(\"draft6_schema_registry.yaml\")\n",
    "with open(yaml_schema) as file:\n",
    "    schema_from_yaml = yaml.load(file, Loader=yaml.SafeLoader)\n",
    "    schema_from_yaml = json.dumps(schema_from_yaml, indent=2)\n",
    "    schema_from_yaml = jsonref.loads(schema_from_yaml)"
   ]
  },
  {
   "cell_type": "code",
   "execution_count": 4,
   "metadata": {
    "ExecuteTime": {
     "end_time": "2020-12-27T07:15:17.205992Z",
     "start_time": "2020-12-27T07:15:17.201432Z"
    }
   },
   "outputs": [
    {
     "data": {
      "text/plain": [
       "dict_keys(['title', '$schema', 'type', 'description', 'required', 'properties', 'definitions'])"
      ]
     },
     "execution_count": 4,
     "metadata": {},
     "output_type": "execute_result"
    },
    {
     "data": {
      "text/plain": [
       "'Describes the x-bte-association-retrieval metadata extension within SmartAPI registry files. Knowledge-provider (KP) APIs in the Translator ecosystem provide associations/edges between biomedical entities. This extension describes how to query these APIs and how to post-process their responses and associated metadata into a standard format. There may be multiple objects within the extension for different queries (with different input types, predicates, sources, or output types involved).'"
      ]
     },
     "execution_count": 4,
     "metadata": {},
     "output_type": "execute_result"
    }
   ],
   "source": [
    "schema_from_yaml.keys()\n",
    "schema_from_yaml['description']"
   ]
  },
  {
   "cell_type": "code",
   "execution_count": 5,
   "metadata": {
    "ExecuteTime": {
     "end_time": "2020-12-27T07:15:17.837260Z",
     "start_time": "2020-12-27T07:15:17.833373Z"
    },
    "scrolled": false
   },
   "outputs": [
    {
     "data": {
      "text/plain": [
       "dict_keys(['queryInfo', 'inputs', 'outputs', 'predicateInfo', 'references', 'provenance', 'numericMeasures', 'categoryMeasures', 'contextRelevance'])"
      ]
     },
     "execution_count": 5,
     "metadata": {},
     "output_type": "execute_result"
    }
   ],
   "source": [
    "schema_from_yaml['properties']['components']['properties']\\\n",
    "['x-bte-association-retrieval']['patternProperties']['.']['properties'].keys()"
   ]
  },
  {
   "cell_type": "code",
   "execution_count": 6,
   "metadata": {
    "ExecuteTime": {
     "end_time": "2020-12-27T07:15:18.428142Z",
     "start_time": "2020-12-27T07:15:18.420800Z"
    }
   },
   "outputs": [
    {
     "data": {
      "text/plain": [
       "{'description': 'Used to provide publications and website URLs for users to learn more about an association, knowledge-source, measure, context/relevance, etc',\n",
       " 'type': 'object',\n",
       " 'additionalProperties': False,\n",
       " 'minProperties': 1,\n",
       " 'properties': {'publications': {'type': 'object',\n",
       "   'minProperties': 1,\n",
       "   'patternProperties': {'.': {'oneOf': [{'type': 'object',\n",
       "       'required': ['value'],\n",
       "       'additionalProperties': False,\n",
       "       'properties': {'value': {'oneOf': [{'type': 'array',\n",
       "           'minItems': 1,\n",
       "           'items': {'type': ['string', 'number']}},\n",
       "          {'type': ['string', 'number']}]}}},\n",
       "      {'description': 'Info is dynamic and can be taken directly from the value in a specific field of the API/JSON response. In this situation, the registry points to the response field using dot-notation',\n",
       "       'type': 'object',\n",
       "       'required': ['responseField'],\n",
       "       'additionalProperties': False,\n",
       "       'properties': {'responseField': {'type': 'string'}}},\n",
       "      {'description': 'Info is dynamic but its value has to be mapped or transformed from one or more values/fields in the API/JSON response',\n",
       "       'type': 'object',\n",
       "       'required': ['instructions', 'responseFieldsUsed', 'bteCode'],\n",
       "       'additionalProperties': False,\n",
       "       'properties': {'instructions': {'description': 'Long-text description of what should be done to get info in the desired format using the other properties of this object. Also explains what the association property should look like after this post-processing',\n",
       "         'type': 'string'},\n",
       "        'responseFieldsUsed': {'description': 'dot-notation for the one or more fields in the API/JSON response used',\n",
       "         'oneOf': [{'type': 'array',\n",
       "           'minItems': 1,\n",
       "           'items': {'type': 'string'}},\n",
       "          {'type': 'string'}]},\n",
       "        'mappingFile': {'description': 'github link to YAML file that maps possible values from the response fields (as string keys) to info in the desired format',\n",
       "         'type': 'string'},\n",
       "        'bteCode': {'description': 'github link to the code BTE uses to post-process API/JSON responses (using the info in other properties of this object)',\n",
       "         'type': 'string'}}}]}}},\n",
       "  'websites': {'oneOf': [{'description': 'Info is not dependent on API/JSON-response. In this situation, a static value can be set in the registry using the value field',\n",
       "     'type': 'object',\n",
       "     'required': ['value'],\n",
       "     'additionalProperties': False,\n",
       "     'properties': {'value': {'oneOf': [{'type': 'array',\n",
       "         'minItems': 1,\n",
       "         'items': {'type': 'string'}},\n",
       "        {'type': 'string'}]}}},\n",
       "    {'description': 'Info is dynamic but its value has to be made using a template one or more values/fields in the API/JSON response OR the query',\n",
       "     'type': 'object',\n",
       "     'required': ['instructions', 'template', 'templateKeys', 'bteCode'],\n",
       "     'additionalProperties': False,\n",
       "     'properties': {'instructions': {'description': 'Long-text description of what should be done to get info in the desired format using the other properties of this object. Also explains what the association property should look like after this post-processing',\n",
       "       'type': 'string'},\n",
       "      'template': {'description': 'One string template (Python string-formatting-like). The keywords bracketed by curly brackets are replacement-fields that point to what they should be replaced with (see templateKeys)',\n",
       "       'type': 'string'},\n",
       "      'templateKeys': {'description': 'Object (Python dict-like). Keys are the keywords in the template; values are dot-notation for API/JSON response fields OR variable names for query/input info. That data should be used to replace the keywords in the template, creating one or more strings',\n",
       "       'type': 'object',\n",
       "       'minProperties': 1,\n",
       "       'patternProperties': {'.': {'type': 'string'}}},\n",
       "      'bteCode': {'description': 'github link to the code BTE uses to post-process API/JSON responses (using the info in other properties of this object)',\n",
       "       'type': 'string'}}}]}}}"
      ]
     },
     "execution_count": 6,
     "metadata": {},
     "output_type": "execute_result"
    }
   ],
   "source": [
    "schema_from_yaml['properties']['components']['properties']\\\n",
    "['x-bte-association-retrieval']['patternProperties']['.']['properties']['references']"
   ]
  },
  {
   "cell_type": "markdown",
   "metadata": {},
   "source": [
    "## checking an example"
   ]
  },
  {
   "cell_type": "code",
   "execution_count": 8,
   "metadata": {
    "ExecuteTime": {
     "end_time": "2020-12-27T07:16:27.757028Z",
     "start_time": "2020-12-27T07:16:27.728779Z"
    }
   },
   "outputs": [],
   "source": [
    "yaml_example = pathlib.Path.cwd().joinpath(\"draft6_example_registry_automatHMDB.yaml\")\n",
    "with open(yaml_example) as file:\n",
    "    example_from_yaml = yaml.load(file, Loader=yaml.SafeLoader)\n",
    "    example_from_yaml = json.dumps(example_from_yaml, indent=2)\n",
    "    example_from_yaml = jsonref.loads(example_from_yaml)"
   ]
  },
  {
   "cell_type": "code",
   "execution_count": 9,
   "metadata": {
    "ExecuteTime": {
     "end_time": "2020-12-27T07:16:30.197988Z",
     "start_time": "2020-12-27T07:16:30.193936Z"
    }
   },
   "outputs": [
    {
     "data": {
      "text/plain": [
       "dict_keys(['gene2chemical', 'chemical2gene', 'chemical2disease', 'disease2chemical'])"
      ]
     },
     "execution_count": 9,
     "metadata": {},
     "output_type": "execute_result"
    }
   ],
   "source": [
    "example_from_yaml['components']['x-bte-association-retrieval'].keys()"
   ]
  },
  {
   "cell_type": "markdown",
   "metadata": {},
   "source": [
    "## validate example against schema"
   ]
  },
  {
   "cell_type": "code",
   "execution_count": 10,
   "metadata": {
    "ExecuteTime": {
     "end_time": "2020-12-27T07:16:33.263142Z",
     "start_time": "2020-12-27T07:16:33.187104Z"
    }
   },
   "outputs": [],
   "source": [
    "jsonschema.validate(instance=example_from_yaml, schema=schema_from_yaml)\n",
    "## YAYAYAYAYAY this means it validated!!!!!!!"
   ]
  },
  {
   "cell_type": "markdown",
   "metadata": {},
   "source": [
    "### error: if a required field is missing"
   ]
  },
  {
   "cell_type": "code",
   "execution_count": 10,
   "metadata": {
    "ExecuteTime": {
     "end_time": "2020-12-26T06:12:24.315066Z",
     "start_time": "2020-12-26T06:12:24.210500Z"
    }
   },
   "outputs": [
    {
     "ename": "KeyError",
     "evalue": "'disease-gene1'",
     "output_type": "error",
     "traceback": [
      "\u001b[0;31m---------------------------------------------------------------------------\u001b[0m",
      "\u001b[0;31mKeyError\u001b[0m                                  Traceback (most recent call last)",
      "\u001b[0;32m<ipython-input-10-a4d8dd040de5>\u001b[0m in \u001b[0;36m<module>\u001b[0;34m\u001b[0m\n\u001b[1;32m      1\u001b[0m \u001b[0;31m## but what if it's a fluke??\u001b[0m\u001b[0;34m\u001b[0m\u001b[0;34m\u001b[0m\u001b[0;34m\u001b[0m\u001b[0m\n\u001b[1;32m      2\u001b[0m \u001b[0;31m## remove a required key from one association\u001b[0m\u001b[0;34m\u001b[0m\u001b[0;34m\u001b[0m\u001b[0;34m\u001b[0m\u001b[0m\n\u001b[0;32m----> 3\u001b[0;31m \u001b[0mremoved1\u001b[0m \u001b[0;34m=\u001b[0m \u001b[0mexample_from_yaml\u001b[0m\u001b[0;34m[\u001b[0m\u001b[0;34m'components'\u001b[0m\u001b[0;34m]\u001b[0m\u001b[0;34m[\u001b[0m\u001b[0;34m'x-bte-association-retrieval'\u001b[0m\u001b[0;34m]\u001b[0m\u001b[0;34m[\u001b[0m\u001b[0;34m'disease-gene1'\u001b[0m\u001b[0;34m]\u001b[0m\u001b[0;31m\\\u001b[0m\u001b[0;34m\u001b[0m\u001b[0;34m\u001b[0m\u001b[0m\n\u001b[0m\u001b[1;32m      4\u001b[0m \u001b[0;34m[\u001b[0m\u001b[0;34m'predicateInfo'\u001b[0m\u001b[0;34m]\u001b[0m\u001b[0;34m.\u001b[0m\u001b[0mpop\u001b[0m\u001b[0;34m(\u001b[0m\u001b[0;34m'biolink'\u001b[0m\u001b[0;34m)\u001b[0m\u001b[0;34m\u001b[0m\u001b[0;34m\u001b[0m\u001b[0m\n\u001b[1;32m      5\u001b[0m \u001b[0;34m\u001b[0m\u001b[0m\n",
      "\u001b[0;31mKeyError\u001b[0m: 'disease-gene1'"
     ]
    }
   ],
   "source": [
    "## but what if it's a fluke?? \n",
    "## remove a required key from one association \n",
    "removed1 = example_from_yaml['components']['x-bte-association-retrieval']['disease-gene1']\\\n",
    "['predicateInfo'].pop('biolink')\n",
    "\n",
    "## then try to validate, this \n",
    "jsonschema.validate(instance=example_from_yaml, schema=schema_from_yaml)\n",
    "## so it works in catching the error yayyyyyyyy"
   ]
  },
  {
   "cell_type": "code",
   "execution_count": 12,
   "metadata": {
    "ExecuteTime": {
     "end_time": "2020-12-23T23:11:48.077228Z",
     "start_time": "2020-12-23T23:11:48.074320Z"
    }
   },
   "outputs": [],
   "source": [
    "example_from_yaml['components']['x-bte-association-retrieval']['disease-gene1']\\\n",
    "['predicateInfo']['biolink'] = removed1"
   ]
  },
  {
   "cell_type": "code",
   "execution_count": 13,
   "metadata": {
    "ExecuteTime": {
     "end_time": "2020-12-23T23:11:48.785821Z",
     "start_time": "2020-12-23T23:11:48.714250Z"
    }
   },
   "outputs": [],
   "source": [
    "jsonschema.validate(instance=example_from_yaml, schema=schema_from_yaml)\n",
    "## and it's back and accepted again "
   ]
  },
  {
   "cell_type": "markdown",
   "metadata": {},
   "source": [
    "### error: if there are two mins in range"
   ]
  },
  {
   "cell_type": "markdown",
   "metadata": {},
   "source": [
    "note: this test requires at least one numeric measure in the registry entry"
   ]
  },
  {
   "cell_type": "code",
   "execution_count": 14,
   "metadata": {
    "ExecuteTime": {
     "end_time": "2020-12-23T23:11:51.406066Z",
     "start_time": "2020-12-23T23:11:51.401967Z"
    }
   },
   "outputs": [
    {
     "data": {
      "text/plain": [
       "{'minExclusive': 0, 'maxInclusive': 1}"
      ]
     },
     "execution_count": 14,
     "metadata": {},
     "output_type": "execute_result"
    }
   ],
   "source": [
    "## another check: look at the range for the first numericMeasure\n",
    "example_from_yaml['components']['x-bte-association-retrieval']['disease-gene1']\\\n",
    "['numericMeasures'][0]['range']"
   ]
  },
  {
   "cell_type": "code",
   "execution_count": 15,
   "metadata": {
    "ExecuteTime": {
     "end_time": "2020-12-23T23:11:53.281603Z",
     "start_time": "2020-12-23T23:11:53.202352Z"
    }
   },
   "outputs": [
    {
     "ename": "ValidationError",
     "evalue": "{'anyOf': [{'type': 'object', 'required': ['minExclusive', 'minInclusive']}, {'type': 'object', 'required': ['maxExclusive', 'maxInclusive']}]} is not allowed for {'minExclusive': 0, 'maxInclusive': 1, 'minInclusive': -1}\n\nFailed validating 'not' in schema['properties']['components']['properties']['x-bte-association-retrieval']['patternProperties']['.']['properties']['numericMeasures']['items']['allOf'][1]['properties']['range']:\n    {'additionalProperties': False,\n     'description': 'Object, Python dict-like. Defines an expected lower '\n                    'and/or upper bound for values (minimum and maximum). '\n                    'Inclusive means the range includes the boundary '\n                    'number; exclusive means the range does not. If the '\n                    'actual lower-bound is negative-infinity and/or the '\n                    'actual upper bound is positive-infinity, do not set a '\n                    'bound',\n     'minProperties': 1,\n     'not': {'anyOf': [{'required': ['minExclusive', 'minInclusive'],\n                        'type': 'object'},\n                       {'required': ['maxExclusive', 'maxInclusive'],\n                        'type': 'object'}]},\n     'properties': {'maxExclusive': {'type': 'number'},\n                    'maxInclusive': {'type': 'number'},\n                    'minExclusive': {'type': 'number'},\n                    'minInclusive': {'type': 'number'}},\n     'type': 'object'}\n\nOn instance['components']['x-bte-association-retrieval']['disease-gene1']['numericMeasures'][0]['range']:\n    {'maxInclusive': 1, 'minExclusive': 0, 'minInclusive': -1}",
     "output_type": "error",
     "traceback": [
      "\u001b[0;31m---------------------------------------------------------------------------\u001b[0m",
      "\u001b[0;31mValidationError\u001b[0m                           Traceback (most recent call last)",
      "\u001b[0;32m<ipython-input-15-288fad08cea1>\u001b[0m in \u001b[0;36m<module>\u001b[0;34m\u001b[0m\n\u001b[1;32m      4\u001b[0m \u001b[0;34m\u001b[0m\u001b[0m\n\u001b[1;32m      5\u001b[0m \u001b[0;31m## then try to validate, this\u001b[0m\u001b[0;34m\u001b[0m\u001b[0;34m\u001b[0m\u001b[0;34m\u001b[0m\u001b[0m\n\u001b[0;32m----> 6\u001b[0;31m \u001b[0mjsonschema\u001b[0m\u001b[0;34m.\u001b[0m\u001b[0mvalidate\u001b[0m\u001b[0;34m(\u001b[0m\u001b[0minstance\u001b[0m\u001b[0;34m=\u001b[0m\u001b[0mexample_from_yaml\u001b[0m\u001b[0;34m,\u001b[0m \u001b[0mschema\u001b[0m\u001b[0;34m=\u001b[0m\u001b[0mschema_from_yaml\u001b[0m\u001b[0;34m)\u001b[0m\u001b[0;34m\u001b[0m\u001b[0;34m\u001b[0m\u001b[0m\n\u001b[0m",
      "\u001b[0;32m~/miniconda3/envs/BTE2/lib/python3.7/site-packages/jsonschema/validators.py\u001b[0m in \u001b[0;36mvalidate\u001b[0;34m(instance, schema, cls, *args, **kwargs)\u001b[0m\n\u001b[1;32m    932\u001b[0m     \u001b[0merror\u001b[0m \u001b[0;34m=\u001b[0m \u001b[0mexceptions\u001b[0m\u001b[0;34m.\u001b[0m\u001b[0mbest_match\u001b[0m\u001b[0;34m(\u001b[0m\u001b[0mvalidator\u001b[0m\u001b[0;34m.\u001b[0m\u001b[0miter_errors\u001b[0m\u001b[0;34m(\u001b[0m\u001b[0minstance\u001b[0m\u001b[0;34m)\u001b[0m\u001b[0;34m)\u001b[0m\u001b[0;34m\u001b[0m\u001b[0;34m\u001b[0m\u001b[0m\n\u001b[1;32m    933\u001b[0m     \u001b[0;32mif\u001b[0m \u001b[0merror\u001b[0m \u001b[0;32mis\u001b[0m \u001b[0;32mnot\u001b[0m \u001b[0;32mNone\u001b[0m\u001b[0;34m:\u001b[0m\u001b[0;34m\u001b[0m\u001b[0;34m\u001b[0m\u001b[0m\n\u001b[0;32m--> 934\u001b[0;31m         \u001b[0;32mraise\u001b[0m \u001b[0merror\u001b[0m\u001b[0;34m\u001b[0m\u001b[0;34m\u001b[0m\u001b[0m\n\u001b[0m\u001b[1;32m    935\u001b[0m \u001b[0;34m\u001b[0m\u001b[0m\n\u001b[1;32m    936\u001b[0m \u001b[0;34m\u001b[0m\u001b[0m\n",
      "\u001b[0;31mValidationError\u001b[0m: {'anyOf': [{'type': 'object', 'required': ['minExclusive', 'minInclusive']}, {'type': 'object', 'required': ['maxExclusive', 'maxInclusive']}]} is not allowed for {'minExclusive': 0, 'maxInclusive': 1, 'minInclusive': -1}\n\nFailed validating 'not' in schema['properties']['components']['properties']['x-bte-association-retrieval']['patternProperties']['.']['properties']['numericMeasures']['items']['allOf'][1]['properties']['range']:\n    {'additionalProperties': False,\n     'description': 'Object, Python dict-like. Defines an expected lower '\n                    'and/or upper bound for values (minimum and maximum). '\n                    'Inclusive means the range includes the boundary '\n                    'number; exclusive means the range does not. If the '\n                    'actual lower-bound is negative-infinity and/or the '\n                    'actual upper bound is positive-infinity, do not set a '\n                    'bound',\n     'minProperties': 1,\n     'not': {'anyOf': [{'required': ['minExclusive', 'minInclusive'],\n                        'type': 'object'},\n                       {'required': ['maxExclusive', 'maxInclusive'],\n                        'type': 'object'}]},\n     'properties': {'maxExclusive': {'type': 'number'},\n                    'maxInclusive': {'type': 'number'},\n                    'minExclusive': {'type': 'number'},\n                    'minInclusive': {'type': 'number'}},\n     'type': 'object'}\n\nOn instance['components']['x-bte-association-retrieval']['disease-gene1']['numericMeasures'][0]['range']:\n    {'maxInclusive': 1, 'minExclusive': 0, 'minInclusive': -1}"
     ]
    }
   ],
   "source": [
    "## add an error: minInclusive\n",
    "example_from_yaml['components']['x-bte-association-retrieval']['disease-gene1']\\\n",
    "['numericMeasures'][0]['range']['minInclusive'] = -1\n",
    "\n",
    "## then try to validate, this \n",
    "jsonschema.validate(instance=example_from_yaml, schema=schema_from_yaml)"
   ]
  },
  {
   "cell_type": "code",
   "execution_count": 16,
   "metadata": {
    "ExecuteTime": {
     "end_time": "2020-12-23T23:11:59.342090Z",
     "start_time": "2020-12-23T23:11:59.338154Z"
    }
   },
   "outputs": [
    {
     "data": {
      "text/plain": [
       "-1"
      ]
     },
     "execution_count": 16,
     "metadata": {},
     "output_type": "execute_result"
    }
   ],
   "source": [
    "## fix the error and re-validate\n",
    "example_from_yaml['components']['x-bte-association-retrieval']['disease-gene1']\\\n",
    "['numericMeasures'][0]['range'].pop('minInclusive')"
   ]
  },
  {
   "cell_type": "code",
   "execution_count": 17,
   "metadata": {
    "ExecuteTime": {
     "end_time": "2020-12-23T23:12:00.219323Z",
     "start_time": "2020-12-23T23:12:00.147723Z"
    }
   },
   "outputs": [],
   "source": [
    "## then try to validate, this \n",
    "jsonschema.validate(instance=example_from_yaml, schema=schema_from_yaml)"
   ]
  },
  {
   "cell_type": "markdown",
   "metadata": {},
   "source": [
    "### error: static publications typing"
   ]
  },
  {
   "cell_type": "markdown",
   "metadata": {},
   "source": [
    "note: \n",
    "this test currently requires a numeric measure. \n",
    "be careful that you don't overwrite an existing publications key when doing this test"
   ]
  },
  {
   "cell_type": "code",
   "execution_count": 18,
   "metadata": {
    "ExecuteTime": {
     "end_time": "2020-12-23T23:12:19.518016Z",
     "start_time": "2020-12-23T23:12:19.513057Z"
    }
   },
   "outputs": [
    {
     "data": {
      "text/plain": [
       "{'name': 'DisGeNET gene-disease association score',\n",
       " 'responseField': 'disgenet.genes_related_to_disease.score',\n",
       " 'measureReferences': {'websites': {'value': 'https://www.disgenet.org/dbinfo#section31'},\n",
       "  'publications': {'pmid': {}}},\n",
       " 'range': {'minExclusive': 0, 'maxInclusive': 1},\n",
       " 'directionMeaning': {'larger': 'more_evidence'}}"
      ]
     },
     "execution_count": 18,
     "metadata": {},
     "output_type": "execute_result"
    }
   ],
   "source": [
    "## make a publications/pmid key within measureReferences\n",
    "example_from_yaml['components']['x-bte-association-retrieval']['disease-gene1']\\\n",
    "['numericMeasures'][0]['measureReferences']\\\n",
    "['publications'] = {\"pmid\": {}}  ## make it first \n",
    "\n",
    "example_from_yaml['components']['x-bte-association-retrieval']['disease-gene1']\\\n",
    "['numericMeasures'][0]"
   ]
  },
  {
   "cell_type": "code",
   "execution_count": 19,
   "metadata": {
    "ExecuteTime": {
     "end_time": "2020-12-23T23:12:22.117954Z",
     "start_time": "2020-12-23T23:12:22.035236Z"
    },
    "collapsed": true
   },
   "outputs": [
    {
     "ename": "ValidationError",
     "evalue": "'value' is a required property\n\nFailed validating 'required' in schema[0]:\n    {'additionalProperties': False,\n     'properties': {'value': {'oneOf': [{'items': {'type': ['string',\n                                                            'number']},\n                                         'minItems': 1,\n                                         'type': 'array'},\n                                        {'type': ['string', 'number']}]}},\n     'required': ['value'],\n     'type': 'object'}\n\nOn instance:\n    {}",
     "output_type": "error",
     "traceback": [
      "\u001b[0;31m---------------------------------------------------------------------------\u001b[0m",
      "\u001b[0;31mValidationError\u001b[0m                           Traceback (most recent call last)",
      "\u001b[0;32m<ipython-input-19-525e71a8f15c>\u001b[0m in \u001b[0;36m<module>\u001b[0;34m\u001b[0m\n\u001b[1;32m      1\u001b[0m \u001b[0;31m## then try to validate\u001b[0m\u001b[0;34m\u001b[0m\u001b[0;34m\u001b[0m\u001b[0;34m\u001b[0m\u001b[0m\n\u001b[0;32m----> 2\u001b[0;31m \u001b[0mjsonschema\u001b[0m\u001b[0;34m.\u001b[0m\u001b[0mvalidate\u001b[0m\u001b[0;34m(\u001b[0m\u001b[0minstance\u001b[0m\u001b[0;34m=\u001b[0m\u001b[0mexample_from_yaml\u001b[0m\u001b[0;34m,\u001b[0m \u001b[0mschema\u001b[0m\u001b[0;34m=\u001b[0m\u001b[0mschema_from_yaml\u001b[0m\u001b[0;34m)\u001b[0m\u001b[0;34m\u001b[0m\u001b[0;34m\u001b[0m\u001b[0m\n\u001b[0m\u001b[1;32m      3\u001b[0m \u001b[0;31m## catches that there should be a key called value\u001b[0m\u001b[0;34m\u001b[0m\u001b[0;34m\u001b[0m\u001b[0;34m\u001b[0m\u001b[0m\n",
      "\u001b[0;32m~/miniconda3/envs/BTE2/lib/python3.7/site-packages/jsonschema/validators.py\u001b[0m in \u001b[0;36mvalidate\u001b[0;34m(instance, schema, cls, *args, **kwargs)\u001b[0m\n\u001b[1;32m    932\u001b[0m     \u001b[0merror\u001b[0m \u001b[0;34m=\u001b[0m \u001b[0mexceptions\u001b[0m\u001b[0;34m.\u001b[0m\u001b[0mbest_match\u001b[0m\u001b[0;34m(\u001b[0m\u001b[0mvalidator\u001b[0m\u001b[0;34m.\u001b[0m\u001b[0miter_errors\u001b[0m\u001b[0;34m(\u001b[0m\u001b[0minstance\u001b[0m\u001b[0;34m)\u001b[0m\u001b[0;34m)\u001b[0m\u001b[0;34m\u001b[0m\u001b[0;34m\u001b[0m\u001b[0m\n\u001b[1;32m    933\u001b[0m     \u001b[0;32mif\u001b[0m \u001b[0merror\u001b[0m \u001b[0;32mis\u001b[0m \u001b[0;32mnot\u001b[0m \u001b[0;32mNone\u001b[0m\u001b[0;34m:\u001b[0m\u001b[0;34m\u001b[0m\u001b[0;34m\u001b[0m\u001b[0m\n\u001b[0;32m--> 934\u001b[0;31m         \u001b[0;32mraise\u001b[0m \u001b[0merror\u001b[0m\u001b[0;34m\u001b[0m\u001b[0;34m\u001b[0m\u001b[0m\n\u001b[0m\u001b[1;32m    935\u001b[0m \u001b[0;34m\u001b[0m\u001b[0m\n\u001b[1;32m    936\u001b[0m \u001b[0;34m\u001b[0m\u001b[0m\n",
      "\u001b[0;31mValidationError\u001b[0m: 'value' is a required property\n\nFailed validating 'required' in schema[0]:\n    {'additionalProperties': False,\n     'properties': {'value': {'oneOf': [{'items': {'type': ['string',\n                                                            'number']},\n                                         'minItems': 1,\n                                         'type': 'array'},\n                                        {'type': ['string', 'number']}]}},\n     'required': ['value'],\n     'type': 'object'}\n\nOn instance:\n    {}"
     ]
    }
   ],
   "source": [
    "## then try to validate \n",
    "jsonschema.validate(instance=example_from_yaml, schema=schema_from_yaml)\n",
    "## catches that there should be a key called value"
   ]
  },
  {
   "cell_type": "code",
   "execution_count": 20,
   "metadata": {
    "ExecuteTime": {
     "end_time": "2020-12-23T23:12:44.776812Z",
     "start_time": "2020-12-23T23:12:44.772703Z"
    }
   },
   "outputs": [
    {
     "data": {
      "text/plain": [
       "{'pmid': {}}"
      ]
     },
     "execution_count": 20,
     "metadata": {},
     "output_type": "execute_result"
    }
   ],
   "source": [
    "## remove the publications key\n",
    "example_from_yaml['components']['x-bte-association-retrieval']['disease-gene1']\\\n",
    "['numericMeasures'][0]['measureReferences'].pop('publications')"
   ]
  },
  {
   "cell_type": "code",
   "execution_count": 21,
   "metadata": {
    "ExecuteTime": {
     "end_time": "2020-12-23T23:12:56.576887Z",
     "start_time": "2020-12-23T23:12:56.504549Z"
    }
   },
   "outputs": [],
   "source": [
    "## then try to validate \n",
    "jsonschema.validate(instance=example_from_yaml, schema=schema_from_yaml)\n",
    "## catches that there should be a key called value"
   ]
  },
  {
   "cell_type": "markdown",
   "metadata": {},
   "source": [
    "## Export JSON files for the yamls"
   ]
  },
  {
   "cell_type": "code",
   "execution_count": 22,
   "metadata": {
    "ExecuteTime": {
     "end_time": "2020-12-23T23:12:59.993324Z",
     "start_time": "2020-12-23T23:12:59.970838Z"
    }
   },
   "outputs": [],
   "source": [
    "json_schema_path = pathlib.Path.cwd().joinpath(\"draft6_schema_registry.json\")\n",
    "with open(json_schema_path, \"w\") as file:\n",
    "    json.dump(schema_from_yaml, file, indent=2)"
   ]
  },
  {
   "cell_type": "code",
   "execution_count": 23,
   "metadata": {
    "ExecuteTime": {
     "end_time": "2020-12-23T23:13:00.714668Z",
     "start_time": "2020-12-23T23:13:00.708513Z"
    }
   },
   "outputs": [],
   "source": [
    "json_example_path = pathlib.Path.cwd().joinpath(\"draft6_example_registry_disgenetDG.json\")\n",
    "with open(json_example_path, \"w\") as file:\n",
    "    json.dump(example_from_yaml, file, indent=2)"
   ]
  },
  {
   "cell_type": "code",
   "execution_count": null,
   "metadata": {},
   "outputs": [],
   "source": []
  }
 ],
 "metadata": {
  "kernelspec": {
   "display_name": "Python 3",
   "language": "python",
   "name": "python3"
  },
  "language_info": {
   "codemirror_mode": {
    "name": "ipython",
    "version": 3
   },
   "file_extension": ".py",
   "mimetype": "text/x-python",
   "name": "python",
   "nbconvert_exporter": "python",
   "pygments_lexer": "ipython3",
   "version": "3.7.9"
  },
  "toc": {
   "base_numbering": 1,
   "nav_menu": {},
   "number_sections": true,
   "sideBar": true,
   "skip_h1_title": true,
   "title_cell": "Table of Contents",
   "title_sidebar": "Contents",
   "toc_cell": false,
   "toc_position": {
    "height": "calc(100% - 180px)",
    "left": "10px",
    "top": "150px",
    "width": "277.65px"
   },
   "toc_section_display": true,
   "toc_window_display": true
  },
  "varInspector": {
   "cols": {
    "lenName": 16,
    "lenType": 16,
    "lenVar": 40
   },
   "kernels_config": {
    "python": {
     "delete_cmd_postfix": "",
     "delete_cmd_prefix": "del ",
     "library": "var_list.py",
     "varRefreshCmd": "print(var_dic_list())"
    },
    "r": {
     "delete_cmd_postfix": ") ",
     "delete_cmd_prefix": "rm(",
     "library": "var_list.r",
     "varRefreshCmd": "cat(var_dic_list()) "
    }
   },
   "types_to_exclude": [
    "module",
    "function",
    "builtin_function_or_method",
    "instance",
    "_Feature"
   ],
   "window_display": false
  }
 },
 "nbformat": 4,
 "nbformat_minor": 4
}
