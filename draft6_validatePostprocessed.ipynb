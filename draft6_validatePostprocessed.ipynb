{
 "cells": [
  {
   "cell_type": "markdown",
   "metadata": {},
   "source": [
    "# Validating example \"edge\" against schema"
   ]
  },
  {
   "cell_type": "code",
   "execution_count": 1,
   "metadata": {
    "ExecuteTime": {
     "end_time": "2020-12-15T05:36:03.977398Z",
     "start_time": "2020-12-15T05:36:00.667586Z"
    }
   },
   "outputs": [],
   "source": [
    "## CX: allows multiple lines of code to print from one code block\n",
    "from IPython.core.interactiveshell import InteractiveShell\n",
    "InteractiveShell.ast_node_interactivity = \"all\"\n",
    "\n",
    "import json\n",
    "import jsonschema\n",
    "import pathlib\n",
    "import jsonref\n",
    "import yaml"
   ]
  },
  {
   "cell_type": "code",
   "execution_count": 2,
   "metadata": {
    "ExecuteTime": {
     "end_time": "2020-12-15T05:36:07.555573Z",
     "start_time": "2020-12-15T05:36:07.543839Z"
    }
   },
   "outputs": [
    {
     "data": {
      "text/plain": [
       "PosixPath('/Users/jay/Desktop/biothings_explorer/jupyter notebooks/CX_WIPs/Draft_Metadata')"
      ]
     },
     "execution_count": 2,
     "metadata": {},
     "output_type": "execute_result"
    }
   ],
   "source": [
    "pathlib.Path.cwd()"
   ]
  },
  {
   "cell_type": "markdown",
   "metadata": {},
   "source": [
    "## loading schema"
   ]
  },
  {
   "cell_type": "code",
   "execution_count": 3,
   "metadata": {
    "ExecuteTime": {
     "end_time": "2020-12-15T05:36:10.803949Z",
     "start_time": "2020-12-15T05:36:10.725617Z"
    }
   },
   "outputs": [],
   "source": [
    "yaml_schema = pathlib.Path.cwd().joinpath(\"draft6_schema_x-bte-association-retrieval.yaml\")\n",
    "with open(yaml_schema) as file:\n",
    "    schema_from_yaml = yaml.load(file, Loader=yaml.SafeLoader)\n",
    "    schema_from_yaml = json.dumps(schema_from_yaml, indent=2)\n",
    "    schema_from_yaml = jsonref.loads(schema_from_yaml)"
   ]
  },
  {
   "cell_type": "code",
   "execution_count": 4,
   "metadata": {
    "ExecuteTime": {
     "end_time": "2020-12-15T05:36:11.534954Z",
     "start_time": "2020-12-15T05:36:11.531238Z"
    }
   },
   "outputs": [
    {
     "data": {
      "text/plain": [
       "dict_keys(['title', '$schema', 'type', 'description', 'properties', 'definitions'])"
      ]
     },
     "execution_count": 4,
     "metadata": {},
     "output_type": "execute_result"
    }
   ],
   "source": [
    "schema_from_yaml.keys()"
   ]
  },
  {
   "cell_type": "code",
   "execution_count": 5,
   "metadata": {
    "ExecuteTime": {
     "end_time": "2020-12-15T05:36:12.290767Z",
     "start_time": "2020-12-15T05:36:12.286910Z"
    }
   },
   "outputs": [
    {
     "data": {
      "text/plain": [
       "dict_keys(['components'])"
      ]
     },
     "execution_count": 5,
     "metadata": {},
     "output_type": "execute_result"
    }
   ],
   "source": [
    "schema_from_yaml['properties'].keys()"
   ]
  },
  {
   "cell_type": "code",
   "execution_count": 6,
   "metadata": {
    "ExecuteTime": {
     "end_time": "2020-12-15T05:36:13.849571Z",
     "start_time": "2020-12-15T05:36:13.845099Z"
    },
    "scrolled": false
   },
   "outputs": [
    {
     "data": {
      "text/plain": [
       "dict_keys(['queryInfo', 'inputs', 'outputs', 'predicateInfo', 'references', 'provenance', 'numericMeasures', 'categoryMeasures', 'contextRelevance'])"
      ]
     },
     "execution_count": 6,
     "metadata": {},
     "output_type": "execute_result"
    }
   ],
   "source": [
    "schema_from_yaml['properties']['components']['properties']\\\n",
    "['x-bte-association-retrieval']['patternProperties']['.']['properties'].keys()"
   ]
  },
  {
   "cell_type": "code",
   "execution_count": 7,
   "metadata": {
    "ExecuteTime": {
     "end_time": "2020-12-15T05:36:15.357113Z",
     "start_time": "2020-12-15T05:36:15.349432Z"
    }
   },
   "outputs": [
    {
     "data": {
      "text/plain": [
       "{'description': 'Array of objects (Python-list-of-dict-like), gives info about  the measure and what response field to use to retrieve it. ',\n",
       " 'type': 'array',\n",
       " 'items': {'allOf': [{'type': 'object',\n",
       "    'required': ['name', 'responseField'],\n",
       "    'properties': {'name': {'description': 'Name of the measure (include the name of the resource that calculated it).  In display format (source way of capitalizing the names, with spaces).  ',\n",
       "      'type': 'string'},\n",
       "     'ontologyTerm': {'description': 'Term from an ontology (ideally an OWL Class) that corresponds with this measure. Format is prefix:ID. ',\n",
       "      'type': 'string'},\n",
       "     'responseField': {'description': 'The measure value is in a specific field in the API response/JSON record.  Use dot-notation to refer to the response field.',\n",
       "      'type': 'string'},\n",
       "     'missingValueMeaning': {'description': 'Short free-text, explaining what a missing/NULL/NA value for this  measure, for a specifc association/edge would mean. The assumption is  that only some associations/edges have a missing value. ',\n",
       "      'type': 'string'},\n",
       "     'measureReferences': {'description': 'Used to provide publications and website URLs for users who want to learn  more about a knowledge-source, measure, context/relevance, etc. ',\n",
       "      'type': 'object',\n",
       "      'additionalProperties': False,\n",
       "      'properties': {'publications': {'type': 'object',\n",
       "        'additionalProperties': False,\n",
       "        'patternProperties': {'.': {'type': ['string', 'array']}}},\n",
       "       'websites': {'type': ['string', 'array']}}}}},\n",
       "   {'type': 'object',\n",
       "    'required': ['range', 'directionMeaning'],\n",
       "    'properties': {'range': {'description': 'Python-dict-like. Should define an expected lower and/or upper  bound for values (minimum and maximum). Inclusive means the range  includes the boundary number, exclusive means the range does not.  If the actual lower-bound of the value is negative-infinity and/or the actual upper bound of the value is positive-infinity, do not set a bound. ',\n",
       "      'type': 'object',\n",
       "      'not': {'anyOf': [{'type': 'object',\n",
       "         'required': ['minExclusive', 'minInclusive']},\n",
       "        {'type': 'object', 'required': ['maxExclusive', 'maxInclusive']}]},\n",
       "      'additionalProperties': False,\n",
       "      'properties': {'minExclusive': {'type': 'number'},\n",
       "       'maxExclusive': {'type': 'number'},\n",
       "       'minInclusive': {'type': 'number'},\n",
       "       'maxInclusive': {'type': 'number'}}},\n",
       "     'directionMeaning': {'description': 'Object (Python-dictionary-like). Each key specifies a direction  (larger, closer_to_zero, more_negative, etc.). Each value specifies what the direction means (more_specific, more_evidence,  more_confident, more_consistent, more_probable, etc.). One may want to  explain multiple directions (like when a value means something  different when closer to 0, closer to the upper bound, and closer to  the lower bound). ',\n",
       "      'type': 'object',\n",
       "      'additionalProperties': False,\n",
       "      'patternProperties': {'.': {'type': 'string'}}},\n",
       "     'units': {'description': 'Units for the measure values. ',\n",
       "      'type': 'string'}}}]}}"
      ]
     },
     "execution_count": 7,
     "metadata": {},
     "output_type": "execute_result"
    }
   ],
   "source": [
    "schema_from_yaml['properties']['components']['properties']\\\n",
    "['x-bte-association-retrieval']['patternProperties']['.']['properties']['numericMeasures']"
   ]
  },
  {
   "cell_type": "markdown",
   "metadata": {},
   "source": [
    "## checking an example"
   ]
  },
  {
   "cell_type": "code",
   "execution_count": 8,
   "metadata": {
    "ExecuteTime": {
     "end_time": "2020-12-15T05:36:20.167357Z",
     "start_time": "2020-12-15T05:36:20.141463Z"
    }
   },
   "outputs": [],
   "source": [
    "yaml_example = pathlib.Path.cwd().joinpath(\"draft6_example_disgenetDG.yaml\")\n",
    "with open(yaml_example) as file:\n",
    "    example_from_yaml = yaml.load(file, Loader=yaml.SafeLoader)\n",
    "    example_from_yaml = json.dumps(example_from_yaml, indent=2)\n",
    "    example_from_yaml = jsonref.loads(example_from_yaml)"
   ]
  },
  {
   "cell_type": "code",
   "execution_count": 9,
   "metadata": {
    "ExecuteTime": {
     "end_time": "2020-12-15T05:36:21.034638Z",
     "start_time": "2020-12-15T05:36:21.030620Z"
    }
   },
   "outputs": [
    {
     "data": {
      "text/plain": [
       "dict_keys(['queryInfo', 'inputs', 'outputs', 'predicateInfo', 'references', 'provenance', 'numericMeasures'])"
      ]
     },
     "execution_count": 9,
     "metadata": {},
     "output_type": "execute_result"
    }
   ],
   "source": [
    "example_from_yaml['components']['x-bte-association-retrieval']['disease-gene1'].keys()"
   ]
  },
  {
   "cell_type": "code",
   "execution_count": 10,
   "metadata": {
    "ExecuteTime": {
     "end_time": "2020-12-15T05:36:21.912816Z",
     "start_time": "2020-12-15T05:36:21.907550Z"
    }
   },
   "outputs": [
    {
     "data": {
      "text/plain": [
       "[{'name': 'DisGeNET gene-disease association score',\n",
       "  'responseField': 'disgenet.genes_related_to_disease.score',\n",
       "  'measureReferences': {'websites': 'https://www.disgenet.org/dbinfo#section31'},\n",
       "  'range': {'minExclusive': 0, 'maxInclusive': 1},\n",
       "  'directionMeaning': {'larger': 'more_evidence'}},\n",
       " {'name': 'DisGeNET evidence index',\n",
       "  'responseField': 'disgenet.genes_related_to_disease.EI',\n",
       "  'measureReferences': {'websites': 'https://www.disgenet.org/dbinfo#section36'},\n",
       "  'missingValueMeaning': 'This measure is calculated from BeFree and PsyGeNET info.  If the association was not found in those sources, this  measure likely was not calculated. ',\n",
       "  'range': {'minExclusive': 0, 'maxInclusive': 1},\n",
       "  'directionMeaning': {'larger': 'more_consistent'}},\n",
       " {'name': 'DisGeNET disease specificity index',\n",
       "  'ontologyTerm': 'SIO:001351',\n",
       "  'responseField': 'disgenet.genes_related_to_disease.DSI',\n",
       "  'measureReferences': {'websites': 'https://www.disgenet.org/dbinfo#section33'},\n",
       "  'missingValueMeaning': 'This measure is calculated when a gene is associated with  one or more diseases. If the value is missing, this gene is  annotated only to phenotypes. ',\n",
       "  'range': {'minExclusive': 0, 'maxInclusive': 1},\n",
       "  'directionMeaning': {'larger': 'more_specific'}},\n",
       " {'name': 'DisGeNET disease pleiotropy index',\n",
       "  'ontologyTerm': 'SIO:001352',\n",
       "  'responseField': 'disgenet.genes_related_to_disease.DPI',\n",
       "  'measureReferences': {'websites': 'https://www.disgenet.org/dbinfo#section34'},\n",
       "  'missingValueMeaning': 'This measure is calculated when a gene is associated with  one or more diseases in MeSH disease classes. If the value  is missing, this gene is annotated only to phenotypes OR the diseases do not map to any MeSH classes. ',\n",
       "  'range': {'minExclusive': 0, 'maxInclusive': 1},\n",
       "  'directionMeaning': {'smaller': 'more_specific'}}]"
      ]
     },
     "execution_count": 10,
     "metadata": {},
     "output_type": "execute_result"
    }
   ],
   "source": [
    "example_from_yaml['components']['x-bte-association-retrieval']['disease-gene1']['numericMeasures']"
   ]
  },
  {
   "cell_type": "markdown",
   "metadata": {},
   "source": [
    "## validate example against schema"
   ]
  },
  {
   "cell_type": "code",
   "execution_count": 11,
   "metadata": {
    "ExecuteTime": {
     "end_time": "2020-12-15T05:36:25.499181Z",
     "start_time": "2020-12-15T05:36:25.459048Z"
    }
   },
   "outputs": [],
   "source": [
    "jsonschema.validate(instance=example_from_yaml, schema=schema_from_yaml)\n",
    "## YAYAYAYAYAY this means it validated!!!!!!!"
   ]
  },
  {
   "cell_type": "markdown",
   "metadata": {},
   "source": [
    "### error: if a required field is missing"
   ]
  },
  {
   "cell_type": "code",
   "execution_count": 15,
   "metadata": {
    "ExecuteTime": {
     "end_time": "2020-12-15T05:37:07.862630Z",
     "start_time": "2020-12-15T05:37:07.816383Z"
    }
   },
   "outputs": [
    {
     "ename": "ValidationError",
     "evalue": "'responseField' is a required property\n\nFailed validating 'required' in schema[0]:\n    {'description': 'Edge property is dynamic and should have the value of '\n                    'a specific field in  the API response/JSON record. In '\n                    'this situation, a field called  responseField is '\n                    'used. Use dot-notation to refer to the response '\n                    'field. ',\n     'properties': {'responseField': {'type': 'string'}},\n     'required': ['responseField'],\n     'type': 'object'}\n\nOn instance:\n    {}",
     "output_type": "error",
     "traceback": [
      "\u001b[0;31m---------------------------------------------------------------------------\u001b[0m",
      "\u001b[0;31mValidationError\u001b[0m                           Traceback (most recent call last)",
      "\u001b[0;32m<ipython-input-15-9f8d3c8c25aa>\u001b[0m in \u001b[0;36m<module>\u001b[0;34m\u001b[0m\n\u001b[1;32m      5\u001b[0m \u001b[0;34m\u001b[0m\u001b[0m\n\u001b[1;32m      6\u001b[0m \u001b[0;31m## then try to validate, this\u001b[0m\u001b[0;34m\u001b[0m\u001b[0;34m\u001b[0m\u001b[0;34m\u001b[0m\u001b[0m\n\u001b[0;32m----> 7\u001b[0;31m \u001b[0mjsonschema\u001b[0m\u001b[0;34m.\u001b[0m\u001b[0mvalidate\u001b[0m\u001b[0;34m(\u001b[0m\u001b[0minstance\u001b[0m\u001b[0;34m=\u001b[0m\u001b[0mexample_from_yaml\u001b[0m\u001b[0;34m,\u001b[0m \u001b[0mschema\u001b[0m\u001b[0;34m=\u001b[0m\u001b[0mschema_from_yaml\u001b[0m\u001b[0;34m)\u001b[0m\u001b[0;34m\u001b[0m\u001b[0;34m\u001b[0m\u001b[0m\n\u001b[0m\u001b[1;32m      8\u001b[0m \u001b[0;31m## so it works in catching the error yayyyyyyyy. too bad it doesn't tell you which entry had the error in it...\u001b[0m\u001b[0;34m\u001b[0m\u001b[0;34m\u001b[0m\u001b[0;34m\u001b[0m\u001b[0m\n",
      "\u001b[0;32m~/miniconda3/envs/BTE2/lib/python3.7/site-packages/jsonschema/validators.py\u001b[0m in \u001b[0;36mvalidate\u001b[0;34m(instance, schema, cls, *args, **kwargs)\u001b[0m\n\u001b[1;32m    932\u001b[0m     \u001b[0merror\u001b[0m \u001b[0;34m=\u001b[0m \u001b[0mexceptions\u001b[0m\u001b[0;34m.\u001b[0m\u001b[0mbest_match\u001b[0m\u001b[0;34m(\u001b[0m\u001b[0mvalidator\u001b[0m\u001b[0;34m.\u001b[0m\u001b[0miter_errors\u001b[0m\u001b[0;34m(\u001b[0m\u001b[0minstance\u001b[0m\u001b[0;34m)\u001b[0m\u001b[0;34m)\u001b[0m\u001b[0;34m\u001b[0m\u001b[0;34m\u001b[0m\u001b[0m\n\u001b[1;32m    933\u001b[0m     \u001b[0;32mif\u001b[0m \u001b[0merror\u001b[0m \u001b[0;32mis\u001b[0m \u001b[0;32mnot\u001b[0m \u001b[0;32mNone\u001b[0m\u001b[0;34m:\u001b[0m\u001b[0;34m\u001b[0m\u001b[0;34m\u001b[0m\u001b[0m\n\u001b[0;32m--> 934\u001b[0;31m         \u001b[0;32mraise\u001b[0m \u001b[0merror\u001b[0m\u001b[0;34m\u001b[0m\u001b[0;34m\u001b[0m\u001b[0m\n\u001b[0m\u001b[1;32m    935\u001b[0m \u001b[0;34m\u001b[0m\u001b[0m\n\u001b[1;32m    936\u001b[0m \u001b[0;34m\u001b[0m\u001b[0m\n",
      "\u001b[0;31mValidationError\u001b[0m: 'responseField' is a required property\n\nFailed validating 'required' in schema[0]:\n    {'description': 'Edge property is dynamic and should have the value of '\n                    'a specific field in  the API response/JSON record. In '\n                    'this situation, a field called  responseField is '\n                    'used. Use dot-notation to refer to the response '\n                    'field. ',\n     'properties': {'responseField': {'type': 'string'}},\n     'required': ['responseField'],\n     'type': 'object'}\n\nOn instance:\n    {}"
     ]
    }
   ],
   "source": [
    "## but what if it's a fluke?? \n",
    "## remove a required key from one association \n",
    "removed1 = example_from_yaml['components']['x-bte-association-retrieval']['disease-gene1']\\\n",
    "['references']['publications']['pmid'].pop('responseField')\n",
    "\n",
    "## then try to validate, this \n",
    "jsonschema.validate(instance=example_from_yaml, schema=schema_from_yaml)\n",
    "## so it works in catching the error yayyyyyyyy. too bad it doesn't tell you which entry had the error in it..."
   ]
  },
  {
   "cell_type": "code",
   "execution_count": 16,
   "metadata": {
    "ExecuteTime": {
     "end_time": "2020-12-15T05:37:17.066150Z",
     "start_time": "2020-12-15T05:37:17.063479Z"
    }
   },
   "outputs": [],
   "source": [
    "example_from_yaml['components']['x-bte-association-retrieval']['disease-gene1']\\\n",
    "['references']['publications']['pmid']['responseField'] = removed1"
   ]
  },
  {
   "cell_type": "code",
   "execution_count": 17,
   "metadata": {
    "ExecuteTime": {
     "end_time": "2020-12-15T05:37:17.735474Z",
     "start_time": "2020-12-15T05:37:17.694809Z"
    }
   },
   "outputs": [],
   "source": [
    "jsonschema.validate(instance=example_from_yaml, schema=schema_from_yaml)\n",
    "## and it's back and accepted again "
   ]
  },
  {
   "cell_type": "markdown",
   "metadata": {},
   "source": [
    "### error: if there are two mins in range"
   ]
  },
  {
   "cell_type": "code",
   "execution_count": 19,
   "metadata": {
    "ExecuteTime": {
     "end_time": "2020-12-15T05:39:59.503506Z",
     "start_time": "2020-12-15T05:39:59.498674Z"
    }
   },
   "outputs": [
    {
     "data": {
      "text/plain": [
       "{'minExclusive': 0, 'maxInclusive': 1}"
      ]
     },
     "execution_count": 19,
     "metadata": {},
     "output_type": "execute_result"
    }
   ],
   "source": [
    "## another check: look at the range for the first numericMeasure\n",
    "example_from_yaml['components']['x-bte-association-retrieval']['disease-gene1']\\\n",
    "['numericMeasures'][0]['range']"
   ]
  },
  {
   "cell_type": "code",
   "execution_count": 20,
   "metadata": {
    "ExecuteTime": {
     "end_time": "2020-12-15T05:40:34.474588Z",
     "start_time": "2020-12-15T05:40:34.427148Z"
    }
   },
   "outputs": [
    {
     "ename": "ValidationError",
     "evalue": "{'anyOf': [{'type': 'object', 'required': ['minExclusive', 'minInclusive']}, {'type': 'object', 'required': ['maxExclusive', 'maxInclusive']}]} is not allowed for {'minExclusive': 0, 'maxInclusive': 1, 'minInclusive': -1}\n\nFailed validating 'not' in schema['properties']['components']['properties']['x-bte-association-retrieval']['patternProperties']['.']['properties']['numericMeasures']['items']['allOf'][1]['properties']['range']:\n    {'additionalProperties': False,\n     'description': 'Python-dict-like. Should define an expected lower '\n                    'and/or upper  bound for values (minimum and maximum). '\n                    'Inclusive means the range  includes the boundary '\n                    'number, exclusive means the range does not.  If the '\n                    'actual lower-bound of the value is negative-infinity '\n                    'and/or the actual upper bound of the value is '\n                    'positive-infinity, do not set a bound. ',\n     'not': {'anyOf': [{'required': ['minExclusive', 'minInclusive'],\n                        'type': 'object'},\n                       {'required': ['maxExclusive', 'maxInclusive'],\n                        'type': 'object'}]},\n     'properties': {'maxExclusive': {'type': 'number'},\n                    'maxInclusive': {'type': 'number'},\n                    'minExclusive': {'type': 'number'},\n                    'minInclusive': {'type': 'number'}},\n     'type': 'object'}\n\nOn instance['components']['x-bte-association-retrieval']['disease-gene1']['numericMeasures'][0]['range']:\n    {'maxInclusive': 1, 'minExclusive': 0, 'minInclusive': -1}",
     "output_type": "error",
     "traceback": [
      "\u001b[0;31m---------------------------------------------------------------------------\u001b[0m",
      "\u001b[0;31mValidationError\u001b[0m                           Traceback (most recent call last)",
      "\u001b[0;32m<ipython-input-20-288fad08cea1>\u001b[0m in \u001b[0;36m<module>\u001b[0;34m\u001b[0m\n\u001b[1;32m      4\u001b[0m \u001b[0;34m\u001b[0m\u001b[0m\n\u001b[1;32m      5\u001b[0m \u001b[0;31m## then try to validate, this\u001b[0m\u001b[0;34m\u001b[0m\u001b[0;34m\u001b[0m\u001b[0;34m\u001b[0m\u001b[0m\n\u001b[0;32m----> 6\u001b[0;31m \u001b[0mjsonschema\u001b[0m\u001b[0;34m.\u001b[0m\u001b[0mvalidate\u001b[0m\u001b[0;34m(\u001b[0m\u001b[0minstance\u001b[0m\u001b[0;34m=\u001b[0m\u001b[0mexample_from_yaml\u001b[0m\u001b[0;34m,\u001b[0m \u001b[0mschema\u001b[0m\u001b[0;34m=\u001b[0m\u001b[0mschema_from_yaml\u001b[0m\u001b[0;34m)\u001b[0m\u001b[0;34m\u001b[0m\u001b[0;34m\u001b[0m\u001b[0m\n\u001b[0m",
      "\u001b[0;32m~/miniconda3/envs/BTE2/lib/python3.7/site-packages/jsonschema/validators.py\u001b[0m in \u001b[0;36mvalidate\u001b[0;34m(instance, schema, cls, *args, **kwargs)\u001b[0m\n\u001b[1;32m    932\u001b[0m     \u001b[0merror\u001b[0m \u001b[0;34m=\u001b[0m \u001b[0mexceptions\u001b[0m\u001b[0;34m.\u001b[0m\u001b[0mbest_match\u001b[0m\u001b[0;34m(\u001b[0m\u001b[0mvalidator\u001b[0m\u001b[0;34m.\u001b[0m\u001b[0miter_errors\u001b[0m\u001b[0;34m(\u001b[0m\u001b[0minstance\u001b[0m\u001b[0;34m)\u001b[0m\u001b[0;34m)\u001b[0m\u001b[0;34m\u001b[0m\u001b[0;34m\u001b[0m\u001b[0m\n\u001b[1;32m    933\u001b[0m     \u001b[0;32mif\u001b[0m \u001b[0merror\u001b[0m \u001b[0;32mis\u001b[0m \u001b[0;32mnot\u001b[0m \u001b[0;32mNone\u001b[0m\u001b[0;34m:\u001b[0m\u001b[0;34m\u001b[0m\u001b[0;34m\u001b[0m\u001b[0m\n\u001b[0;32m--> 934\u001b[0;31m         \u001b[0;32mraise\u001b[0m \u001b[0merror\u001b[0m\u001b[0;34m\u001b[0m\u001b[0;34m\u001b[0m\u001b[0m\n\u001b[0m\u001b[1;32m    935\u001b[0m \u001b[0;34m\u001b[0m\u001b[0m\n\u001b[1;32m    936\u001b[0m \u001b[0;34m\u001b[0m\u001b[0m\n",
      "\u001b[0;31mValidationError\u001b[0m: {'anyOf': [{'type': 'object', 'required': ['minExclusive', 'minInclusive']}, {'type': 'object', 'required': ['maxExclusive', 'maxInclusive']}]} is not allowed for {'minExclusive': 0, 'maxInclusive': 1, 'minInclusive': -1}\n\nFailed validating 'not' in schema['properties']['components']['properties']['x-bte-association-retrieval']['patternProperties']['.']['properties']['numericMeasures']['items']['allOf'][1]['properties']['range']:\n    {'additionalProperties': False,\n     'description': 'Python-dict-like. Should define an expected lower '\n                    'and/or upper  bound for values (minimum and maximum). '\n                    'Inclusive means the range  includes the boundary '\n                    'number, exclusive means the range does not.  If the '\n                    'actual lower-bound of the value is negative-infinity '\n                    'and/or the actual upper bound of the value is '\n                    'positive-infinity, do not set a bound. ',\n     'not': {'anyOf': [{'required': ['minExclusive', 'minInclusive'],\n                        'type': 'object'},\n                       {'required': ['maxExclusive', 'maxInclusive'],\n                        'type': 'object'}]},\n     'properties': {'maxExclusive': {'type': 'number'},\n                    'maxInclusive': {'type': 'number'},\n                    'minExclusive': {'type': 'number'},\n                    'minInclusive': {'type': 'number'}},\n     'type': 'object'}\n\nOn instance['components']['x-bte-association-retrieval']['disease-gene1']['numericMeasures'][0]['range']:\n    {'maxInclusive': 1, 'minExclusive': 0, 'minInclusive': -1}"
     ]
    }
   ],
   "source": [
    "## add an error: minInclusive\n",
    "example_from_yaml['components']['x-bte-association-retrieval']['disease-gene1']\\\n",
    "['numericMeasures'][0]['range']['minInclusive'] = -1\n",
    "\n",
    "## then try to validate, this \n",
    "jsonschema.validate(instance=example_from_yaml, schema=schema_from_yaml)"
   ]
  },
  {
   "cell_type": "code",
   "execution_count": 21,
   "metadata": {
    "ExecuteTime": {
     "end_time": "2020-12-15T05:41:22.934335Z",
     "start_time": "2020-12-15T05:41:22.892175Z"
    }
   },
   "outputs": [
    {
     "data": {
      "text/plain": [
       "-1"
      ]
     },
     "execution_count": 21,
     "metadata": {},
     "output_type": "execute_result"
    }
   ],
   "source": [
    "## fix the error and re-validate\n",
    "example_from_yaml['components']['x-bte-association-retrieval']['disease-gene1']\\\n",
    "['numericMeasures'][0]['range'].pop('minInclusive')\n",
    "\n",
    "## then try to validate, this \n",
    "jsonschema.validate(instance=example_from_yaml, schema=schema_from_yaml)"
   ]
  },
  {
   "cell_type": "markdown",
   "metadata": {},
   "source": [
    "## Export JSON files for the yamls"
   ]
  },
  {
   "cell_type": "code",
   "execution_count": 22,
   "metadata": {
    "ExecuteTime": {
     "end_time": "2020-12-15T05:41:30.398342Z",
     "start_time": "2020-12-15T05:41:30.383654Z"
    }
   },
   "outputs": [],
   "source": [
    "json_schema_path = pathlib.Path.cwd().joinpath(\"draft6_schema_x-bte-association-retrieval.json\")\n",
    "with open(json_schema_path, \"w\") as file:\n",
    "    json.dump(schema_from_yaml, file, indent=2)"
   ]
  },
  {
   "cell_type": "code",
   "execution_count": 23,
   "metadata": {
    "ExecuteTime": {
     "end_time": "2020-12-15T05:41:31.258957Z",
     "start_time": "2020-12-15T05:41:31.255215Z"
    }
   },
   "outputs": [],
   "source": [
    "json_example_path = pathlib.Path.cwd().joinpath(\"draft6_example_disgenetDG.json\")\n",
    "with open(json_example_path, \"w\") as file:\n",
    "    json.dump(example_from_yaml, file, indent=2)"
   ]
  },
  {
   "cell_type": "code",
   "execution_count": null,
   "metadata": {},
   "outputs": [],
   "source": []
  }
 ],
 "metadata": {
  "kernelspec": {
   "display_name": "Python 3",
   "language": "python",
   "name": "python3"
  },
  "language_info": {
   "codemirror_mode": {
    "name": "ipython",
    "version": 3
   },
   "file_extension": ".py",
   "mimetype": "text/x-python",
   "name": "python",
   "nbconvert_exporter": "python",
   "pygments_lexer": "ipython3",
   "version": "3.7.9"
  },
  "toc": {
   "base_numbering": 1,
   "nav_menu": {},
   "number_sections": true,
   "sideBar": true,
   "skip_h1_title": true,
   "title_cell": "Table of Contents",
   "title_sidebar": "Contents",
   "toc_cell": false,
   "toc_position": {
    "height": "calc(100% - 180px)",
    "left": "10px",
    "top": "150px",
    "width": "277.65px"
   },
   "toc_section_display": true,
   "toc_window_display": true
  },
  "varInspector": {
   "cols": {
    "lenName": 16,
    "lenType": 16,
    "lenVar": 40
   },
   "kernels_config": {
    "python": {
     "delete_cmd_postfix": "",
     "delete_cmd_prefix": "del ",
     "library": "var_list.py",
     "varRefreshCmd": "print(var_dic_list())"
    },
    "r": {
     "delete_cmd_postfix": ") ",
     "delete_cmd_prefix": "rm(",
     "library": "var_list.r",
     "varRefreshCmd": "cat(var_dic_list()) "
    }
   },
   "types_to_exclude": [
    "module",
    "function",
    "builtin_function_or_method",
    "instance",
    "_Feature"
   ],
   "window_display": false
  }
 },
 "nbformat": 4,
 "nbformat_minor": 4
}
