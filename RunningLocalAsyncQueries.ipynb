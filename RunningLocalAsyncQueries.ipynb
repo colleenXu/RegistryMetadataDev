{
 "cells": [
  {
   "cell_type": "code",
   "execution_count": 1,
   "id": "3b74c4f8",
   "metadata": {
    "ExecuteTime": {
     "end_time": "2021-12-01T22:35:35.638376Z",
     "start_time": "2021-12-01T22:35:35.501345Z"
    }
   },
   "outputs": [],
   "source": [
    "## CX: allows multiple lines of code to print from one code block\n",
    "from IPython.core.interactiveshell import InteractiveShell\n",
    "InteractiveShell.ast_node_interactivity = \"all\"\n",
    "\n",
    "import requests\n",
    "import time"
   ]
  },
  {
   "cell_type": "code",
   "execution_count": 275,
   "id": "45eaebb1",
   "metadata": {
    "ExecuteTime": {
     "end_time": "2021-12-02T06:58:40.547589Z",
     "start_time": "2021-12-02T06:58:40.543421Z"
    }
   },
   "outputs": [],
   "source": [
    "query_body = {\n",
    "  \"message\": {\n",
    "    \"query_graph\": {\n",
    "      \"nodes\": {\n",
    "        \"n0\": {\n",
    "          \"ids\": [\"CHEMBL.COMPOUND:CHEMBL1431\"],\n",
    "          \"categories\": [\"biolink:SmallMolecule\"]\n",
    "        },\n",
    "        \"n1\": {\n",
    "          \"categories\": [\"biolink:Protein\"]\n",
    "        },\n",
    "        \"n2\": {\n",
    "          \"categories\": [\"biolink:Protein\"]\n",
    "        },\n",
    "        \"n3\": {\n",
    "          \"ids\": [\n",
    "              \"UniProtKB:P02794\", \n",
    "              \"UniProtKB:P02792\"\n",
    "            ],\n",
    "          \"categories\": [\"biolink:Protein\"]\n",
    "        }\n",
    "      },\n",
    "      \"edges\": {\n",
    "        \"e0\": {\n",
    "          \"subject\": \"n0\",\n",
    "          \"object\": \"n1\"\n",
    "        },\n",
    "        \"e1\": {\n",
    "          \"subject\": \"n1\",\n",
    "          \"object\": \"n2\"\n",
    "        },\n",
    "        \"e2\": {\n",
    "          \"subject\": \"n2\",\n",
    "          \"object\": \"n3\"\n",
    "        }\n",
    "      }\n",
    "    }\n",
    "  }\n",
    "}"
   ]
  },
  {
   "cell_type": "code",
   "execution_count": 277,
   "id": "ea537277",
   "metadata": {
    "ExecuteTime": {
     "end_time": "2021-12-02T07:29:47.620581Z",
     "start_time": "2021-12-02T06:59:18.331726Z"
    }
   },
   "outputs": [
    {
     "name": "stdout",
     "output_type": "stream",
     "text": [
      "1829.255923986435\n"
     ]
    }
   ],
   "source": [
    "r = requests.post(\"http://localhost:3000/v1/asyncquery\", json=query_body)\n",
    "get_url = r.json()['url']\n",
    "\n",
    "start_time = time.time()\n",
    "\n",
    "job_check = requests.get(get_url).json()\n",
    "\n",
    "while job_check['state'] != 'completed':\n",
    "    time.sleep(1)\n",
    "    job_check = requests.get(get_url).json()\n",
    "    \n",
    "end_time = time.time()\n",
    "time_passed = end_time - start_time\n",
    "print(time_passed)"
   ]
  },
  {
   "cell_type": "code",
   "execution_count": 278,
   "id": "9e7871c2",
   "metadata": {
    "ExecuteTime": {
     "end_time": "2021-12-02T07:38:41.532846Z",
     "start_time": "2021-12-02T07:38:41.527679Z"
    }
   },
   "outputs": [
    {
     "data": {
      "text/plain": [
       "'completed'"
      ]
     },
     "execution_count": 278,
     "metadata": {},
     "output_type": "execute_result"
    },
    {
     "data": {
      "text/plain": [
       "52250"
      ]
     },
     "execution_count": 278,
     "metadata": {},
     "output_type": "execute_result"
    }
   ],
   "source": [
    "job_check['state']\n",
    "\n",
    "len(job_check['returnvalue']['response']['message']['results'])"
   ]
  },
  {
   "cell_type": "code",
   "execution_count": 30,
   "id": "57b0f417",
   "metadata": {
    "ExecuteTime": {
     "end_time": "2021-12-01T23:06:25.288249Z",
     "start_time": "2021-12-01T23:06:25.119371Z"
    }
   },
   "outputs": [],
   "source": [
    "job_check = requests.get(\"http://api.bte.ncats.io/v1/check_query_status/VNE0RVJbfD\").json()"
   ]
  },
  {
   "cell_type": "code",
   "execution_count": 72,
   "id": "a95fb63f",
   "metadata": {
    "ExecuteTime": {
     "end_time": "2021-12-01T23:20:56.387629Z",
     "start_time": "2021-12-01T23:20:56.383750Z"
    }
   },
   "outputs": [
    {
     "data": {
      "text/plain": [
       "{'id': 'UlFzcQVM3T',\n",
       " 'state': 'completed',\n",
       " 'returnvalue': {'response': {'error': 'TypeError',\n",
       "   'message': \"Cannot read properties of undefined (reading 'includes')\"},\n",
       "  'status': 200,\n",
       "  'callback': 'Callback url was not provided'},\n",
       " 'progress': 0}"
      ]
     },
     "execution_count": 72,
     "metadata": {},
     "output_type": "execute_result"
    }
   ],
   "source": [
    "job_check\n"
   ]
  },
  {
   "cell_type": "code",
   "execution_count": 279,
   "id": "1193808b",
   "metadata": {
    "ExecuteTime": {
     "end_time": "2021-12-02T07:40:33.083571Z",
     "start_time": "2021-12-02T07:40:25.654471Z"
    }
   },
   "outputs": [],
   "source": [
    "import pathlib\n",
    "import json\n",
    "\n",
    "B3a_path = pathlib.Path.home().joinpath(\"Desktop\", \"SavedDemoRuns\", \"D6-new-changes-icees-prod.json\")\n",
    "\n",
    "with open(B3a_path, \"w\") as write_file:\n",
    "    json.dump(job_check['returnvalue']['response'], write_file) # encode dict into JSON"
   ]
  },
  {
   "cell_type": "code",
   "execution_count": null,
   "id": "629660d0",
   "metadata": {},
   "outputs": [],
   "source": []
  }
 ],
 "metadata": {
  "kernelspec": {
   "display_name": "Python 3 (ipykernel)",
   "language": "python",
   "name": "python3"
  },
  "language_info": {
   "codemirror_mode": {
    "name": "ipython",
    "version": 3
   },
   "file_extension": ".py",
   "mimetype": "text/x-python",
   "name": "python",
   "nbconvert_exporter": "python",
   "pygments_lexer": "ipython3",
   "version": "3.9.7"
  },
  "toc": {
   "base_numbering": 1,
   "nav_menu": {},
   "number_sections": true,
   "sideBar": true,
   "skip_h1_title": false,
   "title_cell": "Table of Contents",
   "title_sidebar": "Contents",
   "toc_cell": false,
   "toc_position": {},
   "toc_section_display": true,
   "toc_window_display": false
  }
 },
 "nbformat": 4,
 "nbformat_minor": 5
}
