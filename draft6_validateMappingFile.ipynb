{
 "cells": [
  {
   "cell_type": "markdown",
   "metadata": {},
   "source": [
    "# Example of validating the mapping file (provenance) using schema"
   ]
  },
  {
   "cell_type": "code",
   "execution_count": 1,
   "metadata": {
    "ExecuteTime": {
     "end_time": "2020-12-25T06:35:28.089680Z",
     "start_time": "2020-12-25T06:35:27.920099Z"
    }
   },
   "outputs": [],
   "source": [
    "## CX: allows multiple lines of code to print from one code block\n",
    "from IPython.core.interactiveshell import InteractiveShell\n",
    "InteractiveShell.ast_node_interactivity = \"all\"\n",
    "\n",
    "import json\n",
    "import jsonschema\n",
    "import pathlib\n",
    "import jsonref\n",
    "import yaml"
   ]
  },
  {
   "cell_type": "code",
   "execution_count": 2,
   "metadata": {
    "ExecuteTime": {
     "end_time": "2020-12-25T06:35:28.781437Z",
     "start_time": "2020-12-25T06:35:28.771950Z"
    }
   },
   "outputs": [
    {
     "data": {
      "text/plain": [
       "PosixPath('/Users/jay/Desktop/biothings_explorer/jupyter notebooks/CX_WIPs/Draft_Metadata')"
      ]
     },
     "execution_count": 2,
     "metadata": {},
     "output_type": "execute_result"
    }
   ],
   "source": [
    "pathlib.Path.cwd()"
   ]
  },
  {
   "cell_type": "markdown",
   "metadata": {},
   "source": [
    "## loading schema"
   ]
  },
  {
   "cell_type": "code",
   "execution_count": 3,
   "metadata": {
    "ExecuteTime": {
     "end_time": "2020-12-25T06:35:33.357340Z",
     "start_time": "2020-12-25T06:35:33.291396Z"
    }
   },
   "outputs": [],
   "source": [
    "yaml_schema = pathlib.Path.cwd().joinpath(\"draft6_schema_mappingFile.yaml\")\n",
    "with open(yaml_schema) as file:\n",
    "    schema_from_yaml = yaml.load(file, Loader=yaml.SafeLoader)\n",
    "    schema_from_yaml = json.dumps(schema_from_yaml, indent=2)\n",
    "    schema_from_yaml = jsonref.loads(schema_from_yaml)"
   ]
  },
  {
   "cell_type": "code",
   "execution_count": 4,
   "metadata": {
    "ExecuteTime": {
     "end_time": "2020-12-25T06:35:33.988459Z",
     "start_time": "2020-12-25T06:35:33.983143Z"
    }
   },
   "outputs": [
    {
     "data": {
      "text/plain": [
       "dict_keys(['title', '$schema', 'type', 'description', 'properties', 'definitions'])"
      ]
     },
     "execution_count": 4,
     "metadata": {},
     "output_type": "execute_result"
    },
    {
     "data": {
      "text/plain": [
       "'Contains the mapping between possible values in the response fields (as string keys) to info in the desired format. Will be used often for provenance'"
      ]
     },
     "execution_count": 4,
     "metadata": {},
     "output_type": "execute_result"
    }
   ],
   "source": [
    "schema_from_yaml.keys()\n",
    "schema_from_yaml['description']"
   ]
  },
  {
   "cell_type": "code",
   "execution_count": 5,
   "metadata": {
    "ExecuteTime": {
     "end_time": "2020-12-25T06:35:35.874039Z",
     "start_time": "2020-12-25T06:35:35.869918Z"
    }
   },
   "outputs": [
    {
     "data": {
      "text/plain": [
       "dict_keys(['provenanceMapping'])"
      ]
     },
     "execution_count": 5,
     "metadata": {},
     "output_type": "execute_result"
    }
   ],
   "source": [
    "schema_from_yaml['properties'].keys()"
   ]
  },
  {
   "cell_type": "code",
   "execution_count": 6,
   "metadata": {
    "ExecuteTime": {
     "end_time": "2020-12-25T06:35:36.366071Z",
     "start_time": "2020-12-25T06:35:36.361749Z"
    }
   },
   "outputs": [
    {
     "data": {
      "text/plain": [
       "dict_keys(['name', 'sourceType', 'version', 'versionType', 'method', 'sourceReferences', 'descriptiveInfo', 'sourceContext'])"
      ]
     },
     "execution_count": 6,
     "metadata": {},
     "output_type": "execute_result"
    }
   ],
   "source": [
    "schema_from_yaml['properties']['provenanceMapping']['patternProperties']\\\n",
    "['.']['items']['properties'].keys()"
   ]
  },
  {
   "cell_type": "code",
   "execution_count": 7,
   "metadata": {
    "ExecuteTime": {
     "end_time": "2020-12-25T06:35:36.908020Z",
     "start_time": "2020-12-25T06:35:36.903449Z"
    }
   },
   "outputs": [
    {
     "data": {
      "text/plain": [
       "[{'type': 'array', 'minItems': 1, 'items': {'type': 'string'}},\n",
       " {'type': 'string'}]"
      ]
     },
     "execution_count": 7,
     "metadata": {},
     "output_type": "execute_result"
    }
   ],
   "source": [
    "schema_from_yaml['properties']['provenanceMapping']['patternProperties']\\\n",
    "['.']['items']['properties']['sourceReferences']['properties']['websites']\\\n",
    "['properties']['value']['oneOf']"
   ]
  },
  {
   "cell_type": "markdown",
   "metadata": {},
   "source": [
    "## checking an example"
   ]
  },
  {
   "cell_type": "code",
   "execution_count": 8,
   "metadata": {
    "ExecuteTime": {
     "end_time": "2020-12-25T06:35:49.950061Z",
     "start_time": "2020-12-25T06:35:49.928913Z"
    }
   },
   "outputs": [],
   "source": [
    "yaml_example = pathlib.Path.cwd().joinpath(\"draft6_example_mappingFile_disgenetDV.yaml\")\n",
    "with open(yaml_example) as file:\n",
    "    example_from_yaml = yaml.load(file, Loader=yaml.SafeLoader)\n",
    "    example_from_yaml = json.dumps(example_from_yaml, indent=2)\n",
    "    example_from_yaml = jsonref.loads(example_from_yaml)"
   ]
  },
  {
   "cell_type": "code",
   "execution_count": 9,
   "metadata": {
    "ExecuteTime": {
     "end_time": "2020-12-25T06:35:51.404662Z",
     "start_time": "2020-12-25T06:35:51.400694Z"
    }
   },
   "outputs": [
    {
     "data": {
      "text/plain": [
       "dict_keys(['BEFREE', 'UNIPROT', 'CLINVAR', 'GWASCAT', 'GWASDB'])"
      ]
     },
     "execution_count": 9,
     "metadata": {},
     "output_type": "execute_result"
    }
   ],
   "source": [
    "example_from_yaml['provenanceMapping'].keys()"
   ]
  },
  {
   "cell_type": "code",
   "execution_count": 10,
   "metadata": {
    "ExecuteTime": {
     "end_time": "2020-12-25T06:35:58.558508Z",
     "start_time": "2020-12-25T06:35:58.554266Z"
    }
   },
   "outputs": [
    {
     "data": {
      "text/plain": [
       "{'name': 'MyDisease.info API',\n",
       " 'sourceType': 'service',\n",
       " 'version': '2020-10-26',\n",
       " 'versionType': 'date_last_updated',\n",
       " 'method': 'ingest',\n",
       " 'descriptiveInfo': 'Downloaded the DisGeNET ALL variant-disease-pmid associations file'}"
      ]
     },
     "execution_count": 10,
     "metadata": {},
     "output_type": "execute_result"
    }
   ],
   "source": [
    "example_from_yaml['provenanceMapping']['GWASCAT'][0]"
   ]
  },
  {
   "cell_type": "code",
   "execution_count": 11,
   "metadata": {
    "ExecuteTime": {
     "end_time": "2020-12-25T06:36:07.549761Z",
     "start_time": "2020-12-25T06:36:07.545798Z"
    }
   },
   "outputs": [
    {
     "data": {
      "text/plain": [
       "{'name': 'UniProtKB',\n",
       " 'sourceType': 'knowledgebase',\n",
       " 'method': 'manual_curation',\n",
       " 'sourceContext': {'taxonSpecific': {'value': 'NCBITaxon:9606'}},\n",
       " 'sourceReferences': {'websites': {'value': ['https://www.uniprot.org/docs/humsavar',\n",
       "    'https://www.uniprot.org/help/entry_status',\n",
       "    'ftp://ftp.uniprot.org/pub/databases/uniprot/current_release/knowledgebase/variants/README']}},\n",
       " 'descriptiveInfo': 'The humsavar file from UniProt lists all missense variants annotated in human UniProtKB/Swiss-Prot entries, along with their gene/protein and whether they are implicated in a specific disease. UniProtKB/Swiss-Prot annotations are made by curators (1) using scientific literature or (2) reviewing and accepting the annotations made by computational analysis /automatic processing.'}"
      ]
     },
     "execution_count": 11,
     "metadata": {},
     "output_type": "execute_result"
    }
   ],
   "source": [
    "example_from_yaml['provenanceMapping']['UNIPROT'][2]"
   ]
  },
  {
   "cell_type": "markdown",
   "metadata": {},
   "source": [
    "## validate example against schema"
   ]
  },
  {
   "cell_type": "code",
   "execution_count": 12,
   "metadata": {
    "ExecuteTime": {
     "end_time": "2020-12-25T06:36:11.351291Z",
     "start_time": "2020-12-25T06:36:11.338977Z"
    }
   },
   "outputs": [],
   "source": [
    "jsonschema.validate(instance=example_from_yaml, schema=schema_from_yaml)\n",
    "## YAYAYAYAYAY this means it validated!!!!!!!"
   ]
  },
  {
   "cell_type": "markdown",
   "metadata": {},
   "source": [
    "### error: if a required field is missing"
   ]
  },
  {
   "cell_type": "code",
   "execution_count": 13,
   "metadata": {
    "ExecuteTime": {
     "end_time": "2020-12-25T06:36:25.807882Z",
     "start_time": "2020-12-25T06:36:25.624612Z"
    }
   },
   "outputs": [
    {
     "ename": "ValidationError",
     "evalue": "'name' is a required property\n\nFailed validating 'required' in schema['properties']['provenanceMapping']['patternProperties']['.']['items']:\n    {'additionalProperties': False,\n     'properties': {'descriptiveInfo': {'description': 'Long-text '\n                                                       'description of '\n                                                       'what the source '\n                                                       'did to create '\n                                                       'associations. Try '\n                                                       'to include enough '\n                                                       'detail that a '\n                                                       'reader would '\n                                                       'understand what '\n                                                       'happened',\n                                        'type': 'string'},\n                    'method': {'description': 'Keyword noting what the '\n                                              'source did to create '\n                                              'associations from data or '\n                                              'knowledge. Current possible '\n                                              'values include ingest, NLP, '\n                                              'manual_curation, '\n                                              'shared_phenotype, '\n                                              'shared_disease, '\n                                              'shared_variant, submission, '\n                                              'orthology_mapping',\n                               'type': 'string'},\n                    'name': {'description': 'Name of the source (KP API, '\n                                            'knowledge-source, database, '\n                                            'text corpus, etc)',\n                             'type': 'string'},\n                    'sourceContext': {'additionalProperties': False,\n                                      'description': 'Object, Python '\n                                                     'dict-like. Keys '\n                                                     'specify the type of '\n                                                     'context. Values '\n                                                     'depend on where the '\n                                                     'information comes '\n                                                     'from. After '\n                                                     'post-processing, the '\n                                                     'context should be '\n                                                     'ontology terms '\n                                                     '(curies) or '\n                                                     'short-strings. '\n                                                     'Context/relevance is '\n                                                     'information that '\n                                                     'restricts the use or '\n                                                     'interpretation of '\n                                                     'this association. '\n                                                     'This lets a '\n                                                     'developer know if '\n                                                     'the operation or the '\n                                                     'associations '\n                                                     'retrieved are '\n                                                     'relevant to the '\n                                                     'question being asked',\n                                      'minProperties': 1,\n                                      'patternProperties': {'taxonSpecific|diseaseSpecific|cohortSpecific|experimentalSpecific': {'additionalProperties': False,\n                                                                                                                                  'description': 'Info '\n                                                                                                                                                 'is '\n                                                                                                                                                 'not '\n                                                                                                                                                 'dependent '\n                                                                                                                                                 'on '\n                                                                                                                                                 'API/JSON-response. '\n                                                                                                                                                 'In '\n                                                                                                                                                 'this '\n                                                                                                                                                 'situation, '\n                                                                                                                                                 'a '\n                                                                                                                                                 'static '\n                                                                                                                                                 'value '\n                                                                                                                                                 'can '\n                                                                                                                                                 'be '\n                                                                                                                                                 'set '\n                                                                                                                                                 'in '\n                                                                                                                                                 'the '\n                                                                                                                                                 'registry '\n                                                                                                                                                 'using '\n                                                                                                                                                 'the '\n                                                                                                                                                 'value '\n                                                                                                                                                 'field',\n                                                                                                                                  'properties': {'value': {'oneOf': [{'items': {'type': 'string'},\n                                                                                                                                                                      'minItems': 1,\n                                                                                                                                                                      'type': 'array'},\n                                                                                                                                                                     {'type': 'string'}]}},\n                                                                                                                                  'required': ['value'],\n                                                                                                                                  'type': 'object'}},\n                                      'type': 'object'},\n                    'sourceReferences': {'additionalProperties': False,\n                                         'description': 'Used to provide '\n                                                        'publications and '\n                                                        'website URLs for '\n                                                        'users to learn '\n                                                        'more about an '\n                                                        'association, '\n                                                        'knowledge-source, '\n                                                        'measure, '\n                                                        'context/relevance, '\n                                                        'etc',\n                                         'minProperties': 1,\n                                         'properties': {'publications': {'minProperties': 1,\n                                                                         'patternProperties': {'.': {'additionalProperties': False,\n                                                                                                     'properties': {'value': {'oneOf': [{'items': {'type': ['string',\n                                                                                                                                                            'number']},\n                                                                                                                                         'minItems': 1,\n                                                                                                                                         'type': 'array'},\n                                                                                                                                        {'type': ['string',\n                                                                                                                                                  'number']}]}},\n                                                                                                     'required': ['value'],\n                                                                                                     'type': 'object'}},\n                                                                         'type': 'object'},\n                                                        'websites': {'additionalProperties': False,\n                                                                     'description': 'Info '\n                                                                                    'is '\n                                                                                    'not '\n                                                                                    'dependent '\n                                                                                    'on '\n                                                                                    'API/JSON-response. '\n                                                                                    'In '\n                                                                                    'this '\n                                                                                    'situation, '\n                                                                                    'a '\n                                                                                    'static '\n                                                                                    'value '\n                                                                                    'can '\n                                                                                    'be '\n                                                                                    'set '\n                                                                                    'in '\n                                                                                    'the '\n                                                                                    'registry '\n                                                                                    'using '\n                                                                                    'the '\n                                                                                    'value '\n                                                                                    'field',\n                                                                     'properties': {'value': {'oneOf': [{'items': {'type': 'string'},\n                                                                                                         'minItems': 1,\n                                                                                                         'type': 'array'},\n                                                                                                        {'type': 'string'}]}},\n                                                                     'required': ['value'],\n                                                                     'type': 'object'}},\n                                         'type': 'object'},\n                    'sourceType': {'description': 'Type of the source (KP '\n                                                  'API, knowledge-source, '\n                                                  'database, text corpus, '\n                                                  'etc). Current possible '\n                                                  'values include service, '\n                                                  'knowledgebase, '\n                                                  'publications, text, '\n                                                  'clinical_database',\n                                   'type': 'string'},\n                    'version': {'description': 'Source version (KP API, '\n                                               'knowledge-source, '\n                                               'database, text corpus, '\n                                               'etc)',\n                                'type': 'string'},\n                    'versionType': {'description': 'There are different '\n                                                   'formats for '\n                                                   'versioning. Current '\n                                                   'possible values '\n                                                   'include '\n                                                   'date_last_updated, '\n                                                   'version_number, '\n                                                   'data_from_this_date, '\n                                                   'latest_date_covered',\n                                    'type': 'string'}},\n     'required': ['name', 'sourceType'],\n     'type': 'object'}\n\nOn instance['provenanceMapping']['UNIPROT'][2]:\n    {'descriptiveInfo': 'The humsavar file from UniProt lists all missense '\n                        'variants annotated in human UniProtKB/Swiss-Prot '\n                        'entries, along with their gene/protein and '\n                        'whether they are implicated in a specific '\n                        'disease. UniProtKB/Swiss-Prot annotations are '\n                        'made by curators (1) using scientific literature '\n                        'or (2) reviewing and accepting the annotations '\n                        'made by computational analysis /automatic '\n                        'processing.',\n     'method': 'manual_curation',\n     'sourceContext': {'taxonSpecific': {'value': 'NCBITaxon:9606'}},\n     'sourceReferences': {'websites': {'value': ['https://www.uniprot.org/docs/humsavar',\n                                                 'https://www.uniprot.org/help/entry_status',\n                                                 'ftp://ftp.uniprot.org/pub/databases/uniprot/current_release/knowledgebase/variants/README']}},\n     'sourceType': 'knowledgebase'}",
     "output_type": "error",
     "traceback": [
      "\u001b[0;31m---------------------------------------------------------------------------\u001b[0m",
      "\u001b[0;31mValidationError\u001b[0m                           Traceback (most recent call last)",
      "\u001b[0;32m<ipython-input-13-789493f02fc2>\u001b[0m in \u001b[0;36m<module>\u001b[0;34m\u001b[0m\n\u001b[1;32m      4\u001b[0m \u001b[0;34m\u001b[0m\u001b[0m\n\u001b[1;32m      5\u001b[0m \u001b[0;31m## then try to validate, this\u001b[0m\u001b[0;34m\u001b[0m\u001b[0;34m\u001b[0m\u001b[0;34m\u001b[0m\u001b[0m\n\u001b[0;32m----> 6\u001b[0;31m \u001b[0mjsonschema\u001b[0m\u001b[0;34m.\u001b[0m\u001b[0mvalidate\u001b[0m\u001b[0;34m(\u001b[0m\u001b[0minstance\u001b[0m\u001b[0;34m=\u001b[0m\u001b[0mexample_from_yaml\u001b[0m\u001b[0;34m,\u001b[0m \u001b[0mschema\u001b[0m\u001b[0;34m=\u001b[0m\u001b[0mschema_from_yaml\u001b[0m\u001b[0;34m)\u001b[0m\u001b[0;34m\u001b[0m\u001b[0;34m\u001b[0m\u001b[0m\n\u001b[0m\u001b[1;32m      7\u001b[0m \u001b[0;31m## so it works in catching the error yayyyyyyyy. too bad it doesn't tell you which entry had the error in it...\u001b[0m\u001b[0;34m\u001b[0m\u001b[0;34m\u001b[0m\u001b[0;34m\u001b[0m\u001b[0m\n",
      "\u001b[0;32m~/miniconda3/envs/BTE2/lib/python3.7/site-packages/jsonschema/validators.py\u001b[0m in \u001b[0;36mvalidate\u001b[0;34m(instance, schema, cls, *args, **kwargs)\u001b[0m\n\u001b[1;32m    932\u001b[0m     \u001b[0merror\u001b[0m \u001b[0;34m=\u001b[0m \u001b[0mexceptions\u001b[0m\u001b[0;34m.\u001b[0m\u001b[0mbest_match\u001b[0m\u001b[0;34m(\u001b[0m\u001b[0mvalidator\u001b[0m\u001b[0;34m.\u001b[0m\u001b[0miter_errors\u001b[0m\u001b[0;34m(\u001b[0m\u001b[0minstance\u001b[0m\u001b[0;34m)\u001b[0m\u001b[0;34m)\u001b[0m\u001b[0;34m\u001b[0m\u001b[0;34m\u001b[0m\u001b[0m\n\u001b[1;32m    933\u001b[0m     \u001b[0;32mif\u001b[0m \u001b[0merror\u001b[0m \u001b[0;32mis\u001b[0m \u001b[0;32mnot\u001b[0m \u001b[0;32mNone\u001b[0m\u001b[0;34m:\u001b[0m\u001b[0;34m\u001b[0m\u001b[0;34m\u001b[0m\u001b[0m\n\u001b[0;32m--> 934\u001b[0;31m         \u001b[0;32mraise\u001b[0m \u001b[0merror\u001b[0m\u001b[0;34m\u001b[0m\u001b[0;34m\u001b[0m\u001b[0m\n\u001b[0m\u001b[1;32m    935\u001b[0m \u001b[0;34m\u001b[0m\u001b[0m\n\u001b[1;32m    936\u001b[0m \u001b[0;34m\u001b[0m\u001b[0m\n",
      "\u001b[0;31mValidationError\u001b[0m: 'name' is a required property\n\nFailed validating 'required' in schema['properties']['provenanceMapping']['patternProperties']['.']['items']:\n    {'additionalProperties': False,\n     'properties': {'descriptiveInfo': {'description': 'Long-text '\n                                                       'description of '\n                                                       'what the source '\n                                                       'did to create '\n                                                       'associations. Try '\n                                                       'to include enough '\n                                                       'detail that a '\n                                                       'reader would '\n                                                       'understand what '\n                                                       'happened',\n                                        'type': 'string'},\n                    'method': {'description': 'Keyword noting what the '\n                                              'source did to create '\n                                              'associations from data or '\n                                              'knowledge. Current possible '\n                                              'values include ingest, NLP, '\n                                              'manual_curation, '\n                                              'shared_phenotype, '\n                                              'shared_disease, '\n                                              'shared_variant, submission, '\n                                              'orthology_mapping',\n                               'type': 'string'},\n                    'name': {'description': 'Name of the source (KP API, '\n                                            'knowledge-source, database, '\n                                            'text corpus, etc)',\n                             'type': 'string'},\n                    'sourceContext': {'additionalProperties': False,\n                                      'description': 'Object, Python '\n                                                     'dict-like. Keys '\n                                                     'specify the type of '\n                                                     'context. Values '\n                                                     'depend on where the '\n                                                     'information comes '\n                                                     'from. After '\n                                                     'post-processing, the '\n                                                     'context should be '\n                                                     'ontology terms '\n                                                     '(curies) or '\n                                                     'short-strings. '\n                                                     'Context/relevance is '\n                                                     'information that '\n                                                     'restricts the use or '\n                                                     'interpretation of '\n                                                     'this association. '\n                                                     'This lets a '\n                                                     'developer know if '\n                                                     'the operation or the '\n                                                     'associations '\n                                                     'retrieved are '\n                                                     'relevant to the '\n                                                     'question being asked',\n                                      'minProperties': 1,\n                                      'patternProperties': {'taxonSpecific|diseaseSpecific|cohortSpecific|experimentalSpecific': {'additionalProperties': False,\n                                                                                                                                  'description': 'Info '\n                                                                                                                                                 'is '\n                                                                                                                                                 'not '\n                                                                                                                                                 'dependent '\n                                                                                                                                                 'on '\n                                                                                                                                                 'API/JSON-response. '\n                                                                                                                                                 'In '\n                                                                                                                                                 'this '\n                                                                                                                                                 'situation, '\n                                                                                                                                                 'a '\n                                                                                                                                                 'static '\n                                                                                                                                                 'value '\n                                                                                                                                                 'can '\n                                                                                                                                                 'be '\n                                                                                                                                                 'set '\n                                                                                                                                                 'in '\n                                                                                                                                                 'the '\n                                                                                                                                                 'registry '\n                                                                                                                                                 'using '\n                                                                                                                                                 'the '\n                                                                                                                                                 'value '\n                                                                                                                                                 'field',\n                                                                                                                                  'properties': {'value': {'oneOf': [{'items': {'type': 'string'},\n                                                                                                                                                                      'minItems': 1,\n                                                                                                                                                                      'type': 'array'},\n                                                                                                                                                                     {'type': 'string'}]}},\n                                                                                                                                  'required': ['value'],\n                                                                                                                                  'type': 'object'}},\n                                      'type': 'object'},\n                    'sourceReferences': {'additionalProperties': False,\n                                         'description': 'Used to provide '\n                                                        'publications and '\n                                                        'website URLs for '\n                                                        'users to learn '\n                                                        'more about an '\n                                                        'association, '\n                                                        'knowledge-source, '\n                                                        'measure, '\n                                                        'context/relevance, '\n                                                        'etc',\n                                         'minProperties': 1,\n                                         'properties': {'publications': {'minProperties': 1,\n                                                                         'patternProperties': {'.': {'additionalProperties': False,\n                                                                                                     'properties': {'value': {'oneOf': [{'items': {'type': ['string',\n                                                                                                                                                            'number']},\n                                                                                                                                         'minItems': 1,\n                                                                                                                                         'type': 'array'},\n                                                                                                                                        {'type': ['string',\n                                                                                                                                                  'number']}]}},\n                                                                                                     'required': ['value'],\n                                                                                                     'type': 'object'}},\n                                                                         'type': 'object'},\n                                                        'websites': {'additionalProperties': False,\n                                                                     'description': 'Info '\n                                                                                    'is '\n                                                                                    'not '\n                                                                                    'dependent '\n                                                                                    'on '\n                                                                                    'API/JSON-response. '\n                                                                                    'In '\n                                                                                    'this '\n                                                                                    'situation, '\n                                                                                    'a '\n                                                                                    'static '\n                                                                                    'value '\n                                                                                    'can '\n                                                                                    'be '\n                                                                                    'set '\n                                                                                    'in '\n                                                                                    'the '\n                                                                                    'registry '\n                                                                                    'using '\n                                                                                    'the '\n                                                                                    'value '\n                                                                                    'field',\n                                                                     'properties': {'value': {'oneOf': [{'items': {'type': 'string'},\n                                                                                                         'minItems': 1,\n                                                                                                         'type': 'array'},\n                                                                                                        {'type': 'string'}]}},\n                                                                     'required': ['value'],\n                                                                     'type': 'object'}},\n                                         'type': 'object'},\n                    'sourceType': {'description': 'Type of the source (KP '\n                                                  'API, knowledge-source, '\n                                                  'database, text corpus, '\n                                                  'etc). Current possible '\n                                                  'values include service, '\n                                                  'knowledgebase, '\n                                                  'publications, text, '\n                                                  'clinical_database',\n                                   'type': 'string'},\n                    'version': {'description': 'Source version (KP API, '\n                                               'knowledge-source, '\n                                               'database, text corpus, '\n                                               'etc)',\n                                'type': 'string'},\n                    'versionType': {'description': 'There are different '\n                                                   'formats for '\n                                                   'versioning. Current '\n                                                   'possible values '\n                                                   'include '\n                                                   'date_last_updated, '\n                                                   'version_number, '\n                                                   'data_from_this_date, '\n                                                   'latest_date_covered',\n                                    'type': 'string'}},\n     'required': ['name', 'sourceType'],\n     'type': 'object'}\n\nOn instance['provenanceMapping']['UNIPROT'][2]:\n    {'descriptiveInfo': 'The humsavar file from UniProt lists all missense '\n                        'variants annotated in human UniProtKB/Swiss-Prot '\n                        'entries, along with their gene/protein and '\n                        'whether they are implicated in a specific '\n                        'disease. UniProtKB/Swiss-Prot annotations are '\n                        'made by curators (1) using scientific literature '\n                        'or (2) reviewing and accepting the annotations '\n                        'made by computational analysis /automatic '\n                        'processing.',\n     'method': 'manual_curation',\n     'sourceContext': {'taxonSpecific': {'value': 'NCBITaxon:9606'}},\n     'sourceReferences': {'websites': {'value': ['https://www.uniprot.org/docs/humsavar',\n                                                 'https://www.uniprot.org/help/entry_status',\n                                                 'ftp://ftp.uniprot.org/pub/databases/uniprot/current_release/knowledgebase/variants/README']}},\n     'sourceType': 'knowledgebase'}"
     ]
    }
   ],
   "source": [
    "## but what if it's a fluke?? \n",
    "## remove a required key from one association \n",
    "removed1 = example_from_yaml['provenanceMapping']['UNIPROT'][2].pop('name')\n",
    "\n",
    "## then try to validate, this \n",
    "jsonschema.validate(instance=example_from_yaml, schema=schema_from_yaml)\n",
    "## so it works in catching the error yayyyyyyyy. too bad it doesn't tell you which entry had the error in it..."
   ]
  },
  {
   "cell_type": "code",
   "execution_count": 14,
   "metadata": {
    "ExecuteTime": {
     "end_time": "2020-12-25T06:36:31.644735Z",
     "start_time": "2020-12-25T06:36:31.641524Z"
    }
   },
   "outputs": [],
   "source": [
    "example_from_yaml['provenanceMapping']['UNIPROT'][2]['name'] = removed1"
   ]
  },
  {
   "cell_type": "code",
   "execution_count": 15,
   "metadata": {
    "ExecuteTime": {
     "end_time": "2020-12-25T06:36:32.365471Z",
     "start_time": "2020-12-25T06:36:32.353823Z"
    }
   },
   "outputs": [],
   "source": [
    "jsonschema.validate(instance=example_from_yaml, schema=schema_from_yaml)\n",
    "## and it's back and accepted again "
   ]
  },
  {
   "cell_type": "markdown",
   "metadata": {},
   "source": [
    "## Export JSON files for the yamls"
   ]
  },
  {
   "cell_type": "code",
   "execution_count": 16,
   "metadata": {
    "ExecuteTime": {
     "end_time": "2020-12-24T20:16:19.259714Z",
     "start_time": "2020-12-24T20:16:19.253847Z"
    }
   },
   "outputs": [],
   "source": [
    "json_schema_path = pathlib.Path.cwd().joinpath(\"draft6_schema_mappingFile.json\")\n",
    "with open(json_schema_path, \"w\") as file:\n",
    "    json.dump(schema_from_yaml, file, indent=2)"
   ]
  },
  {
   "cell_type": "code",
   "execution_count": 17,
   "metadata": {
    "ExecuteTime": {
     "end_time": "2020-12-24T20:16:19.690469Z",
     "start_time": "2020-12-24T20:16:19.682808Z"
    }
   },
   "outputs": [],
   "source": [
    "json_example_path = pathlib.Path.cwd().joinpath(\"draft6_example_mappingFile_disgenetDV.json\")\n",
    "with open(json_example_path, \"w\") as file:\n",
    "    json.dump(example_from_yaml, file, indent=2)"
   ]
  },
  {
   "cell_type": "code",
   "execution_count": null,
   "metadata": {},
   "outputs": [],
   "source": []
  }
 ],
 "metadata": {
  "kernelspec": {
   "display_name": "Python 3",
   "language": "python",
   "name": "python3"
  },
  "language_info": {
   "codemirror_mode": {
    "name": "ipython",
    "version": 3
   },
   "file_extension": ".py",
   "mimetype": "text/x-python",
   "name": "python",
   "nbconvert_exporter": "python",
   "pygments_lexer": "ipython3",
   "version": "3.7.9"
  },
  "toc": {
   "base_numbering": 1,
   "nav_menu": {},
   "number_sections": true,
   "sideBar": true,
   "skip_h1_title": true,
   "title_cell": "Table of Contents",
   "title_sidebar": "Contents",
   "toc_cell": false,
   "toc_position": {
    "height": "calc(100% - 180px)",
    "left": "10px",
    "top": "150px",
    "width": "277.65px"
   },
   "toc_section_display": true,
   "toc_window_display": true
  },
  "varInspector": {
   "cols": {
    "lenName": 16,
    "lenType": 16,
    "lenVar": 40
   },
   "kernels_config": {
    "python": {
     "delete_cmd_postfix": "",
     "delete_cmd_prefix": "del ",
     "library": "var_list.py",
     "varRefreshCmd": "print(var_dic_list())"
    },
    "r": {
     "delete_cmd_postfix": ") ",
     "delete_cmd_prefix": "rm(",
     "library": "var_list.r",
     "varRefreshCmd": "cat(var_dic_list()) "
    }
   },
   "types_to_exclude": [
    "module",
    "function",
    "builtin_function_or_method",
    "instance",
    "_Feature"
   ],
   "window_display": false
  }
 },
 "nbformat": 4,
 "nbformat_minor": 4
}
