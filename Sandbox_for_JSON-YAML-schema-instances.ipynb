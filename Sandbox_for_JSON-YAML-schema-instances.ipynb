{
 "cells": [
  {
   "cell_type": "markdown",
   "metadata": {},
   "source": [
    "# Sandbox to use Python tools to check JSONs/YAMLs"
   ]
  },
  {
   "cell_type": "code",
   "execution_count": 1,
   "metadata": {
    "ExecuteTime": {
     "end_time": "2020-12-11T05:49:50.223635Z",
     "start_time": "2020-12-11T05:49:50.101747Z"
    }
   },
   "outputs": [],
   "source": [
    "## CX: allows multiple lines of code to print from one code block\n",
    "from IPython.core.interactiveshell import InteractiveShell\n",
    "InteractiveShell.ast_node_interactivity = \"all\"\n",
    "\n",
    "import json\n",
    "import jsonschema\n",
    "import pathlib\n",
    "import jsonref\n",
    "import yaml"
   ]
  },
  {
   "cell_type": "code",
   "execution_count": 2,
   "metadata": {
    "ExecuteTime": {
     "end_time": "2020-12-11T05:49:50.238351Z",
     "start_time": "2020-12-11T05:49:50.226255Z"
    }
   },
   "outputs": [
    {
     "data": {
      "text/plain": [
       "PosixPath('/Users/jay/Desktop/biothings_explorer/jupyter notebooks/CX_WIPs/Draft_Metadata')"
      ]
     },
     "execution_count": 2,
     "metadata": {},
     "output_type": "execute_result"
    }
   ],
   "source": [
    "pathlib.Path.cwd()"
   ]
  },
  {
   "cell_type": "markdown",
   "metadata": {},
   "source": [
    "## loading schema"
   ]
  },
  {
   "cell_type": "code",
   "execution_count": 3,
   "metadata": {
    "ExecuteTime": {
     "end_time": "2020-12-11T05:49:50.330715Z",
     "start_time": "2020-12-11T05:49:50.242389Z"
    }
   },
   "outputs": [],
   "source": [
    "yaml_schema = pathlib.Path.cwd().joinpath(\"draft6_schema_x-bte-association-retrieval.yaml\")\n",
    "with open(yaml_schema) as file:\n",
    "    schema_from_yaml = yaml.load(file, Loader=yaml.SafeLoader)\n",
    "    schema_from_yaml = json.dumps(schema_from_yaml, indent=2)\n",
    "    schema_from_yaml = jsonref.loads(schema_from_yaml)"
   ]
  },
  {
   "cell_type": "code",
   "execution_count": 4,
   "metadata": {
    "ExecuteTime": {
     "end_time": "2020-12-11T05:49:50.336262Z",
     "start_time": "2020-12-11T05:49:50.332463Z"
    }
   },
   "outputs": [
    {
     "data": {
      "text/plain": [
       "dict_keys(['title', '$schema', 'type', 'description', 'properties', 'definitions'])"
      ]
     },
     "execution_count": 4,
     "metadata": {},
     "output_type": "execute_result"
    }
   ],
   "source": [
    "schema_from_yaml.keys()"
   ]
  },
  {
   "cell_type": "code",
   "execution_count": 5,
   "metadata": {
    "ExecuteTime": {
     "end_time": "2020-12-11T05:49:50.342936Z",
     "start_time": "2020-12-11T05:49:50.338997Z"
    }
   },
   "outputs": [
    {
     "data": {
      "text/plain": [
       "dict_keys(['components'])"
      ]
     },
     "execution_count": 5,
     "metadata": {},
     "output_type": "execute_result"
    }
   ],
   "source": [
    "schema_from_yaml['properties'].keys()"
   ]
  },
  {
   "cell_type": "code",
   "execution_count": 6,
   "metadata": {
    "ExecuteTime": {
     "end_time": "2020-12-11T05:49:50.350339Z",
     "start_time": "2020-12-11T05:49:50.344905Z"
    },
    "scrolled": false
   },
   "outputs": [
    {
     "data": {
      "text/plain": [
       "dict_keys(['queryInfo', 'inputs', 'outputs', 'predicateInfo', 'references', 'provenance', 'numericMeasures', 'categoryMeasures', 'contextRelevance'])"
      ]
     },
     "execution_count": 6,
     "metadata": {},
     "output_type": "execute_result"
    }
   ],
   "source": [
    "schema_from_yaml['properties']['components']['properties']\\\n",
    "['x-bte-association-retrieval']['patternProperties']['.']['properties'].keys()"
   ]
  },
  {
   "cell_type": "code",
   "execution_count": 7,
   "metadata": {
    "ExecuteTime": {
     "end_time": "2020-12-11T05:49:50.359525Z",
     "start_time": "2020-12-11T05:49:50.352160Z"
    }
   },
   "outputs": [
    {
     "data": {
      "text/plain": [
       "{'description': 'Array of objects (Python-list-of-dict-like), gives info about  the measure and what response field to use to retrieve it. ',\n",
       " 'type': 'array',\n",
       " 'items': {'description': 'Numeric measures have additional required info, like range and the  meaning of directions. Units may also be specified. ',\n",
       "  'type': 'object',\n",
       "  'allOf': [{'type': 'object',\n",
       "    'required': ['name', 'responseField'],\n",
       "    'properties': {'name': {'description': 'name the measure, starting with the name of the resource that  calculated/assigned it. In display format (source way of  capitalizing the names, with spaces).  ',\n",
       "      'type': 'string'},\n",
       "     'ontologyTerm': {'description': 'Term from an ontology (ideally an OWL Class) that corresponds with this measure. Format is prefix:ID. ',\n",
       "      'type': 'string'},\n",
       "     'responseField': {'description': 'The measure should have the value of a specific field in the API  response/JSON record. Use dot-notation to refer to the response field.',\n",
       "      'type': 'string'},\n",
       "     'missingValueMeaning': {'description': 'Short free-text, explaining what a missing/NULL/NA value for this  measure for a specifc association/edge would mean. The assumption is  that only some associations/edges have a missing value. ',\n",
       "      'type': 'string'},\n",
       "     'measureReferences': {'description': 'Used to provide publications and website URLs for users to go to learn  more about a knowledge-source, measure, context/relevance, etc. ',\n",
       "      'type': 'object',\n",
       "      'additionalProperties': False,\n",
       "      'properties': {'publications': {'type': 'object',\n",
       "        'additionalProperties': False,\n",
       "        'patternProperties': {'.': {'type': ['string', 'array']}}},\n",
       "       'websites': {'type': ['string', 'array']}}}}},\n",
       "   {'type': 'object',\n",
       "    'required': ['range', 'directionMeaning'],\n",
       "    'properties': {'range': {'description': 'Python-dict-like. Should define an expected lower and upper  bound for values (minimum and maximum). Inclusive means the range  includes the boundary number, exclusive means the range does not.  Infinities are -INF and INF.',\n",
       "      'type': 'object',\n",
       "      'additionalProperties': False,\n",
       "      'properties': {'minExclusive': {'type': ['number', 'string']},\n",
       "       'maxExclusive': {'type': ['number', 'string']},\n",
       "       'minInclusive': {'type': ['number', 'string']},\n",
       "       'maxInclusive': {'type': ['number', 'string']}}},\n",
       "     'directionMeaning': {'description': 'Object (Python-dictionary-like). Each key specifies a direction  (larger, closer_to_zero, more_negative, etc.). Each value specifies what the direction means (more_specific, more_evidence,  more_confident, more_consistent, more_probable, etc.). One may want to  explain multiple directions (like when a value means something  different when closer to 0, closer to the upper bound, and closer to  the lower bound). ',\n",
       "      'type': 'object',\n",
       "      'additionalProperties': False,\n",
       "      'patternProperties': {'.': {'type': 'string'}}},\n",
       "     'units': {'description': 'Units for the measure values. ',\n",
       "      'type': 'string'}}}]}}"
      ]
     },
     "execution_count": 7,
     "metadata": {},
     "output_type": "execute_result"
    }
   ],
   "source": [
    "schema_from_yaml['properties']['components']['properties']\\\n",
    "['x-bte-association-retrieval']['patternProperties']['.']['properties']['numericMeasures']"
   ]
  },
  {
   "cell_type": "markdown",
   "metadata": {},
   "source": [
    "## checking an example"
   ]
  },
  {
   "cell_type": "code",
   "execution_count": 8,
   "metadata": {
    "ExecuteTime": {
     "end_time": "2020-12-11T05:49:50.390032Z",
     "start_time": "2020-12-11T05:49:50.363282Z"
    }
   },
   "outputs": [],
   "source": [
    "yaml_example = pathlib.Path.cwd().joinpath(\"draft6_example_disgenetDG.yaml\")\n",
    "with open(yaml_example) as file:\n",
    "    example_from_yaml = yaml.load(file, Loader=yaml.SafeLoader)\n",
    "    example_from_yaml = json.dumps(example_from_yaml, indent=2)\n",
    "    example_from_yaml = jsonref.loads(example_from_yaml)"
   ]
  },
  {
   "cell_type": "code",
   "execution_count": 9,
   "metadata": {
    "ExecuteTime": {
     "end_time": "2020-12-11T05:49:50.398320Z",
     "start_time": "2020-12-11T05:49:50.392551Z"
    }
   },
   "outputs": [
    {
     "data": {
      "text/plain": [
       "dict_keys(['queryInfo', 'inputs', 'outputs', 'predicateInfo', 'references', 'provenance', 'numericMeasures'])"
      ]
     },
     "execution_count": 9,
     "metadata": {},
     "output_type": "execute_result"
    }
   ],
   "source": [
    "example_from_yaml['components']['x-bte-association-retrieval']['disease-gene1'].keys()"
   ]
  },
  {
   "cell_type": "code",
   "execution_count": 10,
   "metadata": {
    "ExecuteTime": {
     "end_time": "2020-12-11T05:49:50.406032Z",
     "start_time": "2020-12-11T05:49:50.400387Z"
    }
   },
   "outputs": [
    {
     "data": {
      "text/plain": [
       "[{'name': 'DisGeNET gene-disease association score',\n",
       "  'responseField': 'disgenet.genes_related_to_disease.score',\n",
       "  'measureReferences': {'websites': 'https://www.disgenet.org/dbinfo#section31'},\n",
       "  'range': {'minExclusive': 0, 'maxInclusive': 1},\n",
       "  'directionMeaning': {'larger': 'more_evidence'}},\n",
       " {'name': 'DisGeNET evidence index',\n",
       "  'responseField': 'disgenet.genes_related_to_disease.EI',\n",
       "  'measureReferences': {'websites': 'https://www.disgenet.org/dbinfo#section36'},\n",
       "  'missingValueMeaning': 'This measure is calculated from BeFree and PsyGeNET info.  If the association was not found in those sources, this  measure likely was not calculated. ',\n",
       "  'range': {'minExclusive': 0, 'maxInclusive': 1},\n",
       "  'directionMeaning': {'larger': 'more_consistent'}},\n",
       " {'name': 'DisGeNET disease specificity index',\n",
       "  'ontologyTerm': 'SIO:001351',\n",
       "  'responseField': 'disgenet.genes_related_to_disease.DSI',\n",
       "  'measureReferences': {'websites': 'https://www.disgenet.org/dbinfo#section33'},\n",
       "  'missingValueMeaning': 'This measure is calculated when a gene is associated with  one or more diseases. If the value is missing, this gene is  annotated only to phenotypes. ',\n",
       "  'range': {'minExclusive': 0, 'maxInclusive': 1},\n",
       "  'directionMeaning': {'larger': 'more_specific'}},\n",
       " {'name': 'DisGeNET disease pleiotropy index',\n",
       "  'ontologyTerm': 'SIO:001352',\n",
       "  'responseField': 'disgenet.genes_related_to_disease.DPI',\n",
       "  'measureReferences': {'websites': 'https://www.disgenet.org/dbinfo#section34'},\n",
       "  'missingValueMeaning': 'This measure is calculated when a gene is associated with  one or more diseases in MeSH disease classes. If the value  is missing, this gene is annotated only to phenotypes OR the diseases do not map to any MeSH classes. ',\n",
       "  'range': {'minExclusive': 0, 'maxInclusive': 1},\n",
       "  'directionMeaning': {'smaller': 'more_specific'}}]"
      ]
     },
     "execution_count": 10,
     "metadata": {},
     "output_type": "execute_result"
    }
   ],
   "source": [
    "example_from_yaml['components']['x-bte-association-retrieval']['disease-gene1']['numericMeasures']"
   ]
  },
  {
   "cell_type": "markdown",
   "metadata": {},
   "source": [
    "## validate example against schema"
   ]
  },
  {
   "cell_type": "code",
   "execution_count": 11,
   "metadata": {
    "ExecuteTime": {
     "end_time": "2020-12-11T05:49:50.452915Z",
     "start_time": "2020-12-11T05:49:50.407881Z"
    }
   },
   "outputs": [],
   "source": [
    "jsonschema.validate(instance=example_from_yaml, schema=schema_from_yaml)\n",
    "## YAYAYAYAYAY this means it validated!!!!!!!"
   ]
  },
  {
   "cell_type": "code",
   "execution_count": 12,
   "metadata": {
    "ExecuteTime": {
     "end_time": "2020-12-11T05:49:50.600684Z",
     "start_time": "2020-12-11T05:49:50.454557Z"
    }
   },
   "outputs": [
    {
     "data": {
      "text/plain": [
       "'disgenet.genes_related_to_disease.pubmed'"
      ]
     },
     "execution_count": 12,
     "metadata": {},
     "output_type": "execute_result"
    },
    {
     "ename": "ValidationError",
     "evalue": "'responseField' is a required property\n\nFailed validating 'required' in schema[0]:\n    {'description': 'Edge property is dynamic and should have the value of '\n                    'a specific field in  the API response/JSON record. In '\n                    'this situation, a field called  responseField is '\n                    'used. Use dot-notation to refer to the response '\n                    'field. ',\n     'properties': {'responseField': {'type': 'string'}},\n     'required': ['responseField'],\n     'type': 'object'}\n\nOn instance:\n    {}",
     "output_type": "error",
     "traceback": [
      "\u001b[0;31m---------------------------------------------------------------------------\u001b[0m",
      "\u001b[0;31mValidationError\u001b[0m                           Traceback (most recent call last)",
      "\u001b[0;32m<ipython-input-12-6c5e0b117536>\u001b[0m in \u001b[0;36m<module>\u001b[0;34m\u001b[0m\n\u001b[1;32m      5\u001b[0m \u001b[0;34m\u001b[0m\u001b[0m\n\u001b[1;32m      6\u001b[0m \u001b[0;31m## then try to validate, this\u001b[0m\u001b[0;34m\u001b[0m\u001b[0;34m\u001b[0m\u001b[0;34m\u001b[0m\u001b[0m\n\u001b[0;32m----> 7\u001b[0;31m \u001b[0mjsonschema\u001b[0m\u001b[0;34m.\u001b[0m\u001b[0mvalidate\u001b[0m\u001b[0;34m(\u001b[0m\u001b[0minstance\u001b[0m\u001b[0;34m=\u001b[0m\u001b[0mexample_from_yaml\u001b[0m\u001b[0;34m,\u001b[0m \u001b[0mschema\u001b[0m\u001b[0;34m=\u001b[0m\u001b[0mschema_from_yaml\u001b[0m\u001b[0;34m)\u001b[0m\u001b[0;34m\u001b[0m\u001b[0;34m\u001b[0m\u001b[0m\n\u001b[0m\u001b[1;32m      8\u001b[0m \u001b[0;31m## so it works in catching the error yayyyyyyyy. too bad it doesn't tell you which entry had the error in it...\u001b[0m\u001b[0;34m\u001b[0m\u001b[0;34m\u001b[0m\u001b[0;34m\u001b[0m\u001b[0m\n",
      "\u001b[0;32m~/miniconda3/envs/BTE2/lib/python3.7/site-packages/jsonschema/validators.py\u001b[0m in \u001b[0;36mvalidate\u001b[0;34m(instance, schema, cls, *args, **kwargs)\u001b[0m\n\u001b[1;32m    932\u001b[0m     \u001b[0merror\u001b[0m \u001b[0;34m=\u001b[0m \u001b[0mexceptions\u001b[0m\u001b[0;34m.\u001b[0m\u001b[0mbest_match\u001b[0m\u001b[0;34m(\u001b[0m\u001b[0mvalidator\u001b[0m\u001b[0;34m.\u001b[0m\u001b[0miter_errors\u001b[0m\u001b[0;34m(\u001b[0m\u001b[0minstance\u001b[0m\u001b[0;34m)\u001b[0m\u001b[0;34m)\u001b[0m\u001b[0;34m\u001b[0m\u001b[0;34m\u001b[0m\u001b[0m\n\u001b[1;32m    933\u001b[0m     \u001b[0;32mif\u001b[0m \u001b[0merror\u001b[0m \u001b[0;32mis\u001b[0m \u001b[0;32mnot\u001b[0m \u001b[0;32mNone\u001b[0m\u001b[0;34m:\u001b[0m\u001b[0;34m\u001b[0m\u001b[0;34m\u001b[0m\u001b[0m\n\u001b[0;32m--> 934\u001b[0;31m         \u001b[0;32mraise\u001b[0m \u001b[0merror\u001b[0m\u001b[0;34m\u001b[0m\u001b[0;34m\u001b[0m\u001b[0m\n\u001b[0m\u001b[1;32m    935\u001b[0m \u001b[0;34m\u001b[0m\u001b[0m\n\u001b[1;32m    936\u001b[0m \u001b[0;34m\u001b[0m\u001b[0m\n",
      "\u001b[0;31mValidationError\u001b[0m: 'responseField' is a required property\n\nFailed validating 'required' in schema[0]:\n    {'description': 'Edge property is dynamic and should have the value of '\n                    'a specific field in  the API response/JSON record. In '\n                    'this situation, a field called  responseField is '\n                    'used. Use dot-notation to refer to the response '\n                    'field. ',\n     'properties': {'responseField': {'type': 'string'}},\n     'required': ['responseField'],\n     'type': 'object'}\n\nOn instance:\n    {}"
     ]
    }
   ],
   "source": [
    "## but what if it's a fluke?? \n",
    "## remove a required key from one association \n",
    "example_from_yaml['components']['x-bte-association-retrieval']['disease-gene1']\\\n",
    "['references']['publications']['pmid'].pop('responseField')\n",
    "\n",
    "## then try to validate, this \n",
    "jsonschema.validate(instance=example_from_yaml, schema=schema_from_yaml)\n",
    "## so it works in catching the error yayyyyyyyy. too bad it doesn't tell you which entry had the error in it..."
   ]
  },
  {
   "cell_type": "code",
   "execution_count": 13,
   "metadata": {
    "ExecuteTime": {
     "end_time": "2020-12-11T05:50:04.797517Z",
     "start_time": "2020-12-11T05:50:04.794739Z"
    }
   },
   "outputs": [],
   "source": [
    "example_from_yaml['components']['x-bte-association-retrieval']['disease-gene1']\\\n",
    "['references']['publications']['pmid']['responseField'] = 'disgenet.genes_related_to_disease.pubmed'"
   ]
  },
  {
   "cell_type": "code",
   "execution_count": 14,
   "metadata": {
    "ExecuteTime": {
     "end_time": "2020-12-11T05:50:05.375275Z",
     "start_time": "2020-12-11T05:50:05.335116Z"
    }
   },
   "outputs": [],
   "source": [
    "jsonschema.validate(instance=example_from_yaml, schema=schema_from_yaml)\n",
    "## and it's back and accepted again "
   ]
  },
  {
   "cell_type": "markdown",
   "metadata": {},
   "source": [
    "## Export JSON files for the yamls"
   ]
  },
  {
   "cell_type": "code",
   "execution_count": 15,
   "metadata": {
    "ExecuteTime": {
     "end_time": "2020-12-11T05:50:07.463676Z",
     "start_time": "2020-12-11T05:50:07.449394Z"
    }
   },
   "outputs": [],
   "source": [
    "json_schema_path = pathlib.Path.cwd().joinpath(\"draft6_schema_x-bte-association-retrieval.json\")\n",
    "with open(json_schema_path, \"w\") as file:\n",
    "    json.dump(schema_from_yaml, file, indent=2)"
   ]
  },
  {
   "cell_type": "code",
   "execution_count": 16,
   "metadata": {
    "ExecuteTime": {
     "end_time": "2020-12-11T05:50:07.948829Z",
     "start_time": "2020-12-11T05:50:07.944528Z"
    }
   },
   "outputs": [],
   "source": [
    "json_example_path = pathlib.Path.cwd().joinpath(\"draft6_example_disgenetDG.json\")\n",
    "with open(json_example_path, \"w\") as file:\n",
    "    json.dump(example_from_yaml, file, indent=2)"
   ]
  },
  {
   "cell_type": "code",
   "execution_count": null,
   "metadata": {},
   "outputs": [],
   "source": []
  }
 ],
 "metadata": {
  "kernelspec": {
   "display_name": "Python 3",
   "language": "python",
   "name": "python3"
  },
  "language_info": {
   "codemirror_mode": {
    "name": "ipython",
    "version": 3
   },
   "file_extension": ".py",
   "mimetype": "text/x-python",
   "name": "python",
   "nbconvert_exporter": "python",
   "pygments_lexer": "ipython3",
   "version": "3.7.9"
  },
  "toc": {
   "base_numbering": 1,
   "nav_menu": {},
   "number_sections": true,
   "sideBar": true,
   "skip_h1_title": true,
   "title_cell": "Table of Contents",
   "title_sidebar": "Contents",
   "toc_cell": false,
   "toc_position": {
    "height": "calc(100% - 180px)",
    "left": "10px",
    "top": "150px",
    "width": "277.65px"
   },
   "toc_section_display": true,
   "toc_window_display": true
  },
  "varInspector": {
   "cols": {
    "lenName": 16,
    "lenType": 16,
    "lenVar": 40
   },
   "kernels_config": {
    "python": {
     "delete_cmd_postfix": "",
     "delete_cmd_prefix": "del ",
     "library": "var_list.py",
     "varRefreshCmd": "print(var_dic_list())"
    },
    "r": {
     "delete_cmd_postfix": ") ",
     "delete_cmd_prefix": "rm(",
     "library": "var_list.r",
     "varRefreshCmd": "cat(var_dic_list()) "
    }
   },
   "types_to_exclude": [
    "module",
    "function",
    "builtin_function_or_method",
    "instance",
    "_Feature"
   ],
   "window_display": false
  }
 },
 "nbformat": 4,
 "nbformat_minor": 4
}
