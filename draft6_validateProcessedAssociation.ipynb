{
 "cells": [
  {
   "cell_type": "markdown",
   "metadata": {},
   "source": [
    "# Validating example \"edge\" against schema"
   ]
  },
  {
   "cell_type": "code",
   "execution_count": 1,
   "metadata": {
    "ExecuteTime": {
     "end_time": "2020-12-27T01:54:59.661672Z",
     "start_time": "2020-12-27T01:54:59.535315Z"
    }
   },
   "outputs": [],
   "source": [
    "## CX: allows multiple lines of code to print from one code block\n",
    "from IPython.core.interactiveshell import InteractiveShell\n",
    "InteractiveShell.ast_node_interactivity = \"all\"\n",
    "\n",
    "import json\n",
    "import jsonschema\n",
    "import pathlib\n",
    "import jsonref\n",
    "import yaml"
   ]
  },
  {
   "cell_type": "code",
   "execution_count": 2,
   "metadata": {
    "ExecuteTime": {
     "end_time": "2020-12-27T01:55:00.390073Z",
     "start_time": "2020-12-27T01:55:00.380059Z"
    }
   },
   "outputs": [
    {
     "data": {
      "text/plain": [
       "PosixPath('/Users/jay/Desktop/biothings_explorer/jupyter notebooks/CX_WIPs/Draft_Metadata')"
      ]
     },
     "execution_count": 2,
     "metadata": {},
     "output_type": "execute_result"
    }
   ],
   "source": [
    "pathlib.Path.cwd()"
   ]
  },
  {
   "cell_type": "markdown",
   "metadata": {},
   "source": [
    "## loading schema"
   ]
  },
  {
   "cell_type": "code",
   "execution_count": 3,
   "metadata": {
    "ExecuteTime": {
     "end_time": "2020-12-27T01:55:02.496610Z",
     "start_time": "2020-12-27T01:55:02.449326Z"
    }
   },
   "outputs": [],
   "source": [
    "yaml_schema = pathlib.Path.cwd().joinpath(\"draft6_schema_processedAssociation.yaml\")\n",
    "with open(yaml_schema) as file:\n",
    "    schema_from_yaml = yaml.load(file, Loader=yaml.SafeLoader)\n",
    "    schema_from_yaml = json.dumps(schema_from_yaml, indent=2)\n",
    "    schema_from_yaml = jsonref.loads(schema_from_yaml)"
   ]
  },
  {
   "cell_type": "code",
   "execution_count": 4,
   "metadata": {
    "ExecuteTime": {
     "end_time": "2020-12-27T01:55:03.028988Z",
     "start_time": "2020-12-27T01:55:03.025394Z"
    }
   },
   "outputs": [
    {
     "data": {
      "text/plain": [
       "dict_keys(['title', '$schema', 'type', 'description', 'required', 'additionalProperties', 'properties', 'definitions'])"
      ]
     },
     "execution_count": 4,
     "metadata": {},
     "output_type": "execute_result"
    }
   ],
   "source": [
    "schema_from_yaml.keys()"
   ]
  },
  {
   "cell_type": "code",
   "execution_count": 5,
   "metadata": {
    "ExecuteTime": {
     "end_time": "2020-12-27T01:55:04.838496Z",
     "start_time": "2020-12-27T01:55:04.834885Z"
    }
   },
   "outputs": [
    {
     "data": {
      "text/plain": [
       "dict_keys(['predicateInfo', 'references', 'provenance', 'numericMeasures', 'categoryMeasures', 'contextRelevance'])"
      ]
     },
     "execution_count": 5,
     "metadata": {},
     "output_type": "execute_result"
    }
   ],
   "source": [
    "schema_from_yaml['properties'].keys()"
   ]
  },
  {
   "cell_type": "code",
   "execution_count": 6,
   "metadata": {
    "ExecuteTime": {
     "end_time": "2020-12-27T01:55:05.507085Z",
     "start_time": "2020-12-27T01:55:05.502762Z"
    }
   },
   "outputs": [
    {
     "data": {
      "text/plain": [
       "{'description': 'Object, Python dict-like. Keys specify the type of context. Values depend on where the information comes from. After post-processing, the context should be ontology terms (curies) or short-strings. Context/relevance is information that restricts the use or interpretation of this association. This lets a developer know if the operation or the associations retrieved are relevant to the question being asked',\n",
       " 'type': 'object',\n",
       " 'additionalProperties': False,\n",
       " 'minProperties': 1,\n",
       " 'patternProperties': {'taxonSpecific|diseaseSpecific|cohortSpecific|experimentalSpecific': {'oneOf': [{'type': 'array',\n",
       "     'items': {'type': 'string'}},\n",
       "    {'type': 'string'}]}}}"
      ]
     },
     "execution_count": 6,
     "metadata": {},
     "output_type": "execute_result"
    }
   ],
   "source": [
    "schema_from_yaml['properties']['contextRelevance']"
   ]
  },
  {
   "cell_type": "markdown",
   "metadata": {},
   "source": [
    "## checking an example"
   ]
  },
  {
   "cell_type": "code",
   "execution_count": 11,
   "metadata": {
    "ExecuteTime": {
     "end_time": "2020-12-27T01:55:24.941248Z",
     "start_time": "2020-12-27T01:55:24.919883Z"
    }
   },
   "outputs": [],
   "source": [
    "yaml_example = pathlib.Path.cwd().joinpath(\"draft6_example_processedAssociation_disgenetDG.yaml\")\n",
    "with open(yaml_example) as file:\n",
    "    example_from_yaml = yaml.load(file, Loader=yaml.SafeLoader)\n",
    "    example_from_yaml = json.dumps(example_from_yaml, indent=2)\n",
    "    example_from_yaml = jsonref.loads(example_from_yaml)"
   ]
  },
  {
   "cell_type": "code",
   "execution_count": 12,
   "metadata": {
    "ExecuteTime": {
     "end_time": "2020-12-27T01:55:25.982468Z",
     "start_time": "2020-12-27T01:55:25.978626Z"
    }
   },
   "outputs": [
    {
     "data": {
      "text/plain": [
       "dict_keys(['predicateInfo', 'references', 'provenance', 'numericMeasures'])"
      ]
     },
     "execution_count": 12,
     "metadata": {},
     "output_type": "execute_result"
    }
   ],
   "source": [
    "example_from_yaml.keys()"
   ]
  },
  {
   "cell_type": "code",
   "execution_count": 13,
   "metadata": {
    "ExecuteTime": {
     "end_time": "2020-12-27T01:55:26.587131Z",
     "start_time": "2020-12-27T01:55:26.582319Z"
    }
   },
   "outputs": [
    {
     "data": {
      "text/plain": [
       "[{'name': 'DisGeNET gene-disease association score',\n",
       "  'value': 0.1,\n",
       "  'measureReferences': {'websites': 'https://www.disgenet.org/dbinfo#section31'},\n",
       "  'range': {'minExclusive': 0, 'maxInclusive': 1},\n",
       "  'directionMeaning': {'larger': 'more_evidence'}},\n",
       " {'name': 'DisGeNET evidence index',\n",
       "  'value': 0.917,\n",
       "  'measureReferences': {'websites': 'https://www.disgenet.org/dbinfo#section36'},\n",
       "  'missingValueMeaning': 'This measure is calculated from BeFree and PsyGeNET info. If the association was not found in those sources, this measure likely was not calculated.',\n",
       "  'range': {'minExclusive': 0, 'maxInclusive': 1},\n",
       "  'directionMeaning': {'larger': 'more_consistent'}},\n",
       " {'name': 'DisGeNET disease specificity index',\n",
       "  'ontologyTerm': 'SIO:001351',\n",
       "  'value': 0.536,\n",
       "  'measureReferences': {'websites': 'https://www.disgenet.org/dbinfo#section33'},\n",
       "  'missingValueMeaning': 'This measure is calculated when a gene is associated with one or more diseases. If the value is missing, this gene is annotated only to phenotypes.',\n",
       "  'range': {'minExclusive': 0, 'maxInclusive': 1},\n",
       "  'directionMeaning': {'larger': 'more_specific'}},\n",
       " {'name': 'DisGeNET disease pleiotropy index',\n",
       "  'ontologyTerm': 'SIO:001352',\n",
       "  'value': 0.846,\n",
       "  'measureReferences': {'websites': 'https://www.disgenet.org/dbinfo#section34'},\n",
       "  'missingValueMeaning': 'This measure is calculated when a gene is associated with one or more diseases in MeSH disease classes. If the value is missing, this gene is annotated only to phenotypes OR the diseases do not map to any MeSH classes.',\n",
       "  'range': {'minExclusive': 0, 'maxInclusive': 1},\n",
       "  'directionMeaning': {'smaller': 'more_specific'}}]"
      ]
     },
     "execution_count": 13,
     "metadata": {},
     "output_type": "execute_result"
    }
   ],
   "source": [
    "example_from_yaml['numericMeasures']"
   ]
  },
  {
   "cell_type": "markdown",
   "metadata": {},
   "source": [
    "## validate example against schema"
   ]
  },
  {
   "cell_type": "code",
   "execution_count": 14,
   "metadata": {
    "ExecuteTime": {
     "end_time": "2020-12-27T01:55:29.762715Z",
     "start_time": "2020-12-27T01:55:29.744258Z"
    }
   },
   "outputs": [],
   "source": [
    "jsonschema.validate(instance=example_from_yaml, schema=schema_from_yaml)\n",
    "## YAYAYAYAYAY this means it validated!!!!!!!"
   ]
  },
  {
   "cell_type": "markdown",
   "metadata": {},
   "source": [
    "### error: if a required field is missing"
   ]
  },
  {
   "cell_type": "code",
   "execution_count": 14,
   "metadata": {
    "ExecuteTime": {
     "end_time": "2020-12-26T05:40:31.342889Z",
     "start_time": "2020-12-26T05:40:31.222762Z"
    }
   },
   "outputs": [
    {
     "ename": "ValidationError",
     "evalue": "'value' is a required property\n\nFailed validating 'required' in schema['properties']['numericMeasures']['items']['allOf'][1]:\n    {'properties': {'directionMeaning': {'description': 'Object, Python '\n                                                        'dict-like. Each '\n                                                        'key is a '\n                                                        'direction '\n                                                        '(larger, '\n                                                        'closer_to_zero, '\n                                                        'more_negative, '\n                                                        'etc.). Each value '\n                                                        'is what the '\n                                                        'direction means '\n                                                        '(more_specific, '\n                                                        'more_evidence, '\n                                                        'more_confident, '\n                                                        'more_consistent, '\n                                                        'more_probable, '\n                                                        'etc.). A '\n                                                        'developer may '\n                                                        'want to explain '\n                                                        'multiple '\n                                                        'directions (e.g. '\n                                                        'when a value '\n                                                        'means something '\n                                                        'different when '\n                                                        'closer to 0 vs. '\n                                                        'closer to the '\n                                                        'upper bound vs. '\n                                                        'closer to the '\n                                                        'lower bound)',\n                                         'minProperties': 1,\n                                         'patternProperties': {'.': {'type': 'string'}},\n                                         'type': 'object'},\n                    'range': {'additionalProperties': False,\n                              'description': 'Object, Python dict-like. '\n                                             'Defines an expected lower '\n                                             'and/or upper bound for '\n                                             'values (minimum and '\n                                             'maximum). Inclusive means '\n                                             'the range includes the '\n                                             'boundary number; exclusive '\n                                             'means the range does not. If '\n                                             'the actual lower-bound is '\n                                             'negative-infinity and/or the '\n                                             'actual upper bound is '\n                                             'positive-infinity, do not '\n                                             'set a bound',\n                              'minProperties': 1,\n                              'not': {'anyOf': [{'required': ['minExclusive',\n                                                              'minInclusive'],\n                                                 'type': 'object'},\n                                                {'required': ['maxExclusive',\n                                                              'maxInclusive'],\n                                                 'type': 'object'}]},\n                              'properties': {'maxExclusive': {'type': 'number'},\n                                             'maxInclusive': {'type': 'number'},\n                                             'minExclusive': {'type': 'number'},\n                                             'minInclusive': {'type': 'number'}},\n                              'type': 'object'},\n                    'units': {'description': 'Units for the measure values',\n                              'type': 'string'},\n                    'value': {'type': 'number'}},\n     'required': ['value', 'directionMeaning'],\n     'type': 'object'}\n\nOn instance['numericMeasures'][0]:\n    {'directionMeaning': {'smaller': 'more_consistent'},\n     'name': 'Automat enrichment p-value',\n     'range': {'maxInclusive': 1, 'minExclusive': 0}}",
     "output_type": "error",
     "traceback": [
      "\u001b[0;31m---------------------------------------------------------------------------\u001b[0m",
      "\u001b[0;31mValidationError\u001b[0m                           Traceback (most recent call last)",
      "\u001b[0;32m<ipython-input-14-5297606a78cb>\u001b[0m in \u001b[0;36m<module>\u001b[0;34m\u001b[0m\n\u001b[1;32m      4\u001b[0m \u001b[0;34m\u001b[0m\u001b[0m\n\u001b[1;32m      5\u001b[0m \u001b[0;31m## then try to validate, this\u001b[0m\u001b[0;34m\u001b[0m\u001b[0;34m\u001b[0m\u001b[0;34m\u001b[0m\u001b[0m\n\u001b[0;32m----> 6\u001b[0;31m \u001b[0mjsonschema\u001b[0m\u001b[0;34m.\u001b[0m\u001b[0mvalidate\u001b[0m\u001b[0;34m(\u001b[0m\u001b[0minstance\u001b[0m\u001b[0;34m=\u001b[0m\u001b[0mexample_from_yaml\u001b[0m\u001b[0;34m,\u001b[0m \u001b[0mschema\u001b[0m\u001b[0;34m=\u001b[0m\u001b[0mschema_from_yaml\u001b[0m\u001b[0;34m)\u001b[0m\u001b[0;34m\u001b[0m\u001b[0;34m\u001b[0m\u001b[0m\n\u001b[0m\u001b[1;32m      7\u001b[0m \u001b[0;31m## so it works in catching the error yayyyyyyyy. too bad it doesn't tell you which entry had the error in it...\u001b[0m\u001b[0;34m\u001b[0m\u001b[0;34m\u001b[0m\u001b[0;34m\u001b[0m\u001b[0m\n",
      "\u001b[0;32m~/miniconda3/envs/BTE2/lib/python3.7/site-packages/jsonschema/validators.py\u001b[0m in \u001b[0;36mvalidate\u001b[0;34m(instance, schema, cls, *args, **kwargs)\u001b[0m\n\u001b[1;32m    932\u001b[0m     \u001b[0merror\u001b[0m \u001b[0;34m=\u001b[0m \u001b[0mexceptions\u001b[0m\u001b[0;34m.\u001b[0m\u001b[0mbest_match\u001b[0m\u001b[0;34m(\u001b[0m\u001b[0mvalidator\u001b[0m\u001b[0;34m.\u001b[0m\u001b[0miter_errors\u001b[0m\u001b[0;34m(\u001b[0m\u001b[0minstance\u001b[0m\u001b[0;34m)\u001b[0m\u001b[0;34m)\u001b[0m\u001b[0;34m\u001b[0m\u001b[0;34m\u001b[0m\u001b[0m\n\u001b[1;32m    933\u001b[0m     \u001b[0;32mif\u001b[0m \u001b[0merror\u001b[0m \u001b[0;32mis\u001b[0m \u001b[0;32mnot\u001b[0m \u001b[0;32mNone\u001b[0m\u001b[0;34m:\u001b[0m\u001b[0;34m\u001b[0m\u001b[0;34m\u001b[0m\u001b[0m\n\u001b[0;32m--> 934\u001b[0;31m         \u001b[0;32mraise\u001b[0m \u001b[0merror\u001b[0m\u001b[0;34m\u001b[0m\u001b[0;34m\u001b[0m\u001b[0m\n\u001b[0m\u001b[1;32m    935\u001b[0m \u001b[0;34m\u001b[0m\u001b[0m\n\u001b[1;32m    936\u001b[0m \u001b[0;34m\u001b[0m\u001b[0m\n",
      "\u001b[0;31mValidationError\u001b[0m: 'value' is a required property\n\nFailed validating 'required' in schema['properties']['numericMeasures']['items']['allOf'][1]:\n    {'properties': {'directionMeaning': {'description': 'Object, Python '\n                                                        'dict-like. Each '\n                                                        'key is a '\n                                                        'direction '\n                                                        '(larger, '\n                                                        'closer_to_zero, '\n                                                        'more_negative, '\n                                                        'etc.). Each value '\n                                                        'is what the '\n                                                        'direction means '\n                                                        '(more_specific, '\n                                                        'more_evidence, '\n                                                        'more_confident, '\n                                                        'more_consistent, '\n                                                        'more_probable, '\n                                                        'etc.). A '\n                                                        'developer may '\n                                                        'want to explain '\n                                                        'multiple '\n                                                        'directions (e.g. '\n                                                        'when a value '\n                                                        'means something '\n                                                        'different when '\n                                                        'closer to 0 vs. '\n                                                        'closer to the '\n                                                        'upper bound vs. '\n                                                        'closer to the '\n                                                        'lower bound)',\n                                         'minProperties': 1,\n                                         'patternProperties': {'.': {'type': 'string'}},\n                                         'type': 'object'},\n                    'range': {'additionalProperties': False,\n                              'description': 'Object, Python dict-like. '\n                                             'Defines an expected lower '\n                                             'and/or upper bound for '\n                                             'values (minimum and '\n                                             'maximum). Inclusive means '\n                                             'the range includes the '\n                                             'boundary number; exclusive '\n                                             'means the range does not. If '\n                                             'the actual lower-bound is '\n                                             'negative-infinity and/or the '\n                                             'actual upper bound is '\n                                             'positive-infinity, do not '\n                                             'set a bound',\n                              'minProperties': 1,\n                              'not': {'anyOf': [{'required': ['minExclusive',\n                                                              'minInclusive'],\n                                                 'type': 'object'},\n                                                {'required': ['maxExclusive',\n                                                              'maxInclusive'],\n                                                 'type': 'object'}]},\n                              'properties': {'maxExclusive': {'type': 'number'},\n                                             'maxInclusive': {'type': 'number'},\n                                             'minExclusive': {'type': 'number'},\n                                             'minInclusive': {'type': 'number'}},\n                              'type': 'object'},\n                    'units': {'description': 'Units for the measure values',\n                              'type': 'string'},\n                    'value': {'type': 'number'}},\n     'required': ['value', 'directionMeaning'],\n     'type': 'object'}\n\nOn instance['numericMeasures'][0]:\n    {'directionMeaning': {'smaller': 'more_consistent'},\n     'name': 'Automat enrichment p-value',\n     'range': {'maxInclusive': 1, 'minExclusive': 0}}"
     ]
    }
   ],
   "source": [
    "## but what if it's a fluke?? \n",
    "## remove a required key from one association \n",
    "removed1 = example_from_yaml['numericMeasures'][0].pop('value')\n",
    "\n",
    "## then try to validate, this \n",
    "jsonschema.validate(instance=example_from_yaml, schema=schema_from_yaml)\n",
    "## so it works in catching the error yayyyyyyyy. too bad it doesn't tell you which entry had the error in it..."
   ]
  },
  {
   "cell_type": "code",
   "execution_count": 15,
   "metadata": {
    "ExecuteTime": {
     "end_time": "2020-12-26T05:40:35.607258Z",
     "start_time": "2020-12-26T05:40:35.604203Z"
    }
   },
   "outputs": [],
   "source": [
    "example_from_yaml['numericMeasures'][0]['value'] = removed1"
   ]
  },
  {
   "cell_type": "code",
   "execution_count": 16,
   "metadata": {
    "ExecuteTime": {
     "end_time": "2020-12-26T05:40:36.069372Z",
     "start_time": "2020-12-26T05:40:36.052414Z"
    }
   },
   "outputs": [],
   "source": [
    "jsonschema.validate(instance=example_from_yaml, schema=schema_from_yaml)\n",
    "## and it's back and accepted again "
   ]
  },
  {
   "cell_type": "markdown",
   "metadata": {},
   "source": [
    "### error: if there are two mins in range"
   ]
  },
  {
   "cell_type": "code",
   "execution_count": 17,
   "metadata": {
    "ExecuteTime": {
     "end_time": "2020-12-26T05:40:40.859506Z",
     "start_time": "2020-12-26T05:40:40.855476Z"
    }
   },
   "outputs": [
    {
     "data": {
      "text/plain": [
       "{'minExclusive': 0, 'maxInclusive': 1}"
      ]
     },
     "execution_count": 17,
     "metadata": {},
     "output_type": "execute_result"
    }
   ],
   "source": [
    "## another check: look at the range for the first numericMeasure\n",
    "example_from_yaml['numericMeasures'][0]['range']"
   ]
  },
  {
   "cell_type": "code",
   "execution_count": 18,
   "metadata": {
    "ExecuteTime": {
     "end_time": "2020-12-26T05:40:44.559027Z",
     "start_time": "2020-12-26T05:40:44.533695Z"
    }
   },
   "outputs": [
    {
     "ename": "ValidationError",
     "evalue": "{'anyOf': [{'type': 'object', 'required': ['minExclusive', 'minInclusive']}, {'type': 'object', 'required': ['maxExclusive', 'maxInclusive']}]} is not allowed for {'minExclusive': 0, 'maxInclusive': 1, 'minInclusive': -1}\n\nFailed validating 'not' in schema['properties']['numericMeasures']['items']['allOf'][1]['properties']['range']:\n    {'additionalProperties': False,\n     'description': 'Object, Python dict-like. Defines an expected lower '\n                    'and/or upper bound for values (minimum and maximum). '\n                    'Inclusive means the range includes the boundary '\n                    'number; exclusive means the range does not. If the '\n                    'actual lower-bound is negative-infinity and/or the '\n                    'actual upper bound is positive-infinity, do not set a '\n                    'bound',\n     'minProperties': 1,\n     'not': {'anyOf': [{'required': ['minExclusive', 'minInclusive'],\n                        'type': 'object'},\n                       {'required': ['maxExclusive', 'maxInclusive'],\n                        'type': 'object'}]},\n     'properties': {'maxExclusive': {'type': 'number'},\n                    'maxInclusive': {'type': 'number'},\n                    'minExclusive': {'type': 'number'},\n                    'minInclusive': {'type': 'number'}},\n     'type': 'object'}\n\nOn instance['numericMeasures'][0]['range']:\n    {'maxInclusive': 1, 'minExclusive': 0, 'minInclusive': -1}",
     "output_type": "error",
     "traceback": [
      "\u001b[0;31m---------------------------------------------------------------------------\u001b[0m",
      "\u001b[0;31mValidationError\u001b[0m                           Traceback (most recent call last)",
      "\u001b[0;32m<ipython-input-18-9c53daca03db>\u001b[0m in \u001b[0;36m<module>\u001b[0;34m\u001b[0m\n\u001b[1;32m      3\u001b[0m \u001b[0;34m\u001b[0m\u001b[0m\n\u001b[1;32m      4\u001b[0m \u001b[0;31m## then try to validate, this\u001b[0m\u001b[0;34m\u001b[0m\u001b[0;34m\u001b[0m\u001b[0;34m\u001b[0m\u001b[0m\n\u001b[0;32m----> 5\u001b[0;31m \u001b[0mjsonschema\u001b[0m\u001b[0;34m.\u001b[0m\u001b[0mvalidate\u001b[0m\u001b[0;34m(\u001b[0m\u001b[0minstance\u001b[0m\u001b[0;34m=\u001b[0m\u001b[0mexample_from_yaml\u001b[0m\u001b[0;34m,\u001b[0m \u001b[0mschema\u001b[0m\u001b[0;34m=\u001b[0m\u001b[0mschema_from_yaml\u001b[0m\u001b[0;34m)\u001b[0m\u001b[0;34m\u001b[0m\u001b[0;34m\u001b[0m\u001b[0m\n\u001b[0m",
      "\u001b[0;32m~/miniconda3/envs/BTE2/lib/python3.7/site-packages/jsonschema/validators.py\u001b[0m in \u001b[0;36mvalidate\u001b[0;34m(instance, schema, cls, *args, **kwargs)\u001b[0m\n\u001b[1;32m    932\u001b[0m     \u001b[0merror\u001b[0m \u001b[0;34m=\u001b[0m \u001b[0mexceptions\u001b[0m\u001b[0;34m.\u001b[0m\u001b[0mbest_match\u001b[0m\u001b[0;34m(\u001b[0m\u001b[0mvalidator\u001b[0m\u001b[0;34m.\u001b[0m\u001b[0miter_errors\u001b[0m\u001b[0;34m(\u001b[0m\u001b[0minstance\u001b[0m\u001b[0;34m)\u001b[0m\u001b[0;34m)\u001b[0m\u001b[0;34m\u001b[0m\u001b[0;34m\u001b[0m\u001b[0m\n\u001b[1;32m    933\u001b[0m     \u001b[0;32mif\u001b[0m \u001b[0merror\u001b[0m \u001b[0;32mis\u001b[0m \u001b[0;32mnot\u001b[0m \u001b[0;32mNone\u001b[0m\u001b[0;34m:\u001b[0m\u001b[0;34m\u001b[0m\u001b[0;34m\u001b[0m\u001b[0m\n\u001b[0;32m--> 934\u001b[0;31m         \u001b[0;32mraise\u001b[0m \u001b[0merror\u001b[0m\u001b[0;34m\u001b[0m\u001b[0;34m\u001b[0m\u001b[0m\n\u001b[0m\u001b[1;32m    935\u001b[0m \u001b[0;34m\u001b[0m\u001b[0m\n\u001b[1;32m    936\u001b[0m \u001b[0;34m\u001b[0m\u001b[0m\n",
      "\u001b[0;31mValidationError\u001b[0m: {'anyOf': [{'type': 'object', 'required': ['minExclusive', 'minInclusive']}, {'type': 'object', 'required': ['maxExclusive', 'maxInclusive']}]} is not allowed for {'minExclusive': 0, 'maxInclusive': 1, 'minInclusive': -1}\n\nFailed validating 'not' in schema['properties']['numericMeasures']['items']['allOf'][1]['properties']['range']:\n    {'additionalProperties': False,\n     'description': 'Object, Python dict-like. Defines an expected lower '\n                    'and/or upper bound for values (minimum and maximum). '\n                    'Inclusive means the range includes the boundary '\n                    'number; exclusive means the range does not. If the '\n                    'actual lower-bound is negative-infinity and/or the '\n                    'actual upper bound is positive-infinity, do not set a '\n                    'bound',\n     'minProperties': 1,\n     'not': {'anyOf': [{'required': ['minExclusive', 'minInclusive'],\n                        'type': 'object'},\n                       {'required': ['maxExclusive', 'maxInclusive'],\n                        'type': 'object'}]},\n     'properties': {'maxExclusive': {'type': 'number'},\n                    'maxInclusive': {'type': 'number'},\n                    'minExclusive': {'type': 'number'},\n                    'minInclusive': {'type': 'number'}},\n     'type': 'object'}\n\nOn instance['numericMeasures'][0]['range']:\n    {'maxInclusive': 1, 'minExclusive': 0, 'minInclusive': -1}"
     ]
    }
   ],
   "source": [
    "## add an error: minInclusive\n",
    "example_from_yaml['numericMeasures'][0]['range']['minInclusive'] = -1\n",
    "\n",
    "## then try to validate, this \n",
    "jsonschema.validate(instance=example_from_yaml, schema=schema_from_yaml)"
   ]
  },
  {
   "cell_type": "code",
   "execution_count": 19,
   "metadata": {
    "ExecuteTime": {
     "end_time": "2020-12-26T05:40:48.024270Z",
     "start_time": "2020-12-26T05:40:48.005773Z"
    }
   },
   "outputs": [
    {
     "data": {
      "text/plain": [
       "-1"
      ]
     },
     "execution_count": 19,
     "metadata": {},
     "output_type": "execute_result"
    }
   ],
   "source": [
    "## fix the error and re-validate\n",
    "example_from_yaml['numericMeasures'][0]['range'].pop('minInclusive')\n",
    "\n",
    "## then try to validate, this \n",
    "jsonschema.validate(instance=example_from_yaml, schema=schema_from_yaml)"
   ]
  },
  {
   "cell_type": "markdown",
   "metadata": {},
   "source": [
    "## Export JSON files for the yamls"
   ]
  },
  {
   "cell_type": "code",
   "execution_count": 18,
   "metadata": {
    "ExecuteTime": {
     "end_time": "2020-12-24T21:01:02.365201Z",
     "start_time": "2020-12-24T21:01:02.357404Z"
    }
   },
   "outputs": [],
   "source": [
    "json_schema_path = pathlib.Path.cwd().joinpath(\"draft6_schema_processedAssociation.json\")\n",
    "with open(json_schema_path, \"w\") as file:\n",
    "    json.dump(schema_from_yaml, file, indent=2)"
   ]
  },
  {
   "cell_type": "code",
   "execution_count": 19,
   "metadata": {
    "ExecuteTime": {
     "end_time": "2020-12-24T21:01:02.877555Z",
     "start_time": "2020-12-24T21:01:02.873551Z"
    }
   },
   "outputs": [],
   "source": [
    "json_example_path = pathlib.Path.cwd().joinpath(\"draft6_example_processedAssociation_disgenetDG.json\")\n",
    "with open(json_example_path, \"w\") as file:\n",
    "    json.dump(example_from_yaml, file, indent=2)"
   ]
  },
  {
   "cell_type": "code",
   "execution_count": null,
   "metadata": {},
   "outputs": [],
   "source": []
  }
 ],
 "metadata": {
  "kernelspec": {
   "display_name": "Python 3",
   "language": "python",
   "name": "python3"
  },
  "language_info": {
   "codemirror_mode": {
    "name": "ipython",
    "version": 3
   },
   "file_extension": ".py",
   "mimetype": "text/x-python",
   "name": "python",
   "nbconvert_exporter": "python",
   "pygments_lexer": "ipython3",
   "version": "3.7.9"
  },
  "toc": {
   "base_numbering": 1,
   "nav_menu": {},
   "number_sections": true,
   "sideBar": true,
   "skip_h1_title": true,
   "title_cell": "Table of Contents",
   "title_sidebar": "Contents",
   "toc_cell": false,
   "toc_position": {
    "height": "calc(100% - 180px)",
    "left": "10px",
    "top": "150px",
    "width": "277.65px"
   },
   "toc_section_display": true,
   "toc_window_display": true
  },
  "varInspector": {
   "cols": {
    "lenName": 16,
    "lenType": 16,
    "lenVar": 40
   },
   "kernels_config": {
    "python": {
     "delete_cmd_postfix": "",
     "delete_cmd_prefix": "del ",
     "library": "var_list.py",
     "varRefreshCmd": "print(var_dic_list())"
    },
    "r": {
     "delete_cmd_postfix": ") ",
     "delete_cmd_prefix": "rm(",
     "library": "var_list.r",
     "varRefreshCmd": "cat(var_dic_list()) "
    }
   },
   "types_to_exclude": [
    "module",
    "function",
    "builtin_function_or_method",
    "instance",
    "_Feature"
   ],
   "window_display": false
  }
 },
 "nbformat": 4,
 "nbformat_minor": 4
}
