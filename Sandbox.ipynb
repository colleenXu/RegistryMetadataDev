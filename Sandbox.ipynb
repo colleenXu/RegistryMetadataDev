{
 "cells": [
  {
   "cell_type": "markdown",
   "metadata": {},
   "source": [
    "# Sandbox"
   ]
  },
  {
   "cell_type": "markdown",
   "metadata": {},
   "source": [
    "## Intro"
   ]
  },
  {
   "cell_type": "markdown",
   "metadata": {},
   "source": [
    "**To experiment with an executable version of this notebook, [load it in Google Colaboratory](https://colab.research.google.com/github/colleenXu/biothings_explorer/blob/relay/jupyter%20notebooks/CX_WIPs/TranslatorUseCase_COVIDproxies_HAdrugs.ipynb).**"
   ]
  },
  {
   "cell_type": "markdown",
   "metadata": {},
   "source": [
    "## Step 0: Load BTE modules, notebook functions"
   ]
  },
  {
   "cell_type": "code",
   "execution_count": null,
   "metadata": {
    "ExecuteTime": {
     "end_time": "2020-10-26T19:42:56.486619Z",
     "start_time": "2020-10-26T19:42:56.482428Z"
    }
   },
   "outputs": [],
   "source": [
    "## for Google Colab\n",
    "%%capture\n",
    "!pip install git+https://github.com/colleenXu/biothings_explorer@relay#egg=biothings_explorer"
   ]
  },
  {
   "cell_type": "code",
   "execution_count": 1,
   "metadata": {
    "ExecuteTime": {
     "end_time": "2021-03-05T19:49:24.159064Z",
     "start_time": "2021-03-05T19:49:12.833000Z"
    }
   },
   "outputs": [],
   "source": [
    "## CX: allows multiple lines of code to print from one code block\n",
    "from IPython.core.interactiveshell import InteractiveShell\n",
    "InteractiveShell.ast_node_interactivity = \"all\"\n",
    "\n",
    "# import modules from biothings_explorer\n",
    "from biothings_explorer.hint import Hint\n",
    "from biothings_explorer.user_query_dispatcher import FindConnection\n",
    "\n",
    "## show time that this notebook was executed \n",
    "from datetime import datetime\n",
    "\n",
    "## packages to work with objects \n",
    "import re\n",
    "\n",
    "## to get around bugs\n",
    "import nest_asyncio\n",
    "nest_asyncio.apply()"
   ]
  },
  {
   "cell_type": "code",
   "execution_count": 2,
   "metadata": {
    "ExecuteTime": {
     "end_time": "2021-02-01T17:41:53.700569Z",
     "start_time": "2021-02-01T17:41:53.694675Z"
    }
   },
   "outputs": [],
   "source": [
    "## functions to add to modules?\n",
    "def hint_display(query, hint_result):\n",
    "    \"\"\"\n",
    "    show the type, name, number of IDs for all results returned by the query\n",
    "    \n",
    "    :param: query: string used in hint query\n",
    "    :param: hint_result: object returned from hint query, a dictionary of lists of dictionaries\n",
    "    \n",
    "    Returns: None\n",
    "    \"\"\"\n",
    "    ## function needs to be rewritten if it's going to give the exact index of each object within its type \n",
    "    display = ['type', 'name']  ## replace with the parts of the BioThings object you want to see\n",
    "    concise_results = []\n",
    "    for BT_type, result in hint_result.items():\n",
    "        if result:  ## basically if it's not empty\n",
    "            for items in result:\n",
    "                ## number of identifiers per object: number of keys - 4 (name, primary, display, type)\n",
    "                temp = len(items) - 4\n",
    "                concise_results.append((items[display[0]], items[display[1]], \n",
    "                                         str(temp)))\n",
    "                    \n",
    "    print('There are {total} BioThings objects returned for {ht}:'.format(\\\n",
    "                total = len(concise_results), ht = query))\n",
    "    for display_info in concise_results:\n",
    "        print('{0}, {1}, num of IDs: {2}'.format(display_info[0], display_info[1], display_info[2]))"
   ]
  },
  {
   "cell_type": "code",
   "execution_count": 3,
   "metadata": {
    "ExecuteTime": {
     "end_time": "2021-02-01T17:41:53.713164Z",
     "start_time": "2021-02-01T17:41:53.708147Z"
    }
   },
   "outputs": [],
   "source": [
    "def filter_table(df):\n",
    "    \"\"\"\n",
    "    use _source and _method columns to remove rows (paths) from the dataframe\n",
    "    :param: pandas dataframe containing results from BTE FindConnection module, in table form\n",
    "    \n",
    "    Returns: filtered dataframe\n",
    "    \"\"\"\n",
    "    ## note: still needs checking with EXPLAIN queries\n",
    "    ## key is the string to match to column, value is a list of strings to match to column values\n",
    "    filter_out = {'_source': ['SEMMED', 'CTD', 'ctd', 'omia']   \n",
    "#                   '_method': []  ## currently no method stuff I want to filter out\n",
    "                 }\n",
    "    ## SEMMED: text mining results wrong for PhenotypicFeature -> Gene\n",
    "    ## CTD/ctd: results odd for MSUD -> ChemicalSubstance\n",
    "    ## omia: results wrong or discontinued gene IDs for PhenotypicFeature -> Gene\n",
    "    \n",
    "    \n",
    "    df_temp = df.copy()  ## so the original df isn't modified in-place\n",
    "    for key,val in filter_out.items():\n",
    "        ## find columns that match the key string\n",
    "        columns = [i for i in df_temp.columns if key in i]\n",
    "        ## iterate through each column\n",
    "        for col in columns:\n",
    "            ## iterate through each value to take out, check if string CONTAINS match. \n",
    "            ## only keep rows that don't contain the value\n",
    "            for i in val:\n",
    "                df_temp = df_temp[~ df_temp[col].str.contains(i, na = False)]\n",
    "    return df_temp"
   ]
  },
  {
   "cell_type": "code",
   "execution_count": 4,
   "metadata": {
    "ExecuteTime": {
     "end_time": "2021-02-01T17:41:53.731992Z",
     "start_time": "2021-02-01T17:41:53.721223Z"
    }
   },
   "outputs": [],
   "source": [
    "def scoring_output(df, q_type):\n",
    "    \"\"\"\n",
    "    score results based on whether query was Predict or Explain type, number of \n",
    "        intermediate nodes \n",
    "    :param: pandas dataframe containing results from BTE FindConnection module\n",
    "    :param: string describing type of query (Predict or Explain)\n",
    "    \n",
    "    May flatten some edges, because score only counts one edge per \n",
    "        unique predicate / API / method (ignoring source and pubmed col)\n",
    "    \n",
    "    Predict queries: score each output node by counting # of paths\n",
    "        from input nodes to it. Normalize by dividing by maximum\n",
    "        possible # of paths\n",
    "    Explain two-hop (one intermediate) queries: score each intermediate node by \n",
    "        counting # of paths (between input and output nodes) that include it. \n",
    "        Normalize by dividing by maximum possible # of paths    \n",
    "\n",
    "    Explain one-hop (direct) queries: no need to score, prints message\n",
    "    Other Explain queries (many-hops): currently not able to score, prints message     \n",
    "    \n",
    "    Returns: pandas series with scores, index is output_name\n",
    "             or None (one-hop or many-hop Explain query)\n",
    "    \"\"\"\n",
    "    df_temp = df.copy()  ## so no chance to mutate this   \n",
    "    flag_direct = False  ## one-hop query or not\n",
    "    ## use df_col to look quicker into columns\n",
    "    df_col = set(df_temp.columns)\n",
    "    \n",
    "    ## ignore source and pubmed col in looking at unique edges \n",
    "    columns_drop = [col for col in df_col if (('_source' in col) or ('_pubmed' in col))]\n",
    "    df_temp.drop(columns = columns_drop, inplace = True)    \n",
    "    df_temp.drop_duplicates(inplace = True)\n",
    "    \n",
    "    ## check if query is one-hop or not\n",
    "    if \"node1_name\" not in df_col:    ## name for first intermediate node layer\n",
    "        flag_direct = True  \n",
    "    \n",
    "    if q_type == 'Explain':\n",
    "        if flag_direct:   # one hop / no intermediates\n",
    "            print('No valid node scoring for one-hop (direct) Explain queries.')\n",
    "            return None\n",
    "        ## if there are many-hops/intermediate layers\n",
    "        elif \"node2_name\" in df_col:  ## name for 2nd intermed. node layer\n",
    "            print('Cannot currently score many-hop Explain queries.')\n",
    "            return None\n",
    "        else:   ## two-hop / 1 intermediate layer\n",
    "            ## count multi-edges to results (the intermediate node1 col)\n",
    "            scores = df_temp.node1_name.value_counts() \n",
    "            ## to find the maximum-possible number of edges, look at non-result cols\n",
    "            columns_drop = [col for col in df_col if 'node1' in col]\n",
    "            df_temp.drop(columns = columns_drop, inplace = True)\n",
    "            ## now look at number of unique combos for input, edge info, output\n",
    "            df_temp.drop_duplicates(inplace = True)\n",
    "            max_paths = df_temp.shape[0]            \n",
    "            ## normalize scores by dividing each by max number of paths\n",
    "            scores = scores / max_paths\n",
    "\n",
    "    else:  ## Predict type query\n",
    "        ## count multi-edges to results (the output col)\n",
    "        scores = df_temp.output_name.value_counts()\n",
    "        ## to find the maximum number of multi-edges, look at non-output col\n",
    "        columns_drop = [col for col in df_temp.columns if 'output' in col]\n",
    "        df_temp.drop(columns = columns_drop, inplace = True)\n",
    "        ## now look at number of unique paths possible\n",
    "        df_temp.drop_duplicates(inplace = True)\n",
    "        max_paths = df_temp.shape[0]\n",
    "        ## normalize scores by dividing each by max number of paths\n",
    "        scores = scores / max_paths\n",
    "            \n",
    "    ## return scores as pandas dataframe, with rank\n",
    "    scores = scores.to_frame(name = 'score') \n",
    "    scores['rank'] = scores['score'].rank(method = 'dense', ascending = False)\n",
    "    return scores"
   ]
  },
  {
   "cell_type": "code",
   "execution_count": 5,
   "metadata": {
    "ExecuteTime": {
     "end_time": "2021-02-01T17:41:53.745511Z",
     "start_time": "2021-02-01T17:41:53.739954Z"
    }
   },
   "outputs": [
    {
     "name": "stdout",
     "output_type": "stream",
     "text": [
      "The time that this notebook was executed is...\n",
      "Local time (PST, West Coast USA): \n",
      "2021-02-01 09:41:53.741924\n",
      "UTC time: \n",
      "2021-02-01 17:41:53.742040\n"
     ]
    }
   ],
   "source": [
    "## record when cell blocks are executed\n",
    "print('The time that this notebook was executed is...')\n",
    "print('Local time (PST, West Coast USA): ')\n",
    "print(datetime.now())\n",
    "print('UTC time: ')\n",
    "print(datetime.utcnow())"
   ]
  },
  {
   "cell_type": "markdown",
   "metadata": {},
   "source": [
    "## Playing with Hint and 1-hop queries"
   ]
  },
  {
   "cell_type": "markdown",
   "metadata": {},
   "source": [
    "BTE performs the **query path planning** and **query path execution** by deconstructing the query into individual API calls, executing those API calls, and then assembling the results.\n",
    "\n",
    "The code block below takes ~4 seconds to run. \n",
    "\n",
    "Note that this question is not working with drug as ecallantide, Cinryze, Berinert, Ruconest, lanadelumab: BTE can find these objects (Hint module), but the specific drug -> disease is not finding anything. Issue with datasources or with identifier mapping inside hint module (not enough IDs)? \n",
    "\n",
    "Trying to see what ChemicalSubstances are even returned for hereditary angioedema"
   ]
  },
  {
   "cell_type": "code",
   "execution_count": 6,
   "metadata": {
    "ExecuteTime": {
     "end_time": "2021-02-01T17:42:13.573812Z",
     "start_time": "2021-02-01T17:42:13.037846Z"
    },
    "scrolled": true
   },
   "outputs": [
    {
     "name": "stdout",
     "output_type": "stream",
     "text": [
      "There are 13 BioThings objects returned for cytomegalovirus:\n",
      "ChemicalSubstance, Human cytomegalovirus immune globulin, num of IDs: 1\n",
      "Disease, cytomegalovirus pneumonia, num of IDs: 2\n",
      "Disease, cytomegalovirus retinitis, num of IDs: 4\n",
      "Disease, fetal cytomegalovirus syndrome, num of IDs: 3\n",
      "Disease, cytomegalovirus infection, num of IDs: 4\n",
      "Disease, TORCH syndrome, num of IDs: 2\n",
      "PhenotypicFeature, Severe cytomegalovirus infection, num of IDs: 1\n",
      "PhenotypicFeature, Renal tubular cytomegalovirus inclusions, num of IDs: 1\n",
      "MolecularActivity, ubiquitin protein ligase activity, num of IDs: 2\n",
      "CellularComponent, Cytomegalovirus inclusion body, num of IDs: 0\n",
      "Pathway, Human cytomegalovirus infection - Homo sapiens (human), num of IDs: 1\n",
      "Pathway, human cytomegalovirus and map kinase pathways, num of IDs: 0\n",
      "Pathway, Human cytomegalovirus infection - Mus musculus (mouse), num of IDs: 1\n"
     ]
    }
   ],
   "source": [
    "ht = Hint()  ## neater way to call this BTE module\n",
    "\n",
    "## the human user gives this input\n",
    "this_start = \"cytomegalovirus\"\n",
    "this_hint = ht.query(this_start)\n",
    "\n",
    "hint_display(this_start, this_hint)"
   ]
  },
  {
   "cell_type": "markdown",
   "metadata": {},
   "source": [
    "Based on the information above, we'll pick the top `PhenotypicFeature` choice (indexed at 0) for our query. We can look at identifier mappings inside this BioThings object. \n",
    "\n",
    "Note that the query didn't work when picking the top `Disease` choice (essential hypertension). "
   ]
  },
  {
   "cell_type": "code",
   "execution_count": 10,
   "metadata": {
    "ExecuteTime": {
     "end_time": "2021-02-01T17:42:41.576322Z",
     "start_time": "2021-02-01T17:42:41.571637Z"
    }
   },
   "outputs": [
    {
     "data": {
      "text/plain": [
       "{'MONDO': 'MONDO:0005132',\n",
       " 'UMLS': 'C0010823',\n",
       " 'name': 'cytomegalovirus infection',\n",
       " 'MESH': 'D003586',\n",
       " 'OMOP': '440032',\n",
       " 'primary': {'identifier': 'MONDO',\n",
       "  'cls': 'Disease',\n",
       "  'value': 'MONDO:0005132'},\n",
       " 'display': 'MONDO(MONDO:0005132) UMLS(C0010823) MESH(D003586) name(cytomegalovirus infection) OMOP(440032)',\n",
       " 'type': 'Disease'}"
      ]
     },
     "execution_count": 10,
     "metadata": {},
     "output_type": "execute_result"
    }
   ],
   "source": [
    "## the human user makes this choice, gives this input\n",
    "this_choice_type = 'Disease'\n",
    "this_choice_idx = 3\n",
    "\n",
    "this_hint_obj = this_hint[this_choice_type][this_choice_idx]  \n",
    "this_hint_obj"
   ]
  },
  {
   "cell_type": "code",
   "execution_count": 29,
   "metadata": {
    "ExecuteTime": {
     "end_time": "2021-02-01T17:51:43.800784Z",
     "start_time": "2021-02-01T17:51:43.449569Z"
    }
   },
   "outputs": [
    {
     "name": "stdout",
     "output_type": "stream",
     "text": [
      "There are 25 BioThings objects returned for pregnancy:\n",
      "Gene, pregnancy specific beta-1-glycoprotein 3, num of IDs: 6\n",
      "Gene, pregnancy specific beta-1-glycoprotein 6, num of IDs: 6\n",
      "Gene, pregnancy specific beta-1-glycoprotein 5, num of IDs: 6\n",
      "Gene, pregnancy specific beta-1-glycoprotein 4, num of IDs: 6\n",
      "Gene, pregnancy specific beta-1-glycoprotein 9, num of IDs: 6\n",
      "Disease, pregnancy disorder, num of IDs: 3\n",
      "Disease, abdominal ectopic pregnancy, num of IDs: 2\n",
      "Disease, hypertension, pregnancy-induced, num of IDs: 3\n",
      "Disease, ovarian ectopic pregnancy, num of IDs: 2\n",
      "Disease, ectopic pregnancy, num of IDs: 4\n",
      "PhenotypicFeature, Ameliorated by pregnancy, num of IDs: 1\n",
      "PhenotypicFeature, Pregnancy exposure, num of IDs: 1\n",
      "PhenotypicFeature, Postterm pregnancy, num of IDs: 1\n",
      "PhenotypicFeature, Triggered by pregnancy, num of IDs: 1\n",
      "PhenotypicFeature, Maternal fever in pregnancy, num of IDs: 2\n",
      "BiologicalProcess, female pregnancy, num of IDs: 1\n",
      "BiologicalProcess, cellular response to carcinoembryonic antigen, num of IDs: 1\n",
      "BiologicalProcess, maternal process involved in female pregnancy, num of IDs: 1\n",
      "BiologicalProcess, embryonic process involved in female pregnancy, num of IDs: 1\n",
      "BiologicalProcess, mammary gland branching involved in pregnancy, num of IDs: 1\n",
      "BiologicalProcess, Pregnancy, num of IDs: 0\n",
      "BiologicalProcess, Single pregnancy, num of IDs: 0\n",
      "BiologicalProcess, Surrogate pregnancy, num of IDs: 0\n",
      "BiologicalProcess, Undiagnosed pregnancy, num of IDs: 0\n",
      "BiologicalProcess, Sextuplet pregnancy, num of IDs: 0\n"
     ]
    }
   ],
   "source": [
    "## the human user gives this input\n",
    "other_start = \"pregnancy\"\n",
    "other_hint = ht.query(other_start)\n",
    "\n",
    "hint_display(other_start, other_hint)"
   ]
  },
  {
   "cell_type": "code",
   "execution_count": 32,
   "metadata": {
    "ExecuteTime": {
     "end_time": "2021-02-01T17:52:45.233669Z",
     "start_time": "2021-02-01T17:52:45.228761Z"
    }
   },
   "outputs": [
    {
     "data": {
      "text/plain": [
       "{'MONDO': 'MONDO:0024575',\n",
       " 'UMLS': 'C0032962',\n",
       " 'name': 'pregnancy disorder',\n",
       " 'MESH': 'D011248',\n",
       " 'primary': {'identifier': 'MONDO',\n",
       "  'cls': 'Disease',\n",
       "  'value': 'MONDO:0024575'},\n",
       " 'display': 'MONDO(MONDO:0024575) UMLS(C0032962) MESH(D011248) name(pregnancy disorder)',\n",
       " 'type': 'Disease'}"
      ]
     },
     "execution_count": 32,
     "metadata": {},
     "output_type": "execute_result"
    }
   ],
   "source": [
    "## the human user makes this choice, gives this input\n",
    "other_choice_type = 'Disease'\n",
    "other_choice_idx = 0\n",
    "\n",
    "other_hint_obj = other_hint[other_choice_type][other_choice_idx]  \n",
    "other_hint_obj"
   ]
  },
  {
   "cell_type": "code",
   "execution_count": 33,
   "metadata": {
    "ExecuteTime": {
     "end_time": "2021-02-01T17:52:51.231743Z",
     "start_time": "2021-02-01T17:52:48.370650Z"
    },
    "scrolled": true
   },
   "outputs": [
    {
     "name": "stdout",
     "output_type": "stream",
     "text": [
      "==========\n",
      "========== QUERY PARAMETER SUMMARY ==========\n",
      "==========\n",
      "\n",
      "BTE will find paths that join 'cytomegalovirus infection' and 'pregnancy disorder'. Paths will have 1 intermediate node.\n",
      "\n",
      "Intermediate node #1 will have these type constraints: ChemicalSubstance\n",
      "\n",
      "\n",
      "==========\n",
      "========== QUERY #1 -- fetch all ChemicalSubstance entities linked to 'cytomegalovirus infection' ==========\n",
      "==========\n",
      "\n",
      "==== Step #1: Query path planning ====\n",
      "\n",
      "Because cytomegalovirus infection is of type 'Disease', BTE will query our meta-KG for APIs that can take 'Disease' as input and 'ChemicalSubstance' as output\n",
      "\n",
      "BTE found 7 apis:\n",
      "\n",
      "API 1. scibite(1 API call)\n",
      "API 2. scigraph(1 API call)\n",
      "API 3. hmdb(1 API call)\n",
      "API 4. semmed_disease(15 API calls)\n",
      "API 5. pharos(1 API call)\n",
      "API 6. mydisease(1 API call)\n",
      "API 7. mychem(2 API calls)\n",
      "\n",
      "\n",
      "==== Step #2: Query path execution ====\n",
      "NOTE: API requests are dispatched in parallel, so the list of APIs below is ordered by query time.\n",
      "\n",
      "API 6.1: https://mydisease.info/v1/query?fields=ctd.chemical_related_to_disease (POST -d q=D003586&scopes=mondo.xrefs.mesh, disgenet.xrefs.mesh)\n",
      "API 3.11: https://biothings.ncats.io/semmed/query?fields=positively_regulates (POST -d q=C0010823&scopes=umls)\n",
      "API 3.13: https://biothings.ncats.io/semmed/query?fields=derives_info (POST -d q=C0010823&scopes=umls)\n",
      "API 3.1: https://biothings.ncats.io/semmed/query?fields=physically_interacts_with (POST -d q=C0010823&scopes=umls)\n",
      "API 3.5: https://biothings.ncats.io/semmed/query?fields=derives_from (POST -d q=C0010823&scopes=umls)\n",
      "API 3.2: https://biothings.ncats.io/semmed/query?fields=disrupted_by (POST -d q=C0010823&scopes=umls)\n",
      "API 3.14: https://biothings.ncats.io/semmed/query?fields=negatively_regulated_by (POST -d q=C0010823&scopes=umls)\n",
      "API 3.3: https://biothings.ncats.io/semmed/query?fields=coexists_with (POST -d q=C0010823&scopes=umls)\n",
      "API 3.9: https://biothings.ncats.io/semmed/query?fields=related_to (POST -d q=C0010823&scopes=umls)\n",
      "API 3.8: https://biothings.ncats.io/semmed/query?fields=treated_by (POST -d q=C0010823&scopes=umls)\n",
      "API 3.4: https://biothings.ncats.io/semmed/query?fields=prevented_by (POST -d q=C0010823&scopes=umls)\n",
      "API 3.15: https://biothings.ncats.io/semmed/query?fields=positively_regulated_by (POST -d q=C0010823&scopes=umls)\n",
      "API 3.10: https://biothings.ncats.io/semmed/query?fields=affects (POST -d q=C0010823&scopes=umls)\n",
      "API 3.7: https://biothings.ncats.io/semmed/query?fields=negatively_regulates (POST -d q=C0010823&scopes=umls)\n",
      "API 3.6: https://biothings.ncats.io/semmed/query?fields=caused_by (POST -d q=C0010823&scopes=umls)\n",
      "API 3.12: https://biothings.ncats.io/semmed/query?fields=affected_by (POST -d q=C0010823&scopes=umls)\n",
      "API 2.1: https://automat.renci.org/cord19-scigraph/disease/chemical_substance/MONDO:0005132\n",
      "API 5.1: https://automat.renci.org/pharos/disease/chemical_substance/MONDO:0005132\n",
      "API 4.1: https://automat.renci.org/hmdb/disease/chemical_substance/MONDO:0005132\n",
      "API 1.1: https://automat.renci.org/cord19-scibite/disease/chemical_substance/MONDO:0005132\n",
      "\n",
      "\n",
      "==== Step #3: Output normalization ====\n",
      "\n",
      "API 7.1 mychem: 4 hits\n",
      "API 4.1 hmdb: No hits\n",
      "API 3.1 semmed_disease: No hits\n",
      "API 3.2 semmed_disease: 24 hits\n",
      "API 7.2 mychem: 1 hits\n",
      "API 3.3 semmed_disease: 1 hits\n",
      "API 2.1 scigraph: No hits\n",
      "API 3.4 semmed_disease: 29 hits\n",
      "API 3.5 semmed_disease: No hits\n",
      "API 1.1 scibite: No hits\n",
      "API 3.6 semmed_disease: 19 hits\n",
      "API 5.1 pharos: No hits\n",
      "API 3.7 semmed_disease: No hits\n",
      "API 3.8 semmed_disease: 74 hits\n",
      "API 3.9 semmed_disease: 36 hits\n",
      "API 3.10 semmed_disease: No hits\n",
      "API 3.11 semmed_disease: No hits\n",
      "API 3.12 semmed_disease: 50 hits\n",
      "API 3.13 semmed_disease: No hits\n",
      "API 3.14 semmed_disease: No hits\n",
      "API 6.1 mydisease: 2 hits\n",
      "API 3.15 semmed_disease: No hits\n",
      "\n",
      "After id-to-object translation, BTE retrieved 178 unique objects.\n",
      "\n",
      "\n",
      "==========\n",
      "========== QUERY #2 -- fetch all ChemicalSubstance entities linked to 'pregnancy disorder' ==========\n",
      "==========\n",
      "\n",
      "==== Step #1: Query path planning ====\n",
      "\n",
      "Because pregnancy disorder is of type 'Disease', BTE will query our meta-KG for APIs that can take 'Disease' as input and 'ChemicalSubstance' as output\n",
      "\n",
      "BTE found 7 apis:\n",
      "\n",
      "API 1. scibite(1 API call)\n",
      "API 2. scigraph(1 API call)\n",
      "API 3. hmdb(1 API call)\n",
      "API 4. semmed_disease(15 API calls)\n",
      "API 5. pharos(1 API call)\n",
      "API 6. mydisease(1 API call)\n",
      "API 7. mychem(2 API calls)\n",
      "\n",
      "\n",
      "==== Step #2: Query path execution ====\n",
      "NOTE: API requests are dispatched in parallel, so the list of APIs below is ordered by query time.\n",
      "\n",
      "API 3.2: https://biothings.ncats.io/semmed/query?fields=disrupted_by (POST -d q=C0032962&scopes=umls)\n",
      "API 6.1: https://mydisease.info/v1/query?fields=ctd.chemical_related_to_disease (POST -d q=D011248&scopes=mondo.xrefs.mesh, disgenet.xrefs.mesh)\n",
      "API 3.13: https://biothings.ncats.io/semmed/query?fields=derives_info (POST -d q=C0032962&scopes=umls)\n",
      "API 3.15: https://biothings.ncats.io/semmed/query?fields=positively_regulated_by (POST -d q=C0032962&scopes=umls)\n",
      "API 3.7: https://biothings.ncats.io/semmed/query?fields=negatively_regulates (POST -d q=C0032962&scopes=umls)\n",
      "API 3.1: https://biothings.ncats.io/semmed/query?fields=physically_interacts_with (POST -d q=C0032962&scopes=umls)\n",
      "API 3.12: https://biothings.ncats.io/semmed/query?fields=affected_by (POST -d q=C0032962&scopes=umls)\n",
      "API 3.4: https://biothings.ncats.io/semmed/query?fields=prevented_by (POST -d q=C0032962&scopes=umls)\n",
      "API 3.8: https://biothings.ncats.io/semmed/query?fields=treated_by (POST -d q=C0032962&scopes=umls)\n",
      "API 3.3: https://biothings.ncats.io/semmed/query?fields=coexists_with (POST -d q=C0032962&scopes=umls)\n",
      "API 3.5: https://biothings.ncats.io/semmed/query?fields=derives_from (POST -d q=C0032962&scopes=umls)\n",
      "API 3.14: https://biothings.ncats.io/semmed/query?fields=negatively_regulated_by (POST -d q=C0032962&scopes=umls)\n",
      "API 3.11: https://biothings.ncats.io/semmed/query?fields=positively_regulates (POST -d q=C0032962&scopes=umls)\n",
      "API 3.10: https://biothings.ncats.io/semmed/query?fields=affects (POST -d q=C0032962&scopes=umls)\n",
      "API 3.9: https://biothings.ncats.io/semmed/query?fields=related_to (POST -d q=C0032962&scopes=umls)\n",
      "API 3.6: https://biothings.ncats.io/semmed/query?fields=caused_by (POST -d q=C0032962&scopes=umls)\n",
      "API 5.1: https://automat.renci.org/pharos/disease/chemical_substance/MONDO:0024575\n",
      "API 1.1: https://automat.renci.org/cord19-scibite/disease/chemical_substance/MONDO:0024575\n",
      "API 2.1: https://automat.renci.org/cord19-scigraph/disease/chemical_substance/MONDO:0024575\n",
      "API 4.1: https://automat.renci.org/hmdb/disease/chemical_substance/MONDO:0024575\n",
      "\n",
      "\n",
      "==== Step #3: Output normalization ====\n",
      "\n",
      "API 7.1 mychem: No hits\n",
      "API 4.1 hmdb: No hits\n",
      "API 3.1 semmed_disease: No hits\n",
      "API 3.2 semmed_disease: 2 hits\n",
      "API 7.2 mychem: No hits\n",
      "API 3.3 semmed_disease: No hits\n",
      "API 2.1 scigraph: No hits\n",
      "API 3.4 semmed_disease: 21 hits\n",
      "API 3.5 semmed_disease: No hits\n",
      "API 1.1 scibite: No hits\n",
      "API 3.6 semmed_disease: 9 hits\n",
      "API 5.1 pharos: No hits\n",
      "API 3.7 semmed_disease: No hits\n",
      "API 3.8 semmed_disease: 42 hits\n",
      "API 3.9 semmed_disease: 44 hits\n",
      "API 3.10 semmed_disease: No hits\n",
      "API 3.11 semmed_disease: No hits\n",
      "API 3.12 semmed_disease: 15 hits\n",
      "API 3.13 semmed_disease: No hits\n",
      "API 3.14 semmed_disease: No hits\n",
      "API 6.1 mydisease: 5 hits\n",
      "API 3.15 semmed_disease: No hits\n",
      "\n",
      "After id-to-object translation, BTE retrieved 112 unique objects.\n",
      "\n",
      "==========\n",
      "========== Final assembly of results ==========\n",
      "==========\n",
      "\n",
      "\n",
      "BTE found 24 unique intermediate nodes connecting 'cytomegalovirus infection' and 'pregnancy disorder'\n"
     ]
    }
   ],
   "source": [
    "## the human user gives this input\n",
    "q4_intermediate = None\n",
    "\n",
    "q4 = FindConnection(input_obj = this_hint_obj,\\\n",
    "                    output_obj = other_hint_obj, \\\n",
    "                    intermediate_nodes = 'ChemicalSubstance')\n",
    "q4.connect(verbose = True)"
   ]
  },
  {
   "cell_type": "code",
   "execution_count": 34,
   "metadata": {
    "ExecuteTime": {
     "end_time": "2021-02-01T17:52:54.765641Z",
     "start_time": "2021-02-01T17:52:54.645114Z"
    }
   },
   "outputs": [],
   "source": [
    "q4_r_paths_table = q4.display_table_view()\n",
    "\n",
    "q4_type = re.findall(\"dispatcher.([a-zA-Z]+)'\", str(type(q4.fc)))\n",
    "q4_type = \"\".join(q4_type)  ## convert to string\n",
    "\n",
    "q4 = None  ## clear memory"
   ]
  },
  {
   "cell_type": "code",
   "execution_count": 35,
   "metadata": {
    "ExecuteTime": {
     "end_time": "2021-02-01T17:53:54.429844Z",
     "start_time": "2021-02-01T17:53:54.326667Z"
    }
   },
   "outputs": [
    {
     "data": {
      "text/html": [
       "<div>\n",
       "<style scoped>\n",
       "    .dataframe tbody tr th:only-of-type {\n",
       "        vertical-align: middle;\n",
       "    }\n",
       "\n",
       "    .dataframe tbody tr th {\n",
       "        vertical-align: top;\n",
       "    }\n",
       "\n",
       "    .dataframe thead th {\n",
       "        text-align: right;\n",
       "    }\n",
       "</style>\n",
       "<table border=\"1\" class=\"dataframe\">\n",
       "  <thead>\n",
       "    <tr style=\"text-align: right;\">\n",
       "      <th></th>\n",
       "      <th>input</th>\n",
       "      <th>input_type</th>\n",
       "      <th>pred1</th>\n",
       "      <th>pred1_source</th>\n",
       "      <th>pred1_api</th>\n",
       "      <th>pred1_pubmed</th>\n",
       "      <th>pred1_method</th>\n",
       "      <th>node1_type</th>\n",
       "      <th>node1_name</th>\n",
       "      <th>node1_id</th>\n",
       "      <th>pred2</th>\n",
       "      <th>pred2_source</th>\n",
       "      <th>pred2_api</th>\n",
       "      <th>pred2_pubmed</th>\n",
       "      <th>pred2_method</th>\n",
       "      <th>output_type</th>\n",
       "      <th>output_name</th>\n",
       "      <th>output_id</th>\n",
       "    </tr>\n",
       "  </thead>\n",
       "  <tbody>\n",
       "    <tr>\n",
       "      <th>0</th>\n",
       "      <td>CMV INFECTION</td>\n",
       "      <td>Disease</td>\n",
       "      <td>caused_by</td>\n",
       "      <td>SEMMED</td>\n",
       "      <td>SEMMED Disease API</td>\n",
       "      <td>22205740</td>\n",
       "      <td>None</td>\n",
       "      <td>ChemicalSubstance</td>\n",
       "      <td>C0597177</td>\n",
       "      <td>UMLS:C0597177</td>\n",
       "      <td>treated_by</td>\n",
       "      <td>SEMMED</td>\n",
       "      <td>SEMMED Disease API</td>\n",
       "      <td>18484419</td>\n",
       "      <td>None</td>\n",
       "      <td>ChemicalSubstance</td>\n",
       "      <td>COMPLICATION OF PREGNANCY OR CHILDBIRTH</td>\n",
       "      <td>MONDO:MONDO:0024575</td>\n",
       "    </tr>\n",
       "    <tr>\n",
       "      <th>1</th>\n",
       "      <td>CMV INFECTION</td>\n",
       "      <td>Disease</td>\n",
       "      <td>treated_by</td>\n",
       "      <td>SEMMED</td>\n",
       "      <td>SEMMED Disease API</td>\n",
       "      <td>8547414</td>\n",
       "      <td>None</td>\n",
       "      <td>ChemicalSubstance</td>\n",
       "      <td>ANTIBIOTIC</td>\n",
       "      <td>name:ANTIBIOTIC</td>\n",
       "      <td>prevented_by</td>\n",
       "      <td>SEMMED</td>\n",
       "      <td>SEMMED Disease API</td>\n",
       "      <td>11359314</td>\n",
       "      <td>None</td>\n",
       "      <td>ChemicalSubstance</td>\n",
       "      <td>COMPLICATION OF PREGNANCY OR CHILDBIRTH</td>\n",
       "      <td>MONDO:MONDO:0024575</td>\n",
       "    </tr>\n",
       "    <tr>\n",
       "      <th>2</th>\n",
       "      <td>CMV INFECTION</td>\n",
       "      <td>Disease</td>\n",
       "      <td>caused_by</td>\n",
       "      <td>SEMMED</td>\n",
       "      <td>SEMMED Disease API</td>\n",
       "      <td>6261220</td>\n",
       "      <td>None</td>\n",
       "      <td>ChemicalSubstance</td>\n",
       "      <td>ANTIBIOTIC</td>\n",
       "      <td>name:ANTIBIOTIC</td>\n",
       "      <td>prevented_by</td>\n",
       "      <td>SEMMED</td>\n",
       "      <td>SEMMED Disease API</td>\n",
       "      <td>11359314</td>\n",
       "      <td>None</td>\n",
       "      <td>ChemicalSubstance</td>\n",
       "      <td>COMPLICATION OF PREGNANCY OR CHILDBIRTH</td>\n",
       "      <td>MONDO:MONDO:0024575</td>\n",
       "    </tr>\n",
       "    <tr>\n",
       "      <th>3</th>\n",
       "      <td>CMV INFECTION</td>\n",
       "      <td>Disease</td>\n",
       "      <td>treated_by</td>\n",
       "      <td>SEMMED</td>\n",
       "      <td>SEMMED Disease API</td>\n",
       "      <td>9686761</td>\n",
       "      <td>None</td>\n",
       "      <td>ChemicalSubstance</td>\n",
       "      <td>2-(ACETYLOXY)BENZOIC ACID</td>\n",
       "      <td>name:2-(ACETYLOXY)BENZOIC ACID</td>\n",
       "      <td>prevented_by</td>\n",
       "      <td>SEMMED</td>\n",
       "      <td>SEMMED Disease API</td>\n",
       "      <td>17393011,19608566,20034330,20943705,23528915,2...</td>\n",
       "      <td>None</td>\n",
       "      <td>ChemicalSubstance</td>\n",
       "      <td>COMPLICATION OF PREGNANCY OR CHILDBIRTH</td>\n",
       "      <td>MONDO:MONDO:0024575</td>\n",
       "    </tr>\n",
       "    <tr>\n",
       "      <th>4</th>\n",
       "      <td>CMV INFECTION</td>\n",
       "      <td>Disease</td>\n",
       "      <td>treated_by</td>\n",
       "      <td>SEMMED</td>\n",
       "      <td>SEMMED Disease API</td>\n",
       "      <td>9686761</td>\n",
       "      <td>None</td>\n",
       "      <td>ChemicalSubstance</td>\n",
       "      <td>2-(ACETYLOXY)BENZOIC ACID</td>\n",
       "      <td>name:2-(ACETYLOXY)BENZOIC ACID</td>\n",
       "      <td>treated_by</td>\n",
       "      <td>SEMMED</td>\n",
       "      <td>SEMMED Disease API</td>\n",
       "      <td>24901243,27334977,8532271</td>\n",
       "      <td>None</td>\n",
       "      <td>ChemicalSubstance</td>\n",
       "      <td>COMPLICATION OF PREGNANCY OR CHILDBIRTH</td>\n",
       "      <td>MONDO:MONDO:0024575</td>\n",
       "    </tr>\n",
       "    <tr>\n",
       "      <th>5</th>\n",
       "      <td>CMV INFECTION</td>\n",
       "      <td>Disease</td>\n",
       "      <td>treated_by</td>\n",
       "      <td>SEMMED</td>\n",
       "      <td>SEMMED Disease API</td>\n",
       "      <td>10974369,11063338,11704769,11789257,12834313,1...</td>\n",
       "      <td>None</td>\n",
       "      <td>ChemicalSubstance</td>\n",
       "      <td>PHARMACEUTICAL PREPARATIONS</td>\n",
       "      <td>name:PHARMACEUTICAL PREPARATIONS</td>\n",
       "      <td>prevented_by</td>\n",
       "      <td>SEMMED</td>\n",
       "      <td>SEMMED Disease API</td>\n",
       "      <td>24698194</td>\n",
       "      <td>None</td>\n",
       "      <td>ChemicalSubstance</td>\n",
       "      <td>COMPLICATION OF PREGNANCY OR CHILDBIRTH</td>\n",
       "      <td>MONDO:MONDO:0024575</td>\n",
       "    </tr>\n",
       "    <tr>\n",
       "      <th>6</th>\n",
       "      <td>CMV INFECTION</td>\n",
       "      <td>Disease</td>\n",
       "      <td>prevented_by</td>\n",
       "      <td>SEMMED</td>\n",
       "      <td>SEMMED Disease API</td>\n",
       "      <td>10320043,11270937,24010993,25637709</td>\n",
       "      <td>None</td>\n",
       "      <td>ChemicalSubstance</td>\n",
       "      <td>PHARMACEUTICAL PREPARATIONS</td>\n",
       "      <td>name:PHARMACEUTICAL PREPARATIONS</td>\n",
       "      <td>prevented_by</td>\n",
       "      <td>SEMMED</td>\n",
       "      <td>SEMMED Disease API</td>\n",
       "      <td>24698194</td>\n",
       "      <td>None</td>\n",
       "      <td>ChemicalSubstance</td>\n",
       "      <td>COMPLICATION OF PREGNANCY OR CHILDBIRTH</td>\n",
       "      <td>MONDO:MONDO:0024575</td>\n",
       "    </tr>\n",
       "    <tr>\n",
       "      <th>7</th>\n",
       "      <td>CMV INFECTION</td>\n",
       "      <td>Disease</td>\n",
       "      <td>affected_by</td>\n",
       "      <td>SEMMED</td>\n",
       "      <td>SEMMED Disease API</td>\n",
       "      <td>8856026</td>\n",
       "      <td>None</td>\n",
       "      <td>ChemicalSubstance</td>\n",
       "      <td>PHARMACEUTICAL PREPARATIONS</td>\n",
       "      <td>name:PHARMACEUTICAL PREPARATIONS</td>\n",
       "      <td>prevented_by</td>\n",
       "      <td>SEMMED</td>\n",
       "      <td>SEMMED Disease API</td>\n",
       "      <td>24698194</td>\n",
       "      <td>None</td>\n",
       "      <td>ChemicalSubstance</td>\n",
       "      <td>COMPLICATION OF PREGNANCY OR CHILDBIRTH</td>\n",
       "      <td>MONDO:MONDO:0024575</td>\n",
       "    </tr>\n",
       "    <tr>\n",
       "      <th>8</th>\n",
       "      <td>CMV INFECTION</td>\n",
       "      <td>Disease</td>\n",
       "      <td>treated_by</td>\n",
       "      <td>SEMMED</td>\n",
       "      <td>SEMMED Disease API</td>\n",
       "      <td>10974369,11063338,11704769,11789257,12834313,1...</td>\n",
       "      <td>None</td>\n",
       "      <td>ChemicalSubstance</td>\n",
       "      <td>PHARMACEUTICAL PREPARATIONS</td>\n",
       "      <td>name:PHARMACEUTICAL PREPARATIONS</td>\n",
       "      <td>treated_by</td>\n",
       "      <td>SEMMED</td>\n",
       "      <td>SEMMED Disease API</td>\n",
       "      <td>24392375,8180351</td>\n",
       "      <td>None</td>\n",
       "      <td>ChemicalSubstance</td>\n",
       "      <td>COMPLICATION OF PREGNANCY OR CHILDBIRTH</td>\n",
       "      <td>MONDO:MONDO:0024575</td>\n",
       "    </tr>\n",
       "    <tr>\n",
       "      <th>9</th>\n",
       "      <td>CMV INFECTION</td>\n",
       "      <td>Disease</td>\n",
       "      <td>prevented_by</td>\n",
       "      <td>SEMMED</td>\n",
       "      <td>SEMMED Disease API</td>\n",
       "      <td>10320043,11270937,24010993,25637709</td>\n",
       "      <td>None</td>\n",
       "      <td>ChemicalSubstance</td>\n",
       "      <td>PHARMACEUTICAL PREPARATIONS</td>\n",
       "      <td>name:PHARMACEUTICAL PREPARATIONS</td>\n",
       "      <td>treated_by</td>\n",
       "      <td>SEMMED</td>\n",
       "      <td>SEMMED Disease API</td>\n",
       "      <td>24392375,8180351</td>\n",
       "      <td>None</td>\n",
       "      <td>ChemicalSubstance</td>\n",
       "      <td>COMPLICATION OF PREGNANCY OR CHILDBIRTH</td>\n",
       "      <td>MONDO:MONDO:0024575</td>\n",
       "    </tr>\n",
       "    <tr>\n",
       "      <th>10</th>\n",
       "      <td>CMV INFECTION</td>\n",
       "      <td>Disease</td>\n",
       "      <td>affected_by</td>\n",
       "      <td>SEMMED</td>\n",
       "      <td>SEMMED Disease API</td>\n",
       "      <td>8856026</td>\n",
       "      <td>None</td>\n",
       "      <td>ChemicalSubstance</td>\n",
       "      <td>PHARMACEUTICAL PREPARATIONS</td>\n",
       "      <td>name:PHARMACEUTICAL PREPARATIONS</td>\n",
       "      <td>treated_by</td>\n",
       "      <td>SEMMED</td>\n",
       "      <td>SEMMED Disease API</td>\n",
       "      <td>24392375,8180351</td>\n",
       "      <td>None</td>\n",
       "      <td>ChemicalSubstance</td>\n",
       "      <td>COMPLICATION OF PREGNANCY OR CHILDBIRTH</td>\n",
       "      <td>MONDO:MONDO:0024575</td>\n",
       "    </tr>\n",
       "    <tr>\n",
       "      <th>11</th>\n",
       "      <td>CMV INFECTION</td>\n",
       "      <td>Disease</td>\n",
       "      <td>related_to</td>\n",
       "      <td>SEMMED</td>\n",
       "      <td>SEMMED Disease API</td>\n",
       "      <td>11684579</td>\n",
       "      <td>None</td>\n",
       "      <td>ChemicalSubstance</td>\n",
       "      <td>(2R,3R,4S)-2-({(2R,3S,4R,5R,6S)-4,6-DIHYDROXY-...</td>\n",
       "      <td>name:(2R,3R,4S)-2-({(2R,3S,4R,5R,6S)-4,6-DIHYD...</td>\n",
       "      <td>prevented_by</td>\n",
       "      <td>SEMMED</td>\n",
       "      <td>SEMMED Disease API</td>\n",
       "      <td>15519428,16556679,17611187,19716166,25696884,2...</td>\n",
       "      <td>None</td>\n",
       "      <td>ChemicalSubstance</td>\n",
       "      <td>COMPLICATION OF PREGNANCY OR CHILDBIRTH</td>\n",
       "      <td>MONDO:MONDO:0024575</td>\n",
       "    </tr>\n",
       "    <tr>\n",
       "      <th>12</th>\n",
       "      <td>CMV INFECTION</td>\n",
       "      <td>Disease</td>\n",
       "      <td>affected_by</td>\n",
       "      <td>SEMMED</td>\n",
       "      <td>SEMMED Disease API</td>\n",
       "      <td>1310777</td>\n",
       "      <td>None</td>\n",
       "      <td>ChemicalSubstance</td>\n",
       "      <td>(2R,3R,4S)-2-({(2R,3S,4R,5R,6S)-4,6-DIHYDROXY-...</td>\n",
       "      <td>name:(2R,3R,4S)-2-({(2R,3S,4R,5R,6S)-4,6-DIHYD...</td>\n",
       "      <td>prevented_by</td>\n",
       "      <td>SEMMED</td>\n",
       "      <td>SEMMED Disease API</td>\n",
       "      <td>15519428,16556679,17611187,19716166,25696884,2...</td>\n",
       "      <td>None</td>\n",
       "      <td>ChemicalSubstance</td>\n",
       "      <td>COMPLICATION OF PREGNANCY OR CHILDBIRTH</td>\n",
       "      <td>MONDO:MONDO:0024575</td>\n",
       "    </tr>\n",
       "    <tr>\n",
       "      <th>13</th>\n",
       "      <td>CMV INFECTION</td>\n",
       "      <td>Disease</td>\n",
       "      <td>related_to</td>\n",
       "      <td>SEMMED</td>\n",
       "      <td>SEMMED Disease API</td>\n",
       "      <td>11684579</td>\n",
       "      <td>None</td>\n",
       "      <td>ChemicalSubstance</td>\n",
       "      <td>(2R,3R,4S)-2-({(2R,3S,4R,5R,6S)-4,6-DIHYDROXY-...</td>\n",
       "      <td>name:(2R,3R,4S)-2-({(2R,3S,4R,5R,6S)-4,6-DIHYD...</td>\n",
       "      <td>treated_by</td>\n",
       "      <td>SEMMED</td>\n",
       "      <td>SEMMED Disease API</td>\n",
       "      <td>22289887</td>\n",
       "      <td>None</td>\n",
       "      <td>ChemicalSubstance</td>\n",
       "      <td>COMPLICATION OF PREGNANCY OR CHILDBIRTH</td>\n",
       "      <td>MONDO:MONDO:0024575</td>\n",
       "    </tr>\n",
       "    <tr>\n",
       "      <th>14</th>\n",
       "      <td>CMV INFECTION</td>\n",
       "      <td>Disease</td>\n",
       "      <td>affected_by</td>\n",
       "      <td>SEMMED</td>\n",
       "      <td>SEMMED Disease API</td>\n",
       "      <td>1310777</td>\n",
       "      <td>None</td>\n",
       "      <td>ChemicalSubstance</td>\n",
       "      <td>(2R,3R,4S)-2-({(2R,3S,4R,5R,6S)-4,6-DIHYDROXY-...</td>\n",
       "      <td>name:(2R,3R,4S)-2-({(2R,3S,4R,5R,6S)-4,6-DIHYD...</td>\n",
       "      <td>treated_by</td>\n",
       "      <td>SEMMED</td>\n",
       "      <td>SEMMED Disease API</td>\n",
       "      <td>22289887</td>\n",
       "      <td>None</td>\n",
       "      <td>ChemicalSubstance</td>\n",
       "      <td>COMPLICATION OF PREGNANCY OR CHILDBIRTH</td>\n",
       "      <td>MONDO:MONDO:0024575</td>\n",
       "    </tr>\n",
       "    <tr>\n",
       "      <th>15</th>\n",
       "      <td>CMV INFECTION</td>\n",
       "      <td>Disease</td>\n",
       "      <td>related_to</td>\n",
       "      <td>SEMMED</td>\n",
       "      <td>SEMMED Disease API</td>\n",
       "      <td>27520300</td>\n",
       "      <td>None</td>\n",
       "      <td>ChemicalSubstance</td>\n",
       "      <td>VITAMIN D</td>\n",
       "      <td>name:VITAMIN D</td>\n",
       "      <td>prevented_by</td>\n",
       "      <td>SEMMED</td>\n",
       "      <td>SEMMED Disease API</td>\n",
       "      <td>23326380,29205625</td>\n",
       "      <td>None</td>\n",
       "      <td>ChemicalSubstance</td>\n",
       "      <td>COMPLICATION OF PREGNANCY OR CHILDBIRTH</td>\n",
       "      <td>MONDO:MONDO:0024575</td>\n",
       "    </tr>\n",
       "    <tr>\n",
       "      <th>16</th>\n",
       "      <td>CMV INFECTION</td>\n",
       "      <td>Disease</td>\n",
       "      <td>related_to</td>\n",
       "      <td>SEMMED</td>\n",
       "      <td>SEMMED Disease API</td>\n",
       "      <td>27520300</td>\n",
       "      <td>None</td>\n",
       "      <td>ChemicalSubstance</td>\n",
       "      <td>VITAMIN D</td>\n",
       "      <td>name:VITAMIN D</td>\n",
       "      <td>related_to</td>\n",
       "      <td>SEMMED</td>\n",
       "      <td>SEMMED Disease API</td>\n",
       "      <td>25117752</td>\n",
       "      <td>None</td>\n",
       "      <td>ChemicalSubstance</td>\n",
       "      <td>COMPLICATION OF PREGNANCY OR CHILDBIRTH</td>\n",
       "      <td>MONDO:MONDO:0024575</td>\n",
       "    </tr>\n",
       "    <tr>\n",
       "      <th>17</th>\n",
       "      <td>CMV INFECTION</td>\n",
       "      <td>Disease</td>\n",
       "      <td>prevented_by</td>\n",
       "      <td>SEMMED</td>\n",
       "      <td>SEMMED Disease API</td>\n",
       "      <td>18059104,21860612</td>\n",
       "      <td>None</td>\n",
       "      <td>ChemicalSubstance</td>\n",
       "      <td>ADSORBED HEPATITIS B VACCINE</td>\n",
       "      <td>name:ADSORBED HEPATITIS B VACCINE</td>\n",
       "      <td>caused_by</td>\n",
       "      <td>SEMMED</td>\n",
       "      <td>SEMMED Disease API</td>\n",
       "      <td>3122576</td>\n",
       "      <td>None</td>\n",
       "      <td>ChemicalSubstance</td>\n",
       "      <td>COMPLICATION OF PREGNANCY OR CHILDBIRTH</td>\n",
       "      <td>MONDO:MONDO:0024575</td>\n",
       "    </tr>\n",
       "    <tr>\n",
       "      <th>18</th>\n",
       "      <td>CMV INFECTION</td>\n",
       "      <td>Disease</td>\n",
       "      <td>related_to</td>\n",
       "      <td>SEMMED</td>\n",
       "      <td>SEMMED Disease API</td>\n",
       "      <td>4343614,6094671,6264020,6309659,8866799</td>\n",
       "      <td>None</td>\n",
       "      <td>ChemicalSubstance</td>\n",
       "      <td>ADSORBED HEPATITIS B VACCINE</td>\n",
       "      <td>name:ADSORBED HEPATITIS B VACCINE</td>\n",
       "      <td>caused_by</td>\n",
       "      <td>SEMMED</td>\n",
       "      <td>SEMMED Disease API</td>\n",
       "      <td>3122576</td>\n",
       "      <td>None</td>\n",
       "      <td>ChemicalSubstance</td>\n",
       "      <td>COMPLICATION OF PREGNANCY OR CHILDBIRTH</td>\n",
       "      <td>MONDO:MONDO:0024575</td>\n",
       "    </tr>\n",
       "    <tr>\n",
       "      <th>19</th>\n",
       "      <td>CMV INFECTION</td>\n",
       "      <td>Disease</td>\n",
       "      <td>affected_by</td>\n",
       "      <td>SEMMED</td>\n",
       "      <td>SEMMED Disease API</td>\n",
       "      <td>7831216</td>\n",
       "      <td>None</td>\n",
       "      <td>ChemicalSubstance</td>\n",
       "      <td>ADSORBED HEPATITIS B VACCINE</td>\n",
       "      <td>name:ADSORBED HEPATITIS B VACCINE</td>\n",
       "      <td>caused_by</td>\n",
       "      <td>SEMMED</td>\n",
       "      <td>SEMMED Disease API</td>\n",
       "      <td>3122576</td>\n",
       "      <td>None</td>\n",
       "      <td>ChemicalSubstance</td>\n",
       "      <td>COMPLICATION OF PREGNANCY OR CHILDBIRTH</td>\n",
       "      <td>MONDO:MONDO:0024575</td>\n",
       "    </tr>\n",
       "    <tr>\n",
       "      <th>20</th>\n",
       "      <td>CMV INFECTION</td>\n",
       "      <td>Disease</td>\n",
       "      <td>prevented_by</td>\n",
       "      <td>SEMMED</td>\n",
       "      <td>SEMMED Disease API</td>\n",
       "      <td>18059104,21860612</td>\n",
       "      <td>None</td>\n",
       "      <td>ChemicalSubstance</td>\n",
       "      <td>ADSORBED HEPATITIS B VACCINE</td>\n",
       "      <td>name:ADSORBED HEPATITIS B VACCINE</td>\n",
       "      <td>related_to</td>\n",
       "      <td>SEMMED</td>\n",
       "      <td>SEMMED Disease API</td>\n",
       "      <td>21623987</td>\n",
       "      <td>None</td>\n",
       "      <td>ChemicalSubstance</td>\n",
       "      <td>COMPLICATION OF PREGNANCY OR CHILDBIRTH</td>\n",
       "      <td>MONDO:MONDO:0024575</td>\n",
       "    </tr>\n",
       "    <tr>\n",
       "      <th>21</th>\n",
       "      <td>CMV INFECTION</td>\n",
       "      <td>Disease</td>\n",
       "      <td>related_to</td>\n",
       "      <td>SEMMED</td>\n",
       "      <td>SEMMED Disease API</td>\n",
       "      <td>4343614,6094671,6264020,6309659,8866799</td>\n",
       "      <td>None</td>\n",
       "      <td>ChemicalSubstance</td>\n",
       "      <td>ADSORBED HEPATITIS B VACCINE</td>\n",
       "      <td>name:ADSORBED HEPATITIS B VACCINE</td>\n",
       "      <td>related_to</td>\n",
       "      <td>SEMMED</td>\n",
       "      <td>SEMMED Disease API</td>\n",
       "      <td>21623987</td>\n",
       "      <td>None</td>\n",
       "      <td>ChemicalSubstance</td>\n",
       "      <td>COMPLICATION OF PREGNANCY OR CHILDBIRTH</td>\n",
       "      <td>MONDO:MONDO:0024575</td>\n",
       "    </tr>\n",
       "    <tr>\n",
       "      <th>22</th>\n",
       "      <td>CMV INFECTION</td>\n",
       "      <td>Disease</td>\n",
       "      <td>affected_by</td>\n",
       "      <td>SEMMED</td>\n",
       "      <td>SEMMED Disease API</td>\n",
       "      <td>7831216</td>\n",
       "      <td>None</td>\n",
       "      <td>ChemicalSubstance</td>\n",
       "      <td>ADSORBED HEPATITIS B VACCINE</td>\n",
       "      <td>name:ADSORBED HEPATITIS B VACCINE</td>\n",
       "      <td>related_to</td>\n",
       "      <td>SEMMED</td>\n",
       "      <td>SEMMED Disease API</td>\n",
       "      <td>21623987</td>\n",
       "      <td>None</td>\n",
       "      <td>ChemicalSubstance</td>\n",
       "      <td>COMPLICATION OF PREGNANCY OR CHILDBIRTH</td>\n",
       "      <td>MONDO:MONDO:0024575</td>\n",
       "    </tr>\n",
       "    <tr>\n",
       "      <th>23</th>\n",
       "      <td>CMV INFECTION</td>\n",
       "      <td>Disease</td>\n",
       "      <td>prevented_by</td>\n",
       "      <td>SEMMED</td>\n",
       "      <td>SEMMED Disease API</td>\n",
       "      <td>6202880</td>\n",
       "      <td>None</td>\n",
       "      <td>ChemicalSubstance</td>\n",
       "      <td>BIOLOGICAL RESPONSE MODIFIERS</td>\n",
       "      <td>name:BIOLOGICAL RESPONSE MODIFIERS</td>\n",
       "      <td>caused_by</td>\n",
       "      <td>SEMMED</td>\n",
       "      <td>SEMMED Disease API</td>\n",
       "      <td>23929902</td>\n",
       "      <td>None</td>\n",
       "      <td>ChemicalSubstance</td>\n",
       "      <td>COMPLICATION OF PREGNANCY OR CHILDBIRTH</td>\n",
       "      <td>MONDO:MONDO:0024575</td>\n",
       "    </tr>\n",
       "    <tr>\n",
       "      <th>24</th>\n",
       "      <td>CMV INFECTION</td>\n",
       "      <td>Disease</td>\n",
       "      <td>caused_by</td>\n",
       "      <td>SEMMED</td>\n",
       "      <td>SEMMED Disease API</td>\n",
       "      <td>16501846</td>\n",
       "      <td>None</td>\n",
       "      <td>ChemicalSubstance</td>\n",
       "      <td>BIOLOGICAL RESPONSE MODIFIERS</td>\n",
       "      <td>name:BIOLOGICAL RESPONSE MODIFIERS</td>\n",
       "      <td>caused_by</td>\n",
       "      <td>SEMMED</td>\n",
       "      <td>SEMMED Disease API</td>\n",
       "      <td>23929902</td>\n",
       "      <td>None</td>\n",
       "      <td>ChemicalSubstance</td>\n",
       "      <td>COMPLICATION OF PREGNANCY OR CHILDBIRTH</td>\n",
       "      <td>MONDO:MONDO:0024575</td>\n",
       "    </tr>\n",
       "    <tr>\n",
       "      <th>25</th>\n",
       "      <td>CMV INFECTION</td>\n",
       "      <td>Disease</td>\n",
       "      <td>affected_by</td>\n",
       "      <td>SEMMED</td>\n",
       "      <td>SEMMED Disease API</td>\n",
       "      <td>8896490</td>\n",
       "      <td>None</td>\n",
       "      <td>ChemicalSubstance</td>\n",
       "      <td>LIPOPOLYSACCHARIDES</td>\n",
       "      <td>name:LIPOPOLYSACCHARIDES</td>\n",
       "      <td>caused_by</td>\n",
       "      <td>SEMMED</td>\n",
       "      <td>SEMMED Disease API</td>\n",
       "      <td>23526610,24112943</td>\n",
       "      <td>None</td>\n",
       "      <td>ChemicalSubstance</td>\n",
       "      <td>COMPLICATION OF PREGNANCY OR CHILDBIRTH</td>\n",
       "      <td>MONDO:MONDO:0024575</td>\n",
       "    </tr>\n",
       "    <tr>\n",
       "      <th>26</th>\n",
       "      <td>CMV INFECTION</td>\n",
       "      <td>Disease</td>\n",
       "      <td>treated_by</td>\n",
       "      <td>SEMMED</td>\n",
       "      <td>SEMMED Disease API</td>\n",
       "      <td>16095507</td>\n",
       "      <td>None</td>\n",
       "      <td>ChemicalSubstance</td>\n",
       "      <td>FOLATE</td>\n",
       "      <td>name:FOLATE</td>\n",
       "      <td>caused_by</td>\n",
       "      <td>SEMMED</td>\n",
       "      <td>SEMMED Disease API</td>\n",
       "      <td>23112124</td>\n",
       "      <td>None</td>\n",
       "      <td>ChemicalSubstance</td>\n",
       "      <td>COMPLICATION OF PREGNANCY OR CHILDBIRTH</td>\n",
       "      <td>MONDO:MONDO:0024575</td>\n",
       "    </tr>\n",
       "    <tr>\n",
       "      <th>27</th>\n",
       "      <td>CMV INFECTION</td>\n",
       "      <td>Disease</td>\n",
       "      <td>treated_by</td>\n",
       "      <td>SEMMED</td>\n",
       "      <td>SEMMED Disease API</td>\n",
       "      <td>16095507</td>\n",
       "      <td>None</td>\n",
       "      <td>ChemicalSubstance</td>\n",
       "      <td>FOLATE</td>\n",
       "      <td>name:FOLATE</td>\n",
       "      <td>treated_by</td>\n",
       "      <td>SEMMED</td>\n",
       "      <td>SEMMED Disease API</td>\n",
       "      <td>16955635,17266521</td>\n",
       "      <td>None</td>\n",
       "      <td>ChemicalSubstance</td>\n",
       "      <td>COMPLICATION OF PREGNANCY OR CHILDBIRTH</td>\n",
       "      <td>MONDO:MONDO:0024575</td>\n",
       "    </tr>\n",
       "    <tr>\n",
       "      <th>28</th>\n",
       "      <td>CMV INFECTION</td>\n",
       "      <td>Disease</td>\n",
       "      <td>treated_by</td>\n",
       "      <td>SEMMED</td>\n",
       "      <td>SEMMED Disease API</td>\n",
       "      <td>16095507</td>\n",
       "      <td>None</td>\n",
       "      <td>ChemicalSubstance</td>\n",
       "      <td>FOLATE</td>\n",
       "      <td>name:FOLATE</td>\n",
       "      <td>related_to</td>\n",
       "      <td>SEMMED</td>\n",
       "      <td>SEMMED Disease API</td>\n",
       "      <td>21367581</td>\n",
       "      <td>None</td>\n",
       "      <td>ChemicalSubstance</td>\n",
       "      <td>COMPLICATION OF PREGNANCY OR CHILDBIRTH</td>\n",
       "      <td>MONDO:MONDO:0024575</td>\n",
       "    </tr>\n",
       "    <tr>\n",
       "      <th>29</th>\n",
       "      <td>CMV INFECTION</td>\n",
       "      <td>Disease</td>\n",
       "      <td>treated_by</td>\n",
       "      <td>SEMMED</td>\n",
       "      <td>SEMMED Disease API</td>\n",
       "      <td>16095507</td>\n",
       "      <td>None</td>\n",
       "      <td>ChemicalSubstance</td>\n",
       "      <td>FOLATE</td>\n",
       "      <td>name:FOLATE</td>\n",
       "      <td>affected_by</td>\n",
       "      <td>SEMMED</td>\n",
       "      <td>SEMMED Disease API</td>\n",
       "      <td>16123074</td>\n",
       "      <td>None</td>\n",
       "      <td>ChemicalSubstance</td>\n",
       "      <td>COMPLICATION OF PREGNANCY OR CHILDBIRTH</td>\n",
       "      <td>MONDO:MONDO:0024575</td>\n",
       "    </tr>\n",
       "    <tr>\n",
       "      <th>30</th>\n",
       "      <td>CMV INFECTION</td>\n",
       "      <td>Disease</td>\n",
       "      <td>related_to</td>\n",
       "      <td>SEMMED</td>\n",
       "      <td>SEMMED Disease API</td>\n",
       "      <td>21545855</td>\n",
       "      <td>None</td>\n",
       "      <td>ChemicalSubstance</td>\n",
       "      <td>MICRORNA</td>\n",
       "      <td>name:MICRORNA</td>\n",
       "      <td>caused_by</td>\n",
       "      <td>SEMMED</td>\n",
       "      <td>SEMMED Disease API</td>\n",
       "      <td>25699269,26871967</td>\n",
       "      <td>None</td>\n",
       "      <td>ChemicalSubstance</td>\n",
       "      <td>COMPLICATION OF PREGNANCY OR CHILDBIRTH</td>\n",
       "      <td>MONDO:MONDO:0024575</td>\n",
       "    </tr>\n",
       "    <tr>\n",
       "      <th>31</th>\n",
       "      <td>CMV INFECTION</td>\n",
       "      <td>Disease</td>\n",
       "      <td>affected_by</td>\n",
       "      <td>SEMMED</td>\n",
       "      <td>SEMMED Disease API</td>\n",
       "      <td>17928340,20969901,24533100</td>\n",
       "      <td>None</td>\n",
       "      <td>ChemicalSubstance</td>\n",
       "      <td>MICRORNA</td>\n",
       "      <td>name:MICRORNA</td>\n",
       "      <td>caused_by</td>\n",
       "      <td>SEMMED</td>\n",
       "      <td>SEMMED Disease API</td>\n",
       "      <td>25699269,26871967</td>\n",
       "      <td>None</td>\n",
       "      <td>ChemicalSubstance</td>\n",
       "      <td>COMPLICATION OF PREGNANCY OR CHILDBIRTH</td>\n",
       "      <td>MONDO:MONDO:0024575</td>\n",
       "    </tr>\n",
       "    <tr>\n",
       "      <th>32</th>\n",
       "      <td>CMV INFECTION</td>\n",
       "      <td>Disease</td>\n",
       "      <td>related_to</td>\n",
       "      <td>SEMMED</td>\n",
       "      <td>SEMMED Disease API</td>\n",
       "      <td>21545855</td>\n",
       "      <td>None</td>\n",
       "      <td>ChemicalSubstance</td>\n",
       "      <td>MICRORNA</td>\n",
       "      <td>name:MICRORNA</td>\n",
       "      <td>related_to</td>\n",
       "      <td>SEMMED</td>\n",
       "      <td>SEMMED Disease API</td>\n",
       "      <td>21079238,23528856,24081302,25825993,26051307,2...</td>\n",
       "      <td>None</td>\n",
       "      <td>ChemicalSubstance</td>\n",
       "      <td>COMPLICATION OF PREGNANCY OR CHILDBIRTH</td>\n",
       "      <td>MONDO:MONDO:0024575</td>\n",
       "    </tr>\n",
       "    <tr>\n",
       "      <th>33</th>\n",
       "      <td>CMV INFECTION</td>\n",
       "      <td>Disease</td>\n",
       "      <td>affected_by</td>\n",
       "      <td>SEMMED</td>\n",
       "      <td>SEMMED Disease API</td>\n",
       "      <td>17928340,20969901,24533100</td>\n",
       "      <td>None</td>\n",
       "      <td>ChemicalSubstance</td>\n",
       "      <td>MICRORNA</td>\n",
       "      <td>name:MICRORNA</td>\n",
       "      <td>related_to</td>\n",
       "      <td>SEMMED</td>\n",
       "      <td>SEMMED Disease API</td>\n",
       "      <td>21079238,23528856,24081302,25825993,26051307,2...</td>\n",
       "      <td>None</td>\n",
       "      <td>ChemicalSubstance</td>\n",
       "      <td>COMPLICATION OF PREGNANCY OR CHILDBIRTH</td>\n",
       "      <td>MONDO:MONDO:0024575</td>\n",
       "    </tr>\n",
       "    <tr>\n",
       "      <th>34</th>\n",
       "      <td>CMV INFECTION</td>\n",
       "      <td>Disease</td>\n",
       "      <td>related_to</td>\n",
       "      <td>SEMMED</td>\n",
       "      <td>SEMMED Disease API</td>\n",
       "      <td>21545855</td>\n",
       "      <td>None</td>\n",
       "      <td>ChemicalSubstance</td>\n",
       "      <td>MICRORNA</td>\n",
       "      <td>name:MICRORNA</td>\n",
       "      <td>affected_by</td>\n",
       "      <td>SEMMED</td>\n",
       "      <td>SEMMED Disease API</td>\n",
       "      <td>28388652</td>\n",
       "      <td>None</td>\n",
       "      <td>ChemicalSubstance</td>\n",
       "      <td>COMPLICATION OF PREGNANCY OR CHILDBIRTH</td>\n",
       "      <td>MONDO:MONDO:0024575</td>\n",
       "    </tr>\n",
       "    <tr>\n",
       "      <th>35</th>\n",
       "      <td>CMV INFECTION</td>\n",
       "      <td>Disease</td>\n",
       "      <td>affected_by</td>\n",
       "      <td>SEMMED</td>\n",
       "      <td>SEMMED Disease API</td>\n",
       "      <td>17928340,20969901,24533100</td>\n",
       "      <td>None</td>\n",
       "      <td>ChemicalSubstance</td>\n",
       "      <td>MICRORNA</td>\n",
       "      <td>name:MICRORNA</td>\n",
       "      <td>affected_by</td>\n",
       "      <td>SEMMED</td>\n",
       "      <td>SEMMED Disease API</td>\n",
       "      <td>28388652</td>\n",
       "      <td>None</td>\n",
       "      <td>ChemicalSubstance</td>\n",
       "      <td>COMPLICATION OF PREGNANCY OR CHILDBIRTH</td>\n",
       "      <td>MONDO:MONDO:0024575</td>\n",
       "    </tr>\n",
       "    <tr>\n",
       "      <th>36</th>\n",
       "      <td>CMV INFECTION</td>\n",
       "      <td>Disease</td>\n",
       "      <td>treated_by</td>\n",
       "      <td>SEMMED</td>\n",
       "      <td>SEMMED Disease API</td>\n",
       "      <td>24308761,25133815,7634876</td>\n",
       "      <td>None</td>\n",
       "      <td>ChemicalSubstance</td>\n",
       "      <td>ADRENAL CORTEX HORMONES</td>\n",
       "      <td>name:ADRENAL CORTEX HORMONES</td>\n",
       "      <td>treated_by</td>\n",
       "      <td>SEMMED</td>\n",
       "      <td>SEMMED Disease API</td>\n",
       "      <td>14607060</td>\n",
       "      <td>None</td>\n",
       "      <td>ChemicalSubstance</td>\n",
       "      <td>COMPLICATION OF PREGNANCY OR CHILDBIRTH</td>\n",
       "      <td>MONDO:MONDO:0024575</td>\n",
       "    </tr>\n",
       "    <tr>\n",
       "      <th>37</th>\n",
       "      <td>CMV INFECTION</td>\n",
       "      <td>Disease</td>\n",
       "      <td>treated_by</td>\n",
       "      <td>SEMMED</td>\n",
       "      <td>SEMMED Disease API</td>\n",
       "      <td>11903944</td>\n",
       "      <td>None</td>\n",
       "      <td>ChemicalSubstance</td>\n",
       "      <td>ANESTHETICS</td>\n",
       "      <td>name:ANESTHETICS</td>\n",
       "      <td>treated_by</td>\n",
       "      <td>SEMMED</td>\n",
       "      <td>SEMMED Disease API</td>\n",
       "      <td>14556345,3356054</td>\n",
       "      <td>None</td>\n",
       "      <td>ChemicalSubstance</td>\n",
       "      <td>COMPLICATION OF PREGNANCY OR CHILDBIRTH</td>\n",
       "      <td>MONDO:MONDO:0024575</td>\n",
       "    </tr>\n",
       "    <tr>\n",
       "      <th>38</th>\n",
       "      <td>CMV INFECTION</td>\n",
       "      <td>Disease</td>\n",
       "      <td>treated_by</td>\n",
       "      <td>SEMMED</td>\n",
       "      <td>SEMMED Disease API</td>\n",
       "      <td>15598337</td>\n",
       "      <td>None</td>\n",
       "      <td>ChemicalSubstance</td>\n",
       "      <td>BIOLOGICAL PRODUCTS</td>\n",
       "      <td>name:BIOLOGICAL PRODUCTS</td>\n",
       "      <td>treated_by</td>\n",
       "      <td>SEMMED</td>\n",
       "      <td>SEMMED Disease API</td>\n",
       "      <td>25550090</td>\n",
       "      <td>None</td>\n",
       "      <td>ChemicalSubstance</td>\n",
       "      <td>COMPLICATION OF PREGNANCY OR CHILDBIRTH</td>\n",
       "      <td>MONDO:MONDO:0024575</td>\n",
       "    </tr>\n",
       "    <tr>\n",
       "      <th>39</th>\n",
       "      <td>CMV INFECTION</td>\n",
       "      <td>Disease</td>\n",
       "      <td>affected_by</td>\n",
       "      <td>SEMMED</td>\n",
       "      <td>SEMMED Disease API</td>\n",
       "      <td>1693943</td>\n",
       "      <td>None</td>\n",
       "      <td>ChemicalSubstance</td>\n",
       "      <td>(S)-4-PREGNENE-3,20-DIONE</td>\n",
       "      <td>name:(S)-4-PREGNENE-3,20-DIONE</td>\n",
       "      <td>treated_by</td>\n",
       "      <td>SEMMED</td>\n",
       "      <td>SEMMED Disease API</td>\n",
       "      <td>172407,7271439</td>\n",
       "      <td>None</td>\n",
       "      <td>ChemicalSubstance</td>\n",
       "      <td>COMPLICATION OF PREGNANCY OR CHILDBIRTH</td>\n",
       "      <td>MONDO:MONDO:0024575</td>\n",
       "    </tr>\n",
       "    <tr>\n",
       "      <th>40</th>\n",
       "      <td>CMV INFECTION</td>\n",
       "      <td>Disease</td>\n",
       "      <td>affected_by</td>\n",
       "      <td>SEMMED</td>\n",
       "      <td>SEMMED Disease API</td>\n",
       "      <td>1693943</td>\n",
       "      <td>None</td>\n",
       "      <td>ChemicalSubstance</td>\n",
       "      <td>(S)-4-PREGNENE-3,20-DIONE</td>\n",
       "      <td>name:(S)-4-PREGNENE-3,20-DIONE</td>\n",
       "      <td>related_to</td>\n",
       "      <td>SEMMED</td>\n",
       "      <td>SEMMED Disease API</td>\n",
       "      <td>28527571</td>\n",
       "      <td>None</td>\n",
       "      <td>ChemicalSubstance</td>\n",
       "      <td>COMPLICATION OF PREGNANCY OR CHILDBIRTH</td>\n",
       "      <td>MONDO:MONDO:0024575</td>\n",
       "    </tr>\n",
       "    <tr>\n",
       "      <th>41</th>\n",
       "      <td>CMV INFECTION</td>\n",
       "      <td>Disease</td>\n",
       "      <td>treated_by</td>\n",
       "      <td>SEMMED</td>\n",
       "      <td>SEMMED Disease API</td>\n",
       "      <td>2830344</td>\n",
       "      <td>None</td>\n",
       "      <td>ChemicalSubstance</td>\n",
       "      <td>ANABOLIC STEROIDS</td>\n",
       "      <td>name:ANABOLIC STEROIDS</td>\n",
       "      <td>treated_by</td>\n",
       "      <td>SEMMED</td>\n",
       "      <td>SEMMED Disease API</td>\n",
       "      <td>15405982</td>\n",
       "      <td>None</td>\n",
       "      <td>ChemicalSubstance</td>\n",
       "      <td>COMPLICATION OF PREGNANCY OR CHILDBIRTH</td>\n",
       "      <td>MONDO:MONDO:0024575</td>\n",
       "    </tr>\n",
       "    <tr>\n",
       "      <th>42</th>\n",
       "      <td>CMV INFECTION</td>\n",
       "      <td>Disease</td>\n",
       "      <td>related_to</td>\n",
       "      <td>SEMMED</td>\n",
       "      <td>SEMMED Disease API</td>\n",
       "      <td>15893280,2830344</td>\n",
       "      <td>None</td>\n",
       "      <td>ChemicalSubstance</td>\n",
       "      <td>ANABOLIC STEROIDS</td>\n",
       "      <td>name:ANABOLIC STEROIDS</td>\n",
       "      <td>treated_by</td>\n",
       "      <td>SEMMED</td>\n",
       "      <td>SEMMED Disease API</td>\n",
       "      <td>15405982</td>\n",
       "      <td>None</td>\n",
       "      <td>ChemicalSubstance</td>\n",
       "      <td>COMPLICATION OF PREGNANCY OR CHILDBIRTH</td>\n",
       "      <td>MONDO:MONDO:0024575</td>\n",
       "    </tr>\n",
       "    <tr>\n",
       "      <th>43</th>\n",
       "      <td>CMV INFECTION</td>\n",
       "      <td>Disease</td>\n",
       "      <td>related_to</td>\n",
       "      <td>SEMMED</td>\n",
       "      <td>SEMMED Disease API</td>\n",
       "      <td>22094898</td>\n",
       "      <td>None</td>\n",
       "      <td>ChemicalSubstance</td>\n",
       "      <td>30ZN</td>\n",
       "      <td>name:30ZN</td>\n",
       "      <td>treated_by</td>\n",
       "      <td>SEMMED</td>\n",
       "      <td>SEMMED Disease API</td>\n",
       "      <td>15922790</td>\n",
       "      <td>None</td>\n",
       "      <td>ChemicalSubstance</td>\n",
       "      <td>COMPLICATION OF PREGNANCY OR CHILDBIRTH</td>\n",
       "      <td>MONDO:MONDO:0024575</td>\n",
       "    </tr>\n",
       "    <tr>\n",
       "      <th>44</th>\n",
       "      <td>CMV INFECTION</td>\n",
       "      <td>Disease</td>\n",
       "      <td>related_to</td>\n",
       "      <td>SEMMED</td>\n",
       "      <td>SEMMED Disease API</td>\n",
       "      <td>22094898</td>\n",
       "      <td>None</td>\n",
       "      <td>ChemicalSubstance</td>\n",
       "      <td>30ZN</td>\n",
       "      <td>name:30ZN</td>\n",
       "      <td>related_to</td>\n",
       "      <td>SEMMED</td>\n",
       "      <td>SEMMED Disease API</td>\n",
       "      <td>27754451,3247831</td>\n",
       "      <td>None</td>\n",
       "      <td>ChemicalSubstance</td>\n",
       "      <td>COMPLICATION OF PREGNANCY OR CHILDBIRTH</td>\n",
       "      <td>MONDO:MONDO:0024575</td>\n",
       "    </tr>\n",
       "    <tr>\n",
       "      <th>45</th>\n",
       "      <td>CMV INFECTION</td>\n",
       "      <td>Disease</td>\n",
       "      <td>related_to</td>\n",
       "      <td>SEMMED</td>\n",
       "      <td>SEMMED Disease API</td>\n",
       "      <td>22094898</td>\n",
       "      <td>None</td>\n",
       "      <td>ChemicalSubstance</td>\n",
       "      <td>30ZN</td>\n",
       "      <td>name:30ZN</td>\n",
       "      <td>affected_by</td>\n",
       "      <td>SEMMED</td>\n",
       "      <td>SEMMED Disease API</td>\n",
       "      <td>2044157</td>\n",
       "      <td>None</td>\n",
       "      <td>ChemicalSubstance</td>\n",
       "      <td>COMPLICATION OF PREGNANCY OR CHILDBIRTH</td>\n",
       "      <td>MONDO:MONDO:0024575</td>\n",
       "    </tr>\n",
       "    <tr>\n",
       "      <th>46</th>\n",
       "      <td>CMV INFECTION</td>\n",
       "      <td>Disease</td>\n",
       "      <td>disrupted_by</td>\n",
       "      <td>SEMMED</td>\n",
       "      <td>SEMMED Disease API</td>\n",
       "      <td>16737484,27144097</td>\n",
       "      <td>None</td>\n",
       "      <td>ChemicalSubstance</td>\n",
       "      <td>IMMUNOMODULATORS</td>\n",
       "      <td>name:IMMUNOMODULATORS</td>\n",
       "      <td>treated_by</td>\n",
       "      <td>SEMMED</td>\n",
       "      <td>SEMMED Disease API</td>\n",
       "      <td>27108670</td>\n",
       "      <td>None</td>\n",
       "      <td>ChemicalSubstance</td>\n",
       "      <td>COMPLICATION OF PREGNANCY OR CHILDBIRTH</td>\n",
       "      <td>MONDO:MONDO:0024575</td>\n",
       "    </tr>\n",
       "    <tr>\n",
       "      <th>47</th>\n",
       "      <td>CMV INFECTION</td>\n",
       "      <td>Disease</td>\n",
       "      <td>treated_by</td>\n",
       "      <td>SEMMED</td>\n",
       "      <td>SEMMED Disease API</td>\n",
       "      <td>21243491,9708573</td>\n",
       "      <td>None</td>\n",
       "      <td>ChemicalSubstance</td>\n",
       "      <td>IMMUNOMODULATORS</td>\n",
       "      <td>name:IMMUNOMODULATORS</td>\n",
       "      <td>treated_by</td>\n",
       "      <td>SEMMED</td>\n",
       "      <td>SEMMED Disease API</td>\n",
       "      <td>27108670</td>\n",
       "      <td>None</td>\n",
       "      <td>ChemicalSubstance</td>\n",
       "      <td>COMPLICATION OF PREGNANCY OR CHILDBIRTH</td>\n",
       "      <td>MONDO:MONDO:0024575</td>\n",
       "    </tr>\n",
       "    <tr>\n",
       "      <th>48</th>\n",
       "      <td>CMV INFECTION</td>\n",
       "      <td>Disease</td>\n",
       "      <td>affected_by</td>\n",
       "      <td>SEMMED</td>\n",
       "      <td>SEMMED Disease API</td>\n",
       "      <td>22393447,22551151</td>\n",
       "      <td>None</td>\n",
       "      <td>ChemicalSubstance</td>\n",
       "      <td>IMMUNOMODULATORS</td>\n",
       "      <td>name:IMMUNOMODULATORS</td>\n",
       "      <td>treated_by</td>\n",
       "      <td>SEMMED</td>\n",
       "      <td>SEMMED Disease API</td>\n",
       "      <td>27108670</td>\n",
       "      <td>None</td>\n",
       "      <td>ChemicalSubstance</td>\n",
       "      <td>COMPLICATION OF PREGNANCY OR CHILDBIRTH</td>\n",
       "      <td>MONDO:MONDO:0024575</td>\n",
       "    </tr>\n",
       "    <tr>\n",
       "      <th>49</th>\n",
       "      <td>CMV INFECTION</td>\n",
       "      <td>Disease</td>\n",
       "      <td>related_to</td>\n",
       "      <td>SEMMED</td>\n",
       "      <td>SEMMED Disease API</td>\n",
       "      <td>20398295</td>\n",
       "      <td>None</td>\n",
       "      <td>ChemicalSubstance</td>\n",
       "      <td>3-METHYLADENINE DNA</td>\n",
       "      <td>name:3-METHYLADENINE DNA</td>\n",
       "      <td>related_to</td>\n",
       "      <td>SEMMED</td>\n",
       "      <td>SEMMED Disease API</td>\n",
       "      <td>27679863,28590928,29069759</td>\n",
       "      <td>None</td>\n",
       "      <td>ChemicalSubstance</td>\n",
       "      <td>COMPLICATION OF PREGNANCY OR CHILDBIRTH</td>\n",
       "      <td>MONDO:MONDO:0024575</td>\n",
       "    </tr>\n",
       "    <tr>\n",
       "      <th>50</th>\n",
       "      <td>CMV INFECTION</td>\n",
       "      <td>Disease</td>\n",
       "      <td>related_to</td>\n",
       "      <td>SEMMED</td>\n",
       "      <td>SEMMED Disease API</td>\n",
       "      <td>26717490</td>\n",
       "      <td>None</td>\n",
       "      <td>ChemicalSubstance</td>\n",
       "      <td>(+)-GLUCOSE</td>\n",
       "      <td>name:(+)-GLUCOSE</td>\n",
       "      <td>related_to</td>\n",
       "      <td>SEMMED</td>\n",
       "      <td>SEMMED Disease API</td>\n",
       "      <td>15512142</td>\n",
       "      <td>None</td>\n",
       "      <td>ChemicalSubstance</td>\n",
       "      <td>COMPLICATION OF PREGNANCY OR CHILDBIRTH</td>\n",
       "      <td>MONDO:MONDO:0024575</td>\n",
       "    </tr>\n",
       "    <tr>\n",
       "      <th>51</th>\n",
       "      <td>CMV INFECTION</td>\n",
       "      <td>Disease</td>\n",
       "      <td>related_to</td>\n",
       "      <td>SEMMED</td>\n",
       "      <td>SEMMED Disease API</td>\n",
       "      <td>26717490</td>\n",
       "      <td>None</td>\n",
       "      <td>ChemicalSubstance</td>\n",
       "      <td>(+)-GLUCOSE</td>\n",
       "      <td>name:(+)-GLUCOSE</td>\n",
       "      <td>affected_by</td>\n",
       "      <td>SEMMED</td>\n",
       "      <td>SEMMED Disease API</td>\n",
       "      <td>17582493,22687819</td>\n",
       "      <td>None</td>\n",
       "      <td>ChemicalSubstance</td>\n",
       "      <td>COMPLICATION OF PREGNANCY OR CHILDBIRTH</td>\n",
       "      <td>MONDO:MONDO:0024575</td>\n",
       "    </tr>\n",
       "    <tr>\n",
       "      <th>52</th>\n",
       "      <td>CMV INFECTION</td>\n",
       "      <td>Disease</td>\n",
       "      <td>related_to</td>\n",
       "      <td>SEMMED</td>\n",
       "      <td>SEMMED Disease API</td>\n",
       "      <td>23592989</td>\n",
       "      <td>None</td>\n",
       "      <td>ChemicalSubstance</td>\n",
       "      <td>LIPIDS</td>\n",
       "      <td>name:LIPIDS</td>\n",
       "      <td>related_to</td>\n",
       "      <td>SEMMED</td>\n",
       "      <td>SEMMED Disease API</td>\n",
       "      <td>28392013</td>\n",
       "      <td>None</td>\n",
       "      <td>ChemicalSubstance</td>\n",
       "      <td>COMPLICATION OF PREGNANCY OR CHILDBIRTH</td>\n",
       "      <td>MONDO:MONDO:0024575</td>\n",
       "    </tr>\n",
       "    <tr>\n",
       "      <th>53</th>\n",
       "      <td>CMV INFECTION</td>\n",
       "      <td>Disease</td>\n",
       "      <td>related_to</td>\n",
       "      <td>SEMMED</td>\n",
       "      <td>SEMMED Disease API</td>\n",
       "      <td>28229547</td>\n",
       "      <td>None</td>\n",
       "      <td>ChemicalSubstance</td>\n",
       "      <td>TRIGLYCERIDES</td>\n",
       "      <td>name:TRIGLYCERIDES</td>\n",
       "      <td>related_to</td>\n",
       "      <td>SEMMED</td>\n",
       "      <td>SEMMED Disease API</td>\n",
       "      <td>17468256,19631920</td>\n",
       "      <td>None</td>\n",
       "      <td>ChemicalSubstance</td>\n",
       "      <td>COMPLICATION OF PREGNANCY OR CHILDBIRTH</td>\n",
       "      <td>MONDO:MONDO:0024575</td>\n",
       "    </tr>\n",
       "    <tr>\n",
       "      <th>54</th>\n",
       "      <td>CMV INFECTION</td>\n",
       "      <td>Disease</td>\n",
       "      <td>disrupted_by</td>\n",
       "      <td>SEMMED</td>\n",
       "      <td>SEMMED Disease API</td>\n",
       "      <td>26763147</td>\n",
       "      <td>None</td>\n",
       "      <td>ChemicalSubstance</td>\n",
       "      <td>OXYGEN SPECIES, REACTIVE</td>\n",
       "      <td>name:OXYGEN SPECIES, REACTIVE</td>\n",
       "      <td>related_to</td>\n",
       "      <td>SEMMED</td>\n",
       "      <td>SEMMED Disease API</td>\n",
       "      <td>24439294</td>\n",
       "      <td>None</td>\n",
       "      <td>ChemicalSubstance</td>\n",
       "      <td>COMPLICATION OF PREGNANCY OR CHILDBIRTH</td>\n",
       "      <td>MONDO:MONDO:0024575</td>\n",
       "    </tr>\n",
       "    <tr>\n",
       "      <th>55</th>\n",
       "      <td>CMV INFECTION</td>\n",
       "      <td>Disease</td>\n",
       "      <td>related_to</td>\n",
       "      <td>ctd</td>\n",
       "      <td>mydisease.info API</td>\n",
       "      <td>16688530</td>\n",
       "      <td>None</td>\n",
       "      <td>ChemicalSubstance</td>\n",
       "      <td>CGP 42446A</td>\n",
       "      <td>name:CGP 42446A</td>\n",
       "      <td>related_to</td>\n",
       "      <td>ctd</td>\n",
       "      <td>mydisease.info API</td>\n",
       "      <td>11932298</td>\n",
       "      <td>None</td>\n",
       "      <td>ChemicalSubstance</td>\n",
       "      <td>COMPLICATION OF PREGNANCY OR CHILDBIRTH</td>\n",
       "      <td>MONDO:MONDO:0024575</td>\n",
       "    </tr>\n",
       "    <tr>\n",
       "      <th>56</th>\n",
       "      <td>CMV INFECTION</td>\n",
       "      <td>Disease</td>\n",
       "      <td>related_to</td>\n",
       "      <td>ctd</td>\n",
       "      <td>mydisease.info API</td>\n",
       "      <td>16688530</td>\n",
       "      <td>None</td>\n",
       "      <td>ChemicalSubstance</td>\n",
       "      <td>CGP 42446A</td>\n",
       "      <td>name:CGP 42446A</td>\n",
       "      <td>related_to</td>\n",
       "      <td>ctd</td>\n",
       "      <td>mydisease.info API</td>\n",
       "      <td>19636672</td>\n",
       "      <td>None</td>\n",
       "      <td>ChemicalSubstance</td>\n",
       "      <td>COMPLICATION OF PREGNANCY OR CHILDBIRTH</td>\n",
       "      <td>MONDO:MONDO:0024575</td>\n",
       "    </tr>\n",
       "  </tbody>\n",
       "</table>\n",
       "</div>"
      ],
      "text/plain": [
       "            input input_type         pred1 pred1_source           pred1_api  \\\n",
       "0   CMV INFECTION    Disease     caused_by       SEMMED  SEMMED Disease API   \n",
       "1   CMV INFECTION    Disease    treated_by       SEMMED  SEMMED Disease API   \n",
       "2   CMV INFECTION    Disease     caused_by       SEMMED  SEMMED Disease API   \n",
       "3   CMV INFECTION    Disease    treated_by       SEMMED  SEMMED Disease API   \n",
       "4   CMV INFECTION    Disease    treated_by       SEMMED  SEMMED Disease API   \n",
       "5   CMV INFECTION    Disease    treated_by       SEMMED  SEMMED Disease API   \n",
       "6   CMV INFECTION    Disease  prevented_by       SEMMED  SEMMED Disease API   \n",
       "7   CMV INFECTION    Disease   affected_by       SEMMED  SEMMED Disease API   \n",
       "8   CMV INFECTION    Disease    treated_by       SEMMED  SEMMED Disease API   \n",
       "9   CMV INFECTION    Disease  prevented_by       SEMMED  SEMMED Disease API   \n",
       "10  CMV INFECTION    Disease   affected_by       SEMMED  SEMMED Disease API   \n",
       "11  CMV INFECTION    Disease    related_to       SEMMED  SEMMED Disease API   \n",
       "12  CMV INFECTION    Disease   affected_by       SEMMED  SEMMED Disease API   \n",
       "13  CMV INFECTION    Disease    related_to       SEMMED  SEMMED Disease API   \n",
       "14  CMV INFECTION    Disease   affected_by       SEMMED  SEMMED Disease API   \n",
       "15  CMV INFECTION    Disease    related_to       SEMMED  SEMMED Disease API   \n",
       "16  CMV INFECTION    Disease    related_to       SEMMED  SEMMED Disease API   \n",
       "17  CMV INFECTION    Disease  prevented_by       SEMMED  SEMMED Disease API   \n",
       "18  CMV INFECTION    Disease    related_to       SEMMED  SEMMED Disease API   \n",
       "19  CMV INFECTION    Disease   affected_by       SEMMED  SEMMED Disease API   \n",
       "20  CMV INFECTION    Disease  prevented_by       SEMMED  SEMMED Disease API   \n",
       "21  CMV INFECTION    Disease    related_to       SEMMED  SEMMED Disease API   \n",
       "22  CMV INFECTION    Disease   affected_by       SEMMED  SEMMED Disease API   \n",
       "23  CMV INFECTION    Disease  prevented_by       SEMMED  SEMMED Disease API   \n",
       "24  CMV INFECTION    Disease     caused_by       SEMMED  SEMMED Disease API   \n",
       "25  CMV INFECTION    Disease   affected_by       SEMMED  SEMMED Disease API   \n",
       "26  CMV INFECTION    Disease    treated_by       SEMMED  SEMMED Disease API   \n",
       "27  CMV INFECTION    Disease    treated_by       SEMMED  SEMMED Disease API   \n",
       "28  CMV INFECTION    Disease    treated_by       SEMMED  SEMMED Disease API   \n",
       "29  CMV INFECTION    Disease    treated_by       SEMMED  SEMMED Disease API   \n",
       "30  CMV INFECTION    Disease    related_to       SEMMED  SEMMED Disease API   \n",
       "31  CMV INFECTION    Disease   affected_by       SEMMED  SEMMED Disease API   \n",
       "32  CMV INFECTION    Disease    related_to       SEMMED  SEMMED Disease API   \n",
       "33  CMV INFECTION    Disease   affected_by       SEMMED  SEMMED Disease API   \n",
       "34  CMV INFECTION    Disease    related_to       SEMMED  SEMMED Disease API   \n",
       "35  CMV INFECTION    Disease   affected_by       SEMMED  SEMMED Disease API   \n",
       "36  CMV INFECTION    Disease    treated_by       SEMMED  SEMMED Disease API   \n",
       "37  CMV INFECTION    Disease    treated_by       SEMMED  SEMMED Disease API   \n",
       "38  CMV INFECTION    Disease    treated_by       SEMMED  SEMMED Disease API   \n",
       "39  CMV INFECTION    Disease   affected_by       SEMMED  SEMMED Disease API   \n",
       "40  CMV INFECTION    Disease   affected_by       SEMMED  SEMMED Disease API   \n",
       "41  CMV INFECTION    Disease    treated_by       SEMMED  SEMMED Disease API   \n",
       "42  CMV INFECTION    Disease    related_to       SEMMED  SEMMED Disease API   \n",
       "43  CMV INFECTION    Disease    related_to       SEMMED  SEMMED Disease API   \n",
       "44  CMV INFECTION    Disease    related_to       SEMMED  SEMMED Disease API   \n",
       "45  CMV INFECTION    Disease    related_to       SEMMED  SEMMED Disease API   \n",
       "46  CMV INFECTION    Disease  disrupted_by       SEMMED  SEMMED Disease API   \n",
       "47  CMV INFECTION    Disease    treated_by       SEMMED  SEMMED Disease API   \n",
       "48  CMV INFECTION    Disease   affected_by       SEMMED  SEMMED Disease API   \n",
       "49  CMV INFECTION    Disease    related_to       SEMMED  SEMMED Disease API   \n",
       "50  CMV INFECTION    Disease    related_to       SEMMED  SEMMED Disease API   \n",
       "51  CMV INFECTION    Disease    related_to       SEMMED  SEMMED Disease API   \n",
       "52  CMV INFECTION    Disease    related_to       SEMMED  SEMMED Disease API   \n",
       "53  CMV INFECTION    Disease    related_to       SEMMED  SEMMED Disease API   \n",
       "54  CMV INFECTION    Disease  disrupted_by       SEMMED  SEMMED Disease API   \n",
       "55  CMV INFECTION    Disease    related_to          ctd  mydisease.info API   \n",
       "56  CMV INFECTION    Disease    related_to          ctd  mydisease.info API   \n",
       "\n",
       "                                         pred1_pubmed pred1_method  \\\n",
       "0                                            22205740         None   \n",
       "1                                             8547414         None   \n",
       "2                                             6261220         None   \n",
       "3                                             9686761         None   \n",
       "4                                             9686761         None   \n",
       "5   10974369,11063338,11704769,11789257,12834313,1...         None   \n",
       "6                 10320043,11270937,24010993,25637709         None   \n",
       "7                                             8856026         None   \n",
       "8   10974369,11063338,11704769,11789257,12834313,1...         None   \n",
       "9                 10320043,11270937,24010993,25637709         None   \n",
       "10                                            8856026         None   \n",
       "11                                           11684579         None   \n",
       "12                                            1310777         None   \n",
       "13                                           11684579         None   \n",
       "14                                            1310777         None   \n",
       "15                                           27520300         None   \n",
       "16                                           27520300         None   \n",
       "17                                  18059104,21860612         None   \n",
       "18            4343614,6094671,6264020,6309659,8866799         None   \n",
       "19                                            7831216         None   \n",
       "20                                  18059104,21860612         None   \n",
       "21            4343614,6094671,6264020,6309659,8866799         None   \n",
       "22                                            7831216         None   \n",
       "23                                            6202880         None   \n",
       "24                                           16501846         None   \n",
       "25                                            8896490         None   \n",
       "26                                           16095507         None   \n",
       "27                                           16095507         None   \n",
       "28                                           16095507         None   \n",
       "29                                           16095507         None   \n",
       "30                                           21545855         None   \n",
       "31                         17928340,20969901,24533100         None   \n",
       "32                                           21545855         None   \n",
       "33                         17928340,20969901,24533100         None   \n",
       "34                                           21545855         None   \n",
       "35                         17928340,20969901,24533100         None   \n",
       "36                          24308761,25133815,7634876         None   \n",
       "37                                           11903944         None   \n",
       "38                                           15598337         None   \n",
       "39                                            1693943         None   \n",
       "40                                            1693943         None   \n",
       "41                                            2830344         None   \n",
       "42                                   15893280,2830344         None   \n",
       "43                                           22094898         None   \n",
       "44                                           22094898         None   \n",
       "45                                           22094898         None   \n",
       "46                                  16737484,27144097         None   \n",
       "47                                   21243491,9708573         None   \n",
       "48                                  22393447,22551151         None   \n",
       "49                                           20398295         None   \n",
       "50                                           26717490         None   \n",
       "51                                           26717490         None   \n",
       "52                                           23592989         None   \n",
       "53                                           28229547         None   \n",
       "54                                           26763147         None   \n",
       "55                                           16688530         None   \n",
       "56                                           16688530         None   \n",
       "\n",
       "           node1_type                                         node1_name  \\\n",
       "0   ChemicalSubstance                                           C0597177   \n",
       "1   ChemicalSubstance                                         ANTIBIOTIC   \n",
       "2   ChemicalSubstance                                         ANTIBIOTIC   \n",
       "3   ChemicalSubstance                          2-(ACETYLOXY)BENZOIC ACID   \n",
       "4   ChemicalSubstance                          2-(ACETYLOXY)BENZOIC ACID   \n",
       "5   ChemicalSubstance                        PHARMACEUTICAL PREPARATIONS   \n",
       "6   ChemicalSubstance                        PHARMACEUTICAL PREPARATIONS   \n",
       "7   ChemicalSubstance                        PHARMACEUTICAL PREPARATIONS   \n",
       "8   ChemicalSubstance                        PHARMACEUTICAL PREPARATIONS   \n",
       "9   ChemicalSubstance                        PHARMACEUTICAL PREPARATIONS   \n",
       "10  ChemicalSubstance                        PHARMACEUTICAL PREPARATIONS   \n",
       "11  ChemicalSubstance  (2R,3R,4S)-2-({(2R,3S,4R,5R,6S)-4,6-DIHYDROXY-...   \n",
       "12  ChemicalSubstance  (2R,3R,4S)-2-({(2R,3S,4R,5R,6S)-4,6-DIHYDROXY-...   \n",
       "13  ChemicalSubstance  (2R,3R,4S)-2-({(2R,3S,4R,5R,6S)-4,6-DIHYDROXY-...   \n",
       "14  ChemicalSubstance  (2R,3R,4S)-2-({(2R,3S,4R,5R,6S)-4,6-DIHYDROXY-...   \n",
       "15  ChemicalSubstance                                          VITAMIN D   \n",
       "16  ChemicalSubstance                                          VITAMIN D   \n",
       "17  ChemicalSubstance                       ADSORBED HEPATITIS B VACCINE   \n",
       "18  ChemicalSubstance                       ADSORBED HEPATITIS B VACCINE   \n",
       "19  ChemicalSubstance                       ADSORBED HEPATITIS B VACCINE   \n",
       "20  ChemicalSubstance                       ADSORBED HEPATITIS B VACCINE   \n",
       "21  ChemicalSubstance                       ADSORBED HEPATITIS B VACCINE   \n",
       "22  ChemicalSubstance                       ADSORBED HEPATITIS B VACCINE   \n",
       "23  ChemicalSubstance                      BIOLOGICAL RESPONSE MODIFIERS   \n",
       "24  ChemicalSubstance                      BIOLOGICAL RESPONSE MODIFIERS   \n",
       "25  ChemicalSubstance                                LIPOPOLYSACCHARIDES   \n",
       "26  ChemicalSubstance                                             FOLATE   \n",
       "27  ChemicalSubstance                                             FOLATE   \n",
       "28  ChemicalSubstance                                             FOLATE   \n",
       "29  ChemicalSubstance                                             FOLATE   \n",
       "30  ChemicalSubstance                                           MICRORNA   \n",
       "31  ChemicalSubstance                                           MICRORNA   \n",
       "32  ChemicalSubstance                                           MICRORNA   \n",
       "33  ChemicalSubstance                                           MICRORNA   \n",
       "34  ChemicalSubstance                                           MICRORNA   \n",
       "35  ChemicalSubstance                                           MICRORNA   \n",
       "36  ChemicalSubstance                            ADRENAL CORTEX HORMONES   \n",
       "37  ChemicalSubstance                                        ANESTHETICS   \n",
       "38  ChemicalSubstance                                BIOLOGICAL PRODUCTS   \n",
       "39  ChemicalSubstance                          (S)-4-PREGNENE-3,20-DIONE   \n",
       "40  ChemicalSubstance                          (S)-4-PREGNENE-3,20-DIONE   \n",
       "41  ChemicalSubstance                                  ANABOLIC STEROIDS   \n",
       "42  ChemicalSubstance                                  ANABOLIC STEROIDS   \n",
       "43  ChemicalSubstance                                               30ZN   \n",
       "44  ChemicalSubstance                                               30ZN   \n",
       "45  ChemicalSubstance                                               30ZN   \n",
       "46  ChemicalSubstance                                   IMMUNOMODULATORS   \n",
       "47  ChemicalSubstance                                   IMMUNOMODULATORS   \n",
       "48  ChemicalSubstance                                   IMMUNOMODULATORS   \n",
       "49  ChemicalSubstance                                3-METHYLADENINE DNA   \n",
       "50  ChemicalSubstance                                        (+)-GLUCOSE   \n",
       "51  ChemicalSubstance                                        (+)-GLUCOSE   \n",
       "52  ChemicalSubstance                                             LIPIDS   \n",
       "53  ChemicalSubstance                                      TRIGLYCERIDES   \n",
       "54  ChemicalSubstance                           OXYGEN SPECIES, REACTIVE   \n",
       "55  ChemicalSubstance                                         CGP 42446A   \n",
       "56  ChemicalSubstance                                         CGP 42446A   \n",
       "\n",
       "                                             node1_id         pred2  \\\n",
       "0                                       UMLS:C0597177    treated_by   \n",
       "1                                     name:ANTIBIOTIC  prevented_by   \n",
       "2                                     name:ANTIBIOTIC  prevented_by   \n",
       "3                      name:2-(ACETYLOXY)BENZOIC ACID  prevented_by   \n",
       "4                      name:2-(ACETYLOXY)BENZOIC ACID    treated_by   \n",
       "5                    name:PHARMACEUTICAL PREPARATIONS  prevented_by   \n",
       "6                    name:PHARMACEUTICAL PREPARATIONS  prevented_by   \n",
       "7                    name:PHARMACEUTICAL PREPARATIONS  prevented_by   \n",
       "8                    name:PHARMACEUTICAL PREPARATIONS    treated_by   \n",
       "9                    name:PHARMACEUTICAL PREPARATIONS    treated_by   \n",
       "10                   name:PHARMACEUTICAL PREPARATIONS    treated_by   \n",
       "11  name:(2R,3R,4S)-2-({(2R,3S,4R,5R,6S)-4,6-DIHYD...  prevented_by   \n",
       "12  name:(2R,3R,4S)-2-({(2R,3S,4R,5R,6S)-4,6-DIHYD...  prevented_by   \n",
       "13  name:(2R,3R,4S)-2-({(2R,3S,4R,5R,6S)-4,6-DIHYD...    treated_by   \n",
       "14  name:(2R,3R,4S)-2-({(2R,3S,4R,5R,6S)-4,6-DIHYD...    treated_by   \n",
       "15                                     name:VITAMIN D  prevented_by   \n",
       "16                                     name:VITAMIN D    related_to   \n",
       "17                  name:ADSORBED HEPATITIS B VACCINE     caused_by   \n",
       "18                  name:ADSORBED HEPATITIS B VACCINE     caused_by   \n",
       "19                  name:ADSORBED HEPATITIS B VACCINE     caused_by   \n",
       "20                  name:ADSORBED HEPATITIS B VACCINE    related_to   \n",
       "21                  name:ADSORBED HEPATITIS B VACCINE    related_to   \n",
       "22                  name:ADSORBED HEPATITIS B VACCINE    related_to   \n",
       "23                 name:BIOLOGICAL RESPONSE MODIFIERS     caused_by   \n",
       "24                 name:BIOLOGICAL RESPONSE MODIFIERS     caused_by   \n",
       "25                           name:LIPOPOLYSACCHARIDES     caused_by   \n",
       "26                                        name:FOLATE     caused_by   \n",
       "27                                        name:FOLATE    treated_by   \n",
       "28                                        name:FOLATE    related_to   \n",
       "29                                        name:FOLATE   affected_by   \n",
       "30                                      name:MICRORNA     caused_by   \n",
       "31                                      name:MICRORNA     caused_by   \n",
       "32                                      name:MICRORNA    related_to   \n",
       "33                                      name:MICRORNA    related_to   \n",
       "34                                      name:MICRORNA   affected_by   \n",
       "35                                      name:MICRORNA   affected_by   \n",
       "36                       name:ADRENAL CORTEX HORMONES    treated_by   \n",
       "37                                   name:ANESTHETICS    treated_by   \n",
       "38                           name:BIOLOGICAL PRODUCTS    treated_by   \n",
       "39                     name:(S)-4-PREGNENE-3,20-DIONE    treated_by   \n",
       "40                     name:(S)-4-PREGNENE-3,20-DIONE    related_to   \n",
       "41                             name:ANABOLIC STEROIDS    treated_by   \n",
       "42                             name:ANABOLIC STEROIDS    treated_by   \n",
       "43                                          name:30ZN    treated_by   \n",
       "44                                          name:30ZN    related_to   \n",
       "45                                          name:30ZN   affected_by   \n",
       "46                              name:IMMUNOMODULATORS    treated_by   \n",
       "47                              name:IMMUNOMODULATORS    treated_by   \n",
       "48                              name:IMMUNOMODULATORS    treated_by   \n",
       "49                           name:3-METHYLADENINE DNA    related_to   \n",
       "50                                   name:(+)-GLUCOSE    related_to   \n",
       "51                                   name:(+)-GLUCOSE   affected_by   \n",
       "52                                        name:LIPIDS    related_to   \n",
       "53                                 name:TRIGLYCERIDES    related_to   \n",
       "54                      name:OXYGEN SPECIES, REACTIVE    related_to   \n",
       "55                                    name:CGP 42446A    related_to   \n",
       "56                                    name:CGP 42446A    related_to   \n",
       "\n",
       "   pred2_source           pred2_api  \\\n",
       "0        SEMMED  SEMMED Disease API   \n",
       "1        SEMMED  SEMMED Disease API   \n",
       "2        SEMMED  SEMMED Disease API   \n",
       "3        SEMMED  SEMMED Disease API   \n",
       "4        SEMMED  SEMMED Disease API   \n",
       "5        SEMMED  SEMMED Disease API   \n",
       "6        SEMMED  SEMMED Disease API   \n",
       "7        SEMMED  SEMMED Disease API   \n",
       "8        SEMMED  SEMMED Disease API   \n",
       "9        SEMMED  SEMMED Disease API   \n",
       "10       SEMMED  SEMMED Disease API   \n",
       "11       SEMMED  SEMMED Disease API   \n",
       "12       SEMMED  SEMMED Disease API   \n",
       "13       SEMMED  SEMMED Disease API   \n",
       "14       SEMMED  SEMMED Disease API   \n",
       "15       SEMMED  SEMMED Disease API   \n",
       "16       SEMMED  SEMMED Disease API   \n",
       "17       SEMMED  SEMMED Disease API   \n",
       "18       SEMMED  SEMMED Disease API   \n",
       "19       SEMMED  SEMMED Disease API   \n",
       "20       SEMMED  SEMMED Disease API   \n",
       "21       SEMMED  SEMMED Disease API   \n",
       "22       SEMMED  SEMMED Disease API   \n",
       "23       SEMMED  SEMMED Disease API   \n",
       "24       SEMMED  SEMMED Disease API   \n",
       "25       SEMMED  SEMMED Disease API   \n",
       "26       SEMMED  SEMMED Disease API   \n",
       "27       SEMMED  SEMMED Disease API   \n",
       "28       SEMMED  SEMMED Disease API   \n",
       "29       SEMMED  SEMMED Disease API   \n",
       "30       SEMMED  SEMMED Disease API   \n",
       "31       SEMMED  SEMMED Disease API   \n",
       "32       SEMMED  SEMMED Disease API   \n",
       "33       SEMMED  SEMMED Disease API   \n",
       "34       SEMMED  SEMMED Disease API   \n",
       "35       SEMMED  SEMMED Disease API   \n",
       "36       SEMMED  SEMMED Disease API   \n",
       "37       SEMMED  SEMMED Disease API   \n",
       "38       SEMMED  SEMMED Disease API   \n",
       "39       SEMMED  SEMMED Disease API   \n",
       "40       SEMMED  SEMMED Disease API   \n",
       "41       SEMMED  SEMMED Disease API   \n",
       "42       SEMMED  SEMMED Disease API   \n",
       "43       SEMMED  SEMMED Disease API   \n",
       "44       SEMMED  SEMMED Disease API   \n",
       "45       SEMMED  SEMMED Disease API   \n",
       "46       SEMMED  SEMMED Disease API   \n",
       "47       SEMMED  SEMMED Disease API   \n",
       "48       SEMMED  SEMMED Disease API   \n",
       "49       SEMMED  SEMMED Disease API   \n",
       "50       SEMMED  SEMMED Disease API   \n",
       "51       SEMMED  SEMMED Disease API   \n",
       "52       SEMMED  SEMMED Disease API   \n",
       "53       SEMMED  SEMMED Disease API   \n",
       "54       SEMMED  SEMMED Disease API   \n",
       "55          ctd  mydisease.info API   \n",
       "56          ctd  mydisease.info API   \n",
       "\n",
       "                                         pred2_pubmed pred2_method  \\\n",
       "0                                            18484419         None   \n",
       "1                                            11359314         None   \n",
       "2                                            11359314         None   \n",
       "3   17393011,19608566,20034330,20943705,23528915,2...         None   \n",
       "4                           24901243,27334977,8532271         None   \n",
       "5                                            24698194         None   \n",
       "6                                            24698194         None   \n",
       "7                                            24698194         None   \n",
       "8                                    24392375,8180351         None   \n",
       "9                                    24392375,8180351         None   \n",
       "10                                   24392375,8180351         None   \n",
       "11  15519428,16556679,17611187,19716166,25696884,2...         None   \n",
       "12  15519428,16556679,17611187,19716166,25696884,2...         None   \n",
       "13                                           22289887         None   \n",
       "14                                           22289887         None   \n",
       "15                                  23326380,29205625         None   \n",
       "16                                           25117752         None   \n",
       "17                                            3122576         None   \n",
       "18                                            3122576         None   \n",
       "19                                            3122576         None   \n",
       "20                                           21623987         None   \n",
       "21                                           21623987         None   \n",
       "22                                           21623987         None   \n",
       "23                                           23929902         None   \n",
       "24                                           23929902         None   \n",
       "25                                  23526610,24112943         None   \n",
       "26                                           23112124         None   \n",
       "27                                  16955635,17266521         None   \n",
       "28                                           21367581         None   \n",
       "29                                           16123074         None   \n",
       "30                                  25699269,26871967         None   \n",
       "31                                  25699269,26871967         None   \n",
       "32  21079238,23528856,24081302,25825993,26051307,2...         None   \n",
       "33  21079238,23528856,24081302,25825993,26051307,2...         None   \n",
       "34                                           28388652         None   \n",
       "35                                           28388652         None   \n",
       "36                                           14607060         None   \n",
       "37                                   14556345,3356054         None   \n",
       "38                                           25550090         None   \n",
       "39                                     172407,7271439         None   \n",
       "40                                           28527571         None   \n",
       "41                                           15405982         None   \n",
       "42                                           15405982         None   \n",
       "43                                           15922790         None   \n",
       "44                                   27754451,3247831         None   \n",
       "45                                            2044157         None   \n",
       "46                                           27108670         None   \n",
       "47                                           27108670         None   \n",
       "48                                           27108670         None   \n",
       "49                         27679863,28590928,29069759         None   \n",
       "50                                           15512142         None   \n",
       "51                                  17582493,22687819         None   \n",
       "52                                           28392013         None   \n",
       "53                                  17468256,19631920         None   \n",
       "54                                           24439294         None   \n",
       "55                                           11932298         None   \n",
       "56                                           19636672         None   \n",
       "\n",
       "          output_type                              output_name  \\\n",
       "0   ChemicalSubstance  COMPLICATION OF PREGNANCY OR CHILDBIRTH   \n",
       "1   ChemicalSubstance  COMPLICATION OF PREGNANCY OR CHILDBIRTH   \n",
       "2   ChemicalSubstance  COMPLICATION OF PREGNANCY OR CHILDBIRTH   \n",
       "3   ChemicalSubstance  COMPLICATION OF PREGNANCY OR CHILDBIRTH   \n",
       "4   ChemicalSubstance  COMPLICATION OF PREGNANCY OR CHILDBIRTH   \n",
       "5   ChemicalSubstance  COMPLICATION OF PREGNANCY OR CHILDBIRTH   \n",
       "6   ChemicalSubstance  COMPLICATION OF PREGNANCY OR CHILDBIRTH   \n",
       "7   ChemicalSubstance  COMPLICATION OF PREGNANCY OR CHILDBIRTH   \n",
       "8   ChemicalSubstance  COMPLICATION OF PREGNANCY OR CHILDBIRTH   \n",
       "9   ChemicalSubstance  COMPLICATION OF PREGNANCY OR CHILDBIRTH   \n",
       "10  ChemicalSubstance  COMPLICATION OF PREGNANCY OR CHILDBIRTH   \n",
       "11  ChemicalSubstance  COMPLICATION OF PREGNANCY OR CHILDBIRTH   \n",
       "12  ChemicalSubstance  COMPLICATION OF PREGNANCY OR CHILDBIRTH   \n",
       "13  ChemicalSubstance  COMPLICATION OF PREGNANCY OR CHILDBIRTH   \n",
       "14  ChemicalSubstance  COMPLICATION OF PREGNANCY OR CHILDBIRTH   \n",
       "15  ChemicalSubstance  COMPLICATION OF PREGNANCY OR CHILDBIRTH   \n",
       "16  ChemicalSubstance  COMPLICATION OF PREGNANCY OR CHILDBIRTH   \n",
       "17  ChemicalSubstance  COMPLICATION OF PREGNANCY OR CHILDBIRTH   \n",
       "18  ChemicalSubstance  COMPLICATION OF PREGNANCY OR CHILDBIRTH   \n",
       "19  ChemicalSubstance  COMPLICATION OF PREGNANCY OR CHILDBIRTH   \n",
       "20  ChemicalSubstance  COMPLICATION OF PREGNANCY OR CHILDBIRTH   \n",
       "21  ChemicalSubstance  COMPLICATION OF PREGNANCY OR CHILDBIRTH   \n",
       "22  ChemicalSubstance  COMPLICATION OF PREGNANCY OR CHILDBIRTH   \n",
       "23  ChemicalSubstance  COMPLICATION OF PREGNANCY OR CHILDBIRTH   \n",
       "24  ChemicalSubstance  COMPLICATION OF PREGNANCY OR CHILDBIRTH   \n",
       "25  ChemicalSubstance  COMPLICATION OF PREGNANCY OR CHILDBIRTH   \n",
       "26  ChemicalSubstance  COMPLICATION OF PREGNANCY OR CHILDBIRTH   \n",
       "27  ChemicalSubstance  COMPLICATION OF PREGNANCY OR CHILDBIRTH   \n",
       "28  ChemicalSubstance  COMPLICATION OF PREGNANCY OR CHILDBIRTH   \n",
       "29  ChemicalSubstance  COMPLICATION OF PREGNANCY OR CHILDBIRTH   \n",
       "30  ChemicalSubstance  COMPLICATION OF PREGNANCY OR CHILDBIRTH   \n",
       "31  ChemicalSubstance  COMPLICATION OF PREGNANCY OR CHILDBIRTH   \n",
       "32  ChemicalSubstance  COMPLICATION OF PREGNANCY OR CHILDBIRTH   \n",
       "33  ChemicalSubstance  COMPLICATION OF PREGNANCY OR CHILDBIRTH   \n",
       "34  ChemicalSubstance  COMPLICATION OF PREGNANCY OR CHILDBIRTH   \n",
       "35  ChemicalSubstance  COMPLICATION OF PREGNANCY OR CHILDBIRTH   \n",
       "36  ChemicalSubstance  COMPLICATION OF PREGNANCY OR CHILDBIRTH   \n",
       "37  ChemicalSubstance  COMPLICATION OF PREGNANCY OR CHILDBIRTH   \n",
       "38  ChemicalSubstance  COMPLICATION OF PREGNANCY OR CHILDBIRTH   \n",
       "39  ChemicalSubstance  COMPLICATION OF PREGNANCY OR CHILDBIRTH   \n",
       "40  ChemicalSubstance  COMPLICATION OF PREGNANCY OR CHILDBIRTH   \n",
       "41  ChemicalSubstance  COMPLICATION OF PREGNANCY OR CHILDBIRTH   \n",
       "42  ChemicalSubstance  COMPLICATION OF PREGNANCY OR CHILDBIRTH   \n",
       "43  ChemicalSubstance  COMPLICATION OF PREGNANCY OR CHILDBIRTH   \n",
       "44  ChemicalSubstance  COMPLICATION OF PREGNANCY OR CHILDBIRTH   \n",
       "45  ChemicalSubstance  COMPLICATION OF PREGNANCY OR CHILDBIRTH   \n",
       "46  ChemicalSubstance  COMPLICATION OF PREGNANCY OR CHILDBIRTH   \n",
       "47  ChemicalSubstance  COMPLICATION OF PREGNANCY OR CHILDBIRTH   \n",
       "48  ChemicalSubstance  COMPLICATION OF PREGNANCY OR CHILDBIRTH   \n",
       "49  ChemicalSubstance  COMPLICATION OF PREGNANCY OR CHILDBIRTH   \n",
       "50  ChemicalSubstance  COMPLICATION OF PREGNANCY OR CHILDBIRTH   \n",
       "51  ChemicalSubstance  COMPLICATION OF PREGNANCY OR CHILDBIRTH   \n",
       "52  ChemicalSubstance  COMPLICATION OF PREGNANCY OR CHILDBIRTH   \n",
       "53  ChemicalSubstance  COMPLICATION OF PREGNANCY OR CHILDBIRTH   \n",
       "54  ChemicalSubstance  COMPLICATION OF PREGNANCY OR CHILDBIRTH   \n",
       "55  ChemicalSubstance  COMPLICATION OF PREGNANCY OR CHILDBIRTH   \n",
       "56  ChemicalSubstance  COMPLICATION OF PREGNANCY OR CHILDBIRTH   \n",
       "\n",
       "              output_id  \n",
       "0   MONDO:MONDO:0024575  \n",
       "1   MONDO:MONDO:0024575  \n",
       "2   MONDO:MONDO:0024575  \n",
       "3   MONDO:MONDO:0024575  \n",
       "4   MONDO:MONDO:0024575  \n",
       "5   MONDO:MONDO:0024575  \n",
       "6   MONDO:MONDO:0024575  \n",
       "7   MONDO:MONDO:0024575  \n",
       "8   MONDO:MONDO:0024575  \n",
       "9   MONDO:MONDO:0024575  \n",
       "10  MONDO:MONDO:0024575  \n",
       "11  MONDO:MONDO:0024575  \n",
       "12  MONDO:MONDO:0024575  \n",
       "13  MONDO:MONDO:0024575  \n",
       "14  MONDO:MONDO:0024575  \n",
       "15  MONDO:MONDO:0024575  \n",
       "16  MONDO:MONDO:0024575  \n",
       "17  MONDO:MONDO:0024575  \n",
       "18  MONDO:MONDO:0024575  \n",
       "19  MONDO:MONDO:0024575  \n",
       "20  MONDO:MONDO:0024575  \n",
       "21  MONDO:MONDO:0024575  \n",
       "22  MONDO:MONDO:0024575  \n",
       "23  MONDO:MONDO:0024575  \n",
       "24  MONDO:MONDO:0024575  \n",
       "25  MONDO:MONDO:0024575  \n",
       "26  MONDO:MONDO:0024575  \n",
       "27  MONDO:MONDO:0024575  \n",
       "28  MONDO:MONDO:0024575  \n",
       "29  MONDO:MONDO:0024575  \n",
       "30  MONDO:MONDO:0024575  \n",
       "31  MONDO:MONDO:0024575  \n",
       "32  MONDO:MONDO:0024575  \n",
       "33  MONDO:MONDO:0024575  \n",
       "34  MONDO:MONDO:0024575  \n",
       "35  MONDO:MONDO:0024575  \n",
       "36  MONDO:MONDO:0024575  \n",
       "37  MONDO:MONDO:0024575  \n",
       "38  MONDO:MONDO:0024575  \n",
       "39  MONDO:MONDO:0024575  \n",
       "40  MONDO:MONDO:0024575  \n",
       "41  MONDO:MONDO:0024575  \n",
       "42  MONDO:MONDO:0024575  \n",
       "43  MONDO:MONDO:0024575  \n",
       "44  MONDO:MONDO:0024575  \n",
       "45  MONDO:MONDO:0024575  \n",
       "46  MONDO:MONDO:0024575  \n",
       "47  MONDO:MONDO:0024575  \n",
       "48  MONDO:MONDO:0024575  \n",
       "49  MONDO:MONDO:0024575  \n",
       "50  MONDO:MONDO:0024575  \n",
       "51  MONDO:MONDO:0024575  \n",
       "52  MONDO:MONDO:0024575  \n",
       "53  MONDO:MONDO:0024575  \n",
       "54  MONDO:MONDO:0024575  \n",
       "55  MONDO:MONDO:0024575  \n",
       "56  MONDO:MONDO:0024575  "
      ]
     },
     "execution_count": 35,
     "metadata": {},
     "output_type": "execute_result"
    }
   ],
   "source": [
    "q4_r_paths_table"
   ]
  },
  {
   "cell_type": "code",
   "execution_count": null,
   "metadata": {
    "ExecuteTime": {
     "end_time": "2020-12-26T01:47:57.210001Z",
     "start_time": "2020-12-26T01:47:57.136259Z"
    }
   },
   "outputs": [],
   "source": [
    "q4_r_paths_table[q4_r_paths_table['pred1_api'].str.contains('Scigraph')]"
   ]
  },
  {
   "cell_type": "markdown",
   "metadata": {},
   "source": [
    "## Playing with DisGeNET files"
   ]
  },
  {
   "cell_type": "code",
   "execution_count": 2,
   "metadata": {
    "ExecuteTime": {
     "end_time": "2021-03-05T19:49:24.172474Z",
     "start_time": "2021-03-05T19:49:24.168746Z"
    }
   },
   "outputs": [],
   "source": [
    "import pathlib\n",
    "import pandas as pd\n",
    "\n",
    "folder = pathlib.Path.home().joinpath('Desktop', 'ScrippsJob', 'DisGeNET')"
   ]
  },
  {
   "cell_type": "markdown",
   "metadata": {},
   "source": [
    "### individual, all gene-disease-pmid"
   ]
  },
  {
   "cell_type": "code",
   "execution_count": 3,
   "metadata": {
    "ExecuteTime": {
     "end_time": "2021-03-05T19:49:41.121841Z",
     "start_time": "2021-03-05T19:49:35.908353Z"
    }
   },
   "outputs": [],
   "source": [
    "allgene_pmid_path = folder.joinpath('all_gene_disease_pmid_associations.tsv')\n",
    "allgene_pmid = pd.read_table(allgene_pmid_path)"
   ]
  },
  {
   "cell_type": "code",
   "execution_count": 4,
   "metadata": {
    "ExecuteTime": {
     "end_time": "2021-03-05T19:49:43.347980Z",
     "start_time": "2021-03-05T19:49:43.336626Z"
    }
   },
   "outputs": [
    {
     "data": {
      "text/plain": [
       "(3241576, 15)"
      ]
     },
     "execution_count": 4,
     "metadata": {},
     "output_type": "execute_result"
    },
    {
     "data": {
      "text/plain": [
       "Index(['geneId', 'geneSymbol', 'DSI', 'DPI', 'diseaseId', 'diseaseName',\n",
       "       'diseaseType', 'diseaseClass', 'diseaseSemanticType', 'score', 'EI',\n",
       "       'YearInitial', 'YearFinal', 'pmid', 'source'],\n",
       "      dtype='object')"
      ]
     },
     "execution_count": 4,
     "metadata": {},
     "output_type": "execute_result"
    }
   ],
   "source": [
    "allgene_pmid.shape\n",
    "allgene_pmid.columns"
   ]
  },
  {
   "cell_type": "code",
   "execution_count": 6,
   "metadata": {
    "ExecuteTime": {
     "end_time": "2021-03-05T19:49:57.957949Z",
     "start_time": "2021-03-05T19:49:57.530278Z"
    }
   },
   "outputs": [
    {
     "data": {
      "text/plain": [
       "C0027651    159694\n",
       "C0006826     89348\n",
       "C1306459     75101\n",
       "C0006142     58287\n",
       "C0678222     57200\n",
       "             ...  \n",
       "C1302778         1\n",
       "C0600039         1\n",
       "C1855905         1\n",
       "C3889617         1\n",
       "C0751868         1\n",
       "Name: diseaseId, Length: 30170, dtype: int64"
      ]
     },
     "execution_count": 6,
     "metadata": {},
     "output_type": "execute_result"
    }
   ],
   "source": [
    "allgene_pmid.diseaseId.value_counts()"
   ]
  },
  {
   "cell_type": "code",
   "execution_count": null,
   "metadata": {
    "ExecuteTime": {
     "end_time": "2020-10-23T00:35:48.701414Z",
     "start_time": "2020-10-23T00:35:48.187870Z"
    }
   },
   "outputs": [],
   "source": [
    "allgene_pmid.source.unique()\n",
    "allgene_pmid.diseaseSemanticType.unique()\n",
    "allgene_pmid.diseaseType.unique()"
   ]
  },
  {
   "cell_type": "code",
   "execution_count": null,
   "metadata": {
    "ExecuteTime": {
     "end_time": "2020-10-23T00:11:04.191528Z",
     "start_time": "2020-10-23T00:11:03.311058Z"
    }
   },
   "outputs": [],
   "source": [
    "allgene_pmid.count()"
   ]
  },
  {
   "cell_type": "code",
   "execution_count": null,
   "metadata": {
    "ExecuteTime": {
     "end_time": "2020-10-10T02:52:53.467481Z",
     "start_time": "2020-10-10T02:52:53.223227Z"
    }
   },
   "outputs": [],
   "source": [
    "allgene_pmid[(allgene_pmid['source'] == 'C')].geneSymbol.unique()[0:10]"
   ]
  },
  {
   "cell_type": "code",
   "execution_count": null,
   "metadata": {
    "ExecuteTime": {
     "end_time": "2020-10-23T00:41:11.511426Z",
     "start_time": "2020-10-23T00:41:10.175738Z"
    }
   },
   "outputs": [],
   "source": [
    "allgene_pmid[(allgene_pmid['geneSymbol'].str.contains('MIR'))].source.unique()"
   ]
  },
  {
   "cell_type": "code",
   "execution_count": null,
   "metadata": {
    "ExecuteTime": {
     "end_time": "2020-10-08T23:27:15.303795Z",
     "start_time": "2020-10-08T23:27:15.161129Z"
    }
   },
   "outputs": [],
   "source": [
    "allgene_pmid['EI'].describe()"
   ]
  },
  {
   "cell_type": "code",
   "execution_count": null,
   "metadata": {
    "ExecuteTime": {
     "end_time": "2020-10-08T23:09:26.122088Z",
     "start_time": "2020-10-08T23:09:25.988046Z"
    }
   },
   "outputs": [],
   "source": [
    "allgene_pmid[(allgene_pmid['DPI'] > 0.9)].geneSymbol.unique()"
   ]
  },
  {
   "cell_type": "code",
   "execution_count": null,
   "metadata": {
    "ExecuteTime": {
     "end_time": "2020-10-21T17:05:51.855805Z",
     "start_time": "2020-10-21T17:05:51.632944Z"
    }
   },
   "outputs": [],
   "source": [
    "allgene_pmid[allgene_pmid['geneSymbol'] == 'TNF'].shape"
   ]
  },
  {
   "cell_type": "markdown",
   "metadata": {},
   "source": [
    "### individual variant-disease-pmid"
   ]
  },
  {
   "cell_type": "code",
   "execution_count": 7,
   "metadata": {
    "ExecuteTime": {
     "end_time": "2021-03-05T03:37:15.478028Z",
     "start_time": "2021-03-05T03:37:13.993485Z"
    }
   },
   "outputs": [],
   "source": [
    "variant_pmid_path = folder.joinpath('all_variant_disease_pmid_associations.tsv')\n",
    "variant_pmid = pd.read_table(variant_pmid_path)"
   ]
  },
  {
   "cell_type": "code",
   "execution_count": 8,
   "metadata": {
    "ExecuteTime": {
     "end_time": "2021-03-05T03:37:16.205174Z",
     "start_time": "2021-03-05T03:37:16.199204Z"
    }
   },
   "outputs": [
    {
     "data": {
      "text/plain": [
       "(739842, 16)"
      ]
     },
     "execution_count": 8,
     "metadata": {},
     "output_type": "execute_result"
    },
    {
     "data": {
      "text/plain": [
       "Index(['snpId', 'chromosome', 'position', 'DSI', 'DPI', 'diseaseId',\n",
       "       'diseaseName', 'diseaseType', 'diseaseClass', 'diseaseSemanticType',\n",
       "       'score', 'EI', 'YearInitial', 'YearFinal', 'pmid', 'source'],\n",
       "      dtype='object')"
      ]
     },
     "execution_count": 8,
     "metadata": {},
     "output_type": "execute_result"
    }
   ],
   "source": [
    "variant_pmid.shape\n",
    "variant_pmid.columns"
   ]
  },
  {
   "cell_type": "code",
   "execution_count": 9,
   "metadata": {
    "ExecuteTime": {
     "end_time": "2021-03-05T03:37:29.500300Z",
     "start_time": "2021-03-05T03:37:29.290483Z"
    }
   },
   "outputs": [
    {
     "data": {
      "text/plain": [
       "rs113488022     4068\n",
       "rs121913377     3911\n",
       "rs1217691063    3313\n",
       "rs77375493      1782\n",
       "rs1800562       1592\n",
       "                ... \n",
       "rs7519348          1\n",
       "rs1393578          1\n",
       "rs645601           1\n",
       "rs28133            1\n",
       "rs3809272          1\n",
       "Name: snpId, Length: 194515, dtype: int64"
      ]
     },
     "execution_count": 9,
     "metadata": {},
     "output_type": "execute_result"
    }
   ],
   "source": [
    "variant_pmid.snpId.value_counts()"
   ]
  },
  {
   "cell_type": "code",
   "execution_count": null,
   "metadata": {
    "ExecuteTime": {
     "end_time": "2021-01-20T00:53:23.574946Z",
     "start_time": "2021-01-20T00:53:23.542207Z"
    }
   },
   "outputs": [],
   "source": [
    "variant_pmid['chromosome'].count()"
   ]
  },
  {
   "cell_type": "code",
   "execution_count": null,
   "metadata": {
    "ExecuteTime": {
     "end_time": "2021-01-20T00:53:58.918238Z",
     "start_time": "2021-01-20T00:53:58.914466Z"
    }
   },
   "outputs": [],
   "source": [
    "variant_pmid.chromosome.dtype"
   ]
  },
  {
   "cell_type": "code",
   "execution_count": null,
   "metadata": {
    "ExecuteTime": {
     "end_time": "2020-10-08T23:28:17.155354Z",
     "start_time": "2020-10-08T23:28:17.119683Z"
    }
   },
   "outputs": [],
   "source": [
    "variant_pmid['score'].describe()"
   ]
  },
  {
   "cell_type": "code",
   "execution_count": null,
   "metadata": {
    "ExecuteTime": {
     "end_time": "2020-12-25T06:29:46.093022Z",
     "start_time": "2020-12-25T06:29:46.021552Z"
    }
   },
   "outputs": [],
   "source": [
    "variant_pmid[['source']].value_counts()"
   ]
  },
  {
   "cell_type": "code",
   "execution_count": null,
   "metadata": {
    "ExecuteTime": {
     "end_time": "2020-10-10T06:29:13.770516Z",
     "start_time": "2020-10-10T06:29:13.477215Z"
    }
   },
   "outputs": [],
   "source": [
    "variant_pmid.source.unique()\n",
    "variant_pmid.count()"
   ]
  },
  {
   "cell_type": "code",
   "execution_count": null,
   "metadata": {
    "ExecuteTime": {
     "end_time": "2020-10-08T00:52:32.700193Z",
     "start_time": "2020-10-08T00:52:32.683079Z"
    }
   },
   "outputs": [],
   "source": [
    "variant_pmid.head()"
   ]
  },
  {
   "cell_type": "markdown",
   "metadata": {},
   "source": [
    "### compiled, all gene-disease"
   ]
  },
  {
   "cell_type": "code",
   "execution_count": null,
   "metadata": {
    "ExecuteTime": {
     "end_time": "2020-10-21T17:00:06.571693Z",
     "start_time": "2020-10-21T17:00:04.409249Z"
    }
   },
   "outputs": [],
   "source": [
    "allgene_compiled_path = folder.joinpath('dropping', 'all_gene_disease_associations.tsv')\n",
    "allgene_compiled = pd.read_table(allgene_compiled_path)"
   ]
  },
  {
   "cell_type": "code",
   "execution_count": null,
   "metadata": {
    "ExecuteTime": {
     "end_time": "2020-10-23T00:08:01.639690Z",
     "start_time": "2020-10-23T00:08:01.503582Z"
    }
   },
   "outputs": [],
   "source": [
    "allgene_compiled['diseaseSemanticType'].value_counts()"
   ]
  },
  {
   "cell_type": "code",
   "execution_count": null,
   "metadata": {
    "ExecuteTime": {
     "end_time": "2020-10-23T00:07:42.299087Z",
     "start_time": "2020-10-23T00:07:42.229992Z"
    }
   },
   "outputs": [],
   "source": [
    "allgene_compiled.shape\n",
    "allgene_compiled.columns\n",
    "# allgene_compiled.source.unique()\n",
    "allgene_compiled['NofSnps'].describe()"
   ]
  },
  {
   "cell_type": "code",
   "execution_count": null,
   "metadata": {
    "ExecuteTime": {
     "end_time": "2020-10-21T17:06:41.367062Z",
     "start_time": "2020-10-21T17:06:41.196119Z"
    }
   },
   "outputs": [],
   "source": [
    "allgene_compiled[(allgene_compiled['geneSymbol'] == 'APP') &\n",
    "                (allgene_compiled['diseaseId'] == 'C0002395')].source.to_list()"
   ]
  },
  {
   "cell_type": "code",
   "execution_count": null,
   "metadata": {
    "ExecuteTime": {
     "end_time": "2020-10-17T07:21:11.052710Z",
     "start_time": "2020-10-17T07:21:11.004060Z"
    }
   },
   "outputs": [],
   "source": [
    "allgene_compiled['DPI'].describe()"
   ]
  },
  {
   "cell_type": "code",
   "execution_count": null,
   "metadata": {
    "ExecuteTime": {
     "end_time": "2020-10-17T07:16:59.347730Z",
     "start_time": "2020-10-17T07:16:59.316154Z"
    }
   },
   "outputs": [],
   "source": [
    "allgene_compiled[allgene_compiled['DSI'] == 0.231]"
   ]
  },
  {
   "cell_type": "markdown",
   "metadata": {},
   "source": [
    "### compiled, all variant-disease"
   ]
  },
  {
   "cell_type": "code",
   "execution_count": null,
   "metadata": {
    "ExecuteTime": {
     "end_time": "2021-01-20T01:55:01.115223Z",
     "start_time": "2021-01-20T01:55:00.320529Z"
    }
   },
   "outputs": [],
   "source": [
    "allvariant_path = folder.joinpath('dropping', 'all_variant_disease_associations.tsv')\n",
    "allvariant = pd.read_table(allvariant_path)"
   ]
  },
  {
   "cell_type": "code",
   "execution_count": null,
   "metadata": {
    "ExecuteTime": {
     "end_time": "2020-10-23T00:08:45.308445Z",
     "start_time": "2020-10-23T00:08:45.262459Z"
    }
   },
   "outputs": [],
   "source": [
    "allvariant['diseaseSemanticType'].value_counts()"
   ]
  },
  {
   "cell_type": "code",
   "execution_count": null,
   "metadata": {
    "ExecuteTime": {
     "end_time": "2020-10-19T22:27:12.865175Z",
     "start_time": "2020-10-19T22:27:12.703777Z"
    }
   },
   "outputs": [],
   "source": [
    "allvariant.source.unique() ## THIS IS BAD NEED TO PULL OUT INFERRED ENTRIES\n",
    "allvariant.count()"
   ]
  },
  {
   "cell_type": "code",
   "execution_count": null,
   "metadata": {
    "ExecuteTime": {
     "end_time": "2020-10-19T22:32:24.335213Z",
     "start_time": "2020-10-19T22:32:24.279240Z"
    }
   },
   "outputs": [],
   "source": [
    "allvariant[(allvariant['snpId'] == 'rs75932628') &\n",
    "                (allvariant['diseaseId'] == 'C0002395')].source.to_list()"
   ]
  },
  {
   "cell_type": "code",
   "execution_count": null,
   "metadata": {
    "ExecuteTime": {
     "end_time": "2020-10-19T22:27:20.584391Z",
     "start_time": "2020-10-19T22:27:20.565251Z"
    }
   },
   "outputs": [],
   "source": [
    "allvariant['NofPmids'].describe()"
   ]
  },
  {
   "cell_type": "markdown",
   "metadata": {},
   "source": [
    "### Other files"
   ]
  },
  {
   "cell_type": "code",
   "execution_count": null,
   "metadata": {
    "ExecuteTime": {
     "end_time": "2020-10-10T02:08:04.858899Z",
     "start_time": "2020-10-10T02:08:04.856396Z"
    }
   },
   "outputs": [],
   "source": [
    "curated_path = folder.joinpath('DisGeNETv7_nonBeeFree', 'browser_source_summary_gda_ANIMAL_MODELS.tsv')\n"
   ]
  },
  {
   "cell_type": "code",
   "execution_count": null,
   "metadata": {
    "ExecuteTime": {
     "end_time": "2020-10-10T02:08:05.687138Z",
     "start_time": "2020-10-10T02:08:05.607601Z"
    }
   },
   "outputs": [],
   "source": [
    "curated_data = pd.read_table(curated_path)"
   ]
  },
  {
   "cell_type": "code",
   "execution_count": null,
   "metadata": {
    "ExecuteTime": {
     "end_time": "2020-10-10T02:08:06.874755Z",
     "start_time": "2020-10-10T02:08:06.857916Z"
    }
   },
   "outputs": [],
   "source": [
    "curated_data.columns\n",
    "curated_data.shape\n",
    "curated_data.count()  ## notice that the last 3 columns have some missing values..."
   ]
  },
  {
   "cell_type": "code",
   "execution_count": null,
   "metadata": {
    "ExecuteTime": {
     "end_time": "2020-10-10T02:08:09.288831Z",
     "start_time": "2020-10-10T02:08:09.283908Z"
    }
   },
   "outputs": [],
   "source": [
    "curated_data.Original_DB.unique()"
   ]
  },
  {
   "cell_type": "code",
   "execution_count": null,
   "metadata": {
    "ExecuteTime": {
     "end_time": "2020-10-10T02:08:15.274020Z",
     "start_time": "2020-10-10T02:08:15.265272Z"
    }
   },
   "outputs": [],
   "source": [
    "curated_data[curated_data['Original_DB']=='MGD'].Association_Type.unique()"
   ]
  },
  {
   "cell_type": "code",
   "execution_count": null,
   "metadata": {
    "ExecuteTime": {
     "end_time": "2020-10-06T02:09:45.105167Z",
     "start_time": "2020-10-06T02:09:45.093205Z"
    }
   },
   "outputs": [],
   "source": [
    "curated_data['Association_Type'].unique()"
   ]
  },
  {
   "cell_type": "code",
   "execution_count": null,
   "metadata": {
    "ExecuteTime": {
     "end_time": "2020-10-06T16:22:29.115067Z",
     "start_time": "2020-10-06T16:22:29.098766Z"
    }
   },
   "outputs": [],
   "source": [
    "curated_data.head(1)"
   ]
  },
  {
   "cell_type": "code",
   "execution_count": null,
   "metadata": {
    "ExecuteTime": {
     "end_time": "2020-10-06T01:42:01.835767Z",
     "start_time": "2020-10-06T01:42:01.804096Z"
    }
   },
   "outputs": [],
   "source": [
    "curated_data[curated_data['Sentence'].isna()]"
   ]
  },
  {
   "cell_type": "code",
   "execution_count": null,
   "metadata": {
    "ExecuteTime": {
     "end_time": "2020-10-23T02:22:31.179587Z",
     "start_time": "2020-10-23T02:22:28.239666Z"
    }
   },
   "outputs": [],
   "source": [
    "dd_curated_path = folder.joinpath('disease_to_disease_CURATED.tsv')\n",
    "dd_curated = pd.read_table(dd_curated_path)"
   ]
  },
  {
   "cell_type": "code",
   "execution_count": null,
   "metadata": {
    "ExecuteTime": {
     "end_time": "2020-10-23T02:22:31.940966Z",
     "start_time": "2020-10-23T02:22:31.935094Z"
    }
   },
   "outputs": [],
   "source": [
    "dd_curated.shape\n",
    "dd_curated.columns"
   ]
  },
  {
   "cell_type": "code",
   "execution_count": null,
   "metadata": {
    "ExecuteTime": {
     "end_time": "2020-10-23T02:36:40.393278Z",
     "start_time": "2020-10-23T02:36:40.169804Z"
    }
   },
   "outputs": [],
   "source": [
    "dd_curated[(dd_curated['diseaseId2'] == 'C0684249') &\n",
    "           (dd_curated['diseaseId1'] == 'C186190')]"
   ]
  },
  {
   "cell_type": "code",
   "execution_count": null,
   "metadata": {
    "ExecuteTime": {
     "end_time": "2020-10-14T18:53:45.118665Z",
     "start_time": "2020-10-14T18:53:45.097615Z"
    }
   },
   "outputs": [],
   "source": [
    "dd_curated.head()"
   ]
  },
  {
   "cell_type": "code",
   "execution_count": null,
   "metadata": {
    "ExecuteTime": {
     "end_time": "2020-10-14T18:53:54.330669Z",
     "start_time": "2020-10-14T18:53:54.223407Z"
    }
   },
   "outputs": [],
   "source": [
    "dd_curated.source.unique()"
   ]
  },
  {
   "cell_type": "markdown",
   "metadata": {},
   "source": [
    "## Playing with Danish data"
   ]
  },
  {
   "cell_type": "code",
   "execution_count": null,
   "metadata": {
    "ExecuteTime": {
     "end_time": "2020-10-09T23:38:37.800446Z",
     "start_time": "2020-10-09T23:38:37.792738Z"
    }
   },
   "outputs": [],
   "source": [
    "Danish_path = pathlib.Path.home().joinpath('Downloads', '41467_2020_18682_MOESM1_ESM.tsv')"
   ]
  },
  {
   "cell_type": "code",
   "execution_count": null,
   "metadata": {
    "ExecuteTime": {
     "end_time": "2020-10-09T23:39:00.690905Z",
     "start_time": "2020-10-09T23:39:00.576045Z"
    }
   },
   "outputs": [],
   "source": [
    "Danish = pd.read_table(Danish_path)"
   ]
  },
  {
   "cell_type": "code",
   "execution_count": null,
   "metadata": {
    "ExecuteTime": {
     "end_time": "2020-10-09T23:40:22.584454Z",
     "start_time": "2020-10-09T23:40:22.578710Z"
    }
   },
   "outputs": [],
   "source": [
    "Danish.shape  ## matches the paper saying that there are \"77,294 significant diagnosis pairs\"\n",
    "Danish.columns\n"
   ]
  },
  {
   "cell_type": "code",
   "execution_count": null,
   "metadata": {
    "ExecuteTime": {
     "end_time": "2020-10-10T00:26:20.311034Z",
     "start_time": "2020-10-10T00:26:20.296925Z"
    }
   },
   "outputs": [],
   "source": [
    "Danish.head()"
   ]
  },
  {
   "cell_type": "code",
   "execution_count": null,
   "metadata": {
    "ExecuteTime": {
     "end_time": "2020-10-09T23:40:37.504375Z",
     "start_time": "2020-10-09T23:40:37.489473Z"
    }
   },
   "outputs": [],
   "source": [
    "Danish.count()\n",
    "Danish.D1.nunique()"
   ]
  },
  {
   "cell_type": "code",
   "execution_count": null,
   "metadata": {
    "ExecuteTime": {
     "end_time": "2020-10-10T00:15:00.592166Z",
     "start_time": "2020-10-10T00:15:00.578985Z"
    }
   },
   "outputs": [],
   "source": [
    "Danish.death_counts.describe()\n",
    "## huh includes 0 as a value. Not sure about the more missingness. \n",
    "## this is death within 5 years of diagnosis D2. "
   ]
  },
  {
   "cell_type": "code",
   "execution_count": null,
   "metadata": {
    "ExecuteTime": {
     "end_time": "2020-10-09T23:59:06.395569Z",
     "start_time": "2020-10-09T23:59:06.383066Z"
    }
   },
   "outputs": [],
   "source": [
    "Danish.female_counts.describe()\n",
    "## huh so the min. count of females can be 0. more missingness though...not clear why. "
   ]
  },
  {
   "cell_type": "code",
   "execution_count": null,
   "metadata": {
    "ExecuteTime": {
     "end_time": "2020-10-10T00:12:52.723099Z",
     "start_time": "2020-10-10T00:12:52.719246Z"
    }
   },
   "outputs": [],
   "source": [
    "1302/365.25"
   ]
  },
  {
   "cell_type": "code",
   "execution_count": null,
   "metadata": {
    "ExecuteTime": {
     "end_time": "2020-10-10T00:12:03.908694Z",
     "start_time": "2020-10-10T00:12:03.896780Z"
    }
   },
   "outputs": [],
   "source": [
    "Danish.CODE_DIFF_DAYS.describe()\n",
    "\n",
    "## huh. The cutoff was 5 years between diagnosis D1 and D2, but the max here is ~3.6 years\n",
    "## maybe because it's an average? "
   ]
  },
  {
   "cell_type": "code",
   "execution_count": null,
   "metadata": {
    "ExecuteTime": {
     "end_time": "2020-10-10T00:03:40.779570Z",
     "start_time": "2020-10-10T00:03:40.761878Z"
    }
   },
   "outputs": [],
   "source": [
    "Danish.counts.describe()\n",
    "## notice min is 20 and # missing values matches AGE_AT column. So perhaps \n",
    "## the diff from 40711 to 39321 is because those 1390 pairs have <20 people diagnosed \n",
    "## with both D1 and D2\n",
    "\n",
    "Danish[~ Danish.counts.isna()]['direction_yes_no'].unique()\n",
    "## these values are only given for pairs with a significant direction\n",
    "\n",
    "Danish.AGE_AT_DISEASE.describe()\n",
    "## average age of diagnosis of D1, in days "
   ]
  },
  {
   "cell_type": "code",
   "execution_count": null,
   "metadata": {
    "ExecuteTime": {
     "end_time": "2020-10-10T00:10:21.890319Z",
     "start_time": "2020-10-10T00:10:21.878819Z"
    }
   },
   "outputs": [],
   "source": []
  },
  {
   "cell_type": "code",
   "execution_count": null,
   "metadata": {
    "ExecuteTime": {
     "end_time": "2020-10-10T00:10:11.420898Z",
     "start_time": "2020-10-10T00:10:11.408809Z"
    }
   },
   "outputs": [],
   "source": [
    "## only has values if there was a significant direction / aka direction_yes_no == 1\n",
    "Danish['p.value.direction'].describe()"
   ]
  },
  {
   "cell_type": "code",
   "execution_count": null,
   "metadata": {
    "ExecuteTime": {
     "end_time": "2020-10-09T23:43:53.014202Z",
     "start_time": "2020-10-09T23:43:53.005629Z"
    }
   },
   "outputs": [],
   "source": [
    "Danish.direction_yes_no.value_counts()\n",
    "## the authors first filtered on this. Not sure how this relates to the p.value.direction col...\n",
    "## so 40,711 had a significant direction. This matches Fig. 1 in the paper"
   ]
  },
  {
   "cell_type": "code",
   "execution_count": null,
   "metadata": {
    "ExecuteTime": {
     "end_time": "2020-10-09T23:45:05.501175Z",
     "start_time": "2020-10-09T23:45:05.489971Z"
    }
   },
   "outputs": [],
   "source": [
    "Danish.p5years.describe()  \n",
    "## so all are less than 1.21e-9, which was their cutoff for significant disease pair\n",
    "## so the filtering was already done"
   ]
  },
  {
   "cell_type": "code",
   "execution_count": null,
   "metadata": {
    "ExecuteTime": {
     "end_time": "2020-10-09T23:42:33.543720Z",
     "start_time": "2020-10-09T23:42:33.532587Z"
    }
   },
   "outputs": [],
   "source": [
    "## notice that the relative risk varies a lot. \n",
    "## They used a cutoff of RR > 1. Why? What does this mean?\n",
    "\n",
    "## they filter on this at the end to remove RR <1. \n",
    "Danish.RR.describe()"
   ]
  },
  {
   "cell_type": "code",
   "execution_count": null,
   "metadata": {},
   "outputs": [],
   "source": []
  }
 ],
 "metadata": {
  "kernelspec": {
   "display_name": "Python 3",
   "language": "python",
   "name": "python3"
  },
  "language_info": {
   "codemirror_mode": {
    "name": "ipython",
    "version": 3
   },
   "file_extension": ".py",
   "mimetype": "text/x-python",
   "name": "python",
   "nbconvert_exporter": "python",
   "pygments_lexer": "ipython3",
   "version": "3.7.9"
  },
  "toc": {
   "base_numbering": 1,
   "nav_menu": {},
   "number_sections": true,
   "sideBar": true,
   "skip_h1_title": true,
   "title_cell": "Table of Contents",
   "title_sidebar": "Contents",
   "toc_cell": false,
   "toc_position": {
    "height": "calc(100% - 180px)",
    "left": "10px",
    "top": "150px",
    "width": "299.5px"
   },
   "toc_section_display": true,
   "toc_window_display": true
  },
  "varInspector": {
   "cols": {
    "lenName": 16,
    "lenType": 16,
    "lenVar": 40
   },
   "kernels_config": {
    "python": {
     "delete_cmd_postfix": "",
     "delete_cmd_prefix": "del ",
     "library": "var_list.py",
     "varRefreshCmd": "print(var_dic_list())"
    },
    "r": {
     "delete_cmd_postfix": ") ",
     "delete_cmd_prefix": "rm(",
     "library": "var_list.r",
     "varRefreshCmd": "cat(var_dic_list()) "
    }
   },
   "types_to_exclude": [
    "module",
    "function",
    "builtin_function_or_method",
    "instance",
    "_Feature"
   ],
   "window_display": false
  }
 },
 "nbformat": 4,
 "nbformat_minor": 4
}
