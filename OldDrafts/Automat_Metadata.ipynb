{
 "cells": [
  {
   "cell_type": "markdown",
   "metadata": {},
   "source": [
    "# Metadata associated with Automat resources"
   ]
  },
  {
   "cell_type": "code",
   "execution_count": 1,
   "metadata": {
    "ExecuteTime": {
     "end_time": "2020-10-26T19:26:31.688997Z",
     "start_time": "2020-10-26T19:26:31.686231Z"
    }
   },
   "outputs": [],
   "source": [
    "## CX: allows multiple lines of code to print from one code block\n",
    "from IPython.core.interactiveshell import InteractiveShell\n",
    "InteractiveShell.ast_node_interactivity = \"all\"\n",
    "\n",
    "import copy  ## for deepcopy"
   ]
  },
  {
   "cell_type": "markdown",
   "metadata": {},
   "source": [
    "## MetaKG edge level"
   ]
  },
  {
   "cell_type": "markdown",
   "metadata": {},
   "source": [
    "### Automat CORD19 Scigraph"
   ]
  },
  {
   "cell_type": "markdown",
   "metadata": {},
   "source": [
    "API Endpoint (https://automat.renci.org/): /cord19-scigraph/{source_node_type}/{target_node_type}/{curie}\n",
    "\n",
    "Notes\n",
    "* biolink_predicate can be found in API Endpoint /cord19-scigraph/predicates or /cord19-scigraph/graph/summary\n",
    "* traced_provenance / origin: find from /cord19-scigraph/about endpoint, but it's returning a blank template right now. **Want versioning from Ranking Agent.** \n",
    "* **numeric measures: want help from Ranking Agent.** These are found from response, but not sure about range, direction and what they are...\n",
    "* **context/relevance: want help from Ranking Agent.** looks like human gene/disease entities so human taxon? Not sure if it should have coronavirus infection context since some of the relationships don't seem to be related to that?"
   ]
  },
  {
   "cell_type": "code",
   "execution_count": 2,
   "metadata": {
    "ExecuteTime": {
     "end_time": "2020-10-26T19:26:34.302778Z",
     "start_time": "2020-10-26T19:26:34.298220Z"
    }
   },
   "outputs": [],
   "source": [
    "metakg_cord19scigraph = {      \n",
    "    \"biolink_predicate\":\"related_to\",  ## from TRAPI predicate/edge_label field\n",
    "    \"ingested_predicate_label\":\"SEMMEDDB:ASSOCIATED_WITH\",  ## seen in TRAPI \"relation\" field\n",
    "\n",
    "    ## provenance\n",
    "    \"translator_group\":[\"Ranking_Agent\"],  ## assign this\n",
    "    ## it's hard to tell what nodes may be conflated. Maybe gene/geneproduct?\n",
    "    \n",
    "    \"traced_provenance\":  \n",
    "        [{\"name\":\"Automat CORD19 Scigraph API\",\n",
    "         \"type\":\"text_mined_database\",  ## assign this\n",
    "         \"version\":\"v5\"}],  ## made up, from previous /about/ endpoint, WE DON'T HAVE THIS\n",
    "    \"origin\":  \n",
    "        {\"name\":\"CORD19\",\n",
    "         \"type\":\"publications\",    ## assign this\n",
    "         \"version\":\"2020-04-05\",     ## made-up, WE DON'T HAVE THIS\n",
    "         \"method\":\"NLP_Scigraph\"},        ## assign this\n",
    "\n",
    "    ## measures                  \n",
    "    \"numeric_measures_present\":True,      ## assign this  \n",
    "    \"numeric_measures\":      ## assign this\n",
    "        [{\"name\":\"enrichment_p\",    ## not sure what this is, or if range, direction are right...\n",
    "          \"standard_label\":\"enrichment_p\",  ## being redundant to set this\n",
    "          \"range\":\"(0-1]\", \n",
    "          \"direction\":{\"more_specific\":\"smaller\"}}, \n",
    "         {\"name\":\"num_publications\",  ## not sure what this is, or if range, direction are right... \n",
    "          \"standard_label\":\"num_publications\",  ## being redundant to set this\n",
    "          \"range\":\"[0-1]\", \n",
    "          \"direction\":{\"more_confident\":\"larger\"}}\n",
    "        ],\n",
    "    \"categorical_measures_present\":False\n",
    "}"
   ]
  },
  {
   "cell_type": "code",
   "execution_count": 3,
   "metadata": {
    "ExecuteTime": {
     "end_time": "2020-10-26T19:26:35.993704Z",
     "start_time": "2020-10-26T19:26:35.982337Z"
    },
    "scrolled": true
   },
   "outputs": [
    {
     "data": {
      "text/plain": [
       "dict_keys(['biolink_predicate', 'ingested_predicate_label', 'translator_group', 'traced_provenance', 'origin', 'numeric_measures_present', 'numeric_measures', 'categorical_measures_present'])"
      ]
     },
     "execution_count": 3,
     "metadata": {},
     "output_type": "execute_result"
    },
    {
     "data": {
      "text/plain": [
       "{'name': 'CORD19',\n",
       " 'type': 'publications',\n",
       " 'version': '2020-04-05',\n",
       " 'method': 'NLP_Scigraph'}"
      ]
     },
     "execution_count": 3,
     "metadata": {},
     "output_type": "execute_result"
    }
   ],
   "source": [
    "metakg_cord19scigraph.keys()\n",
    "metakg_cord19scigraph['origin']"
   ]
  },
  {
   "cell_type": "markdown",
   "metadata": {},
   "source": [
    "The following are what I think the prefixes are for the main IDs for the nodes inside Automat CORD19 Scigraph API. "
   ]
  },
  {
   "cell_type": "code",
   "execution_count": null,
   "metadata": {
    "ExecuteTime": {
     "end_time": "2020-10-21T06:00:14.526630Z",
     "start_time": "2020-10-21T06:00:14.523030Z"
    }
   },
   "outputs": [],
   "source": [
    "scigraph_prefixes = {\n",
    "    \"ChemicalSubstance\":\"CHEBI\",\n",
    "    \"Disease\":\"MONDO\",\n",
    "    \"Gene\":\"NCBIGene\",\n",
    "    \"PhenotypicFeature\":\"HP\",\n",
    "    \"Cell\":\"CL\",\n",
    "    \"CellularComponent\":\"GO\",\n",
    "    \"BiologicalProcess\":\"GO\",\n",
    "    \"MolecularActivity\":\"GO\",\n",
    "    \"Food\":\"FOODON\",\n",
    "    \"EnvironmentalFeature\":\"ENVO\",\n",
    "    \"PopulationOfIndividualOrganisms\":\"HANCESTRO\",\n",
    "    \"OrganismTaxon\":\"NCBITaxon\",\n",
    "    \"OntologyClass\":\"NCBITaxon\",\n",
    "    \"ExposureEvent\":\"ECTO\",\n",
    "    \"LifeStage\":\"HsapDv\"    \n",
    "}"
   ]
  },
  {
   "cell_type": "markdown",
   "metadata": {},
   "source": [
    "### Automat CORD19 Scibite"
   ]
  },
  {
   "cell_type": "markdown",
   "metadata": {},
   "source": [
    "API Endpoint (https://automat.renci.org/): /cord19-scibite/{source_node_type}/{target_node_type}/{curie}\n",
    "\n",
    "**I don't think the node count or biolink model hierarchy is correct...** (see graph/summary endpoint)\n",
    "\n",
    "Notes: I basically made it the same as Automat CORD19 Scigraph since almost identical setup\n",
    "\n",
    "* biolink_predicate can be found in API Endpoint /cord19-scibite/predicates or /cord19-scibite/graph/summary\n",
    "* traced_provenance / origin: find from /cord19-scibite/about endpoint, but it's returning a blank template right now. **Want versioning from Ranking Agent.** \n",
    "* **numeric measures: want help from Ranking Agent.** These are found from response, but not sure about range, direction and what they are...\n",
    "* **context/relevance: want help from Ranking Agent.** looks like human gene/disease entities so human taxon? Not sure if it should have coronavirus infection context since some of the relationships don't seem to be related to that?"
   ]
  },
  {
   "cell_type": "code",
   "execution_count": 4,
   "metadata": {
    "ExecuteTime": {
     "end_time": "2020-10-26T19:26:39.432573Z",
     "start_time": "2020-10-26T19:26:39.427445Z"
    }
   },
   "outputs": [],
   "source": [
    "metakg_cord19scibite = {      \n",
    "    \"biolink_predicate\":\"related_to\",  ## from TRAPI predicate/edge_label field\n",
    "    \"ingested_predicate_label\":\"SEMMEDDB:ASSOCIATED_WITH\",  ## seen in TRAPI \"relation\" field\n",
    "\n",
    "    ## provenance\n",
    "    \"translator_group\":[\"Ranking_Agent\"],  ## assign this\n",
    "    ## it's hard to tell what nodes may be conflated. \n",
    "    \n",
    "    \"traced_provenance\":  \n",
    "        [{\"name\":\"Automat CORD19 Scibite API\",\n",
    "         \"type\":\"text_mined_database\",  ## assign this\n",
    "         \"version\":\"v5\"}],  ## made up, from previous /about/ endpoint, WE DON'T HAVE THIS\n",
    "    \"origin\":  \n",
    "        {\"name\":\"CORD19\",\n",
    "         \"type\":\"publications\",    ## assign this\n",
    "         \"version\":\"2020-04-05\",     ## made-up, WE DON'T HAVE THIS\n",
    "         \"method\":\"NLP_Scibite\"},        ## assign this\n",
    "\n",
    "    ## measures                  \n",
    "    \"numeric_measures_present\":True,      ## assign this  \n",
    "    \"numeric_measures\":      ## assign this\n",
    "        [{\"name\":\"enrichment_p\",    ## not sure what this is, or if range, direction are right...\n",
    "          \"standard_label\":\"enrichment_p\",  ## being redundant to set this\n",
    "          \"range\":\"(0-1]\", \n",
    "          \"direction\":{\"more_specific\":\"smaller\"}}, \n",
    "         {\"name\":\"num_publications\",  ## not sure what this is, or if range, direction are right... \n",
    "          \"standard_label\":\"num_publications\",  ## being redundant to set this\n",
    "          \"range\":\"[0-1]\", \n",
    "          \"direction\":{\"more_confident\":\"larger\"}}\n",
    "        ],\n",
    "    \"categorical_measures_present\":False\n",
    "}"
   ]
  },
  {
   "cell_type": "code",
   "execution_count": 5,
   "metadata": {
    "ExecuteTime": {
     "end_time": "2020-10-26T19:26:41.179938Z",
     "start_time": "2020-10-26T19:26:41.175840Z"
    },
    "scrolled": true
   },
   "outputs": [
    {
     "data": {
      "text/plain": [
       "[{'name': 'Automat CORD19 Scibite API',\n",
       "  'type': 'text_mined_database',\n",
       "  'version': 'v5'}]"
      ]
     },
     "execution_count": 5,
     "metadata": {},
     "output_type": "execute_result"
    }
   ],
   "source": [
    "metakg_cord19scibite['traced_provenance']"
   ]
  },
  {
   "cell_type": "markdown",
   "metadata": {},
   "source": [
    "The following are what I think the prefixes are for the main IDs for the nodes inside Automat CORD19 Scibite API. "
   ]
  },
  {
   "cell_type": "code",
   "execution_count": null,
   "metadata": {
    "ExecuteTime": {
     "end_time": "2020-10-21T06:04:28.257861Z",
     "start_time": "2020-10-21T06:04:28.254674Z"
    }
   },
   "outputs": [],
   "source": [
    "scigraph_prefixes = {\n",
    "    \"ChemicalSubstance\":\"CHEBI\",\n",
    "    \"Disease\":\"MONDO\",\n",
    "    \"Gene\":\"NCBIGene\",\n",
    "    \"PhenotypicFeature\":(\"HP\", \"UMLS\"),\n",
    "    \"CellularComponent\":\"GO\",\n",
    "    \"BiologicalProcess\":\"GO\",\n",
    "    \"MolecularActivity\":\"GO\",    \n",
    "    \"OrganismTaxon\":\"NCBITaxon\",  ## I don't think the node count \n",
    "    \"OntologyClass\":(\"NCBITaxon\", \"MESH\"),\n",
    "    \"LifeStage\":\"IDO\",    \n",
    "    \"GeneProduct\":\"UniProtKB\"\n",
    "}"
   ]
  },
  {
   "cell_type": "markdown",
   "metadata": {},
   "source": [
    "### Automat HMDB: "
   ]
  },
  {
   "cell_type": "markdown",
   "metadata": {},
   "source": [
    "API Endpoint (https://automat.renci.org/): /hmdb/{source_node_type}/{target_node_type}/{curie}\n",
    "\n",
    "\n",
    "Notes: \n",
    "* **edges have a publications field but I think it's always an empty list. Edges also appear to have no measure related data. Ask?**\n",
    "* **this API does not flip the predicate when the subject/object flip. The structure of relationships in this API is that chemical_substance -> other entities. so right now metaKG level needs to flip the predicate**\n",
    "    * ChemicalSubstance -> Gene\n",
    "    * ChemicalSubstance -> Disease\n",
    "    * ChemicalSubstance -> PhenotypicFeature\n",
    "    * ChemicalSubstance -> Pathway\n",
    "* there is some info in /hmdb/about endpoint, but it's not helpful for versioning. **Want versioning from Ranking Agent.** \n",
    "* biolink_predicate / relationships currently in the graph found in hmdb/graph/summary. But it was messy since the way of tracing ancestor biolink model entity classes was...hard to read. "
   ]
  },
  {
   "cell_type": "markdown",
   "metadata": {},
   "source": [
    "The following are what I think the prefixes are for the main IDs for the nodes inside the HMDB API. \n",
    "* sometimes, response holds the name in the synonyms slot (not the name slot...which has the CHEMBL.COMPOUND ID)\n",
    "* I noticed here https://automat.renci.org/hmdb/disease/chemical_substance/MONDO:0011422 that there is a node with a Pubchem ID (no CHEBI ID) and an empty string for name. The correct name is Aldosteronum https://pubchem.ncbi.nlm.nih.gov/compound/24758425."
   ]
  },
  {
   "cell_type": "code",
   "execution_count": null,
   "metadata": {
    "ExecuteTime": {
     "end_time": "2020-10-21T07:00:59.973474Z",
     "start_time": "2020-10-21T07:00:59.970670Z"
    }
   },
   "outputs": [],
   "source": [
    "hmdb_prefixes = {\n",
    "    \"ChemicalSubstance\":(\"CHEBI\", \"PUBCHEM\"), \n",
    "    \"Disease\":(\"MONDO\", \"UMLS\"),\n",
    "    \"Gene\":\"NCBIGene\",\n",
    "    \"PhenotypicFeature\":(\"HP\", \"UMLS\"),\n",
    "    \"Pathway\":\"SMPDB\"\n",
    "}"
   ]
  },
  {
   "cell_type": "markdown",
   "metadata": {},
   "source": [
    "#### ChemicalSubstance -> Gene / Gene -> ChemicalSubstance"
   ]
  },
  {
   "cell_type": "markdown",
   "metadata": {},
   "source": [
    "Symmetrical predicate: \"interacts_with\"     \n",
    "node conflation: Automat conflates gene and gene product. \n",
    "\n",
    "Example: \n",
    "* Angiotensin I (CHEBI:2718) to Gene: only one answer REN, NCBIGene:5972 https://automat.renci.org/hmdb/chemical_substance/gene/CHEBI:2718\n",
    "    * inverse: REN to Chemical_substance: https://automat.renci.org/hmdb/gene/chemical_substance/NCBIGene:5972\n",
    "\n",
    "\n",
    "Notes:\n",
    "* Need a new predicate? HMDB states that the small molecules have enzymes annotated to them where the enzyme is \"any protein which catalyzes chemical reactions involving the small molecule\". https://hmdb.ca/sources . So it may be better to say something about reactions? But I guess interacts_with seems to match the data. \n",
    "\n",
    "Issue with method field:\n",
    "* the response edge says \"hmdb.metabolite_to_enzyme\" for edge_source of these edges. However...\n",
    "    * cystine (CHEBI:35491) to Gene: gives SLC16A10 as one of multiple answers https://automat.renci.org/hmdb/chemical_substance/gene/CHEBI:35491 with the edge_source: \"hmdb.metabolite_to_enzyme\"\n",
    "    * On the HMDB website for cystine, SLC16A10 is actually listed as a transporter, not an enzyme...https://hmdb.ca/metabolites/HMDB0000192#transporters \n",
    "    * **So Automat likely pulled all proteins (shown on the website together here https://hmdb.ca/metabolites/HMDB0000192/metabolite_protein_links) and then assigned the edge_source as enzyme even though not all of the original annots were enzyme...**\n",
    "    * therefore, I'm choosing to set the method as \"extract_metabolite_to_protein_annot\""
   ]
  },
  {
   "cell_type": "code",
   "execution_count": 13,
   "metadata": {
    "ExecuteTime": {
     "end_time": "2020-10-26T20:32:48.843653Z",
     "start_time": "2020-10-26T20:32:48.839353Z"
    }
   },
   "outputs": [],
   "source": [
    "metakg_hmdb_cggc = {      \n",
    "    \"biolink_predicate\":\"interacts_with\",  ## from TRAPI predicate/edge_label field\n",
    "    \"ingested_ontology_predicate\":\"RO:0002434\",  ## from TRAPI relation field\n",
    "\n",
    "    ## provenance\n",
    "    \"translator_group\":[\"Ranking_Agent\"],  ## assign this\n",
    "    \"nodes_conflated\": \n",
    "        {'Gene':\n",
    "            {'conflated_type':'GeneProduct', 'where':'Automat HMDB API'}},\n",
    "    ## HMDB actually links chemical substances -> enzymes/uniprot ID\n",
    "    ## so it must be automat that is converting enzyme/protein -> gene. \n",
    "    \"traced_provenance\":  \n",
    "        [{\"name\":\"Automat HMDB API\",\n",
    "         \"type\":\"knowledgebase\",  ## assign this\n",
    "         \"version\":\"v5\"}],  ## made up, WE DON'T HAVE THIS\n",
    "    \"origin\":  \n",
    "        {\"name\":\"HMDB\",    ## took from TRAPI source_database field\n",
    "         \"type\":\"knowledgebase\",    ## assign this\n",
    "         \"version\":\"2020-03-03\",     ## made-up, WE DON'T HAVE THIS\n",
    "         ## TRAPI edge_source field says \"hmdb.metabolite_to_enzyme\", see issues with that in markdown chunk above\n",
    "         \"method\":\"extract_metabolite_to_protein_annot\"},   \n",
    "\n",
    "    ## measures                  \n",
    "    \"numeric_measures_present\":False,      ## assign this  \n",
    "    \"categorical_measures_present\":False\n",
    "}"
   ]
  },
  {
   "cell_type": "code",
   "execution_count": 14,
   "metadata": {
    "ExecuteTime": {
     "end_time": "2020-10-26T20:32:49.492435Z",
     "start_time": "2020-10-26T20:32:49.488220Z"
    }
   },
   "outputs": [
    {
     "data": {
      "text/plain": [
       "{'biolink_predicate': 'interacts_with',\n",
       " 'ingested_ontology_predicate': 'RO:0002434',\n",
       " 'translator_group': ['Ranking_Agent'],\n",
       " 'nodes_conflated': {'Gene': {'conflated_type': 'GeneProduct',\n",
       "   'where': 'Automat HMDB API'}},\n",
       " 'traced_provenance': [{'name': 'Automat HMDB API',\n",
       "   'type': 'knowledgebase',\n",
       "   'version': 'v5'}],\n",
       " 'origin': {'name': 'HMDB',\n",
       "  'type': 'knowledgebase',\n",
       "  'version': '2020-03-03',\n",
       "  'method': 'extract_metabolite_to_protein_annot'},\n",
       " 'numeric_measures_present': False,\n",
       " 'categorical_measures_present': False}"
      ]
     },
     "execution_count": 14,
     "metadata": {},
     "output_type": "execute_result"
    }
   ],
   "source": [
    "metakg_hmdb_cggc"
   ]
  },
  {
   "cell_type": "markdown",
   "metadata": {},
   "source": [
    "#### ChemicalSubstance -> Disease / Disease -> ChemicalSubstance"
   ]
  },
  {
   "cell_type": "markdown",
   "metadata": {},
   "source": [
    "Symmetrical predicate: \"related_to\"    \n",
    "\n",
    "Example: \n",
    "* Angiotensin I (CHEBI:2718) to Disease: only one answer autosomal recessive proximal renal tubular acidosis, MONDO:0011422   https://automat.renci.org/hmdb/chemical_substance/disease/CHEBI:2718\n",
    "    * inverse: autosomal recessive proximal renal tubular acidosis, MONDO:0011422 to chemical substance (multiple results) https://automat.renci.org/hmdb/disease/chemical_substance/MONDO:0011422 \n",
    "\n",
    "* cystine (CHEBI:35491) to Disease https://automat.renci.org/hmdb/chemical_substance/disease/CHEBI%3A35491\n",
    "    * notice the results for this same chemical to phenotypic feature in the next section of this notebook, and the [likely source in HMDB](https://hmdb.ca/metabolites/HMDB0000192#biological_properties). It looks like Automat took the disease references here and tried to resolve the terms to either a MONDO term or HP term (no overlap between them)...\n",
    "    * notice that one result is a disease with no MONDO id, so the main ID is the UMLS (UMLS:C1827878) and there is an empty string for the name... Using [this](https://www.ebi.ac.uk/spot/oxo/index), the term resolves to \"Refractory localization-related epilepsy\"\n",
    "\n",
    "Issue with method field:\n",
    "* the response edge says \"hmdb.disease_to_metabolite\" for edge_source of these edges. \n",
    "* However, the HMDB website's disease lookup for [proximal renal tubular acidosis](https://hmdb.ca/unearth/q?utf8=%E2%9C%93&query=+proximal+renal+tubular+acidosis&searcher=diseases&button=) does not give the metabolites described in the answer. So Automat likely did not pull from the disease entries to get metabolites. \n",
    "* Instead, the HMDB website's metabolite lookup for [cystine](https://hmdb.ca/metabolites/HMDB0000192#biological_properties) gives diseases that are in the ChemicalSubstance -> Disease edge. \n",
    "* **ChemicalSubstance -> PhenotypicFeature response edges say \"hmdb.metabolite_to_disease\". In other words, Automat took the metabolite entries and pulled the diseases from there. This looks more accurate to the situation, so I'm going to make this assumption** "
   ]
  },
  {
   "cell_type": "code",
   "execution_count": 11,
   "metadata": {
    "ExecuteTime": {
     "end_time": "2020-10-26T20:15:30.413073Z",
     "start_time": "2020-10-26T20:15:30.409449Z"
    }
   },
   "outputs": [],
   "source": [
    "metakg_hmdb_cddc = {      \n",
    "    \"biolink_predicate\":\"related_to\",  ## from TRAPI predicate/edge_label field\n",
    "    \"ingested_predicate_label\":\"SEMMEDDB:ASSOCIATED_WITH\",  ## from TRAPI relation field\n",
    "\n",
    "    ## provenance\n",
    "    \"translator_group\":[\"Ranking_Agent\"],  ## assign this\n",
    "    \"traced_provenance\":  \n",
    "        [{\"name\":\"Automat HMDB API\",\n",
    "         \"type\":\"knowledgebase\",  ## assign this\n",
    "         \"version\":\"v5\"}],  ## made up, WE DON'T HAVE THIS\n",
    "    \"origin\":  \n",
    "        {\"name\":\"HMDB\",    ## took from TRAPI source_database field\n",
    "         \"type\":\"knowledgebase\",    ## assign this\n",
    "         \"version\":\"2020-03-03\",     ## made-up, WE DON'T HAVE THIS\n",
    "         ## TRAPI edge_source field says \"hmdb.disease_to_metabolite\", see issues with that in markdown chunk above\n",
    "         \"method\":\"extract_metabolite_to_disease_annot\"},   \n",
    "\n",
    "    ## measures                  \n",
    "    \"numeric_measures_present\":False,      ## assign this  \n",
    "    \"categorical_measures_present\":False\n",
    "}"
   ]
  },
  {
   "cell_type": "code",
   "execution_count": 12,
   "metadata": {
    "ExecuteTime": {
     "end_time": "2020-10-26T20:15:31.961510Z",
     "start_time": "2020-10-26T20:15:31.958052Z"
    }
   },
   "outputs": [
    {
     "data": {
      "text/plain": [
       "{'name': 'HMDB',\n",
       " 'type': 'knowledgebase',\n",
       " 'version': '2020-03-03',\n",
       " 'method': 'extract_metabolite_to_disease_annot'}"
      ]
     },
     "execution_count": 12,
     "metadata": {},
     "output_type": "execute_result"
    }
   ],
   "source": [
    "metakg_hmdb_cddc['origin']"
   ]
  },
  {
   "cell_type": "markdown",
   "metadata": {},
   "source": [
    "#### ChemicalSubstance -> PhenotypicFeature / PhenotypicFeature ->ChemicalSubstance"
   ]
  },
  {
   "cell_type": "markdown",
   "metadata": {},
   "source": [
    "Symmetrical predicate: \"related_to\"    \n",
    "node conflation: Automat conflates phenotypicFeature and disease.\n",
    "\n",
    "Example: \n",
    "* Cystine (CHEBI:35491) to PhenotypicFeature: https://automat.renci.org/hmdb/chemical_substance/phenotypic_feature/CHEBI:35491\n",
    "    * notice the results for this same chemical to disease in the section above this one,, and the [likely source in HMDB](https://hmdb.ca/metabolites/HMDB0000192#biological_properties). It looks like Automat took the disease references here and tried to resolve the terms to either a MONDO term or HP term (no overlap between them)...\n",
    "    * notice that one result is a disease with no HP id, so the main ID is the UMLS (UMLS:C0393710) and there is an empty string for the name...  Using [this](https://www.ebi.ac.uk/spot/oxo/index), the term resolves to \"Seizures in response to acute event\"\n",
    "* an example of inverse: Molybdenum cofactor deficiency, HP:0003570 to chemical substance (multiple results) https://automat.renci.org/hmdb/phenotypic_feature/chemical_substance/HP:0003570\n",
    "\n",
    "Correct method field:\n",
    "* The HMDB website's metabolite lookup for [cystine](https://hmdb.ca/metabolites/HMDB0000192#biological_properties) gives diseases that are in the ChemicalSubstance -> PhenotypicFeature edge. \n",
    "    * the HMDB website's disease lookup for [molybdenum cofactor](https://hmdb.ca/unearth/q?utf8=%E2%9C%93&query=Molybdenum+cofactor&searcher=diseases&button=) does not give the metabolites described in the answer. So Automat likely did not pull from the disease entries to get metabolites. \n",
    "* **ChemicalSubstance -> PhenotypicFeature response edges say \"hmdb.metabolite_to_disease\". In other words, Automat took the metabolite entries and pulled the diseases from there. This looks more accurate to the situation, so I'm going to make this assumption** "
   ]
  },
  {
   "cell_type": "code",
   "execution_count": 15,
   "metadata": {
    "ExecuteTime": {
     "end_time": "2020-10-26T20:38:35.806055Z",
     "start_time": "2020-10-26T20:38:35.801835Z"
    }
   },
   "outputs": [],
   "source": [
    "metakg_hmdb_cppc = {      \n",
    "    \"biolink_predicate\":\"related_to\",  ## from TRAPI predicate/edge_label field\n",
    "    \"ingested_predicate_label\":\"SEMMEDDB:ASSOCIATED_WITH\",  ## from TRAPI relation field\n",
    "\n",
    "    ## provenance\n",
    "    \"translator_group\":[\"Ranking_Agent\"],  ## assign this\n",
    "    \"nodes_conflated\": \n",
    "        {'PhenotypicFeature':\n",
    "            {'conflated_type':'Disease', 'where':'Automat HMDB API'}},\n",
    "    ## HMDB actually links chemical substances -> diseases\n",
    "    ## so Automat is the one resolving disease names to PhenotypicFeatures/HP terms \n",
    "    \"traced_provenance\":  \n",
    "        [{\"name\":\"Automat HMDB API\",\n",
    "         \"type\":\"knowledgebase\",  ## assign this\n",
    "         \"version\":\"v5\"}],  ## made up, WE DON'T HAVE THIS\n",
    "    \"origin\":  \n",
    "        {\"name\":\"HMDB\",    ## took from TRAPI source_database field\n",
    "         \"type\":\"knowledgebase\",    ## assign this\n",
    "         \"version\":\"2020-03-03\",     ## made-up, WE DON'T HAVE THIS\n",
    "         ## TRAPI edge_source field says \"hmdb.metabolite_to_disease\", seems good\n",
    "         \"method\":\"extract_metabolite_to_disease_annot\"},   \n",
    "\n",
    "    ## measures                  \n",
    "    \"numeric_measures_present\":False,      ## assign this  \n",
    "    \"categorical_measures_present\":False\n",
    "}"
   ]
  },
  {
   "cell_type": "code",
   "execution_count": 17,
   "metadata": {
    "ExecuteTime": {
     "end_time": "2020-10-26T20:38:41.814488Z",
     "start_time": "2020-10-26T20:38:41.810779Z"
    }
   },
   "outputs": [
    {
     "data": {
      "text/plain": [
       "{'PhenotypicFeature': {'conflated_type': 'Disease',\n",
       "  'where': 'Automat HMDB API'}}"
      ]
     },
     "execution_count": 17,
     "metadata": {},
     "output_type": "execute_result"
    }
   ],
   "source": [
    "metakg_hmdb_cppc['nodes_conflated']"
   ]
  },
  {
   "cell_type": "markdown",
   "metadata": {},
   "source": [
    "#### WIP: ChemicalSubstance -> Pathway"
   ]
  },
  {
   "cell_type": "markdown",
   "metadata": {},
   "source": [
    "Not-symmetrical predicate: \"participates_in\"    \n",
    "\n",
    "Example: \n",
    "* 3-Dechloroethylifosfamide (CHEBI:80558) to Pathway: https://automat.renci.org/hmdb/chemical_substance/pathway/CHEBI:80558\n",
    "    * notice that this is associated with 4 pathways. However, I checked and the two Ifosfamide pathways (metabolism and action) look identical. Similarly, the two Cyclophosphamide pathways (metabolism and action) look identical. Click on the SMPDB/Pathwhiz diagrams [here](https://hmdb.ca/metabolites/HMDB0013858#biological_properties) to see it. That's an original DB issue, not something to do much about.  \n",
    "\n",
    "Correct method field:\n",
    "* **ChemicalSubstance -> Pathway response edges say \"hmdb.metabolite_to_pathway\". In other words, Automat took the metabolite entries and pulled the pathways from there. This looks more accurate to the situation, so I'm going to make this assumption** "
   ]
  },
  {
   "cell_type": "code",
   "execution_count": 18,
   "metadata": {
    "ExecuteTime": {
     "end_time": "2020-10-26T21:08:09.088466Z",
     "start_time": "2020-10-26T21:08:09.084956Z"
    }
   },
   "outputs": [],
   "source": [
    "metakg_hmdb_cpath = {      \n",
    "    \"biolink_predicate\":\"participates_in\",  ## from TRAPI predicate/edge_label field\n",
    "    \"ingested_ontology_predicate\":\"RO:0000056\",  ## from TRAPI relation field\n",
    "\n",
    "    ## provenance\n",
    "    \"translator_group\":[\"Ranking_Agent\"],  ## assign this\n",
    "    \"traced_provenance\":  \n",
    "        [{\"name\":\"Automat HMDB API\",\n",
    "         \"type\":\"knowledgebase\",  ## assign this\n",
    "         \"version\":\"v5\"}],  ## made up, WE DON'T HAVE THIS\n",
    "    \"origin\":  \n",
    "        {\"name\":\"HMDB\",    ## took from TRAPI source_database field\n",
    "         \"type\":\"knowledgebase\",    ## assign this\n",
    "         \"version\":\"2020-03-03\",     ## made-up, WE DON'T HAVE THIS\n",
    "         ## TRAPI edge_source field says \"hmdb.metabolite_to_pathway\", seems good\n",
    "         \"method\":\"extract_metabolite_to_pathway_annot\"},   \n",
    "\n",
    "    ## measures                  \n",
    "    \"numeric_measures_present\":False,      ## assign this  \n",
    "    \"categorical_measures_present\":False\n",
    "}"
   ]
  },
  {
   "cell_type": "code",
   "execution_count": 17,
   "metadata": {
    "ExecuteTime": {
     "end_time": "2020-10-26T20:38:41.814488Z",
     "start_time": "2020-10-26T20:38:41.810779Z"
    }
   },
   "outputs": [
    {
     "data": {
      "text/plain": [
       "{'PhenotypicFeature': {'conflated_type': 'Disease',\n",
       "  'where': 'Automat HMDB API'}}"
      ]
     },
     "execution_count": 17,
     "metadata": {},
     "output_type": "execute_result"
    }
   ],
   "source": [
    "metakg_hmdb_cppc['nodes_conflated']"
   ]
  },
  {
   "cell_type": "markdown",
   "metadata": {},
   "source": [
    "## Response edge level"
   ]
  },
  {
   "cell_type": "markdown",
   "metadata": {},
   "source": [
    "### Automat CORD19 Scigraph"
   ]
  },
  {
   "cell_type": "markdown",
   "metadata": {},
   "source": [
    "Breast cancer (disease, MONDO:0016419) -> Gene: https://automat.renci.org/cord19-scigraph/disease/gene/MONDO:0016419\n",
    "has one result (EGF, NCBIGene:1950)\n",
    "\n",
    "Edge-specific parts: \n",
    "- put the specific measure values (new key:value into dictionaries)"
   ]
  },
  {
   "cell_type": "code",
   "execution_count": null,
   "metadata": {
    "ExecuteTime": {
     "end_time": "2020-10-23T06:29:25.198508Z",
     "start_time": "2020-10-23T06:29:25.195494Z"
    }
   },
   "outputs": [],
   "source": [
    "results_cord19scigraph = copy.deepcopy(metakg_cord19scigraph)\n",
    "\n",
    "results_cord19scigraph['numeric_measures'][0]['value'] = 8.931854891316576e-9   ## enrichment_p\n",
    "results_cord19scigraph['numeric_measures'][1]['value'] = 0.03796023182396457   ## num_publications"
   ]
  },
  {
   "cell_type": "code",
   "execution_count": null,
   "metadata": {
    "ExecuteTime": {
     "end_time": "2020-10-23T06:30:57.656038Z",
     "start_time": "2020-10-23T06:30:57.651755Z"
    },
    "scrolled": true
   },
   "outputs": [],
   "source": [
    "results_cord19scigraph['numeric_measures']"
   ]
  },
  {
   "cell_type": "markdown",
   "metadata": {},
   "source": [
    "### Automat CORD19 Scibite"
   ]
  },
  {
   "cell_type": "markdown",
   "metadata": {},
   "source": [
    "ANGPT2 (Gene, NCBIGene:285) -> \"chloride ion binding\" (MolecularActivity, GO:0031404): https://automat.renci.org/cord19-scibite/gene/molecular_activity/NCBIGene:285\n",
    "\n",
    "Edge-specific parts: \n",
    "- put the specific measure values (new key:value into dictionaries)"
   ]
  },
  {
   "cell_type": "code",
   "execution_count": null,
   "metadata": {
    "ExecuteTime": {
     "end_time": "2020-10-23T06:32:15.570589Z",
     "start_time": "2020-10-23T06:32:15.567638Z"
    }
   },
   "outputs": [],
   "source": [
    "results_cord19scibite = copy.deepcopy(metakg_cord19scibite)\n",
    "\n",
    "results_cord19scibite['numeric_measures'][0]['value'] = 2.0377154960709163e-8   ## enrichment_p\n",
    "results_cord19scibite['numeric_measures'][1]['value'] = 0.854319545770893   ## num_publications"
   ]
  },
  {
   "cell_type": "code",
   "execution_count": null,
   "metadata": {
    "ExecuteTime": {
     "end_time": "2020-10-23T06:34:02.150258Z",
     "start_time": "2020-10-23T06:34:02.146592Z"
    },
    "scrolled": true
   },
   "outputs": [],
   "source": [
    "results_cord19scibite['origin']"
   ]
  },
  {
   "cell_type": "code",
   "execution_count": null,
   "metadata": {},
   "outputs": [],
   "source": []
  }
 ],
 "metadata": {
  "kernelspec": {
   "display_name": "Python 3",
   "language": "python",
   "name": "python3"
  },
  "language_info": {
   "codemirror_mode": {
    "name": "ipython",
    "version": 3
   },
   "file_extension": ".py",
   "mimetype": "text/x-python",
   "name": "python",
   "nbconvert_exporter": "python",
   "pygments_lexer": "ipython3",
   "version": "3.7.9"
  },
  "toc": {
   "base_numbering": 1,
   "nav_menu": {},
   "number_sections": true,
   "sideBar": true,
   "skip_h1_title": false,
   "title_cell": "Table of Contents",
   "title_sidebar": "Contents",
   "toc_cell": false,
   "toc_position": {
    "height": "calc(100% - 180px)",
    "left": "10px",
    "top": "150px",
    "width": "392.183px"
   },
   "toc_section_display": true,
   "toc_window_display": true
  },
  "varInspector": {
   "cols": {
    "lenName": 16,
    "lenType": 16,
    "lenVar": 40
   },
   "kernels_config": {
    "python": {
     "delete_cmd_postfix": "",
     "delete_cmd_prefix": "del ",
     "library": "var_list.py",
     "varRefreshCmd": "print(var_dic_list())"
    },
    "r": {
     "delete_cmd_postfix": ") ",
     "delete_cmd_prefix": "rm(",
     "library": "var_list.r",
     "varRefreshCmd": "cat(var_dic_list()) "
    }
   },
   "types_to_exclude": [
    "module",
    "function",
    "builtin_function_or_method",
    "instance",
    "_Feature"
   ],
   "window_display": false
  }
 },
 "nbformat": 4,
 "nbformat_minor": 4
}
