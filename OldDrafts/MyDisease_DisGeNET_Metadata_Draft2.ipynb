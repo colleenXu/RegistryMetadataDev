{
 "cells": [
  {
   "cell_type": "code",
   "execution_count": 1,
   "metadata": {
    "ExecuteTime": {
     "end_time": "2020-11-16T07:08:38.566292Z",
     "start_time": "2020-11-16T07:08:38.563173Z"
    }
   },
   "outputs": [],
   "source": [
    "## CX: allows multiple lines of code to print from one code block\n",
    "from IPython.core.interactiveshell import InteractiveShell\n",
    "InteractiveShell.ast_node_interactivity = \"all\"\n",
    "\n",
    "import copy  ## for deepcopy"
   ]
  },
  {
   "cell_type": "markdown",
   "metadata": {},
   "source": [
    "So a metaKG edge has:\n",
    "* one subject and one object (one way, both are BioThings types/Biolink Model entities, they can be the same type)\n",
    "* one predicate\n",
    "* one \"source\"/path of provenance\n",
    "\n",
    "Note that this API is built from the tab-delimited download files from DisGeNET (not the SQLite, RDF, or Cytoscape files). \n",
    "\n",
    "Note: talked to Kevin about using v7.0 for the version. "
   ]
  },
  {
   "cell_type": "markdown",
   "metadata": {},
   "source": [
    "**note to self: the parsing of this response below to get the other properties out, build publications/website fields will have go after getting this back and perhaps before the mapping/augmentation done on the response below**"
   ]
  },
  {
   "cell_type": "code",
   "execution_count": 2,
   "metadata": {
    "ExecuteTime": {
     "end_time": "2020-11-16T07:08:38.652273Z",
     "start_time": "2020-11-16T07:08:38.648314Z"
    }
   },
   "outputs": [],
   "source": [
    "## example of JSON response for genes_related_to_disease:\n",
    "sample_GDA_response = {  \n",
    "        \"DPI\": 0.846,     ## map to response with augmentation\n",
    "        \"DSI\": 0.536,     ## map to response with augmentation\n",
    "        \"EI\": 0.917,      ## map to response with augmentation\n",
    "        \"YearFinal\": 2019,  ## CURRENTLY SKIPPED/NOT MAPPED\n",
    "        \"YearInitial\": 1998,  ## CURRENTLY SKIPPED/NOT MAPPED\n",
    "        \"gene_id\": 9,  ## mapped to response (output)\n",
    "        \"gene_name\": \"NAT1\",\n",
    "        \"pubmed\": [9610785,10090301,10698485,12835615,12860276,   ## map to response with augmentation\n",
    "                   14517345,15084249,15090724,15226672,16049806,\n",
    "                   17010218,17973251,18288399,22333393,24467436,\n",
    "                   25528056,27648926,28359264,29315819,29339455,\n",
    "                   29901116,29964355,29969986,31358821],\n",
    "        \"score\": 0.1,  ## map to response with augmentation\n",
    "        ## this field is replaced \n",
    "        ## \"source\": \"BEFREE\"\n",
    "      }"
   ]
  },
  {
   "cell_type": "markdown",
   "metadata": {},
   "source": [
    "## x-bte-reusable-info"
   ]
  },
  {
   "cell_type": "code",
   "execution_count": 3,
   "metadata": {
    "ExecuteTime": {
     "end_time": "2020-11-16T07:08:38.710783Z",
     "start_time": "2020-11-16T07:08:38.686141Z"
    }
   },
   "outputs": [],
   "source": [
    "x_bte_reusable_info = {\n",
    "    ## put here since it's used repeatedly\n",
    "    \"request\": {\n",
    "        ## BELOW DOESN'T WORK\n",
    "        ## API MAY NEED CHANGES TO \"FILTER\"/\"SEARCH\" DOCUMENTS RETURNED AND SET SOURCE FIELD AS A SPECIFIC FIELD \n",
    "        \"disgenet-LHGDN_input-disease\": {\n",
    "            \"body\": {\n",
    "                \"q\": '{inputs[0]&source=LHGDN}',\n",
    "                \"scopes\": 'mondo.xrefs.umls, disgenet.xrefs.umls'},\n",
    "            \"header\": \"application/x-www-form-urlencoded\"},\n",
    "        \"disgenet-BEFREE_input-disease\": {\n",
    "            \"body\": {\n",
    "                \"q\": '{inputs[0]&source=BEFREE}',\n",
    "                \"scopes\": 'mondo.xrefs.umls, disgenet.xrefs.umls'},\n",
    "            \"header\": \"application/x-www-form-urlencoded\"}, \n",
    "        \"disgenet-HPO_input-disease\": {\n",
    "            \"body\": {\n",
    "                \"q\": '{inputs[0]&source=HPO}',\n",
    "                \"scopes\": 'mondo.xrefs.umls, disgenet.xrefs.umls'},\n",
    "            \"header\": \"application/x-www-form-urlencoded\"},     \n",
    "        \"disgenet-UNIPROT_input-disease\": {\n",
    "            \"body\": {\n",
    "                \"q\": '{inputs[0]&source=UNIPROT}',\n",
    "                \"scopes\": 'mondo.xrefs.umls, disgenet.xrefs.umls'},\n",
    "            \"header\": \"application/x-www-form-urlencoded\"},  \n",
    "        \"disgenet-CGI_input-disease\": {\n",
    "            \"body\": {\n",
    "                \"q\": '{inputs[0]&source=CGI}',\n",
    "                \"scopes\": 'mondo.xrefs.umls, disgenet.xrefs.umls'},\n",
    "            \"header\": \"application/x-www-form-urlencoded\"},  \n",
    "        \"disgenet-CLINVAR_input-disease\": {\n",
    "            \"body\": {\n",
    "                \"q\": '{inputs[0]&source=CLINVAR}',\n",
    "                \"scopes\": 'mondo.xrefs.umls, disgenet.xrefs.umls'},\n",
    "            \"header\": \"application/x-www-form-urlencoded\"},   \n",
    "        \"disgenet-GWASCAT_input-disease\": {\n",
    "            \"body\": {\n",
    "                \"q\": '{inputs[0]&source=GWASCAT}',\n",
    "                \"scopes\": 'mondo.xrefs.umls, disgenet.xrefs.umls'},\n",
    "            \"header\": \"application/x-www-form-urlencoded\"},        \n",
    "        \"disgenet-GWASDB_input-disease\": {\n",
    "            \"body\": {\n",
    "                \"q\": '{inputs[0]&source=GWASDB}',\n",
    "                \"scopes\": 'mondo.xrefs.umls, disgenet.xrefs.umls'},\n",
    "            \"header\": \"application/x-www-form-urlencoded\"},        \n",
    "        \"disgenet-MGD_input-disease\": {\n",
    "            \"body\": {\n",
    "                \"q\": '{inputs[0]&source=MGD}',\n",
    "                \"scopes\": 'mondo.xrefs.umls, disgenet.xrefs.umls'},\n",
    "            \"header\": \"application/x-www-form-urlencoded\"},  \n",
    "        \"disgenet-RGD_input-disease\": {\n",
    "            \"body\": {\n",
    "                \"q\": '{inputs[0]&source=RGD}',\n",
    "                \"scopes\": 'mondo.xrefs.umls, disgenet.xrefs.umls'},\n",
    "            \"header\": \"application/x-www-form-urlencoded\"},     \n",
    "        \"disgenet-CTDmouse_input-disease\": {\n",
    "            \"body\": {\n",
    "                \"q\": '{inputs[0]&source=CTD_mouse}',\n",
    "                \"scopes\": 'mondo.xrefs.umls, disgenet.xrefs.umls'},\n",
    "            \"header\": \"application/x-www-form-urlencoded\"},        \n",
    "        \"disgenet-CTDrat_input-disease\": {\n",
    "            \"body\": {\n",
    "                \"q\": '{inputs[0]&source=CTD_rat}',\n",
    "                \"scopes\": 'mondo.xrefs.umls, disgenet.xrefs.umls'},\n",
    "            \"header\": \"application/x-www-form-urlencoded\"},    \n",
    "        \"disgenet-CLINGEN_input-disease\": {\n",
    "            \"body\": {\n",
    "                \"q\": '{inputs[0]&source=CLINGEN}',\n",
    "                \"scopes\": 'mondo.xrefs.umls, disgenet.xrefs.umls'},\n",
    "            \"header\": \"application/x-www-form-urlencoded\"},      \n",
    "        \"disgenet-GENOMICS-ENG_input-disease\": {\n",
    "            \"body\": {\n",
    "                \"q\": '{inputs[0]&source=GENOMICS_ENGLAND}',\n",
    "                \"scopes\": 'mondo.xrefs.umls, disgenet.xrefs.umls'},\n",
    "            \"header\": \"application/x-www-form-urlencoded\"},      \n",
    "        \"disgenet-CTDhuman_input-disease\": {\n",
    "            \"body\": {\n",
    "                \"q\": '{inputs[0]&source=CTD_human}',\n",
    "                \"scopes\": 'mondo.xrefs.umls, disgenet.xrefs.umls'},\n",
    "            \"header\": \"application/x-www-form-urlencoded\"},   \n",
    "        \"disgenet-PSYGENET_input-disease\": {\n",
    "            \"body\": {\n",
    "                \"q\": '{inputs[0]&source=PSYGENET}',\n",
    "                \"scopes\": 'mondo.xrefs.umls, disgenet.xrefs.umls'},\n",
    "            \"header\": \"application/x-www-form-urlencoded\"}, \n",
    "        \"disgenet-ORPHANET_input-disease\": {\n",
    "            \"body\": {\n",
    "                \"q\": '{inputs[0]&source=ORPHANET}',\n",
    "                \"scopes\": 'mondo.xrefs.umls, disgenet.xrefs.umls'},\n",
    "            \"header\": \"application/x-www-form-urlencoded\"},            \n",
    "    }, \n",
    "    \"input-disease_UMLS\":[\n",
    "        {\"id\": \"UMLS\", \"semantic\": \"Disease\"}\n",
    "    ],\n",
    "    \"output-gene_disgenet_NCBIGene\":[\n",
    "        ## replaced x-bte-response-mapping with this and \n",
    "        ##   other mappings to response fields for publications and measure values   \n",
    "        {\"id\": \"NCBIGene\", \"semantic\": \"Gene\", \n",
    "         \"mapped_response_field\": sample_GDA_response[\"gene_id\"]}\n",
    "    ],      \n",
    "    \"predicate_is-associated_with\":\n",
    "        ## biolink maps to TRAPI/biolink-model predicate\n",
    "        ## id maps to TRAPI/biolink-model relation\n",
    "        ## biolink is required, id and label are optional, id must be a CURIE   \n",
    "        {\n",
    "            \"biolink\": \"related_to\",\n",
    "            \"id\": 'SIO:001403',\n",
    "            \"label\": \"is_associated_with\"            \n",
    "        },\n",
    "    \"provenance\":\n",
    "    {\n",
    "        \"mydisease-method-ingest-consolidate\": {\n",
    "            \"name\": \"MyDisease.info API\",\n",
    "            \"knowledge_source_type\": \"service\",\n",
    "            ## trying to get these dates parsed as simple strings\n",
    "            \"version\": \"2020-10-26\",\n",
    "            \"method\": \"ingest_consolidate\"              \n",
    "        },\n",
    "        \"mydisease-method-ingest-only\": {\n",
    "            \"name\": \"MyDisease.info API\",\n",
    "            \"knowledge_source_type\": \"service\",\n",
    "            ## trying to get these dates parsed as simple strings\n",
    "            \"version\": \"2020-10-26\",\n",
    "            \"method\": \"ingest\"               \n",
    "        },\n",
    "        \"disgenet-method-NLP_LHGDN\": {\n",
    "            \"name\": \"DisGeNET\",\n",
    "            \"knowledge_source_type\": \"knowledgebase\",\n",
    "            \"version\": \"v7.0\",\n",
    "            \"method\": \"NLP_LHGDN\",\n",
    "            \"method_info\": {\n",
    "                \"url\": ['https://www.disgenet.org/dbinfo#section11']\n",
    "            }\n",
    "        },\n",
    "        \"disgenet-LHGDN_origin\": {\n",
    "            \"name\": \"GeneRIF\",\n",
    "            \"knowledge_source_type\": \"text\",\n",
    "            ## trying to get these dates parsed as simple strings          \n",
    "            \"version\": \"2009-03-31\",\n",
    "            \"knowledge_source_context\": {\n",
    "                \"taxon_specific\": ['NCBITaxon:9606']\n",
    "            }\n",
    "        },\n",
    "        \"disgenet-method-NLP_BEFREE\": {\n",
    "            \"name\": \"DisGeNET\",\n",
    "            \"knowledge_source_type\": \"knowledgebase\",\n",
    "            \"version\": \"v7.0\",\n",
    "            \"method\": \"NLP_BEFREE\",\n",
    "            \"method_info\": {\n",
    "                \"url\": ['https://www.disgenet.org/dbinfo#section11']\n",
    "            }\n",
    "        },        \n",
    "        \"disgenet-BEFREE_origin\": {\n",
    "            \"name\": \"MEDLINE_abstracts\",\n",
    "            \"knowledge_source_type\": \"publications\",\n",
    "            \"version\": \"1970-01_to_2019-12\"\n",
    "        },\n",
    "        \"disgenet-method-propagate-phenotype\": {\n",
    "            \"name\": \"DisGeNET\",\n",
    "            \"knowledge_source_type\": \"knowledgebase\",\n",
    "            \"version\": \"v7.0\",\n",
    "            \"method\": \"propagate_from_phenotype\",\n",
    "            \"method_info\": {\n",
    "                \"url\": ['https://www.disgenet.org/dbinfo#section11']\n",
    "            }\n",
    "        },  \n",
    "        \"disgenet-HPO_origin\": {\n",
    "            \"name\": \"HPO_annotations\",\n",
    "            \"knowledge_source_type\": \"knowledgebase\"\n",
    "        },  \n",
    "        \"disgenet-method-propagate-protein-var\": {\n",
    "            \"name\": \"DisGeNET\",\n",
    "            \"knowledge_source_type\": \"knowledgebase\",\n",
    "            \"version\": \"v7.0\",\n",
    "            \"method\": \"propagate_from_protein_variant\",\n",
    "            \"method_info\": {\n",
    "                \"url\": ['https://www.disgenet.org/dbinfo#section11']\n",
    "            }\n",
    "        },  \n",
    "        \"disgenet-UNIPROT_origin\": {\n",
    "           \"name\": \"UniProt\",\n",
    "            \"knowledge_source_type\": \"knowledgebase\",\n",
    "            \"knowledge_source_context\": {\n",
    "                \"taxon_specific\": ['NCBITaxon:9606']\n",
    "            }\n",
    "        },\n",
    "        \"disgenet-method-ingest-only\": {\n",
    "            \"name\": \"DisGeNET\",\n",
    "            \"knowledge_source_type\": \"knowledgebase\",\n",
    "            \"version\": \"v7.0\",\n",
    "            \"method\": \"ingest\",\n",
    "            \"method_info\": {\n",
    "                \"url\": ['https://www.disgenet.org/dbinfo#section11']\n",
    "            }\n",
    "        },  \n",
    "        \"disgenet-CGI_origin\": {\n",
    "           \"name\": \"Cancer_Genome_Interpreter\",\n",
    "            \"knowledge_source_type\": \"knowledgebase\",\n",
    "        },      \n",
    "        \"disgenet-method-propagate-seq-var\": {\n",
    "            \"name\": \"DisGeNET\",\n",
    "            \"knowledge_source_type\": \"knowledgebase\",\n",
    "            \"version\": \"v7.0\",\n",
    "            \"method\": \"propagate_from_sequence_variant\",\n",
    "            \"method_info\": {\n",
    "                \"url\": ['https://www.disgenet.org/dbinfo#section11']\n",
    "            }\n",
    "        },  \n",
    "        \"disgenet-CLINVAR_origin\": {\n",
    "           \"name\": \"ClinVar\",\n",
    "            \"knowledge_source_type\": \"knowledgebase\",\n",
    "        },    \n",
    "        \"disgenet-GWASCAT_origin\": {\n",
    "           \"name\": \"NHGRI_EBI_GWAS_CATALOG\",\n",
    "            \"knowledge_source_type\": \"knowledgebase\",\n",
    "        },       \n",
    "        \"disgenet-GWASDB_origin\": {\n",
    "           \"name\": \"GWASdb\",\n",
    "            \"knowledge_source_type\": \"knowledgebase\",\n",
    "        },   \n",
    "        \"disgenet-method-propagate-orthology\": {\n",
    "            \"name\": \"DisGeNET\",\n",
    "            \"knowledge_source_type\": \"knowledgebase\",\n",
    "            \"version\": \"v7.0\",\n",
    "            \"method\": \"propagate_from_orthology\",\n",
    "            \"method_info\": {\n",
    "                \"url\": ['https://www.disgenet.org/dbinfo#section11']\n",
    "            }\n",
    "        },  \n",
    "        \"disgenet-MGD_origin\": {\n",
    "           \"name\": \"MGD\",\n",
    "            \"knowledge_source_type\": \"knowledgebase\",\n",
    "            \"knowledge_source_context\": {\n",
    "                \"taxon_specific\": ['NCBITaxon:10090']\n",
    "            }\n",
    "        },  \n",
    "        \"disgenet-RGD_origin\": {\n",
    "            \"name\": \"RGD\",\n",
    "            \"knowledge_source_type\": \"knowledgebase\"\n",
    "        },  \n",
    "        \"disgenet-CTDmouse_origin\": {\n",
    "           \"name\": \"CTD\",\n",
    "            \"knowledge_source_type\": \"knowledgebase\",\n",
    "            \"knowledge_source_context\": {\n",
    "                \"taxon_specific\": ['NCBITaxon:10090']\n",
    "            }\n",
    "        },   \n",
    "        \"disgenet-CTDrat_origin\": {\n",
    "           \"name\": \"CTD\",\n",
    "            \"knowledge_source_type\": \"knowledgebase\",\n",
    "            \"knowledge_source_context\": {\n",
    "                \"taxon_specific\": ['NCBITaxon:10116']\n",
    "            }\n",
    "        },  \n",
    "        \"disgenet-CLINGEN_origin\": {\n",
    "           \"name\": \"ClinGen\",\n",
    "            \"knowledge_source_type\": \"knowledgebase\",\n",
    "        },   \n",
    "        \"disgenet-GENOMICS-ENG_origin\": {\n",
    "           \"name\": \"Genomics_England_PanelApp\",\n",
    "            \"knowledge_source_type\": \"knowledgebase\",\n",
    "        },   \n",
    "        \"disgenet-CTDhuman_origin\": {\n",
    "           \"name\": \"CTD\",\n",
    "            \"knowledge_source_type\": \"knowledgebase\",\n",
    "            \"knowledge_source_context\": {\n",
    "                \"taxon_specific\": ['NCBITaxon:9606']\n",
    "            }\n",
    "        },  \n",
    "        \"disgenet-PSYGENET_origin\": {\n",
    "           \"name\": \"PsyGeNET\",\n",
    "            \"knowledge_source_type\": \"knowledgebase\",\n",
    "        },  \n",
    "        \"disgenet-ORPHANET_origin\": {\n",
    "           \"name\": \"Orphanet\",\n",
    "            \"knowledge_source_type\": \"knowledgebase\",\n",
    "        },          \n",
    "    },\n",
    "    ## all disease-gene and gene-disease operations using disgenet will have these properties \n",
    "    \"disgenet_dggd\": {  \n",
    "        ## the rest is specific to DisGeNET's current gene-disease association TSV data dump\n",
    "        \"nodes_conflated\":[\n",
    "            {\"original_type\": \"Disease\",\n",
    "             \"conflated_type\": \"PhenotypicFeature\",\n",
    "             \"where\": \"DisGeNET\"},\n",
    "            {\"original_type\": \"Gene\",\n",
    "             \"conflated_type\": \"GeneProduct\",\n",
    "             \"where\": \"DisGeNET\"}],          \n",
    "        \"numeric_measures\": \n",
    "        [\n",
    "            {\"name\":\"GDAscore\",\n",
    "             \"standard_label\":\"association_score\",  ## name Translator may want to use\n",
    "             \"value\": sample_GDA_response[\"score\"],  ## mapped to response field \n",
    "             \"range\":{\"minExclusive\":0,\"maxInclusive\":1},\n",
    "             \"numeric_direction_info\":\n",
    "                 ## score is a measure of \"how much evidence there is\", so it can be related to confidence \n",
    "                 {\"larger\": \"more_evidence\"},\n",
    "             \"measure_info\":\n",
    "                 {\"url\":[\"https://www.disgenet.org/dbinfo#section31\"]}\n",
    "            },\n",
    "            {\"name\":\"EI\",\n",
    "             \"standard_label\":\"evidence_index\",  \n",
    "             \"value\": sample_GDA_response[\"EI\"],\n",
    "             \"range\":{\"minExclusive\":0,\"maxInclusive\":1},\n",
    "             \"numeric_direction_info\":\n",
    "                 ## score is a measure of \"how often a publication says there is vs there isn't an association\" \n",
    "                 {\"larger\": \"more_consistent\"},\n",
    "             \"measure_info\":\n",
    "                 {\"url\":[\"https://www.disgenet.org/dbinfo#section36\"]}\n",
    "            },\n",
    "            {\"name\":\"DSI\",\n",
    "             \"standard_label\":\"gene_specific_to_disease\",  ## name Translator may want to use\n",
    "             \"value\": sample_GDA_response[\"DSI\"],\n",
    "             \"ontology_term\": \"SIO:001351\",  ## SIO has a class for this\n",
    "             \"range\":{\"minExclusive\":0,\"maxInclusive\":1},\n",
    "             \"numeric_direction_info\":\n",
    "                 {\"more_specific\": \"larger\"},\n",
    "             \"measure_info\":\n",
    "                 {\"url\":[\"https://www.disgenet.org/dbinfo#section33\"]}\n",
    "            },\n",
    "            {\"name\":\"DPI\",\n",
    "             \"standard_label\":\"gene_specific_to_disease_class\",  ## name Translator may want to use\n",
    "             \"value\": sample_GDA_response[\"DPI\"],\n",
    "             \"ontology_term\": \"SIO:001352\",  ## SIO has a class for this\n",
    "             \"range\":{\"minExclusive\":0,\"maxInclusive\":1},\n",
    "             \"numeric_direction_info\":\n",
    "                 {\"more_specific\": \"smaller\"},\n",
    "             \"measure_info\":\n",
    "                 {\"url\":[\"https://www.disgenet.org/dbinfo#section34\"]}\n",
    "            },\n",
    "        ],                  \n",
    "    }\n",
    "}"
   ]
  },
  {
   "cell_type": "markdown",
   "metadata": {},
   "source": [
    "## Disease -> Gene "
   ]
  },
  {
   "cell_type": "markdown",
   "metadata": {
    "heading_collapsed": true
   },
   "source": [
    "### For LHGDN"
   ]
  },
  {
   "cell_type": "code",
   "execution_count": 4,
   "metadata": {
    "ExecuteTime": {
     "end_time": "2020-11-16T07:08:38.760083Z",
     "start_time": "2020-11-16T07:08:38.755399Z"
    },
    "hidden": true
   },
   "outputs": [],
   "source": [
    "disease_gene1_disgenet_lhgdn = {\n",
    "    ## the modified old metadata for the query\n",
    "    \"supportBatch\":True,\n",
    "    \"inputSeparator\":\",\",\n",
    "    \"parameters\": {\"fields\": \"disgenet.genes_related_to_disease\"},\n",
    "    \"requestBody\": x_bte_reusable_info[\"request\"][\"disgenet-LHGDN_input-disease\"],\n",
    "    \"inputs\": [\n",
    "        x_bte_reusable_info[\"input-disease_UMLS\"]\n",
    "    ],\n",
    "    \"outputs\": [\n",
    "        x_bte_reusable_info[\"output-gene_disgenet_NCBIGene\"]\n",
    "    ],\n",
    "    ## new metadata stuff starts here\n",
    "    ## PREDICATE-RELATED: WHAT IS THE RELATIONSHIP\n",
    "    \"predicate\": x_bte_reusable_info[\"predicate_is-associated_with\"],\n",
    "    \"nodes_conflated\": x_bte_reusable_info[\"disgenet_dggd\"][\"nodes_conflated\"],\n",
    "    ## PROVENANCE-RELATED/WHERE THE RELATIONSHIP CAME FROM\n",
    "    \"provenance\": [\n",
    "        x_bte_reusable_info[\"provenance\"][\"mydisease-method-ingest-consolidate\"],\n",
    "        x_bte_reusable_info[\"provenance\"][\"disgenet-method-NLP_LHGDN\"],\n",
    "        x_bte_reusable_info[\"provenance\"][\"disgenet-LHGDN_origin\"]        \n",
    "    ],\n",
    "    \"publications\": {\"pmid\": sample_GDA_response[\"pubmed\"]},\n",
    "    ## MEASURES\n",
    "    \"numeric_measures_present\":True,\n",
    "    \"numeric_measures\": x_bte_reusable_info[\"disgenet_dggd\"][\"numeric_measures\"],\n",
    "    \"category_measures_present\":False\n",
    "    }"
   ]
  },
  {
   "cell_type": "code",
   "execution_count": 5,
   "metadata": {
    "ExecuteTime": {
     "end_time": "2020-11-16T07:08:38.773713Z",
     "start_time": "2020-11-16T07:08:38.762346Z"
    },
    "hidden": true
   },
   "outputs": [
    {
     "data": {
      "text/plain": [
       "[{'name': 'MyDisease.info API',\n",
       "  'knowledge_source_type': 'service',\n",
       "  'version': '2020-10-26',\n",
       "  'method': 'ingest_consolidate'},\n",
       " {'name': 'DisGeNET',\n",
       "  'knowledge_source_type': 'knowledgebase',\n",
       "  'version': 'v7.0',\n",
       "  'method': 'NLP_LHGDN',\n",
       "  'method_info': {'url': ['https://www.disgenet.org/dbinfo#section11']}},\n",
       " {'name': 'GeneRIF',\n",
       "  'knowledge_source_type': 'text',\n",
       "  'version': '2009-03-31',\n",
       "  'knowledge_source_context': {'taxon_specific': ['NCBITaxon:9606']}}]"
      ]
     },
     "execution_count": 5,
     "metadata": {},
     "output_type": "execute_result"
    }
   ],
   "source": [
    "disease_gene1_disgenet_lhgdn[\"provenance\"]"
   ]
  },
  {
   "cell_type": "markdown",
   "metadata": {
    "heading_collapsed": true
   },
   "source": [
    "### For BEFREE"
   ]
  },
  {
   "cell_type": "code",
   "execution_count": 6,
   "metadata": {
    "ExecuteTime": {
     "end_time": "2020-11-16T07:08:38.795447Z",
     "start_time": "2020-11-16T07:08:38.790740Z"
    },
    "hidden": true
   },
   "outputs": [],
   "source": [
    "disease_gene2_disgenet_befree = {\n",
    "    \"supportBatch\":True,\n",
    "    \"inputSeparator\":\",\",\n",
    "    \"parameters\": {\"fields\": \"disgenet.genes_related_to_disease\"},\n",
    "    \"requestBody\": x_bte_reusable_info[\"request\"][\"disgenet-BEFREE_input-disease\"],\n",
    "    \"inputs\": [\n",
    "        x_bte_reusable_info[\"input-disease_UMLS\"]\n",
    "    ],\n",
    "    \"outputs\": [\n",
    "        x_bte_reusable_info[\"output-gene_disgenet_NCBIGene\"]\n",
    "    ],\n",
    "    \"predicate\": x_bte_reusable_info[\"predicate_is-associated_with\"],\n",
    "    \"nodes_conflated\": x_bte_reusable_info[\"disgenet_dggd\"][\"nodes_conflated\"],\n",
    "    \"provenance\": [\n",
    "        x_bte_reusable_info[\"provenance\"][\"mydisease-method-ingest-consolidate\"],\n",
    "        x_bte_reusable_info[\"provenance\"][\"disgenet-method-NLP_BEFREE\"],\n",
    "        x_bte_reusable_info[\"provenance\"][\"disgenet-BEFREE_origin\"]        \n",
    "    ],\n",
    "    \"publications\": {\"pmid\": sample_GDA_response[\"pubmed\"]},\n",
    "    \"numeric_measures_present\":True,\n",
    "    \"numeric_measures\": x_bte_reusable_info[\"disgenet_dggd\"][\"numeric_measures\"],\n",
    "    \"category_measures_present\":False\n",
    "    }"
   ]
  },
  {
   "cell_type": "code",
   "execution_count": 7,
   "metadata": {
    "ExecuteTime": {
     "end_time": "2020-11-16T07:08:38.802058Z",
     "start_time": "2020-11-16T07:08:38.797634Z"
    },
    "hidden": true
   },
   "outputs": [
    {
     "data": {
      "text/plain": [
       "[{'name': 'MyDisease.info API',\n",
       "  'knowledge_source_type': 'service',\n",
       "  'version': '2020-10-26',\n",
       "  'method': 'ingest_consolidate'},\n",
       " {'name': 'DisGeNET',\n",
       "  'knowledge_source_type': 'knowledgebase',\n",
       "  'version': 'v7.0',\n",
       "  'method': 'NLP_BEFREE',\n",
       "  'method_info': {'url': ['https://www.disgenet.org/dbinfo#section11']}},\n",
       " {'name': 'MEDLINE_abstracts',\n",
       "  'knowledge_source_type': 'publications',\n",
       "  'version': '1970-01_to_2019-12'}]"
      ]
     },
     "execution_count": 7,
     "metadata": {},
     "output_type": "execute_result"
    }
   ],
   "source": [
    "disease_gene2_disgenet_befree[\"provenance\"]"
   ]
  },
  {
   "cell_type": "markdown",
   "metadata": {
    "heading_collapsed": true
   },
   "source": [
    "### For HPO"
   ]
  },
  {
   "cell_type": "code",
   "execution_count": 8,
   "metadata": {
    "ExecuteTime": {
     "end_time": "2020-11-16T07:08:38.835182Z",
     "start_time": "2020-11-16T07:08:38.830307Z"
    },
    "hidden": true
   },
   "outputs": [],
   "source": [
    "disease_gene3_disgenet_hpo = {\n",
    "    \"supportBatch\":True,\n",
    "    \"inputSeparator\":\",\",\n",
    "    \"parameters\": {\"fields\": \"disgenet.genes_related_to_disease\"},\n",
    "    \"requestBody\": x_bte_reusable_info[\"request\"][\"disgenet-HPO_input-disease\"],\n",
    "    \"inputs\": [\n",
    "        x_bte_reusable_info[\"input-disease_UMLS\"]\n",
    "    ],\n",
    "    \"outputs\": [\n",
    "        x_bte_reusable_info[\"output-gene_disgenet_NCBIGene\"]\n",
    "    ],\n",
    "    \"predicate\": x_bte_reusable_info[\"predicate_is-associated_with\"],\n",
    "    \"nodes_conflated\": x_bte_reusable_info[\"disgenet_dggd\"][\"nodes_conflated\"],\n",
    "    \"provenance\": [\n",
    "        x_bte_reusable_info[\"provenance\"][\"mydisease-method-ingest-only\"],\n",
    "        x_bte_reusable_info[\"provenance\"][\"disgenet-method-propagate-phenotype\"],\n",
    "        x_bte_reusable_info[\"provenance\"][\"disgenet-HPO_origin\"]        \n",
    "    ],\n",
    "    \"publications\": {\"pmid\": sample_GDA_response[\"pubmed\"]},\n",
    "    \"numeric_measures_present\":True,\n",
    "    \"numeric_measures\": x_bte_reusable_info[\"disgenet_dggd\"][\"numeric_measures\"],\n",
    "    \"category_measures_present\":False\n",
    "    }"
   ]
  },
  {
   "cell_type": "code",
   "execution_count": 9,
   "metadata": {
    "ExecuteTime": {
     "end_time": "2020-11-16T07:08:38.841428Z",
     "start_time": "2020-11-16T07:08:38.837265Z"
    },
    "hidden": true
   },
   "outputs": [
    {
     "data": {
      "text/plain": [
       "[{'name': 'MyDisease.info API',\n",
       "  'knowledge_source_type': 'service',\n",
       "  'version': '2020-10-26',\n",
       "  'method': 'ingest'},\n",
       " {'name': 'DisGeNET',\n",
       "  'knowledge_source_type': 'knowledgebase',\n",
       "  'version': 'v7.0',\n",
       "  'method': 'propagate_from_phenotype',\n",
       "  'method_info': {'url': ['https://www.disgenet.org/dbinfo#section11']}},\n",
       " {'name': 'HPO_annotations', 'knowledge_source_type': 'knowledgebase'}]"
      ]
     },
     "execution_count": 9,
     "metadata": {},
     "output_type": "execute_result"
    }
   ],
   "source": [
    "disease_gene3_disgenet_hpo[\"provenance\"]"
   ]
  },
  {
   "cell_type": "markdown",
   "metadata": {
    "heading_collapsed": true
   },
   "source": [
    "### For UNIPROT"
   ]
  },
  {
   "cell_type": "code",
   "execution_count": 10,
   "metadata": {
    "ExecuteTime": {
     "end_time": "2020-11-16T07:08:38.875336Z",
     "start_time": "2020-11-16T07:08:38.870456Z"
    },
    "hidden": true
   },
   "outputs": [],
   "source": [
    "disease_gene4_disgenet_uniprot = {\n",
    "    \"supportBatch\":True,\n",
    "    \"inputSeparator\":\",\",\n",
    "    \"parameters\": {\"fields\": \"disgenet.genes_related_to_disease\"},\n",
    "    \"requestBody\": x_bte_reusable_info[\"request\"][\"disgenet-UNIPROT_input-disease\"],\n",
    "    \"inputs\": [\n",
    "        x_bte_reusable_info[\"input-disease_UMLS\"]\n",
    "    ],\n",
    "    \"outputs\": [\n",
    "        x_bte_reusable_info[\"output-gene_disgenet_NCBIGene\"]\n",
    "    ],\n",
    "    \"predicate\": x_bte_reusable_info[\"predicate_is-associated_with\"],\n",
    "    \"nodes_conflated\": x_bte_reusable_info[\"disgenet_dggd\"][\"nodes_conflated\"],\n",
    "    \"provenance\": [\n",
    "        x_bte_reusable_info[\"provenance\"][\"mydisease-method-ingest-consolidate\"],\n",
    "        x_bte_reusable_info[\"provenance\"][\"disgenet-method-propagate-protein-var\"],\n",
    "        x_bte_reusable_info[\"provenance\"][\"disgenet-UNIPROT_origin\"]        \n",
    "    ],\n",
    "    \"publications\": {\"pmid\": sample_GDA_response[\"pubmed\"]},\n",
    "    \"numeric_measures_present\":True,\n",
    "    \"numeric_measures\": x_bte_reusable_info[\"disgenet_dggd\"][\"numeric_measures\"],\n",
    "    \"category_measures_present\":False\n",
    "    }"
   ]
  },
  {
   "cell_type": "code",
   "execution_count": 11,
   "metadata": {
    "ExecuteTime": {
     "end_time": "2020-11-16T07:08:38.881876Z",
     "start_time": "2020-11-16T07:08:38.877556Z"
    },
    "hidden": true
   },
   "outputs": [
    {
     "data": {
      "text/plain": [
       "[{'name': 'MyDisease.info API',\n",
       "  'knowledge_source_type': 'service',\n",
       "  'version': '2020-10-26',\n",
       "  'method': 'ingest_consolidate'},\n",
       " {'name': 'DisGeNET',\n",
       "  'knowledge_source_type': 'knowledgebase',\n",
       "  'version': 'v7.0',\n",
       "  'method': 'propagate_from_protein_variant',\n",
       "  'method_info': {'url': ['https://www.disgenet.org/dbinfo#section11']}},\n",
       " {'name': 'UniProt',\n",
       "  'knowledge_source_type': 'knowledgebase',\n",
       "  'knowledge_source_context': {'taxon_specific': ['NCBITaxon:9606']}}]"
      ]
     },
     "execution_count": 11,
     "metadata": {},
     "output_type": "execute_result"
    }
   ],
   "source": [
    "disease_gene4_disgenet_uniprot[\"provenance\"]"
   ]
  },
  {
   "cell_type": "markdown",
   "metadata": {
    "heading_collapsed": true
   },
   "source": [
    "### For CGI"
   ]
  },
  {
   "cell_type": "code",
   "execution_count": 12,
   "metadata": {
    "ExecuteTime": {
     "end_time": "2020-11-16T07:08:38.915190Z",
     "start_time": "2020-11-16T07:08:38.910491Z"
    },
    "hidden": true
   },
   "outputs": [],
   "source": [
    "disease_gene5_disgenet_cgi = {\n",
    "    \"supportBatch\":True,\n",
    "    \"inputSeparator\":\",\",\n",
    "    \"parameters\": {\"fields\": \"disgenet.genes_related_to_disease\"},\n",
    "    \"requestBody\": x_bte_reusable_info[\"request\"][\"disgenet-CGI_input-disease\"],\n",
    "    \"inputs\": [\n",
    "        x_bte_reusable_info[\"input-disease_UMLS\"]\n",
    "    ],\n",
    "    \"outputs\": [\n",
    "        x_bte_reusable_info[\"output-gene_disgenet_NCBIGene\"]\n",
    "    ],\n",
    "    \"predicate\": x_bte_reusable_info[\"predicate_is-associated_with\"],\n",
    "    \"nodes_conflated\": x_bte_reusable_info[\"disgenet_dggd\"][\"nodes_conflated\"],\n",
    "    \"provenance\": [\n",
    "        x_bte_reusable_info[\"provenance\"][\"mydisease-method-ingest-only\"],\n",
    "        x_bte_reusable_info[\"provenance\"][\"disgenet-method-ingest-only\"],\n",
    "        x_bte_reusable_info[\"provenance\"][\"disgenet-CGI_origin\"]        \n",
    "    ],\n",
    "    \"publications\": {\"pmid\": sample_GDA_response[\"pubmed\"]},\n",
    "    \"numeric_measures_present\":True,\n",
    "    \"numeric_measures\": x_bte_reusable_info[\"disgenet_dggd\"][\"numeric_measures\"],\n",
    "    \"category_measures_present\":False\n",
    "    }"
   ]
  },
  {
   "cell_type": "code",
   "execution_count": 13,
   "metadata": {
    "ExecuteTime": {
     "end_time": "2020-11-16T07:08:38.921999Z",
     "start_time": "2020-11-16T07:08:38.917478Z"
    },
    "hidden": true
   },
   "outputs": [
    {
     "data": {
      "text/plain": [
       "[{'name': 'MyDisease.info API',\n",
       "  'knowledge_source_type': 'service',\n",
       "  'version': '2020-10-26',\n",
       "  'method': 'ingest'},\n",
       " {'name': 'DisGeNET',\n",
       "  'knowledge_source_type': 'knowledgebase',\n",
       "  'version': 'v7.0',\n",
       "  'method': 'ingest',\n",
       "  'method_info': {'url': ['https://www.disgenet.org/dbinfo#section11']}},\n",
       " {'name': 'Cancer_Genome_Interpreter',\n",
       "  'knowledge_source_type': 'knowledgebase'}]"
      ]
     },
     "execution_count": 13,
     "metadata": {},
     "output_type": "execute_result"
    }
   ],
   "source": [
    "disease_gene5_disgenet_cgi[\"provenance\"]"
   ]
  },
  {
   "cell_type": "markdown",
   "metadata": {
    "heading_collapsed": true
   },
   "source": [
    "### For CLINVAR"
   ]
  },
  {
   "cell_type": "code",
   "execution_count": 14,
   "metadata": {
    "ExecuteTime": {
     "end_time": "2020-11-16T07:08:38.954946Z",
     "start_time": "2020-11-16T07:08:38.950202Z"
    },
    "hidden": true
   },
   "outputs": [],
   "source": [
    "disease_gene6_disgenet_clinvar = {\n",
    "    \"supportBatch\":True,\n",
    "    \"inputSeparator\":\",\",\n",
    "    \"parameters\": {\"fields\": \"disgenet.genes_related_to_disease\"},\n",
    "    \"requestBody\": x_bte_reusable_info[\"request\"][\"disgenet-CLINVAR_input-disease\"],\n",
    "    \"inputs\": [\n",
    "        x_bte_reusable_info[\"input-disease_UMLS\"]\n",
    "    ],\n",
    "    \"outputs\": [\n",
    "        x_bte_reusable_info[\"output-gene_disgenet_NCBIGene\"]\n",
    "    ],\n",
    "    \"predicate\": x_bte_reusable_info[\"predicate_is-associated_with\"],\n",
    "    \"nodes_conflated\": x_bte_reusable_info[\"disgenet_dggd\"][\"nodes_conflated\"],\n",
    "    \"provenance\": [\n",
    "        x_bte_reusable_info[\"provenance\"][\"mydisease-method-ingest-consolidate\"],\n",
    "        x_bte_reusable_info[\"provenance\"][\"disgenet-method-propagate-seq-var\"],\n",
    "        x_bte_reusable_info[\"provenance\"][\"disgenet-CLINVAR_origin\"]        \n",
    "    ],\n",
    "    \"publications\": {\"pmid\": sample_GDA_response[\"pubmed\"]},\n",
    "    \"numeric_measures_present\":True,\n",
    "    \"numeric_measures\": x_bte_reusable_info[\"disgenet_dggd\"][\"numeric_measures\"],\n",
    "    \"category_measures_present\":False\n",
    "    }"
   ]
  },
  {
   "cell_type": "code",
   "execution_count": 15,
   "metadata": {
    "ExecuteTime": {
     "end_time": "2020-11-16T07:08:38.961462Z",
     "start_time": "2020-11-16T07:08:38.957200Z"
    },
    "hidden": true,
    "scrolled": true
   },
   "outputs": [
    {
     "data": {
      "text/plain": [
       "[{'name': 'MyDisease.info API',\n",
       "  'knowledge_source_type': 'service',\n",
       "  'version': '2020-10-26',\n",
       "  'method': 'ingest_consolidate'},\n",
       " {'name': 'DisGeNET',\n",
       "  'knowledge_source_type': 'knowledgebase',\n",
       "  'version': 'v7.0',\n",
       "  'method': 'propagate_from_sequence_variant',\n",
       "  'method_info': {'url': ['https://www.disgenet.org/dbinfo#section11']}},\n",
       " {'name': 'ClinVar', 'knowledge_source_type': 'knowledgebase'}]"
      ]
     },
     "execution_count": 15,
     "metadata": {},
     "output_type": "execute_result"
    }
   ],
   "source": [
    "disease_gene6_disgenet_clinvar[\"provenance\"]"
   ]
  },
  {
   "cell_type": "markdown",
   "metadata": {
    "heading_collapsed": true
   },
   "source": [
    "### For GWASCAT"
   ]
  },
  {
   "cell_type": "code",
   "execution_count": 16,
   "metadata": {
    "ExecuteTime": {
     "end_time": "2020-11-16T07:08:38.994927Z",
     "start_time": "2020-11-16T07:08:38.990293Z"
    },
    "hidden": true
   },
   "outputs": [],
   "source": [
    "disease_gene7_disgenet_gwascat = {\n",
    "    \"supportBatch\":True,\n",
    "    \"inputSeparator\":\",\",\n",
    "    \"parameters\": {\"fields\": \"disgenet.genes_related_to_disease\"},\n",
    "    \"requestBody\": x_bte_reusable_info[\"request\"][\"disgenet-GWASCAT_input-disease\"],\n",
    "    \"inputs\": [\n",
    "        x_bte_reusable_info[\"input-disease_UMLS\"]\n",
    "    ],\n",
    "    \"outputs\": [\n",
    "        x_bte_reusable_info[\"output-gene_disgenet_NCBIGene\"]\n",
    "    ],\n",
    "    \"predicate\": x_bte_reusable_info[\"predicate_is-associated_with\"],\n",
    "    \"nodes_conflated\": x_bte_reusable_info[\"disgenet_dggd\"][\"nodes_conflated\"],\n",
    "    \"provenance\": [\n",
    "        x_bte_reusable_info[\"provenance\"][\"mydisease-method-ingest-consolidate\"],\n",
    "        x_bte_reusable_info[\"provenance\"][\"disgenet-method-propagate-seq-var\"],\n",
    "        x_bte_reusable_info[\"provenance\"][\"disgenet-GWASCAT_origin\"]        \n",
    "    ],\n",
    "    \"publications\": {\"pmid\": sample_GDA_response[\"pubmed\"]},\n",
    "    \"numeric_measures_present\":True,\n",
    "    \"numeric_measures\": x_bte_reusable_info[\"disgenet_dggd\"][\"numeric_measures\"],\n",
    "    \"category_measures_present\":False\n",
    "    }"
   ]
  },
  {
   "cell_type": "code",
   "execution_count": 17,
   "metadata": {
    "ExecuteTime": {
     "end_time": "2020-11-16T07:08:39.001324Z",
     "start_time": "2020-11-16T07:08:38.997230Z"
    },
    "hidden": true,
    "scrolled": true
   },
   "outputs": [
    {
     "data": {
      "text/plain": [
       "[{'name': 'MyDisease.info API',\n",
       "  'knowledge_source_type': 'service',\n",
       "  'version': '2020-10-26',\n",
       "  'method': 'ingest_consolidate'},\n",
       " {'name': 'DisGeNET',\n",
       "  'knowledge_source_type': 'knowledgebase',\n",
       "  'version': 'v7.0',\n",
       "  'method': 'propagate_from_sequence_variant',\n",
       "  'method_info': {'url': ['https://www.disgenet.org/dbinfo#section11']}},\n",
       " {'name': 'NHGRI_EBI_GWAS_CATALOG', 'knowledge_source_type': 'knowledgebase'}]"
      ]
     },
     "execution_count": 17,
     "metadata": {},
     "output_type": "execute_result"
    }
   ],
   "source": [
    "disease_gene7_disgenet_gwascat[\"provenance\"]"
   ]
  },
  {
   "cell_type": "markdown",
   "metadata": {
    "heading_collapsed": true
   },
   "source": [
    "### For GWASDB"
   ]
  },
  {
   "cell_type": "code",
   "execution_count": 18,
   "metadata": {
    "ExecuteTime": {
     "end_time": "2020-11-16T07:08:39.034921Z",
     "start_time": "2020-11-16T07:08:39.029652Z"
    },
    "hidden": true
   },
   "outputs": [],
   "source": [
    "disease_gene8_disgenet_gwasdb = {\n",
    "    \"supportBatch\":True,\n",
    "    \"inputSeparator\":\",\",\n",
    "    \"parameters\": {\"fields\": \"disgenet.genes_related_to_disease\"},\n",
    "    \"requestBody\": x_bte_reusable_info[\"request\"][\"disgenet-GWASDB_input-disease\"],\n",
    "    \"inputs\": [\n",
    "        x_bte_reusable_info[\"input-disease_UMLS\"]\n",
    "    ],\n",
    "    \"outputs\": [\n",
    "        x_bte_reusable_info[\"output-gene_disgenet_NCBIGene\"]\n",
    "    ],\n",
    "    \"predicate\": x_bte_reusable_info[\"predicate_is-associated_with\"],\n",
    "    \"nodes_conflated\": x_bte_reusable_info[\"disgenet_dggd\"][\"nodes_conflated\"],\n",
    "    \"provenance\": [\n",
    "        x_bte_reusable_info[\"provenance\"][\"mydisease-method-ingest-consolidate\"],\n",
    "        x_bte_reusable_info[\"provenance\"][\"disgenet-method-propagate-seq-var\"],\n",
    "        x_bte_reusable_info[\"provenance\"][\"disgenet-GWASDB_origin\"]        \n",
    "    ],\n",
    "    \"publications\": {\"pmid\": sample_GDA_response[\"pubmed\"]},\n",
    "    \"numeric_measures_present\":True,\n",
    "    \"numeric_measures\": x_bte_reusable_info[\"disgenet_dggd\"][\"numeric_measures\"],\n",
    "    \"category_measures_present\":False\n",
    "    }"
   ]
  },
  {
   "cell_type": "code",
   "execution_count": 19,
   "metadata": {
    "ExecuteTime": {
     "end_time": "2020-11-16T07:08:39.041251Z",
     "start_time": "2020-11-16T07:08:39.037334Z"
    },
    "hidden": true,
    "scrolled": true
   },
   "outputs": [
    {
     "data": {
      "text/plain": [
       "[{'name': 'MyDisease.info API',\n",
       "  'knowledge_source_type': 'service',\n",
       "  'version': '2020-10-26',\n",
       "  'method': 'ingest_consolidate'},\n",
       " {'name': 'DisGeNET',\n",
       "  'knowledge_source_type': 'knowledgebase',\n",
       "  'version': 'v7.0',\n",
       "  'method': 'propagate_from_sequence_variant',\n",
       "  'method_info': {'url': ['https://www.disgenet.org/dbinfo#section11']}},\n",
       " {'name': 'GWASdb', 'knowledge_source_type': 'knowledgebase'}]"
      ]
     },
     "execution_count": 19,
     "metadata": {},
     "output_type": "execute_result"
    }
   ],
   "source": [
    "disease_gene8_disgenet_gwasdb[\"provenance\"]"
   ]
  },
  {
   "cell_type": "markdown",
   "metadata": {
    "heading_collapsed": true
   },
   "source": [
    "### For MGD"
   ]
  },
  {
   "cell_type": "code",
   "execution_count": 20,
   "metadata": {
    "ExecuteTime": {
     "end_time": "2020-11-16T07:08:39.074679Z",
     "start_time": "2020-11-16T07:08:39.069993Z"
    },
    "hidden": true
   },
   "outputs": [],
   "source": [
    "disease_gene9_disgenet_mgd = {\n",
    "    \"supportBatch\":True,\n",
    "    \"inputSeparator\":\",\",\n",
    "    \"parameters\": {\"fields\": \"disgenet.genes_related_to_disease\"},\n",
    "    \"requestBody\": x_bte_reusable_info[\"request\"][\"disgenet-MGD_input-disease\"],\n",
    "    \"inputs\": [\n",
    "        x_bte_reusable_info[\"input-disease_UMLS\"]\n",
    "    ],\n",
    "    \"outputs\": [\n",
    "        x_bte_reusable_info[\"output-gene_disgenet_NCBIGene\"]\n",
    "    ],\n",
    "    \"predicate\": x_bte_reusable_info[\"predicate_is-associated_with\"],\n",
    "    \"nodes_conflated\": x_bte_reusable_info[\"disgenet_dggd\"][\"nodes_conflated\"],\n",
    "    \"provenance\": [\n",
    "        x_bte_reusable_info[\"provenance\"][\"mydisease-method-ingest-consolidate\"],\n",
    "        x_bte_reusable_info[\"provenance\"][\"disgenet-method-propagate-orthology\"],\n",
    "        x_bte_reusable_info[\"provenance\"][\"disgenet-MGD_origin\"]        \n",
    "    ],\n",
    "    \"publications\": {\"pmid\": sample_GDA_response[\"pubmed\"]},\n",
    "    \"numeric_measures_present\":True,\n",
    "    \"numeric_measures\": x_bte_reusable_info[\"disgenet_dggd\"][\"numeric_measures\"],\n",
    "    \"category_measures_present\":False\n",
    "    }"
   ]
  },
  {
   "cell_type": "code",
   "execution_count": 21,
   "metadata": {
    "ExecuteTime": {
     "end_time": "2020-11-16T07:08:39.081041Z",
     "start_time": "2020-11-16T07:08:39.076778Z"
    },
    "hidden": true,
    "scrolled": true
   },
   "outputs": [
    {
     "data": {
      "text/plain": [
       "[{'name': 'MyDisease.info API',\n",
       "  'knowledge_source_type': 'service',\n",
       "  'version': '2020-10-26',\n",
       "  'method': 'ingest_consolidate'},\n",
       " {'name': 'DisGeNET',\n",
       "  'knowledge_source_type': 'knowledgebase',\n",
       "  'version': 'v7.0',\n",
       "  'method': 'propagate_from_orthology',\n",
       "  'method_info': {'url': ['https://www.disgenet.org/dbinfo#section11']}},\n",
       " {'name': 'MGD',\n",
       "  'knowledge_source_type': 'knowledgebase',\n",
       "  'knowledge_source_context': {'taxon_specific': ['NCBITaxon:10090']}}]"
      ]
     },
     "execution_count": 21,
     "metadata": {},
     "output_type": "execute_result"
    }
   ],
   "source": [
    "disease_gene9_disgenet_mgd[\"provenance\"]"
   ]
  },
  {
   "cell_type": "markdown",
   "metadata": {
    "heading_collapsed": true
   },
   "source": [
    "### For RGD"
   ]
  },
  {
   "cell_type": "code",
   "execution_count": 22,
   "metadata": {
    "ExecuteTime": {
     "end_time": "2020-11-16T07:08:39.116662Z",
     "start_time": "2020-11-16T07:08:39.111692Z"
    },
    "hidden": true
   },
   "outputs": [],
   "source": [
    "disease_gene10_disgenet_rgd = {\n",
    "    \"supportBatch\":True,\n",
    "    \"inputSeparator\":\",\",\n",
    "    \"parameters\": {\"fields\": \"disgenet.genes_related_to_disease\"},\n",
    "    \"requestBody\": x_bte_reusable_info[\"request\"][\"disgenet-RGD_input-disease\"],\n",
    "    \"inputs\": [\n",
    "        x_bte_reusable_info[\"input-disease_UMLS\"]\n",
    "    ],\n",
    "    \"outputs\": [\n",
    "        x_bte_reusable_info[\"output-gene_disgenet_NCBIGene\"]\n",
    "    ],\n",
    "    \"predicate\": x_bte_reusable_info[\"predicate_is-associated_with\"],\n",
    "    \"nodes_conflated\": x_bte_reusable_info[\"disgenet_dggd\"][\"nodes_conflated\"],\n",
    "    \"provenance\": [\n",
    "        x_bte_reusable_info[\"provenance\"][\"mydisease-method-ingest-consolidate\"],\n",
    "        x_bte_reusable_info[\"provenance\"][\"disgenet-method-propagate-orthology\"],\n",
    "        x_bte_reusable_info[\"provenance\"][\"disgenet-RGD_origin\"]        \n",
    "    ],\n",
    "    \"publications\": {\"pmid\": sample_GDA_response[\"pubmed\"]},\n",
    "    \"numeric_measures_present\":True,\n",
    "    \"numeric_measures\": x_bte_reusable_info[\"disgenet_dggd\"][\"numeric_measures\"],\n",
    "    \"category_measures_present\":False\n",
    "    }"
   ]
  },
  {
   "cell_type": "code",
   "execution_count": 23,
   "metadata": {
    "ExecuteTime": {
     "end_time": "2020-11-16T07:08:39.123335Z",
     "start_time": "2020-11-16T07:08:39.118968Z"
    },
    "hidden": true,
    "scrolled": true
   },
   "outputs": [
    {
     "data": {
      "text/plain": [
       "[{'name': 'MyDisease.info API',\n",
       "  'knowledge_source_type': 'service',\n",
       "  'version': '2020-10-26',\n",
       "  'method': 'ingest_consolidate'},\n",
       " {'name': 'DisGeNET',\n",
       "  'knowledge_source_type': 'knowledgebase',\n",
       "  'version': 'v7.0',\n",
       "  'method': 'propagate_from_orthology',\n",
       "  'method_info': {'url': ['https://www.disgenet.org/dbinfo#section11']}},\n",
       " {'name': 'RGD', 'knowledge_source_type': 'knowledgebase'}]"
      ]
     },
     "execution_count": 23,
     "metadata": {},
     "output_type": "execute_result"
    }
   ],
   "source": [
    "disease_gene10_disgenet_rgd[\"provenance\"]"
   ]
  },
  {
   "cell_type": "markdown",
   "metadata": {
    "heading_collapsed": true
   },
   "source": [
    "### For CTD_mouse"
   ]
  },
  {
   "cell_type": "code",
   "execution_count": 24,
   "metadata": {
    "ExecuteTime": {
     "end_time": "2020-11-16T07:08:39.156444Z",
     "start_time": "2020-11-16T07:08:39.151475Z"
    },
    "hidden": true
   },
   "outputs": [],
   "source": [
    "disease_gene11_disgenet_ctdmouse = {\n",
    "    \"supportBatch\":True,\n",
    "    \"inputSeparator\":\",\",\n",
    "    \"parameters\": {\"fields\": \"disgenet.genes_related_to_disease\"},\n",
    "    \"requestBody\": x_bte_reusable_info[\"request\"][\"disgenet-CTDmouse_input-disease\"],\n",
    "    \"inputs\": [\n",
    "        x_bte_reusable_info[\"input-disease_UMLS\"]\n",
    "    ],\n",
    "    \"outputs\": [\n",
    "        x_bte_reusable_info[\"output-gene_disgenet_NCBIGene\"]\n",
    "    ],\n",
    "    \"predicate\": x_bte_reusable_info[\"predicate_is-associated_with\"],\n",
    "    \"nodes_conflated\": x_bte_reusable_info[\"disgenet_dggd\"][\"nodes_conflated\"],\n",
    "    \"provenance\": [\n",
    "        x_bte_reusable_info[\"provenance\"][\"mydisease-method-ingest-consolidate\"],\n",
    "        x_bte_reusable_info[\"provenance\"][\"disgenet-method-propagate-orthology\"],\n",
    "        x_bte_reusable_info[\"provenance\"][\"disgenet-CTDmouse_origin\"]        \n",
    "    ],\n",
    "    \"publications\": {\"pmid\": sample_GDA_response[\"pubmed\"]},\n",
    "    \"numeric_measures_present\":True,\n",
    "    \"numeric_measures\": x_bte_reusable_info[\"disgenet_dggd\"][\"numeric_measures\"],\n",
    "    \"category_measures_present\":False\n",
    "    }"
   ]
  },
  {
   "cell_type": "code",
   "execution_count": 25,
   "metadata": {
    "ExecuteTime": {
     "end_time": "2020-11-16T07:08:39.163184Z",
     "start_time": "2020-11-16T07:08:39.158629Z"
    },
    "hidden": true,
    "scrolled": true
   },
   "outputs": [
    {
     "data": {
      "text/plain": [
       "[{'name': 'MyDisease.info API',\n",
       "  'knowledge_source_type': 'service',\n",
       "  'version': '2020-10-26',\n",
       "  'method': 'ingest_consolidate'},\n",
       " {'name': 'DisGeNET',\n",
       "  'knowledge_source_type': 'knowledgebase',\n",
       "  'version': 'v7.0',\n",
       "  'method': 'propagate_from_orthology',\n",
       "  'method_info': {'url': ['https://www.disgenet.org/dbinfo#section11']}},\n",
       " {'name': 'CTD',\n",
       "  'knowledge_source_type': 'knowledgebase',\n",
       "  'knowledge_source_context': {'taxon_specific': ['NCBITaxon:10090']}}]"
      ]
     },
     "execution_count": 25,
     "metadata": {},
     "output_type": "execute_result"
    }
   ],
   "source": [
    "disease_gene11_disgenet_ctdmouse[\"provenance\"]"
   ]
  },
  {
   "cell_type": "markdown",
   "metadata": {
    "heading_collapsed": true
   },
   "source": [
    "### For CTD_rat"
   ]
  },
  {
   "cell_type": "code",
   "execution_count": 26,
   "metadata": {
    "ExecuteTime": {
     "end_time": "2020-11-16T07:08:39.196796Z",
     "start_time": "2020-11-16T07:08:39.191935Z"
    },
    "hidden": true
   },
   "outputs": [],
   "source": [
    "disease_gene12_disgenet_ctdrat = {\n",
    "    \"supportBatch\":True,\n",
    "    \"inputSeparator\":\",\",\n",
    "    \"parameters\": {\"fields\": \"disgenet.genes_related_to_disease\"},\n",
    "    \"requestBody\": x_bte_reusable_info[\"request\"][\"disgenet-CTDrat_input-disease\"],\n",
    "    \"inputs\": [\n",
    "        x_bte_reusable_info[\"input-disease_UMLS\"]\n",
    "    ],\n",
    "    \"outputs\": [\n",
    "        x_bte_reusable_info[\"output-gene_disgenet_NCBIGene\"]\n",
    "    ],\n",
    "    \"predicate\": x_bte_reusable_info[\"predicate_is-associated_with\"],\n",
    "    \"nodes_conflated\": x_bte_reusable_info[\"disgenet_dggd\"][\"nodes_conflated\"],\n",
    "    \"provenance\": [\n",
    "        x_bte_reusable_info[\"provenance\"][\"mydisease-method-ingest-consolidate\"],\n",
    "        x_bte_reusable_info[\"provenance\"][\"disgenet-method-propagate-orthology\"],\n",
    "        x_bte_reusable_info[\"provenance\"][\"disgenet-CTDrat_origin\"]        \n",
    "    ],\n",
    "    \"publications\": {\"pmid\": sample_GDA_response[\"pubmed\"]},\n",
    "    \"numeric_measures_present\":True,\n",
    "    \"numeric_measures\": x_bte_reusable_info[\"disgenet_dggd\"][\"numeric_measures\"],\n",
    "    \"category_measures_present\":False\n",
    "    }"
   ]
  },
  {
   "cell_type": "code",
   "execution_count": 27,
   "metadata": {
    "ExecuteTime": {
     "end_time": "2020-11-16T07:08:39.203472Z",
     "start_time": "2020-11-16T07:08:39.199061Z"
    },
    "hidden": true,
    "scrolled": true
   },
   "outputs": [
    {
     "data": {
      "text/plain": [
       "[{'name': 'MyDisease.info API',\n",
       "  'knowledge_source_type': 'service',\n",
       "  'version': '2020-10-26',\n",
       "  'method': 'ingest_consolidate'},\n",
       " {'name': 'DisGeNET',\n",
       "  'knowledge_source_type': 'knowledgebase',\n",
       "  'version': 'v7.0',\n",
       "  'method': 'propagate_from_orthology',\n",
       "  'method_info': {'url': ['https://www.disgenet.org/dbinfo#section11']}},\n",
       " {'name': 'CTD',\n",
       "  'knowledge_source_type': 'knowledgebase',\n",
       "  'knowledge_source_context': {'taxon_specific': ['NCBITaxon:10116']}}]"
      ]
     },
     "execution_count": 27,
     "metadata": {},
     "output_type": "execute_result"
    }
   ],
   "source": [
    "disease_gene12_disgenet_ctdrat[\"provenance\"]"
   ]
  },
  {
   "cell_type": "markdown",
   "metadata": {
    "heading_collapsed": true
   },
   "source": [
    "### For CLINGEN"
   ]
  },
  {
   "cell_type": "code",
   "execution_count": 28,
   "metadata": {
    "ExecuteTime": {
     "end_time": "2020-11-16T07:08:39.238275Z",
     "start_time": "2020-11-16T07:08:39.233430Z"
    },
    "hidden": true
   },
   "outputs": [],
   "source": [
    "disease_gene13_disgenet_clingen = {\n",
    "    \"supportBatch\":True,\n",
    "    \"inputSeparator\":\",\",\n",
    "    \"parameters\": {\"fields\": \"disgenet.genes_related_to_disease\"},\n",
    "    \"requestBody\": x_bte_reusable_info[\"request\"][\"disgenet-CLINGEN_input-disease\"],\n",
    "    \"inputs\": [\n",
    "        x_bte_reusable_info[\"input-disease_UMLS\"]\n",
    "    ],\n",
    "    \"outputs\": [\n",
    "        x_bte_reusable_info[\"output-gene_disgenet_NCBIGene\"]\n",
    "    ],\n",
    "    \"predicate\": x_bte_reusable_info[\"predicate_is-associated_with\"],\n",
    "    \"nodes_conflated\": x_bte_reusable_info[\"disgenet_dggd\"][\"nodes_conflated\"],\n",
    "    \"provenance\": [\n",
    "        x_bte_reusable_info[\"provenance\"][\"mydisease-method-ingest-consolidate\"],\n",
    "        x_bte_reusable_info[\"provenance\"][\"disgenet-method-ingest-only\"],\n",
    "        x_bte_reusable_info[\"provenance\"][\"disgenet-CLINGEN_origin\"]        \n",
    "    ],\n",
    "    \"publications\": {\"pmid\": sample_GDA_response[\"pubmed\"]},\n",
    "    \"numeric_measures_present\":True,\n",
    "    \"numeric_measures\": x_bte_reusable_info[\"disgenet_dggd\"][\"numeric_measures\"],\n",
    "    \"category_measures_present\":False\n",
    "    }"
   ]
  },
  {
   "cell_type": "code",
   "execution_count": 29,
   "metadata": {
    "ExecuteTime": {
     "end_time": "2020-11-16T07:08:39.244504Z",
     "start_time": "2020-11-16T07:08:39.240320Z"
    },
    "hidden": true,
    "scrolled": true
   },
   "outputs": [
    {
     "data": {
      "text/plain": [
       "[{'name': 'MyDisease.info API',\n",
       "  'knowledge_source_type': 'service',\n",
       "  'version': '2020-10-26',\n",
       "  'method': 'ingest_consolidate'},\n",
       " {'name': 'DisGeNET',\n",
       "  'knowledge_source_type': 'knowledgebase',\n",
       "  'version': 'v7.0',\n",
       "  'method': 'ingest',\n",
       "  'method_info': {'url': ['https://www.disgenet.org/dbinfo#section11']}},\n",
       " {'name': 'ClinGen', 'knowledge_source_type': 'knowledgebase'}]"
      ]
     },
     "execution_count": 29,
     "metadata": {},
     "output_type": "execute_result"
    }
   ],
   "source": [
    "disease_gene13_disgenet_clingen[\"provenance\"]"
   ]
  },
  {
   "cell_type": "markdown",
   "metadata": {
    "heading_collapsed": true
   },
   "source": [
    "### For GENOMICS_ENGLAND"
   ]
  },
  {
   "cell_type": "code",
   "execution_count": 30,
   "metadata": {
    "ExecuteTime": {
     "end_time": "2020-11-16T07:08:39.282565Z",
     "start_time": "2020-11-16T07:08:39.277945Z"
    },
    "hidden": true
   },
   "outputs": [],
   "source": [
    "disease_gene14_disgenet_genomics_england = {\n",
    "    \"supportBatch\":True,\n",
    "    \"inputSeparator\":\",\",\n",
    "    \"parameters\": {\"fields\": \"disgenet.genes_related_to_disease\"},\n",
    "    \"requestBody\": x_bte_reusable_info[\"request\"][\"disgenet-GENOMICS-ENG_input-disease\"],\n",
    "    \"inputs\": [\n",
    "        x_bte_reusable_info[\"input-disease_UMLS\"]\n",
    "    ],\n",
    "    \"outputs\": [\n",
    "        x_bte_reusable_info[\"output-gene_disgenet_NCBIGene\"]\n",
    "    ],\n",
    "    \"predicate\": x_bte_reusable_info[\"predicate_is-associated_with\"],\n",
    "    \"nodes_conflated\": x_bte_reusable_info[\"disgenet_dggd\"][\"nodes_conflated\"],\n",
    "    \"provenance\": [\n",
    "        x_bte_reusable_info[\"provenance\"][\"mydisease-method-ingest-consolidate\"],\n",
    "        x_bte_reusable_info[\"provenance\"][\"disgenet-method-ingest-only\"],\n",
    "        x_bte_reusable_info[\"provenance\"][\"disgenet-GENOMICS-ENG_origin\"]        \n",
    "    ],\n",
    "    \"publications\": {\"pmid\": sample_GDA_response[\"pubmed\"]},\n",
    "    \"numeric_measures_present\":True,\n",
    "    \"numeric_measures\": x_bte_reusable_info[\"disgenet_dggd\"][\"numeric_measures\"],\n",
    "    \"category_measures_present\":False\n",
    "    }"
   ]
  },
  {
   "cell_type": "code",
   "execution_count": 31,
   "metadata": {
    "ExecuteTime": {
     "end_time": "2020-11-16T07:08:39.289293Z",
     "start_time": "2020-11-16T07:08:39.285272Z"
    },
    "hidden": true,
    "scrolled": true
   },
   "outputs": [
    {
     "data": {
      "text/plain": [
       "[{'name': 'MyDisease.info API',\n",
       "  'knowledge_source_type': 'service',\n",
       "  'version': '2020-10-26',\n",
       "  'method': 'ingest_consolidate'},\n",
       " {'name': 'DisGeNET',\n",
       "  'knowledge_source_type': 'knowledgebase',\n",
       "  'version': 'v7.0',\n",
       "  'method': 'ingest',\n",
       "  'method_info': {'url': ['https://www.disgenet.org/dbinfo#section11']}},\n",
       " {'name': 'Genomics_England_PanelApp',\n",
       "  'knowledge_source_type': 'knowledgebase'}]"
      ]
     },
     "execution_count": 31,
     "metadata": {},
     "output_type": "execute_result"
    }
   ],
   "source": [
    "disease_gene14_disgenet_genomics_england[\"provenance\"]"
   ]
  },
  {
   "cell_type": "markdown",
   "metadata": {
    "heading_collapsed": true
   },
   "source": [
    "### For CTD_human"
   ]
  },
  {
   "cell_type": "code",
   "execution_count": 32,
   "metadata": {
    "ExecuteTime": {
     "end_time": "2020-11-16T07:08:39.367298Z",
     "start_time": "2020-11-16T07:08:39.362293Z"
    },
    "hidden": true
   },
   "outputs": [],
   "source": [
    "disease_gene15_disgenet_ctdhuman = {\n",
    "    \"supportBatch\":True,\n",
    "    \"inputSeparator\":\",\",\n",
    "    \"parameters\": {\"fields\": \"disgenet.genes_related_to_disease\"},\n",
    "    \"requestBody\": x_bte_reusable_info[\"request\"][\"disgenet-CTDhuman_input-disease\"],\n",
    "    \"inputs\": [\n",
    "        x_bte_reusable_info[\"input-disease_UMLS\"]\n",
    "    ],\n",
    "    \"outputs\": [\n",
    "        x_bte_reusable_info[\"output-gene_disgenet_NCBIGene\"]\n",
    "    ],\n",
    "    \"predicate\": x_bte_reusable_info[\"predicate_is-associated_with\"],\n",
    "    \"nodes_conflated\": x_bte_reusable_info[\"disgenet_dggd\"][\"nodes_conflated\"],\n",
    "    \"provenance\": [\n",
    "        x_bte_reusable_info[\"provenance\"][\"mydisease-method-ingest-consolidate\"],\n",
    "        x_bte_reusable_info[\"provenance\"][\"disgenet-method-ingest-only\"],\n",
    "        x_bte_reusable_info[\"provenance\"][\"disgenet-CTDhuman_origin\"]        \n",
    "    ],\n",
    "    \"publications\": {\"pmid\": sample_GDA_response[\"pubmed\"]},\n",
    "    \"numeric_measures_present\":True,\n",
    "    \"numeric_measures\": x_bte_reusable_info[\"disgenet_dggd\"][\"numeric_measures\"],\n",
    "    \"category_measures_present\":False\n",
    "    }"
   ]
  },
  {
   "cell_type": "code",
   "execution_count": 33,
   "metadata": {
    "ExecuteTime": {
     "end_time": "2020-11-16T07:08:39.373340Z",
     "start_time": "2020-11-16T07:08:39.369416Z"
    },
    "hidden": true,
    "scrolled": true
   },
   "outputs": [
    {
     "data": {
      "text/plain": [
       "[{'name': 'MyDisease.info API',\n",
       "  'knowledge_source_type': 'service',\n",
       "  'version': '2020-10-26',\n",
       "  'method': 'ingest_consolidate'},\n",
       " {'name': 'DisGeNET',\n",
       "  'knowledge_source_type': 'knowledgebase',\n",
       "  'version': 'v7.0',\n",
       "  'method': 'ingest',\n",
       "  'method_info': {'url': ['https://www.disgenet.org/dbinfo#section11']}},\n",
       " {'name': 'CTD',\n",
       "  'knowledge_source_type': 'knowledgebase',\n",
       "  'knowledge_source_context': {'taxon_specific': ['NCBITaxon:9606']}}]"
      ]
     },
     "execution_count": 33,
     "metadata": {},
     "output_type": "execute_result"
    }
   ],
   "source": [
    "disease_gene15_disgenet_ctdhuman[\"provenance\"]"
   ]
  },
  {
   "cell_type": "markdown",
   "metadata": {
    "heading_collapsed": true
   },
   "source": [
    "### For PSYGENET"
   ]
  },
  {
   "cell_type": "code",
   "execution_count": 34,
   "metadata": {
    "ExecuteTime": {
     "end_time": "2020-11-16T07:08:39.367298Z",
     "start_time": "2020-11-16T07:08:39.362293Z"
    },
    "hidden": true
   },
   "outputs": [],
   "source": [
    "disease_gene16_disgenet_psygenet = {\n",
    "    \"supportBatch\":True,\n",
    "    \"inputSeparator\":\",\",\n",
    "    \"parameters\": {\"fields\": \"disgenet.genes_related_to_disease\"},\n",
    "    \"requestBody\": x_bte_reusable_info[\"request\"][\"disgenet-PSYGENET_input-disease\"],\n",
    "    \"inputs\": [\n",
    "        x_bte_reusable_info[\"input-disease_UMLS\"]\n",
    "    ],\n",
    "    \"outputs\": [\n",
    "        x_bte_reusable_info[\"output-gene_disgenet_NCBIGene\"]\n",
    "    ],\n",
    "    \"predicate\": x_bte_reusable_info[\"predicate_is-associated_with\"],\n",
    "    \"nodes_conflated\": x_bte_reusable_info[\"disgenet_dggd\"][\"nodes_conflated\"],\n",
    "    \"provenance\": [\n",
    "        x_bte_reusable_info[\"provenance\"][\"mydisease-method-ingest-consolidate\"],\n",
    "        x_bte_reusable_info[\"provenance\"][\"disgenet-method-ingest-only\"],\n",
    "        x_bte_reusable_info[\"provenance\"][\"disgenet-PSYGENET_origin\"]        \n",
    "    ],\n",
    "    \"publications\": {\"pmid\": sample_GDA_response[\"pubmed\"]},\n",
    "    \"numeric_measures_present\":True,\n",
    "    \"numeric_measures\": x_bte_reusable_info[\"disgenet_dggd\"][\"numeric_measures\"],\n",
    "    \"category_measures_present\":False\n",
    "    }"
   ]
  },
  {
   "cell_type": "code",
   "execution_count": 35,
   "metadata": {
    "ExecuteTime": {
     "end_time": "2020-11-16T07:08:39.373340Z",
     "start_time": "2020-11-16T07:08:39.369416Z"
    },
    "hidden": true,
    "scrolled": true
   },
   "outputs": [
    {
     "data": {
      "text/plain": [
       "[{'name': 'MyDisease.info API',\n",
       "  'knowledge_source_type': 'service',\n",
       "  'version': '2020-10-26',\n",
       "  'method': 'ingest_consolidate'},\n",
       " {'name': 'DisGeNET',\n",
       "  'knowledge_source_type': 'knowledgebase',\n",
       "  'version': 'v7.0',\n",
       "  'method': 'ingest',\n",
       "  'method_info': {'url': ['https://www.disgenet.org/dbinfo#section11']}},\n",
       " {'name': 'PsyGeNET', 'knowledge_source_type': 'knowledgebase'}]"
      ]
     },
     "execution_count": 35,
     "metadata": {},
     "output_type": "execute_result"
    }
   ],
   "source": [
    "disease_gene16_disgenet_psygenet[\"provenance\"]"
   ]
  },
  {
   "cell_type": "markdown",
   "metadata": {},
   "source": [
    "### For ORPHANET"
   ]
  },
  {
   "cell_type": "code",
   "execution_count": 36,
   "metadata": {
    "ExecuteTime": {
     "end_time": "2020-11-16T07:08:39.410096Z",
     "start_time": "2020-11-16T07:08:39.405463Z"
    }
   },
   "outputs": [],
   "source": [
    "disease_gene17_disgenet_orphanet = {\n",
    "    \"supportBatch\":True,\n",
    "    \"inputSeparator\":\",\",\n",
    "    \"parameters\": {\"fields\": \"disgenet.genes_related_to_disease\"},\n",
    "    \"requestBody\": x_bte_reusable_info[\"request\"][\"disgenet-ORPHANET_input-disease\"],\n",
    "    \"inputs\": [\n",
    "        x_bte_reusable_info[\"input-disease_UMLS\"]\n",
    "    ],\n",
    "    \"outputs\": [\n",
    "        x_bte_reusable_info[\"output-gene_disgenet_NCBIGene\"]\n",
    "    ],\n",
    "    \"predicate\": x_bte_reusable_info[\"predicate_is-associated_with\"],\n",
    "    \"nodes_conflated\": x_bte_reusable_info[\"disgenet_dggd\"][\"nodes_conflated\"],\n",
    "    \"provenance\": [\n",
    "        x_bte_reusable_info[\"provenance\"][\"mydisease-method-ingest-consolidate\"],\n",
    "        x_bte_reusable_info[\"provenance\"][\"disgenet-method-ingest-only\"],\n",
    "        x_bte_reusable_info[\"provenance\"][\"disgenet-ORPHANET_origin\"]        \n",
    "    ],\n",
    "    \"publications\": {\"pmid\": sample_GDA_response[\"pubmed\"]},\n",
    "    \"numeric_measures_present\":True,\n",
    "    \"numeric_measures\": x_bte_reusable_info[\"disgenet_dggd\"][\"numeric_measures\"],\n",
    "    \"category_measures_present\":False\n",
    "    }"
   ]
  },
  {
   "cell_type": "code",
   "execution_count": 37,
   "metadata": {
    "ExecuteTime": {
     "end_time": "2020-11-16T07:08:39.416661Z",
     "start_time": "2020-11-16T07:08:39.412396Z"
    },
    "scrolled": true
   },
   "outputs": [
    {
     "data": {
      "text/plain": [
       "[{'name': 'MyDisease.info API',\n",
       "  'knowledge_source_type': 'service',\n",
       "  'version': '2020-10-26',\n",
       "  'method': 'ingest_consolidate'},\n",
       " {'name': 'DisGeNET',\n",
       "  'knowledge_source_type': 'knowledgebase',\n",
       "  'version': 'v7.0',\n",
       "  'method': 'ingest',\n",
       "  'method_info': {'url': ['https://www.disgenet.org/dbinfo#section11']}},\n",
       " {'name': 'Orphanet', 'knowledge_source_type': 'knowledgebase'}]"
      ]
     },
     "execution_count": 37,
     "metadata": {},
     "output_type": "execute_result"
    }
   ],
   "source": [
    "disease_gene17_disgenet_orphanet[\"provenance\"]"
   ]
  },
  {
   "cell_type": "code",
   "execution_count": null,
   "metadata": {},
   "outputs": [],
   "source": []
  }
 ],
 "metadata": {
  "kernelspec": {
   "display_name": "Python 3",
   "language": "python",
   "name": "python3"
  },
  "language_info": {
   "codemirror_mode": {
    "name": "ipython",
    "version": 3
   },
   "file_extension": ".py",
   "mimetype": "text/x-python",
   "name": "python",
   "nbconvert_exporter": "python",
   "pygments_lexer": "ipython3",
   "version": "3.7.9"
  },
  "toc": {
   "base_numbering": 1,
   "nav_menu": {},
   "number_sections": true,
   "sideBar": true,
   "skip_h1_title": false,
   "title_cell": "Table of Contents",
   "title_sidebar": "Contents",
   "toc_cell": false,
   "toc_position": {
    "height": "calc(100% - 180px)",
    "left": "10px",
    "top": "150px",
    "width": "303px"
   },
   "toc_section_display": true,
   "toc_window_display": true
  },
  "varInspector": {
   "cols": {
    "lenName": 16,
    "lenType": 16,
    "lenVar": 40
   },
   "kernels_config": {
    "python": {
     "delete_cmd_postfix": "",
     "delete_cmd_prefix": "del ",
     "library": "var_list.py",
     "varRefreshCmd": "print(var_dic_list())"
    },
    "r": {
     "delete_cmd_postfix": ") ",
     "delete_cmd_prefix": "rm(",
     "library": "var_list.r",
     "varRefreshCmd": "cat(var_dic_list()) "
    }
   },
   "types_to_exclude": [
    "module",
    "function",
    "builtin_function_or_method",
    "instance",
    "_Feature"
   ],
   "window_display": false
  }
 },
 "nbformat": 4,
 "nbformat_minor": 4
}
