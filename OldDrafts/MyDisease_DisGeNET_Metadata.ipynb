{
 "cells": [
  {
   "cell_type": "markdown",
   "metadata": {},
   "source": [
    "# Metadata associated with MyDisease.info, DisGeNET resource"
   ]
  },
  {
   "cell_type": "code",
   "execution_count": 1,
   "metadata": {
    "ExecuteTime": {
     "end_time": "2020-11-11T23:32:23.665325Z",
     "start_time": "2020-11-11T23:32:23.662427Z"
    }
   },
   "outputs": [],
   "source": [
    "## CX: allows multiple lines of code to print from one code block\n",
    "from IPython.core.interactiveshell import InteractiveShell\n",
    "InteractiveShell.ast_node_interactivity = \"all\"\n",
    "\n",
    "import copy  ## for deepcopy"
   ]
  },
  {
   "cell_type": "markdown",
   "metadata": {},
   "source": [
    "So a metaKG edge has:\n",
    "* one subject and one object (one way, both are BioThings types/Biolink Model entities, they can be the same type)\n",
    "* one predicate\n",
    "* one source"
   ]
  },
  {
   "cell_type": "markdown",
   "metadata": {},
   "source": [
    "## MetaKG edge level"
   ]
  },
  {
   "cell_type": "markdown",
   "metadata": {},
   "source": [
    "### top-level (exist on all edges)"
   ]
  },
  {
   "cell_type": "markdown",
   "metadata": {},
   "source": [
    "There are some slots that have the same value, no matter what edge they're on. These are described below."
   ]
  },
  {
   "cell_type": "code",
   "execution_count": 2,
   "metadata": {
    "ExecuteTime": {
     "end_time": "2020-11-11T23:32:23.867649Z",
     "start_time": "2020-11-11T23:32:23.864255Z"
    }
   },
   "outputs": [],
   "source": [
    "metakg_top_level = {\n",
    "    ## PROVENANCE\n",
    "    \"translator_group\":[\"Service_Provider\"],    \n",
    "    \"nodes_conflated\": \n",
    "        {'Disease':     ## all edges have Disease as input or output\n",
    "            {'conflated_type':'PhenotypicFeature', 'where':'DisGeNET'}\n",
    "        },   \n",
    "    \n",
    "    ## based on input-type/source/output-type, the next member of traced_provenance differs\n",
    "    ## the METHOD slot/METHOD REF for each dictionary differs between sources\n",
    "    \"traced_provenance\":  ## can get most from endpoint http://mydisease.info/v1/metadata \n",
    "        [{\"name\":\"MyDisease.info API\",\n",
    "         \"type\":\"service\",  ## assign this\n",
    "         \"version\":\"2020-10-26\"}],  ## current as-of 2020-10-27 \n",
    "    \n",
    "    \n",
    "    ## MEASURES\n",
    "    ## all data has this, but just different measures depending on input-type/output-type\n",
    "    \"numeric_measures_present\":True,\n",
    "    \n",
    "    ## currently, the data downloads from DisGeNET don't include categorical measures. \n",
    "    ## However, the DisGeNET browser does show categorical measures of the association (EL aka evidence level)\n",
    "    \"categorical_measures_present\":False\n",
    "}"
   ]
  },
  {
   "cell_type": "markdown",
   "metadata": {},
   "source": [
    "### Disease -> Disease"
   ]
  },
  {
   "cell_type": "markdown",
   "metadata": {},
   "source": [
    "* Based on: https://www.disgenet.org/static/disgenet_ap1/files/downloads/disease_to_disease_CURATED.tsv.gz\n",
    "    * notice that this appears to use the \"curated\" sources only (uniprot, ctd, orphanet, clingen, genomics england, cgi, psygenet for genes; then uniprot, clinvar, gwas catalog, gwasdb for variants). \n",
    "    * however, \"source\" doesn't explain what sources are used for what associations. There also isn't information on this file in the download README. \n",
    "    * see [website](https://www.disgenet.org/dbinfo#section13) for explanation of the jaccard measures\n",
    "* Uses UMLS IDs (DisGeNET calls it the CUI)\n",
    "\n",
    "<br>\n",
    "\n",
    "predicate logic: \n",
    "* \"is comparable to\" (SIO:000736) has the root, \"is related to\"\n",
    "* description sounds like what we have here: comparing shared genes/variants\n",
    "    * description: \"is a relation between two entities that share at least one feature whose value can be compared.\"\n",
    "    * see [ontobee](http://www.ontobee.org/ontology/SIO?iri=http://semanticscience.org/resource/SIO_000736)\n",
    "* other options?\n",
    "    * RO:HOM0000000 \"in similarity relationship with\". Doesn't have a root. See [ontobee](http://www.ontobee.org/ontology/RO?iri=http://purl.obolibrary.org/obo/RO_HOM0000000)\n",
    "  \n",
    "<br>\n",
    "  \n",
    "for current \"method\" string descriptions, go to the metadata google doc. \n",
    "* ingest_consolidate = ingest (simple ETL)\n",
    "* association_from_shared_annot = annotated to the same stuff (diseases annotated to same genes/variants)"
   ]
  },
  {
   "cell_type": "code",
   "execution_count": 3,
   "metadata": {
    "ExecuteTime": {
     "end_time": "2020-11-11T23:32:23.955244Z",
     "start_time": "2020-11-11T23:32:23.949340Z"
    }
   },
   "outputs": [],
   "source": [
    "metakg_dd = copy.deepcopy(metakg_top_level)\n",
    "\n",
    "## PREDICATES\n",
    "## assign this, no predicate in datafile\n",
    "metakg_dd[\"biolink_predicate\"] = \"similar_to\"    \n",
    "metakg_dd[\"ingested_ontology_predicate\"] = \"SIO:000736\"    \n",
    "metakg_dd[\"ingested_ontology_label\"] = \"SIO:is_comparable_to\"    \n",
    "\n",
    "## PROVENANCE\n",
    "## the MyDisease.info dict\n",
    "metakg_dd['traced_provenance'][0].update({\"method\":\"ingest\"})\n",
    "## can get most from endpoint http://mydisease.info/v1/metadata\n",
    "metakg_dd[\"origin\"] =    \\\n",
    "    {\"name\":\"DisGeNET\",\n",
    "     \"type\":\"knowledgebase\",    ## assign this\n",
    "     \"version\":\"2020-05-07\",     ## current as-of 2020-10-27\n",
    "     \"method\":\"association_from_shared_annot\"}        ## assign this\n",
    "\n",
    "## MEASURES          \n",
    "metakg_dd[\"numeric_measures\"] =      \\\n",
    "        [{\"name\":\"Ngenes\",\n",
    "          \"standard_label\":\"num_shared_genes\",  ## name Translator may want to use\n",
    "          \"range\":\"[0-inf)\", \n",
    "          \"direction\":{\"more_confident\":\"larger\"}}, \n",
    "         {\"name\":\"jaccard_genes\",   \n",
    "          \"standard_label\":\"jaccard_shared_genes\",  ## name Translator may want to use\n",
    "          \"range\":\"[0-1]\", \n",
    "          \"direction\":{\"more_confident\":\"larger\"}, \n",
    "          \"reference\":{\"url\":\"https://www.disgenet.org/dbinfo#section13\"}}, \n",
    "         {\"name\":\"Nvariants\",     \n",
    "          \"standard_label\":\"num_shared_variants\",  ## name Translator may want to use\n",
    "          \"range\":\"[0-inf)\", \n",
    "          \"direction\":{\"more_confident\":\"larger\"}}, \n",
    "         {\"name\":\"jaccard_variant\",   ## rename from jaccard_variant\n",
    "          \"standard_label\":\"jaccard_shared_variants\",  ## name Translator may want to use\n",
    "          \"range\":\"[0-1]\", \n",
    "          \"direction\":{\"more_confident\":\"larger\"}, \n",
    "          \"reference\":{\"url\":\"https://www.disgenet.org/dbinfo#section13\"}} \n",
    "        ]"
   ]
  },
  {
   "cell_type": "code",
   "execution_count": 4,
   "metadata": {
    "ExecuteTime": {
     "end_time": "2020-11-11T23:32:23.969832Z",
     "start_time": "2020-11-11T23:32:23.957438Z"
    }
   },
   "outputs": [
    {
     "data": {
      "text/plain": [
       "dict_keys(['translator_group', 'nodes_conflated', 'traced_provenance', 'numeric_measures_present', 'categorical_measures_present', 'biolink_predicate', 'ingested_ontology_predicate', 'ingested_ontology_label', 'origin', 'numeric_measures'])"
      ]
     },
     "execution_count": 4,
     "metadata": {},
     "output_type": "execute_result"
    },
    {
     "data": {
      "text/plain": [
       "{'name': 'DisGeNET',\n",
       " 'type': 'knowledgebase',\n",
       " 'version': '2020-05-07',\n",
       " 'method': 'association_from_shared_annot'}"
      ]
     },
     "execution_count": 4,
     "metadata": {},
     "output_type": "execute_result"
    },
    {
     "data": {
      "text/plain": [
       "['num_shared_genes',\n",
       " 'jaccard_shared_genes',\n",
       " 'num_shared_variants',\n",
       " 'jaccard_shared_variants']"
      ]
     },
     "execution_count": 4,
     "metadata": {},
     "output_type": "execute_result"
    }
   ],
   "source": [
    "metakg_dd.keys()\n",
    "metakg_dd['origin']\n",
    "\n",
    "[i['standard_label'] for i in metakg_dd['numeric_measures']]"
   ]
  },
  {
   "cell_type": "markdown",
   "metadata": {},
   "source": [
    "### Relationships with Genes and Diseases"
   ]
  },
  {
   "cell_type": "markdown",
   "metadata": {},
   "source": [
    "- Based on: https://www.disgenet.org/static/disgenet_ap1/files/downloads/all_gene_disease_pmid_associations.tsv.gz \n",
    "- then Service Provider merged rows (all columns the same except for pmid), so pmid column value is a list\n",
    "- Uses UMLS IDs (DisGeNET calls it the CUI) for diseases\n",
    "- Uses NCBIGene IDs\n",
    "- there are 17 underlying sources. sources can have different predicates and methods. \n",
    "    * there isn't information given to trace further into the source (like CTD's provenance for the assertion)\n",
    "\n",
    "Below, there's the information shared between all edges with this combo of input/output-types:\n",
    "* ingested predicate choice: ultimately, DisGeNET doesn't include \"association type\" or a predicate in their data dump. The [homepage](https://www.disgenet.org/home/) describes their resource as \"collections of genes and variants associated to human diseases\". **This is why an \"associated with\" relation is used, rather than the more specific has_biomarker/biomarker_of relationships. \n",
    "    * the has_biomarker/biomarker_of tend to give a *causal* flavor and kind of map to \"causes or contributes to condition\" (that's an RO term). I'm not fully comfortable with making that assertion for all DisGeNET data. \n",
    "* the biolink and ingested predicate are symmetrical so it works with both Disease -> Gene and Gene -> Disease. "
   ]
  },
  {
   "cell_type": "code",
   "execution_count": 5,
   "metadata": {
    "ExecuteTime": {
     "end_time": "2020-11-11T23:32:24.048013Z",
     "start_time": "2020-11-11T23:32:24.041818Z"
    }
   },
   "outputs": [],
   "source": [
    "basic_dggd_edge = copy.deepcopy(metakg_top_level)\n",
    "\n",
    "## PREDICATE\n",
    "## actually too narrow, but there isn't the SIO term\n",
    "basic_dggd_edge[\"biolink_predicate\"] = \"related_to\"  \n",
    "basic_dggd_edge[\"ingested_ontology_predicate\"] = \"SIO:001403\"\n",
    "basic_dggd_edge[\"ingested_ontology_label\"] = \"SIO:is_associated_with\"\n",
    "\n",
    "## PROVENANCE\n",
    "## add the gene/gene-product conflation\n",
    "basic_dggd_edge['nodes_conflated'].update({'Gene':{'conflated_type':'GeneProduct', 'where':'DisGeNET'}})\n",
    "\n",
    "## all disease-gene combo edges have this second entry in the trace\n",
    "## the method differs\n",
    "basic_dggd_edge['traced_provenance'].append(\n",
    "    {\"name\":\"DisGeNET\",\n",
    "     \"type\":\"knowledgebase\",    ## assign this\n",
    "     \"version\":\"2020-05-07\",     ## current as of 2020-10-27\n",
    "     \"method_ref\":{\"url\":\"https://www.disgenet.org/dbinfo#section11\"}    ## assign this\n",
    "    }  \n",
    ")\n",
    "\n",
    "## MEASURES: 4 \n",
    "basic_dggd_edge['numeric_measures'] = \\\n",
    "[\n",
    "    {\"name\":\"GDAscore\",\n",
    "     \"standard_label\":\"association_score\",  ## name Translator may want to use\n",
    "     \"range\":\"(0-1]\", \n",
    "     \"direction\":{\"more_confident\":\"larger\"},\n",
    "     \"reference\":{\"url\":\"https://www.disgenet.org/dbinfo#section31\"}}, \n",
    "    {\"name\":\"EI\",\n",
    "     \"standard_label\":\"evidence_index\",  ## name Translator may want to use\n",
    "     \"range\":\"(0-1]\", \n",
    "     \"direction\":{\"more_confident\":\"larger\"},\n",
    "     \"reference\":{\"url\":\"https://www.disgenet.org/dbinfo#section36\"}}, \n",
    "    {\"name\":\"DSI\",\n",
    "     \"standard_label\":\"gene_specific_to_disease\",  ## name Translator may want to use\n",
    "     \"range\":\"(0-1]\",  ## ref claims min=0.25, but it should fluctuate based on db data\n",
    "     \"direction\":{\"more_specific\":\"larger\"},\n",
    "     \"reference\":{\"url\":\"https://www.disgenet.org/dbinfo#section33\"}}, \n",
    "    {\"name\":\"DPI\",\n",
    "     \"standard_label\":\"gene_specific_to_disease_class\",  ## name Translator may want to use\n",
    "     \"range\":\"(0-1]\",       ## ref claims min=1/29, but it would fluctuate if disease class changed\n",
    "     \"direction\":{\"more_specific\":\"smaller\"},\n",
    "     \"reference\":{\"url\":\"https://www.disgenet.org/dbinfo#section34\"}} \n",
    "]"
   ]
  },
  {
   "cell_type": "markdown",
   "metadata": {},
   "source": [
    "The provenance then differs by the value in the source column of the original datatype. This provenance is the same between Disease -> Gene and Gene -> Disease. "
   ]
  },
  {
   "cell_type": "markdown",
   "metadata": {
    "heading_collapsed": true
   },
   "source": [
    "#### By source: LHGDN"
   ]
  },
  {
   "cell_type": "code",
   "execution_count": 6,
   "metadata": {
    "ExecuteTime": {
     "end_time": "2020-11-11T23:32:24.129690Z",
     "start_time": "2020-11-11T23:32:24.125857Z"
    },
    "hidden": true
   },
   "outputs": [],
   "source": [
    "metakg_dggd_LHGDN = copy.deepcopy(basic_dggd_edge)\n",
    "\n",
    "## PROVENANCE\n",
    "## the MyDisease.info dict\n",
    "metakg_dggd_LHGDN['traced_provenance'][0].update({\"method\":\"ingest_consolidate\"})\n",
    "## the DisGeNET dict\n",
    "metakg_dggd_LHGDN['traced_provenance'][1].update({\"method\":\"NLP_LHGDN\"})\n",
    "\n",
    "## assign the origin\n",
    "metakg_dggd_LHGDN['origin'] = \\\n",
    "    {\"name\":\"GeneRIF\",  \n",
    "        \"type\":\"text\",\n",
    "        \"version\":\"2009-03-31\",\n",
    "        \"taxon_subset\":{'NCBITaxon:9606':'Homo_sapiens'}}  ## used human GeneRIFs "
   ]
  },
  {
   "cell_type": "code",
   "execution_count": 7,
   "metadata": {
    "ExecuteTime": {
     "end_time": "2020-11-11T23:32:24.137253Z",
     "start_time": "2020-11-11T23:32:24.131853Z"
    },
    "hidden": true
   },
   "outputs": [
    {
     "data": {
      "text/plain": [
       "{'translator_group': ['Service_Provider'],\n",
       " 'nodes_conflated': {'Disease': {'conflated_type': 'PhenotypicFeature',\n",
       "   'where': 'DisGeNET'},\n",
       "  'Gene': {'conflated_type': 'GeneProduct', 'where': 'DisGeNET'}},\n",
       " 'traced_provenance': [{'name': 'MyDisease.info API',\n",
       "   'type': 'service',\n",
       "   'version': '2020-10-26',\n",
       "   'method': 'ingest_consolidate'},\n",
       "  {'name': 'DisGeNET',\n",
       "   'type': 'knowledgebase',\n",
       "   'version': '2020-05-07',\n",
       "   'method_ref': {'url': 'https://www.disgenet.org/dbinfo#section11'},\n",
       "   'method': 'NLP_LHGDN'}],\n",
       " 'numeric_measures_present': True,\n",
       " 'categorical_measures_present': False,\n",
       " 'biolink_predicate': 'related_to',\n",
       " 'ingested_ontology_predicate': 'SIO:001403',\n",
       " 'ingested_ontology_label': 'SIO:is_associated_with',\n",
       " 'numeric_measures': [{'name': 'GDAscore',\n",
       "   'standard_label': 'association_score',\n",
       "   'range': '(0-1]',\n",
       "   'direction': {'more_confident': 'larger'},\n",
       "   'reference': {'url': 'https://www.disgenet.org/dbinfo#section31'}},\n",
       "  {'name': 'EI',\n",
       "   'standard_label': 'evidence_index',\n",
       "   'range': '(0-1]',\n",
       "   'direction': {'more_confident': 'larger'},\n",
       "   'reference': {'url': 'https://www.disgenet.org/dbinfo#section36'}},\n",
       "  {'name': 'DSI',\n",
       "   'standard_label': 'gene_specific_to_disease',\n",
       "   'range': '(0-1]',\n",
       "   'direction': {'more_specific': 'larger'},\n",
       "   'reference': {'url': 'https://www.disgenet.org/dbinfo#section33'}},\n",
       "  {'name': 'DPI',\n",
       "   'standard_label': 'gene_specific_to_disease_class',\n",
       "   'range': '(0-1]',\n",
       "   'direction': {'more_specific': 'smaller'},\n",
       "   'reference': {'url': 'https://www.disgenet.org/dbinfo#section34'}}],\n",
       " 'origin': {'name': 'GeneRIF',\n",
       "  'type': 'text',\n",
       "  'version': '2009-03-31',\n",
       "  'taxon_subset': {'NCBITaxon:9606': 'Homo_sapiens'}}}"
      ]
     },
     "execution_count": 7,
     "metadata": {},
     "output_type": "execute_result"
    }
   ],
   "source": [
    "metakg_dggd_LHGDN"
   ]
  },
  {
   "cell_type": "markdown",
   "metadata": {
    "heading_collapsed": true
   },
   "source": [
    "#### By source: BEFREE"
   ]
  },
  {
   "cell_type": "code",
   "execution_count": 8,
   "metadata": {
    "ExecuteTime": {
     "end_time": "2020-11-11T23:32:24.177467Z",
     "start_time": "2020-11-11T23:32:24.173786Z"
    },
    "hidden": true
   },
   "outputs": [],
   "source": [
    "metakg_dggd_BEFREE = copy.deepcopy(basic_dggd_edge)\n",
    "\n",
    "## PROVENANCE\n",
    "## the MyDisease.info dict\n",
    "metakg_dggd_BEFREE['traced_provenance'][0].update({\"method\":\"ingest_consolidate\"})\n",
    "## the DisGeNET dict\n",
    "metakg_dggd_BEFREE['traced_provenance'][1].update({\"method\":\"NLP_BEFREE\"})\n",
    "\n",
    "## assign the origin\n",
    "metakg_dggd_BEFREE['origin'] = \\\n",
    "    {\"name\":\"MEDLINE_abstracts\",  \n",
    "        \"type\":\"publications\",\n",
    "        \"version\":\"1970-01_to_2019-12\"}  "
   ]
  },
  {
   "cell_type": "code",
   "execution_count": 9,
   "metadata": {
    "ExecuteTime": {
     "end_time": "2020-11-11T23:32:24.187490Z",
     "start_time": "2020-11-11T23:32:24.182230Z"
    },
    "hidden": true
   },
   "outputs": [
    {
     "data": {
      "text/plain": [
       "{'translator_group': ['Service_Provider'],\n",
       " 'nodes_conflated': {'Disease': {'conflated_type': 'PhenotypicFeature',\n",
       "   'where': 'DisGeNET'},\n",
       "  'Gene': {'conflated_type': 'GeneProduct', 'where': 'DisGeNET'}},\n",
       " 'traced_provenance': [{'name': 'MyDisease.info API',\n",
       "   'type': 'service',\n",
       "   'version': '2020-10-26',\n",
       "   'method': 'ingest_consolidate'},\n",
       "  {'name': 'DisGeNET',\n",
       "   'type': 'knowledgebase',\n",
       "   'version': '2020-05-07',\n",
       "   'method_ref': {'url': 'https://www.disgenet.org/dbinfo#section11'},\n",
       "   'method': 'NLP_BEFREE'}],\n",
       " 'numeric_measures_present': True,\n",
       " 'categorical_measures_present': False,\n",
       " 'biolink_predicate': 'related_to',\n",
       " 'ingested_ontology_predicate': 'SIO:001403',\n",
       " 'ingested_ontology_label': 'SIO:is_associated_with',\n",
       " 'numeric_measures': [{'name': 'GDAscore',\n",
       "   'standard_label': 'association_score',\n",
       "   'range': '(0-1]',\n",
       "   'direction': {'more_confident': 'larger'},\n",
       "   'reference': {'url': 'https://www.disgenet.org/dbinfo#section31'}},\n",
       "  {'name': 'EI',\n",
       "   'standard_label': 'evidence_index',\n",
       "   'range': '(0-1]',\n",
       "   'direction': {'more_confident': 'larger'},\n",
       "   'reference': {'url': 'https://www.disgenet.org/dbinfo#section36'}},\n",
       "  {'name': 'DSI',\n",
       "   'standard_label': 'gene_specific_to_disease',\n",
       "   'range': '(0-1]',\n",
       "   'direction': {'more_specific': 'larger'},\n",
       "   'reference': {'url': 'https://www.disgenet.org/dbinfo#section33'}},\n",
       "  {'name': 'DPI',\n",
       "   'standard_label': 'gene_specific_to_disease_class',\n",
       "   'range': '(0-1]',\n",
       "   'direction': {'more_specific': 'smaller'},\n",
       "   'reference': {'url': 'https://www.disgenet.org/dbinfo#section34'}}],\n",
       " 'origin': {'name': 'MEDLINE_abstracts',\n",
       "  'type': 'publications',\n",
       "  'version': '1970-01_to_2019-12'}}"
      ]
     },
     "execution_count": 9,
     "metadata": {},
     "output_type": "execute_result"
    }
   ],
   "source": [
    "metakg_dggd_BEFREE"
   ]
  },
  {
   "cell_type": "markdown",
   "metadata": {
    "heading_collapsed": true
   },
   "source": [
    "#### By source: HPO"
   ]
  },
  {
   "cell_type": "code",
   "execution_count": 10,
   "metadata": {
    "ExecuteTime": {
     "end_time": "2020-11-11T23:32:24.232348Z",
     "start_time": "2020-11-11T23:32:24.228638Z"
    },
    "hidden": true
   },
   "outputs": [],
   "source": [
    "metakg_dggd_HPO = copy.deepcopy(basic_dggd_edge)\n",
    "\n",
    "## PROVENANCE\n",
    "## the MyDisease.info dict\n",
    "metakg_dggd_HPO['traced_provenance'][0].update({\"method\":\"ingest\"})\n",
    "## the DisGeNET dict\n",
    "metakg_dggd_HPO['traced_provenance'][1].update({\"method\":\"propagate_from_phenotype\"})\n",
    "\n",
    "## assign the origin\n",
    "metakg_dggd_HPO['origin'] = \\\n",
    "    {\"name\":\"HPO_annotations\",  \n",
    "     \"type\":\"knowledgebase\"}  "
   ]
  },
  {
   "cell_type": "code",
   "execution_count": 11,
   "metadata": {
    "ExecuteTime": {
     "end_time": "2020-11-11T23:32:24.240129Z",
     "start_time": "2020-11-11T23:32:24.234818Z"
    },
    "hidden": true
   },
   "outputs": [
    {
     "data": {
      "text/plain": [
       "{'translator_group': ['Service_Provider'],\n",
       " 'nodes_conflated': {'Disease': {'conflated_type': 'PhenotypicFeature',\n",
       "   'where': 'DisGeNET'},\n",
       "  'Gene': {'conflated_type': 'GeneProduct', 'where': 'DisGeNET'}},\n",
       " 'traced_provenance': [{'name': 'MyDisease.info API',\n",
       "   'type': 'service',\n",
       "   'version': '2020-10-26',\n",
       "   'method': 'ingest'},\n",
       "  {'name': 'DisGeNET',\n",
       "   'type': 'knowledgebase',\n",
       "   'version': '2020-05-07',\n",
       "   'method_ref': {'url': 'https://www.disgenet.org/dbinfo#section11'},\n",
       "   'method': 'propagate_from_phenotype'}],\n",
       " 'numeric_measures_present': True,\n",
       " 'categorical_measures_present': False,\n",
       " 'biolink_predicate': 'related_to',\n",
       " 'ingested_ontology_predicate': 'SIO:001403',\n",
       " 'ingested_ontology_label': 'SIO:is_associated_with',\n",
       " 'numeric_measures': [{'name': 'GDAscore',\n",
       "   'standard_label': 'association_score',\n",
       "   'range': '(0-1]',\n",
       "   'direction': {'more_confident': 'larger'},\n",
       "   'reference': {'url': 'https://www.disgenet.org/dbinfo#section31'}},\n",
       "  {'name': 'EI',\n",
       "   'standard_label': 'evidence_index',\n",
       "   'range': '(0-1]',\n",
       "   'direction': {'more_confident': 'larger'},\n",
       "   'reference': {'url': 'https://www.disgenet.org/dbinfo#section36'}},\n",
       "  {'name': 'DSI',\n",
       "   'standard_label': 'gene_specific_to_disease',\n",
       "   'range': '(0-1]',\n",
       "   'direction': {'more_specific': 'larger'},\n",
       "   'reference': {'url': 'https://www.disgenet.org/dbinfo#section33'}},\n",
       "  {'name': 'DPI',\n",
       "   'standard_label': 'gene_specific_to_disease_class',\n",
       "   'range': '(0-1]',\n",
       "   'direction': {'more_specific': 'smaller'},\n",
       "   'reference': {'url': 'https://www.disgenet.org/dbinfo#section34'}}],\n",
       " 'origin': {'name': 'HPO_annotations', 'type': 'knowledgebase'}}"
      ]
     },
     "execution_count": 11,
     "metadata": {},
     "output_type": "execute_result"
    }
   ],
   "source": [
    "metakg_dggd_HPO"
   ]
  },
  {
   "cell_type": "markdown",
   "metadata": {
    "heading_collapsed": true
   },
   "source": [
    "#### By source: UNIPROT"
   ]
  },
  {
   "cell_type": "code",
   "execution_count": 12,
   "metadata": {
    "ExecuteTime": {
     "end_time": "2020-11-11T23:32:24.286503Z",
     "start_time": "2020-11-11T23:32:24.282952Z"
    },
    "hidden": true
   },
   "outputs": [],
   "source": [
    "metakg_dggd_UNIPROT = copy.deepcopy(basic_dggd_edge)\n",
    "\n",
    "## PROVENANCE\n",
    "## the MyDisease.info dict\n",
    "metakg_dggd_UNIPROT['traced_provenance'][0].update({\"method\":\"ingest_consolidate\"})\n",
    "## the DisGeNET dict\n",
    "metakg_dggd_UNIPROT['traced_provenance'][1].update({\"method\":\"propagate_from_protein_variant\"})\n",
    "\n",
    "## assign the origin\n",
    "metakg_dggd_UNIPROT['origin'] = \\\n",
    "    {\"name\":\"UniProt\",  \n",
    "     \"type\":\"knowledgebase\",\n",
    "     \"taxon_subset\":{'NCBITaxon:9606':'Homo_sapiens'}}  ## used human file "
   ]
  },
  {
   "cell_type": "code",
   "execution_count": 13,
   "metadata": {
    "ExecuteTime": {
     "end_time": "2020-11-11T23:32:24.294824Z",
     "start_time": "2020-11-11T23:32:24.288424Z"
    },
    "hidden": true
   },
   "outputs": [
    {
     "data": {
      "text/plain": [
       "{'translator_group': ['Service_Provider'],\n",
       " 'nodes_conflated': {'Disease': {'conflated_type': 'PhenotypicFeature',\n",
       "   'where': 'DisGeNET'},\n",
       "  'Gene': {'conflated_type': 'GeneProduct', 'where': 'DisGeNET'}},\n",
       " 'traced_provenance': [{'name': 'MyDisease.info API',\n",
       "   'type': 'service',\n",
       "   'version': '2020-10-26',\n",
       "   'method': 'ingest_consolidate'},\n",
       "  {'name': 'DisGeNET',\n",
       "   'type': 'knowledgebase',\n",
       "   'version': '2020-05-07',\n",
       "   'method_ref': {'url': 'https://www.disgenet.org/dbinfo#section11'},\n",
       "   'method': 'propagate_from_protein_variant'}],\n",
       " 'numeric_measures_present': True,\n",
       " 'categorical_measures_present': False,\n",
       " 'biolink_predicate': 'related_to',\n",
       " 'ingested_ontology_predicate': 'SIO:001403',\n",
       " 'ingested_ontology_label': 'SIO:is_associated_with',\n",
       " 'numeric_measures': [{'name': 'GDAscore',\n",
       "   'standard_label': 'association_score',\n",
       "   'range': '(0-1]',\n",
       "   'direction': {'more_confident': 'larger'},\n",
       "   'reference': {'url': 'https://www.disgenet.org/dbinfo#section31'}},\n",
       "  {'name': 'EI',\n",
       "   'standard_label': 'evidence_index',\n",
       "   'range': '(0-1]',\n",
       "   'direction': {'more_confident': 'larger'},\n",
       "   'reference': {'url': 'https://www.disgenet.org/dbinfo#section36'}},\n",
       "  {'name': 'DSI',\n",
       "   'standard_label': 'gene_specific_to_disease',\n",
       "   'range': '(0-1]',\n",
       "   'direction': {'more_specific': 'larger'},\n",
       "   'reference': {'url': 'https://www.disgenet.org/dbinfo#section33'}},\n",
       "  {'name': 'DPI',\n",
       "   'standard_label': 'gene_specific_to_disease_class',\n",
       "   'range': '(0-1]',\n",
       "   'direction': {'more_specific': 'smaller'},\n",
       "   'reference': {'url': 'https://www.disgenet.org/dbinfo#section34'}}],\n",
       " 'origin': {'name': 'UniProt',\n",
       "  'type': 'knowledgebase',\n",
       "  'taxon_subset': {'NCBITaxon:9606': 'Homo_sapiens'}}}"
      ]
     },
     "execution_count": 13,
     "metadata": {},
     "output_type": "execute_result"
    }
   ],
   "source": [
    "metakg_dggd_UNIPROT"
   ]
  },
  {
   "cell_type": "markdown",
   "metadata": {
    "heading_collapsed": true
   },
   "source": [
    "#### By source: CGI"
   ]
  },
  {
   "cell_type": "code",
   "execution_count": 14,
   "metadata": {
    "ExecuteTime": {
     "end_time": "2020-11-11T23:32:24.333356Z",
     "start_time": "2020-11-11T23:32:24.329715Z"
    },
    "hidden": true
   },
   "outputs": [],
   "source": [
    "metakg_dggd_CGI = copy.deepcopy(basic_dggd_edge)\n",
    "\n",
    "## PROVENANCE\n",
    "## the MyDisease.info dict\n",
    "metakg_dggd_CGI['traced_provenance'][0].update({\"method\":\"ingest\"})\n",
    "## the DisGeNET dict\n",
    "metakg_dggd_CGI['traced_provenance'][1].update({\"method\":\"ingest\"})\n",
    "\n",
    "## assign the origin\n",
    "metakg_dggd_CGI['origin'] = \\\n",
    "    {\"name\":\"Cancer_Genome_Interpreter\",  \n",
    "     \"type\":\"knowledgebase\"}  "
   ]
  },
  {
   "cell_type": "code",
   "execution_count": 15,
   "metadata": {
    "ExecuteTime": {
     "end_time": "2020-11-11T23:32:24.342656Z",
     "start_time": "2020-11-11T23:32:24.337384Z"
    },
    "hidden": true
   },
   "outputs": [
    {
     "data": {
      "text/plain": [
       "{'translator_group': ['Service_Provider'],\n",
       " 'nodes_conflated': {'Disease': {'conflated_type': 'PhenotypicFeature',\n",
       "   'where': 'DisGeNET'},\n",
       "  'Gene': {'conflated_type': 'GeneProduct', 'where': 'DisGeNET'}},\n",
       " 'traced_provenance': [{'name': 'MyDisease.info API',\n",
       "   'type': 'service',\n",
       "   'version': '2020-10-26',\n",
       "   'method': 'ingest'},\n",
       "  {'name': 'DisGeNET',\n",
       "   'type': 'knowledgebase',\n",
       "   'version': '2020-05-07',\n",
       "   'method_ref': {'url': 'https://www.disgenet.org/dbinfo#section11'},\n",
       "   'method': 'ingest'}],\n",
       " 'numeric_measures_present': True,\n",
       " 'categorical_measures_present': False,\n",
       " 'biolink_predicate': 'related_to',\n",
       " 'ingested_ontology_predicate': 'SIO:001403',\n",
       " 'ingested_ontology_label': 'SIO:is_associated_with',\n",
       " 'numeric_measures': [{'name': 'GDAscore',\n",
       "   'standard_label': 'association_score',\n",
       "   'range': '(0-1]',\n",
       "   'direction': {'more_confident': 'larger'},\n",
       "   'reference': {'url': 'https://www.disgenet.org/dbinfo#section31'}},\n",
       "  {'name': 'EI',\n",
       "   'standard_label': 'evidence_index',\n",
       "   'range': '(0-1]',\n",
       "   'direction': {'more_confident': 'larger'},\n",
       "   'reference': {'url': 'https://www.disgenet.org/dbinfo#section36'}},\n",
       "  {'name': 'DSI',\n",
       "   'standard_label': 'gene_specific_to_disease',\n",
       "   'range': '(0-1]',\n",
       "   'direction': {'more_specific': 'larger'},\n",
       "   'reference': {'url': 'https://www.disgenet.org/dbinfo#section33'}},\n",
       "  {'name': 'DPI',\n",
       "   'standard_label': 'gene_specific_to_disease_class',\n",
       "   'range': '(0-1]',\n",
       "   'direction': {'more_specific': 'smaller'},\n",
       "   'reference': {'url': 'https://www.disgenet.org/dbinfo#section34'}}],\n",
       " 'origin': {'name': 'Cancer_Genome_Interpreter', 'type': 'knowledgebase'}}"
      ]
     },
     "execution_count": 15,
     "metadata": {},
     "output_type": "execute_result"
    }
   ],
   "source": [
    "metakg_dggd_CGI"
   ]
  },
  {
   "cell_type": "markdown",
   "metadata": {
    "heading_collapsed": true
   },
   "source": [
    "#### By source: CLINVAR"
   ]
  },
  {
   "cell_type": "code",
   "execution_count": 71,
   "metadata": {
    "ExecuteTime": {
     "end_time": "2020-11-16T06:29:34.805808Z",
     "start_time": "2020-11-16T06:29:34.789336Z"
    },
    "hidden": true
   },
   "outputs": [],
   "source": [
    "metakg_dggd_CLINVAR = copy.deepcopy(basic_dggd_edge)\n",
    "\n",
    "## PROVENANCE\n",
    "## the MyDisease.info dict\n",
    "metakg_dggd_CLINVAR['traced_provenance'][0].update({\"method\":\"ingest_consolidate\"})\n",
    "## the DisGeNET dict\n",
    "metakg_dggd_CLINVAR['traced_provenance'][1].update({\"method\":\"propagate_from_sequence_variant\"})\n",
    "\n",
    "## assign the origin\n",
    "metakg_dggd_CLINVAR['origin'] = \\\n",
    "    {\"name\":\"ClinVar\",  \n",
    "     \"type\":\"knowledgebase\"}  "
   ]
  },
  {
   "cell_type": "code",
   "execution_count": 17,
   "metadata": {
    "ExecuteTime": {
     "end_time": "2020-11-11T23:32:24.392821Z",
     "start_time": "2020-11-11T23:32:24.387324Z"
    },
    "hidden": true
   },
   "outputs": [
    {
     "data": {
      "text/plain": [
       "{'translator_group': ['Service_Provider'],\n",
       " 'nodes_conflated': {'Disease': {'conflated_type': 'PhenotypicFeature',\n",
       "   'where': 'DisGeNET'},\n",
       "  'Gene': {'conflated_type': 'GeneProduct', 'where': 'DisGeNET'}},\n",
       " 'traced_provenance': [{'name': 'MyDisease.info API',\n",
       "   'type': 'service',\n",
       "   'version': '2020-10-26',\n",
       "   'method': 'ingest_consolidate'},\n",
       "  {'name': 'DisGeNET',\n",
       "   'type': 'knowledgebase',\n",
       "   'version': '2020-05-07',\n",
       "   'method_ref': {'url': 'https://www.disgenet.org/dbinfo#section11'},\n",
       "   'method': 'propagate_from_gene_variant'}],\n",
       " 'numeric_measures_present': True,\n",
       " 'categorical_measures_present': False,\n",
       " 'biolink_predicate': 'related_to',\n",
       " 'ingested_ontology_predicate': 'SIO:001403',\n",
       " 'ingested_ontology_label': 'SIO:is_associated_with',\n",
       " 'numeric_measures': [{'name': 'GDAscore',\n",
       "   'standard_label': 'association_score',\n",
       "   'range': '(0-1]',\n",
       "   'direction': {'more_confident': 'larger'},\n",
       "   'reference': {'url': 'https://www.disgenet.org/dbinfo#section31'}},\n",
       "  {'name': 'EI',\n",
       "   'standard_label': 'evidence_index',\n",
       "   'range': '(0-1]',\n",
       "   'direction': {'more_confident': 'larger'},\n",
       "   'reference': {'url': 'https://www.disgenet.org/dbinfo#section36'}},\n",
       "  {'name': 'DSI',\n",
       "   'standard_label': 'gene_specific_to_disease',\n",
       "   'range': '(0-1]',\n",
       "   'direction': {'more_specific': 'larger'},\n",
       "   'reference': {'url': 'https://www.disgenet.org/dbinfo#section33'}},\n",
       "  {'name': 'DPI',\n",
       "   'standard_label': 'gene_specific_to_disease_class',\n",
       "   'range': '(0-1]',\n",
       "   'direction': {'more_specific': 'smaller'},\n",
       "   'reference': {'url': 'https://www.disgenet.org/dbinfo#section34'}}],\n",
       " 'origin': {'name': 'ClinVar', 'type': 'knowledgebase'}}"
      ]
     },
     "execution_count": 17,
     "metadata": {},
     "output_type": "execute_result"
    }
   ],
   "source": [
    "metakg_dggd_CLINVAR"
   ]
  },
  {
   "cell_type": "markdown",
   "metadata": {
    "heading_collapsed": true
   },
   "source": [
    "#### By source: GWASCAT"
   ]
  },
  {
   "cell_type": "code",
   "execution_count": 72,
   "metadata": {
    "ExecuteTime": {
     "end_time": "2020-11-16T06:29:45.049960Z",
     "start_time": "2020-11-16T06:29:45.046231Z"
    },
    "hidden": true
   },
   "outputs": [],
   "source": [
    "metakg_dggd_GWASCAT = copy.deepcopy(basic_dggd_edge)\n",
    "\n",
    "## PROVENANCE\n",
    "## the MyDisease.info dict\n",
    "metakg_dggd_GWASCAT['traced_provenance'][0].update({\"method\":\"ingest_consolidate\"})\n",
    "## the DisGeNET dict\n",
    "metakg_dggd_GWASCAT['traced_provenance'][1].update({\"method\":\"propagate_from_sequence_variant\"})\n",
    "\n",
    "## assign the origin\n",
    "metakg_dggd_GWASCAT['origin'] = \\\n",
    "    {\"name\":\"NHGRI_EBI_GWAS_CATALOG\",  \n",
    "     \"type\":\"knowledgebase\"}  "
   ]
  },
  {
   "cell_type": "code",
   "execution_count": 19,
   "metadata": {
    "ExecuteTime": {
     "end_time": "2020-11-11T23:32:24.446625Z",
     "start_time": "2020-11-11T23:32:24.440904Z"
    },
    "hidden": true
   },
   "outputs": [
    {
     "data": {
      "text/plain": [
       "{'translator_group': ['Service_Provider'],\n",
       " 'nodes_conflated': {'Disease': {'conflated_type': 'PhenotypicFeature',\n",
       "   'where': 'DisGeNET'},\n",
       "  'Gene': {'conflated_type': 'GeneProduct', 'where': 'DisGeNET'}},\n",
       " 'traced_provenance': [{'name': 'MyDisease.info API',\n",
       "   'type': 'service',\n",
       "   'version': '2020-10-26',\n",
       "   'method': 'ingest_consolidate'},\n",
       "  {'name': 'DisGeNET',\n",
       "   'type': 'knowledgebase',\n",
       "   'version': '2020-05-07',\n",
       "   'method_ref': {'url': 'https://www.disgenet.org/dbinfo#section11'},\n",
       "   'method': 'propagate_from_gene_variant'}],\n",
       " 'numeric_measures_present': True,\n",
       " 'categorical_measures_present': False,\n",
       " 'biolink_predicate': 'related_to',\n",
       " 'ingested_ontology_predicate': 'SIO:001403',\n",
       " 'ingested_ontology_label': 'SIO:is_associated_with',\n",
       " 'numeric_measures': [{'name': 'GDAscore',\n",
       "   'standard_label': 'association_score',\n",
       "   'range': '(0-1]',\n",
       "   'direction': {'more_confident': 'larger'},\n",
       "   'reference': {'url': 'https://www.disgenet.org/dbinfo#section31'}},\n",
       "  {'name': 'EI',\n",
       "   'standard_label': 'evidence_index',\n",
       "   'range': '(0-1]',\n",
       "   'direction': {'more_confident': 'larger'},\n",
       "   'reference': {'url': 'https://www.disgenet.org/dbinfo#section36'}},\n",
       "  {'name': 'DSI',\n",
       "   'standard_label': 'gene_specific_to_disease',\n",
       "   'range': '(0-1]',\n",
       "   'direction': {'more_specific': 'larger'},\n",
       "   'reference': {'url': 'https://www.disgenet.org/dbinfo#section33'}},\n",
       "  {'name': 'DPI',\n",
       "   'standard_label': 'gene_specific_to_disease_class',\n",
       "   'range': '(0-1]',\n",
       "   'direction': {'more_specific': 'smaller'},\n",
       "   'reference': {'url': 'https://www.disgenet.org/dbinfo#section34'}}],\n",
       " 'origin': {'name': 'NHGRI_EBI_GWAS_CATALOG', 'type': 'knowledgebase'}}"
      ]
     },
     "execution_count": 19,
     "metadata": {},
     "output_type": "execute_result"
    }
   ],
   "source": [
    "metakg_dggd_GWASCAT"
   ]
  },
  {
   "cell_type": "markdown",
   "metadata": {
    "heading_collapsed": true
   },
   "source": [
    "#### By source: GWASDB"
   ]
  },
  {
   "cell_type": "code",
   "execution_count": 73,
   "metadata": {
    "ExecuteTime": {
     "end_time": "2020-11-16T06:29:51.563535Z",
     "start_time": "2020-11-16T06:29:51.560053Z"
    },
    "hidden": true
   },
   "outputs": [],
   "source": [
    "metakg_dggd_GWASDB = copy.deepcopy(basic_dggd_edge)\n",
    "\n",
    "## PROVENANCE\n",
    "## the MyDisease.info dict\n",
    "metakg_dggd_GWASDB['traced_provenance'][0].update({\"method\":\"ingest_consolidate\"})\n",
    "## the DisGeNET dict\n",
    "metakg_dggd_GWASDB['traced_provenance'][1].update({\"method\":\"propagate_from_sequence_variant\"})\n",
    "\n",
    "## assign the origin\n",
    "metakg_dggd_GWASDB['origin'] = \\\n",
    "    {\"name\":\"GWASdb\",  \n",
    "     \"type\":\"knowledgebase\"}  "
   ]
  },
  {
   "cell_type": "code",
   "execution_count": 21,
   "metadata": {
    "ExecuteTime": {
     "end_time": "2020-11-11T23:32:24.499673Z",
     "start_time": "2020-11-11T23:32:24.494458Z"
    },
    "hidden": true
   },
   "outputs": [
    {
     "data": {
      "text/plain": [
       "{'translator_group': ['Service_Provider'],\n",
       " 'nodes_conflated': {'Disease': {'conflated_type': 'PhenotypicFeature',\n",
       "   'where': 'DisGeNET'},\n",
       "  'Gene': {'conflated_type': 'GeneProduct', 'where': 'DisGeNET'}},\n",
       " 'traced_provenance': [{'name': 'MyDisease.info API',\n",
       "   'type': 'service',\n",
       "   'version': '2020-10-26',\n",
       "   'method': 'ingest_consolidate'},\n",
       "  {'name': 'DisGeNET',\n",
       "   'type': 'knowledgebase',\n",
       "   'version': '2020-05-07',\n",
       "   'method_ref': {'url': 'https://www.disgenet.org/dbinfo#section11'},\n",
       "   'method': 'propagate_from_gene_variant'}],\n",
       " 'numeric_measures_present': True,\n",
       " 'categorical_measures_present': False,\n",
       " 'biolink_predicate': 'related_to',\n",
       " 'ingested_ontology_predicate': 'SIO:001403',\n",
       " 'ingested_ontology_label': 'SIO:is_associated_with',\n",
       " 'numeric_measures': [{'name': 'GDAscore',\n",
       "   'standard_label': 'association_score',\n",
       "   'range': '(0-1]',\n",
       "   'direction': {'more_confident': 'larger'},\n",
       "   'reference': {'url': 'https://www.disgenet.org/dbinfo#section31'}},\n",
       "  {'name': 'EI',\n",
       "   'standard_label': 'evidence_index',\n",
       "   'range': '(0-1]',\n",
       "   'direction': {'more_confident': 'larger'},\n",
       "   'reference': {'url': 'https://www.disgenet.org/dbinfo#section36'}},\n",
       "  {'name': 'DSI',\n",
       "   'standard_label': 'gene_specific_to_disease',\n",
       "   'range': '(0-1]',\n",
       "   'direction': {'more_specific': 'larger'},\n",
       "   'reference': {'url': 'https://www.disgenet.org/dbinfo#section33'}},\n",
       "  {'name': 'DPI',\n",
       "   'standard_label': 'gene_specific_to_disease_class',\n",
       "   'range': '(0-1]',\n",
       "   'direction': {'more_specific': 'smaller'},\n",
       "   'reference': {'url': 'https://www.disgenet.org/dbinfo#section34'}}],\n",
       " 'origin': {'name': 'GWASdb', 'type': 'knowledgebase'}}"
      ]
     },
     "execution_count": 21,
     "metadata": {},
     "output_type": "execute_result"
    }
   ],
   "source": [
    "metakg_dggd_GWASDB"
   ]
  },
  {
   "cell_type": "markdown",
   "metadata": {
    "heading_collapsed": true
   },
   "source": [
    "#### By source: MGD"
   ]
  },
  {
   "cell_type": "code",
   "execution_count": 22,
   "metadata": {
    "ExecuteTime": {
     "end_time": "2020-11-11T23:32:24.545109Z",
     "start_time": "2020-11-11T23:32:24.541252Z"
    },
    "hidden": true
   },
   "outputs": [],
   "source": [
    "metakg_dggd_MGD = copy.deepcopy(basic_dggd_edge)\n",
    "\n",
    "## PROVENANCE\n",
    "## the MyDisease.info dict\n",
    "metakg_dggd_MGD['traced_provenance'][0].update({\"method\":\"ingest_consolidate\"})\n",
    "## the DisGeNET dict\n",
    "metakg_dggd_MGD['traced_provenance'][1].update({\"method\":\"propagate_from_orthology\"})\n",
    "\n",
    "## assign the origin\n",
    "metakg_dggd_MGD['origin'] = \\\n",
    "    {\"name\":\"MGD\",  \n",
    "     \"type\":\"knowledgebase\",\n",
    "     \"taxon_subset\":{\"NCBITaxon:10090\":\"Mus_musculus\"}}  ## mouse resource"
   ]
  },
  {
   "cell_type": "code",
   "execution_count": 23,
   "metadata": {
    "ExecuteTime": {
     "end_time": "2020-11-11T23:32:24.554288Z",
     "start_time": "2020-11-11T23:32:24.549048Z"
    },
    "hidden": true
   },
   "outputs": [
    {
     "data": {
      "text/plain": [
       "{'translator_group': ['Service_Provider'],\n",
       " 'nodes_conflated': {'Disease': {'conflated_type': 'PhenotypicFeature',\n",
       "   'where': 'DisGeNET'},\n",
       "  'Gene': {'conflated_type': 'GeneProduct', 'where': 'DisGeNET'}},\n",
       " 'traced_provenance': [{'name': 'MyDisease.info API',\n",
       "   'type': 'service',\n",
       "   'version': '2020-10-26',\n",
       "   'method': 'ingest_consolidate'},\n",
       "  {'name': 'DisGeNET',\n",
       "   'type': 'knowledgebase',\n",
       "   'version': '2020-05-07',\n",
       "   'method_ref': {'url': 'https://www.disgenet.org/dbinfo#section11'},\n",
       "   'method': 'propagate_from_orthology'}],\n",
       " 'numeric_measures_present': True,\n",
       " 'categorical_measures_present': False,\n",
       " 'biolink_predicate': 'related_to',\n",
       " 'ingested_ontology_predicate': 'SIO:001403',\n",
       " 'ingested_ontology_label': 'SIO:is_associated_with',\n",
       " 'numeric_measures': [{'name': 'GDAscore',\n",
       "   'standard_label': 'association_score',\n",
       "   'range': '(0-1]',\n",
       "   'direction': {'more_confident': 'larger'},\n",
       "   'reference': {'url': 'https://www.disgenet.org/dbinfo#section31'}},\n",
       "  {'name': 'EI',\n",
       "   'standard_label': 'evidence_index',\n",
       "   'range': '(0-1]',\n",
       "   'direction': {'more_confident': 'larger'},\n",
       "   'reference': {'url': 'https://www.disgenet.org/dbinfo#section36'}},\n",
       "  {'name': 'DSI',\n",
       "   'standard_label': 'gene_specific_to_disease',\n",
       "   'range': '(0-1]',\n",
       "   'direction': {'more_specific': 'larger'},\n",
       "   'reference': {'url': 'https://www.disgenet.org/dbinfo#section33'}},\n",
       "  {'name': 'DPI',\n",
       "   'standard_label': 'gene_specific_to_disease_class',\n",
       "   'range': '(0-1]',\n",
       "   'direction': {'more_specific': 'smaller'},\n",
       "   'reference': {'url': 'https://www.disgenet.org/dbinfo#section34'}}],\n",
       " 'origin': {'name': 'MGD',\n",
       "  'type': 'knowledgebase',\n",
       "  'taxon_subset': {'NCBITaxon:10090': 'Mus_musculus'}}}"
      ]
     },
     "execution_count": 23,
     "metadata": {},
     "output_type": "execute_result"
    }
   ],
   "source": [
    "metakg_dggd_MGD"
   ]
  },
  {
   "cell_type": "markdown",
   "metadata": {
    "heading_collapsed": true
   },
   "source": [
    "#### By source: RGD"
   ]
  },
  {
   "cell_type": "code",
   "execution_count": 24,
   "metadata": {
    "ExecuteTime": {
     "end_time": "2020-11-11T23:32:24.600546Z",
     "start_time": "2020-11-11T23:32:24.596737Z"
    },
    "hidden": true
   },
   "outputs": [],
   "source": [
    "metakg_dggd_RGD = copy.deepcopy(basic_dggd_edge)\n",
    "\n",
    "## PROVENANCE\n",
    "## the MyDisease.info dict\n",
    "metakg_dggd_RGD['traced_provenance'][0].update({\"method\":\"ingest_consolidate\"})\n",
    "## the DisGeNET dict\n",
    "metakg_dggd_RGD['traced_provenance'][1].update({\"method\":\"propagate_from_orthology\"})\n",
    "\n",
    "## assign the origin\n",
    "metakg_dggd_RGD['origin'] = \\\n",
    "    {\"name\":\"RGD\",  \n",
    "     \"type\":\"knowledgebase\"}  \n",
    "## I don't put a taxon_subset since RGD actually has 8 species, including rat and human, in it: \n",
    "##  https://rgd.mcw.edu/wg/about-us/"
   ]
  },
  {
   "cell_type": "code",
   "execution_count": 25,
   "metadata": {
    "ExecuteTime": {
     "end_time": "2020-11-11T23:32:24.607977Z",
     "start_time": "2020-11-11T23:32:24.602519Z"
    },
    "hidden": true
   },
   "outputs": [
    {
     "data": {
      "text/plain": [
       "{'translator_group': ['Service_Provider'],\n",
       " 'nodes_conflated': {'Disease': {'conflated_type': 'PhenotypicFeature',\n",
       "   'where': 'DisGeNET'},\n",
       "  'Gene': {'conflated_type': 'GeneProduct', 'where': 'DisGeNET'}},\n",
       " 'traced_provenance': [{'name': 'MyDisease.info API',\n",
       "   'type': 'service',\n",
       "   'version': '2020-10-26',\n",
       "   'method': 'ingest_consolidate'},\n",
       "  {'name': 'DisGeNET',\n",
       "   'type': 'knowledgebase',\n",
       "   'version': '2020-05-07',\n",
       "   'method_ref': {'url': 'https://www.disgenet.org/dbinfo#section11'},\n",
       "   'method': 'propagate_from_orthology'}],\n",
       " 'numeric_measures_present': True,\n",
       " 'categorical_measures_present': False,\n",
       " 'biolink_predicate': 'related_to',\n",
       " 'ingested_ontology_predicate': 'SIO:001403',\n",
       " 'ingested_ontology_label': 'SIO:is_associated_with',\n",
       " 'numeric_measures': [{'name': 'GDAscore',\n",
       "   'standard_label': 'association_score',\n",
       "   'range': '(0-1]',\n",
       "   'direction': {'more_confident': 'larger'},\n",
       "   'reference': {'url': 'https://www.disgenet.org/dbinfo#section31'}},\n",
       "  {'name': 'EI',\n",
       "   'standard_label': 'evidence_index',\n",
       "   'range': '(0-1]',\n",
       "   'direction': {'more_confident': 'larger'},\n",
       "   'reference': {'url': 'https://www.disgenet.org/dbinfo#section36'}},\n",
       "  {'name': 'DSI',\n",
       "   'standard_label': 'gene_specific_to_disease',\n",
       "   'range': '(0-1]',\n",
       "   'direction': {'more_specific': 'larger'},\n",
       "   'reference': {'url': 'https://www.disgenet.org/dbinfo#section33'}},\n",
       "  {'name': 'DPI',\n",
       "   'standard_label': 'gene_specific_to_disease_class',\n",
       "   'range': '(0-1]',\n",
       "   'direction': {'more_specific': 'smaller'},\n",
       "   'reference': {'url': 'https://www.disgenet.org/dbinfo#section34'}}],\n",
       " 'origin': {'name': 'RGD', 'type': 'knowledgebase'}}"
      ]
     },
     "execution_count": 25,
     "metadata": {},
     "output_type": "execute_result"
    }
   ],
   "source": [
    "metakg_dggd_RGD"
   ]
  },
  {
   "cell_type": "markdown",
   "metadata": {
    "heading_collapsed": true
   },
   "source": [
    "#### By source: CTD_mouse"
   ]
  },
  {
   "cell_type": "code",
   "execution_count": 26,
   "metadata": {
    "ExecuteTime": {
     "end_time": "2020-11-11T23:32:24.656665Z",
     "start_time": "2020-11-11T23:32:24.652694Z"
    },
    "hidden": true
   },
   "outputs": [],
   "source": [
    "metakg_dggd_CTDmouse = copy.deepcopy(basic_dggd_edge)\n",
    "\n",
    "## PROVENANCE\n",
    "## the MyDisease.info dict\n",
    "metakg_dggd_CTDmouse['traced_provenance'][0].update({\"method\":\"ingest_consolidate\"})\n",
    "## the DisGeNET dict\n",
    "metakg_dggd_CTDmouse['traced_provenance'][1].update({\"method\":\"propagate_from_orthology\"})\n",
    "\n",
    "## assign the origin\n",
    "metakg_dggd_CTDmouse['origin'] = \\\n",
    "    {\"name\":\"CTD\",  \n",
    "     \"type\":\"knowledgebase\",\n",
    "     \"taxon_subset\":{\"NCBITaxon:10090\":\"Mus_musculus\"}}   ## mouse file"
   ]
  },
  {
   "cell_type": "code",
   "execution_count": 27,
   "metadata": {
    "ExecuteTime": {
     "end_time": "2020-11-11T23:32:24.664482Z",
     "start_time": "2020-11-11T23:32:24.659153Z"
    },
    "hidden": true
   },
   "outputs": [
    {
     "data": {
      "text/plain": [
       "{'translator_group': ['Service_Provider'],\n",
       " 'nodes_conflated': {'Disease': {'conflated_type': 'PhenotypicFeature',\n",
       "   'where': 'DisGeNET'},\n",
       "  'Gene': {'conflated_type': 'GeneProduct', 'where': 'DisGeNET'}},\n",
       " 'traced_provenance': [{'name': 'MyDisease.info API',\n",
       "   'type': 'service',\n",
       "   'version': '2020-10-26',\n",
       "   'method': 'ingest_consolidate'},\n",
       "  {'name': 'DisGeNET',\n",
       "   'type': 'knowledgebase',\n",
       "   'version': '2020-05-07',\n",
       "   'method_ref': {'url': 'https://www.disgenet.org/dbinfo#section11'},\n",
       "   'method': 'propagate_from_orthology'}],\n",
       " 'numeric_measures_present': True,\n",
       " 'categorical_measures_present': False,\n",
       " 'biolink_predicate': 'related_to',\n",
       " 'ingested_ontology_predicate': 'SIO:001403',\n",
       " 'ingested_ontology_label': 'SIO:is_associated_with',\n",
       " 'numeric_measures': [{'name': 'GDAscore',\n",
       "   'standard_label': 'association_score',\n",
       "   'range': '(0-1]',\n",
       "   'direction': {'more_confident': 'larger'},\n",
       "   'reference': {'url': 'https://www.disgenet.org/dbinfo#section31'}},\n",
       "  {'name': 'EI',\n",
       "   'standard_label': 'evidence_index',\n",
       "   'range': '(0-1]',\n",
       "   'direction': {'more_confident': 'larger'},\n",
       "   'reference': {'url': 'https://www.disgenet.org/dbinfo#section36'}},\n",
       "  {'name': 'DSI',\n",
       "   'standard_label': 'gene_specific_to_disease',\n",
       "   'range': '(0-1]',\n",
       "   'direction': {'more_specific': 'larger'},\n",
       "   'reference': {'url': 'https://www.disgenet.org/dbinfo#section33'}},\n",
       "  {'name': 'DPI',\n",
       "   'standard_label': 'gene_specific_to_disease_class',\n",
       "   'range': '(0-1]',\n",
       "   'direction': {'more_specific': 'smaller'},\n",
       "   'reference': {'url': 'https://www.disgenet.org/dbinfo#section34'}}],\n",
       " 'origin': {'name': 'CTD',\n",
       "  'type': 'knowledgebase',\n",
       "  'taxon_subset': {'NCBITaxon:10090': 'Mus_musculus'}}}"
      ]
     },
     "execution_count": 27,
     "metadata": {},
     "output_type": "execute_result"
    }
   ],
   "source": [
    "metakg_dggd_CTDmouse"
   ]
  },
  {
   "cell_type": "markdown",
   "metadata": {
    "heading_collapsed": true
   },
   "source": [
    "#### By source: CTD_rat"
   ]
  },
  {
   "cell_type": "code",
   "execution_count": 28,
   "metadata": {
    "ExecuteTime": {
     "end_time": "2020-11-11T23:32:24.713474Z",
     "start_time": "2020-11-11T23:32:24.709734Z"
    },
    "hidden": true
   },
   "outputs": [],
   "source": [
    "metakg_dggd_CTDrat = copy.deepcopy(basic_dggd_edge)\n",
    "\n",
    "## PROVENANCE\n",
    "## the MyDisease.info dict\n",
    "metakg_dggd_CTDrat['traced_provenance'][0].update({\"method\":\"ingest_consolidate\"})\n",
    "## the DisGeNET dict\n",
    "metakg_dggd_CTDrat['traced_provenance'][1].update({\"method\":\"propagate_from_orthology\"})\n",
    "\n",
    "## assign the origin\n",
    "metakg_dggd_CTDrat['origin'] = \\\n",
    "    {\"name\":\"CTD\",  \n",
    "     \"type\":\"knowledgebase\",\n",
    "     \"taxon_subset\":{\"NCBITaxon:10116\":\"Rattus_norvegicus\"}}   ## rat file"
   ]
  },
  {
   "cell_type": "code",
   "execution_count": 29,
   "metadata": {
    "ExecuteTime": {
     "end_time": "2020-11-11T23:32:24.720820Z",
     "start_time": "2020-11-11T23:32:24.715500Z"
    },
    "hidden": true,
    "scrolled": true
   },
   "outputs": [
    {
     "data": {
      "text/plain": [
       "{'translator_group': ['Service_Provider'],\n",
       " 'nodes_conflated': {'Disease': {'conflated_type': 'PhenotypicFeature',\n",
       "   'where': 'DisGeNET'},\n",
       "  'Gene': {'conflated_type': 'GeneProduct', 'where': 'DisGeNET'}},\n",
       " 'traced_provenance': [{'name': 'MyDisease.info API',\n",
       "   'type': 'service',\n",
       "   'version': '2020-10-26',\n",
       "   'method': 'ingest_consolidate'},\n",
       "  {'name': 'DisGeNET',\n",
       "   'type': 'knowledgebase',\n",
       "   'version': '2020-05-07',\n",
       "   'method_ref': {'url': 'https://www.disgenet.org/dbinfo#section11'},\n",
       "   'method': 'propagate_from_orthology'}],\n",
       " 'numeric_measures_present': True,\n",
       " 'categorical_measures_present': False,\n",
       " 'biolink_predicate': 'related_to',\n",
       " 'ingested_ontology_predicate': 'SIO:001403',\n",
       " 'ingested_ontology_label': 'SIO:is_associated_with',\n",
       " 'numeric_measures': [{'name': 'GDAscore',\n",
       "   'standard_label': 'association_score',\n",
       "   'range': '(0-1]',\n",
       "   'direction': {'more_confident': 'larger'},\n",
       "   'reference': {'url': 'https://www.disgenet.org/dbinfo#section31'}},\n",
       "  {'name': 'EI',\n",
       "   'standard_label': 'evidence_index',\n",
       "   'range': '(0-1]',\n",
       "   'direction': {'more_confident': 'larger'},\n",
       "   'reference': {'url': 'https://www.disgenet.org/dbinfo#section36'}},\n",
       "  {'name': 'DSI',\n",
       "   'standard_label': 'gene_specific_to_disease',\n",
       "   'range': '(0-1]',\n",
       "   'direction': {'more_specific': 'larger'},\n",
       "   'reference': {'url': 'https://www.disgenet.org/dbinfo#section33'}},\n",
       "  {'name': 'DPI',\n",
       "   'standard_label': 'gene_specific_to_disease_class',\n",
       "   'range': '(0-1]',\n",
       "   'direction': {'more_specific': 'smaller'},\n",
       "   'reference': {'url': 'https://www.disgenet.org/dbinfo#section34'}}],\n",
       " 'origin': {'name': 'CTD',\n",
       "  'type': 'knowledgebase',\n",
       "  'taxon_subset': {'NCBITaxon:10116': 'Rattus_norvegicus'}}}"
      ]
     },
     "execution_count": 29,
     "metadata": {},
     "output_type": "execute_result"
    }
   ],
   "source": [
    "metakg_dggd_CTDrat"
   ]
  },
  {
   "cell_type": "markdown",
   "metadata": {},
   "source": [
    "#### By source: CLINGEN"
   ]
  },
  {
   "cell_type": "code",
   "execution_count": 30,
   "metadata": {
    "ExecuteTime": {
     "end_time": "2020-11-11T23:32:24.771174Z",
     "start_time": "2020-11-11T23:32:24.767396Z"
    }
   },
   "outputs": [],
   "source": [
    "metakg_dggd_CLINGEN = copy.deepcopy(basic_dggd_edge)\n",
    "\n",
    "## PROVENANCE\n",
    "## the MyDisease.info dict\n",
    "metakg_dggd_CLINGEN['traced_provenance'][0].update({\"method\":\"ingest_consolidate\"})\n",
    "## the DisGeNET dict\n",
    "metakg_dggd_CLINGEN['traced_provenance'][1].update({\"method\":\"ingest\"})\n",
    "\n",
    "## assign the origin\n",
    "metakg_dggd_CLINGEN['origin'] = \\\n",
    "    {\"name\":\"ClinGen\",  \n",
    "     \"type\":\"knowledgebase\"}  "
   ]
  },
  {
   "cell_type": "code",
   "execution_count": 31,
   "metadata": {
    "ExecuteTime": {
     "end_time": "2020-11-11T23:32:24.778955Z",
     "start_time": "2020-11-11T23:32:24.773354Z"
    },
    "scrolled": true
   },
   "outputs": [
    {
     "data": {
      "text/plain": [
       "{'translator_group': ['Service_Provider'],\n",
       " 'nodes_conflated': {'Disease': {'conflated_type': 'PhenotypicFeature',\n",
       "   'where': 'DisGeNET'},\n",
       "  'Gene': {'conflated_type': 'GeneProduct', 'where': 'DisGeNET'}},\n",
       " 'traced_provenance': [{'name': 'MyDisease.info API',\n",
       "   'type': 'service',\n",
       "   'version': '2020-10-26',\n",
       "   'method': 'ingest_consolidate'},\n",
       "  {'name': 'DisGeNET',\n",
       "   'type': 'knowledgebase',\n",
       "   'version': '2020-05-07',\n",
       "   'method_ref': {'url': 'https://www.disgenet.org/dbinfo#section11'},\n",
       "   'method': 'ingest'}],\n",
       " 'numeric_measures_present': True,\n",
       " 'categorical_measures_present': False,\n",
       " 'biolink_predicate': 'related_to',\n",
       " 'ingested_ontology_predicate': 'SIO:001403',\n",
       " 'ingested_ontology_label': 'SIO:is_associated_with',\n",
       " 'numeric_measures': [{'name': 'GDAscore',\n",
       "   'standard_label': 'association_score',\n",
       "   'range': '(0-1]',\n",
       "   'direction': {'more_confident': 'larger'},\n",
       "   'reference': {'url': 'https://www.disgenet.org/dbinfo#section31'}},\n",
       "  {'name': 'EI',\n",
       "   'standard_label': 'evidence_index',\n",
       "   'range': '(0-1]',\n",
       "   'direction': {'more_confident': 'larger'},\n",
       "   'reference': {'url': 'https://www.disgenet.org/dbinfo#section36'}},\n",
       "  {'name': 'DSI',\n",
       "   'standard_label': 'gene_specific_to_disease',\n",
       "   'range': '(0-1]',\n",
       "   'direction': {'more_specific': 'larger'},\n",
       "   'reference': {'url': 'https://www.disgenet.org/dbinfo#section33'}},\n",
       "  {'name': 'DPI',\n",
       "   'standard_label': 'gene_specific_to_disease_class',\n",
       "   'range': '(0-1]',\n",
       "   'direction': {'more_specific': 'smaller'},\n",
       "   'reference': {'url': 'https://www.disgenet.org/dbinfo#section34'}}],\n",
       " 'origin': {'name': 'ClinGen', 'type': 'knowledgebase'}}"
      ]
     },
     "execution_count": 31,
     "metadata": {},
     "output_type": "execute_result"
    }
   ],
   "source": [
    "metakg_dggd_CLINGEN"
   ]
  },
  {
   "cell_type": "markdown",
   "metadata": {},
   "source": [
    "#### By source: GENOMICS_ENGLAND (GE)"
   ]
  },
  {
   "cell_type": "code",
   "execution_count": 32,
   "metadata": {
    "ExecuteTime": {
     "end_time": "2020-11-11T23:32:24.828886Z",
     "start_time": "2020-11-11T23:32:24.825101Z"
    }
   },
   "outputs": [],
   "source": [
    "metakg_dggd_GE = copy.deepcopy(basic_dggd_edge)\n",
    "\n",
    "## PROVENANCE\n",
    "## the MyDisease.info dict\n",
    "metakg_dggd_GE['traced_provenance'][0].update({\"method\":\"ingest_consolidate\"})\n",
    "## the DisGeNET dict\n",
    "metakg_dggd_GE['traced_provenance'][1].update({\"method\":\"ingest\"})\n",
    "\n",
    "## assign the origin\n",
    "metakg_dggd_GE['origin'] = \\\n",
    "    {\"name\":\"Genomics_England_PanelApp\",  \n",
    "     \"type\":\"knowledgebase\"}  "
   ]
  },
  {
   "cell_type": "code",
   "execution_count": 33,
   "metadata": {
    "ExecuteTime": {
     "end_time": "2020-11-11T23:32:24.836506Z",
     "start_time": "2020-11-11T23:32:24.831028Z"
    }
   },
   "outputs": [
    {
     "data": {
      "text/plain": [
       "{'translator_group': ['Service_Provider'],\n",
       " 'nodes_conflated': {'Disease': {'conflated_type': 'PhenotypicFeature',\n",
       "   'where': 'DisGeNET'},\n",
       "  'Gene': {'conflated_type': 'GeneProduct', 'where': 'DisGeNET'}},\n",
       " 'traced_provenance': [{'name': 'MyDisease.info API',\n",
       "   'type': 'service',\n",
       "   'version': '2020-10-26',\n",
       "   'method': 'ingest_consolidate'},\n",
       "  {'name': 'DisGeNET',\n",
       "   'type': 'knowledgebase',\n",
       "   'version': '2020-05-07',\n",
       "   'method_ref': {'url': 'https://www.disgenet.org/dbinfo#section11'},\n",
       "   'method': 'ingest'}],\n",
       " 'numeric_measures_present': True,\n",
       " 'categorical_measures_present': False,\n",
       " 'biolink_predicate': 'related_to',\n",
       " 'ingested_ontology_predicate': 'SIO:001403',\n",
       " 'ingested_ontology_label': 'SIO:is_associated_with',\n",
       " 'numeric_measures': [{'name': 'GDAscore',\n",
       "   'standard_label': 'association_score',\n",
       "   'range': '(0-1]',\n",
       "   'direction': {'more_confident': 'larger'},\n",
       "   'reference': {'url': 'https://www.disgenet.org/dbinfo#section31'}},\n",
       "  {'name': 'EI',\n",
       "   'standard_label': 'evidence_index',\n",
       "   'range': '(0-1]',\n",
       "   'direction': {'more_confident': 'larger'},\n",
       "   'reference': {'url': 'https://www.disgenet.org/dbinfo#section36'}},\n",
       "  {'name': 'DSI',\n",
       "   'standard_label': 'gene_specific_to_disease',\n",
       "   'range': '(0-1]',\n",
       "   'direction': {'more_specific': 'larger'},\n",
       "   'reference': {'url': 'https://www.disgenet.org/dbinfo#section33'}},\n",
       "  {'name': 'DPI',\n",
       "   'standard_label': 'gene_specific_to_disease_class',\n",
       "   'range': '(0-1]',\n",
       "   'direction': {'more_specific': 'smaller'},\n",
       "   'reference': {'url': 'https://www.disgenet.org/dbinfo#section34'}}],\n",
       " 'origin': {'name': 'Genomics_England_PanelApp', 'type': 'knowledgebase'}}"
      ]
     },
     "execution_count": 33,
     "metadata": {},
     "output_type": "execute_result"
    }
   ],
   "source": [
    "metakg_dggd_GE"
   ]
  },
  {
   "cell_type": "markdown",
   "metadata": {},
   "source": [
    "#### By source: CTD_human"
   ]
  },
  {
   "cell_type": "code",
   "execution_count": 34,
   "metadata": {
    "ExecuteTime": {
     "end_time": "2020-11-11T23:32:24.888122Z",
     "start_time": "2020-11-11T23:32:24.884110Z"
    }
   },
   "outputs": [],
   "source": [
    "metakg_dggd_CTDhuman = copy.deepcopy(basic_dggd_edge)\n",
    "\n",
    "## PROVENANCE\n",
    "## the MyDisease.info dict\n",
    "metakg_dggd_CTDhuman['traced_provenance'][0].update({\"method\":\"ingest_consolidate\"})\n",
    "## the DisGeNET dict\n",
    "metakg_dggd_CTDhuman['traced_provenance'][1].update({\"method\":\"ingest\"})\n",
    "\n",
    "## assign the origin\n",
    "metakg_dggd_CTDhuman['origin'] = \\\n",
    "    {\"name\":\"CTD\",  \n",
    "     \"type\":\"knowledgebase\",\n",
    "     \"taxon_subset\":{'NCBITaxon:9606':'Homo_sapiens'}}  ## human file"
   ]
  },
  {
   "cell_type": "code",
   "execution_count": 35,
   "metadata": {
    "ExecuteTime": {
     "end_time": "2020-11-11T23:32:24.895584Z",
     "start_time": "2020-11-11T23:32:24.890143Z"
    }
   },
   "outputs": [
    {
     "data": {
      "text/plain": [
       "{'translator_group': ['Service_Provider'],\n",
       " 'nodes_conflated': {'Disease': {'conflated_type': 'PhenotypicFeature',\n",
       "   'where': 'DisGeNET'},\n",
       "  'Gene': {'conflated_type': 'GeneProduct', 'where': 'DisGeNET'}},\n",
       " 'traced_provenance': [{'name': 'MyDisease.info API',\n",
       "   'type': 'service',\n",
       "   'version': '2020-10-26',\n",
       "   'method': 'ingest_consolidate'},\n",
       "  {'name': 'DisGeNET',\n",
       "   'type': 'knowledgebase',\n",
       "   'version': '2020-05-07',\n",
       "   'method_ref': {'url': 'https://www.disgenet.org/dbinfo#section11'},\n",
       "   'method': 'ingest'}],\n",
       " 'numeric_measures_present': True,\n",
       " 'categorical_measures_present': False,\n",
       " 'biolink_predicate': 'related_to',\n",
       " 'ingested_ontology_predicate': 'SIO:001403',\n",
       " 'ingested_ontology_label': 'SIO:is_associated_with',\n",
       " 'numeric_measures': [{'name': 'GDAscore',\n",
       "   'standard_label': 'association_score',\n",
       "   'range': '(0-1]',\n",
       "   'direction': {'more_confident': 'larger'},\n",
       "   'reference': {'url': 'https://www.disgenet.org/dbinfo#section31'}},\n",
       "  {'name': 'EI',\n",
       "   'standard_label': 'evidence_index',\n",
       "   'range': '(0-1]',\n",
       "   'direction': {'more_confident': 'larger'},\n",
       "   'reference': {'url': 'https://www.disgenet.org/dbinfo#section36'}},\n",
       "  {'name': 'DSI',\n",
       "   'standard_label': 'gene_specific_to_disease',\n",
       "   'range': '(0-1]',\n",
       "   'direction': {'more_specific': 'larger'},\n",
       "   'reference': {'url': 'https://www.disgenet.org/dbinfo#section33'}},\n",
       "  {'name': 'DPI',\n",
       "   'standard_label': 'gene_specific_to_disease_class',\n",
       "   'range': '(0-1]',\n",
       "   'direction': {'more_specific': 'smaller'},\n",
       "   'reference': {'url': 'https://www.disgenet.org/dbinfo#section34'}}],\n",
       " 'origin': {'name': 'CTD',\n",
       "  'type': 'knowledgebase',\n",
       "  'taxon_subset': {'NCBITaxon:9606': 'Homo_sapiens'}}}"
      ]
     },
     "execution_count": 35,
     "metadata": {},
     "output_type": "execute_result"
    }
   ],
   "source": [
    "metakg_dggd_CTDhuman"
   ]
  },
  {
   "cell_type": "markdown",
   "metadata": {
    "heading_collapsed": true
   },
   "source": [
    "#### By source: PSYGENET"
   ]
  },
  {
   "cell_type": "code",
   "execution_count": 36,
   "metadata": {
    "ExecuteTime": {
     "end_time": "2020-11-11T23:32:24.947854Z",
     "start_time": "2020-11-11T23:32:24.944405Z"
    },
    "hidden": true
   },
   "outputs": [],
   "source": [
    "metakg_dggd_PSYGENET = copy.deepcopy(basic_dggd_edge)\n",
    "\n",
    "## PROVENANCE\n",
    "## the MyDisease.info dict\n",
    "metakg_dggd_PSYGENET['traced_provenance'][0].update({\"method\":\"ingest_consolidate\"})\n",
    "## the DisGeNET dict\n",
    "metakg_dggd_PSYGENET['traced_provenance'][1].update({\"method\":\"ingest\"})\n",
    "\n",
    "## assign the origin\n",
    "metakg_dggd_PSYGENET['origin'] = \\\n",
    "    {\"name\":\"PsyGeNET\",  \n",
    "     \"type\":\"knowledgebase\"}  "
   ]
  },
  {
   "cell_type": "code",
   "execution_count": 37,
   "metadata": {
    "ExecuteTime": {
     "end_time": "2020-11-11T23:32:24.955403Z",
     "start_time": "2020-11-11T23:32:24.950011Z"
    },
    "hidden": true
   },
   "outputs": [
    {
     "data": {
      "text/plain": [
       "{'translator_group': ['Service_Provider'],\n",
       " 'nodes_conflated': {'Disease': {'conflated_type': 'PhenotypicFeature',\n",
       "   'where': 'DisGeNET'},\n",
       "  'Gene': {'conflated_type': 'GeneProduct', 'where': 'DisGeNET'}},\n",
       " 'traced_provenance': [{'name': 'MyDisease.info API',\n",
       "   'type': 'service',\n",
       "   'version': '2020-10-26',\n",
       "   'method': 'ingest_consolidate'},\n",
       "  {'name': 'DisGeNET',\n",
       "   'type': 'knowledgebase',\n",
       "   'version': '2020-05-07',\n",
       "   'method_ref': {'url': 'https://www.disgenet.org/dbinfo#section11'},\n",
       "   'method': 'ingest'}],\n",
       " 'numeric_measures_present': True,\n",
       " 'categorical_measures_present': False,\n",
       " 'biolink_predicate': 'related_to',\n",
       " 'ingested_ontology_predicate': 'SIO:001403',\n",
       " 'ingested_ontology_label': 'SIO:is_associated_with',\n",
       " 'numeric_measures': [{'name': 'GDAscore',\n",
       "   'standard_label': 'association_score',\n",
       "   'range': '(0-1]',\n",
       "   'direction': {'more_confident': 'larger'},\n",
       "   'reference': {'url': 'https://www.disgenet.org/dbinfo#section31'}},\n",
       "  {'name': 'EI',\n",
       "   'standard_label': 'evidence_index',\n",
       "   'range': '(0-1]',\n",
       "   'direction': {'more_confident': 'larger'},\n",
       "   'reference': {'url': 'https://www.disgenet.org/dbinfo#section36'}},\n",
       "  {'name': 'DSI',\n",
       "   'standard_label': 'gene_specific_to_disease',\n",
       "   'range': '(0-1]',\n",
       "   'direction': {'more_specific': 'larger'},\n",
       "   'reference': {'url': 'https://www.disgenet.org/dbinfo#section33'}},\n",
       "  {'name': 'DPI',\n",
       "   'standard_label': 'gene_specific_to_disease_class',\n",
       "   'range': '(0-1]',\n",
       "   'direction': {'more_specific': 'smaller'},\n",
       "   'reference': {'url': 'https://www.disgenet.org/dbinfo#section34'}}],\n",
       " 'origin': {'name': 'PsyGeNET', 'type': 'knowledgebase'}}"
      ]
     },
     "execution_count": 37,
     "metadata": {},
     "output_type": "execute_result"
    }
   ],
   "source": [
    "metakg_dggd_PSYGENET"
   ]
  },
  {
   "cell_type": "markdown",
   "metadata": {},
   "source": [
    "#### By source: ORPHANET"
   ]
  },
  {
   "cell_type": "code",
   "execution_count": 38,
   "metadata": {
    "ExecuteTime": {
     "end_time": "2020-11-11T23:32:25.010211Z",
     "start_time": "2020-11-11T23:32:25.006489Z"
    }
   },
   "outputs": [],
   "source": [
    "metakg_dggd_ORPHANET = copy.deepcopy(basic_dggd_edge)\n",
    "\n",
    "## PROVENANCE\n",
    "## the MyDisease.info dict\n",
    "metakg_dggd_ORPHANET['traced_provenance'][0].update({\"method\":\"ingest_consolidate\"})\n",
    "## the DisGeNET dict\n",
    "metakg_dggd_ORPHANET['traced_provenance'][1].update({\"method\":\"ingest\"})\n",
    "\n",
    "## assign the origin\n",
    "metakg_dggd_ORPHANET['origin'] = \\\n",
    "    {\"name\":\"Orphanet\",  \n",
    "     \"type\":\"knowledgebase\"}  "
   ]
  },
  {
   "cell_type": "code",
   "execution_count": 39,
   "metadata": {
    "ExecuteTime": {
     "end_time": "2020-11-11T23:32:25.018582Z",
     "start_time": "2020-11-11T23:32:25.012647Z"
    }
   },
   "outputs": [
    {
     "data": {
      "text/plain": [
       "{'translator_group': ['Service_Provider'],\n",
       " 'nodes_conflated': {'Disease': {'conflated_type': 'PhenotypicFeature',\n",
       "   'where': 'DisGeNET'},\n",
       "  'Gene': {'conflated_type': 'GeneProduct', 'where': 'DisGeNET'}},\n",
       " 'traced_provenance': [{'name': 'MyDisease.info API',\n",
       "   'type': 'service',\n",
       "   'version': '2020-10-26',\n",
       "   'method': 'ingest_consolidate'},\n",
       "  {'name': 'DisGeNET',\n",
       "   'type': 'knowledgebase',\n",
       "   'version': '2020-05-07',\n",
       "   'method_ref': {'url': 'https://www.disgenet.org/dbinfo#section11'},\n",
       "   'method': 'ingest'}],\n",
       " 'numeric_measures_present': True,\n",
       " 'categorical_measures_present': False,\n",
       " 'biolink_predicate': 'related_to',\n",
       " 'ingested_ontology_predicate': 'SIO:001403',\n",
       " 'ingested_ontology_label': 'SIO:is_associated_with',\n",
       " 'numeric_measures': [{'name': 'GDAscore',\n",
       "   'standard_label': 'association_score',\n",
       "   'range': '(0-1]',\n",
       "   'direction': {'more_confident': 'larger'},\n",
       "   'reference': {'url': 'https://www.disgenet.org/dbinfo#section31'}},\n",
       "  {'name': 'EI',\n",
       "   'standard_label': 'evidence_index',\n",
       "   'range': '(0-1]',\n",
       "   'direction': {'more_confident': 'larger'},\n",
       "   'reference': {'url': 'https://www.disgenet.org/dbinfo#section36'}},\n",
       "  {'name': 'DSI',\n",
       "   'standard_label': 'gene_specific_to_disease',\n",
       "   'range': '(0-1]',\n",
       "   'direction': {'more_specific': 'larger'},\n",
       "   'reference': {'url': 'https://www.disgenet.org/dbinfo#section33'}},\n",
       "  {'name': 'DPI',\n",
       "   'standard_label': 'gene_specific_to_disease_class',\n",
       "   'range': '(0-1]',\n",
       "   'direction': {'more_specific': 'smaller'},\n",
       "   'reference': {'url': 'https://www.disgenet.org/dbinfo#section34'}}],\n",
       " 'origin': {'name': 'Orphanet', 'type': 'knowledgebase'}}"
      ]
     },
     "execution_count": 39,
     "metadata": {},
     "output_type": "execute_result"
    }
   ],
   "source": [
    "metakg_dggd_ORPHANET"
   ]
  },
  {
   "cell_type": "markdown",
   "metadata": {},
   "source": [
    "#### Finding edges with common attributes"
   ]
  },
  {
   "cell_type": "markdown",
   "metadata": {},
   "source": [
    "Sets with same traced provenance (methods):\n",
    "* CLINGEN, Genomics england (GE), CTDhuman, PSYGENET, ORPHANET have \"ingest_consolidate\" on the MyDisease.info level and \"ingest\" on the DisGeNET level. \n",
    "* MGD, RGD, CTDmouse, CTDrat have \"ingest_consolidate\" on the MyDisease.info level and \"propagate_from_orthology\" on the DisGeNET level. \n",
    "* CLINVAR, GWASCAT, GWASDB have \"ingest_consolidate\" on the MyDisease.info level and \"propagate_from_gene_variant\" on the DisGeNET level. \n",
    "\n",
    "Edges with unique traced_provenance (methods): LHGDN, BEFREE, HPO, UNIPROT, CGI"
   ]
  },
  {
   "cell_type": "code",
   "execution_count": 40,
   "metadata": {
    "ExecuteTime": {
     "end_time": "2020-11-11T23:32:25.126276Z",
     "start_time": "2020-11-11T23:32:25.123222Z"
    }
   },
   "outputs": [],
   "source": [
    "set_of_dggd_edges = [metakg_dggd_LHGDN, metakg_dggd_BEFREE, metakg_dggd_HPO, metakg_dggd_UNIPROT, \n",
    "                     metakg_dggd_CGI, metakg_dggd_CLINVAR, metakg_dggd_GWASCAT, metakg_dggd_GWASDB, \n",
    "                     metakg_dggd_MGD, metakg_dggd_RGD, metakg_dggd_CTDmouse, metakg_dggd_CTDrat, \n",
    "                     metakg_dggd_CLINGEN, metakg_dggd_GE, metakg_dggd_CTDhuman, metakg_dggd_PSYGENET, \n",
    "                     metakg_dggd_ORPHANET]"
   ]
  },
  {
   "cell_type": "code",
   "execution_count": 41,
   "metadata": {
    "ExecuteTime": {
     "end_time": "2020-11-11T23:32:25.135308Z",
     "start_time": "2020-11-11T23:32:25.130512Z"
    }
   },
   "outputs": [
    {
     "data": {
      "text/plain": [
       "[('ClinVar', None), ('NHGRI_EBI_GWAS_CATALOG', None), ('GWASdb', None)]"
      ]
     },
     "execution_count": 41,
     "metadata": {},
     "output_type": "execute_result"
    }
   ],
   "source": [
    "[(i['origin']['name'], i['origin'].get('taxon_subset')) \\\n",
    " for i in set_of_dggd_edges \\\n",
    " if (i['traced_provenance'][0]['method'] == \"ingest_consolidate\") &\n",
    "    (i['traced_provenance'][1]['method'] == \"propagate_from_gene_variant\")]"
   ]
  },
  {
   "cell_type": "markdown",
   "metadata": {},
   "source": [
    "### Relationships with Variants and Diseases"
   ]
  },
  {
   "cell_type": "markdown",
   "metadata": {},
   "source": [
    "- Based on: https://www.disgenet.org/static/disgenet_ap1/files/downloads/all_variant_disease_pmid_associations.tsv.gz \n",
    "- Uses UMLS IDs (DisGeNET calls it the CUI) for diseases\n",
    "- Uses dbSNP / RS numbers (I think it only uses this but not sure)\n",
    "- there are 5 underlying sources. sources can have different methods. \n",
    "    * there isn't information given to trace further into the source (like Uniprot's provenance for the assertion)\n",
    "\n",
    "Below, there's the information shared between all edges with this combo of input/output-types:\n",
    "* ingested predicate choice: ultimately, DisGeNET doesn't include \"association type\" or a predicate in their data dump. The [homepage](https://www.disgenet.org/home/) describes their resource as \"collections of genes and variants associated to human diseases\". **This is why an \"associated with\" relation is used, rather than the more specific has_biomarker/biomarker_of relationships. \n",
    "    * the has_biomarker/biomarker_of tend to give a *causal* flavor and kind of map to \"causes or contributes to condition\" (that's an RO term). I'm not fully comfortable with making that assertion for all DisGeNET data. \n",
    "* the biolink and ingested predicate are symmetrical so it works with both Disease -> Variant and Variant -> Disease. "
   ]
  },
  {
   "cell_type": "code",
   "execution_count": 42,
   "metadata": {
    "ExecuteTime": {
     "end_time": "2020-11-11T23:32:25.248918Z",
     "start_time": "2020-11-11T23:32:25.242975Z"
    }
   },
   "outputs": [],
   "source": [
    "## stuff that is the same in all records \n",
    "basic_dvvd_edge = copy.deepcopy(metakg_top_level)\n",
    "\n",
    "## PREDICATE\n",
    "## actually too narrow, but there isn't the SIO term\n",
    "basic_dvvd_edge[\"biolink_predicate\"] = \"related_to\"  \n",
    "basic_dvvd_edge[\"ingested_ontology_predicate\"] = \"SIO:001403\"\n",
    "basic_dvvd_edge[\"ingested_ontology_label\"] = \"SIO:is_associated_with\"\n",
    "\n",
    "## PROVENANCE\n",
    "## all disease-variant combo edges have this second entry in the trace\n",
    "## the method for the second entry differs\n",
    "basic_dvvd_edge['traced_provenance'][0].update({\"method\":\"ingest_consolidate\"})\n",
    "basic_dvvd_edge['traced_provenance'].append(\n",
    "    {\"name\":\"DisGeNET\",\n",
    "     \"type\":\"knowledgebase\",    ## assign this\n",
    "     \"version\":\"2020-05-07\",     ## current as of 2020-10-27\n",
    "     \"method_ref\":{\"url\":\"https://www.disgenet.org/dbinfo#section12\"}    ## assign this\n",
    "    }  \n",
    ")\n",
    "\n",
    "## MEASURES: 4 \n",
    "basic_dvvd_edge['numeric_measures'] = \\\n",
    "[\n",
    "    {\"name\":\"VDAscore\",\n",
    "     \"standard_label\":\"association_score\",  ## name Translator may want to use\n",
    "     \"range\":\"(0-1]\", \n",
    "     \"direction\":{\"more_confident\":\"larger\"},\n",
    "     \"reference\":{\"url\":\"https://www.disgenet.org/dbinfo#section32\"}}, \n",
    "    {\"name\":\"EI\",\n",
    "     \"standard_label\":\"evidence_index\",  ## name Translator may want to use\n",
    "     \"range\":\"(0-1]\", \n",
    "     \"direction\":{\"more_confident\":\"larger\"},\n",
    "     \"reference\":{\"url\":\"https://www.disgenet.org/dbinfo#section36\"}}, \n",
    "    {\"name\":\"DSI\",\n",
    "     \"standard_label\":\"gene_specific_to_disease\",  ## name Translator may want to use\n",
    "     \"range\":\"(0-1]\",  ## ref claims min=0.25, but it should fluctuate based on db data\n",
    "     \"direction\":{\"more_specific\":\"larger\"},\n",
    "     \"reference\":{\"url\":\"https://www.disgenet.org/dbinfo#section33\"}}, \n",
    "    {\"name\":\"DPI\",\n",
    "     \"standard_label\":\"gene_specific_to_disease_class\",  ## name Translator may want to use\n",
    "     \"range\":\"(0-1]\",       ## ref claims min=1/29, but it would fluctuate if disease class changed\n",
    "     \"direction\":{\"more_specific\":\"smaller\"},\n",
    "     \"reference\":{\"url\":\"https://www.disgenet.org/dbinfo#section34\"}} \n",
    "]"
   ]
  },
  {
   "cell_type": "markdown",
   "metadata": {},
   "source": [
    "The provenance then differs by the value in the source column of the original datatype. This provenance is actually the same for Disease -> Variant and Variant -> Disease. "
   ]
  },
  {
   "cell_type": "markdown",
   "metadata": {},
   "source": [
    "#### By source:BEFREE"
   ]
  },
  {
   "cell_type": "code",
   "execution_count": 43,
   "metadata": {
    "ExecuteTime": {
     "end_time": "2020-11-11T23:32:25.371783Z",
     "start_time": "2020-11-11T23:32:25.368260Z"
    }
   },
   "outputs": [],
   "source": [
    "metakg_dvvd_BEFREE = copy.deepcopy(basic_dvvd_edge)\n",
    "\n",
    "## PROVENANCE\n",
    "## the DisGeNET dict\n",
    "metakg_dvvd_BEFREE['traced_provenance'][1].update({\"method\":\"NLP_BEFREE\"})\n",
    "\n",
    "## assign the origin\n",
    "metakg_dvvd_BEFREE['origin'] = \\\n",
    "    {\"name\":\"MEDLINE_abstracts\",  \n",
    "        \"type\":\"publications\",\n",
    "        \"version\":\"1970-01_to_2019-12\"} "
   ]
  },
  {
   "cell_type": "code",
   "execution_count": 44,
   "metadata": {
    "ExecuteTime": {
     "end_time": "2020-11-11T23:32:25.378988Z",
     "start_time": "2020-11-11T23:32:25.373823Z"
    }
   },
   "outputs": [
    {
     "data": {
      "text/plain": [
       "{'translator_group': ['Service_Provider'],\n",
       " 'nodes_conflated': {'Disease': {'conflated_type': 'PhenotypicFeature',\n",
       "   'where': 'DisGeNET'}},\n",
       " 'traced_provenance': [{'name': 'MyDisease.info API',\n",
       "   'type': 'service',\n",
       "   'version': '2020-10-26',\n",
       "   'method': 'ingest_consolidate'},\n",
       "  {'name': 'DisGeNET',\n",
       "   'type': 'knowledgebase',\n",
       "   'version': '2020-05-07',\n",
       "   'method_ref': {'url': 'https://www.disgenet.org/dbinfo#section12'},\n",
       "   'method': 'NLP_BEFREE'}],\n",
       " 'numeric_measures_present': True,\n",
       " 'categorical_measures_present': False,\n",
       " 'biolink_predicate': 'related_to',\n",
       " 'ingested_ontology_predicate': 'SIO:001403',\n",
       " 'ingested_ontology_label': 'SIO:is_associated_with',\n",
       " 'numeric_measures': [{'name': 'VDAscore',\n",
       "   'standard_label': 'association_score',\n",
       "   'range': '(0-1]',\n",
       "   'direction': {'more_confident': 'larger'},\n",
       "   'reference': {'url': 'https://www.disgenet.org/dbinfo#section32'}},\n",
       "  {'name': 'EI',\n",
       "   'standard_label': 'evidence_index',\n",
       "   'range': '(0-1]',\n",
       "   'direction': {'more_confident': 'larger'},\n",
       "   'reference': {'url': 'https://www.disgenet.org/dbinfo#section36'}},\n",
       "  {'name': 'DSI',\n",
       "   'standard_label': 'gene_specific_to_disease',\n",
       "   'range': '(0-1]',\n",
       "   'direction': {'more_specific': 'larger'},\n",
       "   'reference': {'url': 'https://www.disgenet.org/dbinfo#section33'}},\n",
       "  {'name': 'DPI',\n",
       "   'standard_label': 'gene_specific_to_disease_class',\n",
       "   'range': '(0-1]',\n",
       "   'direction': {'more_specific': 'smaller'},\n",
       "   'reference': {'url': 'https://www.disgenet.org/dbinfo#section34'}}],\n",
       " 'origin': {'name': 'MEDLINE_abstracts',\n",
       "  'type': 'publications',\n",
       "  'version': '1970-01_to_2019-12'}}"
      ]
     },
     "execution_count": 44,
     "metadata": {},
     "output_type": "execute_result"
    }
   ],
   "source": [
    "metakg_dvvd_BEFREE"
   ]
  },
  {
   "cell_type": "markdown",
   "metadata": {
    "heading_collapsed": true
   },
   "source": [
    "#### By source:CLINVAR"
   ]
  },
  {
   "cell_type": "code",
   "execution_count": 45,
   "metadata": {
    "ExecuteTime": {
     "end_time": "2020-11-11T23:32:25.441144Z",
     "start_time": "2020-11-11T23:32:25.437391Z"
    },
    "hidden": true
   },
   "outputs": [],
   "source": [
    "metakg_dvvd_CLINVAR = copy.deepcopy(basic_dvvd_edge)\n",
    "\n",
    "## PROVENANCE\n",
    "## the MyDisease.info dict\n",
    "metakg_dvvd_CLINVAR['traced_provenance'][0].update({\"method\":\"ingest_consolidate\"})\n",
    "## the DisGeNET dict\n",
    "metakg_dvvd_CLINVAR['traced_provenance'][1].update({\"method\":\"ingest\"})\n",
    "\n",
    "## assign the origin\n",
    "metakg_dvvd_CLINVAR['origin'] = \\\n",
    "    {\"name\":\"ClinVar\",  \n",
    "        \"type\":\"knowledgebase\"} "
   ]
  },
  {
   "cell_type": "code",
   "execution_count": 46,
   "metadata": {
    "ExecuteTime": {
     "end_time": "2020-11-11T23:32:25.448881Z",
     "start_time": "2020-11-11T23:32:25.443349Z"
    },
    "hidden": true
   },
   "outputs": [
    {
     "data": {
      "text/plain": [
       "{'translator_group': ['Service_Provider'],\n",
       " 'nodes_conflated': {'Disease': {'conflated_type': 'PhenotypicFeature',\n",
       "   'where': 'DisGeNET'}},\n",
       " 'traced_provenance': [{'name': 'MyDisease.info API',\n",
       "   'type': 'service',\n",
       "   'version': '2020-10-26',\n",
       "   'method': 'ingest_consolidate'},\n",
       "  {'name': 'DisGeNET',\n",
       "   'type': 'knowledgebase',\n",
       "   'version': '2020-05-07',\n",
       "   'method_ref': {'url': 'https://www.disgenet.org/dbinfo#section12'},\n",
       "   'method': 'ingest'}],\n",
       " 'numeric_measures_present': True,\n",
       " 'categorical_measures_present': False,\n",
       " 'biolink_predicate': 'related_to',\n",
       " 'ingested_ontology_predicate': 'SIO:001403',\n",
       " 'ingested_ontology_label': 'SIO:is_associated_with',\n",
       " 'numeric_measures': [{'name': 'VDAscore',\n",
       "   'standard_label': 'association_score',\n",
       "   'range': '(0-1]',\n",
       "   'direction': {'more_confident': 'larger'},\n",
       "   'reference': {'url': 'https://www.disgenet.org/dbinfo#section32'}},\n",
       "  {'name': 'EI',\n",
       "   'standard_label': 'evidence_index',\n",
       "   'range': '(0-1]',\n",
       "   'direction': {'more_confident': 'larger'},\n",
       "   'reference': {'url': 'https://www.disgenet.org/dbinfo#section36'}},\n",
       "  {'name': 'DSI',\n",
       "   'standard_label': 'gene_specific_to_disease',\n",
       "   'range': '(0-1]',\n",
       "   'direction': {'more_specific': 'larger'},\n",
       "   'reference': {'url': 'https://www.disgenet.org/dbinfo#section33'}},\n",
       "  {'name': 'DPI',\n",
       "   'standard_label': 'gene_specific_to_disease_class',\n",
       "   'range': '(0-1]',\n",
       "   'direction': {'more_specific': 'smaller'},\n",
       "   'reference': {'url': 'https://www.disgenet.org/dbinfo#section34'}}],\n",
       " 'origin': {'name': 'ClinVar', 'type': 'knowledgebase'}}"
      ]
     },
     "execution_count": 46,
     "metadata": {},
     "output_type": "execute_result"
    }
   ],
   "source": [
    "metakg_dvvd_CLINVAR"
   ]
  },
  {
   "cell_type": "markdown",
   "metadata": {
    "heading_collapsed": true
   },
   "source": [
    "#### By source:GWASCAT"
   ]
  },
  {
   "cell_type": "code",
   "execution_count": 47,
   "metadata": {
    "ExecuteTime": {
     "end_time": "2020-11-11T23:32:25.507507Z",
     "start_time": "2020-11-11T23:32:25.504164Z"
    },
    "hidden": true
   },
   "outputs": [],
   "source": [
    "metakg_dvvd_GWASCAT = copy.deepcopy(basic_dvvd_edge)\n",
    "\n",
    "## PROVENANCE\n",
    "## the DisGeNET dict\n",
    "metakg_dvvd_GWASCAT['traced_provenance'][1].update({\"method\":\"ingest\"})\n",
    "\n",
    "## assign the origin\n",
    "metakg_dvvd_GWASCAT['origin'] = \\\n",
    "    {\"name\":\"NHGRI_EBI_GWAS_CATALOG\",  \n",
    "        \"type\":\"knowledgebase\"} "
   ]
  },
  {
   "cell_type": "code",
   "execution_count": 48,
   "metadata": {
    "ExecuteTime": {
     "end_time": "2020-11-11T23:32:25.514956Z",
     "start_time": "2020-11-11T23:32:25.509860Z"
    },
    "hidden": true
   },
   "outputs": [
    {
     "data": {
      "text/plain": [
       "{'translator_group': ['Service_Provider'],\n",
       " 'nodes_conflated': {'Disease': {'conflated_type': 'PhenotypicFeature',\n",
       "   'where': 'DisGeNET'}},\n",
       " 'traced_provenance': [{'name': 'MyDisease.info API',\n",
       "   'type': 'service',\n",
       "   'version': '2020-10-26',\n",
       "   'method': 'ingest_consolidate'},\n",
       "  {'name': 'DisGeNET',\n",
       "   'type': 'knowledgebase',\n",
       "   'version': '2020-05-07',\n",
       "   'method_ref': {'url': 'https://www.disgenet.org/dbinfo#section12'},\n",
       "   'method': 'ingest'}],\n",
       " 'numeric_measures_present': True,\n",
       " 'categorical_measures_present': False,\n",
       " 'biolink_predicate': 'related_to',\n",
       " 'ingested_ontology_predicate': 'SIO:001403',\n",
       " 'ingested_ontology_label': 'SIO:is_associated_with',\n",
       " 'numeric_measures': [{'name': 'VDAscore',\n",
       "   'standard_label': 'association_score',\n",
       "   'range': '(0-1]',\n",
       "   'direction': {'more_confident': 'larger'},\n",
       "   'reference': {'url': 'https://www.disgenet.org/dbinfo#section32'}},\n",
       "  {'name': 'EI',\n",
       "   'standard_label': 'evidence_index',\n",
       "   'range': '(0-1]',\n",
       "   'direction': {'more_confident': 'larger'},\n",
       "   'reference': {'url': 'https://www.disgenet.org/dbinfo#section36'}},\n",
       "  {'name': 'DSI',\n",
       "   'standard_label': 'gene_specific_to_disease',\n",
       "   'range': '(0-1]',\n",
       "   'direction': {'more_specific': 'larger'},\n",
       "   'reference': {'url': 'https://www.disgenet.org/dbinfo#section33'}},\n",
       "  {'name': 'DPI',\n",
       "   'standard_label': 'gene_specific_to_disease_class',\n",
       "   'range': '(0-1]',\n",
       "   'direction': {'more_specific': 'smaller'},\n",
       "   'reference': {'url': 'https://www.disgenet.org/dbinfo#section34'}}],\n",
       " 'origin': {'name': 'NHGRI_EBI_GWAS_CATALOG', 'type': 'knowledgebase'}}"
      ]
     },
     "execution_count": 48,
     "metadata": {},
     "output_type": "execute_result"
    }
   ],
   "source": [
    "metakg_dvvd_GWASCAT"
   ]
  },
  {
   "cell_type": "markdown",
   "metadata": {},
   "source": [
    "#### By source:GWASDB"
   ]
  },
  {
   "cell_type": "code",
   "execution_count": 49,
   "metadata": {
    "ExecuteTime": {
     "end_time": "2020-11-11T23:32:25.576051Z",
     "start_time": "2020-11-11T23:32:25.572573Z"
    }
   },
   "outputs": [],
   "source": [
    "metakg_dvvd_GWASDB = copy.deepcopy(basic_dvvd_edge)\n",
    "\n",
    "## PROVENANCE\n",
    "## the DisGeNET dict\n",
    "metakg_dvvd_GWASDB['traced_provenance'][1].update({\"method\":\"ingest\"})\n",
    "\n",
    "## assign the origin\n",
    "metakg_dvvd_GWASDB['origin'] = \\\n",
    "    {\"name\":\"GWASdb\",  \n",
    "        \"type\":\"knowledgebase\"} "
   ]
  },
  {
   "cell_type": "code",
   "execution_count": 50,
   "metadata": {
    "ExecuteTime": {
     "end_time": "2020-11-11T23:32:25.584227Z",
     "start_time": "2020-11-11T23:32:25.579240Z"
    }
   },
   "outputs": [
    {
     "data": {
      "text/plain": [
       "{'translator_group': ['Service_Provider'],\n",
       " 'nodes_conflated': {'Disease': {'conflated_type': 'PhenotypicFeature',\n",
       "   'where': 'DisGeNET'}},\n",
       " 'traced_provenance': [{'name': 'MyDisease.info API',\n",
       "   'type': 'service',\n",
       "   'version': '2020-10-26',\n",
       "   'method': 'ingest_consolidate'},\n",
       "  {'name': 'DisGeNET',\n",
       "   'type': 'knowledgebase',\n",
       "   'version': '2020-05-07',\n",
       "   'method_ref': {'url': 'https://www.disgenet.org/dbinfo#section12'},\n",
       "   'method': 'ingest'}],\n",
       " 'numeric_measures_present': True,\n",
       " 'categorical_measures_present': False,\n",
       " 'biolink_predicate': 'related_to',\n",
       " 'ingested_ontology_predicate': 'SIO:001403',\n",
       " 'ingested_ontology_label': 'SIO:is_associated_with',\n",
       " 'numeric_measures': [{'name': 'VDAscore',\n",
       "   'standard_label': 'association_score',\n",
       "   'range': '(0-1]',\n",
       "   'direction': {'more_confident': 'larger'},\n",
       "   'reference': {'url': 'https://www.disgenet.org/dbinfo#section32'}},\n",
       "  {'name': 'EI',\n",
       "   'standard_label': 'evidence_index',\n",
       "   'range': '(0-1]',\n",
       "   'direction': {'more_confident': 'larger'},\n",
       "   'reference': {'url': 'https://www.disgenet.org/dbinfo#section36'}},\n",
       "  {'name': 'DSI',\n",
       "   'standard_label': 'gene_specific_to_disease',\n",
       "   'range': '(0-1]',\n",
       "   'direction': {'more_specific': 'larger'},\n",
       "   'reference': {'url': 'https://www.disgenet.org/dbinfo#section33'}},\n",
       "  {'name': 'DPI',\n",
       "   'standard_label': 'gene_specific_to_disease_class',\n",
       "   'range': '(0-1]',\n",
       "   'direction': {'more_specific': 'smaller'},\n",
       "   'reference': {'url': 'https://www.disgenet.org/dbinfo#section34'}}],\n",
       " 'origin': {'name': 'GWASdb', 'type': 'knowledgebase'}}"
      ]
     },
     "execution_count": 50,
     "metadata": {},
     "output_type": "execute_result"
    }
   ],
   "source": [
    "metakg_dvvd_GWASDB"
   ]
  },
  {
   "cell_type": "markdown",
   "metadata": {},
   "source": [
    "#### By source:UNIPROT"
   ]
  },
  {
   "cell_type": "code",
   "execution_count": 51,
   "metadata": {
    "ExecuteTime": {
     "end_time": "2020-11-11T23:32:25.647549Z",
     "start_time": "2020-11-11T23:32:25.644005Z"
    }
   },
   "outputs": [],
   "source": [
    "metakg_dvvd_UNIPROT = copy.deepcopy(basic_dvvd_edge)\n",
    "\n",
    "## PROVENANCE\n",
    "## the DisGeNET dict\n",
    "metakg_dvvd_UNIPROT['traced_provenance'][1].update({\"method\":\"ingest\"})\n",
    "\n",
    "## assign the origin\n",
    "metakg_dvvd_UNIPROT['origin'] = \\\n",
    "    {\"name\":\"UniProt\",  \n",
    "     \"type\":\"knowledgebase\",\n",
    "     \"taxon_subset\":{'NCBITaxon:9606':'Homo_sapiens'}}  ## used human file "
   ]
  },
  {
   "cell_type": "code",
   "execution_count": 52,
   "metadata": {
    "ExecuteTime": {
     "end_time": "2020-11-11T23:32:25.657008Z",
     "start_time": "2020-11-11T23:32:25.652194Z"
    }
   },
   "outputs": [
    {
     "data": {
      "text/plain": [
       "{'translator_group': ['Service_Provider'],\n",
       " 'nodes_conflated': {'Disease': {'conflated_type': 'PhenotypicFeature',\n",
       "   'where': 'DisGeNET'}},\n",
       " 'traced_provenance': [{'name': 'MyDisease.info API',\n",
       "   'type': 'service',\n",
       "   'version': '2020-10-26',\n",
       "   'method': 'ingest_consolidate'},\n",
       "  {'name': 'DisGeNET',\n",
       "   'type': 'knowledgebase',\n",
       "   'version': '2020-05-07',\n",
       "   'method_ref': {'url': 'https://www.disgenet.org/dbinfo#section12'},\n",
       "   'method': 'ingest'}],\n",
       " 'numeric_measures_present': True,\n",
       " 'categorical_measures_present': False,\n",
       " 'biolink_predicate': 'related_to',\n",
       " 'ingested_ontology_predicate': 'SIO:001403',\n",
       " 'ingested_ontology_label': 'SIO:is_associated_with',\n",
       " 'numeric_measures': [{'name': 'VDAscore',\n",
       "   'standard_label': 'association_score',\n",
       "   'range': '(0-1]',\n",
       "   'direction': {'more_confident': 'larger'},\n",
       "   'reference': {'url': 'https://www.disgenet.org/dbinfo#section32'}},\n",
       "  {'name': 'EI',\n",
       "   'standard_label': 'evidence_index',\n",
       "   'range': '(0-1]',\n",
       "   'direction': {'more_confident': 'larger'},\n",
       "   'reference': {'url': 'https://www.disgenet.org/dbinfo#section36'}},\n",
       "  {'name': 'DSI',\n",
       "   'standard_label': 'gene_specific_to_disease',\n",
       "   'range': '(0-1]',\n",
       "   'direction': {'more_specific': 'larger'},\n",
       "   'reference': {'url': 'https://www.disgenet.org/dbinfo#section33'}},\n",
       "  {'name': 'DPI',\n",
       "   'standard_label': 'gene_specific_to_disease_class',\n",
       "   'range': '(0-1]',\n",
       "   'direction': {'more_specific': 'smaller'},\n",
       "   'reference': {'url': 'https://www.disgenet.org/dbinfo#section34'}}],\n",
       " 'origin': {'name': 'UniProt',\n",
       "  'type': 'knowledgebase',\n",
       "  'taxon_subset': {'NCBITaxon:9606': 'Homo_sapiens'}}}"
      ]
     },
     "execution_count": 52,
     "metadata": {},
     "output_type": "execute_result"
    }
   ],
   "source": [
    "metakg_dvvd_UNIPROT"
   ]
  },
  {
   "cell_type": "markdown",
   "metadata": {},
   "source": [
    "#### Finding edges with common attributes"
   ]
  },
  {
   "cell_type": "markdown",
   "metadata": {},
   "source": [
    "Sets with same traced provenance (methods):\n",
    "* CLINVAR, GWASCAT, GWASDB, UNIPROT have \"ingest_consolidate\" on the MyDisease.info level and \"ingest\" on the DisGeNET level. "
   ]
  },
  {
   "cell_type": "code",
   "execution_count": 53,
   "metadata": {
    "ExecuteTime": {
     "end_time": "2020-11-11T23:32:25.783246Z",
     "start_time": "2020-11-11T23:32:25.780575Z"
    }
   },
   "outputs": [],
   "source": [
    "set_of_dvvd_edges = [metakg_dvvd_BEFREE, metakg_dvvd_CLINVAR, \n",
    "                     metakg_dvvd_GWASCAT, metakg_dvvd_GWASDB, \n",
    "                     metakg_dvvd_UNIPROT]"
   ]
  },
  {
   "cell_type": "code",
   "execution_count": 54,
   "metadata": {
    "ExecuteTime": {
     "end_time": "2020-11-11T23:32:25.791272Z",
     "start_time": "2020-11-11T23:32:25.786301Z"
    }
   },
   "outputs": [
    {
     "data": {
      "text/plain": [
       "[('ClinVar', None),\n",
       " ('NHGRI_EBI_GWAS_CATALOG', None),\n",
       " ('GWASdb', None),\n",
       " ('UniProt', {'NCBITaxon:9606': 'Homo_sapiens'})]"
      ]
     },
     "execution_count": 54,
     "metadata": {},
     "output_type": "execute_result"
    }
   ],
   "source": [
    "[(i['origin']['name'], i['origin'].get('taxon_subset')) \\\n",
    " for i in set_of_dvvd_edges \\\n",
    " if (i['traced_provenance'][0]['method'] == \"ingest_consolidate\") &\n",
    "    (i['traced_provenance'][1]['method'] == \"ingest\")]"
   ]
  },
  {
   "cell_type": "markdown",
   "metadata": {},
   "source": [
    "## response edge examples and website url construction"
   ]
  },
  {
   "cell_type": "markdown",
   "metadata": {},
   "source": [
    "### Note: the multiple-edge issue"
   ]
  },
  {
   "cell_type": "markdown",
   "metadata": {},
   "source": [
    "If the hint module maps multiple DisGeNET IDs (UMLS diseases, RS numbers for variants) to one node, multiple edges will be returned from one source and the information from the edges won't be the same (ex: publications list, EI, website). \n",
    "* **EI is the problem since it wouldn't be accurate to just average them. See how it's calculated: https://www.disgenet.org/dbinfo#section36**\n",
    "* the publication lists can be made into sets and merged\n",
    "* the website can be a list for the multiple object IDs \n",
    "\n",
    "<br>\n",
    "\n",
    "Ex: see https://www.disgenet.org/browser/0/1/0/C0346153::C1861906/geneid__11200-source__BEFREE/_b./\n",
    "\n",
    "it shows the two IDs for breast cancer linked to the same gene (CHEK2) with the same source. However, the EI and publications list differ.   \n",
    "\n",
    "- Breast cancer (MONDO:0016419) hint object mapped to two IDs C0346153 (familial breast cancer) and C1861906 (familial male breast cancer)\n",
    "- the query for Disease -> Gene in BTE looks like this: API 6.1: https://mydisease.info/v1/query?fields=disgenet.genes_related_to_disease.gene_id (POST -d q=C0346153,C1861906&scopes=mondo.xrefs.umls, disgenet.xrefs.umls)"
   ]
  },
  {
   "cell_type": "markdown",
   "metadata": {
    "heading_collapsed": true
   },
   "source": [
    "### Website url construction"
   ]
  },
  {
   "cell_type": "markdown",
   "metadata": {
    "hidden": true
   },
   "source": [
    "- I can put multiple IDs into the subject field (this url has Alzheimer's Disease and Achondroplasia): https://www.disgenet.org/browser/0/1/2/C0002395::C0001080/\n",
    "- **I can only put one ID into the object field** (this url is Alzheimer's Disease -> Diabetes Mellitus)\n",
    "https://www.disgenet.org/browser/0/1/2/C0002395/diseaseid__C0011849-source__ALL/_b./ \n",
    "\n",
    "BUT, the BTE Hint module sometimes maps to multiple UMLS IDs for a disease:\n",
    "- Breast cancer (MONDO:0016419) hint object mapped to two IDs: Malignant neoplasm of breast (C0006142) and familial breast cancer (C0346153)\n",
    "- the query for Disease -> Gene in BTE looks like this: API 2.1: https://mydisease.info/v1/query?fields=disgenet.genes_related_to_disease.gene_id (POST -d q=C0006142,C0346153&scopes=mondo.xrefs.umls, disgenet.xrefs.umls)\n",
    "\n",
    "so what if both the subject and object have multiple UMLS IDs in their Hint objects?\n",
    "\n",
    "Kevin and I thought about a list of websites, one for each object UMLS ID. "
   ]
  },
  {
   "cell_type": "code",
   "execution_count": 55,
   "metadata": {
    "ExecuteTime": {
     "end_time": "2020-11-11T23:32:26.107788Z",
     "start_time": "2020-11-11T23:32:26.103361Z"
    },
    "hidden": true
   },
   "outputs": [
    {
     "data": {
      "text/plain": [
       "['https://www.disgenet.org/browser/0/1/2/C0684249::C0002395/diseaseid__C0346153-source__ALL/_b./',\n",
       " 'https://www.disgenet.org/browser/0/1/2/C0684249::C0002395/diseaseid__C1861906-source__ALL/_b./']"
      ]
     },
     "execution_count": 55,
     "metadata": {},
     "output_type": "execute_result"
    }
   ],
   "source": [
    "## website url construction: no node would actually have the two subject IDs, this is just an example\n",
    "subject_ids = ['C0684249',  ## lung carcinoma\n",
    "               'C0002395']  ## alzheimer's disease\n",
    "object_ids = ['C0346153',  ## familial breast cancer \n",
    "              'C1861906']  ## familial male breast cancer\n",
    "\n",
    "## list comprehension + string formatting + list -> string\n",
    "website_urls = [\n",
    "    \"https://www.disgenet.org/browser/0/1/2/{0}/diseaseid__{1}-source__ALL/_b./\".format(\\\n",
    "        \"::\".join(subject_ids), obj) \\\n",
    "    for obj in object_ids\n",
    "]\n",
    "website_urls"
   ]
  },
  {
   "cell_type": "markdown",
   "metadata": {
    "heading_collapsed": true
   },
   "source": [
    "### Disease -> Disease"
   ]
  },
  {
   "cell_type": "markdown",
   "metadata": {
    "hidden": true
   },
   "source": [
    "Alzheimer's Disease -> Diabetes Mellitus: https://www.disgenet.org/browser/0/1/2/C0002395/diseaseid__C0011849-source__ALL/_b./ \n",
    "\n",
    "Edge-specific parts: \n",
    "* put specific website for provenance (put query disease into it)\n",
    "* put the specific measure values (new key:value into dictionaries)"
   ]
  },
  {
   "cell_type": "code",
   "execution_count": 56,
   "metadata": {
    "ExecuteTime": {
     "end_time": "2020-11-11T23:32:26.237832Z",
     "start_time": "2020-11-11T23:32:26.233289Z"
    },
    "hidden": true
   },
   "outputs": [
    {
     "data": {
      "text/plain": [
       "['https://www.disgenet.org/browser/0/1/2/C0002395/diseaseid__C0011849-source__ALL/_b./']"
      ]
     },
     "execution_count": 56,
     "metadata": {},
     "output_type": "execute_result"
    }
   ],
   "source": [
    "## first constructing the url\n",
    "dd_subject_ids = ['C0002395']  ## alzheimer's disease\n",
    "dd_object_ids = ['C0011849']  ## diabetes\n",
    "\n",
    "## constructing website field: list comprehension + string formatting + list -> string\n",
    "dd_website_urls = [\n",
    "    \"https://www.disgenet.org/browser/0/1/2/{0}/diseaseid__{1}-source__ALL/_b./\".format(\\\n",
    "        \"::\".join(dd_subject_ids), obj) \\\n",
    "    for obj in dd_object_ids\n",
    "]\n",
    "dd_website_urls"
   ]
  },
  {
   "cell_type": "code",
   "execution_count": 57,
   "metadata": {
    "ExecuteTime": {
     "end_time": "2020-11-11T23:32:26.244427Z",
     "start_time": "2020-11-11T23:32:26.240351Z"
    },
    "hidden": true
   },
   "outputs": [],
   "source": [
    "## the entry\n",
    "result_dd = copy.deepcopy(metakg_dd)\n",
    "\n",
    "result_dd['website'] = dd_website_urls\n",
    "result_dd['numeric_measures'][0]['value'] = 1418  ## this is Ngenes / num_shared_genes\n",
    "result_dd['numeric_measures'][1]['value'] = 0.30  ## this is jaccard_genes / jaccard_shared_genes\n",
    "result_dd['numeric_measures'][2]['value'] = 61  ## this is Nvariants / num_shared_variants\n",
    "result_dd['numeric_measures'][3]['value'] = 0.023  ## this is jaccard_variant / jaccard_shared_variants"
   ]
  },
  {
   "cell_type": "code",
   "execution_count": 58,
   "metadata": {
    "ExecuteTime": {
     "end_time": "2020-11-11T23:32:26.251218Z",
     "start_time": "2020-11-11T23:32:26.246368Z"
    },
    "hidden": true
   },
   "outputs": [
    {
     "data": {
      "text/plain": [
       "{'translator_group': ['Service_Provider'],\n",
       " 'nodes_conflated': {'Disease': {'conflated_type': 'PhenotypicFeature',\n",
       "   'where': 'DisGeNET'}},\n",
       " 'traced_provenance': [{'name': 'MyDisease.info API',\n",
       "   'type': 'service',\n",
       "   'version': '2020-10-26',\n",
       "   'method': 'ingest'}],\n",
       " 'numeric_measures_present': True,\n",
       " 'categorical_measures_present': False,\n",
       " 'biolink_predicate': 'similar_to',\n",
       " 'ingested_ontology_predicate': 'SIO:000736',\n",
       " 'ingested_ontology_label': 'SIO:is_comparable_to',\n",
       " 'origin': {'name': 'DisGeNET',\n",
       "  'type': 'knowledgebase',\n",
       "  'version': '2020-05-07',\n",
       "  'method': 'association_from_shared_annot'},\n",
       " 'numeric_measures': [{'name': 'Ngenes',\n",
       "   'standard_label': 'num_shared_genes',\n",
       "   'range': '[0-inf)',\n",
       "   'direction': {'more_confident': 'larger'},\n",
       "   'value': 1418},\n",
       "  {'name': 'jaccard_genes',\n",
       "   'standard_label': 'jaccard_shared_genes',\n",
       "   'range': '[0-1]',\n",
       "   'direction': {'more_confident': 'larger'},\n",
       "   'reference': {'url': 'https://www.disgenet.org/dbinfo#section13'},\n",
       "   'value': 0.3},\n",
       "  {'name': 'Nvariants',\n",
       "   'standard_label': 'num_shared_variants',\n",
       "   'range': '[0-inf)',\n",
       "   'direction': {'more_confident': 'larger'},\n",
       "   'value': 61},\n",
       "  {'name': 'jaccard_variant',\n",
       "   'standard_label': 'jaccard_shared_variants',\n",
       "   'range': '[0-1]',\n",
       "   'direction': {'more_confident': 'larger'},\n",
       "   'reference': {'url': 'https://www.disgenet.org/dbinfo#section13'},\n",
       "   'value': 0.023}],\n",
       " 'website': ['https://www.disgenet.org/browser/0/1/2/C0002395/diseaseid__C0011849-source__ALL/_b./']}"
      ]
     },
     "execution_count": 58,
     "metadata": {},
     "output_type": "execute_result"
    }
   ],
   "source": [
    "result_dd"
   ]
  },
  {
   "cell_type": "markdown",
   "metadata": {
    "heading_collapsed": true
   },
   "source": [
    "### Disease -> Gene"
   ]
  },
  {
   "cell_type": "markdown",
   "metadata": {
    "hidden": true
   },
   "source": [
    "Breast cancer (MONDO:0016419, C0346153 (familial breast cancer) and C1861906 (familial male breast cancer))     \n",
    "-> PALB2 (gene)    \n",
    "edge from CLINGEN: https://www.disgenet.org/browser/0/1/1/C0346153::C1861906/geneid__79728-source__CLINGEN/_b./\n",
    "\n",
    "(for some measures, have to go to other tab in browser:https://www.disgenet.org/browser/0/1/0/C0346153::C1861906/geneid__79728-source__CLINGEN/_b./)\n",
    "\n",
    "For the website url...\n",
    "* I'm not really worried about one gene having multiple NCBIGene IDs...so I'm leaving it as a 1 or more disease IDs -> 1 gene ID     \n",
    "* **to show all sources (multiple edge's provenance), put ALL into the source field of the url**. Ex: https://www.disgenet.org/browser/0/1/1/C0346153::C1861906/geneid__79728-source__ALL/_b./  \n",
    "\n",
    "Edge-specific parts: \n",
    "- put specific publications for provenance\n",
    "- put specific website for provenance (put query disease into it)\n",
    "- put the specific measure values (new key:value into dictionaries)"
   ]
  },
  {
   "cell_type": "code",
   "execution_count": 59,
   "metadata": {
    "ExecuteTime": {
     "end_time": "2020-11-11T23:32:26.380830Z",
     "start_time": "2020-11-11T23:32:26.376180Z"
    },
    "hidden": true
   },
   "outputs": [
    {
     "data": {
      "text/plain": [
       "['https://www.disgenet.org/browser/0/1/1/C0346153::C1861906/geneid__79728-source__CLINGEN/_b./']"
      ]
     },
     "execution_count": 59,
     "metadata": {},
     "output_type": "execute_result"
    }
   ],
   "source": [
    "## website url construction: this could be a real edge\n",
    "dg_subject_ids = ['C0346153',  ## familial breast cancer \n",
    "              'C1861906']  ## familial male breast cancer\n",
    "dg_object_ids = ['79728']  ## gene PALB2, can get from hint object's 'NCBIGene' value\n",
    "source = 'CLINGEN'   ## this is the parameter value DisGeNET uses for query/ provenance \n",
    "\n",
    "dg_website_urls = [\n",
    "    \"https://www.disgenet.org/browser/0/1/1/{0}/geneid__{1}-source__{2}/_b./\".format(\\\n",
    "        \"::\".join(dg_subject_ids), obj, source) \\\n",
    "    for obj in dg_object_ids\n",
    "]\n",
    "dg_website_urls"
   ]
  },
  {
   "cell_type": "code",
   "execution_count": 60,
   "metadata": {
    "ExecuteTime": {
     "end_time": "2020-11-11T23:32:26.389712Z",
     "start_time": "2020-11-11T23:32:26.385578Z"
    },
    "hidden": true
   },
   "outputs": [],
   "source": [
    "## the entry\n",
    "result_dg = copy.deepcopy(metakg_dggd_CLINGEN)\n",
    "result_dg['website'] = dg_website_urls\n",
    "result_dg['publications'] = {'pmid':['28319063', '25959805', '25225577',\n",
    "                                     '23657012', '24136930', '21285249',\n",
    "                                     '19383810', '17287723', '16793542']}\n",
    "\n",
    "result_dg['numeric_measures'][0]['value'] = 0.7  ## this is GDAscore / association_score\n",
    "result_dg['numeric_measures'][1]['value'] = 0.944  ## this is EI / evidence_index\n",
    "result_dg['numeric_measures'][2]['value'] = 0.485  ## this is DSI / gene_specific_to_disease\n",
    "result_dg['numeric_measures'][3]['value'] = 0.769  ## this is DPI / gene_specific_to_disease_class"
   ]
  },
  {
   "cell_type": "code",
   "execution_count": 61,
   "metadata": {
    "ExecuteTime": {
     "end_time": "2020-11-11T23:32:26.397538Z",
     "start_time": "2020-11-11T23:32:26.391542Z"
    },
    "hidden": true
   },
   "outputs": [
    {
     "data": {
      "text/plain": [
       "{'translator_group': ['Service_Provider'],\n",
       " 'nodes_conflated': {'Disease': {'conflated_type': 'PhenotypicFeature',\n",
       "   'where': 'DisGeNET'},\n",
       "  'Gene': {'conflated_type': 'GeneProduct', 'where': 'DisGeNET'}},\n",
       " 'traced_provenance': [{'name': 'MyDisease.info API',\n",
       "   'type': 'service',\n",
       "   'version': '2020-10-26',\n",
       "   'method': 'ingest_consolidate'},\n",
       "  {'name': 'DisGeNET',\n",
       "   'type': 'knowledgebase',\n",
       "   'version': '2020-05-07',\n",
       "   'method_ref': {'url': 'https://www.disgenet.org/dbinfo#section11'},\n",
       "   'method': 'ingest'}],\n",
       " 'numeric_measures_present': True,\n",
       " 'categorical_measures_present': False,\n",
       " 'biolink_predicate': 'related_to',\n",
       " 'ingested_ontology_predicate': 'SIO:001403',\n",
       " 'ingested_ontology_label': 'SIO:is_associated_with',\n",
       " 'numeric_measures': [{'name': 'GDAscore',\n",
       "   'standard_label': 'association_score',\n",
       "   'range': '(0-1]',\n",
       "   'direction': {'more_confident': 'larger'},\n",
       "   'reference': {'url': 'https://www.disgenet.org/dbinfo#section31'},\n",
       "   'value': 0.7},\n",
       "  {'name': 'EI',\n",
       "   'standard_label': 'evidence_index',\n",
       "   'range': '(0-1]',\n",
       "   'direction': {'more_confident': 'larger'},\n",
       "   'reference': {'url': 'https://www.disgenet.org/dbinfo#section36'},\n",
       "   'value': 0.944},\n",
       "  {'name': 'DSI',\n",
       "   'standard_label': 'gene_specific_to_disease',\n",
       "   'range': '(0-1]',\n",
       "   'direction': {'more_specific': 'larger'},\n",
       "   'reference': {'url': 'https://www.disgenet.org/dbinfo#section33'},\n",
       "   'value': 0.485},\n",
       "  {'name': 'DPI',\n",
       "   'standard_label': 'gene_specific_to_disease_class',\n",
       "   'range': '(0-1]',\n",
       "   'direction': {'more_specific': 'smaller'},\n",
       "   'reference': {'url': 'https://www.disgenet.org/dbinfo#section34'},\n",
       "   'value': 0.769}],\n",
       " 'origin': {'name': 'ClinGen', 'type': 'knowledgebase'},\n",
       " 'website': ['https://www.disgenet.org/browser/0/1/1/C0346153::C1861906/geneid__79728-source__CLINGEN/_b./'],\n",
       " 'publications': {'pmid': ['28319063',\n",
       "   '25959805',\n",
       "   '25225577',\n",
       "   '23657012',\n",
       "   '24136930',\n",
       "   '21285249',\n",
       "   '19383810',\n",
       "   '17287723',\n",
       "   '16793542']}}"
      ]
     },
     "execution_count": 61,
     "metadata": {},
     "output_type": "execute_result"
    }
   ],
   "source": [
    "result_dg"
   ]
  },
  {
   "cell_type": "markdown",
   "metadata": {
    "heading_collapsed": true
   },
   "source": [
    "### Gene -> Disease"
   ]
  },
  {
   "cell_type": "markdown",
   "metadata": {
    "hidden": true
   },
   "source": [
    "APP (gene) -> Alzheimer's Disease (C0002395)     \n",
    "edge from RGD: https://www.disgenet.org/browser/1/1/1/351/diseaseid__C0002395-source__RGD/_b./\n",
    "\n",
    "(for some measures, have to click on magnifying glass next to gene name)\n",
    "\n",
    "For the website url...\n",
    "* **to show all sources (multiple edge's provenance), put ALL into the source field of the url**. Ex: https://www.disgenet.org/browser/0/1/1/C0346153::C1861906/geneid__79728-source__ALL/_b./  \n",
    "\n",
    "Edge-specific parts: \n",
    "- put specific publications for provenance\n",
    "- put specific website for provenance (put query disease into it)\n",
    "- put the specific measure values (new key:value into dictionaries)"
   ]
  },
  {
   "cell_type": "code",
   "execution_count": 62,
   "metadata": {
    "ExecuteTime": {
     "end_time": "2020-11-11T23:32:26.527758Z",
     "start_time": "2020-11-11T23:32:26.522860Z"
    },
    "hidden": true
   },
   "outputs": [
    {
     "data": {
      "text/plain": [
       "['https://www.disgenet.org/browser/1/1/1/351/diseaseid__C0002395-source__RGD/_b./']"
      ]
     },
     "execution_count": 62,
     "metadata": {},
     "output_type": "execute_result"
    }
   ],
   "source": [
    "## website url construction: this could be a real edge\n",
    "gd_subject_ids = ['351']  ## gene APP, can get from hint object's 'NCBIGene' value\n",
    "gd_object_ids = ['C0002395']  ## Alzheimer's Disease\n",
    "source = 'RGD'   ## this is the parameter value DisGeNET uses for query/ provenance \n",
    "\n",
    "gd_website_urls = [\n",
    "    \"https://www.disgenet.org/browser/1/1/1/{0}/diseaseid__{1}-source__{2}/_b./\".format(\\\n",
    "        \"::\".join(gd_subject_ids), obj, source) \\\n",
    "    for obj in gd_object_ids\n",
    "]\n",
    "gd_website_urls"
   ]
  },
  {
   "cell_type": "code",
   "execution_count": 63,
   "metadata": {
    "ExecuteTime": {
     "end_time": "2020-11-11T23:32:26.545027Z",
     "start_time": "2020-11-11T23:32:26.530604Z"
    },
    "hidden": true
   },
   "outputs": [],
   "source": [
    "## the entry\n",
    "result_gd = copy.deepcopy(metakg_dggd_RGD)\n",
    "result_gd['website'] = gd_website_urls\n",
    "result_gd['publications'] = {'pmid':['30066400', '29174383', '29568075']}\n",
    "\n",
    "result_gd['numeric_measures'][0]['value'] = 0.9  ## this is GDAscore / association_score\n",
    "result_gd['numeric_measures'][1]['value'] = 0.981  ## this is EI / evidence_index\n",
    "result_gd['numeric_measures'][2]['value'] = 0.422  ## this is DSI / gene_specific_to_disease\n",
    "result_gd['numeric_measures'][3]['value'] = 0.846  ## this is DPI / gene_specific_to_disease_class"
   ]
  },
  {
   "cell_type": "code",
   "execution_count": 64,
   "metadata": {
    "ExecuteTime": {
     "end_time": "2020-11-11T23:32:26.552319Z",
     "start_time": "2020-11-11T23:32:26.547067Z"
    },
    "hidden": true
   },
   "outputs": [
    {
     "data": {
      "text/plain": [
       "[{'name': 'GDAscore',\n",
       "  'standard_label': 'association_score',\n",
       "  'range': '(0-1]',\n",
       "  'direction': {'more_confident': 'larger'},\n",
       "  'reference': {'url': 'https://www.disgenet.org/dbinfo#section31'},\n",
       "  'value': 0.9},\n",
       " {'name': 'EI',\n",
       "  'standard_label': 'evidence_index',\n",
       "  'range': '(0-1]',\n",
       "  'direction': {'more_confident': 'larger'},\n",
       "  'reference': {'url': 'https://www.disgenet.org/dbinfo#section36'},\n",
       "  'value': 0.981},\n",
       " {'name': 'DSI',\n",
       "  'standard_label': 'gene_specific_to_disease',\n",
       "  'range': '(0-1]',\n",
       "  'direction': {'more_specific': 'larger'},\n",
       "  'reference': {'url': 'https://www.disgenet.org/dbinfo#section33'},\n",
       "  'value': 0.422},\n",
       " {'name': 'DPI',\n",
       "  'standard_label': 'gene_specific_to_disease_class',\n",
       "  'range': '(0-1]',\n",
       "  'direction': {'more_specific': 'smaller'},\n",
       "  'reference': {'url': 'https://www.disgenet.org/dbinfo#section34'},\n",
       "  'value': 0.846}]"
      ]
     },
     "execution_count": 64,
     "metadata": {},
     "output_type": "execute_result"
    }
   ],
   "source": [
    "result_gd['numeric_measures']"
   ]
  },
  {
   "cell_type": "markdown",
   "metadata": {
    "heading_collapsed": true
   },
   "source": [
    "### Disease -> Variant "
   ]
  },
  {
   "cell_type": "markdown",
   "metadata": {
    "hidden": true
   },
   "source": [
    "Alzheimer's Disease -> rs75932628 from GWASCAT: https://www.disgenet.org/browser/0/1/5/C0002395/snpid__rs75932628-source__GWASCAT/_b./ \n",
    "\n",
    "(for some measures, have to go to other tab in browser:https://www.disgenet.org/browser/0/1/4/C0002395/snpid__rs75932628-source__GWASCAT/_b./)\n",
    "\n",
    "\n",
    "Edge-specific parts: \n",
    "- put specific publications info\n",
    "- put specific website for provenance (put query disease into it)\n",
    "- put the specific measure values (new key:value into dictionaries)"
   ]
  },
  {
   "cell_type": "code",
   "execution_count": 65,
   "metadata": {
    "ExecuteTime": {
     "end_time": "2020-11-11T23:32:26.686035Z",
     "start_time": "2020-11-11T23:32:26.681280Z"
    },
    "hidden": true
   },
   "outputs": [
    {
     "data": {
      "text/plain": [
       "['https://www.disgenet.org/browser/0/1/5/C0002395/snpid__rs75932628-source__GWASCAT/_b./']"
      ]
     },
     "execution_count": 65,
     "metadata": {},
     "output_type": "execute_result"
    }
   ],
   "source": [
    "## website url construction: this could be a real edge\n",
    "dv_subject_ids = ['C0002395']  ## Alzheimer's Disease\n",
    "dv_object_ids = ['rs75932628']  ## variant, can get from hint object's 'DBSNP' value\n",
    "source = 'GWASCAT'   ## this is the parameter value DisGeNET uses for query/ provenance \n",
    "\n",
    "dv_website_urls = [\n",
    "    \"https://www.disgenet.org/browser/0/1/5/{0}/snpid__{1}-source__{2}/_b./\".format(\\\n",
    "        \"::\".join(dv_subject_ids), obj, source) \\\n",
    "    for obj in dv_object_ids\n",
    "]\n",
    "dv_website_urls"
   ]
  },
  {
   "cell_type": "code",
   "execution_count": 66,
   "metadata": {
    "ExecuteTime": {
     "end_time": "2020-11-11T23:32:26.692339Z",
     "start_time": "2020-11-11T23:32:26.688349Z"
    },
    "hidden": true
   },
   "outputs": [],
   "source": [
    "## the entry\n",
    "result_dv = copy.deepcopy(metakg_dvvd_GWASCAT)\n",
    "result_dv['website'] = dv_website_urls\n",
    "result_dv['publications'] = {'pmid':['23150908']}\n",
    "\n",
    "\n",
    "result_dv['numeric_measures'][0]['value'] = 0.9  ## this is VDAscore / association_score\n",
    "result_dv['numeric_measures'][1]['value'] = 0.923  ## this is EI / evidence_index\n",
    "result_dv['numeric_measures'][2]['value'] = 0.662  ## this is DSI / variant_specific_to_disease\n",
    "result_dv['numeric_measures'][3]['value'] = 0.480  ## this is DPI / variant_specific_to_disease_class"
   ]
  },
  {
   "cell_type": "code",
   "execution_count": 67,
   "metadata": {
    "ExecuteTime": {
     "end_time": "2020-11-11T23:32:26.698978Z",
     "start_time": "2020-11-11T23:32:26.694276Z"
    },
    "hidden": true
   },
   "outputs": [
    {
     "data": {
      "text/plain": [
       "[{'name': 'VDAscore',\n",
       "  'standard_label': 'association_score',\n",
       "  'range': '(0-1]',\n",
       "  'direction': {'more_confident': 'larger'},\n",
       "  'reference': {'url': 'https://www.disgenet.org/dbinfo#section32'},\n",
       "  'value': 0.9},\n",
       " {'name': 'EI',\n",
       "  'standard_label': 'evidence_index',\n",
       "  'range': '(0-1]',\n",
       "  'direction': {'more_confident': 'larger'},\n",
       "  'reference': {'url': 'https://www.disgenet.org/dbinfo#section36'},\n",
       "  'value': 0.923},\n",
       " {'name': 'DSI',\n",
       "  'standard_label': 'gene_specific_to_disease',\n",
       "  'range': '(0-1]',\n",
       "  'direction': {'more_specific': 'larger'},\n",
       "  'reference': {'url': 'https://www.disgenet.org/dbinfo#section33'},\n",
       "  'value': 0.662},\n",
       " {'name': 'DPI',\n",
       "  'standard_label': 'gene_specific_to_disease_class',\n",
       "  'range': '(0-1]',\n",
       "  'direction': {'more_specific': 'smaller'},\n",
       "  'reference': {'url': 'https://www.disgenet.org/dbinfo#section34'},\n",
       "  'value': 0.48}]"
      ]
     },
     "execution_count": 67,
     "metadata": {},
     "output_type": "execute_result"
    }
   ],
   "source": [
    "result_dv['numeric_measures']"
   ]
  },
  {
   "cell_type": "markdown",
   "metadata": {},
   "source": [
    "### Variant -> Disease"
   ]
  },
  {
   "cell_type": "markdown",
   "metadata": {},
   "source": [
    "rs75932628 -> Alzheimer's Disease from GWASDB: https://www.disgenet.org/browser/2/1/1/rs75932628/0/25/diseaseid__C0002395-source__GWASDB/_b./\n",
    "\n",
    "(for some measures, have to go to other tab in browser:https://www.disgenet.org/browser/2/1/0/rs75932628/diseaseid__C0002395-source__GWASDB/_b./)\n",
    "\n",
    "\n",
    "Edge-specific parts: \n",
    "- put specific publications info\n",
    "- put specific website for provenance (put query disease into it)\n",
    "- put the specific measure values (new key:value into dictionaries)"
   ]
  },
  {
   "cell_type": "code",
   "execution_count": 68,
   "metadata": {
    "ExecuteTime": {
     "end_time": "2020-11-11T23:32:26.839033Z",
     "start_time": "2020-11-11T23:32:26.834510Z"
    }
   },
   "outputs": [
    {
     "data": {
      "text/plain": [
       "['https://www.disgenet.org/browser/2/1/1/rs75932628/snpid__C0002395-source__GWASDB/_b./']"
      ]
     },
     "execution_count": 68,
     "metadata": {},
     "output_type": "execute_result"
    }
   ],
   "source": [
    "## website url construction: this could be a real edge\n",
    "vd_subject_ids = ['rs75932628']  ## variant, can get from hint object's 'DBSNP' value\n",
    "vd_object_ids = ['C0002395']  ## Alzheimer's Disease\n",
    "source = 'GWASDB'   ## this is the parameter value DisGeNET uses for query/ provenance \n",
    "\n",
    "vd_website_urls = [\n",
    "    \"https://www.disgenet.org/browser/2/1/1/{0}/snpid__{1}-source__{2}/_b./\".format(\\\n",
    "        \"::\".join(vd_subject_ids), obj, source) \\\n",
    "    for obj in vd_object_ids\n",
    "]\n",
    "vd_website_urls"
   ]
  },
  {
   "cell_type": "code",
   "execution_count": 69,
   "metadata": {
    "ExecuteTime": {
     "end_time": "2020-11-11T23:32:26.845550Z",
     "start_time": "2020-11-11T23:32:26.841492Z"
    }
   },
   "outputs": [],
   "source": [
    "## the entry\n",
    "result_vd = copy.deepcopy(metakg_dvvd_GWASDB)\n",
    "\n",
    "\n",
    "result_vd['website'] = vd_website_urls\n",
    "result_vd['publications'] = {'pmid':['23150908']}\n",
    "\n",
    "\n",
    "result_vd['numeric_measures'][0]['value'] = 0.9  ## this is VDAscore / association_score\n",
    "result_vd['numeric_measures'][1]['value'] = 0.923  ## this is EI / evidence_index\n",
    "result_vd['numeric_measures'][2]['value'] = 0.662  ## this is DSI / variant_specific_to_disease\n",
    "result_vd['numeric_measures'][3]['value'] = 0.480  ## this is DPI / variant_specific_to_disease_class"
   ]
  },
  {
   "cell_type": "code",
   "execution_count": 70,
   "metadata": {
    "ExecuteTime": {
     "end_time": "2020-11-11T23:32:26.851613Z",
     "start_time": "2020-11-11T23:32:26.847647Z"
    }
   },
   "outputs": [
    {
     "data": {
      "text/plain": [
       "{'name': 'GWASdb', 'type': 'knowledgebase'}"
      ]
     },
     "execution_count": 70,
     "metadata": {},
     "output_type": "execute_result"
    }
   ],
   "source": [
    "result_vd['origin']"
   ]
  },
  {
   "cell_type": "code",
   "execution_count": null,
   "metadata": {},
   "outputs": [],
   "source": []
  }
 ],
 "metadata": {
  "kernelspec": {
   "display_name": "Python 3",
   "language": "python",
   "name": "python3"
  },
  "language_info": {
   "codemirror_mode": {
    "name": "ipython",
    "version": 3
   },
   "file_extension": ".py",
   "mimetype": "text/x-python",
   "name": "python",
   "nbconvert_exporter": "python",
   "pygments_lexer": "ipython3",
   "version": "3.7.9"
  },
  "toc": {
   "base_numbering": 1,
   "nav_menu": {},
   "number_sections": true,
   "sideBar": true,
   "skip_h1_title": true,
   "title_cell": "Table of Contents",
   "title_sidebar": "Contents",
   "toc_cell": false,
   "toc_position": {
    "height": "calc(100% - 180px)",
    "left": "10px",
    "top": "150px",
    "width": "261px"
   },
   "toc_section_display": true,
   "toc_window_display": true
  },
  "varInspector": {
   "cols": {
    "lenName": 16,
    "lenType": 16,
    "lenVar": 40
   },
   "kernels_config": {
    "python": {
     "delete_cmd_postfix": "",
     "delete_cmd_prefix": "del ",
     "library": "var_list.py",
     "varRefreshCmd": "print(var_dic_list())"
    },
    "r": {
     "delete_cmd_postfix": ") ",
     "delete_cmd_prefix": "rm(",
     "library": "var_list.r",
     "varRefreshCmd": "cat(var_dic_list()) "
    }
   },
   "types_to_exclude": [
    "module",
    "function",
    "builtin_function_or_method",
    "instance",
    "_Feature"
   ],
   "window_display": false
  }
 },
 "nbformat": 4,
 "nbformat_minor": 4
}
