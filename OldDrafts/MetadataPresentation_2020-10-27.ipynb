{
 "cells": [
  {
   "cell_type": "markdown",
   "metadata": {},
   "source": [
    "# Metadata Presentation"
   ]
  },
  {
   "cell_type": "markdown",
   "metadata": {},
   "source": [
    "The goal: present the work done so far to...\n",
    "* explore the current metadata situation for ARA -> KP association retrieval \n",
    "* develop a structure with augmented metadata to support \"reasoning\" and user needs:\n",
    "    * whether two associations stem from the same \"source\": involves tracing the information beyond what APIs something is from\n",
    "    * whether numeric/categorical measures of the association are present and info on them (range, direction, reference)\n",
    "    * websites/publications to view the association and more info\n",
    "* write examples of metaKG edges and response information augmented with the example above, and code showing how the structure can be used   \n",
    "\n",
    "<br>\n",
    "\n",
    "This notebook uses the MyDisease.info DisGeNET Disease -> Gene associations as the main example. "
   ]
  },
  {
   "cell_type": "code",
   "execution_count": 8,
   "metadata": {
    "ExecuteTime": {
     "end_time": "2020-10-27T01:39:12.171826Z",
     "start_time": "2020-10-27T01:39:12.168995Z"
    }
   },
   "outputs": [],
   "source": [
    "## dependencies\n",
    "\n",
    "## CX: allows multiple lines of code to print from one code block\n",
    "from IPython.core.interactiveshell import InteractiveShell\n",
    "InteractiveShell.ast_node_interactivity = \"all\"\n",
    "\n",
    "import copy  ## for deepcopy\n",
    "\n",
    "from biothings_explorer.smartapi_kg import MetaKG"
   ]
  },
  {
   "cell_type": "markdown",
   "metadata": {},
   "source": [
    "## Current metadata situation"
   ]
  },
  {
   "cell_type": "markdown",
   "metadata": {},
   "source": [
    "First, we'll look at the current metadata available to a person using BTE, the SmartAPI Registry/metaKG, and the Translator API responses. \n",
    "\n",
    "Below, there's the MyDisease.info DisGeNET Disease -> Gene associations in the metaKG edge accessed via Python. Note that the entry currently isn't fully updated to match Kevin's 10/26 update of the underlying data/API. \n",
    "\n",
    "I notice:\n",
    "* It has great info on how to query the API (request setup, support batch)\n",
    "* **But there's information missing that could be helpful**:\n",
    "    * is this predicate a biolink predicate, or something from an ontology? (PREDICATE-RELATED)\n",
    "    * what is mydisease.info API and what did it do with the knowledge? (PROVENANCE-RELATED)\n",
    "    * what is disgenet and what did it do with the knowledge? did it get its knowledge from somewhere else? (PROVENANCE-RELATED)"
   ]
  },
  {
   "cell_type": "code",
   "execution_count": 9,
   "metadata": {
    "ExecuteTime": {
     "end_time": "2020-10-27T01:39:16.484361Z",
     "start_time": "2020-10-27T01:39:15.405464Z"
    }
   },
   "outputs": [
    {
     "data": {
      "text/plain": [
       "{'inputSeparator': ',',\n",
       " 'inputs': [{'id': 'UMLS', 'semantic': 'Disease'}],\n",
       " 'outputs': [{'id': 'NCBIGene', 'semantic': 'Gene'}],\n",
       " 'parameters': {'fields': 'disgenet.genes_related_to_disease.gene_id'},\n",
       " 'predicate': 'related_to',\n",
       " 'requestBody': {'body': {'q': '{inputs[0]}',\n",
       "   'scopes': 'mondo.xrefs.umls, disgenet.xrefs.umls'},\n",
       "  'header': 'application/x-www-form-urlencoded'},\n",
       " 'response_mapping': {'related_to': {'NCBIGene': 'disgenet.genes_related_to_disease.gene_id'}},\n",
       " 'source': 'disgenet',\n",
       " 'supportBatch': True,\n",
       " 'query_operation': {'server': 'http://mydisease.info/v1',\n",
       "  'params': {'fields': 'disgenet.genes_related_to_disease.gene_id'},\n",
       "  'request_body': {'body': {'q': '{inputs[0]}',\n",
       "    'scopes': 'mondo.xrefs.umls, disgenet.xrefs.umls'},\n",
       "   'header': 'application/x-www-form-urlencoded'},\n",
       "  'path': '/query',\n",
       "  'path_params': [],\n",
       "  'method': 'post',\n",
       "  'tags': ['disease', 'annotation', 'query', 'translator', 'biothings'],\n",
       "  'supportBatch': True,\n",
       "  'inputSeparator': ','},\n",
       " 'association': {'input_id': 'UMLS',\n",
       "  'input_type': 'Disease',\n",
       "  'output_id': 'NCBIGene',\n",
       "  'output_type': 'Gene',\n",
       "  'predicate': 'related_to',\n",
       "  'source': 'disgenet',\n",
       "  'api_name': 'mydisease.info API',\n",
       "  'smartapi': {'id': '671b45c0301c8624abbd26ae78449ca2',\n",
       "   'meta': {'ETag': '19a461466ee1ae1dbb8aca6a8af8036efe574ea8d3e5eb470e6ef3a585aeed67',\n",
       "    'github_username': 'kevinxin90',\n",
       "    'timestamp': '2020-10-16T17:22:39.512638',\n",
       "    'uptime_status': 'good',\n",
       "    'uptime_ts': '2020-10-27T00:10:12.469674',\n",
       "    'url': 'https://raw.githubusercontent.com/NCATS-Tangerine/translator-api-registry/master/mydisease.info/smartapi.yaml'}}},\n",
       " 'id': '8c06fa45a09b121ffcc665e474b62edad9e521d07ae59f89669d165e'}"
      ]
     },
     "execution_count": 9,
     "metadata": {},
     "output_type": "execute_result"
    }
   ],
   "source": [
    "kg = MetaKG()\n",
    "kg.constructMetaKG(source=\"remote\")\n",
    "current_metaKG = kg.filter({\"api_name\": \"mydisease.info API\",\n",
    "           'source': 'disgenet',\n",
    "           \"input_type\": \"Disease\", \n",
    "           \"output_type\": \"Gene\"})[0]\n",
    "current_metaKG"
   ]
  },
  {
   "cell_type": "markdown",
   "metadata": {},
   "source": [
    "So...what about the information that is returned in a response? See http://mydisease.info/v1/disease/MONDO:0016419?fields=disgenet and the copy of the first genes_related_to_disease entry in the JSON/dictionary below. \n",
    "\n",
    "Note: the response is parsed automatically with the code in BTE (x-bte extensions?)     \n",
    "MONDO:0016419 is \"hereditary breast carcinoma\""
   ]
  },
  {
   "cell_type": "code",
   "execution_count": 10,
   "metadata": {
    "ExecuteTime": {
     "end_time": "2020-10-27T01:39:22.371788Z",
     "start_time": "2020-10-27T01:39:22.367483Z"
    }
   },
   "outputs": [],
   "source": [
    "## formatted to be easier to read\n",
    "current_response_ex = \\\n",
    "{\n",
    "    \"DPI\": 0.846,\n",
    "    \"DSI\": 0.536,\n",
    "    \"EI\": 0.917,\n",
    "    \"YearFinal\": 2019,\n",
    "    \"YearInitial\": 1998,\n",
    "    \"gene_id\": 9,\n",
    "    \"gene_name\": \"NAT1\",\n",
    "    \"pubmed\": [9610785,10090301,10698485,12835615,12860276,\n",
    "               14517345,15084249,15090724,15226672,16049806,\n",
    "               17010218,17973251,18288399,22333393,24467436,\n",
    "               25528056,27648926,28359264,29315819,29339455,\n",
    "               29901116,29964355,29969986,31358821\n",
    "              ],\n",
    "    \"score\": 0.1,\n",
    "    \"source\": \"BEFREE\"\n",
    "}"
   ]
  },
  {
   "cell_type": "markdown",
   "metadata": {},
   "source": [
    "So...Observation 1, just looking at the metaKG, one didn't know that all this info was available. Maybe some of this info could be available on the metaKG level so users could know this beforehand. \n",
    "\n",
    "Observation 2: I still have a lot of questions to be able to make use of this info...\n",
    "* What is DPI, DSI, EI, score? And I have no idea what they measure, what their range is, how they were calculated, what's a \"good\" number, whether I can treat them as probabilities in some meta-measure, etc. [MEASURES]\n",
    "* What is this source \"BEFREE\"? Is this a part of DisGeNET? And how can I tell as an ARA if another API response result is actually using the same underlying resource, when it may use a different field / spelling / name? [PROVENANCE-RELATED]\n",
    "    * Spoiler: Turns out that BEFREE is a shorthand \"source\" tag for a large corpus of associations made by the team developing DisGeNET using the NLP method BeFree on MEDLINE abstract data. So the \"real\" underlying source is MEDLINE abstracts..."
   ]
  },
  {
   "cell_type": "markdown",
   "metadata": {},
   "source": [
    "And there are further questions floating around from work done with other Translator teams and discussions within Translator:\n",
    "* what if an association is specific to a particular context / is only relevant in a specific context? [CONTEXT/RELEVANCE]\n",
    "    * An example is associations found in particular cell-lines (Multiomics KP), organisms, cohorts (multiple Provider teams)\n",
    "    * support is needed to describe them, at least on the level needed for querying / reasoning.  \n",
    "* what if there are categorical measures of the association (ex: \"strong\", \"likely\")? This was brought up in context of Text Mining Provider. [MEASURES]\n",
    "* what if an ARA method requires numeric values on the edges (and what if they need specific measures like a probability)? [MEASURES]\n",
    "* how was an association actually made? do we even know this? how do we describe it? [PROVENANCE-RELATED]\n",
    "* are we conflating node types when we make this association? which ones? on what level (which resource)? [PROVENANCE-RELATED]\n",
    "* can I visit a website to see the association / resource? It would really help the user \"double-check\" and learn more about the result, helping with confidence in the tool. [PROVENANCE, USER NEED]\n",
    "* what if the publication IDs aren't PMIDs? [PROVENANCE]\n",
    "* what Translator team contributed to what API? [PROVENANCE, INTERNAL USE]"
   ]
  },
  {
   "cell_type": "markdown",
   "metadata": {},
   "source": [
    "## Potential solution setup"
   ]
  },
  {
   "cell_type": "markdown",
   "metadata": {},
   "source": [
    "So above, a bunch of missing information was described and questions were posed. How could we address these?\n",
    "\n",
    "Well, we already have the SmartAPI Registry, metaKG, x-BTE extensions / BTE tooling to query and parse...so maybe we could just augment the info that's there. \n",
    "* put more fields/slots in the metaKG edge JSON\n",
    "* in the code to parse the response JSON, add the slots from the metaKG and perhaps more. \n",
    "    * Response-specific slots could include the publications and website information - to take the user right to the supporting information for a specific association. \n",
    "    * Website info could come from parsing the specific association, then building the specific website url. \n",
    "\n",
    "<br>\n",
    "\n",
    "We could go with the following guidelines/considerations:\n",
    "* one metaKG edge per unique input-type/output-type/path-of-provenance/biolink-predicate combo. \n",
    "    * one biolink-predicate per edge means simpler mapping to provenance/outside-predicates. \n",
    "    * Describing one path of provenance can be done in a relatively flat way. \n",
    "    * VS describing branched-chains of provenance for one edge sounds like building a graph on top of an edge...and that doesn't sound like the easiest to query / reason on. \n",
    "* as simple/flat as possible, while providing enough information \n",
    "    * easy to query / parse\n",
    "    * describe provenance/measures on a surface/simple level - just enough to tell whether it is the same or different from stuff on another edge\n",
    "    * doesn't describe all fields of the response JSON, just the ones that are likely to be important for ARAs querying or reasoning \n",
    "    * follow the provenance back as far as one reasonably can **computationally**. Don't go too far beyond what the API actually provides\n",
    "* flexible enough to handle various kinds of knowledge sources and missing info\n",
    "* keep in mind the costs of updating:\n",
    "    * we don't want something so brittle/intricate where a lot needs to be updated manually with every little change...\n",
    "    * if manual, ideally make it a \"once-and-done\" where it only changes if something major changes in data-modeling/structure/methods of underlying resource\n",
    "    * ideally some of this can be done computationally (ex: setting up an endpoint that provides all the info for augmentation). But we don't control every API or underlying resource..."
   ]
  },
  {
   "cell_type": "markdown",
   "metadata": {},
   "source": [
    "## New work: documentation"
   ]
  },
  {
   "cell_type": "markdown",
   "metadata": {},
   "source": [
    "The Setup tab here: https://docs.google.com/spreadsheets/d/1Xnib2FOSSUIK6e22xO6MrGTopVIGJ8kiCCENIVZBIgo/edit?usp=sharing(anyone with link can comment, need to be added to edit)\n",
    "* name, Python object type, whether it exists on metaKG / response level, description, examples\n",
    "\n",
    "<br>\n",
    "\n",
    "Metadata Notes: https://docs.google.com/document/d/1c_0o5YwGSaNaWFjcIelz_PPALsbECSLy3JFnlKoQUcg/edit?usp=sharing (anyone with link can comment, need to be added to edit)\n",
    "* more detailed description\n",
    "* notes on formatting (ex: names) and values put in certain fields so far (where we may want to later restrict the allowed values to a set)"
   ]
  },
  {
   "cell_type": "markdown",
   "metadata": {},
   "source": [
    "## New work: examples"
   ]
  },
  {
   "cell_type": "markdown",
   "metadata": {},
   "source": [
    "### metaKG edge "
   ]
  },
  {
   "cell_type": "markdown",
   "metadata": {},
   "source": [
    "Let's return to the MyDisease.info DisGeNET Disease -> Gene associations.   \n",
    "\n",
    "I noticed that \n",
    "1. DisGeNET had **17** unique source values for this type of association and **4** unique measures of the association. \n",
    "2. Kevin had to update DisGeNET within MyDisease.info to expose the source info and provide separate associations for reach source. \n",
    "3. The source and measures values alone was not enough to describe the provenance and other information. So I read up on this resource to fill the fields described in the documentation above. \n",
    "\n",
    "So...let's pick one path-of-provenance (since there could be one metaKG edge per unique input-type/output-type/path-of-provenance combo): when the DisGeNET data field named source=\"BEFREE\". This is the same source as the example of the current response metadata above. \n",
    "\n",
    "First, there is metadata information that is the same, regardless of the source because it is common to all edges coming from DisGeNET:"
   ]
  },
  {
   "cell_type": "code",
   "execution_count": 11,
   "metadata": {
    "ExecuteTime": {
     "end_time": "2020-10-27T01:39:42.798653Z",
     "start_time": "2020-10-27T01:39:42.793073Z"
    }
   },
   "outputs": [],
   "source": [
    "## stuff that is the same in all records \n",
    "basic_dggd_edge = {\n",
    "    ## provenance-related  \n",
    "    \"translator_group\":[\"Service_Provider\"],  ## assign this\n",
    "    \"nodes_conflated\": \n",
    "        {'Disease':\n",
    "            {'conflated_type':'PhenotypicFeature', 'where':'DisGeNET'},\n",
    "        'Gene':\n",
    "            {'conflated_type':'GeneProduct', 'where':'DisGeNET'}\n",
    "        },    \n",
    "    ## measure-related                  \n",
    "    \"numeric_measures_present\":True,      ## assign this  \n",
    "    \"numeric_measures\":      ## there are 4\n",
    "        [{\"name\":\"GDAscore\",\n",
    "          \"standard_label\":\"association_score\",  ## name Translator may want to use\n",
    "          \"range\":\"(0-1]\", \n",
    "          \"direction\":{\"more_confident\":\"larger\"},\n",
    "          \"reference\":{\"url\":\"https://www.disgenet.org/dbinfo#section31\"}}, \n",
    "        {\"name\":\"EI\",\n",
    "          \"standard_label\":\"evidence_index\",  ## name Translator may want to use\n",
    "          \"range\":\"(0-1]\", \n",
    "          \"direction\":{\"more_confident\":\"larger\"},\n",
    "          \"reference\":{\"url\":\"https://www.disgenet.org/dbinfo#section36\"}}, \n",
    "        {\"name\":\"DSI\",\n",
    "          \"standard_label\":\"gene_specific_to_disease\",  ## name Translator may want to use\n",
    "          \"range\":\"(0-1]\",  ## ref claims min=0.25, but it should fluctuate based on db data\n",
    "          \"direction\":{\"more_specific\":\"larger\"},\n",
    "          \"reference\":{\"url\":\"https://www.disgenet.org/dbinfo#section33\"}}, \n",
    "        {\"name\":\"DPI\",\n",
    "          \"standard_label\":\"gene_specific_to_disease_class\",  ## name Translator may want to use\n",
    "          \"range\":\"(0-1]\",       ## ref claims min=1/29, but it would fluctuate if disease class changed\n",
    "          \"direction\":{\"more_specific\":\"smaller\"},\n",
    "          \"reference\":{\"url\":\"https://www.disgenet.org/dbinfo#section34\"}} \n",
    "        ],\n",
    "    \"categorical_measures_present\":False         \n",
    "}"
   ]
  },
  {
   "cell_type": "markdown",
   "metadata": {},
   "source": [
    "Then there is provenance and predicate info specific to the BEFREE edges. \n",
    "\n",
    "After reviewing some examples of the DisGeNET data, I decided that the edges labeled BEFREE fit the more general \"related_to\" biolink predicate. This predicate is symmetrical, so it can be used for both the Disease -> Gene and Gene -> Disease metaKG/response edges. "
   ]
  },
  {
   "cell_type": "code",
   "execution_count": 12,
   "metadata": {
    "ExecuteTime": {
     "end_time": "2020-10-27T01:39:48.896445Z",
     "start_time": "2020-10-27T01:39:48.892075Z"
    }
   },
   "outputs": [],
   "source": [
    "metakg_dggd_BEFREE = copy.deepcopy(basic_dggd_edge)\n",
    "\n",
    "## predicate-related\n",
    "metakg_dggd_BEFREE['biolink_predicate'] = \"related_to\"  ## assign this, no predicate in datafile\n",
    "\n",
    "## provenance-related\n",
    "## can get most from endpoint http://mydisease.info/v1/metadata \n",
    "metakg_dggd_BEFREE['traced_provenance'] =  \\\n",
    "    [{\"name\":\"MyDisease.info API\",\n",
    "        \"type\":\"service\",  ## assign this\n",
    "        \"version\":\"2020-11-01\",    ## made-up, to reflect change\n",
    "        \"method\":\"ingest_consolidate\"},  ## assign this\n",
    "     {\"name\":\"DisGeNET\",\n",
    "        \"type\":\"knowledgebase\",    ## assign this\n",
    "        \"version\":\"v7\",     ## made-up, to reflect change\n",
    "        \"method\":\"NLP_BEFREE\",\n",
    "        \"method_ref\":{\"url\":\"https://www.disgenet.org/dbinfo#section11\"}}   ## assign this\n",
    "    ]  \n",
    "\n",
    "metakg_dggd_BEFREE['origin'] = \\\n",
    "    {\"name\":\"MEDLINE_abstracts\",  \n",
    "        \"type\":\"publications\",\n",
    "        \"version\":\"1970-01_to_2019-12\"}  "
   ]
  },
  {
   "cell_type": "markdown",
   "metadata": {},
   "source": [
    "So the augmented data on the metaKG edge for MyDisease.info DisGeNET Disease -> Gene associations, DisGeNET source field = \"BEFREE\" (one path of provenance) is:    "
   ]
  },
  {
   "cell_type": "code",
   "execution_count": 13,
   "metadata": {
    "ExecuteTime": {
     "end_time": "2020-10-27T01:41:34.269514Z",
     "start_time": "2020-10-27T01:41:34.264439Z"
    }
   },
   "outputs": [
    {
     "data": {
      "text/plain": [
       "{'translator_group': ['Service_Provider'],\n",
       " 'nodes_conflated': {'Disease': {'conflated_type': 'PhenotypicFeature',\n",
       "   'where': 'DisGeNET'},\n",
       "  'Gene': {'conflated_type': 'GeneProduct', 'where': 'DisGeNET'}},\n",
       " 'numeric_measures_present': True,\n",
       " 'numeric_measures': [{'name': 'GDAscore',\n",
       "   'standard_label': 'association_score',\n",
       "   'range': '(0-1]',\n",
       "   'direction': {'more_confident': 'larger'},\n",
       "   'reference': {'url': 'https://www.disgenet.org/dbinfo#section31'}},\n",
       "  {'name': 'EI',\n",
       "   'standard_label': 'evidence_index',\n",
       "   'range': '(0-1]',\n",
       "   'direction': {'more_confident': 'larger'},\n",
       "   'reference': {'url': 'https://www.disgenet.org/dbinfo#section36'}},\n",
       "  {'name': 'DSI',\n",
       "   'standard_label': 'gene_specific_to_disease',\n",
       "   'range': '(0-1]',\n",
       "   'direction': {'more_specific': 'larger'},\n",
       "   'reference': {'url': 'https://www.disgenet.org/dbinfo#section33'}},\n",
       "  {'name': 'DPI',\n",
       "   'standard_label': 'gene_specific_to_disease_class',\n",
       "   'range': '(0-1]',\n",
       "   'direction': {'more_specific': 'smaller'},\n",
       "   'reference': {'url': 'https://www.disgenet.org/dbinfo#section34'}}],\n",
       " 'categorical_measures_present': False,\n",
       " 'biolink_predicate': 'related_to',\n",
       " 'traced_provenance': [{'name': 'MyDisease.info API',\n",
       "   'type': 'service',\n",
       "   'version': '2020-11-01',\n",
       "   'method': 'ingest_consolidate'},\n",
       "  {'name': 'DisGeNET',\n",
       "   'type': 'knowledgebase',\n",
       "   'version': 'v7',\n",
       "   'method': 'NLP_BEFREE',\n",
       "   'method_ref': {'url': 'https://www.disgenet.org/dbinfo#section11'}}],\n",
       " 'origin': {'name': 'MEDLINE_abstracts',\n",
       "  'type': 'publications',\n",
       "  'version': '1970-01_to_2019-12'}}"
      ]
     },
     "execution_count": 13,
     "metadata": {},
     "output_type": "execute_result"
    }
   ],
   "source": [
    "metakg_dggd_BEFREE"
   ]
  },
  {
   "cell_type": "markdown",
   "metadata": {},
   "source": [
    "#### metaKG edge queries"
   ]
  },
  {
   "cell_type": "markdown",
   "metadata": {},
   "source": [
    "With this record, an ARA could now query the metaKG to see if this edge has the info it wants for reasoning. A user could also find some basic provenance and measure information. "
   ]
  },
  {
   "cell_type": "code",
   "execution_count": 20,
   "metadata": {
    "ExecuteTime": {
     "end_time": "2020-10-27T01:53:10.535603Z",
     "start_time": "2020-10-27T01:53:10.530666Z"
    }
   },
   "outputs": [
    {
     "data": {
      "text/plain": [
       "[{'name': 'GDAscore',\n",
       "  'standard_label': 'association_score',\n",
       "  'range': '(0-1]',\n",
       "  'direction': {'more_confident': 'larger'},\n",
       "  'reference': {'url': 'https://www.disgenet.org/dbinfo#section31'}},\n",
       " {'name': 'EI',\n",
       "  'standard_label': 'evidence_index',\n",
       "  'range': '(0-1]',\n",
       "  'direction': {'more_confident': 'larger'},\n",
       "  'reference': {'url': 'https://www.disgenet.org/dbinfo#section36'}}]"
      ]
     },
     "execution_count": 20,
     "metadata": {},
     "output_type": "execute_result"
    }
   ],
   "source": [
    "## get the numeric measure info related to confidence in the association, if it exists\n",
    "if metakg_dggd_BEFREE['numeric_measures_present']:\n",
    "    confident = [i \\\n",
    "                 for i in metakg_dggd_BEFREE['numeric_measures'] \\\n",
    "                 if 'confident' in \"\".join(i['direction'].keys())]\n",
    "confident"
   ]
  },
  {
   "cell_type": "code",
   "execution_count": 28,
   "metadata": {
    "ExecuteTime": {
     "end_time": "2020-10-27T02:04:29.482828Z",
     "start_time": "2020-10-27T02:04:29.478726Z"
    }
   },
   "outputs": [
    {
     "name": "stdout",
     "output_type": "stream",
     "text": [
      "MEDLINE_abstracts, 1970-01_to_2019-12\n"
     ]
    }
   ],
   "source": [
    "## did this info come from text/publications? and which ones?\n",
    "## ideally, text/publication would only be in the origin slot\n",
    "\n",
    "if metakg_dggd_BEFREE['origin']['type'] in ['text', 'publications']:\n",
    "    print(\"{0}, {1}\".format(metakg_dggd_BEFREE['origin']['name'], metakg_dggd_BEFREE['origin'].get('version')))"
   ]
  },
  {
   "cell_type": "code",
   "execution_count": 30,
   "metadata": {
    "ExecuteTime": {
     "end_time": "2020-10-27T02:05:02.724067Z",
     "start_time": "2020-10-27T02:05:02.719928Z"
    }
   },
   "outputs": [
    {
     "data": {
      "text/plain": [
       "[('MyDisease.info API', 'ingest_consolidate', None),\n",
       " ('DisGeNET',\n",
       "  'NLP_BEFREE',\n",
       "  {'url': 'https://www.disgenet.org/dbinfo#section11'})]"
      ]
     },
     "execution_count": 30,
     "metadata": {},
     "output_type": "execute_result"
    }
   ],
   "source": [
    "## get the methods (and method info if available) used to create the association for each resource\n",
    "[(i['name'], i['method'], i.get('method_ref')) for i in metakg_dggd_BEFREE['traced_provenance']]"
   ]
  },
  {
   "cell_type": "markdown",
   "metadata": {},
   "source": [
    "### specific response edge"
   ]
  },
  {
   "cell_type": "markdown",
   "metadata": {},
   "source": [
    "So what about a specific edge from a query's response? Above, we saw an example of the following edge:\n",
    "\n",
    "\"hereditary breast carcinoma\" (MONDO:0016419) -> NAT1 (NCBIGene:9)\n",
    "\n",
    "As a reminder, this was the raw API response"
   ]
  },
  {
   "cell_type": "code",
   "execution_count": 31,
   "metadata": {
    "ExecuteTime": {
     "end_time": "2020-10-27T07:41:31.294846Z",
     "start_time": "2020-10-27T07:41:31.290758Z"
    }
   },
   "outputs": [
    {
     "data": {
      "text/plain": [
       "{'DPI': 0.846,\n",
       " 'DSI': 0.536,\n",
       " 'EI': 0.917,\n",
       " 'YearFinal': 2019,\n",
       " 'YearInitial': 1998,\n",
       " 'gene_id': 9,\n",
       " 'gene_name': 'NAT1',\n",
       " 'pubmed': [9610785,\n",
       "  10090301,\n",
       "  10698485,\n",
       "  12835615,\n",
       "  12860276,\n",
       "  14517345,\n",
       "  15084249,\n",
       "  15090724,\n",
       "  15226672,\n",
       "  16049806,\n",
       "  17010218,\n",
       "  17973251,\n",
       "  18288399,\n",
       "  22333393,\n",
       "  24467436,\n",
       "  25528056,\n",
       "  27648926,\n",
       "  28359264,\n",
       "  29315819,\n",
       "  29339455,\n",
       "  29901116,\n",
       "  29964355,\n",
       "  29969986,\n",
       "  31358821],\n",
       " 'score': 0.1,\n",
       " 'source': 'BEFREE'}"
      ]
     },
     "execution_count": 31,
     "metadata": {},
     "output_type": "execute_result"
    }
   ],
   "source": [
    "current_response_ex"
   ]
  },
  {
   "cell_type": "markdown",
   "metadata": {},
   "source": [
    "We can map the API response to the metaKG fields in the following way:\n",
    "* the numeric measures (DPI, DSI, EI, score) are already annotated in the augmented metaKG edge info. Add a \"value\" field to put in the specific values for this specific edge\n",
    "* the source is already annotated in more detail in the augmented metaKG edge info. Replace 'source' with the provenance-related fields from the metaKG. \n",
    "* the pubmed field can be mapped to a response-specific edge field -> publications. This is a dict of dict that makes clear that these are PMIDs. \n",
    "* DisGeNET has a browser interface, so we can link a website for the users. We need to parse the subject/object of the specific response that we're modeling to do this. \n",
    "    * the query for Disease -> Gene in BTE looks like this: API 2.1: https://mydisease.info/v1/query?fields=disgenet.genes_related_to_disease.gene_id (POST -d q=C0006142,C0346153&scopes=mondo.xrefs.umls, disgenet.xrefs.umls)\n",
    "\n",
    "The final response edge would look like this:"
   ]
  },
  {
   "cell_type": "code",
   "execution_count": 33,
   "metadata": {
    "ExecuteTime": {
     "end_time": "2020-10-27T08:03:27.499749Z",
     "start_time": "2020-10-27T08:03:27.494749Z"
    }
   },
   "outputs": [
    {
     "data": {
      "text/plain": [
       "['https://www.disgenet.org/browser/0/1/1/C0346153::C0006142/geneid__9-source__BEFREE/_b./']"
      ]
     },
     "execution_count": 33,
     "metadata": {},
     "output_type": "execute_result"
    }
   ],
   "source": [
    "## build the website url. I presume that BTE has resolved the IDs of the subject/object \n",
    "## website url construction: this could be a real edge\n",
    "\n",
    "## BTE maps \"hereditary breast carcinoma\" (MONDO:0016419) to the following UMLS IDs (used by DisGeNET)\n",
    "dg_subject_ids = ['C0346153',  ## familial breast cancer \n",
    "              'C0006142']  ## Malignant neoplasm of breast\n",
    "dg_object_ids = ['9']  ## gene NAT1, can get from hint object's 'NCBIGene' value\n",
    "source = 'BEFREE'   ## this is the parameter value DisGeNET uses for query/ provenance \n",
    "\n",
    "dg_website_urls = [\n",
    "    \"https://www.disgenet.org/browser/0/1/1/{0}/geneid__{1}-source__{2}/_b./\".format(\\\n",
    "        \"::\".join(dg_subject_ids), obj, source) \\\n",
    "    for obj in dg_object_ids\n",
    "]\n",
    "dg_website_urls"
   ]
  },
  {
   "cell_type": "code",
   "execution_count": 36,
   "metadata": {
    "ExecuteTime": {
     "end_time": "2020-10-27T16:58:08.930488Z",
     "start_time": "2020-10-27T16:58:08.915916Z"
    }
   },
   "outputs": [],
   "source": [
    "## the entry\n",
    "result_dg = copy.deepcopy(metakg_dggd_BEFREE)\n",
    "result_dg['website'] = dg_website_urls\n",
    "result_dg['publications'] = {'pmid':current_response_ex['pubmed']}\n",
    "\n",
    "result_dg['numeric_measures'][0]['value'] = current_response_ex['score']  ## this is GDAscore / association_score\n",
    "result_dg['numeric_measures'][1]['value'] = current_response_ex['EI']  ## this is EI / evidence_index\n",
    "result_dg['numeric_measures'][2]['value'] = current_response_ex['DSI']  ## this is DSI / gene_specific_to_disease\n",
    "result_dg['numeric_measures'][3]['value'] = current_response_ex['DPI']  ## this is DPI / gene_specific_to_disease_class\n",
    "\n",
    "## no change to these parts of the response\n",
    "result_dg['YearInitial'] = current_response_ex['YearInitial']\n",
    "result_dg['YearFinal'] = current_response_ex['YearFinal']"
   ]
  },
  {
   "cell_type": "code",
   "execution_count": 37,
   "metadata": {
    "ExecuteTime": {
     "end_time": "2020-10-27T16:58:09.478924Z",
     "start_time": "2020-10-27T16:58:09.471300Z"
    }
   },
   "outputs": [
    {
     "data": {
      "text/plain": [
       "{'translator_group': ['Service_Provider'],\n",
       " 'nodes_conflated': {'Disease': {'conflated_type': 'PhenotypicFeature',\n",
       "   'where': 'DisGeNET'},\n",
       "  'Gene': {'conflated_type': 'GeneProduct', 'where': 'DisGeNET'}},\n",
       " 'numeric_measures_present': True,\n",
       " 'numeric_measures': [{'name': 'GDAscore',\n",
       "   'standard_label': 'association_score',\n",
       "   'range': '(0-1]',\n",
       "   'direction': {'more_confident': 'larger'},\n",
       "   'reference': {'url': 'https://www.disgenet.org/dbinfo#section31'},\n",
       "   'value': 0.1},\n",
       "  {'name': 'EI',\n",
       "   'standard_label': 'evidence_index',\n",
       "   'range': '(0-1]',\n",
       "   'direction': {'more_confident': 'larger'},\n",
       "   'reference': {'url': 'https://www.disgenet.org/dbinfo#section36'},\n",
       "   'value': 0.917},\n",
       "  {'name': 'DSI',\n",
       "   'standard_label': 'gene_specific_to_disease',\n",
       "   'range': '(0-1]',\n",
       "   'direction': {'more_specific': 'larger'},\n",
       "   'reference': {'url': 'https://www.disgenet.org/dbinfo#section33'},\n",
       "   'value': 0.536},\n",
       "  {'name': 'DPI',\n",
       "   'standard_label': 'gene_specific_to_disease_class',\n",
       "   'range': '(0-1]',\n",
       "   'direction': {'more_specific': 'smaller'},\n",
       "   'reference': {'url': 'https://www.disgenet.org/dbinfo#section34'},\n",
       "   'value': 0.846}],\n",
       " 'categorical_measures_present': False,\n",
       " 'biolink_predicate': 'related_to',\n",
       " 'traced_provenance': [{'name': 'MyDisease.info API',\n",
       "   'type': 'service',\n",
       "   'version': '2020-11-01',\n",
       "   'method': 'ingest_consolidate'},\n",
       "  {'name': 'DisGeNET',\n",
       "   'type': 'knowledgebase',\n",
       "   'version': 'v7',\n",
       "   'method': 'NLP_BEFREE',\n",
       "   'method_ref': {'url': 'https://www.disgenet.org/dbinfo#section11'}}],\n",
       " 'origin': {'name': 'MEDLINE_abstracts',\n",
       "  'type': 'publications',\n",
       "  'version': '1970-01_to_2019-12'},\n",
       " 'website': ['https://www.disgenet.org/browser/0/1/1/C0346153::C0006142/geneid__9-source__BEFREE/_b./'],\n",
       " 'publications': {'pmid': [9610785,\n",
       "   10090301,\n",
       "   10698485,\n",
       "   12835615,\n",
       "   12860276,\n",
       "   14517345,\n",
       "   15084249,\n",
       "   15090724,\n",
       "   15226672,\n",
       "   16049806,\n",
       "   17010218,\n",
       "   17973251,\n",
       "   18288399,\n",
       "   22333393,\n",
       "   24467436,\n",
       "   25528056,\n",
       "   27648926,\n",
       "   28359264,\n",
       "   29315819,\n",
       "   29339455,\n",
       "   29901116,\n",
       "   29964355,\n",
       "   29969986,\n",
       "   31358821]},\n",
       " 'YearInitial': 1998,\n",
       " 'YearFinal': 2019}"
      ]
     },
     "execution_count": 37,
     "metadata": {},
     "output_type": "execute_result"
    }
   ],
   "source": [
    "result_dg"
   ]
  },
  {
   "cell_type": "code",
   "execution_count": null,
   "metadata": {},
   "outputs": [],
   "source": []
  }
 ],
 "metadata": {
  "kernelspec": {
   "display_name": "Python 3",
   "language": "python",
   "name": "python3"
  },
  "language_info": {
   "codemirror_mode": {
    "name": "ipython",
    "version": 3
   },
   "file_extension": ".py",
   "mimetype": "text/x-python",
   "name": "python",
   "nbconvert_exporter": "python",
   "pygments_lexer": "ipython3",
   "version": "3.7.9"
  },
  "toc": {
   "base_numbering": 1,
   "nav_menu": {},
   "number_sections": true,
   "sideBar": true,
   "skip_h1_title": true,
   "title_cell": "Table of Contents",
   "title_sidebar": "Contents",
   "toc_cell": false,
   "toc_position": {
    "height": "calc(100% - 180px)",
    "left": "10px",
    "top": "150px",
    "width": "296.5px"
   },
   "toc_section_display": true,
   "toc_window_display": true
  },
  "varInspector": {
   "cols": {
    "lenName": 16,
    "lenType": 16,
    "lenVar": 40
   },
   "kernels_config": {
    "python": {
     "delete_cmd_postfix": "",
     "delete_cmd_prefix": "del ",
     "library": "var_list.py",
     "varRefreshCmd": "print(var_dic_list())"
    },
    "r": {
     "delete_cmd_postfix": ") ",
     "delete_cmd_prefix": "rm(",
     "library": "var_list.r",
     "varRefreshCmd": "cat(var_dic_list()) "
    }
   },
   "types_to_exclude": [
    "module",
    "function",
    "builtin_function_or_method",
    "instance",
    "_Feature"
   ],
   "window_display": false
  }
 },
 "nbformat": 4,
 "nbformat_minor": 4
}
