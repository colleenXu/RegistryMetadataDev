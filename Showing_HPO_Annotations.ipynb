{
 "cells": [
  {
   "cell_type": "markdown",
   "id": "ab5b0499",
   "metadata": {},
   "source": [
    "# Showing HPO Annotations"
   ]
  },
  {
   "cell_type": "markdown",
   "id": "50083c9b",
   "metadata": {},
   "source": [
    "## Setup"
   ]
  },
  {
   "cell_type": "code",
   "execution_count": 1,
   "id": "9bab72fc",
   "metadata": {
    "ExecuteTime": {
     "end_time": "2021-05-27T21:38:32.328823Z",
     "start_time": "2021-05-27T21:38:31.917802Z"
    }
   },
   "outputs": [],
   "source": [
    "## CX: allows multiple lines of code to print from one code block\n",
    "from IPython.core.interactiveshell import InteractiveShell\n",
    "InteractiveShell.ast_node_interactivity = \"all\"\n",
    "\n",
    "## to get around bugs\n",
    "import nest_asyncio\n",
    "nest_asyncio.apply()\n",
    "\n",
    "import pathlib\n",
    "import pandas as pd\n",
    "import re\n",
    "import requests\n",
    "\n",
    "from collections import defaultdict"
   ]
  },
  {
   "cell_type": "code",
   "execution_count": 2,
   "id": "a80103c6",
   "metadata": {
    "ExecuteTime": {
     "end_time": "2021-05-27T21:38:32.335016Z",
     "start_time": "2021-05-27T21:38:32.331402Z"
    }
   },
   "outputs": [],
   "source": [
    "## put the path you want to use here\n",
    "HPO_path = pathlib.Path.cwd().joinpath('rawData', 'phenotype.hpoa')"
   ]
  },
  {
   "cell_type": "code",
   "execution_count": 3,
   "id": "d719062f",
   "metadata": {
    "ExecuteTime": {
     "end_time": "2021-05-27T21:38:32.360760Z",
     "start_time": "2021-05-27T21:38:32.339492Z"
    }
   },
   "outputs": [],
   "source": [
    "## from https://github.com/biothings/mydisease.info/blob/master/src/plugins/hpo/parser.py\n",
    "\n",
    "def process_disease2hp(file_path_disease_hpo):\n",
    "    df_disease_hpo = pd.read_csv(file_path_disease_hpo, sep=\"\\t\", skiprows=4, dtype=str)\n",
    "    df_disease_hpo = df_disease_hpo.rename(\n",
    "        index=str, columns={\"DiseaseName\": \"disease_name\", \"#DatabaseID\": \"disease_id\"}\n",
    "    )\n",
    "    \n",
    "    ## removing qualifier = 'NOT' annotations, because it means the disease does not\n",
    "    ##   have this phenotypic feature. The HPO website doesn't show these 'NOT' annots\n",
    "    df_disease_hpo = df_disease_hpo[df_disease_hpo['Qualifier'] != \"NOT\"]\n",
    "    ## then remove the qualifier\n",
    "    df_disease_hpo.drop(columns = 'Qualifier', inplace = True)\n",
    "    ## make sure all null values are None\n",
    "    df_disease_hpo = df_disease_hpo.where((pd.notnull(df_disease_hpo)), None)\n",
    "    \n",
    "    d = []\n",
    "    for did, subdf in df_disease_hpo.groupby(\"disease_id\"):\n",
    "        did = did.replace(\"ORPHA\", \"ORPHANET\")\n",
    "        records = subdf.to_dict(orient=\"records\")\n",
    "        \n",
    "        pathway_related = []\n",
    "        course = []\n",
    "        modifiers = []\n",
    "        inheritance = []\n",
    "        \n",
    "        for record in records:\n",
    "            record_dict = {}\n",
    "            if record[\"Aspect\"] == \"C\":\n",
    "                course.append(record[\"HPO_ID\"])\n",
    "                continue\n",
    "            elif record[\"Aspect\"] == \"M\":\n",
    "                modifiers.append(record[\"HPO_ID\"])\n",
    "                continue\n",
    "            elif record[\"Aspect\"] == \"I\":\n",
    "                inheritance.append(record[\"HPO_ID\"])\n",
    "                continue      \n",
    "                \n",
    "            for k, v in record.items():\n",
    "                # name the field based on pathway database\n",
    "                if (k == \"Sex\") and v:\n",
    "                    record_dict['sex'] = v.lower()\n",
    "                elif (k == 'Reference') and v: \n",
    "                ## only process if Reference has a value\n",
    "                ## notes: OMIM:194190, OMIM:180849, OMIM:212050 are disease examples with > 1 type of reference\n",
    "                    ## this is a string representing a list\n",
    "                    tempRefs = v.split(\";\")\n",
    "                    ## prepare to iterate through the tempRefs and store the processed data\n",
    "                    tempProperties = {\n",
    "                        'ISBN': [],\n",
    "                        'PMID': [],\n",
    "                        'http': [],\n",
    "                        'DECIPHER': [],\n",
    "                        'OMIM': [],\n",
    "                        'ORPHA': []\n",
    "                    }\n",
    "                    \n",
    "                    ## remove the prefixes or not? currently keeping the prefix\n",
    "                    for i in tempRefs:\n",
    "                        for key in tempProperties.keys():\n",
    "                            if key in i:\n",
    "                                ## replace curie prefix for isbn and orpha\n",
    "                                if key == 'ISBN':\n",
    "                                    tempProperties[key].append('ISBN:' + i.split(\":\")[1])\n",
    "                                elif key == 'ORPHA':\n",
    "                                    tempProperties[key].append('ORPHANET:' + i.split(\":\")[1])                                    \n",
    "                                else:\n",
    "                                    tempProperties[key].append(i)\n",
    "                    ## ONLY add reference keys/values to the record if there are values\n",
    "                    for k,v in tempProperties.items():\n",
    "                        if v:\n",
    "                            if k == 'ISBN':\n",
    "                                record_dict['isbn_refs'] = v\n",
    "                            elif k == 'PMID':\n",
    "                                record_dict['pmid_refs'] = v                    \n",
    "                            elif k == 'http':\n",
    "                                record_dict['website_refs'] = v  \n",
    "                            elif k == 'DECIPHER':\n",
    "                                record_dict['decipher_refs'] = v  \n",
    "                            elif k == 'OMIM':\n",
    "                                record_dict['omim_refs'] = v  \n",
    "                            elif k == 'ORPHA':\n",
    "                                record_dict['orphanet_refs'] = v  \n",
    "                elif (k == 'Frequency') and v:\n",
    "                ## only process if Frequency has a value\n",
    "                    tempDict = {}\n",
    "                    if 'http' in v:  ## catching an error in the data\n",
    "                        continue\n",
    "                    elif 'HP:' in v:\n",
    "                        tempDict['hp_freq'] = v\n",
    "                    elif '%' in v:\n",
    "                        tempFreq = float(v.strip('%')) / 100\n",
    "                        ## only go forward if this is a valid fraction <=1\n",
    "                        if tempFreq <= 1:\n",
    "                            tempDict['numeric_freq'] = tempFreq\n",
    "                    elif '/' in v:\n",
    "                        ## idx 0 is numerator, idx 1 is denominator\n",
    "                        tempL = [int(ele) for ele in v.split(\"/\")]\n",
    "                        ## only go forward if this is a valid fraction <=1\n",
    "                        if (tempL[0] != 0) and (tempL[1] !=0) and (tempL[0] <= tempL[1]):\n",
    "                            tempDict['freq_numerator'] = tempL[0]\n",
    "                            tempDict['freq_denominator'] = tempL[1]\n",
    "                            tempDict['numeric_freq'] = tempL[0] / tempL[1]\n",
    "\n",
    "                    ## ONLY add frequency keys/values to the record if there are values\n",
    "                    if tempDict:\n",
    "                        record_dict.update(tempDict)\n",
    "                        \n",
    "                elif (k == 'Modifier') and v:\n",
    "                ## only process if Modifier has a value\n",
    "                    ## in <20 records, this is a delimited list with repeated values\n",
    "                    ## this behavior matches the unlist behavior used with biothings APIs\n",
    "                    ## https://github.com/kevinxin90/biothings.api/blob/master/biothings/utils/dataload.py\n",
    "                    if \";\" in v:\n",
    "                        ## transform to list -> set->list to remove repeated values\n",
    "                        tempMods = list(set(v.split(\";\")))\n",
    "                        record_dict['modifier'] = tempMods\n",
    "                    else:\n",
    "                        record_dict['modifier'] = v\n",
    "                elif k not in {\"disease_id\", \"disease_name\", \n",
    "                               \"Aspect\", \"Sex\", \n",
    "                               \"Reference\", \"Frequency\", \n",
    "                               \"Modifier\"}:\n",
    "                    record_dict[k.lower()] = v\n",
    "            pathway_related.append(record_dict)\n",
    "        drecord = {\n",
    "            \"_id\": did,\n",
    "            \"hpo\": pathway_related,\n",
    "            \"disease_name\": records[0][\"disease_name\"],\n",
    "            \"course\": course,\n",
    "            \"modifiers\": modifiers,\n",
    "            \"inheritance\": inheritance\n",
    "        }\n",
    "        d.append(drecord)\n",
    " \n",
    "    return {\n",
    "        x[\"_id\"]: [x[\"hpo\"], x[\"disease_name\"], x[\"course\"], x[\"modifiers\"], x[\"inheritance\"]] for x in d\n",
    "    }"
   ]
  },
  {
   "cell_type": "code",
   "execution_count": 4,
   "id": "202edcf2",
   "metadata": {
    "ExecuteTime": {
     "end_time": "2021-05-27T21:38:44.731233Z",
     "start_time": "2021-05-27T21:38:32.364486Z"
    }
   },
   "outputs": [],
   "source": [
    "processed_data = process_disease2hp(HPO_path)"
   ]
  },
  {
   "cell_type": "markdown",
   "id": "06f4af0a",
   "metadata": {},
   "source": [
    "## Comparing records"
   ]
  },
  {
   "cell_type": "markdown",
   "id": "c20a3c78",
   "metadata": {},
   "source": [
    "Temtamy syndrome has [an OMIM ID (218340) and Orphanet ID (1777)](https://www.orpha.net/consor/cgi-bin/OC_Exp.php?lng=EN&Expert=1777). These are mapped to the same MONDO ID in mydisease.info (this will be shown later below)"
   ]
  },
  {
   "cell_type": "code",
   "execution_count": 5,
   "id": "47838da2",
   "metadata": {
    "ExecuteTime": {
     "end_time": "2021-05-27T21:38:44.788938Z",
     "start_time": "2021-05-27T21:38:44.733179Z"
    }
   },
   "outputs": [
    {
     "data": {
      "text/plain": [
       "{'_id': 'MONDO:0009033',\n",
       " '_score': 5.4348025,\n",
       " 'mondo': {'xrefs': {'doid': ['DOID:0111621'],\n",
       "   'gard': ['5688'],\n",
       "   'icd10': ['Q87.8'],\n",
       "   'mesh': ['C536959'],\n",
       "   'ncit': ['C148371'],\n",
       "   'omim': ['218340'],\n",
       "   'orphanet': ['1777'],\n",
       "   'sctid': ['719947004'],\n",
       "   'umls': ['C1857512']}}}"
      ]
     },
     "execution_count": 5,
     "metadata": {},
     "output_type": "execute_result"
    }
   ],
   "source": [
    "getMyDiseaseMapping = requests.get(\"http://mydisease.info/v1/query?q=%22MONDO%3A0009033%22&fields=mondo.xrefs\")\n",
    "getMyDiseaseMapping = getMyDiseaseMapping.json()\n",
    "\n",
    "getMyDiseaseMapping['hits'][0]"
   ]
  },
  {
   "cell_type": "markdown",
   "id": "e331d183",
   "metadata": {},
   "source": [
    "These are separate records in the HPO annotations, with different phenotype data annotated to each one\n",
    "\n",
    "Compare the info below:"
   ]
  },
  {
   "cell_type": "code",
   "execution_count": 6,
   "id": "912f6a89",
   "metadata": {
    "ExecuteTime": {
     "end_time": "2021-05-27T21:38:44.794077Z",
     "start_time": "2021-05-27T21:38:44.791125Z"
    }
   },
   "outputs": [],
   "source": [
    "OMIMrecord = processed_data['OMIM:218340']\n",
    "Orphanetrecord = processed_data['ORPHANET:1777']"
   ]
  },
  {
   "cell_type": "code",
   "execution_count": 7,
   "id": "fdbb8739",
   "metadata": {
    "ExecuteTime": {
     "end_time": "2021-05-27T21:38:44.803716Z",
     "start_time": "2021-05-27T21:38:44.796616Z"
    }
   },
   "outputs": [
    {
     "name": "stdout",
     "output_type": "stream",
     "text": [
      "OMIM has 31 phenotypes\n",
      "Orphanet has 25 phenotypes\n",
      "\n",
      "\n",
      "OMIM disease name: CRANIOFACIAL DYSMORPHISM WITH OCULAR COLOBOMA, ABSENT CORPUS CALLOSUM,AND AORTIC DILATATION\n",
      "Orphanet disease name: Temtamy syndrome\n",
      "\n",
      "\n",
      "OMIM course info: ['HP:0003593']\n",
      "Orphanet course info: []\n",
      "\n",
      "\n",
      "OMIM modifier info: []\n",
      "Orphanet modifier info: []\n",
      "\n",
      "\n",
      "OMIM inheritance info: ['HP:0000007']\n",
      "Orphanet inheritance info: []\n"
     ]
    }
   ],
   "source": [
    "print(\"OMIM has {} phenotypes\".format(len(OMIMrecord[0])))\n",
    "print(\"Orphanet has {} phenotypes\".format(len(Orphanetrecord[0])))\n",
    "print(\"\\n\")\n",
    "\n",
    "print(\"OMIM disease name: {}\".format(OMIMrecord[1]))\n",
    "print(\"Orphanet disease name: {}\".format(Orphanetrecord[1]))\n",
    "print(\"\\n\")\n",
    "\n",
    "print(\"OMIM course info: {}\".format(OMIMrecord[2]))\n",
    "print(\"Orphanet course info: {}\".format(Orphanetrecord[2]))\n",
    "print(\"\\n\")\n",
    "\n",
    "print(\"OMIM modifier info: {}\".format(OMIMrecord[3]))\n",
    "print(\"Orphanet modifier info: {}\".format(Orphanetrecord[3]))\n",
    "print(\"\\n\")\n",
    "\n",
    "print(\"OMIM inheritance info: {}\".format(OMIMrecord[4]))\n",
    "print(\"Orphanet inheritance info: {}\".format(Orphanetrecord[4]))"
   ]
  },
  {
   "cell_type": "markdown",
   "id": "322135ec",
   "metadata": {},
   "source": [
    "These two records are very different! You can also see this on the webpages for the [OMIM](https://hpo.jax.org/app/browse/disease/OMIM:218340) and [Orphanet](https://hpo.jax.org/app/browse/disease/ORPHA:1777) annotations."
   ]
  },
  {
   "cell_type": "code",
   "execution_count": 8,
   "id": "e6faaf20",
   "metadata": {
    "ExecuteTime": {
     "end_time": "2021-05-27T21:38:44.812904Z",
     "start_time": "2021-05-27T21:38:44.809590Z"
    }
   },
   "outputs": [],
   "source": [
    "setOMIMphenotypes = set([pheno['hpo_id'] for pheno in OMIMrecord[0]])\n",
    "setOrphaphenotypes = set([pheno['hpo_id'] for pheno in Orphanetrecord[0]])"
   ]
  },
  {
   "cell_type": "markdown",
   "id": "e37bf93c",
   "metadata": {},
   "source": [
    "### HPO phenotypes in both records"
   ]
  },
  {
   "cell_type": "code",
   "execution_count": 9,
   "id": "3a1f84b9",
   "metadata": {
    "ExecuteTime": {
     "end_time": "2021-05-27T21:38:44.822864Z",
     "start_time": "2021-05-27T21:38:44.816415Z"
    }
   },
   "outputs": [
    {
     "data": {
      "text/plain": [
       "11"
      ]
     },
     "execution_count": 9,
     "metadata": {},
     "output_type": "execute_result"
    }
   ],
   "source": [
    "len(setOrphaphenotypes.intersection(setOMIMphenotypes))"
   ]
  },
  {
   "cell_type": "markdown",
   "id": "dc1de529",
   "metadata": {},
   "source": [
    "### HPO phenotypes in the OMIM record, but not in the Orphanet record"
   ]
  },
  {
   "cell_type": "code",
   "execution_count": 10,
   "id": "56597e01",
   "metadata": {
    "ExecuteTime": {
     "end_time": "2021-05-27T21:38:44.831614Z",
     "start_time": "2021-05-27T21:38:44.826081Z"
    }
   },
   "outputs": [
    {
     "data": {
      "text/plain": [
       "20"
      ]
     },
     "execution_count": 10,
     "metadata": {},
     "output_type": "execute_result"
    }
   ],
   "source": [
    "len(setOMIMphenotypes - setOrphaphenotypes)"
   ]
  },
  {
   "cell_type": "markdown",
   "id": "fdc62be0",
   "metadata": {},
   "source": [
    "### HPO phenotypes in the Orphanet record, but not in the OMIM record"
   ]
  },
  {
   "cell_type": "code",
   "execution_count": 11,
   "id": "8a2afa30",
   "metadata": {
    "ExecuteTime": {
     "end_time": "2021-05-27T21:38:44.840283Z",
     "start_time": "2021-05-27T21:38:44.834743Z"
    }
   },
   "outputs": [
    {
     "data": {
      "text/plain": [
       "14"
      ]
     },
     "execution_count": 11,
     "metadata": {},
     "output_type": "execute_result"
    }
   ],
   "source": [
    "len(setOrphaphenotypes - setOMIMphenotypes)"
   ]
  },
  {
   "cell_type": "markdown",
   "id": "fc9e8236",
   "metadata": {},
   "source": [
    "### Compared to what's in MyDisease.info"
   ]
  },
  {
   "cell_type": "markdown",
   "id": "65c0e41c",
   "metadata": {},
   "source": [
    "Compare this with what mydisease.info has for Temtamy syndrome [MONDO:0009033](https://monarchinitiative.org/disease/MONDO:0009033). It seems to have the data from the OMIM ID but not the Orphanet ID..."
   ]
  },
  {
   "cell_type": "code",
   "execution_count": 12,
   "id": "a05e47af",
   "metadata": {
    "ExecuteTime": {
     "end_time": "2021-05-27T21:38:44.883221Z",
     "start_time": "2021-05-27T21:38:44.843545Z"
    }
   },
   "outputs": [],
   "source": [
    "getMyDisease = requests.get('http://mydisease.info/v1/query?q=\"MONDO:0009033\"&fields=hpo')\n",
    "getMyDisease = getMyDisease.json()['hits'][0]['hpo']"
   ]
  },
  {
   "cell_type": "markdown",
   "id": "2e16160d",
   "metadata": {},
   "source": [
    "OMIM phenotypes vs MyDisease phenotypes:\n",
    "- the difference is likely due to the mydisease data being from an older HPOA release\n",
    "- 1 phenotype is in the latest (April 2021) OMIM annotations, but not in the MyDisease.info \n",
    "- all of the phenos in mydisease are in the omim annots"
   ]
  },
  {
   "cell_type": "code",
   "execution_count": 13,
   "id": "bce57ca3",
   "metadata": {
    "ExecuteTime": {
     "end_time": "2021-05-27T21:38:44.892979Z",
     "start_time": "2021-05-27T21:38:44.885383Z"
    }
   },
   "outputs": [
    {
     "data": {
      "text/plain": [
       "{'HP:0001252'}"
      ]
     },
     "execution_count": 13,
     "metadata": {},
     "output_type": "execute_result"
    },
    {
     "data": {
      "text/plain": [
       "set()"
      ]
     },
     "execution_count": 13,
     "metadata": {},
     "output_type": "execute_result"
    }
   ],
   "source": [
    "setMyDiseasephenos = set([pheno['hpo_id'] for pheno in getMyDisease['phenotype_related_to_disease']])\n",
    "\n",
    "setOMIMphenotypes - setMyDiseasephenos\n",
    "\n",
    "setMyDiseasephenos - setOMIMphenotypes"
   ]
  },
  {
   "cell_type": "markdown",
   "id": "9ca925c2",
   "metadata": {},
   "source": [
    "Orphanet phenotypes vs MyDisease phenotypes: \n",
    "\n",
    "- 14 phenotypes are in the orphanet annots but not the mydisease entry - matches the \"in orphanet, not in omim\" count above  \n",
    "- 19 phenotypes are in the mydisease entry but not the latest (April 2021) orphanet annots - if you add the \"new\" omim annot above, then the number would be 20 which matches the \"in omim, not in orphanet\" count above."
   ]
  },
  {
   "cell_type": "code",
   "execution_count": 14,
   "id": "efad597e",
   "metadata": {
    "ExecuteTime": {
     "end_time": "2021-05-27T21:38:44.904435Z",
     "start_time": "2021-05-27T21:38:44.896862Z"
    }
   },
   "outputs": [
    {
     "data": {
      "text/plain": [
       "14"
      ]
     },
     "execution_count": 14,
     "metadata": {},
     "output_type": "execute_result"
    },
    {
     "data": {
      "text/plain": [
       "19"
      ]
     },
     "execution_count": 14,
     "metadata": {},
     "output_type": "execute_result"
    }
   ],
   "source": [
    "len(setOrphaphenotypes - setMyDiseasephenos)\n",
    "\n",
    "len(setMyDiseasephenos - setOrphaphenotypes)"
   ]
  },
  {
   "cell_type": "code",
   "execution_count": 15,
   "id": "552c055e",
   "metadata": {
    "ExecuteTime": {
     "end_time": "2021-05-27T21:38:44.914338Z",
     "start_time": "2021-05-27T21:38:44.907419Z"
    }
   },
   "outputs": [
    {
     "name": "stdout",
     "output_type": "stream",
     "text": [
      "myDisease finds 30 phenotypes\n",
      "\n",
      "\n",
      "in myDisease, the disease name from HPO is CRANIOFACIAL DYSMORPHISM WITH OCULAR COLOBOMA, ABSENT CORPUS CALLOSUM,AND AORTIC DILATATION\n",
      "\n",
      "\n",
      "in myDisease, the course is HP:0003593\n",
      "\n",
      "\n",
      "in myDisease, the inheritance is HP:0000007\n"
     ]
    }
   ],
   "source": [
    "print(\"myDisease finds {} phenotypes\".format(len(getMyDisease['phenotype_related_to_disease'])))\n",
    "print(\"\\n\")\n",
    "\n",
    "print(\"in myDisease, the disease name from HPO is {}\".format(getMyDisease['disease_name']))\n",
    "print(\"\\n\")\n",
    "\n",
    "print(\"in myDisease, the course is {}\".format(getMyDisease['course']))\n",
    "print(\"\\n\")\n",
    "\n",
    "print(\"in myDisease, the inheritance is {}\".format(getMyDisease['inheritance']))"
   ]
  },
  {
   "cell_type": "markdown",
   "id": "2a9a047c",
   "metadata": {},
   "source": [
    "## Why is this happening?"
   ]
  },
  {
   "cell_type": "markdown",
   "id": "b9aa9455",
   "metadata": {},
   "source": [
    "The parser uses an [if-elif-else structure](https://github.com/biothings/mydisease.info/blob/f59108a8e83cd53f18bcd2e542fb922a9d88137f/src/plugins/hpo/parser.py#L174) to put only 1 record that maps to the MONDO ID into the final data for the API. This means that a disease like Temtamy syndrome, which maps to an OMIM and Orphanet ID, only has the OMIM ID's data in the final API"
   ]
  },
  {
   "cell_type": "markdown",
   "id": "e554a53b",
   "metadata": {},
   "source": [
    "To fix this, there may need to be discussion on how to merge the records...\n",
    "\n",
    "Notice how the reference, evidence, frequency, and biocuration data differs between annotation for the same phenotype in the different records:"
   ]
  },
  {
   "cell_type": "code",
   "execution_count": 16,
   "id": "fed20bf7",
   "metadata": {
    "ExecuteTime": {
     "end_time": "2021-05-27T21:38:44.925604Z",
     "start_time": "2021-05-27T21:38:44.916949Z"
    }
   },
   "outputs": [
    {
     "data": {
      "text/plain": [
       "{'hpo_id': 'HP:0000276',\n",
       " 'omim_refs': ['OMIM:218340'],\n",
       " 'evidence': 'IEA',\n",
       " 'onset': None,\n",
       " 'biocuration': 'HPO:iea[2009-02-17]'}"
      ]
     },
     "execution_count": 16,
     "metadata": {},
     "output_type": "execute_result"
    },
    {
     "data": {
      "text/plain": [
       "{'hpo_id': 'HP:0000276',\n",
       " 'orphanet_refs': ['ORPHANET:1777'],\n",
       " 'evidence': 'TAS',\n",
       " 'onset': None,\n",
       " 'hp_freq': 'HP:0040282',\n",
       " 'biocuration': 'ORPHA:orphadata[2021-04-14]'}"
      ]
     },
     "execution_count": 16,
     "metadata": {},
     "output_type": "execute_result"
    }
   ],
   "source": [
    "for pheno in OMIMrecord[0]:\n",
    "    if pheno['hpo_id'] == 'HP:0000276':\n",
    "        pheno\n",
    "\n",
    "        \n",
    "for pheno in Orphanetrecord[0]:\n",
    "    if pheno['hpo_id'] == 'HP:0000276':\n",
    "        pheno"
   ]
  },
  {
   "cell_type": "markdown",
   "id": "7a912721",
   "metadata": {},
   "source": [
    "The set of shared phenotypes, in case one wants to look at the records and how they differ from each other"
   ]
  },
  {
   "cell_type": "code",
   "execution_count": 17,
   "id": "de07e116",
   "metadata": {
    "ExecuteTime": {
     "end_time": "2021-05-27T21:38:44.933729Z",
     "start_time": "2021-05-27T21:38:44.928182Z"
    }
   },
   "outputs": [
    {
     "data": {
      "text/plain": [
       "{'HP:0000276',\n",
       " 'HP:0000316',\n",
       " 'HP:0000347',\n",
       " 'HP:0000369',\n",
       " 'HP:0000444',\n",
       " 'HP:0000567',\n",
       " 'HP:0000612',\n",
       " 'HP:0001156',\n",
       " 'HP:0001263',\n",
       " 'HP:0001763',\n",
       " 'HP:0004942'}"
      ]
     },
     "execution_count": 17,
     "metadata": {},
     "output_type": "execute_result"
    }
   ],
   "source": [
    "setOrphaphenotypes.intersection(setOMIMphenotypes)"
   ]
  },
  {
   "cell_type": "code",
   "execution_count": null,
   "id": "9337b0c1",
   "metadata": {},
   "outputs": [],
   "source": []
  }
 ],
 "metadata": {
  "kernelspec": {
   "display_name": "Python 3",
   "language": "python",
   "name": "python3"
  },
  "language_info": {
   "codemirror_mode": {
    "name": "ipython",
    "version": 3
   },
   "file_extension": ".py",
   "mimetype": "text/x-python",
   "name": "python",
   "nbconvert_exporter": "python",
   "pygments_lexer": "ipython3",
   "version": "3.9.4"
  },
  "toc": {
   "base_numbering": 1,
   "nav_menu": {},
   "number_sections": true,
   "sideBar": true,
   "skip_h1_title": true,
   "title_cell": "Table of Contents",
   "title_sidebar": "Contents",
   "toc_cell": false,
   "toc_position": {
    "height": "833.333px",
    "left": "10px",
    "top": "150px",
    "width": "165px"
   },
   "toc_section_display": true,
   "toc_window_display": true
  }
 },
 "nbformat": 4,
 "nbformat_minor": 5
}
