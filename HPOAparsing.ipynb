{
 "cells": [
  {
   "cell_type": "markdown",
   "metadata": {},
   "source": [
    "# HPOA stuff"
   ]
  },
  {
   "cell_type": "markdown",
   "metadata": {},
   "source": [
    "## Setup"
   ]
  },
  {
   "cell_type": "code",
   "execution_count": 1,
   "metadata": {
    "ExecuteTime": {
     "end_time": "2021-01-21T22:22:14.505557Z",
     "start_time": "2021-01-21T22:22:10.881979Z"
    }
   },
   "outputs": [],
   "source": [
    "## CX: allows multiple lines of code to print from one code block\n",
    "from IPython.core.interactiveshell import InteractiveShell\n",
    "InteractiveShell.ast_node_interactivity = \"all\"\n",
    "\n",
    "## to get around bugs\n",
    "import nest_asyncio\n",
    "nest_asyncio.apply()\n",
    "\n",
    "import pathlib\n",
    "import pandas as pd\n",
    "import re"
   ]
  },
  {
   "cell_type": "code",
   "execution_count": 44,
   "metadata": {
    "ExecuteTime": {
     "end_time": "2021-01-20T02:46:04.546395Z",
     "start_time": "2021-01-20T02:46:02.777121Z"
    }
   },
   "outputs": [],
   "source": [
    "folder = pathlib.Path.home().joinpath('Desktop', 'ScrippsJob', 'DisGeNET')\n",
    "allgene_pmid_path = folder.joinpath('all_variant_disease_pmid_associations.tsv')\n",
    "allgene_pmid = pd.read_table(allgene_pmid_path)"
   ]
  },
  {
   "cell_type": "code",
   "execution_count": 45,
   "metadata": {
    "ExecuteTime": {
     "end_time": "2021-01-20T02:46:05.053456Z",
     "start_time": "2021-01-20T02:46:05.047931Z"
    }
   },
   "outputs": [
    {
     "data": {
      "text/plain": [
       "(739842, 16)"
      ]
     },
     "execution_count": 45,
     "metadata": {},
     "output_type": "execute_result"
    },
    {
     "data": {
      "text/plain": [
       "Index(['snpId', 'chromosome', 'position', 'DSI', 'DPI', 'diseaseId',\n",
       "       'diseaseName', 'diseaseType', 'diseaseClass', 'diseaseSemanticType',\n",
       "       'score', 'EI', 'YearInitial', 'YearFinal', 'pmid', 'source'],\n",
       "      dtype='object')"
      ]
     },
     "execution_count": 45,
     "metadata": {},
     "output_type": "execute_result"
    }
   ],
   "source": [
    "allgene_pmid.shape\n",
    "allgene_pmid.columns"
   ]
  },
  {
   "cell_type": "code",
   "execution_count": 54,
   "metadata": {
    "ExecuteTime": {
     "end_time": "2021-01-20T02:59:12.574504Z",
     "start_time": "2021-01-20T02:59:12.464720Z"
    }
   },
   "outputs": [
    {
     "data": {
      "text/html": [
       "<div>\n",
       "<style scoped>\n",
       "    .dataframe tbody tr th:only-of-type {\n",
       "        vertical-align: middle;\n",
       "    }\n",
       "\n",
       "    .dataframe tbody tr th {\n",
       "        vertical-align: top;\n",
       "    }\n",
       "\n",
       "    .dataframe thead th {\n",
       "        text-align: right;\n",
       "    }\n",
       "</style>\n",
       "<table border=\"1\" class=\"dataframe\">\n",
       "  <thead>\n",
       "    <tr style=\"text-align: right;\">\n",
       "      <th></th>\n",
       "      <th>snpId</th>\n",
       "      <th>chromosome</th>\n",
       "      <th>position</th>\n",
       "      <th>DSI</th>\n",
       "      <th>DPI</th>\n",
       "      <th>diseaseId</th>\n",
       "      <th>diseaseName</th>\n",
       "      <th>diseaseType</th>\n",
       "      <th>diseaseClass</th>\n",
       "      <th>diseaseSemanticType</th>\n",
       "      <th>score</th>\n",
       "      <th>EI</th>\n",
       "      <th>YearInitial</th>\n",
       "      <th>YearFinal</th>\n",
       "      <th>pmid</th>\n",
       "      <th>source</th>\n",
       "    </tr>\n",
       "  </thead>\n",
       "  <tbody>\n",
       "    <tr>\n",
       "      <th>185780</th>\n",
       "      <td>rs1367079155</td>\n",
       "      <td>4</td>\n",
       "      <td>99594764</td>\n",
       "      <td>1.0</td>\n",
       "      <td>0.08</td>\n",
       "      <td>C0000744</td>\n",
       "      <td>Abetalipoproteinemia</td>\n",
       "      <td>disease</td>\n",
       "      <td>C16;C18</td>\n",
       "      <td>Disease or Syndrome</td>\n",
       "      <td>0.7</td>\n",
       "      <td>1.0</td>\n",
       "      <td>1996.0</td>\n",
       "      <td>2015.0</td>\n",
       "      <td>25108285.0</td>\n",
       "      <td>UNIPROT</td>\n",
       "    </tr>\n",
       "    <tr>\n",
       "      <th>185781</th>\n",
       "      <td>rs1367079155</td>\n",
       "      <td>4</td>\n",
       "      <td>99594764</td>\n",
       "      <td>1.0</td>\n",
       "      <td>0.08</td>\n",
       "      <td>C0000744</td>\n",
       "      <td>Abetalipoproteinemia</td>\n",
       "      <td>disease</td>\n",
       "      <td>C16;C18</td>\n",
       "      <td>Disease or Syndrome</td>\n",
       "      <td>0.7</td>\n",
       "      <td>1.0</td>\n",
       "      <td>1996.0</td>\n",
       "      <td>2015.0</td>\n",
       "      <td>22236406.0</td>\n",
       "      <td>UNIPROT</td>\n",
       "    </tr>\n",
       "    <tr>\n",
       "      <th>185782</th>\n",
       "      <td>rs1367079155</td>\n",
       "      <td>4</td>\n",
       "      <td>99594764</td>\n",
       "      <td>1.0</td>\n",
       "      <td>0.08</td>\n",
       "      <td>C0000744</td>\n",
       "      <td>Abetalipoproteinemia</td>\n",
       "      <td>disease</td>\n",
       "      <td>C16;C18</td>\n",
       "      <td>Disease or Syndrome</td>\n",
       "      <td>0.7</td>\n",
       "      <td>1.0</td>\n",
       "      <td>1996.0</td>\n",
       "      <td>2015.0</td>\n",
       "      <td>10946006.0</td>\n",
       "      <td>UNIPROT</td>\n",
       "    </tr>\n",
       "    <tr>\n",
       "      <th>185783</th>\n",
       "      <td>rs1367079155</td>\n",
       "      <td>4</td>\n",
       "      <td>99594764</td>\n",
       "      <td>1.0</td>\n",
       "      <td>0.08</td>\n",
       "      <td>C0000744</td>\n",
       "      <td>Abetalipoproteinemia</td>\n",
       "      <td>disease</td>\n",
       "      <td>C16;C18</td>\n",
       "      <td>Disease or Syndrome</td>\n",
       "      <td>0.7</td>\n",
       "      <td>1.0</td>\n",
       "      <td>1996.0</td>\n",
       "      <td>2015.0</td>\n",
       "      <td>23475612.0</td>\n",
       "      <td>UNIPROT</td>\n",
       "    </tr>\n",
       "    <tr>\n",
       "      <th>185784</th>\n",
       "      <td>rs1367079155</td>\n",
       "      <td>4</td>\n",
       "      <td>99594764</td>\n",
       "      <td>1.0</td>\n",
       "      <td>0.08</td>\n",
       "      <td>C0000744</td>\n",
       "      <td>Abetalipoproteinemia</td>\n",
       "      <td>disease</td>\n",
       "      <td>C16;C18</td>\n",
       "      <td>Disease or Syndrome</td>\n",
       "      <td>0.7</td>\n",
       "      <td>1.0</td>\n",
       "      <td>1996.0</td>\n",
       "      <td>2015.0</td>\n",
       "      <td>26224785.0</td>\n",
       "      <td>UNIPROT</td>\n",
       "    </tr>\n",
       "    <tr>\n",
       "      <th>185785</th>\n",
       "      <td>rs1367079155</td>\n",
       "      <td>4</td>\n",
       "      <td>99594764</td>\n",
       "      <td>1.0</td>\n",
       "      <td>0.08</td>\n",
       "      <td>C0000744</td>\n",
       "      <td>Abetalipoproteinemia</td>\n",
       "      <td>disease</td>\n",
       "      <td>C16;C18</td>\n",
       "      <td>Disease or Syndrome</td>\n",
       "      <td>0.7</td>\n",
       "      <td>1.0</td>\n",
       "      <td>1996.0</td>\n",
       "      <td>2015.0</td>\n",
       "      <td>8939939.0</td>\n",
       "      <td>UNIPROT</td>\n",
       "    </tr>\n",
       "    <tr>\n",
       "      <th>185786</th>\n",
       "      <td>rs1367079155</td>\n",
       "      <td>4</td>\n",
       "      <td>99594764</td>\n",
       "      <td>1.0</td>\n",
       "      <td>0.08</td>\n",
       "      <td>C0000744</td>\n",
       "      <td>Abetalipoproteinemia</td>\n",
       "      <td>disease</td>\n",
       "      <td>C16;C18</td>\n",
       "      <td>Disease or Syndrome</td>\n",
       "      <td>0.7</td>\n",
       "      <td>1.0</td>\n",
       "      <td>1996.0</td>\n",
       "      <td>2015.0</td>\n",
       "      <td>10679949.0</td>\n",
       "      <td>UNIPROT</td>\n",
       "    </tr>\n",
       "  </tbody>\n",
       "</table>\n",
       "</div>"
      ],
      "text/plain": [
       "               snpId chromosome  position  DSI   DPI diseaseId  \\\n",
       "185780  rs1367079155          4  99594764  1.0  0.08  C0000744   \n",
       "185781  rs1367079155          4  99594764  1.0  0.08  C0000744   \n",
       "185782  rs1367079155          4  99594764  1.0  0.08  C0000744   \n",
       "185783  rs1367079155          4  99594764  1.0  0.08  C0000744   \n",
       "185784  rs1367079155          4  99594764  1.0  0.08  C0000744   \n",
       "185785  rs1367079155          4  99594764  1.0  0.08  C0000744   \n",
       "185786  rs1367079155          4  99594764  1.0  0.08  C0000744   \n",
       "\n",
       "                 diseaseName diseaseType diseaseClass  diseaseSemanticType  \\\n",
       "185780  Abetalipoproteinemia     disease      C16;C18  Disease or Syndrome   \n",
       "185781  Abetalipoproteinemia     disease      C16;C18  Disease or Syndrome   \n",
       "185782  Abetalipoproteinemia     disease      C16;C18  Disease or Syndrome   \n",
       "185783  Abetalipoproteinemia     disease      C16;C18  Disease or Syndrome   \n",
       "185784  Abetalipoproteinemia     disease      C16;C18  Disease or Syndrome   \n",
       "185785  Abetalipoproteinemia     disease      C16;C18  Disease or Syndrome   \n",
       "185786  Abetalipoproteinemia     disease      C16;C18  Disease or Syndrome   \n",
       "\n",
       "        score   EI  YearInitial  YearFinal        pmid   source  \n",
       "185780    0.7  1.0       1996.0     2015.0  25108285.0  UNIPROT  \n",
       "185781    0.7  1.0       1996.0     2015.0  22236406.0  UNIPROT  \n",
       "185782    0.7  1.0       1996.0     2015.0  10946006.0  UNIPROT  \n",
       "185783    0.7  1.0       1996.0     2015.0  23475612.0  UNIPROT  \n",
       "185784    0.7  1.0       1996.0     2015.0  26224785.0  UNIPROT  \n",
       "185785    0.7  1.0       1996.0     2015.0   8939939.0  UNIPROT  \n",
       "185786    0.7  1.0       1996.0     2015.0  10679949.0  UNIPROT  "
      ]
     },
     "execution_count": 54,
     "metadata": {},
     "output_type": "execute_result"
    }
   ],
   "source": [
    "allgene_pmid[(allgene_pmid['diseaseId'] == 'C0000744') &\n",
    "             (allgene_pmid['snpId'] == 'rs1367079155')]"
   ]
  },
  {
   "cell_type": "code",
   "execution_count": 3,
   "metadata": {
    "ExecuteTime": {
     "end_time": "2021-01-22T00:08:06.134110Z",
     "start_time": "2021-01-22T00:08:05.652992Z"
    }
   },
   "outputs": [
    {
     "data": {
      "text/plain": [
       "Index(['#DatabaseID', 'DiseaseName', 'Qualifier', 'HPO_ID', 'Reference',\n",
       "       'Evidence', 'Onset', 'Frequency', 'Sex', 'Modifier', 'Aspect',\n",
       "       'Biocuration'],\n",
       "      dtype='object')"
      ]
     },
     "execution_count": 3,
     "metadata": {},
     "output_type": "execute_result"
    },
    {
     "data": {
      "text/plain": [
       "(214124, 12)"
      ]
     },
     "execution_count": 3,
     "metadata": {},
     "output_type": "execute_result"
    }
   ],
   "source": [
    "HPO_path = pathlib.Path.home().joinpath('Desktop', 'ScrippsJob', 'phenotype.hpoa')\n",
    "hpoa = pd.read_table(HPO_path, sep=\"\\t\", skiprows=4, \n",
    "                    dtype=str)\n",
    "hpoa.columns\n",
    "hpoa.shape"
   ]
  },
  {
   "cell_type": "code",
   "execution_count": 4,
   "metadata": {
    "ExecuteTime": {
     "end_time": "2021-01-22T00:08:08.392180Z",
     "start_time": "2021-01-22T00:08:08.389069Z"
    }
   },
   "outputs": [],
   "source": [
    "## rename\n",
    "hpoa.columns = ['DatabaseID', 'DiseaseName', 'Qualifier', 'HPO_ID', 'Reference',\n",
    "                'Evidence', 'Onset', 'Frequency', 'Sex', 'Modifier', 'Aspect',\n",
    "                'Biocuration']"
   ]
  },
  {
   "cell_type": "markdown",
   "metadata": {},
   "source": [
    "## Look at DatabaseID, HPO_ID"
   ]
  },
  {
   "cell_type": "markdown",
   "metadata": {},
   "source": [
    "- DatabaseID = disease's ID, HPO_ID = phenotype-related ID (HPO terms)\n",
    "- Almost all of the database uses OMIM or ORPHA disease IDs, a little bit of the database has DECIPHER IDs.  \n",
    "- Only 1 DatabaseID and 1 HPO_ID per row   \n",
    "- There are 12003 unique disease IDs, 9566 unique phenotype-related IDs (HPO terms)\n",
    "\n"
   ]
  },
  {
   "cell_type": "code",
   "execution_count": null,
   "metadata": {
    "ExecuteTime": {
     "end_time": "2020-12-31T01:14:50.398541Z",
     "start_time": "2020-12-31T01:14:49.877572Z"
    }
   },
   "outputs": [],
   "source": [
    "hpoa.DatabaseID.str.contains(';').value_counts()\n",
    "hpoa.DatabaseID.str.extract('(.*):').value_counts()\n",
    "112180+101648+296 == 214124\n",
    "hpoa.DatabaseID.nunique()"
   ]
  },
  {
   "cell_type": "code",
   "execution_count": null,
   "metadata": {
    "ExecuteTime": {
     "end_time": "2020-12-31T01:14:50.634408Z",
     "start_time": "2020-12-31T01:14:50.401561Z"
    }
   },
   "outputs": [],
   "source": [
    "hpoa.HPO_ID.str.contains(';').value_counts()\n",
    "hpoa.HPO_ID.str.contains('HP:').value_counts()\n",
    "hpoa.HPO_ID.nunique()"
   ]
  },
  {
   "cell_type": "code",
   "execution_count": null,
   "metadata": {
    "ExecuteTime": {
     "end_time": "2021-01-03T00:08:19.522762Z",
     "start_time": "2021-01-03T00:08:19.419142Z"
    }
   },
   "outputs": [],
   "source": [
    "hpoa[hpoa.DatabaseID.str.contains('DECIPHER:')].DatabaseID.nunique()"
   ]
  },
  {
   "cell_type": "markdown",
   "metadata": {},
   "source": [
    "## won't use: Look at DiseaseName"
   ]
  },
  {
   "cell_type": "markdown",
   "metadata": {},
   "source": [
    "Only OMIM DiseaseNames are hard to parse (have \";\" delimited, meaning multiple names). OMIM DiseaseNames also have weird \";;\". Thinking of fields like this as \"lists in string form\" or \"free text\" (not simple labels or categorical variables). \n",
    "\n",
    "It looks like having \" or \" or \", \" in the DiseaseName does NOT mean multiple names"
   ]
  },
  {
   "cell_type": "code",
   "execution_count": null,
   "metadata": {
    "ExecuteTime": {
     "end_time": "2020-12-31T01:14:51.061522Z",
     "start_time": "2020-12-31T01:14:50.636882Z"
    }
   },
   "outputs": [],
   "source": [
    "hpoa[hpoa['DatabaseID'].str.contains('OMIM')].DiseaseName.str.contains(';').value_counts()\n",
    "hpoa[hpoa['DatabaseID'].str.contains('ORPHA')].DiseaseName.str.contains(';').value_counts()\n",
    "hpoa[hpoa['DatabaseID'].str.contains('DECIPHER')].DiseaseName.str.contains(';').value_counts()"
   ]
  },
  {
   "cell_type": "code",
   "execution_count": null,
   "metadata": {
    "ExecuteTime": {
     "end_time": "2021-01-01T06:42:17.571640Z",
     "start_time": "2021-01-01T06:42:17.406992Z"
    }
   },
   "outputs": [],
   "source": [
    "## huh so Orphanet only gives P and C annotations\n",
    "hpoa[hpoa['DatabaseID'].str.contains('ORPHA')].Aspect.value_counts()"
   ]
  },
  {
   "cell_type": "markdown",
   "metadata": {},
   "source": [
    "## NEED DECISION: Qualifier"
   ]
  },
  {
   "cell_type": "markdown",
   "metadata": {},
   "source": [
    "There are 1464 rows with annotations saying this disease DOES NOT have this phenotypic abnormality (aspect = \"P\"). Downstream services need to be able to deal with this, or we have to take these annotations out. "
   ]
  },
  {
   "cell_type": "code",
   "execution_count": 28,
   "metadata": {
    "ExecuteTime": {
     "end_time": "2021-01-19T23:10:33.916794Z",
     "start_time": "2021-01-19T23:10:33.889587Z"
    }
   },
   "outputs": [
    {
     "data": {
      "text/plain": [
       "NOT    1464\n",
       "Name: Qualifier, dtype: int64"
      ]
     },
     "execution_count": 28,
     "metadata": {},
     "output_type": "execute_result"
    },
    {
     "data": {
      "text/plain": [
       "P    1464\n",
       "Name: Aspect, dtype: int64"
      ]
     },
     "execution_count": 28,
     "metadata": {},
     "output_type": "execute_result"
    }
   ],
   "source": [
    "hpoa['Qualifier'].value_counts()\n",
    "hpoa[hpoa['Qualifier'] == \"NOT\"].Aspect.value_counts()"
   ]
  },
  {
   "cell_type": "code",
   "execution_count": 29,
   "metadata": {
    "ExecuteTime": {
     "end_time": "2021-01-19T23:12:07.938606Z",
     "start_time": "2021-01-19T23:12:07.910790Z"
    }
   },
   "outputs": [
    {
     "data": {
      "text/html": [
       "<div>\n",
       "<style scoped>\n",
       "    .dataframe tbody tr th:only-of-type {\n",
       "        vertical-align: middle;\n",
       "    }\n",
       "\n",
       "    .dataframe tbody tr th {\n",
       "        vertical-align: top;\n",
       "    }\n",
       "\n",
       "    .dataframe thead th {\n",
       "        text-align: right;\n",
       "    }\n",
       "</style>\n",
       "<table border=\"1\" class=\"dataframe\">\n",
       "  <thead>\n",
       "    <tr style=\"text-align: right;\">\n",
       "      <th></th>\n",
       "      <th>DatabaseID</th>\n",
       "      <th>DiseaseName</th>\n",
       "      <th>Qualifier</th>\n",
       "      <th>HPO_ID</th>\n",
       "      <th>Reference</th>\n",
       "      <th>Evidence</th>\n",
       "      <th>Onset</th>\n",
       "      <th>Frequency</th>\n",
       "      <th>Sex</th>\n",
       "      <th>Modifier</th>\n",
       "      <th>Aspect</th>\n",
       "      <th>Biocuration</th>\n",
       "    </tr>\n",
       "  </thead>\n",
       "  <tbody>\n",
       "    <tr>\n",
       "      <th>158</th>\n",
       "      <td>OMIM:605822</td>\n",
       "      <td>#605822 SPONDYLOOCULAR SYNDROME; SOS</td>\n",
       "      <td>NOT</td>\n",
       "      <td>HP:0000164</td>\n",
       "      <td>OMIM:605822</td>\n",
       "      <td>TAS</td>\n",
       "      <td>NaN</td>\n",
       "      <td>NaN</td>\n",
       "      <td>NaN</td>\n",
       "      <td>NaN</td>\n",
       "      <td>P</td>\n",
       "      <td>HPO:skoehler[2015-08-16]</td>\n",
       "    </tr>\n",
       "    <tr>\n",
       "      <th>162</th>\n",
       "      <td>OMIM:605822</td>\n",
       "      <td>#605822 SPONDYLOOCULAR SYNDROME; SOS</td>\n",
       "      <td>NOT</td>\n",
       "      <td>HP:0000591</td>\n",
       "      <td>OMIM:605822</td>\n",
       "      <td>TAS</td>\n",
       "      <td>NaN</td>\n",
       "      <td>NaN</td>\n",
       "      <td>NaN</td>\n",
       "      <td>NaN</td>\n",
       "      <td>P</td>\n",
       "      <td>HPO:skoehler[2015-08-16]</td>\n",
       "    </tr>\n",
       "    <tr>\n",
       "      <th>187</th>\n",
       "      <td>OMIM:127350</td>\n",
       "      <td>127350 DYSCHONDROSTEOSIS AND NEPHRITIS</td>\n",
       "      <td>NOT</td>\n",
       "      <td>HP:0001249</td>\n",
       "      <td>OMIM:127350</td>\n",
       "      <td>TAS</td>\n",
       "      <td>NaN</td>\n",
       "      <td>NaN</td>\n",
       "      <td>NaN</td>\n",
       "      <td>NaN</td>\n",
       "      <td>P</td>\n",
       "      <td>HPO:skoehler[2014-11-26]</td>\n",
       "    </tr>\n",
       "    <tr>\n",
       "      <th>322</th>\n",
       "      <td>OMIM:278750</td>\n",
       "      <td>XERODERMA PIGMENTOSUM, VARIANT TYPE</td>\n",
       "      <td>NOT</td>\n",
       "      <td>HP:0000252</td>\n",
       "      <td>OMIM:278750</td>\n",
       "      <td>TAS</td>\n",
       "      <td>NaN</td>\n",
       "      <td>NaN</td>\n",
       "      <td>NaN</td>\n",
       "      <td>NaN</td>\n",
       "      <td>P</td>\n",
       "      <td>HPO:probinson[2012-08-01]</td>\n",
       "    </tr>\n",
       "    <tr>\n",
       "      <th>334</th>\n",
       "      <td>OMIM:278750</td>\n",
       "      <td>XERODERMA PIGMENTOSUM, VARIANT TYPE</td>\n",
       "      <td>NOT</td>\n",
       "      <td>HP:0001510</td>\n",
       "      <td>OMIM:278750</td>\n",
       "      <td>TAS</td>\n",
       "      <td>NaN</td>\n",
       "      <td>NaN</td>\n",
       "      <td>NaN</td>\n",
       "      <td>NaN</td>\n",
       "      <td>P</td>\n",
       "      <td>HPO:probinson[2012-08-01]</td>\n",
       "    </tr>\n",
       "    <tr>\n",
       "      <th>...</th>\n",
       "      <td>...</td>\n",
       "      <td>...</td>\n",
       "      <td>...</td>\n",
       "      <td>...</td>\n",
       "      <td>...</td>\n",
       "      <td>...</td>\n",
       "      <td>...</td>\n",
       "      <td>...</td>\n",
       "      <td>...</td>\n",
       "      <td>...</td>\n",
       "      <td>...</td>\n",
       "      <td>...</td>\n",
       "    </tr>\n",
       "    <tr>\n",
       "      <th>213455</th>\n",
       "      <td>ORPHA:79284</td>\n",
       "      <td>Methylmalonic acidemia with homocystinuria typ...</td>\n",
       "      <td>NOT</td>\n",
       "      <td>HP:0003658</td>\n",
       "      <td>ORPHA:79284</td>\n",
       "      <td>TAS</td>\n",
       "      <td>NaN</td>\n",
       "      <td>NaN</td>\n",
       "      <td>NaN</td>\n",
       "      <td>NaN</td>\n",
       "      <td>P</td>\n",
       "      <td>ORPHA:orphadata[2020-12-09]</td>\n",
       "    </tr>\n",
       "    <tr>\n",
       "      <th>213471</th>\n",
       "      <td>ORPHA:556030</td>\n",
       "      <td>Early-onset familial hypoaldosteronism</td>\n",
       "      <td>NOT</td>\n",
       "      <td>HP:0000811</td>\n",
       "      <td>ORPHA:556030</td>\n",
       "      <td>TAS</td>\n",
       "      <td>NaN</td>\n",
       "      <td>NaN</td>\n",
       "      <td>NaN</td>\n",
       "      <td>NaN</td>\n",
       "      <td>P</td>\n",
       "      <td>ORPHA:orphadata[2020-12-09]</td>\n",
       "    </tr>\n",
       "    <tr>\n",
       "      <th>213933</th>\n",
       "      <td>ORPHA:79273</td>\n",
       "      <td>Hereditary coproporphyria</td>\n",
       "      <td>NOT</td>\n",
       "      <td>HP:0001903</td>\n",
       "      <td>ORPHA:79273</td>\n",
       "      <td>TAS</td>\n",
       "      <td>NaN</td>\n",
       "      <td>NaN</td>\n",
       "      <td>NaN</td>\n",
       "      <td>NaN</td>\n",
       "      <td>P</td>\n",
       "      <td>ORPHA:orphadata[2020-12-09]</td>\n",
       "    </tr>\n",
       "    <tr>\n",
       "      <th>213934</th>\n",
       "      <td>ORPHA:79273</td>\n",
       "      <td>Hereditary coproporphyria</td>\n",
       "      <td>NOT</td>\n",
       "      <td>HP:0001945</td>\n",
       "      <td>ORPHA:79273</td>\n",
       "      <td>TAS</td>\n",
       "      <td>NaN</td>\n",
       "      <td>NaN</td>\n",
       "      <td>NaN</td>\n",
       "      <td>NaN</td>\n",
       "      <td>P</td>\n",
       "      <td>ORPHA:orphadata[2020-12-09]</td>\n",
       "    </tr>\n",
       "    <tr>\n",
       "      <th>213985</th>\n",
       "      <td>ORPHA:79276</td>\n",
       "      <td>Acute intermittent porphyria</td>\n",
       "      <td>NOT</td>\n",
       "      <td>HP:0011121</td>\n",
       "      <td>ORPHA:79276</td>\n",
       "      <td>TAS</td>\n",
       "      <td>NaN</td>\n",
       "      <td>NaN</td>\n",
       "      <td>NaN</td>\n",
       "      <td>NaN</td>\n",
       "      <td>P</td>\n",
       "      <td>ORPHA:orphadata[2020-12-09]</td>\n",
       "    </tr>\n",
       "  </tbody>\n",
       "</table>\n",
       "<p>1464 rows × 12 columns</p>\n",
       "</div>"
      ],
      "text/plain": [
       "          DatabaseID                                        DiseaseName  \\\n",
       "158      OMIM:605822               #605822 SPONDYLOOCULAR SYNDROME; SOS   \n",
       "162      OMIM:605822               #605822 SPONDYLOOCULAR SYNDROME; SOS   \n",
       "187      OMIM:127350             127350 DYSCHONDROSTEOSIS AND NEPHRITIS   \n",
       "322      OMIM:278750                XERODERMA PIGMENTOSUM, VARIANT TYPE   \n",
       "334      OMIM:278750                XERODERMA PIGMENTOSUM, VARIANT TYPE   \n",
       "...              ...                                                ...   \n",
       "213455   ORPHA:79284  Methylmalonic acidemia with homocystinuria typ...   \n",
       "213471  ORPHA:556030             Early-onset familial hypoaldosteronism   \n",
       "213933   ORPHA:79273                          Hereditary coproporphyria   \n",
       "213934   ORPHA:79273                          Hereditary coproporphyria   \n",
       "213985   ORPHA:79276                       Acute intermittent porphyria   \n",
       "\n",
       "       Qualifier      HPO_ID     Reference Evidence Onset Frequency  Sex  \\\n",
       "158          NOT  HP:0000164   OMIM:605822      TAS   NaN       NaN  NaN   \n",
       "162          NOT  HP:0000591   OMIM:605822      TAS   NaN       NaN  NaN   \n",
       "187          NOT  HP:0001249   OMIM:127350      TAS   NaN       NaN  NaN   \n",
       "322          NOT  HP:0000252   OMIM:278750      TAS   NaN       NaN  NaN   \n",
       "334          NOT  HP:0001510   OMIM:278750      TAS   NaN       NaN  NaN   \n",
       "...          ...         ...           ...      ...   ...       ...  ...   \n",
       "213455       NOT  HP:0003658   ORPHA:79284      TAS   NaN       NaN  NaN   \n",
       "213471       NOT  HP:0000811  ORPHA:556030      TAS   NaN       NaN  NaN   \n",
       "213933       NOT  HP:0001903   ORPHA:79273      TAS   NaN       NaN  NaN   \n",
       "213934       NOT  HP:0001945   ORPHA:79273      TAS   NaN       NaN  NaN   \n",
       "213985       NOT  HP:0011121   ORPHA:79276      TAS   NaN       NaN  NaN   \n",
       "\n",
       "       Modifier Aspect                  Biocuration  \n",
       "158         NaN      P     HPO:skoehler[2015-08-16]  \n",
       "162         NaN      P     HPO:skoehler[2015-08-16]  \n",
       "187         NaN      P     HPO:skoehler[2014-11-26]  \n",
       "322         NaN      P    HPO:probinson[2012-08-01]  \n",
       "334         NaN      P    HPO:probinson[2012-08-01]  \n",
       "...         ...    ...                          ...  \n",
       "213455      NaN      P  ORPHA:orphadata[2020-12-09]  \n",
       "213471      NaN      P  ORPHA:orphadata[2020-12-09]  \n",
       "213933      NaN      P  ORPHA:orphadata[2020-12-09]  \n",
       "213934      NaN      P  ORPHA:orphadata[2020-12-09]  \n",
       "213985      NaN      P  ORPHA:orphadata[2020-12-09]  \n",
       "\n",
       "[1464 rows x 12 columns]"
      ]
     },
     "execution_count": 29,
     "metadata": {},
     "output_type": "execute_result"
    }
   ],
   "source": [
    "hpoa[hpoa['Qualifier'] == \"NOT\"]"
   ]
  },
  {
   "cell_type": "markdown",
   "metadata": {},
   "source": [
    "## NEED DECISION: Aspect"
   ]
  },
  {
   "cell_type": "markdown",
   "metadata": {},
   "source": [
    "So...'P' are the Disease - PhenotypicFeature annotations\n",
    "\n",
    "I want to edit parsing to treat 'I' (disease inheritance) annots like the other two 'C' (disease clinical course) and 'M' (disease modifier). What to do with this (annotate disease nodes?).  \n",
    "\n",
    "But the extra trickiness is that these annots come with baggage...Reference, Frequency, Sex, Modifier info. It's hard to know how to structure this. "
   ]
  },
  {
   "cell_type": "code",
   "execution_count": null,
   "metadata": {
    "ExecuteTime": {
     "end_time": "2020-12-31T01:14:51.125718Z",
     "start_time": "2020-12-31T01:14:51.093563Z"
    }
   },
   "outputs": [],
   "source": [
    "hpoa.Aspect.value_counts()"
   ]
  },
  {
   "cell_type": "code",
   "execution_count": null,
   "metadata": {
    "ExecuteTime": {
     "end_time": "2020-12-31T01:14:51.152888Z",
     "start_time": "2020-12-31T01:14:51.128746Z"
    }
   },
   "outputs": [],
   "source": [
    "hpoa[hpoa['Aspect'] != 'P'].count()"
   ]
  },
  {
   "cell_type": "markdown",
   "metadata": {},
   "source": [
    "## NEED DECISION: Reference"
   ]
  },
  {
   "cell_type": "markdown",
   "metadata": {},
   "source": [
    "### Intro"
   ]
  },
  {
   "cell_type": "markdown",
   "metadata": {},
   "source": [
    "This column (every row has a value) is tricky because...  \n",
    "- it is \";\" delimited: ~ 900 rows have multiple values. Max number of values is 7 o_0. \n",
    "- there are multiple kinds of IDs: DECIPHER, ISBN, ISBN-10, ISBN-13, OMIM, ORPHA, PMID and websites (http and https)\n",
    "\n",
    "So....with the current metadata, publications would be ISBN, ISBN-10, ISBN-13, and PMID (separate by ID namespace).     \n",
    "Websites would be http, https, OMIM, ORPHA, DECIPHER (construct URLs, then keep all together). "
   ]
  },
  {
   "cell_type": "code",
   "execution_count": null,
   "metadata": {
    "ExecuteTime": {
     "end_time": "2020-12-31T01:14:51.335076Z",
     "start_time": "2020-12-31T01:14:51.155631Z"
    }
   },
   "outputs": [],
   "source": [
    "references = hpoa.Reference.str.split(';')"
   ]
  },
  {
   "cell_type": "code",
   "execution_count": null,
   "metadata": {
    "ExecuteTime": {
     "end_time": "2020-12-31T01:14:51.543851Z",
     "start_time": "2020-12-31T01:14:51.336827Z"
    }
   },
   "outputs": [],
   "source": [
    "## see how many rows have multiple references\n",
    "count = []\n",
    "for i in references:\n",
    "    count.append(len(i))\n",
    "pd.Series(count).value_counts()"
   ]
  },
  {
   "cell_type": "code",
   "execution_count": null,
   "metadata": {
    "ExecuteTime": {
     "end_time": "2020-12-31T01:14:51.977826Z",
     "start_time": "2020-12-31T01:14:51.545664Z"
    }
   },
   "outputs": [],
   "source": [
    "## what prefixes are there?\n",
    "set_prefixes = set()\n",
    "p = re.compile(\"(.*):\")\n",
    "for i in references:\n",
    "    for n in i:\n",
    "        tempPrefix = p.findall(n)\n",
    "        set_prefixes.update(tempPrefix)"
   ]
  },
  {
   "cell_type": "code",
   "execution_count": null,
   "metadata": {
    "ExecuteTime": {
     "end_time": "2020-12-31T01:14:51.985239Z",
     "start_time": "2020-12-31T01:14:51.979474Z"
    },
    "scrolled": true
   },
   "outputs": [],
   "source": [
    "set_prefixes"
   ]
  },
  {
   "cell_type": "markdown",
   "metadata": {},
   "source": [
    "### Some EDA"
   ]
  },
  {
   "cell_type": "markdown",
   "metadata": {},
   "source": [
    "So...223 rows have a single DECIPHER IDs as their \"reference\"."
   ]
  },
  {
   "cell_type": "code",
   "execution_count": null,
   "metadata": {
    "ExecuteTime": {
     "end_time": "2020-12-31T01:14:52.366446Z",
     "start_time": "2020-12-31T01:14:51.987377Z"
    }
   },
   "outputs": [],
   "source": [
    "hpoa.Reference.str.contains('DECIPHER').value_counts()\n",
    "hpoa[(hpoa.Reference.str.contains('DECIPHER')) &\n",
    "     (hpoa.Reference.str.contains(';'))]\n",
    "\n",
    "hpoa[(hpoa.Reference.str.contains('DECIPHER'))].head()"
   ]
  },
  {
   "cell_type": "markdown",
   "metadata": {},
   "source": [
    "So...\n",
    "- 1 row has a single ISBN ID \n",
    "- 8 rows have a single ISBN-10 ID (1 unique value)\n",
    "- 431 rows have ISBN-13 ID as reference\n",
    "  - 45 of those rows have more than one reference; you can see mixes with OMIM and http IDs..."
   ]
  },
  {
   "cell_type": "code",
   "execution_count": 5,
   "metadata": {
    "ExecuteTime": {
     "end_time": "2021-01-22T00:08:25.224916Z",
     "start_time": "2021-01-22T00:08:24.525405Z"
    }
   },
   "outputs": [
    {
     "data": {
      "text/plain": [
       "21064    ISBN:3642035590\n",
       "Name: Reference, dtype: object"
      ]
     },
     "execution_count": 5,
     "metadata": {},
     "output_type": "execute_result"
    },
    {
     "data": {
      "text/plain": [
       "84480    ISBN-10:0-19-262896-8\n",
       "84482    ISBN-10:0-19-262896-8\n",
       "84483    ISBN-10:0-19-262896-8\n",
       "84484    ISBN-10:0-19-262896-8\n",
       "84488    ISBN-10:0-19-262896-8\n",
       "84489    ISBN-10:0-19-262896-8\n",
       "84492    ISBN-10:0-19-262896-8\n",
       "84494    ISBN-10:0-19-262896-8\n",
       "Name: Reference, dtype: object"
      ]
     },
     "execution_count": 5,
     "metadata": {},
     "output_type": "execute_result"
    },
    {
     "data": {
      "text/plain": [
       "False    213693\n",
       "True        431\n",
       "Name: Reference, dtype: int64"
      ]
     },
     "execution_count": 5,
     "metadata": {},
     "output_type": "execute_result"
    },
    {
     "data": {
      "text/plain": [
       "(45, 12)"
      ]
     },
     "execution_count": 5,
     "metadata": {},
     "output_type": "execute_result"
    },
    {
     "data": {
      "text/plain": [
       "['http://www.ncbi.nlm.nih.gov/bookshelf/br.fcgi?book=gene&part=ofd1;ISBN-13:978-0721606156',\n",
       " 'http://www.ncbi.nlm.nih.gov/bookshelf/br.fcgi?book=gene&part=ofd1;ISBN-13:978-0721606156',\n",
       " 'ISBN-13:978-0721606156;OMIM:252100',\n",
       " 'http://www.ncbi.nlm.nih.gov/bookshelf/br.fcgi?book=gene&part=ofd1;ISBN-13:978-0721606156',\n",
       " 'http://www.ncbi.nlm.nih.gov/bookshelf/br.fcgi?book=gene&part=ofd1;ISBN-13:978-0721606156']"
      ]
     },
     "execution_count": 5,
     "metadata": {},
     "output_type": "execute_result"
    }
   ],
   "source": [
    "hpoa[hpoa.Reference.str.contains('ISBN:')].Reference\n",
    "hpoa[hpoa.Reference.str.contains('ISBN-10:')].Reference\n",
    "hpoa.Reference.str.contains('ISBN-13:').value_counts()\n",
    "hpoa[(hpoa.Reference.str.contains('ISBN-13:')) &\n",
    "     (hpoa.Reference.str.contains(';'))].shape\n",
    "hpoa[(hpoa.Reference.str.contains('ISBN-13:')) &\n",
    "     (hpoa.Reference.str.contains(';'))].head().Reference.to_list()"
   ]
  },
  {
   "cell_type": "code",
   "execution_count": 9,
   "metadata": {
    "ExecuteTime": {
     "end_time": "2021-01-22T00:21:39.280230Z",
     "start_time": "2021-01-22T00:21:39.166041Z"
    }
   },
   "outputs": [
    {
     "data": {
      "text/html": [
       "<div>\n",
       "<style scoped>\n",
       "    .dataframe tbody tr th:only-of-type {\n",
       "        vertical-align: middle;\n",
       "    }\n",
       "\n",
       "    .dataframe tbody tr th {\n",
       "        vertical-align: top;\n",
       "    }\n",
       "\n",
       "    .dataframe thead th {\n",
       "        text-align: right;\n",
       "    }\n",
       "</style>\n",
       "<table border=\"1\" class=\"dataframe\">\n",
       "  <thead>\n",
       "    <tr style=\"text-align: right;\">\n",
       "      <th></th>\n",
       "      <th>DatabaseID</th>\n",
       "      <th>DiseaseName</th>\n",
       "      <th>Qualifier</th>\n",
       "      <th>HPO_ID</th>\n",
       "      <th>Reference</th>\n",
       "      <th>Evidence</th>\n",
       "      <th>Onset</th>\n",
       "      <th>Frequency</th>\n",
       "      <th>Sex</th>\n",
       "      <th>Modifier</th>\n",
       "      <th>Aspect</th>\n",
       "      <th>Biocuration</th>\n",
       "    </tr>\n",
       "  </thead>\n",
       "  <tbody>\n",
       "    <tr>\n",
       "      <th>84480</th>\n",
       "      <td>OMIM:174900</td>\n",
       "      <td>JUVENILE POLYPOSIS SYNDROME JUVENILE INTESTINA...</td>\n",
       "      <td>NaN</td>\n",
       "      <td>HP:0002014</td>\n",
       "      <td>ISBN-10:0-19-262896-8</td>\n",
       "      <td>PCS</td>\n",
       "      <td>NaN</td>\n",
       "      <td>HP:0040282</td>\n",
       "      <td>NaN</td>\n",
       "      <td>NaN</td>\n",
       "      <td>P</td>\n",
       "      <td>HPO:iea[2009-02-17]</td>\n",
       "    </tr>\n",
       "    <tr>\n",
       "      <th>84482</th>\n",
       "      <td>OMIM:174900</td>\n",
       "      <td>JUVENILE POLYPOSIS SYNDROME JUVENILE INTESTINA...</td>\n",
       "      <td>NaN</td>\n",
       "      <td>HP:0002573</td>\n",
       "      <td>ISBN-10:0-19-262896-8</td>\n",
       "      <td>PCS</td>\n",
       "      <td>NaN</td>\n",
       "      <td>HP:0040283</td>\n",
       "      <td>NaN</td>\n",
       "      <td>NaN</td>\n",
       "      <td>P</td>\n",
       "      <td>HPO:iea[2009-02-17]</td>\n",
       "    </tr>\n",
       "    <tr>\n",
       "      <th>84483</th>\n",
       "      <td>OMIM:174900</td>\n",
       "      <td>JUVENILE POLYPOSIS SYNDROME JUVENILE INTESTINA...</td>\n",
       "      <td>NaN</td>\n",
       "      <td>HP:0002035</td>\n",
       "      <td>ISBN-10:0-19-262896-8</td>\n",
       "      <td>PCS</td>\n",
       "      <td>NaN</td>\n",
       "      <td>HP:0040283</td>\n",
       "      <td>NaN</td>\n",
       "      <td>NaN</td>\n",
       "      <td>P</td>\n",
       "      <td>HPO:iea[2009-02-17]</td>\n",
       "    </tr>\n",
       "    <tr>\n",
       "      <th>84484</th>\n",
       "      <td>OMIM:174900</td>\n",
       "      <td>JUVENILE POLYPOSIS SYNDROME JUVENILE INTESTINA...</td>\n",
       "      <td>NaN</td>\n",
       "      <td>HP:0003003</td>\n",
       "      <td>ISBN-10:0-19-262896-8</td>\n",
       "      <td>PCS</td>\n",
       "      <td>NaN</td>\n",
       "      <td>20%</td>\n",
       "      <td>NaN</td>\n",
       "      <td>NaN</td>\n",
       "      <td>P</td>\n",
       "      <td>HPO:iea[2009-02-17]</td>\n",
       "    </tr>\n",
       "    <tr>\n",
       "      <th>84488</th>\n",
       "      <td>OMIM:174900</td>\n",
       "      <td>JUVENILE POLYPOSIS SYNDROME JUVENILE INTESTINA...</td>\n",
       "      <td>NaN</td>\n",
       "      <td>HP:0001903</td>\n",
       "      <td>ISBN-10:0-19-262896-8</td>\n",
       "      <td>PCS</td>\n",
       "      <td>NaN</td>\n",
       "      <td>HP:0040282</td>\n",
       "      <td>NaN</td>\n",
       "      <td>NaN</td>\n",
       "      <td>P</td>\n",
       "      <td>HPO:iea[2009-02-17]</td>\n",
       "    </tr>\n",
       "    <tr>\n",
       "      <th>84489</th>\n",
       "      <td>OMIM:174900</td>\n",
       "      <td>JUVENILE POLYPOSIS SYNDROME JUVENILE INTESTINA...</td>\n",
       "      <td>NaN</td>\n",
       "      <td>HP:0006771</td>\n",
       "      <td>ISBN-10:0-19-262896-8</td>\n",
       "      <td>PCS</td>\n",
       "      <td>NaN</td>\n",
       "      <td>HP:0040283</td>\n",
       "      <td>NaN</td>\n",
       "      <td>NaN</td>\n",
       "      <td>P</td>\n",
       "      <td>HPO:iea[2010-06-08]</td>\n",
       "    </tr>\n",
       "    <tr>\n",
       "      <th>84492</th>\n",
       "      <td>OMIM:174900</td>\n",
       "      <td>JUVENILE POLYPOSIS SYNDROME JUVENILE INTESTINA...</td>\n",
       "      <td>NaN</td>\n",
       "      <td>HP:0006753</td>\n",
       "      <td>ISBN-10:0-19-262896-8</td>\n",
       "      <td>PCS</td>\n",
       "      <td>NaN</td>\n",
       "      <td>HP:0040283</td>\n",
       "      <td>NaN</td>\n",
       "      <td>NaN</td>\n",
       "      <td>P</td>\n",
       "      <td>HPO:iea[2010-06-08]</td>\n",
       "    </tr>\n",
       "    <tr>\n",
       "      <th>84494</th>\n",
       "      <td>OMIM:174900</td>\n",
       "      <td>JUVENILE POLYPOSIS SYNDROME JUVENILE INTESTINA...</td>\n",
       "      <td>NaN</td>\n",
       "      <td>HP:0002027</td>\n",
       "      <td>ISBN-10:0-19-262896-8</td>\n",
       "      <td>PCS</td>\n",
       "      <td>NaN</td>\n",
       "      <td>HP:0040282</td>\n",
       "      <td>NaN</td>\n",
       "      <td>NaN</td>\n",
       "      <td>P</td>\n",
       "      <td>HPO:iea[2009-02-17]</td>\n",
       "    </tr>\n",
       "  </tbody>\n",
       "</table>\n",
       "</div>"
      ],
      "text/plain": [
       "        DatabaseID                                        DiseaseName  \\\n",
       "84480  OMIM:174900  JUVENILE POLYPOSIS SYNDROME JUVENILE INTESTINA...   \n",
       "84482  OMIM:174900  JUVENILE POLYPOSIS SYNDROME JUVENILE INTESTINA...   \n",
       "84483  OMIM:174900  JUVENILE POLYPOSIS SYNDROME JUVENILE INTESTINA...   \n",
       "84484  OMIM:174900  JUVENILE POLYPOSIS SYNDROME JUVENILE INTESTINA...   \n",
       "84488  OMIM:174900  JUVENILE POLYPOSIS SYNDROME JUVENILE INTESTINA...   \n",
       "84489  OMIM:174900  JUVENILE POLYPOSIS SYNDROME JUVENILE INTESTINA...   \n",
       "84492  OMIM:174900  JUVENILE POLYPOSIS SYNDROME JUVENILE INTESTINA...   \n",
       "84494  OMIM:174900  JUVENILE POLYPOSIS SYNDROME JUVENILE INTESTINA...   \n",
       "\n",
       "      Qualifier      HPO_ID              Reference Evidence Onset   Frequency  \\\n",
       "84480       NaN  HP:0002014  ISBN-10:0-19-262896-8      PCS   NaN  HP:0040282   \n",
       "84482       NaN  HP:0002573  ISBN-10:0-19-262896-8      PCS   NaN  HP:0040283   \n",
       "84483       NaN  HP:0002035  ISBN-10:0-19-262896-8      PCS   NaN  HP:0040283   \n",
       "84484       NaN  HP:0003003  ISBN-10:0-19-262896-8      PCS   NaN         20%   \n",
       "84488       NaN  HP:0001903  ISBN-10:0-19-262896-8      PCS   NaN  HP:0040282   \n",
       "84489       NaN  HP:0006771  ISBN-10:0-19-262896-8      PCS   NaN  HP:0040283   \n",
       "84492       NaN  HP:0006753  ISBN-10:0-19-262896-8      PCS   NaN  HP:0040283   \n",
       "84494       NaN  HP:0002027  ISBN-10:0-19-262896-8      PCS   NaN  HP:0040282   \n",
       "\n",
       "       Sex Modifier Aspect          Biocuration  \n",
       "84480  NaN      NaN      P  HPO:iea[2009-02-17]  \n",
       "84482  NaN      NaN      P  HPO:iea[2009-02-17]  \n",
       "84483  NaN      NaN      P  HPO:iea[2009-02-17]  \n",
       "84484  NaN      NaN      P  HPO:iea[2009-02-17]  \n",
       "84488  NaN      NaN      P  HPO:iea[2009-02-17]  \n",
       "84489  NaN      NaN      P  HPO:iea[2010-06-08]  \n",
       "84492  NaN      NaN      P  HPO:iea[2010-06-08]  \n",
       "84494  NaN      NaN      P  HPO:iea[2009-02-17]  "
      ]
     },
     "execution_count": 9,
     "metadata": {},
     "output_type": "execute_result"
    }
   ],
   "source": [
    "hpoa[hpoa.Reference.str.contains('ISBN-10')]\n"
   ]
  },
  {
   "cell_type": "markdown",
   "metadata": {},
   "source": [
    "### Parsing to separate"
   ]
  },
  {
   "cell_type": "markdown",
   "metadata": {},
   "source": [
    "Creating new columns for reference information:\n",
    "- ISBN, ISBN-10, ISBN-13 -> put down as isbn\n",
    "- PMID \n",
    "- one column of websites, including....\n",
    "  - http, https (keep URLs)\n",
    "  - OMIM, DECIPHER (construct URLs, then keep all together)\n",
    "  - ORPHA (just give URL to search for disease, can't direct link to disease...)"
   ]
  },
  {
   "cell_type": "code",
   "execution_count": null,
   "metadata": {
    "ExecuteTime": {
     "end_time": "2020-12-31T01:14:54.171065Z",
     "start_time": "2020-12-31T01:14:52.996926Z"
    }
   },
   "outputs": [],
   "source": [
    "listISBN = []\n",
    "listISBN10 = []\n",
    "listISBN13 = []\n",
    "listPMID = []\n",
    "listWebsites = []\n",
    "\n",
    "for entry in references:   \n",
    "    tempISBN = []\n",
    "    tempISBN10 = []\n",
    "    tempISBN13 = []\n",
    "    tempPMID = []\n",
    "    tempWebsites = []\n",
    "    for i in entry:\n",
    "        if 'ISBN:' in i:\n",
    "            ## just substring for the rest\n",
    "            tempISBN.append(i[5:])\n",
    "        elif 'ISBN-10:' in i:\n",
    "            ## just substring for the rest\n",
    "            tempISBN10.append(i[8:])          \n",
    "        elif 'ISBN-13:' in i:\n",
    "            ## just substring for the rest\n",
    "            tempISBN13.append(i[8:])   \n",
    "        elif 'PMID:' in i:\n",
    "            ## just substring for the rest\n",
    "            tempPMID.append(i[5:])     \n",
    "        elif 'http' in i:\n",
    "        ## add http or https stuff straight to websites\n",
    "            tempWebsites.append(i)\n",
    "        elif 'DECIPHER:' in i:\n",
    "            ## create website url\n",
    "            tempID = i[9:]\n",
    "            tempStr = 'https://decipher.sanger.ac.uk/syndrome/{0}/overview'.format(tempID)\n",
    "            tempWebsites.append(tempStr)\n",
    "        elif 'OMIM:' in i:\n",
    "            ## create website url\n",
    "            tempID = i[5:]\n",
    "            tempStr = 'https://www.omim.org/entry/{0}'.format(tempID)\n",
    "            tempWebsites.append(tempStr)  \n",
    "        elif 'ORPHA:' in i:\n",
    "        ## it doesn't look like I can directly link this website >.<\n",
    "            tempWebsites.append('https://www.orpha.net/consor/cgi-bin/Disease.php?lng=EN')    \n",
    "        else:\n",
    "            print(\"encountered unexpected reference, please check parsing:\\n{0}\".format(i))\n",
    "    \n",
    "    if not tempISBN: ## is empty\n",
    "        listISBN.append(None)\n",
    "    else:\n",
    "        ## remove duplicates\n",
    "        tempISBN = list(set(tempISBN))\n",
    "        listISBN.append(tempISBN)    \n",
    "        \n",
    "    if not tempISBN10: ## is empty\n",
    "        listISBN10.append(None)\n",
    "    else:\n",
    "        ## remove duplicates\n",
    "        tempISBN10 = list(set(tempISBN10))\n",
    "        listISBN10.append(tempISBN10)  \n",
    "    \n",
    "    if not tempISBN13: ## is empty\n",
    "        listISBN13.append(None)\n",
    "    else:\n",
    "        ## remove duplicates\n",
    "        tempISBN13 = list(set(tempISBN13))\n",
    "        listISBN13.append(tempISBN13)     \n",
    "        \n",
    "    if not tempPMID: ## is empty\n",
    "        listPMID.append(None)\n",
    "    else:\n",
    "        ## remove duplicates\n",
    "        tempPMID = list(set(tempPMID))\n",
    "        listPMID.append(tempPMID)   \n",
    "        \n",
    "    if not tempWebsites: ## is empty\n",
    "        listWebsites.append(None)\n",
    "    else:\n",
    "        ## remove duplicates\n",
    "        tempWebsites = list(set(tempWebsites))\n",
    "        listWebsites.append(tempWebsites)          "
   ]
  },
  {
   "cell_type": "code",
   "execution_count": null,
   "metadata": {
    "ExecuteTime": {
     "end_time": "2020-12-31T01:14:54.326366Z",
     "start_time": "2020-12-31T01:14:54.173140Z"
    }
   },
   "outputs": [],
   "source": [
    "## create new columns\n",
    "hpoa = hpoa.assign(isbn = listISBN, isbn10 = listISBN10, isbn13 = listISBN13,\n",
    "                   pmid = listPMID, websites = listWebsites)"
   ]
  },
  {
   "cell_type": "markdown",
   "metadata": {},
   "source": [
    "## won't use: Evidence"
   ]
  },
  {
   "cell_type": "markdown",
   "metadata": {},
   "source": [
    "Every row has one value, either IEA, PCS, or TAS.  \n",
    "I don't think I can use this for provenance easily though, since...\n",
    "* sometimes Evidence says IEA but Biocuration has a person's ID\n",
    "* sometimes Evidence isn't IEA but Biocuration says iea "
   ]
  },
  {
   "cell_type": "code",
   "execution_count": null,
   "metadata": {
    "ExecuteTime": {
     "end_time": "2020-12-31T01:14:54.363529Z",
     "start_time": "2020-12-31T01:14:54.328431Z"
    }
   },
   "outputs": [],
   "source": [
    "hpoa.Evidence.value_counts()\n",
    "hpoa.Evidence.count()"
   ]
  },
  {
   "cell_type": "code",
   "execution_count": null,
   "metadata": {
    "ExecuteTime": {
     "end_time": "2020-12-31T01:14:54.706249Z",
     "start_time": "2020-12-31T01:14:54.365213Z"
    }
   },
   "outputs": [],
   "source": [
    "## showing that evidence is IEA but Biocuration isn't: happens for ~2/5 of the IEA entries\n",
    "hpoa[(hpoa['Evidence'] == 'IEA') &\n",
    "     (~ hpoa['Biocuration'].str.contains('iea'))].shape\n",
    "hpoa[(hpoa['Evidence'] == 'IEA') &\n",
    "     (~ hpoa['Biocuration'].str.contains('iea'))].head()"
   ]
  },
  {
   "cell_type": "code",
   "execution_count": null,
   "metadata": {
    "ExecuteTime": {
     "end_time": "2020-12-31T01:14:54.948586Z",
     "start_time": "2020-12-31T01:14:54.708213Z"
    }
   },
   "outputs": [],
   "source": [
    "## showing that evidence isn't but Biocuration is (a small percentage of the rows)\n",
    "4383/(142433+19903)\n",
    "hpoa[(hpoa['Evidence'] != 'IEA') &\n",
    "     (hpoa['Biocuration'].str.contains('iea'))].shape\n",
    "hpoa[(hpoa['Evidence'] != 'IEA') &\n",
    "     (hpoa['Biocuration'].str.contains('iea'))].head()"
   ]
  },
  {
   "cell_type": "markdown",
   "metadata": {},
   "source": [
    "## decision: Onset"
   ]
  },
  {
   "cell_type": "markdown",
   "metadata": {},
   "source": [
    "* very few rows (<1%) have this information\n",
    "* currently each row has only one value (no \";\" delimiter) but I dunno if this will change\n",
    "* All rows with this info are \"disease has phenotypic abnormality\" rows (Aspect = P)\n",
    "* I think this can be a categorical variable on the Disease - PhenotypicFeature edge. \n",
    "* There may be a rough chronological order to the terms (for listing possible values)\n",
    "* likely use comments to make these terms actually understandable"
   ]
  },
  {
   "cell_type": "code",
   "execution_count": null,
   "metadata": {
    "ExecuteTime": {
     "end_time": "2020-12-31T01:14:55.057373Z",
     "start_time": "2020-12-31T01:14:54.950870Z"
    }
   },
   "outputs": [],
   "source": [
    "hpoa.dropna(subset = ['Onset']).Aspect.value_counts()\n",
    "hpoa.Onset.count()\n",
    "1651/214124\n",
    "hpoa.Onset.nunique()\n",
    "hpoa.Onset.value_counts()"
   ]
  },
  {
   "cell_type": "code",
   "execution_count": null,
   "metadata": {
    "ExecuteTime": {
     "end_time": "2021-01-01T06:14:59.823035Z",
     "start_time": "2021-01-01T06:14:59.811582Z"
    }
   },
   "outputs": [],
   "source": [
    "## this is a weird annotation since this term just means \"Onset\"\n",
    "## https://hpo.jax.org/app/browse/term/HP:0003674\n",
    "## can it be removed or...? \n",
    "hpoa[hpoa.Onset == \"HP:0003674\"].Reference.to_dict()"
   ]
  },
  {
   "cell_type": "markdown",
   "metadata": {},
   "source": [
    "## NEED DECISION: Frequency"
   ]
  },
  {
   "cell_type": "markdown",
   "metadata": {},
   "source": [
    "### Intro"
   ]
  },
  {
   "cell_type": "markdown",
   "metadata": {},
   "source": [
    "This column is tricky because there are multiple kinds of values. Currently only one value per row (no \";\" delimitor) \n",
    "- some are fractions: could convert to decimal, but keeping numerator and denominator could give prevalence info (although the denominator is tricky to describe since it's people with the disease only; the other two are prevalence/specificity of phenotype for the disease). \n",
    "- one of the fractions is '0/0'. Please be careful with this\n",
    "- some are percentages: these could convert to decimal easily\n",
    "- some are HP terms: these are a categorical variable...\n",
    "\n",
    "Extra trickiness: apparently other kinds of disease annotations (course, inheritance, modifier) also have frequency..."
   ]
  },
  {
   "cell_type": "code",
   "execution_count": null,
   "metadata": {
    "ExecuteTime": {
     "end_time": "2020-12-31T01:14:55.471231Z",
     "start_time": "2020-12-31T01:14:55.059268Z"
    }
   },
   "outputs": [],
   "source": [
    "hpoa[~ hpoa['Frequency'].isna()].Aspect.value_counts()\n",
    "hpoa.Frequency.count()\n",
    "120409 / 214124\n",
    "hpoa.Frequency.str.contains(\";\").value_counts()\n",
    "hpoa.Frequency.str.contains(\"/\").value_counts()\n",
    "hpoa.Frequency.str.contains(\"%\").value_counts()\n",
    "hpoa.Frequency.str.contains(\"HP:\").value_counts()\n",
    "12631+306+107472 == 120409"
   ]
  },
  {
   "cell_type": "markdown",
   "metadata": {},
   "source": [
    "### Some EDA"
   ]
  },
  {
   "cell_type": "markdown",
   "metadata": {},
   "source": [
    "note that some frequency terms are 1 since the fraction is 1/1"
   ]
  },
  {
   "cell_type": "code",
   "execution_count": null,
   "metadata": {
    "ExecuteTime": {
     "end_time": "2020-12-31T01:14:55.481864Z",
     "start_time": "2020-12-31T01:14:55.476000Z"
    }
   },
   "outputs": [],
   "source": [
    "hpoa.Frequency"
   ]
  },
  {
   "cell_type": "markdown",
   "metadata": {},
   "source": [
    "### Parsing to separate"
   ]
  },
  {
   "cell_type": "markdown",
   "metadata": {},
   "source": [
    "Code below makes 4 columns: categorical frequency (for HP terms), numeric frequency (for percentages and fractions), numerator and denominator (for fractions). \n",
    "\n",
    "categorical frequency ends up with 5 diff HP terms. "
   ]
  },
  {
   "cell_type": "code",
   "execution_count": null,
   "metadata": {
    "ExecuteTime": {
     "end_time": "2020-12-31T01:14:56.105769Z",
     "start_time": "2020-12-31T01:14:55.485531Z"
    }
   },
   "outputs": [],
   "source": [
    "categoryFreq = []\n",
    "numericFreq = []\n",
    "numerator = []\n",
    "denominator = []\n",
    "\n",
    "for i in hpoa.Frequency.astype(str):\n",
    "    ## since only one value in each row\n",
    "    if i == 'nan':\n",
    "        categoryFreq.append(None)\n",
    "        numericFreq.append(None)\n",
    "        numerator.append(None)\n",
    "        denominator.append(None)        \n",
    "    elif 'HP:' in i:\n",
    "        categoryFreq.append(i)\n",
    "        numericFreq.append(None)\n",
    "        numerator.append(None)\n",
    "        denominator.append(None)\n",
    "    elif '%' in i:\n",
    "        tempN = float(i.strip('%')) / 100.0\n",
    "        numericFreq.append(tempN)\n",
    "        categoryFreq.append(None)\n",
    "        numerator.append(None)\n",
    "        denominator.append(None)\n",
    "    elif '/' in i:\n",
    "        tempL = i.split(\"/\")\n",
    "        tempL = [int(i) for i in tempL]\n",
    "        ## if numerator or denominator is 0, since that happened\n",
    "        ## if numerator > denominator, since that happened too\n",
    "        if (tempL[1] == 0) or (tempL[0] == 0) or (tempL[0] > tempL[1]):\n",
    "            ## current decision is to leave it blank\n",
    "            numericFreq.append(None)\n",
    "            categoryFreq.append(None)\n",
    "            numerator.append(None)\n",
    "            denominator.append(None)    \n",
    "        else:\n",
    "            numerator.append(int(tempL[0]))\n",
    "            denominator.append(int(tempL[1]))       \n",
    "            numericFreq.append(eval(i))\n",
    "            categoryFreq.append(None)        \n",
    "    else:\n",
    "        print(\"encountered unexpected format, please check parsing:\\n{0}\".format(i))"
   ]
  },
  {
   "cell_type": "code",
   "execution_count": null,
   "metadata": {
    "ExecuteTime": {
     "end_time": "2020-12-31T01:14:56.191655Z",
     "start_time": "2020-12-31T01:14:56.107684Z"
    }
   },
   "outputs": [],
   "source": [
    "## create new columns\n",
    "hpoa = hpoa.assign(FreqCategories = categoryFreq, NumericFreq = numericFreq, FreqNumerator = numerator,\n",
    "                   FreqDenominator = denominator)"
   ]
  },
  {
   "cell_type": "code",
   "execution_count": null,
   "metadata": {
    "ExecuteTime": {
     "end_time": "2020-12-31T01:14:56.257751Z",
     "start_time": "2020-12-31T01:14:56.193543Z"
    }
   },
   "outputs": [],
   "source": [
    "hpoa.FreqCategories.value_counts()\n",
    "hpoa.NumericFreq.describe()\n",
    "hpoa.FreqNumerator.describe()\n",
    "hpoa.FreqDenominator.describe()"
   ]
  },
  {
   "cell_type": "code",
   "execution_count": null,
   "metadata": {
    "ExecuteTime": {
     "end_time": "2020-12-31T01:14:56.386508Z",
     "start_time": "2020-12-31T01:14:56.259631Z"
    }
   },
   "outputs": [],
   "source": [
    "## wow some big numbers\n",
    "hpoa[hpoa.FreqNumerator > 300]"
   ]
  },
  {
   "cell_type": "markdown",
   "metadata": {},
   "source": [
    "## NEED CHECK: Sex"
   ]
  },
  {
   "cell_type": "markdown",
   "metadata": {},
   "source": [
    "so it's super rare to have this field. Extra trickiness: apparently other kinds of disease annotations (course, inheritance, modifier) also have sex...    \n",
    "Also...it has inconsistent capitalization. I think the [current parsing code deals with this](https://github.com/biothings/mydisease.info/blob/master/src/plugins/hpo/parser.py#L52) but check"
   ]
  },
  {
   "cell_type": "code",
   "execution_count": null,
   "metadata": {
    "ExecuteTime": {
     "end_time": "2020-12-31T01:14:56.425186Z",
     "start_time": "2020-12-31T01:14:56.388530Z"
    }
   },
   "outputs": [],
   "source": [
    "hpoa.Sex.count()\n",
    "hpoa.Sex.value_counts()\n",
    "hpoa[~ hpoa['Sex'].isna()].Aspect.value_counts()"
   ]
  },
  {
   "cell_type": "markdown",
   "metadata": {},
   "source": [
    "## NEED DECISION: Modifier"
   ]
  },
  {
   "cell_type": "markdown",
   "metadata": {},
   "source": [
    "It's rare to have this field   \n",
    "This column is tricky because...\n",
    "- there can be multiple values. I currently don't support multiple values in my categorical variables...\n",
    "- there's a lot of different values. Hard to list them all out\n",
    "\n",
    "Extra trickiness: apparently other kinds of disease annotations (course, inheritance) also have modifier...  "
   ]
  },
  {
   "cell_type": "code",
   "execution_count": null,
   "metadata": {
    "ExecuteTime": {
     "end_time": "2020-12-31T01:14:56.465311Z",
     "start_time": "2020-12-31T01:14:56.427328Z"
    }
   },
   "outputs": [],
   "source": [
    "hpoa.Modifier.count()\n",
    "hpoa[~ hpoa['Modifier'].isna()].Aspect.value_counts()\n",
    "hpoa.Modifier.value_counts()"
   ]
  },
  {
   "cell_type": "code",
   "execution_count": null,
   "metadata": {
    "ExecuteTime": {
     "end_time": "2020-12-31T01:14:56.504635Z",
     "start_time": "2020-12-31T01:14:56.468167Z"
    }
   },
   "outputs": [],
   "source": [
    "hpoa['Modifier'] = hpoa['Modifier'].str.split(';')"
   ]
  },
  {
   "cell_type": "code",
   "execution_count": null,
   "metadata": {
    "ExecuteTime": {
     "end_time": "2020-12-31T01:14:56.640159Z",
     "start_time": "2020-12-31T01:14:56.506355Z"
    }
   },
   "outputs": [],
   "source": [
    "hpoa['Modifier'].value_counts()"
   ]
  },
  {
   "cell_type": "markdown",
   "metadata": {},
   "source": [
    "## won't use: Biocuration"
   ]
  },
  {
   "cell_type": "markdown",
   "metadata": {},
   "source": [
    "This column is tricky because...\n",
    "- there can be multiple values.\n",
    "- each value has two parts: a person/entity ID and a date"
   ]
  },
  {
   "cell_type": "code",
   "execution_count": null,
   "metadata": {
    "ExecuteTime": {
     "end_time": "2020-12-31T01:14:56.764021Z",
     "start_time": "2020-12-31T01:14:56.642067Z"
    }
   },
   "outputs": [],
   "source": [
    "hpoa.Biocuration.str.contains(\";\").value_counts()\n",
    "hpoa.Biocuration.to_list()[0:5]"
   ]
  },
  {
   "cell_type": "markdown",
   "metadata": {},
   "source": [
    "# exploring CTD data"
   ]
  },
  {
   "cell_type": "markdown",
   "metadata": {},
   "source": [
    "## disease -> chemical"
   ]
  },
  {
   "cell_type": "code",
   "execution_count": 2,
   "metadata": {
    "ExecuteTime": {
     "end_time": "2021-01-21T22:22:34.419826Z",
     "start_time": "2021-01-21T22:22:24.453908Z"
    }
   },
   "outputs": [
    {
     "data": {
      "text/plain": [
       "Index(['chemical_name', 'mesh_chemical_id', 'cas_registry_number',\n",
       "       'DiseaseName', 'DiseaseID', 'direct_evidence', 'inference_gene_symbol',\n",
       "       'inference_score', 'omim_id', 'pubmed'],\n",
       "      dtype='object')"
      ]
     },
     "execution_count": 2,
     "metadata": {},
     "output_type": "execute_result"
    },
    {
     "data": {
      "text/plain": [
       "(7119363, 10)"
      ]
     },
     "execution_count": 2,
     "metadata": {},
     "output_type": "execute_result"
    }
   ],
   "source": [
    "CTD_path = pathlib.Path.home().joinpath('Downloads', 'CTD_chemicals_diseases.csv')\n",
    "CTD = pd.read_table(CTD_path, sep=\",\", comment='#', \n",
    "                    names=['chemical_name', 'mesh_chemical_id', 'cas_registry_number', 'DiseaseName', \n",
    "                           'DiseaseID', 'direct_evidence', 'inference_gene_symbol', 'inference_score', \n",
    "                           'omim_id', 'pubmed'])\n",
    "CTD.columns\n",
    "CTD.shape"
   ]
  },
  {
   "cell_type": "code",
   "execution_count": 15,
   "metadata": {
    "ExecuteTime": {
     "end_time": "2021-01-19T22:00:01.976833Z",
     "start_time": "2021-01-19T22:00:01.492644Z"
    }
   },
   "outputs": [
    {
     "data": {
      "text/html": [
       "<div>\n",
       "<style scoped>\n",
       "    .dataframe tbody tr th:only-of-type {\n",
       "        vertical-align: middle;\n",
       "    }\n",
       "\n",
       "    .dataframe tbody tr th {\n",
       "        vertical-align: top;\n",
       "    }\n",
       "\n",
       "    .dataframe thead th {\n",
       "        text-align: right;\n",
       "    }\n",
       "</style>\n",
       "<table border=\"1\" class=\"dataframe\">\n",
       "  <thead>\n",
       "    <tr style=\"text-align: right;\">\n",
       "      <th></th>\n",
       "      <th>chemical_name</th>\n",
       "      <th>mesh_chemical_id</th>\n",
       "      <th>cas_registry_number</th>\n",
       "      <th>DiseaseName</th>\n",
       "      <th>DiseaseID</th>\n",
       "      <th>direct_evidence</th>\n",
       "      <th>inference_gene_symbol</th>\n",
       "      <th>inference_score</th>\n",
       "      <th>omim_id</th>\n",
       "      <th>pubmed</th>\n",
       "    </tr>\n",
       "  </thead>\n",
       "  <tbody>\n",
       "    <tr>\n",
       "      <th>1093</th>\n",
       "      <td>10-(6'-ubiquinonyl)decyltriphenylphosphonium b...</td>\n",
       "      <td>C476756</td>\n",
       "      <td>NaN</td>\n",
       "      <td>Respiratory Distress Syndrome, Adult</td>\n",
       "      <td>MESH:D012128</td>\n",
       "      <td>NaN</td>\n",
       "      <td>SOD2</td>\n",
       "      <td>3.58</td>\n",
       "      <td>NaN</td>\n",
       "      <td>25070658</td>\n",
       "    </tr>\n",
       "    <tr>\n",
       "      <th>1511</th>\n",
       "      <td>10-(fluoroethoxyphosphinyl)-N-(biotinamidopent...</td>\n",
       "      <td>C403065</td>\n",
       "      <td>NaN</td>\n",
       "      <td>Respiratory Distress Syndrome, Adult</td>\n",
       "      <td>MESH:D012128</td>\n",
       "      <td>NaN</td>\n",
       "      <td>ALB</td>\n",
       "      <td>3.92</td>\n",
       "      <td>NaN</td>\n",
       "      <td>12394941</td>\n",
       "    </tr>\n",
       "    <tr>\n",
       "      <th>4688</th>\n",
       "      <td>1,10-phenanthroline</td>\n",
       "      <td>C025205</td>\n",
       "      <td>66-71-7</td>\n",
       "      <td>Respiratory Distress Syndrome, Adult</td>\n",
       "      <td>MESH:D012128</td>\n",
       "      <td>NaN</td>\n",
       "      <td>ACE</td>\n",
       "      <td>8.33</td>\n",
       "      <td>NaN</td>\n",
       "      <td>12204859|22009550</td>\n",
       "    </tr>\n",
       "    <tr>\n",
       "      <th>4689</th>\n",
       "      <td>1,10-phenanthroline</td>\n",
       "      <td>C025205</td>\n",
       "      <td>66-71-7</td>\n",
       "      <td>Respiratory Distress Syndrome, Adult</td>\n",
       "      <td>MESH:D012128</td>\n",
       "      <td>NaN</td>\n",
       "      <td>ALB</td>\n",
       "      <td>8.33</td>\n",
       "      <td>NaN</td>\n",
       "      <td>12394941</td>\n",
       "    </tr>\n",
       "    <tr>\n",
       "      <th>4690</th>\n",
       "      <td>1,10-phenanthroline</td>\n",
       "      <td>C025205</td>\n",
       "      <td>66-71-7</td>\n",
       "      <td>Respiratory Distress Syndrome, Adult</td>\n",
       "      <td>MESH:D012128</td>\n",
       "      <td>NaN</td>\n",
       "      <td>SOD2</td>\n",
       "      <td>8.33</td>\n",
       "      <td>NaN</td>\n",
       "      <td>25070658</td>\n",
       "    </tr>\n",
       "    <tr>\n",
       "      <th>...</th>\n",
       "      <td>...</td>\n",
       "      <td>...</td>\n",
       "      <td>...</td>\n",
       "      <td>...</td>\n",
       "      <td>...</td>\n",
       "      <td>...</td>\n",
       "      <td>...</td>\n",
       "      <td>...</td>\n",
       "      <td>...</td>\n",
       "      <td>...</td>\n",
       "    </tr>\n",
       "    <tr>\n",
       "      <th>7115048</th>\n",
       "      <td>zoxamide</td>\n",
       "      <td>C451427</td>\n",
       "      <td>NaN</td>\n",
       "      <td>Respiratory Distress Syndrome, Adult</td>\n",
       "      <td>MESH:D012128</td>\n",
       "      <td>NaN</td>\n",
       "      <td>CCL2</td>\n",
       "      <td>4.16</td>\n",
       "      <td>NaN</td>\n",
       "      <td>25070658</td>\n",
       "    </tr>\n",
       "    <tr>\n",
       "      <th>7118966</th>\n",
       "      <td>Zymosan</td>\n",
       "      <td>D015054</td>\n",
       "      <td>9010-72-4</td>\n",
       "      <td>Respiratory Distress Syndrome, Adult</td>\n",
       "      <td>MESH:D012128</td>\n",
       "      <td>NaN</td>\n",
       "      <td>CCL2</td>\n",
       "      <td>8.56</td>\n",
       "      <td>NaN</td>\n",
       "      <td>25070658</td>\n",
       "    </tr>\n",
       "    <tr>\n",
       "      <th>7118967</th>\n",
       "      <td>Zymosan</td>\n",
       "      <td>D015054</td>\n",
       "      <td>9010-72-4</td>\n",
       "      <td>Respiratory Distress Syndrome, Adult</td>\n",
       "      <td>MESH:D012128</td>\n",
       "      <td>NaN</td>\n",
       "      <td>PLA2G4A</td>\n",
       "      <td>8.56</td>\n",
       "      <td>NaN</td>\n",
       "      <td>10881173</td>\n",
       "    </tr>\n",
       "    <tr>\n",
       "      <th>7118968</th>\n",
       "      <td>Zymosan</td>\n",
       "      <td>D015054</td>\n",
       "      <td>9010-72-4</td>\n",
       "      <td>Respiratory Distress Syndrome, Adult</td>\n",
       "      <td>MESH:D012128</td>\n",
       "      <td>NaN</td>\n",
       "      <td>THBD</td>\n",
       "      <td>8.56</td>\n",
       "      <td>NaN</td>\n",
       "      <td>12707536</td>\n",
       "    </tr>\n",
       "    <tr>\n",
       "      <th>7118969</th>\n",
       "      <td>Zymosan</td>\n",
       "      <td>D015054</td>\n",
       "      <td>9010-72-4</td>\n",
       "      <td>Respiratory Distress Syndrome, Adult</td>\n",
       "      <td>MESH:D012128</td>\n",
       "      <td>NaN</td>\n",
       "      <td>TIMP1</td>\n",
       "      <td>8.56</td>\n",
       "      <td>NaN</td>\n",
       "      <td>25070658</td>\n",
       "    </tr>\n",
       "  </tbody>\n",
       "</table>\n",
       "<p>8984 rows × 10 columns</p>\n",
       "</div>"
      ],
      "text/plain": [
       "                                             chemical_name mesh_chemical_id  \\\n",
       "1093     10-(6'-ubiquinonyl)decyltriphenylphosphonium b...          C476756   \n",
       "1511     10-(fluoroethoxyphosphinyl)-N-(biotinamidopent...          C403065   \n",
       "4688                                   1,10-phenanthroline          C025205   \n",
       "4689                                   1,10-phenanthroline          C025205   \n",
       "4690                                   1,10-phenanthroline          C025205   \n",
       "...                                                    ...              ...   \n",
       "7115048                                           zoxamide          C451427   \n",
       "7118966                                            Zymosan          D015054   \n",
       "7118967                                            Zymosan          D015054   \n",
       "7118968                                            Zymosan          D015054   \n",
       "7118969                                            Zymosan          D015054   \n",
       "\n",
       "        cas_registry_number                           DiseaseName  \\\n",
       "1093                    NaN  Respiratory Distress Syndrome, Adult   \n",
       "1511                    NaN  Respiratory Distress Syndrome, Adult   \n",
       "4688                66-71-7  Respiratory Distress Syndrome, Adult   \n",
       "4689                66-71-7  Respiratory Distress Syndrome, Adult   \n",
       "4690                66-71-7  Respiratory Distress Syndrome, Adult   \n",
       "...                     ...                                   ...   \n",
       "7115048                 NaN  Respiratory Distress Syndrome, Adult   \n",
       "7118966           9010-72-4  Respiratory Distress Syndrome, Adult   \n",
       "7118967           9010-72-4  Respiratory Distress Syndrome, Adult   \n",
       "7118968           9010-72-4  Respiratory Distress Syndrome, Adult   \n",
       "7118969           9010-72-4  Respiratory Distress Syndrome, Adult   \n",
       "\n",
       "            DiseaseID direct_evidence inference_gene_symbol  inference_score  \\\n",
       "1093     MESH:D012128             NaN                  SOD2             3.58   \n",
       "1511     MESH:D012128             NaN                   ALB             3.92   \n",
       "4688     MESH:D012128             NaN                   ACE             8.33   \n",
       "4689     MESH:D012128             NaN                   ALB             8.33   \n",
       "4690     MESH:D012128             NaN                  SOD2             8.33   \n",
       "...               ...             ...                   ...              ...   \n",
       "7115048  MESH:D012128             NaN                  CCL2             4.16   \n",
       "7118966  MESH:D012128             NaN                  CCL2             8.56   \n",
       "7118967  MESH:D012128             NaN               PLA2G4A             8.56   \n",
       "7118968  MESH:D012128             NaN                  THBD             8.56   \n",
       "7118969  MESH:D012128             NaN                 TIMP1             8.56   \n",
       "\n",
       "        omim_id             pubmed  \n",
       "1093        NaN           25070658  \n",
       "1511        NaN           12394941  \n",
       "4688        NaN  12204859|22009550  \n",
       "4689        NaN           12394941  \n",
       "4690        NaN           25070658  \n",
       "...         ...                ...  \n",
       "7115048     NaN           25070658  \n",
       "7118966     NaN           25070658  \n",
       "7118967     NaN           10881173  \n",
       "7118968     NaN           12707536  \n",
       "7118969     NaN           25070658  \n",
       "\n",
       "[8984 rows x 10 columns]"
      ]
     },
     "execution_count": 15,
     "metadata": {},
     "output_type": "execute_result"
    }
   ],
   "source": [
    "CTD[(CTD['DiseaseID'] == 'MESH:D012128')]"
   ]
  },
  {
   "cell_type": "code",
   "execution_count": 19,
   "metadata": {
    "ExecuteTime": {
     "end_time": "2021-01-19T22:07:55.369113Z",
     "start_time": "2021-01-19T22:07:54.887350Z"
    }
   },
   "outputs": [
    {
     "data": {
      "text/plain": [
       "2795"
      ]
     },
     "execution_count": 19,
     "metadata": {},
     "output_type": "execute_result"
    }
   ],
   "source": [
    "CTD[(CTD['DiseaseID'] == 'MESH:D012128')].chemical_name.nunique()"
   ]
  },
  {
   "cell_type": "code",
   "execution_count": 18,
   "metadata": {
    "ExecuteTime": {
     "end_time": "2021-01-19T22:02:25.635380Z",
     "start_time": "2021-01-19T22:02:22.758034Z"
    }
   },
   "outputs": [
    {
     "data": {
      "text/html": [
       "<div>\n",
       "<style scoped>\n",
       "    .dataframe tbody tr th:only-of-type {\n",
       "        vertical-align: middle;\n",
       "    }\n",
       "\n",
       "    .dataframe tbody tr th {\n",
       "        vertical-align: top;\n",
       "    }\n",
       "\n",
       "    .dataframe thead th {\n",
       "        text-align: right;\n",
       "    }\n",
       "</style>\n",
       "<table border=\"1\" class=\"dataframe\">\n",
       "  <thead>\n",
       "    <tr style=\"text-align: right;\">\n",
       "      <th></th>\n",
       "      <th>chemical_name</th>\n",
       "      <th>mesh_chemical_id</th>\n",
       "      <th>cas_registry_number</th>\n",
       "      <th>DiseaseName</th>\n",
       "      <th>DiseaseID</th>\n",
       "      <th>direct_evidence</th>\n",
       "      <th>inference_gene_symbol</th>\n",
       "      <th>inference_score</th>\n",
       "      <th>omim_id</th>\n",
       "      <th>pubmed</th>\n",
       "    </tr>\n",
       "  </thead>\n",
       "  <tbody>\n",
       "    <tr>\n",
       "      <th>7076704</th>\n",
       "      <td>Zinc</td>\n",
       "      <td>D015032</td>\n",
       "      <td>7440-66-6</td>\n",
       "      <td>Respiratory Distress Syndrome, Adult</td>\n",
       "      <td>MESH:D012128</td>\n",
       "      <td>NaN</td>\n",
       "      <td>ACAA2</td>\n",
       "      <td>27.23</td>\n",
       "      <td>NaN</td>\n",
       "      <td>25070658</td>\n",
       "    </tr>\n",
       "    <tr>\n",
       "      <th>7076705</th>\n",
       "      <td>Zinc</td>\n",
       "      <td>D015032</td>\n",
       "      <td>7440-66-6</td>\n",
       "      <td>Respiratory Distress Syndrome, Adult</td>\n",
       "      <td>MESH:D012128</td>\n",
       "      <td>NaN</td>\n",
       "      <td>ACE</td>\n",
       "      <td>27.23</td>\n",
       "      <td>NaN</td>\n",
       "      <td>12204859|22009550</td>\n",
       "    </tr>\n",
       "    <tr>\n",
       "      <th>7076706</th>\n",
       "      <td>Zinc</td>\n",
       "      <td>D015032</td>\n",
       "      <td>7440-66-6</td>\n",
       "      <td>Respiratory Distress Syndrome, Adult</td>\n",
       "      <td>MESH:D012128</td>\n",
       "      <td>NaN</td>\n",
       "      <td>ACO2</td>\n",
       "      <td>27.23</td>\n",
       "      <td>NaN</td>\n",
       "      <td>25070658</td>\n",
       "    </tr>\n",
       "    <tr>\n",
       "      <th>7076707</th>\n",
       "      <td>Zinc</td>\n",
       "      <td>D015032</td>\n",
       "      <td>7440-66-6</td>\n",
       "      <td>Respiratory Distress Syndrome, Adult</td>\n",
       "      <td>MESH:D012128</td>\n",
       "      <td>NaN</td>\n",
       "      <td>ALAD</td>\n",
       "      <td>27.23</td>\n",
       "      <td>NaN</td>\n",
       "      <td>25070658</td>\n",
       "    </tr>\n",
       "    <tr>\n",
       "      <th>7076708</th>\n",
       "      <td>Zinc</td>\n",
       "      <td>D015032</td>\n",
       "      <td>7440-66-6</td>\n",
       "      <td>Respiratory Distress Syndrome, Adult</td>\n",
       "      <td>MESH:D012128</td>\n",
       "      <td>NaN</td>\n",
       "      <td>ALB</td>\n",
       "      <td>27.23</td>\n",
       "      <td>NaN</td>\n",
       "      <td>12394941</td>\n",
       "    </tr>\n",
       "    <tr>\n",
       "      <th>7076709</th>\n",
       "      <td>Zinc</td>\n",
       "      <td>D015032</td>\n",
       "      <td>7440-66-6</td>\n",
       "      <td>Respiratory Distress Syndrome, Adult</td>\n",
       "      <td>MESH:D012128</td>\n",
       "      <td>NaN</td>\n",
       "      <td>APC</td>\n",
       "      <td>27.23</td>\n",
       "      <td>NaN</td>\n",
       "      <td>25070658</td>\n",
       "    </tr>\n",
       "    <tr>\n",
       "      <th>7076710</th>\n",
       "      <td>Zinc</td>\n",
       "      <td>D015032</td>\n",
       "      <td>7440-66-6</td>\n",
       "      <td>Respiratory Distress Syndrome, Adult</td>\n",
       "      <td>MESH:D012128</td>\n",
       "      <td>NaN</td>\n",
       "      <td>CCL2</td>\n",
       "      <td>27.23</td>\n",
       "      <td>NaN</td>\n",
       "      <td>25070658</td>\n",
       "    </tr>\n",
       "    <tr>\n",
       "      <th>7076711</th>\n",
       "      <td>Zinc</td>\n",
       "      <td>D015032</td>\n",
       "      <td>7440-66-6</td>\n",
       "      <td>Respiratory Distress Syndrome, Adult</td>\n",
       "      <td>MESH:D012128</td>\n",
       "      <td>NaN</td>\n",
       "      <td>CYB5A</td>\n",
       "      <td>27.23</td>\n",
       "      <td>NaN</td>\n",
       "      <td>25070658</td>\n",
       "    </tr>\n",
       "    <tr>\n",
       "      <th>7076712</th>\n",
       "      <td>Zinc</td>\n",
       "      <td>D015032</td>\n",
       "      <td>7440-66-6</td>\n",
       "      <td>Respiratory Distress Syndrome, Adult</td>\n",
       "      <td>MESH:D012128</td>\n",
       "      <td>NaN</td>\n",
       "      <td>EDN1</td>\n",
       "      <td>27.23</td>\n",
       "      <td>NaN</td>\n",
       "      <td>16625121</td>\n",
       "    </tr>\n",
       "    <tr>\n",
       "      <th>7076713</th>\n",
       "      <td>Zinc</td>\n",
       "      <td>D015032</td>\n",
       "      <td>7440-66-6</td>\n",
       "      <td>Respiratory Distress Syndrome, Adult</td>\n",
       "      <td>MESH:D012128</td>\n",
       "      <td>NaN</td>\n",
       "      <td>EIF2AK1</td>\n",
       "      <td>27.23</td>\n",
       "      <td>NaN</td>\n",
       "      <td>25070658</td>\n",
       "    </tr>\n",
       "    <tr>\n",
       "      <th>7076714</th>\n",
       "      <td>Zinc</td>\n",
       "      <td>D015032</td>\n",
       "      <td>7440-66-6</td>\n",
       "      <td>Respiratory Distress Syndrome, Adult</td>\n",
       "      <td>MESH:D012128</td>\n",
       "      <td>NaN</td>\n",
       "      <td>IFRD1</td>\n",
       "      <td>27.23</td>\n",
       "      <td>NaN</td>\n",
       "      <td>25070658</td>\n",
       "    </tr>\n",
       "    <tr>\n",
       "      <th>7076715</th>\n",
       "      <td>Zinc</td>\n",
       "      <td>D015032</td>\n",
       "      <td>7440-66-6</td>\n",
       "      <td>Respiratory Distress Syndrome, Adult</td>\n",
       "      <td>MESH:D012128</td>\n",
       "      <td>NaN</td>\n",
       "      <td>MIR18A</td>\n",
       "      <td>27.23</td>\n",
       "      <td>NaN</td>\n",
       "      <td>25070658</td>\n",
       "    </tr>\n",
       "    <tr>\n",
       "      <th>7076716</th>\n",
       "      <td>Zinc</td>\n",
       "      <td>D015032</td>\n",
       "      <td>7440-66-6</td>\n",
       "      <td>Respiratory Distress Syndrome, Adult</td>\n",
       "      <td>MESH:D012128</td>\n",
       "      <td>NaN</td>\n",
       "      <td>MIR19A</td>\n",
       "      <td>27.23</td>\n",
       "      <td>NaN</td>\n",
       "      <td>25070658</td>\n",
       "    </tr>\n",
       "    <tr>\n",
       "      <th>7076717</th>\n",
       "      <td>Zinc</td>\n",
       "      <td>D015032</td>\n",
       "      <td>7440-66-6</td>\n",
       "      <td>Respiratory Distress Syndrome, Adult</td>\n",
       "      <td>MESH:D012128</td>\n",
       "      <td>NaN</td>\n",
       "      <td>MIR210</td>\n",
       "      <td>27.23</td>\n",
       "      <td>NaN</td>\n",
       "      <td>25070658</td>\n",
       "    </tr>\n",
       "    <tr>\n",
       "      <th>7076718</th>\n",
       "      <td>Zinc</td>\n",
       "      <td>D015032</td>\n",
       "      <td>7440-66-6</td>\n",
       "      <td>Respiratory Distress Syndrome, Adult</td>\n",
       "      <td>MESH:D012128</td>\n",
       "      <td>NaN</td>\n",
       "      <td>MIR30A</td>\n",
       "      <td>27.23</td>\n",
       "      <td>NaN</td>\n",
       "      <td>25070658</td>\n",
       "    </tr>\n",
       "    <tr>\n",
       "      <th>7076719</th>\n",
       "      <td>Zinc</td>\n",
       "      <td>D015032</td>\n",
       "      <td>7440-66-6</td>\n",
       "      <td>Respiratory Distress Syndrome, Adult</td>\n",
       "      <td>MESH:D012128</td>\n",
       "      <td>NaN</td>\n",
       "      <td>MIR380</td>\n",
       "      <td>27.23</td>\n",
       "      <td>NaN</td>\n",
       "      <td>25070658</td>\n",
       "    </tr>\n",
       "    <tr>\n",
       "      <th>7076720</th>\n",
       "      <td>Zinc</td>\n",
       "      <td>D015032</td>\n",
       "      <td>7440-66-6</td>\n",
       "      <td>Respiratory Distress Syndrome, Adult</td>\n",
       "      <td>MESH:D012128</td>\n",
       "      <td>NaN</td>\n",
       "      <td>MIR99A</td>\n",
       "      <td>27.23</td>\n",
       "      <td>NaN</td>\n",
       "      <td>25070658</td>\n",
       "    </tr>\n",
       "    <tr>\n",
       "      <th>7076721</th>\n",
       "      <td>Zinc</td>\n",
       "      <td>D015032</td>\n",
       "      <td>7440-66-6</td>\n",
       "      <td>Respiratory Distress Syndrome, Adult</td>\n",
       "      <td>MESH:D012128</td>\n",
       "      <td>NaN</td>\n",
       "      <td>MT2A</td>\n",
       "      <td>27.23</td>\n",
       "      <td>NaN</td>\n",
       "      <td>25070658</td>\n",
       "    </tr>\n",
       "    <tr>\n",
       "      <th>7076722</th>\n",
       "      <td>Zinc</td>\n",
       "      <td>D015032</td>\n",
       "      <td>7440-66-6</td>\n",
       "      <td>Respiratory Distress Syndrome, Adult</td>\n",
       "      <td>MESH:D012128</td>\n",
       "      <td>NaN</td>\n",
       "      <td>MT3</td>\n",
       "      <td>27.23</td>\n",
       "      <td>NaN</td>\n",
       "      <td>25070658</td>\n",
       "    </tr>\n",
       "    <tr>\n",
       "      <th>7076723</th>\n",
       "      <td>Zinc</td>\n",
       "      <td>D015032</td>\n",
       "      <td>7440-66-6</td>\n",
       "      <td>Respiratory Distress Syndrome, Adult</td>\n",
       "      <td>MESH:D012128</td>\n",
       "      <td>NaN</td>\n",
       "      <td>PLA2G4A</td>\n",
       "      <td>27.23</td>\n",
       "      <td>NaN</td>\n",
       "      <td>10881173</td>\n",
       "    </tr>\n",
       "    <tr>\n",
       "      <th>7076724</th>\n",
       "      <td>Zinc</td>\n",
       "      <td>D015032</td>\n",
       "      <td>7440-66-6</td>\n",
       "      <td>Respiratory Distress Syndrome, Adult</td>\n",
       "      <td>MESH:D012128</td>\n",
       "      <td>NaN</td>\n",
       "      <td>PRDX6</td>\n",
       "      <td>27.23</td>\n",
       "      <td>NaN</td>\n",
       "      <td>25070658</td>\n",
       "    </tr>\n",
       "    <tr>\n",
       "      <th>7076725</th>\n",
       "      <td>Zinc</td>\n",
       "      <td>D015032</td>\n",
       "      <td>7440-66-6</td>\n",
       "      <td>Respiratory Distress Syndrome, Adult</td>\n",
       "      <td>MESH:D012128</td>\n",
       "      <td>NaN</td>\n",
       "      <td>S100A9</td>\n",
       "      <td>27.23</td>\n",
       "      <td>NaN</td>\n",
       "      <td>25070658</td>\n",
       "    </tr>\n",
       "    <tr>\n",
       "      <th>7076726</th>\n",
       "      <td>Zinc</td>\n",
       "      <td>D015032</td>\n",
       "      <td>7440-66-6</td>\n",
       "      <td>Respiratory Distress Syndrome, Adult</td>\n",
       "      <td>MESH:D012128</td>\n",
       "      <td>NaN</td>\n",
       "      <td>SERPINH1</td>\n",
       "      <td>27.23</td>\n",
       "      <td>NaN</td>\n",
       "      <td>25070658</td>\n",
       "    </tr>\n",
       "    <tr>\n",
       "      <th>7076727</th>\n",
       "      <td>Zinc</td>\n",
       "      <td>D015032</td>\n",
       "      <td>7440-66-6</td>\n",
       "      <td>Respiratory Distress Syndrome, Adult</td>\n",
       "      <td>MESH:D012128</td>\n",
       "      <td>NaN</td>\n",
       "      <td>SOD2</td>\n",
       "      <td>27.23</td>\n",
       "      <td>NaN</td>\n",
       "      <td>25070658</td>\n",
       "    </tr>\n",
       "    <tr>\n",
       "      <th>7076728</th>\n",
       "      <td>Zinc</td>\n",
       "      <td>D015032</td>\n",
       "      <td>7440-66-6</td>\n",
       "      <td>Respiratory Distress Syndrome, Adult</td>\n",
       "      <td>MESH:D012128</td>\n",
       "      <td>NaN</td>\n",
       "      <td>THBD</td>\n",
       "      <td>27.23</td>\n",
       "      <td>NaN</td>\n",
       "      <td>12707536</td>\n",
       "    </tr>\n",
       "    <tr>\n",
       "      <th>7079724</th>\n",
       "      <td>Zinc Acetate</td>\n",
       "      <td>D019345</td>\n",
       "      <td>5970-45-6</td>\n",
       "      <td>Respiratory Distress Syndrome, Adult</td>\n",
       "      <td>MESH:D012128</td>\n",
       "      <td>NaN</td>\n",
       "      <td>ALAD</td>\n",
       "      <td>4.68</td>\n",
       "      <td>NaN</td>\n",
       "      <td>25070658</td>\n",
       "    </tr>\n",
       "    <tr>\n",
       "      <th>7079725</th>\n",
       "      <td>Zinc Acetate</td>\n",
       "      <td>D019345</td>\n",
       "      <td>5970-45-6</td>\n",
       "      <td>Respiratory Distress Syndrome, Adult</td>\n",
       "      <td>MESH:D012128</td>\n",
       "      <td>NaN</td>\n",
       "      <td>MT2A</td>\n",
       "      <td>4.68</td>\n",
       "      <td>NaN</td>\n",
       "      <td>25070658</td>\n",
       "    </tr>\n",
       "    <tr>\n",
       "      <th>7084923</th>\n",
       "      <td>Zinc Compounds</td>\n",
       "      <td>D017967</td>\n",
       "      <td>NaN</td>\n",
       "      <td>Respiratory Distress Syndrome, Adult</td>\n",
       "      <td>MESH:D012128</td>\n",
       "      <td>NaN</td>\n",
       "      <td>MT2A</td>\n",
       "      <td>4.03</td>\n",
       "      <td>NaN</td>\n",
       "      <td>25070658</td>\n",
       "    </tr>\n",
       "    <tr>\n",
       "      <th>7088947</th>\n",
       "      <td>Zinc Oxide</td>\n",
       "      <td>D015034</td>\n",
       "      <td>1314-13-2</td>\n",
       "      <td>Respiratory Distress Syndrome, Adult</td>\n",
       "      <td>MESH:D012128</td>\n",
       "      <td>NaN</td>\n",
       "      <td>ALB</td>\n",
       "      <td>4.45</td>\n",
       "      <td>NaN</td>\n",
       "      <td>12394941</td>\n",
       "    </tr>\n",
       "    <tr>\n",
       "      <th>7088948</th>\n",
       "      <td>Zinc Oxide</td>\n",
       "      <td>D015034</td>\n",
       "      <td>1314-13-2</td>\n",
       "      <td>Respiratory Distress Syndrome, Adult</td>\n",
       "      <td>MESH:D012128</td>\n",
       "      <td>NaN</td>\n",
       "      <td>CCL2</td>\n",
       "      <td>4.45</td>\n",
       "      <td>NaN</td>\n",
       "      <td>25070658</td>\n",
       "    </tr>\n",
       "    <tr>\n",
       "      <th>7088949</th>\n",
       "      <td>Zinc Oxide</td>\n",
       "      <td>D015034</td>\n",
       "      <td>1314-13-2</td>\n",
       "      <td>Respiratory Distress Syndrome, Adult</td>\n",
       "      <td>MESH:D012128</td>\n",
       "      <td>NaN</td>\n",
       "      <td>SOD2</td>\n",
       "      <td>4.45</td>\n",
       "      <td>NaN</td>\n",
       "      <td>25070658</td>\n",
       "    </tr>\n",
       "    <tr>\n",
       "      <th>7096900</th>\n",
       "      <td>Zinc Sulfate</td>\n",
       "      <td>D019287</td>\n",
       "      <td>7733-02-0</td>\n",
       "      <td>Respiratory Distress Syndrome, Adult</td>\n",
       "      <td>MESH:D012128</td>\n",
       "      <td>NaN</td>\n",
       "      <td>ACE</td>\n",
       "      <td>10.64</td>\n",
       "      <td>NaN</td>\n",
       "      <td>12204859|22009550</td>\n",
       "    </tr>\n",
       "    <tr>\n",
       "      <th>7096901</th>\n",
       "      <td>Zinc Sulfate</td>\n",
       "      <td>D019287</td>\n",
       "      <td>7733-02-0</td>\n",
       "      <td>Respiratory Distress Syndrome, Adult</td>\n",
       "      <td>MESH:D012128</td>\n",
       "      <td>NaN</td>\n",
       "      <td>ALAD</td>\n",
       "      <td>10.64</td>\n",
       "      <td>NaN</td>\n",
       "      <td>25070658</td>\n",
       "    </tr>\n",
       "    <tr>\n",
       "      <th>7096902</th>\n",
       "      <td>Zinc Sulfate</td>\n",
       "      <td>D019287</td>\n",
       "      <td>7733-02-0</td>\n",
       "      <td>Respiratory Distress Syndrome, Adult</td>\n",
       "      <td>MESH:D012128</td>\n",
       "      <td>NaN</td>\n",
       "      <td>ALB</td>\n",
       "      <td>10.64</td>\n",
       "      <td>NaN</td>\n",
       "      <td>12394941</td>\n",
       "    </tr>\n",
       "    <tr>\n",
       "      <th>7096903</th>\n",
       "      <td>Zinc Sulfate</td>\n",
       "      <td>D019287</td>\n",
       "      <td>7733-02-0</td>\n",
       "      <td>Respiratory Distress Syndrome, Adult</td>\n",
       "      <td>MESH:D012128</td>\n",
       "      <td>NaN</td>\n",
       "      <td>CCL2</td>\n",
       "      <td>10.64</td>\n",
       "      <td>NaN</td>\n",
       "      <td>25070658</td>\n",
       "    </tr>\n",
       "    <tr>\n",
       "      <th>7096904</th>\n",
       "      <td>Zinc Sulfate</td>\n",
       "      <td>D019287</td>\n",
       "      <td>7733-02-0</td>\n",
       "      <td>Respiratory Distress Syndrome, Adult</td>\n",
       "      <td>MESH:D012128</td>\n",
       "      <td>NaN</td>\n",
       "      <td>MT2A</td>\n",
       "      <td>10.64</td>\n",
       "      <td>NaN</td>\n",
       "      <td>25070658</td>\n",
       "    </tr>\n",
       "    <tr>\n",
       "      <th>7096905</th>\n",
       "      <td>Zinc Sulfate</td>\n",
       "      <td>D019287</td>\n",
       "      <td>7733-02-0</td>\n",
       "      <td>Respiratory Distress Syndrome, Adult</td>\n",
       "      <td>MESH:D012128</td>\n",
       "      <td>NaN</td>\n",
       "      <td>PLA2G4A</td>\n",
       "      <td>10.64</td>\n",
       "      <td>NaN</td>\n",
       "      <td>10881173</td>\n",
       "    </tr>\n",
       "    <tr>\n",
       "      <th>7096906</th>\n",
       "      <td>Zinc Sulfate</td>\n",
       "      <td>D019287</td>\n",
       "      <td>7733-02-0</td>\n",
       "      <td>Respiratory Distress Syndrome, Adult</td>\n",
       "      <td>MESH:D012128</td>\n",
       "      <td>NaN</td>\n",
       "      <td>S100A9</td>\n",
       "      <td>10.64</td>\n",
       "      <td>NaN</td>\n",
       "      <td>25070658</td>\n",
       "    </tr>\n",
       "    <tr>\n",
       "      <th>7096907</th>\n",
       "      <td>Zinc Sulfate</td>\n",
       "      <td>D019287</td>\n",
       "      <td>7733-02-0</td>\n",
       "      <td>Respiratory Distress Syndrome, Adult</td>\n",
       "      <td>MESH:D012128</td>\n",
       "      <td>NaN</td>\n",
       "      <td>SOD2</td>\n",
       "      <td>10.64</td>\n",
       "      <td>NaN</td>\n",
       "      <td>25070658</td>\n",
       "    </tr>\n",
       "    <tr>\n",
       "      <th>7096908</th>\n",
       "      <td>Zinc Sulfate</td>\n",
       "      <td>D019287</td>\n",
       "      <td>7733-02-0</td>\n",
       "      <td>Respiratory Distress Syndrome, Adult</td>\n",
       "      <td>MESH:D012128</td>\n",
       "      <td>NaN</td>\n",
       "      <td>THBD</td>\n",
       "      <td>10.64</td>\n",
       "      <td>NaN</td>\n",
       "      <td>12707536</td>\n",
       "    </tr>\n",
       "  </tbody>\n",
       "</table>\n",
       "</div>"
      ],
      "text/plain": [
       "          chemical_name mesh_chemical_id cas_registry_number  \\\n",
       "7076704            Zinc          D015032           7440-66-6   \n",
       "7076705            Zinc          D015032           7440-66-6   \n",
       "7076706            Zinc          D015032           7440-66-6   \n",
       "7076707            Zinc          D015032           7440-66-6   \n",
       "7076708            Zinc          D015032           7440-66-6   \n",
       "7076709            Zinc          D015032           7440-66-6   \n",
       "7076710            Zinc          D015032           7440-66-6   \n",
       "7076711            Zinc          D015032           7440-66-6   \n",
       "7076712            Zinc          D015032           7440-66-6   \n",
       "7076713            Zinc          D015032           7440-66-6   \n",
       "7076714            Zinc          D015032           7440-66-6   \n",
       "7076715            Zinc          D015032           7440-66-6   \n",
       "7076716            Zinc          D015032           7440-66-6   \n",
       "7076717            Zinc          D015032           7440-66-6   \n",
       "7076718            Zinc          D015032           7440-66-6   \n",
       "7076719            Zinc          D015032           7440-66-6   \n",
       "7076720            Zinc          D015032           7440-66-6   \n",
       "7076721            Zinc          D015032           7440-66-6   \n",
       "7076722            Zinc          D015032           7440-66-6   \n",
       "7076723            Zinc          D015032           7440-66-6   \n",
       "7076724            Zinc          D015032           7440-66-6   \n",
       "7076725            Zinc          D015032           7440-66-6   \n",
       "7076726            Zinc          D015032           7440-66-6   \n",
       "7076727            Zinc          D015032           7440-66-6   \n",
       "7076728            Zinc          D015032           7440-66-6   \n",
       "7079724    Zinc Acetate          D019345           5970-45-6   \n",
       "7079725    Zinc Acetate          D019345           5970-45-6   \n",
       "7084923  Zinc Compounds          D017967                 NaN   \n",
       "7088947      Zinc Oxide          D015034           1314-13-2   \n",
       "7088948      Zinc Oxide          D015034           1314-13-2   \n",
       "7088949      Zinc Oxide          D015034           1314-13-2   \n",
       "7096900    Zinc Sulfate          D019287           7733-02-0   \n",
       "7096901    Zinc Sulfate          D019287           7733-02-0   \n",
       "7096902    Zinc Sulfate          D019287           7733-02-0   \n",
       "7096903    Zinc Sulfate          D019287           7733-02-0   \n",
       "7096904    Zinc Sulfate          D019287           7733-02-0   \n",
       "7096905    Zinc Sulfate          D019287           7733-02-0   \n",
       "7096906    Zinc Sulfate          D019287           7733-02-0   \n",
       "7096907    Zinc Sulfate          D019287           7733-02-0   \n",
       "7096908    Zinc Sulfate          D019287           7733-02-0   \n",
       "\n",
       "                                  DiseaseName     DiseaseID direct_evidence  \\\n",
       "7076704  Respiratory Distress Syndrome, Adult  MESH:D012128             NaN   \n",
       "7076705  Respiratory Distress Syndrome, Adult  MESH:D012128             NaN   \n",
       "7076706  Respiratory Distress Syndrome, Adult  MESH:D012128             NaN   \n",
       "7076707  Respiratory Distress Syndrome, Adult  MESH:D012128             NaN   \n",
       "7076708  Respiratory Distress Syndrome, Adult  MESH:D012128             NaN   \n",
       "7076709  Respiratory Distress Syndrome, Adult  MESH:D012128             NaN   \n",
       "7076710  Respiratory Distress Syndrome, Adult  MESH:D012128             NaN   \n",
       "7076711  Respiratory Distress Syndrome, Adult  MESH:D012128             NaN   \n",
       "7076712  Respiratory Distress Syndrome, Adult  MESH:D012128             NaN   \n",
       "7076713  Respiratory Distress Syndrome, Adult  MESH:D012128             NaN   \n",
       "7076714  Respiratory Distress Syndrome, Adult  MESH:D012128             NaN   \n",
       "7076715  Respiratory Distress Syndrome, Adult  MESH:D012128             NaN   \n",
       "7076716  Respiratory Distress Syndrome, Adult  MESH:D012128             NaN   \n",
       "7076717  Respiratory Distress Syndrome, Adult  MESH:D012128             NaN   \n",
       "7076718  Respiratory Distress Syndrome, Adult  MESH:D012128             NaN   \n",
       "7076719  Respiratory Distress Syndrome, Adult  MESH:D012128             NaN   \n",
       "7076720  Respiratory Distress Syndrome, Adult  MESH:D012128             NaN   \n",
       "7076721  Respiratory Distress Syndrome, Adult  MESH:D012128             NaN   \n",
       "7076722  Respiratory Distress Syndrome, Adult  MESH:D012128             NaN   \n",
       "7076723  Respiratory Distress Syndrome, Adult  MESH:D012128             NaN   \n",
       "7076724  Respiratory Distress Syndrome, Adult  MESH:D012128             NaN   \n",
       "7076725  Respiratory Distress Syndrome, Adult  MESH:D012128             NaN   \n",
       "7076726  Respiratory Distress Syndrome, Adult  MESH:D012128             NaN   \n",
       "7076727  Respiratory Distress Syndrome, Adult  MESH:D012128             NaN   \n",
       "7076728  Respiratory Distress Syndrome, Adult  MESH:D012128             NaN   \n",
       "7079724  Respiratory Distress Syndrome, Adult  MESH:D012128             NaN   \n",
       "7079725  Respiratory Distress Syndrome, Adult  MESH:D012128             NaN   \n",
       "7084923  Respiratory Distress Syndrome, Adult  MESH:D012128             NaN   \n",
       "7088947  Respiratory Distress Syndrome, Adult  MESH:D012128             NaN   \n",
       "7088948  Respiratory Distress Syndrome, Adult  MESH:D012128             NaN   \n",
       "7088949  Respiratory Distress Syndrome, Adult  MESH:D012128             NaN   \n",
       "7096900  Respiratory Distress Syndrome, Adult  MESH:D012128             NaN   \n",
       "7096901  Respiratory Distress Syndrome, Adult  MESH:D012128             NaN   \n",
       "7096902  Respiratory Distress Syndrome, Adult  MESH:D012128             NaN   \n",
       "7096903  Respiratory Distress Syndrome, Adult  MESH:D012128             NaN   \n",
       "7096904  Respiratory Distress Syndrome, Adult  MESH:D012128             NaN   \n",
       "7096905  Respiratory Distress Syndrome, Adult  MESH:D012128             NaN   \n",
       "7096906  Respiratory Distress Syndrome, Adult  MESH:D012128             NaN   \n",
       "7096907  Respiratory Distress Syndrome, Adult  MESH:D012128             NaN   \n",
       "7096908  Respiratory Distress Syndrome, Adult  MESH:D012128             NaN   \n",
       "\n",
       "        inference_gene_symbol  inference_score omim_id             pubmed  \n",
       "7076704                 ACAA2            27.23     NaN           25070658  \n",
       "7076705                   ACE            27.23     NaN  12204859|22009550  \n",
       "7076706                  ACO2            27.23     NaN           25070658  \n",
       "7076707                  ALAD            27.23     NaN           25070658  \n",
       "7076708                   ALB            27.23     NaN           12394941  \n",
       "7076709                   APC            27.23     NaN           25070658  \n",
       "7076710                  CCL2            27.23     NaN           25070658  \n",
       "7076711                 CYB5A            27.23     NaN           25070658  \n",
       "7076712                  EDN1            27.23     NaN           16625121  \n",
       "7076713               EIF2AK1            27.23     NaN           25070658  \n",
       "7076714                 IFRD1            27.23     NaN           25070658  \n",
       "7076715                MIR18A            27.23     NaN           25070658  \n",
       "7076716                MIR19A            27.23     NaN           25070658  \n",
       "7076717                MIR210            27.23     NaN           25070658  \n",
       "7076718                MIR30A            27.23     NaN           25070658  \n",
       "7076719                MIR380            27.23     NaN           25070658  \n",
       "7076720                MIR99A            27.23     NaN           25070658  \n",
       "7076721                  MT2A            27.23     NaN           25070658  \n",
       "7076722                   MT3            27.23     NaN           25070658  \n",
       "7076723               PLA2G4A            27.23     NaN           10881173  \n",
       "7076724                 PRDX6            27.23     NaN           25070658  \n",
       "7076725                S100A9            27.23     NaN           25070658  \n",
       "7076726              SERPINH1            27.23     NaN           25070658  \n",
       "7076727                  SOD2            27.23     NaN           25070658  \n",
       "7076728                  THBD            27.23     NaN           12707536  \n",
       "7079724                  ALAD             4.68     NaN           25070658  \n",
       "7079725                  MT2A             4.68     NaN           25070658  \n",
       "7084923                  MT2A             4.03     NaN           25070658  \n",
       "7088947                   ALB             4.45     NaN           12394941  \n",
       "7088948                  CCL2             4.45     NaN           25070658  \n",
       "7088949                  SOD2             4.45     NaN           25070658  \n",
       "7096900                   ACE            10.64     NaN  12204859|22009550  \n",
       "7096901                  ALAD            10.64     NaN           25070658  \n",
       "7096902                   ALB            10.64     NaN           12394941  \n",
       "7096903                  CCL2            10.64     NaN           25070658  \n",
       "7096904                  MT2A            10.64     NaN           25070658  \n",
       "7096905               PLA2G4A            10.64     NaN           10881173  \n",
       "7096906                S100A9            10.64     NaN           25070658  \n",
       "7096907                  SOD2            10.64     NaN           25070658  \n",
       "7096908                  THBD            10.64     NaN           12707536  "
      ]
     },
     "execution_count": 18,
     "metadata": {},
     "output_type": "execute_result"
    }
   ],
   "source": [
    "CTD[(CTD['DiseaseID'] == 'MESH:D012128') &\n",
    "    (CTD.chemical_name.str.startswith('Zinc'))]"
   ]
  },
  {
   "cell_type": "code",
   "execution_count": null,
   "metadata": {
    "ExecuteTime": {
     "end_time": "2021-01-02T06:37:14.192719Z",
     "start_time": "2021-01-02T06:37:13.856431Z"
    }
   },
   "outputs": [],
   "source": [
    "CTD.direct_evidence.value_counts()"
   ]
  },
  {
   "cell_type": "code",
   "execution_count": null,
   "metadata": {
    "ExecuteTime": {
     "end_time": "2021-01-02T23:52:09.953449Z",
     "start_time": "2021-01-02T23:52:09.466748Z"
    }
   },
   "outputs": [],
   "source": [
    "CTD.inference_score.count()\n",
    "CTD.inference_score.describe()"
   ]
  },
  {
   "cell_type": "code",
   "execution_count": null,
   "metadata": {
    "ExecuteTime": {
     "end_time": "2021-01-03T00:30:29.952563Z",
     "start_time": "2021-01-03T00:30:23.926844Z"
    }
   },
   "outputs": [],
   "source": [
    "CTD.DiseaseID.str.contains('OMIM:').value_counts()\n",
    "CTD.DiseaseID.str.contains('MESH:').value_counts()\n",
    "## so all diseaseIDs are either MESH or OMIM"
   ]
  },
  {
   "cell_type": "markdown",
   "metadata": {},
   "source": [
    "## disease -> pathway"
   ]
  },
  {
   "cell_type": "code",
   "execution_count": 20,
   "metadata": {
    "ExecuteTime": {
     "end_time": "2021-01-19T22:12:50.141891Z",
     "start_time": "2021-01-19T22:12:49.568622Z"
    }
   },
   "outputs": [
    {
     "data": {
      "text/plain": [
       "Index(['DiseaseName', 'DiseaseID', 'PathwayName', 'PathwayID',\n",
       "       'InferenceGeneSymbol'],\n",
       "      dtype='object')"
      ]
     },
     "execution_count": 20,
     "metadata": {},
     "output_type": "execute_result"
    },
    {
     "data": {
      "text/plain": [
       "(588819, 5)"
      ]
     },
     "execution_count": 20,
     "metadata": {},
     "output_type": "execute_result"
    }
   ],
   "source": [
    "CTD2_path = pathlib.Path.home().joinpath('Downloads', 'CTD_diseases_pathways.csv')\n",
    "CTD2 = pd.read_table(CTD2_path, sep=\",\", comment='#', \n",
    "                    names=['DiseaseName', 'DiseaseID', 'PathwayName', 'PathwayID', 'InferenceGeneSymbol'])\n",
    "CTD2.columns\n",
    "CTD2.shape"
   ]
  },
  {
   "cell_type": "code",
   "execution_count": 21,
   "metadata": {
    "ExecuteTime": {
     "end_time": "2021-01-19T22:13:08.017084Z",
     "start_time": "2021-01-19T22:13:07.965660Z"
    }
   },
   "outputs": [
    {
     "data": {
      "text/html": [
       "<div>\n",
       "<style scoped>\n",
       "    .dataframe tbody tr th:only-of-type {\n",
       "        vertical-align: middle;\n",
       "    }\n",
       "\n",
       "    .dataframe tbody tr th {\n",
       "        vertical-align: top;\n",
       "    }\n",
       "\n",
       "    .dataframe thead th {\n",
       "        text-align: right;\n",
       "    }\n",
       "</style>\n",
       "<table border=\"1\" class=\"dataframe\">\n",
       "  <thead>\n",
       "    <tr style=\"text-align: right;\">\n",
       "      <th></th>\n",
       "      <th>DiseaseName</th>\n",
       "      <th>DiseaseID</th>\n",
       "      <th>PathwayName</th>\n",
       "      <th>PathwayID</th>\n",
       "      <th>InferenceGeneSymbol</th>\n",
       "    </tr>\n",
       "  </thead>\n",
       "  <tbody>\n",
       "    <tr>\n",
       "      <th>518361</th>\n",
       "      <td>Respiratory Distress Syndrome, Adult</td>\n",
       "      <td>MESH:D012128</td>\n",
       "      <td>2-Oxocarboxylic acid metabolism</td>\n",
       "      <td>KEGG:hsa01210</td>\n",
       "      <td>ACO2</td>\n",
       "    </tr>\n",
       "    <tr>\n",
       "      <th>518362</th>\n",
       "      <td>Respiratory Distress Syndrome, Adult</td>\n",
       "      <td>MESH:D012128</td>\n",
       "      <td>ABC-family proteins mediated transport</td>\n",
       "      <td>REACT:R-HSA-382556</td>\n",
       "      <td>PSMA4</td>\n",
       "    </tr>\n",
       "    <tr>\n",
       "      <th>518363</th>\n",
       "      <td>Respiratory Distress Syndrome, Adult</td>\n",
       "      <td>MESH:D012128</td>\n",
       "      <td>ABC transporter disorders</td>\n",
       "      <td>REACT:R-HSA-5619084</td>\n",
       "      <td>PSMA4</td>\n",
       "    </tr>\n",
       "    <tr>\n",
       "      <th>518364</th>\n",
       "      <td>Respiratory Distress Syndrome, Adult</td>\n",
       "      <td>MESH:D012128</td>\n",
       "      <td>Activation of APC/C and APC/C:Cdc20 mediated d...</td>\n",
       "      <td>REACT:R-HSA-176814</td>\n",
       "      <td>PSMA4</td>\n",
       "    </tr>\n",
       "    <tr>\n",
       "      <th>518365</th>\n",
       "      <td>Respiratory Distress Syndrome, Adult</td>\n",
       "      <td>MESH:D012128</td>\n",
       "      <td>Activation of Matrix Metalloproteinases</td>\n",
       "      <td>REACT:R-HSA-1592389</td>\n",
       "      <td>TIMP1</td>\n",
       "    </tr>\n",
       "    <tr>\n",
       "      <th>...</th>\n",
       "      <td>...</td>\n",
       "      <td>...</td>\n",
       "      <td>...</td>\n",
       "      <td>...</td>\n",
       "      <td>...</td>\n",
       "    </tr>\n",
       "    <tr>\n",
       "      <th>519008</th>\n",
       "      <td>Respiratory Distress Syndrome, Adult</td>\n",
       "      <td>MESH:D012128</td>\n",
       "      <td>Vesicle-mediated transport</td>\n",
       "      <td>REACT:R-HSA-5653656</td>\n",
       "      <td>PLA2G4A</td>\n",
       "    </tr>\n",
       "    <tr>\n",
       "      <th>519009</th>\n",
       "      <td>Respiratory Distress Syndrome, Adult</td>\n",
       "      <td>MESH:D012128</td>\n",
       "      <td>Vif-mediated degradation of APOBEC3G</td>\n",
       "      <td>REACT:R-HSA-180585</td>\n",
       "      <td>PSMA4</td>\n",
       "    </tr>\n",
       "    <tr>\n",
       "      <th>519010</th>\n",
       "      <td>Respiratory Distress Syndrome, Adult</td>\n",
       "      <td>MESH:D012128</td>\n",
       "      <td>Vitamin C (ascorbate) metabolism</td>\n",
       "      <td>REACT:R-HSA-196836</td>\n",
       "      <td>CYB5A</td>\n",
       "    </tr>\n",
       "    <tr>\n",
       "      <th>519011</th>\n",
       "      <td>Respiratory Distress Syndrome, Adult</td>\n",
       "      <td>MESH:D012128</td>\n",
       "      <td>Vpu mediated degradation of CD4</td>\n",
       "      <td>REACT:R-HSA-180534</td>\n",
       "      <td>PSMA4</td>\n",
       "    </tr>\n",
       "    <tr>\n",
       "      <th>519012</th>\n",
       "      <td>Respiratory Distress Syndrome, Adult</td>\n",
       "      <td>MESH:D012128</td>\n",
       "      <td>Wnt signaling pathway</td>\n",
       "      <td>KEGG:hsa04310</td>\n",
       "      <td>APC</td>\n",
       "    </tr>\n",
       "  </tbody>\n",
       "</table>\n",
       "<p>652 rows × 5 columns</p>\n",
       "</div>"
      ],
      "text/plain": [
       "                                 DiseaseName     DiseaseID  \\\n",
       "518361  Respiratory Distress Syndrome, Adult  MESH:D012128   \n",
       "518362  Respiratory Distress Syndrome, Adult  MESH:D012128   \n",
       "518363  Respiratory Distress Syndrome, Adult  MESH:D012128   \n",
       "518364  Respiratory Distress Syndrome, Adult  MESH:D012128   \n",
       "518365  Respiratory Distress Syndrome, Adult  MESH:D012128   \n",
       "...                                      ...           ...   \n",
       "519008  Respiratory Distress Syndrome, Adult  MESH:D012128   \n",
       "519009  Respiratory Distress Syndrome, Adult  MESH:D012128   \n",
       "519010  Respiratory Distress Syndrome, Adult  MESH:D012128   \n",
       "519011  Respiratory Distress Syndrome, Adult  MESH:D012128   \n",
       "519012  Respiratory Distress Syndrome, Adult  MESH:D012128   \n",
       "\n",
       "                                              PathwayName  \\\n",
       "518361                    2-Oxocarboxylic acid metabolism   \n",
       "518362             ABC-family proteins mediated transport   \n",
       "518363                          ABC transporter disorders   \n",
       "518364  Activation of APC/C and APC/C:Cdc20 mediated d...   \n",
       "518365            Activation of Matrix Metalloproteinases   \n",
       "...                                                   ...   \n",
       "519008                         Vesicle-mediated transport   \n",
       "519009               Vif-mediated degradation of APOBEC3G   \n",
       "519010                   Vitamin C (ascorbate) metabolism   \n",
       "519011                    Vpu mediated degradation of CD4   \n",
       "519012                              Wnt signaling pathway   \n",
       "\n",
       "                  PathwayID InferenceGeneSymbol  \n",
       "518361        KEGG:hsa01210                ACO2  \n",
       "518362   REACT:R-HSA-382556               PSMA4  \n",
       "518363  REACT:R-HSA-5619084               PSMA4  \n",
       "518364   REACT:R-HSA-176814               PSMA4  \n",
       "518365  REACT:R-HSA-1592389               TIMP1  \n",
       "...                     ...                 ...  \n",
       "519008  REACT:R-HSA-5653656             PLA2G4A  \n",
       "519009   REACT:R-HSA-180585               PSMA4  \n",
       "519010   REACT:R-HSA-196836               CYB5A  \n",
       "519011   REACT:R-HSA-180534               PSMA4  \n",
       "519012        KEGG:hsa04310                 APC  \n",
       "\n",
       "[652 rows x 5 columns]"
      ]
     },
     "execution_count": 21,
     "metadata": {},
     "output_type": "execute_result"
    }
   ],
   "source": [
    "CTD2[(CTD2['DiseaseID'] == 'MESH:D012128')]"
   ]
  },
  {
   "cell_type": "code",
   "execution_count": 24,
   "metadata": {
    "ExecuteTime": {
     "end_time": "2021-01-19T22:16:42.151874Z",
     "start_time": "2021-01-19T22:16:42.109600Z"
    }
   },
   "outputs": [
    {
     "data": {
      "text/plain": [
       "428"
      ]
     },
     "execution_count": 24,
     "metadata": {},
     "output_type": "execute_result"
    }
   ],
   "source": [
    "CTD2[(CTD2['DiseaseID'] == 'MESH:D012128')].PathwayID.nunique()"
   ]
  },
  {
   "cell_type": "code",
   "execution_count": null,
   "metadata": {
    "ExecuteTime": {
     "end_time": "2021-01-03T00:40:25.380538Z",
     "start_time": "2021-01-03T00:40:24.832278Z"
    }
   },
   "outputs": [],
   "source": [
    "CTD2.DiseaseID.str.contains('OMIM:').value_counts()\n",
    "CTD2.DiseaseID.str.contains('MESH:').value_counts()\n",
    "## so all diseaseIDs are either MESH or OMIM"
   ]
  },
  {
   "cell_type": "code",
   "execution_count": null,
   "metadata": {
    "ExecuteTime": {
     "end_time": "2021-01-03T00:40:52.231836Z",
     "start_time": "2021-01-03T00:40:51.662755Z"
    }
   },
   "outputs": [],
   "source": [
    "CTD2.PathwayID.str.contains('REACT:').value_counts()\n",
    "CTD2.PathwayID.str.contains('KEGG:').value_counts()"
   ]
  },
  {
   "cell_type": "code",
   "execution_count": null,
   "metadata": {
    "ExecuteTime": {
     "end_time": "2021-01-03T00:51:39.170592Z",
     "start_time": "2021-01-03T00:51:38.581727Z"
    }
   },
   "outputs": [],
   "source": [
    "CTD2[CTD2['DiseaseID'].str.contains('MESH')].PathwayID.str.contains('REACT:').value_counts()\n",
    "## so disease MESH - REACT pathway and disease MESH - KEGG pathway both exist"
   ]
  },
  {
   "cell_type": "code",
   "execution_count": null,
   "metadata": {
    "ExecuteTime": {
     "end_time": "2021-01-03T00:52:18.327278Z",
     "start_time": "2021-01-03T00:52:18.063788Z"
    }
   },
   "outputs": [],
   "source": [
    "CTD2[CTD2['DiseaseID'].str.contains('OMIM')].PathwayID.str.contains('REACT:').value_counts()\n",
    "## so disease OMIM - REACT pathway and disease OMIM - KEGG pathway both exist"
   ]
  },
  {
   "cell_type": "code",
   "execution_count": null,
   "metadata": {},
   "outputs": [],
   "source": []
  }
 ],
 "metadata": {
  "kernelspec": {
   "display_name": "Python 3",
   "language": "python",
   "name": "python3"
  },
  "language_info": {
   "codemirror_mode": {
    "name": "ipython",
    "version": 3
   },
   "file_extension": ".py",
   "mimetype": "text/x-python",
   "name": "python",
   "nbconvert_exporter": "python",
   "pygments_lexer": "ipython3",
   "version": "3.7.9"
  },
  "toc": {
   "base_numbering": 1,
   "nav_menu": {},
   "number_sections": true,
   "sideBar": true,
   "skip_h1_title": false,
   "title_cell": "Table of Contents",
   "title_sidebar": "Contents",
   "toc_cell": false,
   "toc_position": {
    "height": "calc(100% - 180px)",
    "left": "10px",
    "top": "150px",
    "width": "258.333px"
   },
   "toc_section_display": true,
   "toc_window_display": true
  },
  "varInspector": {
   "cols": {
    "lenName": 16,
    "lenType": 16,
    "lenVar": 40
   },
   "kernels_config": {
    "python": {
     "delete_cmd_postfix": "",
     "delete_cmd_prefix": "del ",
     "library": "var_list.py",
     "varRefreshCmd": "print(var_dic_list())"
    },
    "r": {
     "delete_cmd_postfix": ") ",
     "delete_cmd_prefix": "rm(",
     "library": "var_list.r",
     "varRefreshCmd": "cat(var_dic_list()) "
    }
   },
   "types_to_exclude": [
    "module",
    "function",
    "builtin_function_or_method",
    "instance",
    "_Feature"
   ],
   "window_display": false
  }
 },
 "nbformat": 4,
 "nbformat_minor": 4
}
