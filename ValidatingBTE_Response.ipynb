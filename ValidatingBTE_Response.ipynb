{
 "cells": [
  {
   "cell_type": "markdown",
   "id": "d801b743",
   "metadata": {},
   "source": [
    "## Setup and loading current BTE response"
   ]
  },
  {
   "cell_type": "markdown",
   "id": "f0c0a898",
   "metadata": {},
   "source": [
    "Environment setup: I setup my python environment using conda and my jupyter notebook setup with extensions. \n",
    "\n",
    "At minimum, you'd need a setup to run jupyter notebook (<7, so 6.5.4), the libraries pathlib, and json, and installing reasoner-validator. \n",
    "\n",
    "I install/upgrade reasoner-validator using pip install. I'm currently using reasoner-validator `3.8.6` with bmt `1.1.1`.\n",
    "\n",
    "See https://ncatstranslator.github.io/reasoner-validator/index.html for reference. "
   ]
  },
  {
   "cell_type": "code",
   "execution_count": 1,
   "id": "c906bf1d",
   "metadata": {
    "ExecuteTime": {
     "end_time": "2023-08-18T22:08:44.564327Z",
     "start_time": "2023-08-18T22:08:44.209788Z"
    }
   },
   "outputs": [],
   "source": [
    "## CX: allows multiple lines of code to print from one code block\n",
    "from IPython.core.interactiveshell import InteractiveShell\n",
    "InteractiveShell.ast_node_interactivity = \"all\"\n",
    "\n",
    "# from typing import Optional, List, Dict\n",
    "from reasoner_validator.validator import TRAPIResponseValidator\n",
    "\n",
    "import pathlib\n",
    "import json"
   ]
  },
  {
   "cell_type": "code",
   "execution_count": 74,
   "id": "607cf682",
   "metadata": {
    "ExecuteTime": {
     "end_time": "2023-08-18T22:23:36.116754Z",
     "start_time": "2023-08-18T22:23:36.113837Z"
    }
   },
   "outputs": [],
   "source": [
    "samplePath = pathlib.Path.home().joinpath('Desktop', 'OldBTERuns', 'LatestTemplates', 'new_maltoIncreased.json')"
   ]
  },
  {
   "cell_type": "markdown",
   "id": "d2b96f96",
   "metadata": {},
   "source": [
    "## Try validating current"
   ]
  },
  {
   "cell_type": "code",
   "execution_count": 75,
   "id": "a85c0cc0",
   "metadata": {
    "ExecuteTime": {
     "end_time": "2023-08-18T22:23:38.074496Z",
     "start_time": "2023-08-18T22:23:38.068172Z"
    }
   },
   "outputs": [],
   "source": [
    "with open(samplePath) as file:\n",
    "    currentBTEResponse = json.load(file)"
   ]
  },
  {
   "cell_type": "code",
   "execution_count": 76,
   "id": "e68b0b62",
   "metadata": {
    "ExecuteTime": {
     "end_time": "2023-08-18T22:23:38.252290Z",
     "start_time": "2023-08-18T22:23:38.249399Z"
    }
   },
   "outputs": [],
   "source": [
    "validator = TRAPIResponseValidator(trapi_version=\"v1.4.2\", biolink_version=\"3.5.4\")"
   ]
  },
  {
   "cell_type": "code",
   "execution_count": 77,
   "id": "76125b35",
   "metadata": {
    "ExecuteTime": {
     "end_time": "2023-08-18T22:23:39.176946Z",
     "start_time": "2023-08-18T22:23:38.429743Z"
    }
   },
   "outputs": [],
   "source": [
    "validator.check_compliance_of_trapi_response(response = currentBTEResponse)"
   ]
  },
  {
   "cell_type": "code",
   "execution_count": 78,
   "id": "66229a49",
   "metadata": {
    "ExecuteTime": {
     "end_time": "2023-08-18T22:23:39.182372Z",
     "start_time": "2023-08-18T22:23:39.179113Z"
    }
   },
   "outputs": [
    {
     "data": {
      "text/plain": [
       "dict_keys(['critical', 'errors', 'warnings', 'information'])"
      ]
     },
     "execution_count": 78,
     "metadata": {},
     "output_type": "execute_result"
    }
   ],
   "source": [
    "validator.get_messages().keys()"
   ]
  },
  {
   "cell_type": "code",
   "execution_count": 79,
   "id": "d9f44879",
   "metadata": {
    "ExecuteTime": {
     "end_time": "2023-08-18T22:23:39.186918Z",
     "start_time": "2023-08-18T22:23:39.184077Z"
    }
   },
   "outputs": [
    {
     "data": {
      "text/plain": [
       "{}"
      ]
     },
     "execution_count": 79,
     "metadata": {},
     "output_type": "execute_result"
    }
   ],
   "source": [
    "validator.get_messages()['critical']"
   ]
  },
  {
   "cell_type": "code",
   "execution_count": 80,
   "id": "1db5b947",
   "metadata": {
    "ExecuteTime": {
     "end_time": "2023-08-18T22:23:39.192516Z",
     "start_time": "2023-08-18T22:23:39.189234Z"
    },
    "scrolled": true
   },
   "outputs": [
    {
     "data": {
      "text/plain": [
       "{}"
      ]
     },
     "execution_count": 80,
     "metadata": {},
     "output_type": "execute_result"
    }
   ],
   "source": [
    "validator.get_messages()['errors']\n",
    "# for (k,v) in validator.get_messages()['errors'].items():\n",
    "#     print(k)\n",
    "#     v"
   ]
  },
  {
   "cell_type": "code",
   "execution_count": 81,
   "id": "a138db38",
   "metadata": {
    "ExecuteTime": {
     "end_time": "2023-08-18T22:23:39.479372Z",
     "start_time": "2023-08-18T22:23:39.475638Z"
    }
   },
   "outputs": [
    {
     "data": {
      "text/plain": [
       "{}"
      ]
     },
     "execution_count": 81,
     "metadata": {},
     "output_type": "execute_result"
    }
   ],
   "source": [
    "validator.get_messages()['warnings']\n",
    "# for (k,v) in validator.get_messages()['warnings'].items():\n",
    "#     print(k)\n",
    "#     print(v)"
   ]
  },
  {
   "cell_type": "code",
   "execution_count": 82,
   "id": "7c200788",
   "metadata": {
    "ExecuteTime": {
     "end_time": "2023-08-18T22:23:40.355970Z",
     "start_time": "2023-08-18T22:23:40.352136Z"
    }
   },
   "outputs": [
    {
     "data": {
      "text/plain": [
       "{}"
      ]
     },
     "execution_count": 82,
     "metadata": {},
     "output_type": "execute_result"
    }
   ],
   "source": [
    "validator.get_messages()['information']"
   ]
  },
  {
   "cell_type": "code",
   "execution_count": null,
   "id": "4ca42306",
   "metadata": {},
   "outputs": [],
   "source": []
  }
 ],
 "metadata": {
  "kernelspec": {
   "display_name": "Python 3 (ipykernel)",
   "language": "python",
   "name": "python3"
  },
  "language_info": {
   "codemirror_mode": {
    "name": "ipython",
    "version": 3
   },
   "file_extension": ".py",
   "mimetype": "text/x-python",
   "name": "python",
   "nbconvert_exporter": "python",
   "pygments_lexer": "ipython3",
   "version": "3.11.4"
  },
  "toc": {
   "base_numbering": 1,
   "nav_menu": {},
   "number_sections": true,
   "sideBar": false,
   "skip_h1_title": true,
   "title_cell": "Table of Contents",
   "title_sidebar": "Contents",
   "toc_cell": false,
   "toc_position": {},
   "toc_section_display": true,
   "toc_window_display": false
  }
 },
 "nbformat": 4,
 "nbformat_minor": 5
}
