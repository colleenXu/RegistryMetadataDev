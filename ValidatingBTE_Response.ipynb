{
 "cells": [
  {
   "cell_type": "markdown",
   "id": "d801b743",
   "metadata": {},
   "source": [
    "## Setup and loading current BTE response"
   ]
  },
  {
   "cell_type": "markdown",
   "id": "f0c0a898",
   "metadata": {},
   "source": [
    "Environment setup: I setup my python environment using conda and my jupyter notebook setup with extensions. \n",
    "\n",
    "At minimum, you'd need a setup to run jupyter notebook (<7, so 6.5.4), the libraries pathlib, and json, and installing reasoner-validator. \n",
    "\n",
    "I install/upgrade reasoner-validator using pip install. I'm currently using reasoner-validator `3.7.4` with bmt `1.1.0`.\n",
    "\n",
    "See https://ncatstranslator.github.io/reasoner-validator/index.html for reference. "
   ]
  },
  {
   "cell_type": "code",
   "execution_count": 1,
   "id": "c906bf1d",
   "metadata": {
    "ExecuteTime": {
     "end_time": "2023-08-01T07:22:39.813256Z",
     "start_time": "2023-08-01T07:22:38.956978Z"
    }
   },
   "outputs": [],
   "source": [
    "## CX: allows multiple lines of code to print from one code block\n",
    "from IPython.core.interactiveshell import InteractiveShell\n",
    "InteractiveShell.ast_node_interactivity = \"all\"\n",
    "\n",
    "# from typing import Optional, List, Dict\n",
    "from reasoner_validator import TRAPIResponseValidator\n",
    "# from reasoner_validator.biolink import BiolinkValidator\n",
    "\n",
    "import pathlib\n",
    "import json"
   ]
  },
  {
   "cell_type": "code",
   "execution_count": 2,
   "id": "607cf682",
   "metadata": {
    "ExecuteTime": {
     "end_time": "2023-08-01T07:24:38.204612Z",
     "start_time": "2023-08-01T07:24:38.201916Z"
    }
   },
   "outputs": [],
   "source": [
    "samplePath = pathlib.Path.home().joinpath('Desktop', 'sample.json')"
   ]
  },
  {
   "cell_type": "markdown",
   "id": "d2b96f96",
   "metadata": {},
   "source": [
    "## Try validating current"
   ]
  },
  {
   "cell_type": "code",
   "execution_count": 3,
   "id": "a85c0cc0",
   "metadata": {
    "ExecuteTime": {
     "end_time": "2023-08-01T07:24:42.923555Z",
     "start_time": "2023-08-01T07:24:42.840274Z"
    }
   },
   "outputs": [],
   "source": [
    "with open(samplePath) as file:\n",
    "    currentBTEResponse = json.load(file)"
   ]
  },
  {
   "cell_type": "code",
   "execution_count": 4,
   "id": "e68b0b62",
   "metadata": {
    "ExecuteTime": {
     "end_time": "2023-08-01T07:25:37.548461Z",
     "start_time": "2023-08-01T07:25:37.545357Z"
    }
   },
   "outputs": [
    {
     "name": "stderr",
     "output_type": "stream",
     "text": [
      "\n",
      "ValidationReporter set to TRAPI Version: 'v1.4.2'\n"
     ]
    }
   ],
   "source": [
    "validator = TRAPIResponseValidator(trapi_version=\"v1.4.2\", biolink_version=\"3.5.2\")"
   ]
  },
  {
   "cell_type": "code",
   "execution_count": 5,
   "id": "76125b35",
   "metadata": {
    "ExecuteTime": {
     "end_time": "2023-08-01T07:26:01.367873Z",
     "start_time": "2023-08-01T07:25:53.137023Z"
    }
   },
   "outputs": [
    {
     "name": "stderr",
     "output_type": "stream",
     "text": [
      "\n",
      "ValidationReporter set to TRAPI Version: 'v1.4.2'\n",
      "\n",
      "ValidationReporter set to TRAPI Version: 'v1.4.2'\n",
      "\n",
      "Biolink Model Toolkit Wrapper set to TRAPI Version: '3.5.2'\n",
      "\n",
      "ValidationReporter set to TRAPI Version: 'v1.4.2'\n",
      "\n",
      "ValidationReporter set to TRAPI Version: 'v1.4.2'\n",
      "\n",
      "ValidationReporter set to TRAPI Version: 'v1.4.2'\n",
      "\n",
      "Biolink Model Toolkit Wrapper set to TRAPI Version: '3.5.2'\n",
      "\n",
      "ValidationReporter set to TRAPI Version: 'v1.4.2'\n"
     ]
    }
   ],
   "source": [
    "validator.check_compliance_of_trapi_response(response = currentBTEResponse)"
   ]
  },
  {
   "cell_type": "code",
   "execution_count": 6,
   "id": "66229a49",
   "metadata": {
    "ExecuteTime": {
     "end_time": "2023-08-01T07:26:01.375688Z",
     "start_time": "2023-08-01T07:26:01.370004Z"
    }
   },
   "outputs": [
    {
     "data": {
      "text/plain": [
       "dict_keys(['critical', 'errors', 'warnings', 'information'])"
      ]
     },
     "execution_count": 6,
     "metadata": {},
     "output_type": "execute_result"
    }
   ],
   "source": [
    "validator.get_messages().keys()"
   ]
  },
  {
   "cell_type": "code",
   "execution_count": 8,
   "id": "d9f44879",
   "metadata": {
    "ExecuteTime": {
     "end_time": "2023-08-01T07:26:30.742440Z",
     "start_time": "2023-08-01T07:26:30.738563Z"
    }
   },
   "outputs": [
    {
     "data": {
      "text/plain": [
       "dict_keys([])"
      ]
     },
     "execution_count": 8,
     "metadata": {},
     "output_type": "execute_result"
    }
   ],
   "source": [
    "validator.get_messages()['critical'].keys()"
   ]
  },
  {
   "cell_type": "code",
   "execution_count": 10,
   "id": "1db5b947",
   "metadata": {
    "ExecuteTime": {
     "end_time": "2023-08-01T07:27:23.733144Z",
     "start_time": "2023-08-01T07:27:23.729965Z"
    },
    "scrolled": true
   },
   "outputs": [
    {
     "name": "stdout",
     "output_type": "stream",
     "text": [
      "error.knowledge_graph.edge.qualifiers.qualifier.value.unresolved\n",
      "{'global': {'activity_or_abundance': [{'edge_id': 'PUBCHEM.COMPOUND:187--biolink:affects->NCBIGene:2261', 'qualifier_type_id': 'biolink:object_aspect_qualifier'}]}}\n",
      "error.knowledge_graph.edge.attribute.type_id.unknown\n",
      "{'infores:text-mining-provider-targeted -> infores:biothings-explorer': {'biolink:semmed_agreement_count': [{'edge_id': 'PUBCHEM.COMPOUND:31101--biolink:treats->MONDO:0008487'}]}, 'global': {'biolink:semmed_agreement_count': [{'edge_id': 'PUBCHEM.COMPOUND:4168--biolink:treats->MONDO:0019933'}]}}\n"
     ]
    }
   ],
   "source": [
    "for (k,v) in validator.get_messages()['errors'].items():\n",
    "    print(k)\n",
    "    print(v)"
   ]
  },
  {
   "cell_type": "code",
   "execution_count": 11,
   "id": "a138db38",
   "metadata": {
    "ExecuteTime": {
     "end_time": "2023-08-01T07:28:13.659679Z",
     "start_time": "2023-08-01T07:28:13.655626Z"
    }
   },
   "outputs": [
    {
     "data": {
      "text/plain": [
       "{'warning.knowledge_graph.node.id.unmapped_prefix': {'global': {'CHEMBL.COMPOUND:CHEMBL2107857': [{'categories': \"['biolink:ChemicalEntity']\"}]}},\n",
       " 'warning.knowledge_graph.edge.attribute.type_id.not_association_slot': {'infores:biothings-explorer': {'biolink:support_graphs': [{'edge_id': 'PUBCHEM.COMPOUND:5983--biolink:treats->MONDO:0007035'}]},\n",
       "  'global': {'biolink:support_graphs': [{'edge_id': 'PUBCHEM.COMPOUND:23576--biolink:treats->MONDO:0007035'}]}}}"
      ]
     },
     "execution_count": 11,
     "metadata": {},
     "output_type": "execute_result"
    }
   ],
   "source": [
    "validator.get_messages()['warnings']"
   ]
  },
  {
   "cell_type": "code",
   "execution_count": 12,
   "id": "7c200788",
   "metadata": {
    "ExecuteTime": {
     "end_time": "2023-08-01T07:28:25.303127Z",
     "start_time": "2023-08-01T07:28:25.299039Z"
    }
   },
   "outputs": [
    {
     "data": {
      "text/plain": [
       "{}"
      ]
     },
     "execution_count": 12,
     "metadata": {},
     "output_type": "execute_result"
    }
   ],
   "source": [
    "validator.get_messages()['information']"
   ]
  },
  {
   "cell_type": "code",
   "execution_count": null,
   "id": "4ca42306",
   "metadata": {},
   "outputs": [],
   "source": []
  }
 ],
 "metadata": {
  "kernelspec": {
   "display_name": "Python 3 (ipykernel)",
   "language": "python",
   "name": "python3"
  },
  "language_info": {
   "codemirror_mode": {
    "name": "ipython",
    "version": 3
   },
   "file_extension": ".py",
   "mimetype": "text/x-python",
   "name": "python",
   "nbconvert_exporter": "python",
   "pygments_lexer": "ipython3",
   "version": "3.11.4"
  },
  "toc": {
   "base_numbering": 1,
   "nav_menu": {},
   "number_sections": true,
   "sideBar": false,
   "skip_h1_title": true,
   "title_cell": "Table of Contents",
   "title_sidebar": "Contents",
   "toc_cell": false,
   "toc_position": {},
   "toc_section_display": true,
   "toc_window_display": false
  }
 },
 "nbformat": 4,
 "nbformat_minor": 5
}
