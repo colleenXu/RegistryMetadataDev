{
 "cells": [
  {
   "cell_type": "markdown",
   "id": "d801b743",
   "metadata": {},
   "source": [
    "## Setup and loading current BTE response"
   ]
  },
  {
   "cell_type": "markdown",
   "id": "f0c0a898",
   "metadata": {},
   "source": [
    "Environment setup: I setup my python environment using conda and my jupyter notebook setup with extensions. \n",
    "\n",
    "At minimum, you'd need a setup to run jupyter notebook (<7, so 6.5.4), the libraries pathlib, and json, and installing reasoner-validator. \n",
    "\n",
    "I install/upgrade reasoner-validator using pip install. I'm currently using reasoner-validator `3.8.2` with bmt `1.1.1`.\n",
    "\n",
    "See https://ncatstranslator.github.io/reasoner-validator/index.html for reference. "
   ]
  },
  {
   "cell_type": "code",
   "execution_count": 1,
   "id": "c906bf1d",
   "metadata": {
    "ExecuteTime": {
     "end_time": "2023-08-15T05:13:04.521532Z",
     "start_time": "2023-08-15T05:13:03.609340Z"
    }
   },
   "outputs": [],
   "source": [
    "## CX: allows multiple lines of code to print from one code block\n",
    "from IPython.core.interactiveshell import InteractiveShell\n",
    "InteractiveShell.ast_node_interactivity = \"all\"\n",
    "\n",
    "# from typing import Optional, List, Dict\n",
    "from reasoner_validator.validator import TRAPIResponseValidator\n",
    "\n",
    "import pathlib\n",
    "import json"
   ]
  },
  {
   "cell_type": "code",
   "execution_count": 12,
   "id": "607cf682",
   "metadata": {
    "ExecuteTime": {
     "end_time": "2023-08-15T05:16:16.062735Z",
     "start_time": "2023-08-15T05:16:16.060168Z"
    }
   },
   "outputs": [],
   "source": [
    "samplePath = pathlib.Path.home().joinpath('Desktop', 'pub1.json')"
   ]
  },
  {
   "cell_type": "markdown",
   "id": "d2b96f96",
   "metadata": {},
   "source": [
    "## Try validating current"
   ]
  },
  {
   "cell_type": "code",
   "execution_count": 38,
   "id": "a85c0cc0",
   "metadata": {
    "ExecuteTime": {
     "end_time": "2023-08-15T05:21:50.672559Z",
     "start_time": "2023-08-15T05:21:50.635624Z"
    }
   },
   "outputs": [],
   "source": [
    "with open(samplePath) as file:\n",
    "    currentBTEResponse = json.load(file)"
   ]
  },
  {
   "cell_type": "code",
   "execution_count": 39,
   "id": "e68b0b62",
   "metadata": {
    "ExecuteTime": {
     "end_time": "2023-08-15T05:21:51.233119Z",
     "start_time": "2023-08-15T05:21:51.230601Z"
    }
   },
   "outputs": [],
   "source": [
    "validator = TRAPIResponseValidator(trapi_version=\"v1.4.2\", biolink_version=\"3.5.3\")"
   ]
  },
  {
   "cell_type": "code",
   "execution_count": 40,
   "id": "76125b35",
   "metadata": {
    "ExecuteTime": {
     "end_time": "2023-08-15T05:21:52.983917Z",
     "start_time": "2023-08-15T05:21:51.801299Z"
    }
   },
   "outputs": [],
   "source": [
    "validator.check_compliance_of_trapi_response(response = currentBTEResponse)"
   ]
  },
  {
   "cell_type": "code",
   "execution_count": 41,
   "id": "66229a49",
   "metadata": {
    "ExecuteTime": {
     "end_time": "2023-08-15T05:21:53.436939Z",
     "start_time": "2023-08-15T05:21:53.433615Z"
    }
   },
   "outputs": [
    {
     "data": {
      "text/plain": [
       "dict_keys(['critical', 'errors', 'warnings', 'information'])"
      ]
     },
     "execution_count": 41,
     "metadata": {},
     "output_type": "execute_result"
    }
   ],
   "source": [
    "validator.get_messages().keys()"
   ]
  },
  {
   "cell_type": "code",
   "execution_count": 42,
   "id": "d9f44879",
   "metadata": {
    "ExecuteTime": {
     "end_time": "2023-08-15T05:21:54.054077Z",
     "start_time": "2023-08-15T05:21:54.050526Z"
    }
   },
   "outputs": [
    {
     "data": {
      "text/plain": [
       "dict_keys([])"
      ]
     },
     "execution_count": 42,
     "metadata": {},
     "output_type": "execute_result"
    }
   ],
   "source": [
    "validator.get_messages()['critical'].keys()"
   ]
  },
  {
   "cell_type": "code",
   "execution_count": 43,
   "id": "1db5b947",
   "metadata": {
    "ExecuteTime": {
     "end_time": "2023-08-15T05:21:54.994904Z",
     "start_time": "2023-08-15T05:21:54.990533Z"
    },
    "scrolled": true
   },
   "outputs": [
    {
     "data": {
      "text/plain": [
       "dict_keys([])"
      ]
     },
     "execution_count": 43,
     "metadata": {},
     "output_type": "execute_result"
    }
   ],
   "source": [
    "validator.get_messages()['errors'].keys()\n",
    "for (k,v) in validator.get_messages()['errors'].items():\n",
    "    print(k)\n",
    "    print(v)"
   ]
  },
  {
   "cell_type": "code",
   "execution_count": 46,
   "id": "a138db38",
   "metadata": {
    "ExecuteTime": {
     "end_time": "2023-08-15T05:22:17.895658Z",
     "start_time": "2023-08-15T05:22:17.890814Z"
    }
   },
   "outputs": [
    {
     "data": {
      "text/plain": [
       "{'warning.query_graph.node.ids.unmapped_prefix': {'global': {'n0': [{'unmapped_ids': \"['UniProtKB:Q9NWZ3']\",\n",
       "     'categories': \"['biolink:Gene']\"}]}}}"
      ]
     },
     "execution_count": 46,
     "metadata": {},
     "output_type": "execute_result"
    },
    {
     "name": "stdout",
     "output_type": "stream",
     "text": [
      "warning.query_graph.node.ids.unmapped_prefix\n",
      "{'global': {'n0': [{'unmapped_ids': \"['UniProtKB:Q9NWZ3']\", 'categories': \"['biolink:Gene']\"}]}}\n"
     ]
    }
   ],
   "source": [
    "validator.get_messages()['warnings']\n",
    "for (k,v) in validator.get_messages()['warnings'].items():\n",
    "    print(k)\n",
    "    print(v)"
   ]
  },
  {
   "cell_type": "code",
   "execution_count": 47,
   "id": "7c200788",
   "metadata": {
    "ExecuteTime": {
     "end_time": "2023-08-15T05:23:10.337365Z",
     "start_time": "2023-08-15T05:23:10.333561Z"
    }
   },
   "outputs": [
    {
     "data": {
      "text/plain": [
       "{}"
      ]
     },
     "execution_count": 47,
     "metadata": {},
     "output_type": "execute_result"
    }
   ],
   "source": [
    "validator.get_messages()['information']"
   ]
  },
  {
   "cell_type": "code",
   "execution_count": null,
   "id": "4ca42306",
   "metadata": {},
   "outputs": [],
   "source": []
  }
 ],
 "metadata": {
  "kernelspec": {
   "display_name": "Python 3 (ipykernel)",
   "language": "python",
   "name": "python3"
  },
  "language_info": {
   "codemirror_mode": {
    "name": "ipython",
    "version": 3
   },
   "file_extension": ".py",
   "mimetype": "text/x-python",
   "name": "python",
   "nbconvert_exporter": "python",
   "pygments_lexer": "ipython3",
   "version": "3.11.4"
  },
  "toc": {
   "base_numbering": 1,
   "nav_menu": {},
   "number_sections": true,
   "sideBar": false,
   "skip_h1_title": true,
   "title_cell": "Table of Contents",
   "title_sidebar": "Contents",
   "toc_cell": false,
   "toc_position": {},
   "toc_section_display": true,
   "toc_window_display": false
  }
 },
 "nbformat": 4,
 "nbformat_minor": 5
}
