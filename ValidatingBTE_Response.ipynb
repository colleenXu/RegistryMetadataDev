{
 "cells": [
  {
   "cell_type": "markdown",
   "id": "d801b743",
   "metadata": {},
   "source": [
    "## Setup and loading current BTE response"
   ]
  },
  {
   "cell_type": "code",
   "execution_count": 1,
   "id": "c906bf1d",
   "metadata": {
    "ExecuteTime": {
     "end_time": "2021-09-20T22:27:31.310767Z",
     "start_time": "2021-09-20T22:27:30.623019Z"
    }
   },
   "outputs": [
    {
     "name": "stdout",
     "output_type": "stream",
     "text": [
      "\n",
      "WARNING: '1.0.0-beta' is not a valid release version\n"
     ]
    }
   ],
   "source": [
    "## CX: allows multiple lines of code to print from one code block\n",
    "from IPython.core.interactiveshell import InteractiveShell\n",
    "InteractiveShell.ast_node_interactivity = \"all\"\n",
    "\n",
    "from reasoner_validator import validate\n",
    "\n",
    "import pathlib\n",
    "import json"
   ]
  },
  {
   "cell_type": "code",
   "execution_count": 2,
   "id": "607cf682",
   "metadata": {
    "ExecuteTime": {
     "end_time": "2021-09-20T22:27:32.557729Z",
     "start_time": "2021-09-20T22:27:32.554716Z"
    }
   },
   "outputs": [],
   "source": [
    "samplePath = pathlib.Path.home().joinpath('Desktop', 'testingRepoStuff', 'trapi12.json')"
   ]
  },
  {
   "cell_type": "markdown",
   "id": "d2b96f96",
   "metadata": {},
   "source": [
    "## Try validating current"
   ]
  },
  {
   "cell_type": "code",
   "execution_count": 3,
   "id": "a85c0cc0",
   "metadata": {
    "ExecuteTime": {
     "end_time": "2021-09-20T22:27:37.766000Z",
     "start_time": "2021-09-20T22:27:37.755829Z"
    }
   },
   "outputs": [],
   "source": [
    "with open(samplePath) as file:\n",
    "    currentBTEResponse = json.load(file)"
   ]
  },
  {
   "cell_type": "code",
   "execution_count": 6,
   "id": "e68b0b62",
   "metadata": {
    "ExecuteTime": {
     "end_time": "2021-09-20T22:28:03.043354Z",
     "start_time": "2021-09-20T22:28:01.733420Z"
    }
   },
   "outputs": [
    {
     "ename": "ValidationError",
     "evalue": "'1.0' is not of type 'number'\n\nFailed validating 'type' in schema[0]:\n    {'description': 'A numerical score associated with this result '\n                    'indicating the relevance or confidence of this result '\n                    'relative to others in the returned set. Higher MUST '\n                    'be better.',\n     'example': 163.233,\n     'format': 'float',\n     'type': 'number'}\n\nOn instance:\n    '1.0'",
     "output_type": "error",
     "traceback": [
      "\u001b[0;31m---------------------------------------------------------------------------\u001b[0m",
      "\u001b[0;31mValidationError\u001b[0m                           Traceback (most recent call last)",
      "\u001b[0;32m<ipython-input-6-e91969921f3b>\u001b[0m in \u001b[0;36m<module>\u001b[0;34m\u001b[0m\n\u001b[0;32m----> 1\u001b[0;31m \u001b[0mvalidate\u001b[0m\u001b[0;34m(\u001b[0m\u001b[0mcurrentBTEResponse\u001b[0m\u001b[0;34m,\u001b[0m \u001b[0;34m\"Response\"\u001b[0m\u001b[0;34m,\u001b[0m \u001b[0;34m\"1.2.0\"\u001b[0m\u001b[0;34m)\u001b[0m\u001b[0;34m\u001b[0m\u001b[0;34m\u001b[0m\u001b[0m\n\u001b[0m",
      "\u001b[0;32m~/miniconda3/envs/BTE/lib/python3.9/site-packages/reasoner_validator/__init__.py\u001b[0m in \u001b[0;36mvalidate\u001b[0;34m(instance, component, trapi_version)\u001b[0m\n\u001b[1;32m     28\u001b[0m     \"\"\"\n\u001b[1;32m     29\u001b[0m     \u001b[0mschema\u001b[0m \u001b[0;34m=\u001b[0m \u001b[0mload_schema\u001b[0m\u001b[0;34m(\u001b[0m\u001b[0mtrapi_version\u001b[0m\u001b[0;34m)\u001b[0m\u001b[0;34m[\u001b[0m\u001b[0mcomponent\u001b[0m\u001b[0;34m]\u001b[0m\u001b[0;34m\u001b[0m\u001b[0;34m\u001b[0m\u001b[0m\n\u001b[0;32m---> 30\u001b[0;31m     \u001b[0mjsonschema\u001b[0m\u001b[0;34m.\u001b[0m\u001b[0mvalidate\u001b[0m\u001b[0;34m(\u001b[0m\u001b[0minstance\u001b[0m\u001b[0;34m,\u001b[0m \u001b[0mschema\u001b[0m\u001b[0;34m)\u001b[0m\u001b[0;34m\u001b[0m\u001b[0;34m\u001b[0m\u001b[0m\n\u001b[0m",
      "\u001b[0;32m~/miniconda3/envs/BTE/lib/python3.9/site-packages/jsonschema/validators.py\u001b[0m in \u001b[0;36mvalidate\u001b[0;34m(instance, schema, cls, *args, **kwargs)\u001b[0m\n\u001b[1;32m    932\u001b[0m     \u001b[0merror\u001b[0m \u001b[0;34m=\u001b[0m \u001b[0mexceptions\u001b[0m\u001b[0;34m.\u001b[0m\u001b[0mbest_match\u001b[0m\u001b[0;34m(\u001b[0m\u001b[0mvalidator\u001b[0m\u001b[0;34m.\u001b[0m\u001b[0miter_errors\u001b[0m\u001b[0;34m(\u001b[0m\u001b[0minstance\u001b[0m\u001b[0;34m)\u001b[0m\u001b[0;34m)\u001b[0m\u001b[0;34m\u001b[0m\u001b[0;34m\u001b[0m\u001b[0m\n\u001b[1;32m    933\u001b[0m     \u001b[0;32mif\u001b[0m \u001b[0merror\u001b[0m \u001b[0;32mis\u001b[0m \u001b[0;32mnot\u001b[0m \u001b[0;32mNone\u001b[0m\u001b[0;34m:\u001b[0m\u001b[0;34m\u001b[0m\u001b[0;34m\u001b[0m\u001b[0m\n\u001b[0;32m--> 934\u001b[0;31m         \u001b[0;32mraise\u001b[0m \u001b[0merror\u001b[0m\u001b[0;34m\u001b[0m\u001b[0;34m\u001b[0m\u001b[0m\n\u001b[0m\u001b[1;32m    935\u001b[0m \u001b[0;34m\u001b[0m\u001b[0m\n\u001b[1;32m    936\u001b[0m \u001b[0;34m\u001b[0m\u001b[0m\n",
      "\u001b[0;31mValidationError\u001b[0m: '1.0' is not of type 'number'\n\nFailed validating 'type' in schema[0]:\n    {'description': 'A numerical score associated with this result '\n                    'indicating the relevance or confidence of this result '\n                    'relative to others in the returned set. Higher MUST '\n                    'be better.',\n     'example': 163.233,\n     'format': 'float',\n     'type': 'number'}\n\nOn instance:\n    '1.0'"
     ]
    }
   ],
   "source": [
    "validate(currentBTEResponse, \"Response\", \"1.2.0\")"
   ]
  },
  {
   "cell_type": "markdown",
   "id": "ee819af8",
   "metadata": {},
   "source": [
    "## Add modifications"
   ]
  },
  {
   "cell_type": "code",
   "execution_count": 7,
   "id": "2d3afd97",
   "metadata": {
    "ExecuteTime": {
     "end_time": "2021-09-20T22:28:10.777744Z",
     "start_time": "2021-09-20T22:28:10.775197Z"
    }
   },
   "outputs": [],
   "source": [
    "modifiedResponse = currentBTEResponse.copy()"
   ]
  },
  {
   "cell_type": "code",
   "execution_count": 9,
   "id": "b43c1329",
   "metadata": {
    "ExecuteTime": {
     "end_time": "2021-09-20T22:35:36.503556Z",
     "start_time": "2021-09-20T22:35:36.498310Z"
    }
   },
   "outputs": [
    {
     "data": {
      "text/plain": [
       "{'node_bindings': {'n1': [{'id': 'NCBIGene:5241'}],\n",
       "  'n0': [{'id': 'NCBIGene:23221'}],\n",
       "  'n2': [{'id': 'PUBCHEM.COMPOUND:11221807'}]},\n",
       " 'edge_bindings': {'e01': [{'id': 'adb5033a657ecaca6e9ff07c75ad21ba'}],\n",
       "  'e02': [{'id': '95859f6036370d935ea273a1877b8c68'}]},\n",
       " 'score': '1.0'}"
      ]
     },
     "execution_count": 9,
     "metadata": {},
     "output_type": "execute_result"
    }
   ],
   "source": [
    "modifiedResponse['message']['results'][0]"
   ]
  },
  {
   "cell_type": "code",
   "execution_count": 10,
   "id": "746048e0",
   "metadata": {
    "ExecuteTime": {
     "end_time": "2021-09-20T22:36:22.799089Z",
     "start_time": "2021-09-20T22:36:22.796251Z"
    }
   },
   "outputs": [],
   "source": [
    "for i in modifiedResponse['message']['results']:\n",
    "    i['score'] = float(i['score'])"
   ]
  },
  {
   "cell_type": "code",
   "execution_count": 11,
   "id": "5cc7d537",
   "metadata": {
    "ExecuteTime": {
     "end_time": "2021-09-20T22:36:34.544772Z",
     "start_time": "2021-09-20T22:36:32.588496Z"
    }
   },
   "outputs": [],
   "source": [
    "validate(modifiedResponse, \"Response\", \"1.2.0\")"
   ]
  },
  {
   "cell_type": "code",
   "execution_count": 12,
   "id": "23ac3ccf",
   "metadata": {
    "ExecuteTime": {
     "end_time": "2021-09-20T22:36:52.379324Z",
     "start_time": "2021-09-20T22:36:52.374998Z"
    }
   },
   "outputs": [
    {
     "data": {
      "text/plain": [
       "{'node_bindings': {'n1': [{'id': 'NCBIGene:5241'}],\n",
       "  'n0': [{'id': 'NCBIGene:23221'}],\n",
       "  'n2': [{'id': 'PUBCHEM.COMPOUND:11221807'}]},\n",
       " 'edge_bindings': {'e01': [{'id': 'adb5033a657ecaca6e9ff07c75ad21ba'}],\n",
       "  'e02': [{'id': '95859f6036370d935ea273a1877b8c68'}]},\n",
       " 'score': 1.0}"
      ]
     },
     "execution_count": 12,
     "metadata": {},
     "output_type": "execute_result"
    }
   ],
   "source": [
    "modifiedResponse['message']['results'][0]"
   ]
  },
  {
   "cell_type": "code",
   "execution_count": null,
   "id": "66229a49",
   "metadata": {},
   "outputs": [],
   "source": []
  }
 ],
 "metadata": {
  "kernelspec": {
   "display_name": "Python 3",
   "language": "python",
   "name": "python3"
  },
  "language_info": {
   "codemirror_mode": {
    "name": "ipython",
    "version": 3
   },
   "file_extension": ".py",
   "mimetype": "text/x-python",
   "name": "python",
   "nbconvert_exporter": "python",
   "pygments_lexer": "ipython3",
   "version": "3.9.4"
  },
  "toc": {
   "base_numbering": 1,
   "nav_menu": {},
   "number_sections": true,
   "sideBar": false,
   "skip_h1_title": true,
   "title_cell": "Table of Contents",
   "title_sidebar": "Contents",
   "toc_cell": false,
   "toc_position": {},
   "toc_section_display": true,
   "toc_window_display": false
  }
 },
 "nbformat": 4,
 "nbformat_minor": 5
}
