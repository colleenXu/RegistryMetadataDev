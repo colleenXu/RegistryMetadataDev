{
 "cells": [
  {
   "cell_type": "markdown",
   "id": "d801b743",
   "metadata": {},
   "source": [
    "## Setup and loading current BTE response"
   ]
  },
  {
   "cell_type": "code",
   "execution_count": 1,
   "id": "c906bf1d",
   "metadata": {
    "ExecuteTime": {
     "end_time": "2021-06-15T05:56:40.433552Z",
     "start_time": "2021-06-15T05:56:39.883158Z"
    }
   },
   "outputs": [
    {
     "name": "stdout",
     "output_type": "stream",
     "text": [
      "\n",
      "WARNING: '1.0.0-beta' is not a valid release version\n"
     ]
    }
   ],
   "source": [
    "## CX: allows multiple lines of code to print from one code block\n",
    "from IPython.core.interactiveshell import InteractiveShell\n",
    "InteractiveShell.ast_node_interactivity = \"all\"\n",
    "\n",
    "from reasoner_validator import validate\n",
    "\n",
    "import pathlib\n",
    "import json"
   ]
  },
  {
   "cell_type": "code",
   "execution_count": 15,
   "id": "607cf682",
   "metadata": {
    "ExecuteTime": {
     "end_time": "2021-06-15T06:01:42.017464Z",
     "start_time": "2021-06-15T06:01:42.014424Z"
    }
   },
   "outputs": [],
   "source": [
    "samplePath = pathlib.Path.home().joinpath('Desktop', 'testingRepoStuff', 'testing_issue_71_newer.json')"
   ]
  },
  {
   "cell_type": "markdown",
   "id": "d2b96f96",
   "metadata": {},
   "source": [
    "## Try validating current"
   ]
  },
  {
   "cell_type": "code",
   "execution_count": 16,
   "id": "a85c0cc0",
   "metadata": {
    "ExecuteTime": {
     "end_time": "2021-06-15T06:01:44.201287Z",
     "start_time": "2021-06-15T06:01:44.193683Z"
    }
   },
   "outputs": [],
   "source": [
    "with open(samplePath) as file:\n",
    "    currentBTEResponse = json.load(file)"
   ]
  },
  {
   "cell_type": "code",
   "execution_count": 17,
   "id": "e68b0b62",
   "metadata": {
    "ExecuteTime": {
     "end_time": "2021-06-15T06:01:45.127847Z",
     "start_time": "2021-06-15T06:01:44.977226Z"
    }
   },
   "outputs": [
    {
     "ename": "ValidationError",
     "evalue": "Additional properties are not allowed ('type' was unexpected)\n\nFailed validating 'additionalProperties' in schema[0]['items']:\n    {'additionalProperties': False,\n     'description': 'Generic attribute for a node or an edge that expands '\n                    'the key-value pair concept by including fields for '\n                    'additional metadata. These fields can be used to '\n                    'describe the source of the statement made in '\n                    'key-value pair of the attribute object, or describe '\n                    \"the attribute's value itself including its semantic \"\n                    'type, or a url providing additional information about '\n                    'it.',\n     'properties': {'attribute_source': {'oneOf': [{'description': 'The '\n                                                                   'source '\n                                                                   'of the '\n                                                                   'core '\n                                                                   'assertion '\n                                                                   'made '\n                                                                   'by the '\n                                                                   'key-value '\n                                                                   'pair '\n                                                                   'of an '\n                                                                   'attribute '\n                                                                   'object. '\n                                                                   'Use a '\n                                                                   'CURIE '\n                                                                   'or '\n                                                                   'namespace '\n                                                                   'designator '\n                                                                   'for '\n                                                                   'this '\n                                                                   'resource '\n                                                                   'where '\n                                                                   'possible.',\n                                                    'example': 'UniProtKB',\n                                                    'type': 'string'},\n                                                   {'type': 'null'}]},\n                    'attribute_type_id': {'$ref': '#/components/schemas/CURIE',\n                                          'description': \"The 'key' of the \"\n                                                         'attribute '\n                                                         'object, holding '\n                                                         'a CURIE of an '\n                                                         'ontology '\n                                                         'property '\n                                                         'defining the '\n                                                         'attribute '\n                                                         '(preferably the '\n                                                         'CURIE of a '\n                                                         'Biolink '\n                                                         'association '\n                                                         'slot). This '\n                                                         'property '\n                                                         'captures the '\n                                                         'relationship '\n                                                         'asserted to hold '\n                                                         'between the '\n                                                         'value of the '\n                                                         'attribute, and '\n                                                         'the node or edge '\n                                                         'from  which it '\n                                                         'hangs. For '\n                                                         'example, that a '\n                                                         'value of '\n                                                         \"'0.000153' \"\n                                                         'represents a '\n                                                         'p-value '\n                                                         'supporting an '\n                                                         'edge, or that a '\n                                                         'value of '\n                                                         \"'ChEMBL' \"\n                                                         'represents the '\n                                                         'original source '\n                                                         'of the knowledge '\n                                                         'expressed in the '\n                                                         'edge.',\n                                          'example': 'Biolink:has_p-value_evidence, '\n                                                     'Biolink:has_original_source'},\n                    'description': {'oneOf': [{'description': 'Human-readable '\n                                                              'description '\n                                                              'for the '\n                                                              'attribute '\n                                                              'and its '\n                                                              'value.',\n                                               'example': 'Assertion '\n                                                          'Authored By Dr. '\n                                                          'Trans L. Ator',\n                                               'type': 'string'},\n                                              {'type': 'null'}]},\n                    'original_attribute_name': {'oneOf': [{'description': 'The '\n                                                                          'term '\n                                                                          'used '\n                                                                          'by '\n                                                                          'the '\n                                                                          'original '\n                                                                          'source '\n                                                                          'of '\n                                                                          'an '\n                                                                          'attribute '\n                                                                          'to '\n                                                                          'describe '\n                                                                          'the '\n                                                                          'meaning '\n                                                                          'or '\n                                                                          'significance '\n                                                                          'of '\n                                                                          'the '\n                                                                          'value '\n                                                                          'it '\n                                                                          'captures. '\n                                                                          'This '\n                                                                          'may '\n                                                                          'be '\n                                                                          'a '\n                                                                          'column '\n                                                                          'name '\n                                                                          'in '\n                                                                          'a '\n                                                                          'source '\n                                                                          'tsv '\n                                                                          'file, '\n                                                                          'or '\n                                                                          'a '\n                                                                          'key '\n                                                                          'in '\n                                                                          'a '\n                                                                          'source '\n                                                                          'json '\n                                                                          'document '\n                                                                          'for '\n                                                                          'the '\n                                                                          'field '\n                                                                          'in '\n                                                                          'the '\n                                                                          'data '\n                                                                          'that '\n                                                                          'held '\n                                                                          'the '\n                                                                          \"attribute's \"\n                                                                          'value. '\n                                                                          'Capturing '\n                                                                          'this '\n                                                                          'information  '\n                                                                          'where '\n                                                                          'possible '\n                                                                          'lets '\n                                                                          'us '\n                                                                          'preserve '\n                                                                          'what '\n                                                                          'the '\n                                                                          'original '\n                                                                          'source '\n                                                                          'said. '\n                                                                          'Note '\n                                                                          'that '\n                                                                          'the '\n                                                                          'data '\n                                                                          'type '\n                                                                          'is '\n                                                                          \"string' \"\n                                                                          'but '\n                                                                          'the '\n                                                                          'contents '\n                                                                          'of '\n                                                                          'the '\n                                                                          'field '\n                                                                          'could '\n                                                                          'also '\n                                                                          'be '\n                                                                          'a '\n                                                                          'CURIE '\n                                                                          'of '\n                                                                          'a '\n                                                                          'third '\n                                                                          'party '\n                                                                          'ontology '\n                                                                          'term.',\n                                                           'example': 'p-value',\n                                                           'type': 'string'},\n                                                          {'type': 'null'}]},\n                    'value': {'description': 'Value of the attribute. May '\n                                             'be any data type, including '\n                                             'a list.',\n                              'example': 0.000153},\n                    'value_type_id': {'oneOf': [{'allOf': [{'$ref': '#/components/schemas/CURIE'}],\n                                                 'description': 'CURIE '\n                                                                'describing '\n                                                                'the '\n                                                                'semantic '\n                                                                'type of '\n                                                                'an  '\n                                                                \"attribute's \"\n                                                                'value. '\n                                                                'Use a '\n                                                                'Biolink '\n                                                                'class if '\n                                                                'possible, '\n                                                                'otherwise '\n                                                                'a term '\n                                                                'from an '\n                                                                'external '\n                                                                'ontology. '\n                                                                'If a '\n                                                                'suitable '\n                                                                'CURIE/identifier '\n                                                                'does not '\n                                                                'exist, '\n                                                                'enter a '\n                                                                'descriptive '\n                                                                'phrase '\n                                                                'here and '\n                                                                'submit '\n                                                                'the new '\n                                                                'type for '\n                                                                'consideration '\n                                                                'by the '\n                                                                'appropriate '\n                                                                'authority.',\n                                                 'example': 'EDAM:data_1187'},\n                                                {'type': 'null'}]},\n                    'value_url': {'oneOf': [{'description': 'Human-consumable '\n                                                            'URL linking '\n                                                            'to a web '\n                                                            'document that '\n                                                            'provides '\n                                                            'additional '\n                                                            'information '\n                                                            'about an  '\n                                                            \"attribute's \"\n                                                            'value (not '\n                                                            'the node or '\n                                                            'the edge fom '\n                                                            'which it '\n                                                            'hangs).',\n                                             'example': 'https://pubmed.ncbi.nlm.nih.gov/32529952',\n                                             'type': 'string'},\n                                            {'type': 'null'}]}},\n     'required': ['attribute_type_id', 'value'],\n     'type': 'object'}\n\nOn instance[0]:\n    {'attribute_type_id': 'equivalent_identifiers',\n     'type': 'biolink:id',\n     'value': ['UMLS:C0949639',\n               'MESH:D024363',\n               'name:Transcription Initiation Site',\n               'name:Initiation Sites, Transcription',\n               'name:Sites, Transcription Initiation',\n               'name:Transcription Initiation Sites',\n               'name:Initiation Site, Transcription',\n               'name:Site, Transcription Initiation']}",
     "output_type": "error",
     "traceback": [
      "\u001b[0;31m---------------------------------------------------------------------------\u001b[0m",
      "\u001b[0;31mValidationError\u001b[0m                           Traceback (most recent call last)",
      "\u001b[0;32m<ipython-input-17-53ab0b9cc702>\u001b[0m in \u001b[0;36m<module>\u001b[0;34m\u001b[0m\n\u001b[0;32m----> 1\u001b[0;31m \u001b[0mvalidate\u001b[0m\u001b[0;34m(\u001b[0m\u001b[0mcurrentBTEResponse\u001b[0m\u001b[0;34m,\u001b[0m \u001b[0;34m\"Response\"\u001b[0m\u001b[0;34m,\u001b[0m \u001b[0;34m\"1.1.1\"\u001b[0m\u001b[0;34m)\u001b[0m\u001b[0;34m\u001b[0m\u001b[0;34m\u001b[0m\u001b[0m\n\u001b[0m",
      "\u001b[0;32m~/miniconda3/envs/BTE/lib/python3.9/site-packages/reasoner_validator/__init__.py\u001b[0m in \u001b[0;36mvalidate\u001b[0;34m(instance, component, trapi_version)\u001b[0m\n\u001b[1;32m     28\u001b[0m     \"\"\"\n\u001b[1;32m     29\u001b[0m     \u001b[0mschema\u001b[0m \u001b[0;34m=\u001b[0m \u001b[0mload_schema\u001b[0m\u001b[0;34m(\u001b[0m\u001b[0mtrapi_version\u001b[0m\u001b[0;34m)\u001b[0m\u001b[0;34m[\u001b[0m\u001b[0mcomponent\u001b[0m\u001b[0;34m]\u001b[0m\u001b[0;34m\u001b[0m\u001b[0;34m\u001b[0m\u001b[0m\n\u001b[0;32m---> 30\u001b[0;31m     \u001b[0mjsonschema\u001b[0m\u001b[0;34m.\u001b[0m\u001b[0mvalidate\u001b[0m\u001b[0;34m(\u001b[0m\u001b[0minstance\u001b[0m\u001b[0;34m,\u001b[0m \u001b[0mschema\u001b[0m\u001b[0;34m)\u001b[0m\u001b[0;34m\u001b[0m\u001b[0;34m\u001b[0m\u001b[0m\n\u001b[0m",
      "\u001b[0;32m~/miniconda3/envs/BTE/lib/python3.9/site-packages/jsonschema/validators.py\u001b[0m in \u001b[0;36mvalidate\u001b[0;34m(instance, schema, cls, *args, **kwargs)\u001b[0m\n\u001b[1;32m    932\u001b[0m     \u001b[0merror\u001b[0m \u001b[0;34m=\u001b[0m \u001b[0mexceptions\u001b[0m\u001b[0;34m.\u001b[0m\u001b[0mbest_match\u001b[0m\u001b[0;34m(\u001b[0m\u001b[0mvalidator\u001b[0m\u001b[0;34m.\u001b[0m\u001b[0miter_errors\u001b[0m\u001b[0;34m(\u001b[0m\u001b[0minstance\u001b[0m\u001b[0;34m)\u001b[0m\u001b[0;34m)\u001b[0m\u001b[0;34m\u001b[0m\u001b[0;34m\u001b[0m\u001b[0m\n\u001b[1;32m    933\u001b[0m     \u001b[0;32mif\u001b[0m \u001b[0merror\u001b[0m \u001b[0;32mis\u001b[0m \u001b[0;32mnot\u001b[0m \u001b[0;32mNone\u001b[0m\u001b[0;34m:\u001b[0m\u001b[0;34m\u001b[0m\u001b[0;34m\u001b[0m\u001b[0m\n\u001b[0;32m--> 934\u001b[0;31m         \u001b[0;32mraise\u001b[0m \u001b[0merror\u001b[0m\u001b[0;34m\u001b[0m\u001b[0;34m\u001b[0m\u001b[0m\n\u001b[0m\u001b[1;32m    935\u001b[0m \u001b[0;34m\u001b[0m\u001b[0m\n\u001b[1;32m    936\u001b[0m \u001b[0;34m\u001b[0m\u001b[0m\n",
      "\u001b[0;31mValidationError\u001b[0m: Additional properties are not allowed ('type' was unexpected)\n\nFailed validating 'additionalProperties' in schema[0]['items']:\n    {'additionalProperties': False,\n     'description': 'Generic attribute for a node or an edge that expands '\n                    'the key-value pair concept by including fields for '\n                    'additional metadata. These fields can be used to '\n                    'describe the source of the statement made in '\n                    'key-value pair of the attribute object, or describe '\n                    \"the attribute's value itself including its semantic \"\n                    'type, or a url providing additional information about '\n                    'it.',\n     'properties': {'attribute_source': {'oneOf': [{'description': 'The '\n                                                                   'source '\n                                                                   'of the '\n                                                                   'core '\n                                                                   'assertion '\n                                                                   'made '\n                                                                   'by the '\n                                                                   'key-value '\n                                                                   'pair '\n                                                                   'of an '\n                                                                   'attribute '\n                                                                   'object. '\n                                                                   'Use a '\n                                                                   'CURIE '\n                                                                   'or '\n                                                                   'namespace '\n                                                                   'designator '\n                                                                   'for '\n                                                                   'this '\n                                                                   'resource '\n                                                                   'where '\n                                                                   'possible.',\n                                                    'example': 'UniProtKB',\n                                                    'type': 'string'},\n                                                   {'type': 'null'}]},\n                    'attribute_type_id': {'$ref': '#/components/schemas/CURIE',\n                                          'description': \"The 'key' of the \"\n                                                         'attribute '\n                                                         'object, holding '\n                                                         'a CURIE of an '\n                                                         'ontology '\n                                                         'property '\n                                                         'defining the '\n                                                         'attribute '\n                                                         '(preferably the '\n                                                         'CURIE of a '\n                                                         'Biolink '\n                                                         'association '\n                                                         'slot). This '\n                                                         'property '\n                                                         'captures the '\n                                                         'relationship '\n                                                         'asserted to hold '\n                                                         'between the '\n                                                         'value of the '\n                                                         'attribute, and '\n                                                         'the node or edge '\n                                                         'from  which it '\n                                                         'hangs. For '\n                                                         'example, that a '\n                                                         'value of '\n                                                         \"'0.000153' \"\n                                                         'represents a '\n                                                         'p-value '\n                                                         'supporting an '\n                                                         'edge, or that a '\n                                                         'value of '\n                                                         \"'ChEMBL' \"\n                                                         'represents the '\n                                                         'original source '\n                                                         'of the knowledge '\n                                                         'expressed in the '\n                                                         'edge.',\n                                          'example': 'Biolink:has_p-value_evidence, '\n                                                     'Biolink:has_original_source'},\n                    'description': {'oneOf': [{'description': 'Human-readable '\n                                                              'description '\n                                                              'for the '\n                                                              'attribute '\n                                                              'and its '\n                                                              'value.',\n                                               'example': 'Assertion '\n                                                          'Authored By Dr. '\n                                                          'Trans L. Ator',\n                                               'type': 'string'},\n                                              {'type': 'null'}]},\n                    'original_attribute_name': {'oneOf': [{'description': 'The '\n                                                                          'term '\n                                                                          'used '\n                                                                          'by '\n                                                                          'the '\n                                                                          'original '\n                                                                          'source '\n                                                                          'of '\n                                                                          'an '\n                                                                          'attribute '\n                                                                          'to '\n                                                                          'describe '\n                                                                          'the '\n                                                                          'meaning '\n                                                                          'or '\n                                                                          'significance '\n                                                                          'of '\n                                                                          'the '\n                                                                          'value '\n                                                                          'it '\n                                                                          'captures. '\n                                                                          'This '\n                                                                          'may '\n                                                                          'be '\n                                                                          'a '\n                                                                          'column '\n                                                                          'name '\n                                                                          'in '\n                                                                          'a '\n                                                                          'source '\n                                                                          'tsv '\n                                                                          'file, '\n                                                                          'or '\n                                                                          'a '\n                                                                          'key '\n                                                                          'in '\n                                                                          'a '\n                                                                          'source '\n                                                                          'json '\n                                                                          'document '\n                                                                          'for '\n                                                                          'the '\n                                                                          'field '\n                                                                          'in '\n                                                                          'the '\n                                                                          'data '\n                                                                          'that '\n                                                                          'held '\n                                                                          'the '\n                                                                          \"attribute's \"\n                                                                          'value. '\n                                                                          'Capturing '\n                                                                          'this '\n                                                                          'information  '\n                                                                          'where '\n                                                                          'possible '\n                                                                          'lets '\n                                                                          'us '\n                                                                          'preserve '\n                                                                          'what '\n                                                                          'the '\n                                                                          'original '\n                                                                          'source '\n                                                                          'said. '\n                                                                          'Note '\n                                                                          'that '\n                                                                          'the '\n                                                                          'data '\n                                                                          'type '\n                                                                          'is '\n                                                                          \"string' \"\n                                                                          'but '\n                                                                          'the '\n                                                                          'contents '\n                                                                          'of '\n                                                                          'the '\n                                                                          'field '\n                                                                          'could '\n                                                                          'also '\n                                                                          'be '\n                                                                          'a '\n                                                                          'CURIE '\n                                                                          'of '\n                                                                          'a '\n                                                                          'third '\n                                                                          'party '\n                                                                          'ontology '\n                                                                          'term.',\n                                                           'example': 'p-value',\n                                                           'type': 'string'},\n                                                          {'type': 'null'}]},\n                    'value': {'description': 'Value of the attribute. May '\n                                             'be any data type, including '\n                                             'a list.',\n                              'example': 0.000153},\n                    'value_type_id': {'oneOf': [{'allOf': [{'$ref': '#/components/schemas/CURIE'}],\n                                                 'description': 'CURIE '\n                                                                'describing '\n                                                                'the '\n                                                                'semantic '\n                                                                'type of '\n                                                                'an  '\n                                                                \"attribute's \"\n                                                                'value. '\n                                                                'Use a '\n                                                                'Biolink '\n                                                                'class if '\n                                                                'possible, '\n                                                                'otherwise '\n                                                                'a term '\n                                                                'from an '\n                                                                'external '\n                                                                'ontology. '\n                                                                'If a '\n                                                                'suitable '\n                                                                'CURIE/identifier '\n                                                                'does not '\n                                                                'exist, '\n                                                                'enter a '\n                                                                'descriptive '\n                                                                'phrase '\n                                                                'here and '\n                                                                'submit '\n                                                                'the new '\n                                                                'type for '\n                                                                'consideration '\n                                                                'by the '\n                                                                'appropriate '\n                                                                'authority.',\n                                                 'example': 'EDAM:data_1187'},\n                                                {'type': 'null'}]},\n                    'value_url': {'oneOf': [{'description': 'Human-consumable '\n                                                            'URL linking '\n                                                            'to a web '\n                                                            'document that '\n                                                            'provides '\n                                                            'additional '\n                                                            'information '\n                                                            'about an  '\n                                                            \"attribute's \"\n                                                            'value (not '\n                                                            'the node or '\n                                                            'the edge fom '\n                                                            'which it '\n                                                            'hangs).',\n                                             'example': 'https://pubmed.ncbi.nlm.nih.gov/32529952',\n                                             'type': 'string'},\n                                            {'type': 'null'}]}},\n     'required': ['attribute_type_id', 'value'],\n     'type': 'object'}\n\nOn instance[0]:\n    {'attribute_type_id': 'equivalent_identifiers',\n     'type': 'biolink:id',\n     'value': ['UMLS:C0949639',\n               'MESH:D024363',\n               'name:Transcription Initiation Site',\n               'name:Initiation Sites, Transcription',\n               'name:Sites, Transcription Initiation',\n               'name:Transcription Initiation Sites',\n               'name:Initiation Site, Transcription',\n               'name:Site, Transcription Initiation']}"
     ]
    }
   ],
   "source": [
    "validate(currentBTEResponse, \"Response\", \"1.1.1\")"
   ]
  },
  {
   "cell_type": "markdown",
   "id": "ee819af8",
   "metadata": {},
   "source": [
    "## Add modifications"
   ]
  },
  {
   "cell_type": "code",
   "execution_count": 18,
   "id": "2d3afd97",
   "metadata": {
    "ExecuteTime": {
     "end_time": "2021-06-15T06:01:51.097543Z",
     "start_time": "2021-06-15T06:01:51.095023Z"
    }
   },
   "outputs": [],
   "source": [
    "modifiedResponse = currentBTEResponse.copy()"
   ]
  },
  {
   "cell_type": "code",
   "execution_count": 19,
   "id": "746048e0",
   "metadata": {
    "ExecuteTime": {
     "end_time": "2021-06-15T06:01:51.763429Z",
     "start_time": "2021-06-15T06:01:51.759076Z"
    }
   },
   "outputs": [],
   "source": [
    "for v in modifiedResponse['message']['knowledge_graph']['nodes'].values():\n",
    "    ## I don't get it but it seems to be plural here? \n",
    "    ## https://github.com/NCATSTranslator/ReasonerAPI/blob/42a9d073a92d7aaba0ddf080e461d2da088003fc/TranslatorReasonerAPI.yaml#L526\n",
    "    v['categories'] = [v.pop('category')]\n",
    "    for i in v['attributes']:\n",
    "        i['value_type_id'] = i.pop('type')\n",
    "\n",
    "for v in modifiedResponse['message']['knowledge_graph']['edges'].values():\n",
    "    for i in v['attributes']:\n",
    "        i['value_type_id'] = i.pop('type')"
   ]
  },
  {
   "cell_type": "code",
   "execution_count": 20,
   "id": "5cc7d537",
   "metadata": {
    "ExecuteTime": {
     "end_time": "2021-06-15T06:01:52.586725Z",
     "start_time": "2021-06-15T06:01:52.445107Z"
    }
   },
   "outputs": [],
   "source": [
    "validate(modifiedResponse, \"Response\", \"1.1.1\")"
   ]
  },
  {
   "cell_type": "code",
   "execution_count": 23,
   "id": "23ac3ccf",
   "metadata": {
    "ExecuteTime": {
     "end_time": "2021-06-15T06:12:57.058221Z",
     "start_time": "2021-06-15T06:12:57.053566Z"
    }
   },
   "outputs": [
    {
     "data": {
      "text/plain": [
       "{'name': 'KCNMA1',\n",
       " 'attributes': [{'attribute_type_id': 'equivalent_identifiers',\n",
       "   'value': ['NCBIGene:3778',\n",
       "    'name:potassium calcium-activated channel subfamily M alpha 1',\n",
       "    'SYMBOL:KCNMA1',\n",
       "    'UMLS:C1416602',\n",
       "    'HGNC:6284',\n",
       "    'UniProtKB:Q12791',\n",
       "    'ENSEMBL:ENSG00000156113',\n",
       "    'OMIM:600150'],\n",
       "   'value_type_id': 'biolink:id'},\n",
       "  {'attribute_type_id': 'num_source_nodes',\n",
       "   'value': 96,\n",
       "   'value_type_id': 'bts:num_source_nodes'},\n",
       "  {'attribute_type_id': 'num_target_nodes',\n",
       "   'value': 0,\n",
       "   'value_type_id': 'bts:num_target_nodes'},\n",
       "  {'attribute_type_id': 'source_qg_nodes',\n",
       "   'value': ['n0'],\n",
       "   'value_type_id': 'bts:source_qg_nodes'},\n",
       "  {'attribute_type_id': 'target_qg_nodes',\n",
       "   'value': [],\n",
       "   'value_type_id': 'bts:target_qg_nodes'},\n",
       "  {'attribute_type_id': 'interpro',\n",
       "   'value': ['Regulator of K+ conductance, N-terminal',\n",
       "    'Calcium-activated potassium channel BK, alpha subunit',\n",
       "    'Ion transport domain',\n",
       "    'Potassium channel domain',\n",
       "    'Calcium-activated potassium channel Slo-1',\n",
       "    'Voltage-dependent channel domain superfamily',\n",
       "    'NAD(P)-binding domain superfamily'],\n",
       "   'value_type_id': 'bts:interpro'},\n",
       "  {'attribute_type_id': 'type_of_gene',\n",
       "   'value': ['protein-coding'],\n",
       "   'value_type_id': 'bts:type_of_gene'}],\n",
       " 'categories': ['biolink:Gene']}"
      ]
     },
     "execution_count": 23,
     "metadata": {},
     "output_type": "execute_result"
    }
   ],
   "source": [
    "modifiedResponse['message']['knowledge_graph']['nodes']['NCBIGene:3778']"
   ]
  },
  {
   "cell_type": "code",
   "execution_count": 25,
   "id": "6fd76a82",
   "metadata": {
    "ExecuteTime": {
     "end_time": "2021-06-15T06:13:34.754651Z",
     "start_time": "2021-06-15T06:13:34.750472Z"
    }
   },
   "outputs": [
    {
     "data": {
      "text/plain": [
       "{'predicate': 'biolink:physically_interacts_with',\n",
       " 'subject': 'CHEBI:3655',\n",
       " 'object': 'NCBIGene:3778',\n",
       " 'attributes': [{'attribute_type_id': 'provided_by',\n",
       "   'value': ['drugbank', 'drugcentral', 'DGIdb'],\n",
       "   'value_type_id': 'biolink:provided_by'},\n",
       "  {'attribute_type_id': 'api',\n",
       "   'value': ['MyChem.info API', 'BioThings DGIdb API'],\n",
       "   'value_type_id': 'bts:api'},\n",
       "  {'attribute_type_id': 'publications',\n",
       "   'value': ['PMID:20505091', 'PMID:10712246', 'PMID:16859676'],\n",
       "   'value_type_id': 'biolink:publication'},\n",
       "  {'attribute_type_id': 'source',\n",
       "   'value': 'DrugBank',\n",
       "   'value_type_id': 'bts:source'}]}"
      ]
     },
     "execution_count": 25,
     "metadata": {},
     "output_type": "execute_result"
    }
   ],
   "source": [
    "modifiedResponse['message']['knowledge_graph']['edges']['CHEBI:3655-biolink:physically_interacts_with-NCBIGene:3778']"
   ]
  },
  {
   "cell_type": "code",
   "execution_count": null,
   "id": "66229a49",
   "metadata": {},
   "outputs": [],
   "source": []
  }
 ],
 "metadata": {
  "kernelspec": {
   "display_name": "Python 3",
   "language": "python",
   "name": "python3"
  },
  "language_info": {
   "codemirror_mode": {
    "name": "ipython",
    "version": 3
   },
   "file_extension": ".py",
   "mimetype": "text/x-python",
   "name": "python",
   "nbconvert_exporter": "python",
   "pygments_lexer": "ipython3",
   "version": "3.9.4"
  },
  "toc": {
   "base_numbering": 1,
   "nav_menu": {},
   "number_sections": true,
   "sideBar": false,
   "skip_h1_title": true,
   "title_cell": "Table of Contents",
   "title_sidebar": "Contents",
   "toc_cell": false,
   "toc_position": {},
   "toc_section_display": true,
   "toc_window_display": false
  }
 },
 "nbformat": 4,
 "nbformat_minor": 5
}
