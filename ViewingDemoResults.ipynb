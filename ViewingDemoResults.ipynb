{
 "cells": [
  {
   "cell_type": "markdown",
   "id": "f87b693d",
   "metadata": {},
   "source": [
    "# Viewing Demo Results"
   ]
  },
  {
   "cell_type": "markdown",
   "id": "f12cd803",
   "metadata": {},
   "source": [
    "## Setup "
   ]
  },
  {
   "cell_type": "code",
   "execution_count": 1,
   "id": "a1db95f2",
   "metadata": {
    "ExecuteTime": {
     "end_time": "2021-12-09T17:12:59.043245Z",
     "start_time": "2021-12-09T17:12:59.034402Z"
    }
   },
   "outputs": [],
   "source": [
    "## CX: allows multiple lines of code to print from one code block\n",
    "from IPython.core.interactiveshell import InteractiveShell\n",
    "InteractiveShell.ast_node_interactivity = \"all\"\n",
    "\n",
    "import pathlib\n",
    "\n",
    "import json\n",
    "import pprint\n",
    "\n",
    "import copy"
   ]
  },
  {
   "cell_type": "markdown",
   "id": "8fb75a29",
   "metadata": {},
   "source": [
    "## A2"
   ]
  },
  {
   "cell_type": "markdown",
   "id": "b230fb81",
   "metadata": {},
   "source": [
    "### Setting up"
   ]
  },
  {
   "cell_type": "code",
   "execution_count": 27,
   "id": "e124c2c1",
   "metadata": {
    "ExecuteTime": {
     "end_time": "2021-12-09T18:48:06.555449Z",
     "start_time": "2021-12-09T18:48:06.291242Z"
    }
   },
   "outputs": [],
   "source": [
    "json_path = pathlib.Path.home().joinpath(\"Desktop\", \"SavedDemoRuns\",\n",
    "                                                \"A2_RHOBTB2_twohop.json\")\n",
    "\n",
    "with open(json_path) as file:\n",
    "    demo_response = json.load(file)"
   ]
  },
  {
   "cell_type": "code",
   "execution_count": 28,
   "id": "58e43533",
   "metadata": {
    "ExecuteTime": {
     "end_time": "2021-12-09T18:48:07.008947Z",
     "start_time": "2021-12-09T18:48:07.006333Z"
    }
   },
   "outputs": [],
   "source": [
    "## first level keys are logs, message, workflow\n",
    "logs = demo_response[\"logs\"]\n",
    "\n",
    "## second level keys are query_graph, knowledge_graph, results\n",
    "knowledge_graph = demo_response[\"message\"][\"knowledge_graph\"]\n",
    "results = demo_response[\"message\"][\"results\"]"
   ]
  },
  {
   "cell_type": "code",
   "execution_count": 29,
   "id": "ea7a5c16",
   "metadata": {
    "ExecuteTime": {
     "end_time": "2021-12-09T18:48:07.598665Z",
     "start_time": "2021-12-09T18:48:07.592550Z"
    }
   },
   "outputs": [
    {
     "data": {
      "text/plain": [
       "1728"
      ]
     },
     "execution_count": 29,
     "metadata": {},
     "output_type": "execute_result"
    },
    {
     "data": {
      "text/plain": [
       "4634"
      ]
     },
     "execution_count": 29,
     "metadata": {},
     "output_type": "execute_result"
    },
    {
     "data": {
      "text/plain": [
       "4344"
      ]
     },
     "execution_count": 29,
     "metadata": {},
     "output_type": "execute_result"
    }
   ],
   "source": [
    "## knowledge_graph has nodes and edges\n",
    "len(knowledge_graph['nodes'])\n",
    "len(knowledge_graph['edges'])\n",
    "len(results)"
   ]
  },
  {
   "cell_type": "code",
   "execution_count": 30,
   "id": "1a6b927a",
   "metadata": {
    "ExecuteTime": {
     "end_time": "2021-12-09T18:48:08.287157Z",
     "start_time": "2021-12-09T18:48:08.283501Z"
    }
   },
   "outputs": [
    {
     "name": "stdout",
     "output_type": "stream",
     "text": [
      "NCBIGene:23221\n",
      "NCBIGene:6794\n",
      "NCBIGene:595\n",
      "NCBIGene:894\n",
      "NCBIGene:388\n",
      "NCBIGene:896\n",
      "NCBIGene:25855\n",
      "NCBIGene:10765\n",
      "NCBIGene:22836\n",
      "NCBIGene:8065\n",
      "NCBIGene:8452\n"
     ]
    }
   ],
   "source": [
    "count = 0\n",
    "for i in knowledge_graph['nodes'].keys():\n",
    "    print(i)\n",
    "    count += 1\n",
    "    if count > 10:\n",
    "        break"
   ]
  },
  {
   "cell_type": "code",
   "execution_count": 31,
   "id": "5b22434b",
   "metadata": {
    "ExecuteTime": {
     "end_time": "2021-12-09T18:48:10.041952Z",
     "start_time": "2021-12-09T18:48:10.037795Z"
    }
   },
   "outputs": [
    {
     "name": "stdout",
     "output_type": "stream",
     "text": [
      "{'attributes': [{'attribute_type_id': 'biolink:xref',\n",
      "                 'value': ['NCBIGene:23221',\n",
      "                           'ENSEMBL:ENSG00000008853',\n",
      "                           'HGNC:18756',\n",
      "                           'OMIM:607352',\n",
      "                           'UMLS:C1425762',\n",
      "                           'UniProtKB:Q9BYZ6',\n",
      "                           'PR:Q9BYZ6']},\n",
      "                {'attribute_type_id': 'biolink:synonym',\n",
      "                 'value': ['RHOBTB2',\n",
      "                           'RHOBTB2 gene',\n",
      "                           'RHBT2_HUMAN Rho-related BTB domain-containing '\n",
      "                           'protein 2 (sprot)',\n",
      "                           'Rho-related BTB domain-containing protein 2 '\n",
      "                           '(human)']},\n",
      "                {'attribute_type_id': 'num_source_nodes', 'value': 16},\n",
      "                {'attribute_type_id': 'num_target_nodes', 'value': 0},\n",
      "                {'attribute_type_id': 'source_qg_nodes', 'value': ['n2']},\n",
      "                {'attribute_type_id': 'target_qg_nodes', 'value': []}],\n",
      " 'categories': ['biolink:Gene'],\n",
      " 'name': 'RHOBTB2'}\n"
     ]
    }
   ],
   "source": [
    "pprint.pprint(knowledge_graph['nodes']['NCBIGene:23221'])"
   ]
  },
  {
   "cell_type": "code",
   "execution_count": 32,
   "id": "ef3af421",
   "metadata": {
    "ExecuteTime": {
     "end_time": "2021-12-09T18:48:10.736753Z",
     "start_time": "2021-12-09T18:48:10.731507Z"
    }
   },
   "outputs": [],
   "source": [
    "genes = list()\n",
    "chemicals = list()\n",
    "\n",
    "for k,v in knowledge_graph[\"nodes\"].items():\n",
    "    ## the orientation of the query was RHOBTB2 <- Gene <- Chemical.\n",
    "    ## so intermediates / RHOBTB2 should have a source node count\n",
    "    if v[\"attributes\"][2][\"value\"] != 0:\n",
    "        genes.append(v)\n",
    "    else:\n",
    "        chemicals.append(v)"
   ]
  },
  {
   "cell_type": "code",
   "execution_count": 33,
   "id": "eac37ced",
   "metadata": {
    "ExecuteTime": {
     "end_time": "2021-12-09T18:48:12.972339Z",
     "start_time": "2021-12-09T18:48:12.967419Z"
    }
   },
   "outputs": [
    {
     "data": {
      "text/plain": [
       "21"
      ]
     },
     "execution_count": 33,
     "metadata": {},
     "output_type": "execute_result"
    },
    {
     "data": {
      "text/plain": [
       "1707"
      ]
     },
     "execution_count": 33,
     "metadata": {},
     "output_type": "execute_result"
    }
   ],
   "source": [
    "len(genes)\n",
    "len(chemicals)"
   ]
  },
  {
   "cell_type": "markdown",
   "id": "1ab75c6f",
   "metadata": {},
   "source": [
    "### Genes"
   ]
  },
  {
   "cell_type": "code",
   "execution_count": 34,
   "id": "dffbf9bf",
   "metadata": {
    "ExecuteTime": {
     "end_time": "2021-12-09T18:48:15.670202Z",
     "start_time": "2021-12-09T18:48:15.666269Z"
    }
   },
   "outputs": [
    {
     "name": "stdout",
     "output_type": "stream",
     "text": [
      "{'attributes': [{'attribute_type_id': 'biolink:xref',\n",
      "                 'value': ['NCBIGene:23221',\n",
      "                           'ENSEMBL:ENSG00000008853',\n",
      "                           'HGNC:18756',\n",
      "                           'OMIM:607352',\n",
      "                           'UMLS:C1425762',\n",
      "                           'UniProtKB:Q9BYZ6',\n",
      "                           'PR:Q9BYZ6']},\n",
      "                {'attribute_type_id': 'biolink:synonym',\n",
      "                 'value': ['RHOBTB2',\n",
      "                           'RHOBTB2 gene',\n",
      "                           'RHBT2_HUMAN Rho-related BTB domain-containing '\n",
      "                           'protein 2 (sprot)',\n",
      "                           'Rho-related BTB domain-containing protein 2 '\n",
      "                           '(human)']},\n",
      "                {'attribute_type_id': 'num_source_nodes', 'value': 16},\n",
      "                {'attribute_type_id': 'num_target_nodes', 'value': 0},\n",
      "                {'attribute_type_id': 'source_qg_nodes', 'value': ['n2']},\n",
      "                {'attribute_type_id': 'target_qg_nodes', 'value': []}],\n",
      " 'categories': ['biolink:Gene'],\n",
      " 'name': 'RHOBTB2'}\n"
     ]
    }
   ],
   "source": [
    "pprint.pprint(genes[0])"
   ]
  },
  {
   "cell_type": "code",
   "execution_count": 35,
   "id": "c6147f0e",
   "metadata": {
    "ExecuteTime": {
     "end_time": "2021-12-09T18:48:16.324035Z",
     "start_time": "2021-12-09T18:48:16.317779Z"
    }
   },
   "outputs": [
    {
     "name": "stdout",
     "output_type": "stream",
     "text": [
      "NCBIGene:23221\n",
      "RHOBTB2 16\n",
      "\n",
      "\n",
      "NCBIGene:6794\n",
      "STK11 283\n",
      "\n",
      "\n",
      "NCBIGene:595\n",
      "CCND1 942\n",
      "\n",
      "\n",
      "NCBIGene:894\n",
      "CCND2 907\n",
      "\n",
      "\n",
      "NCBIGene:388\n",
      "RHOB 131\n",
      "\n",
      "\n",
      "NCBIGene:896\n",
      "CCND3 897\n",
      "\n",
      "\n",
      "NCBIGene:25855\n",
      "BRMS1 48\n",
      "\n",
      "\n",
      "NCBIGene:10765\n",
      "KDM5B 139\n",
      "\n",
      "\n",
      "NCBIGene:22836\n",
      "RHOBTB3 20\n",
      "\n",
      "\n",
      "NCBIGene:8065\n",
      "CUL5 43\n",
      "\n",
      "\n",
      "NCBIGene:8452\n",
      "CUL3 60\n",
      "\n",
      "\n",
      "NCBIGene:23145\n",
      "SSPOP 10\n",
      "\n",
      "\n",
      "NCBIGene:284217\n",
      "LAMA1 30\n",
      "\n",
      "\n",
      "NCBIGene:114784\n",
      "CSMD2 11\n",
      "\n",
      "\n",
      "NCBIGene:3645\n",
      "INSRR 27\n",
      "\n",
      "\n",
      "NCBIGene:1462\n",
      "VCAN 95\n",
      "\n",
      "\n",
      "NCBIGene:29919\n",
      "RMC1 66\n",
      "\n",
      "\n",
      "NCBIGene:672\n",
      "BRCA1 584\n",
      "\n",
      "\n",
      "NCBIGene:65267\n",
      "WNK3 25\n",
      "\n",
      "\n",
      "NCBIGene:26960\n",
      "NBEA 15\n",
      "\n",
      "\n",
      "NCBIGene:23379\n",
      "ICE1 11\n",
      "\n",
      "\n"
     ]
    }
   ],
   "source": [
    "for dict_entry in genes:\n",
    "    print(dict_entry['attributes'][0]['value'][0])\n",
    "    for attr in dict_entry['attributes']:\n",
    "        if attr['attribute_type_id'] == 'num_source_nodes':\n",
    "            print(dict_entry['name'], attr['value'])\n",
    "            print(\"\\n\")"
   ]
  },
  {
   "cell_type": "markdown",
   "id": "d7c43e87",
   "metadata": {},
   "source": [
    "### Exploring RHOBTB2"
   ]
  },
  {
   "cell_type": "code",
   "execution_count": 44,
   "id": "c9969b95",
   "metadata": {
    "ExecuteTime": {
     "end_time": "2021-12-09T18:51:05.619833Z",
     "start_time": "2021-12-09T18:51:05.614124Z"
    }
   },
   "outputs": [
    {
     "name": "stdout",
     "output_type": "stream",
     "text": [
      "NCBIGene:6794\n",
      "NCBIGene:595\n",
      "NCBIGene:894\n",
      "NCBIGene:388\n",
      "NCBIGene:896\n",
      "NCBIGene:25855\n",
      "NCBIGene:10765\n",
      "NCBIGene:22836\n",
      "NCBIGene:8065\n",
      "NCBIGene:8452\n",
      "NCBIGene:23145\n",
      "NCBIGene:284217\n",
      "NCBIGene:114784\n",
      "NCBIGene:3645\n",
      "NCBIGene:1462\n",
      "NCBIGene:29919\n",
      "NCBIGene:672\n",
      "NCBIGene:65267\n",
      "NCBIGene:26960\n",
      "NCBIGene:23379\n"
     ]
    }
   ],
   "source": [
    "rhobtb2_as_n0 = list()\n",
    "for k,v in knowledge_graph['edges'].items():\n",
    "    if (v['object'] == 'NCBIGene:23221') and ('NCBI' in v['subject']):\n",
    "        print(v['subject'])\n",
    "        temp = {\"id\": k }\n",
    "        temp.update(v)\n",
    "        \n",
    "        rhobtb2_as_n0.append(temp)"
   ]
  },
  {
   "cell_type": "code",
   "execution_count": 45,
   "id": "b0b578c3",
   "metadata": {
    "ExecuteTime": {
     "end_time": "2021-12-09T18:51:06.437144Z",
     "start_time": "2021-12-09T18:51:06.433890Z"
    }
   },
   "outputs": [
    {
     "data": {
      "text/plain": [
       "20"
      ]
     },
     "execution_count": 45,
     "metadata": {},
     "output_type": "execute_result"
    }
   ],
   "source": [
    "len(rhobtb2_as_n0)  ## so go to idx 36"
   ]
  },
  {
   "cell_type": "code",
   "execution_count": 46,
   "id": "0514ba23",
   "metadata": {
    "ExecuteTime": {
     "end_time": "2021-12-09T18:51:08.493185Z",
     "start_time": "2021-12-09T18:51:08.487245Z"
    }
   },
   "outputs": [
    {
     "name": "stdout",
     "output_type": "stream",
     "text": [
      "PUBCHEM.COMPOUND:387447\n",
      "PUBCHEM.COMPOUND:24621\n",
      "PUBCHEM.COMPOUND:5288382\n",
      "PUBCHEM.COMPOUND:5394\n",
      "PUBCHEM.COMPOUND:36314\n",
      "PUBCHEM.COMPOUND:60750\n",
      "PUBCHEM.COMPOUND:5311497\n",
      "PUBCHEM.COMPOUND:60838\n",
      "PUBCHEM.COMPOUND:176870\n",
      "PUBCHEM.COMPOUND:148123\n",
      "CHEMBL.COMPOUND:CHEMBL1201583\n",
      "PUBCHEM.COMPOUND:135410875\n",
      "CHEMBL.COMPOUND:CHEMBL2107909\n",
      "PUBCHEM.COMPOUND:34755\n",
      "UMLS:C0032136\n",
      "PUBCHEM.COMPOUND:387447\n",
      "PUBCHEM.COMPOUND:3121\n"
     ]
    }
   ],
   "source": [
    "rhobtb2_as_n1 = list()\n",
    "for k,v in knowledge_graph['edges'].items():\n",
    "    if (v['object'] == 'NCBIGene:23221') and not ('NCBI' in v['subject']):\n",
    "        print(v['subject'])\n",
    "        temp = {\"id\": k }\n",
    "        temp.update(v)\n",
    "        \n",
    "        rhobtb2_as_n1.append(temp)"
   ]
  },
  {
   "cell_type": "code",
   "execution_count": 47,
   "id": "872147fd",
   "metadata": {
    "ExecuteTime": {
     "end_time": "2021-12-09T18:51:09.278130Z",
     "start_time": "2021-12-09T18:51:09.274284Z"
    }
   },
   "outputs": [
    {
     "data": {
      "text/plain": [
       "17"
      ]
     },
     "execution_count": 47,
     "metadata": {},
     "output_type": "execute_result"
    }
   ],
   "source": [
    "len(rhobtb2_as_n1)  ## so go to idx 36"
   ]
  },
  {
   "cell_type": "code",
   "execution_count": null,
   "id": "c098eece",
   "metadata": {
    "ExecuteTime": {
     "end_time": "2021-11-19T04:34:56.316221Z",
     "start_time": "2021-11-19T04:34:56.311853Z"
    }
   },
   "outputs": [],
   "source": [
    "pprint.pprint(knowledge_graph['nodes']['PUBCHEM.COMPOUND:5394'])"
   ]
  },
  {
   "cell_type": "markdown",
   "id": "1a2d7a36",
   "metadata": {
    "heading_collapsed": true
   },
   "source": [
    "### Chemicals"
   ]
  },
  {
   "cell_type": "code",
   "execution_count": null,
   "id": "76e5ccd9",
   "metadata": {
    "ExecuteTime": {
     "end_time": "2021-11-18T23:07:36.371603Z",
     "start_time": "2021-11-18T23:07:36.366220Z"
    },
    "hidden": true
   },
   "outputs": [],
   "source": [
    "chem_connections = dict()\n",
    "for dict_entry in chemicals:\n",
    "    for attr in dict_entry['attributes']:\n",
    "        if attr['attribute_type_id'] == 'num_target_nodes':\n",
    "            chem_connections[ dict_entry['name']] = attr['value']"
   ]
  },
  {
   "cell_type": "code",
   "execution_count": null,
   "id": "b2c04639",
   "metadata": {
    "ExecuteTime": {
     "end_time": "2021-11-18T23:07:37.244845Z",
     "start_time": "2021-11-18T23:07:37.240891Z"
    },
    "hidden": true
   },
   "outputs": [],
   "source": [
    "for k,v in chem_connections.items():\n",
    "    if v > 10:\n",
    "        print(k,v)"
   ]
  },
  {
   "cell_type": "markdown",
   "id": "a0073cb4",
   "metadata": {
    "hidden": true
   },
   "source": [
    "Those are all general cancer drugs..."
   ]
  },
  {
   "cell_type": "markdown",
   "id": "29e3633d",
   "metadata": {
    "heading_collapsed": true
   },
   "source": [
    "### Checking size of parts w/ dumps"
   ]
  },
  {
   "cell_type": "code",
   "execution_count": null,
   "id": "4f7e8bf5",
   "metadata": {
    "ExecuteTime": {
     "end_time": "2021-11-18T23:07:57.404359Z",
     "start_time": "2021-11-18T23:07:55.615139Z"
    },
    "hidden": true
   },
   "outputs": [],
   "source": [
    "A2_without_edges = copy.deepcopy(demo_response)\n",
    "del A2_without_edges[\"message\"]['knowledge_graph'][\"edges\"]\n",
    "A2_without_edges[\"message\"]['knowledge_graph'].keys()"
   ]
  },
  {
   "cell_type": "code",
   "execution_count": null,
   "id": "0faaa1ad",
   "metadata": {
    "ExecuteTime": {
     "end_time": "2021-11-18T23:07:58.367185Z",
     "start_time": "2021-11-18T23:07:58.144665Z"
    },
    "hidden": true
   },
   "outputs": [],
   "source": [
    "A2_without_edges_path = pathlib.Path.home().joinpath(\"Desktop\", \"SavedDemoRuns\", \"A2_without_edges.json\")\n",
    "\n",
    "with open(A2_without_edges_path, \"w\") as write_file:\n",
    "    json.dump(A2_without_edges, write_file) # encode dict into JSON"
   ]
  },
  {
   "cell_type": "code",
   "execution_count": null,
   "id": "a7374b98",
   "metadata": {
    "ExecuteTime": {
     "end_time": "2021-11-18T23:07:58.903606Z",
     "start_time": "2021-11-18T23:07:58.899963Z"
    },
    "hidden": true
   },
   "outputs": [],
   "source": [
    "A2_without_edges_path.stat().st_size\n",
    "## 2.6 MB...so EDGES was the majority of the size..."
   ]
  },
  {
   "cell_type": "markdown",
   "id": "bd14e4b8",
   "metadata": {},
   "source": [
    "## A2a_expanded"
   ]
  },
  {
   "cell_type": "code",
   "execution_count": 16,
   "id": "a0ec1021",
   "metadata": {
    "ExecuteTime": {
     "end_time": "2021-12-09T18:28:39.785531Z",
     "start_time": "2021-12-09T18:28:39.779915Z"
    }
   },
   "outputs": [],
   "source": [
    "json_path = pathlib.Path.home().joinpath(\"Desktop\", \"SavedDemoRuns\",\n",
    "                                                \"A2a_expanded_RHOBTB2_twohop.json\")\n",
    "\n",
    "with open(json_path) as file:\n",
    "    demo_response = json.load(file)"
   ]
  },
  {
   "cell_type": "code",
   "execution_count": 17,
   "id": "ead6babc",
   "metadata": {
    "ExecuteTime": {
     "end_time": "2021-12-09T18:28:40.454443Z",
     "start_time": "2021-12-09T18:28:40.427587Z"
    }
   },
   "outputs": [],
   "source": [
    "## first level keys are logs, message, workflow\n",
    "logs = demo_response[\"logs\"]\n",
    "\n",
    "## second level keys are query_graph, knowledge_graph, results\n",
    "knowledge_graph = demo_response[\"message\"][\"knowledge_graph\"]\n",
    "results = demo_response[\"message\"][\"results\"]"
   ]
  },
  {
   "cell_type": "code",
   "execution_count": 18,
   "id": "d9369df3",
   "metadata": {
    "ExecuteTime": {
     "end_time": "2021-12-09T18:28:40.964878Z",
     "start_time": "2021-12-09T18:28:40.957929Z"
    }
   },
   "outputs": [
    {
     "data": {
      "text/plain": [
       "48"
      ]
     },
     "execution_count": 18,
     "metadata": {},
     "output_type": "execute_result"
    },
    {
     "data": {
      "text/plain": [
       "55"
      ]
     },
     "execution_count": 18,
     "metadata": {},
     "output_type": "execute_result"
    },
    {
     "data": {
      "text/plain": [
       "49"
      ]
     },
     "execution_count": 18,
     "metadata": {},
     "output_type": "execute_result"
    }
   ],
   "source": [
    "## knowledge_graph has nodes and edges\n",
    "len(knowledge_graph['nodes'])\n",
    "len(knowledge_graph['edges'])\n",
    "len(results)"
   ]
  },
  {
   "cell_type": "code",
   "execution_count": 19,
   "id": "3fd99f8f",
   "metadata": {
    "ExecuteTime": {
     "end_time": "2021-12-09T18:28:44.325434Z",
     "start_time": "2021-12-09T18:28:44.319532Z"
    }
   },
   "outputs": [],
   "source": [
    "genes = list()\n",
    "chemicals = list()\n",
    "\n",
    "for k,v in knowledge_graph[\"nodes\"].items():\n",
    "    ## the orientation of the query was RHOBTB2 <- Gene <- Chemical.\n",
    "    ## so intermediates / RHOBTB2 should have a source node count\n",
    "    if v[\"attributes\"][2][\"value\"] != 0:\n",
    "        genes.append(v)\n",
    "    else:\n",
    "        chemicals.append(v)"
   ]
  },
  {
   "cell_type": "code",
   "execution_count": 20,
   "id": "748ffc67",
   "metadata": {
    "ExecuteTime": {
     "end_time": "2021-12-09T18:28:44.886435Z",
     "start_time": "2021-12-09T18:28:44.881403Z"
    }
   },
   "outputs": [
    {
     "data": {
      "text/plain": [
       "6"
      ]
     },
     "execution_count": 20,
     "metadata": {},
     "output_type": "execute_result"
    },
    {
     "data": {
      "text/plain": [
       "42"
      ]
     },
     "execution_count": 20,
     "metadata": {},
     "output_type": "execute_result"
    }
   ],
   "source": [
    "len(genes)\n",
    "len(chemicals)"
   ]
  },
  {
   "cell_type": "markdown",
   "id": "920d2d39",
   "metadata": {
    "heading_collapsed": true
   },
   "source": [
    "## B2a-B2f analysis"
   ]
  },
  {
   "cell_type": "code",
   "execution_count": 253,
   "id": "3e974e69",
   "metadata": {
    "ExecuteTime": {
     "end_time": "2021-11-30T05:45:37.237442Z",
     "start_time": "2021-11-30T05:45:37.195973Z"
    },
    "hidden": true
   },
   "outputs": [],
   "source": [
    "json_path = pathlib.Path.home().joinpath(\"Desktop\", \"SavedDemoRuns\",\n",
    "                                                \"C1-new.json\")\n",
    "\n",
    "with open(json_path) as file:\n",
    "    demo_response = json.load(file)"
   ]
  },
  {
   "cell_type": "code",
   "execution_count": 254,
   "id": "0eddaea0",
   "metadata": {
    "ExecuteTime": {
     "end_time": "2021-11-30T05:45:38.327512Z",
     "start_time": "2021-11-30T05:45:38.139929Z"
    },
    "hidden": true
   },
   "outputs": [],
   "source": [
    "## first level keys are logs, message, workflow\n",
    "# logs = demo_response[\"logs\"]\n",
    "\n",
    "## second level keys are query_graph, knowledge_graph, results\n",
    "knowledge_graph = demo_response[\"message\"][\"knowledge_graph\"]\n",
    "results = demo_response[\"message\"][\"results\"]"
   ]
  },
  {
   "cell_type": "code",
   "execution_count": 255,
   "id": "ba6dcd9e",
   "metadata": {
    "ExecuteTime": {
     "end_time": "2021-11-30T05:45:38.983287Z",
     "start_time": "2021-11-30T05:45:38.977137Z"
    },
    "hidden": true
   },
   "outputs": [
    {
     "data": {
      "text/plain": [
       "378"
      ]
     },
     "execution_count": 255,
     "metadata": {},
     "output_type": "execute_result"
    },
    {
     "data": {
      "text/plain": [
       "989"
      ]
     },
     "execution_count": 255,
     "metadata": {},
     "output_type": "execute_result"
    },
    {
     "data": {
      "text/plain": [
       "907"
      ]
     },
     "execution_count": 255,
     "metadata": {},
     "output_type": "execute_result"
    }
   ],
   "source": [
    "## knowledge_graph has nodes and edges\n",
    "len(knowledge_graph['nodes'])\n",
    "len(knowledge_graph['edges'])\n",
    "len(results)"
   ]
  },
  {
   "cell_type": "code",
   "execution_count": 256,
   "id": "6931455d",
   "metadata": {
    "ExecuteTime": {
     "end_time": "2021-11-30T05:47:05.143722Z",
     "start_time": "2021-11-30T05:47:05.139986Z"
    },
    "hidden": true
   },
   "outputs": [],
   "source": [
    "names = list()\n",
    "\n",
    "for k,v in knowledge_graph['nodes'].items():\n",
    "    names.append((v['name'], v['attributes'][0]['value'][0]))"
   ]
  },
  {
   "cell_type": "code",
   "execution_count": 257,
   "id": "6255096c",
   "metadata": {
    "ExecuteTime": {
     "end_time": "2021-11-30T05:47:26.794920Z",
     "start_time": "2021-11-30T05:47:26.789635Z"
    },
    "hidden": true
   },
   "outputs": [
    {
     "data": {
      "text/plain": [
       "[('2-Methyspiro(1,3-oxathiolane-5,3)quinuclidine',\n",
       "  'PUBCHEM.COMPOUND:25137844'),\n",
       " ('Sjogren syndrome', 'MONDO:0010030'),\n",
       " ('Mercaptopurine', 'PUBCHEM.COMPOUND:667490'),\n",
       " ('Crohn disease', 'MONDO:0005011'),\n",
       " ('Treprostinil', 'PUBCHEM.COMPOUND:6918140'),\n",
       " ('systemic sclerosis', 'MONDO:0005100'),\n",
       " ('Apremilast', 'PUBCHEM.COMPOUND:11561674'),\n",
       " ('psoriatic arthritis', 'MONDO:0011849'),\n",
       " ('Ambrisentan', 'PUBCHEM.COMPOUND:6918493'),\n",
       " ('Mesalamine', 'PUBCHEM.COMPOUND:4075'),\n",
       " ('Hydroxychloroquine', 'PUBCHEM.COMPOUND:3652'),\n",
       " ('systemic lupus erythematosus (disease)', 'MONDO:0007915'),\n",
       " ('ulcerative colitis (disease)', 'MONDO:0005101'),\n",
       " ('BALSALAZIDE', 'CHEMBL.COMPOUND:CHEMBL1201346'),\n",
       " ('Macitentan', 'PUBCHEM.COMPOUND:16004692'),\n",
       " ('Methotrexate', 'PUBCHEM.COMPOUND:126941'),\n",
       " ('Calcipotriol', 'PUBCHEM.COMPOUND:5288783'),\n",
       " ('psoriasis', 'MONDO:0005083'),\n",
       " ('SULFASALAZINE', 'CHEMBL.COMPOUND:CHEMBL421'),\n",
       " ('ankylosing spondylitis', 'MONDO:0005306'),\n",
       " ('Bosentan', 'PUBCHEM.COMPOUND:104865'),\n",
       " ('Acitretin', 'PUBCHEM.COMPOUND:5284513'),\n",
       " ('Mycophenolate mofetil', 'PUBCHEM.COMPOUND:5281078'),\n",
       " ('Azathioprine', 'PUBCHEM.COMPOUND:2265'),\n",
       " ('Leflunomide', 'PUBCHEM.COMPOUND:3899'),\n",
       " ('Pilocarpine', 'PUBCHEM.COMPOUND:5910'),\n",
       " ('Mycophenolic acid', 'PUBCHEM.COMPOUND:446541'),\n",
       " ('Chloroquine', 'PUBCHEM.COMPOUND:2719'),\n",
       " ('Iloprost', 'PUBCHEM.COMPOUND:5311181'),\n",
       " ('Clobetasol', 'PUBCHEM.COMPOUND:5311051'),\n",
       " ('Cyclosporin A', 'PUBCHEM.COMPOUND:5284373'),\n",
       " ('Halobetasol', 'PUBCHEM.COMPOUND:5311167'),\n",
       " ('Diflorasone', 'PUBCHEM.COMPOUND:71415'),\n",
       " ('Posaconazole', 'PUBCHEM.COMPOUND:468595'),\n",
       " ('Diphenoxylate', 'PUBCHEM.COMPOUND:13505'),\n",
       " ('Cyclophosphamide', 'PUBCHEM.COMPOUND:2907'),\n",
       " ('Lifitegrast', 'PUBCHEM.COMPOUND:11965427'),\n",
       " ('Polyvinyl alcohol', 'PUBCHEM.COMPOUND:11199'),\n",
       " ('Ribavirin', 'PUBCHEM.COMPOUND:37542'),\n",
       " ('Voriconazole', 'PUBCHEM.COMPOUND:71616'),\n",
       " ('temporal arteritis', 'MONDO:0008538'),\n",
       " ('Nifedipine', 'PUBCHEM.COMPOUND:4485'),\n",
       " ('Fluocinonide', 'PUBCHEM.COMPOUND:9642'),\n",
       " ('Alanine', 'PUBCHEM.COMPOUND:5950'),\n",
       " ('Sildenafil', 'PUBCHEM.COMPOUND:135398744'),\n",
       " ('Immunocorticotropin', 'PUBCHEM.COMPOUND:132902'),\n",
       " ('Salicylic acid', 'PUBCHEM.COMPOUND:338'),\n",
       " ('Propylene glycol', 'PUBCHEM.COMPOUND:1030'),\n",
       " ('Alendronic acid', 'PUBCHEM.COMPOUND:2088'),\n",
       " ('Phenylalanine', 'PUBCHEM.COMPOUND:6140')]"
      ]
     },
     "execution_count": 257,
     "metadata": {},
     "output_type": "execute_result"
    }
   ],
   "source": [
    "names[0:50]\n",
    "\n",
    "# ## interesting nodes:\n",
    "# ## Drug, drug, Liver, liver, Hep, hep, Cirr, cirr, \n",
    "\n",
    "# for i in names:\n",
    "#     if 'cirr' in i[0]:\n",
    "#         print(i)"
   ]
  },
  {
   "cell_type": "code",
   "execution_count": 185,
   "id": "07cd0c0a",
   "metadata": {
    "ExecuteTime": {
     "end_time": "2021-11-30T05:13:49.009367Z",
     "start_time": "2021-11-30T05:13:49.004072Z"
    },
    "hidden": true
   },
   "outputs": [
    {
     "name": "stdout",
     "output_type": "stream",
     "text": [
      "{'attributes': [{'attribute_type_id': 'biolink:aggregator_knowledge_source',\n",
      "                 'value': ['infores:translator-biothings-explorer'],\n",
      "                 'value_type_id': 'biolink:InformationResource'},\n",
      "                {'attribute_source': None,\n",
      "                 'attribute_type_id': 'biolink:aggregator_knowledge_source',\n",
      "                 'attributes': None,\n",
      "                 'description': None,\n",
      "                 'original_attribute_name': 'biolink:aggregator_knowledge_source',\n",
      "                 'value': ['infores:sri-reference-kg'],\n",
      "                 'value_type_id': 'biolink:InformationResource',\n",
      "                 'value_url': None},\n",
      "                {'attribute_source': None,\n",
      "                 'attribute_type_id': 'biolink:relation',\n",
      "                 'attributes': None,\n",
      "                 'description': None,\n",
      "                 'original_attribute_name': 'relation',\n",
      "                 'value': 'RO:0002606',\n",
      "                 'value_type_id': 'EDAM:data_0006',\n",
      "                 'value_url': None},\n",
      "                {'attribute_source': None,\n",
      "                 'attribute_type_id': 'biolink:aggregator_knowledge_source',\n",
      "                 'attributes': None,\n",
      "                 'description': None,\n",
      "                 'original_attribute_name': 'biolink:aggregator_knowledge_source',\n",
      "                 'value': 'infores:automat-biolink',\n",
      "                 'value_type_id': 'biolink:InformationResource',\n",
      "                 'value_url': None}],\n",
      " 'object': 'MESH:D008106',\n",
      " 'predicate': 'biolink:treats',\n",
      " 'subject': 'PUBCHEM.COMPOUND:5280343'}\n"
     ]
    }
   ],
   "source": [
    "for k,v in knowledge_graph['edges'].items():\n",
    "    if v['object'] == 'MESH:D008106':\n",
    "        pprint.pprint(v)"
   ]
  },
  {
   "cell_type": "markdown",
   "id": "b7fd2b7a",
   "metadata": {
    "heading_collapsed": true
   },
   "source": [
    "## B3a-B3b analysis"
   ]
  },
  {
   "cell_type": "code",
   "execution_count": 242,
   "id": "20499f1b",
   "metadata": {
    "ExecuteTime": {
     "end_time": "2021-11-30T05:36:14.262824Z",
     "start_time": "2021-11-30T05:36:10.924601Z"
    },
    "hidden": true
   },
   "outputs": [],
   "source": [
    "json_path = pathlib.Path.home().joinpath(\"Desktop\", \"SavedDemoRuns\", \"UnclearIsSet\",\n",
    "                                                \"B3A_two-hop_chem.json\")\n",
    "\n",
    "with open(json_path) as file:\n",
    "    demo_response = json.load(file)"
   ]
  },
  {
   "cell_type": "code",
   "execution_count": 243,
   "id": "133e68a3",
   "metadata": {
    "ExecuteTime": {
     "end_time": "2021-11-30T05:36:14.920377Z",
     "start_time": "2021-11-30T05:36:14.914804Z"
    },
    "hidden": true
   },
   "outputs": [],
   "source": [
    "## first level keys are logs, message, workflow\n",
    "logs = demo_response[\"logs\"]\n",
    "\n",
    "## second level keys are query_graph, knowledge_graph, results\n",
    "knowledge_graph = demo_response[\"message\"][\"knowledge_graph\"]\n",
    "results = demo_response[\"message\"][\"results\"]"
   ]
  },
  {
   "cell_type": "code",
   "execution_count": 244,
   "id": "38f5e97c",
   "metadata": {
    "ExecuteTime": {
     "end_time": "2021-11-30T05:36:15.850558Z",
     "start_time": "2021-11-30T05:36:15.844311Z"
    },
    "hidden": true
   },
   "outputs": [
    {
     "data": {
      "text/plain": [
       "16313"
      ]
     },
     "execution_count": 244,
     "metadata": {},
     "output_type": "execute_result"
    },
    {
     "data": {
      "text/plain": [
       "58669"
      ]
     },
     "execution_count": 244,
     "metadata": {},
     "output_type": "execute_result"
    },
    {
     "data": {
      "text/plain": [
       "69336"
      ]
     },
     "execution_count": 244,
     "metadata": {},
     "output_type": "execute_result"
    }
   ],
   "source": [
    "## knowledge_graph has nodes and edges\n",
    "len(knowledge_graph['nodes'])\n",
    "len(knowledge_graph['edges'])\n",
    "len(results)"
   ]
  },
  {
   "cell_type": "code",
   "execution_count": 245,
   "id": "ca007956",
   "metadata": {
    "ExecuteTime": {
     "end_time": "2021-11-30T05:36:18.320113Z",
     "start_time": "2021-11-30T05:36:18.300458Z"
    },
    "hidden": true
   },
   "outputs": [],
   "source": [
    "DoP = list()\n",
    "chemicals = list()\n",
    "\n",
    "for k,v in knowledge_graph[\"nodes\"].items():\n",
    "    ## the orientation of the query was DILI -> DoP <- Chemical.\n",
    "    ## so chemicals / DILI should have a source node count\n",
    "    if v[\"attributes\"][2][\"value\"] != 0:\n",
    "        DoP.append(v)\n",
    "    else:\n",
    "        chemicals.append(v)"
   ]
  },
  {
   "cell_type": "code",
   "execution_count": 246,
   "id": "f9480cf5",
   "metadata": {
    "ExecuteTime": {
     "end_time": "2021-11-30T05:36:18.885636Z",
     "start_time": "2021-11-30T05:36:18.880718Z"
    },
    "hidden": true
   },
   "outputs": [
    {
     "data": {
      "text/plain": [
       "174"
      ]
     },
     "execution_count": 246,
     "metadata": {},
     "output_type": "execute_result"
    },
    {
     "data": {
      "text/plain": [
       "16139"
      ]
     },
     "execution_count": 246,
     "metadata": {},
     "output_type": "execute_result"
    }
   ],
   "source": [
    "len(DoP)\n",
    "len(chemicals)"
   ]
  },
  {
   "cell_type": "code",
   "execution_count": 247,
   "id": "46f2473f",
   "metadata": {
    "ExecuteTime": {
     "end_time": "2021-11-30T05:36:19.465936Z",
     "start_time": "2021-11-30T05:36:19.462992Z"
    },
    "hidden": true
   },
   "outputs": [],
   "source": [
    "## remove the first 2 elements of chemicals (the DILI starting nodes)\n",
    "## move to the starting point array\n",
    "\n",
    "starting_dili_nodes = chemicals[0:2]\n",
    "chemicals = chemicals[2:]"
   ]
  },
  {
   "cell_type": "code",
   "execution_count": 248,
   "id": "af8afcfd",
   "metadata": {
    "ExecuteTime": {
     "end_time": "2021-11-30T05:36:20.764632Z",
     "start_time": "2021-11-30T05:36:20.750993Z"
    },
    "hidden": true
   },
   "outputs": [],
   "source": [
    "names = list()\n",
    "\n",
    "for i in chemicals:\n",
    "    if not ('UMLS' in i['name']): \n",
    "        names.append((i['name'], i['attributes'][0]['value'][0]))"
   ]
  },
  {
   "cell_type": "code",
   "execution_count": 249,
   "id": "7c3f8b58",
   "metadata": {
    "ExecuteTime": {
     "end_time": "2021-11-30T05:36:22.449217Z",
     "start_time": "2021-11-30T05:36:22.446057Z"
    },
    "hidden": true
   },
   "outputs": [
    {
     "data": {
      "text/plain": [
       "7496"
      ]
     },
     "execution_count": 249,
     "metadata": {},
     "output_type": "execute_result"
    }
   ],
   "source": [
    "len(names)"
   ]
  },
  {
   "cell_type": "code",
   "execution_count": 251,
   "id": "ef11c2d1",
   "metadata": {
    "ExecuteTime": {
     "end_time": "2021-11-30T05:36:55.983110Z",
     "start_time": "2021-11-30T05:36:55.977778Z"
    },
    "hidden": true
   },
   "outputs": [
    {
     "data": {
      "text/plain": [
       "[('tocilizumab', 'UMLS:C1609165'),\n",
       " ('progabide', 'UMLS:C0072076'),\n",
       " ('alteplase', 'UMLS:C0032143'),\n",
       " ('IL6', 'NCBIGene:3569'),\n",
       " ('copeptins', 'UMLS:C0056279'),\n",
       " ('Arginine', 'UMLS:C0003765'),\n",
       " ('Tryptophan', 'UMLS:C0041249'),\n",
       " ('N,N-dimethylarginine', 'UMLS:C0067385'),\n",
       " ('Carnitine', 'UMLS:C0007258'),\n",
       " ('anakinra', 'UMLS:C0245109'),\n",
       " ('DEFB1', 'NCBIGene:1672'),\n",
       " ('LY 303366', 'UMLS:C0532508'),\n",
       " ('Zenapax', 'UMLS:C0281549'),\n",
       " ('Caspofungin', 'UMLS:C0537894'),\n",
       " ('argatroban', 'UMLS:C0048470'),\n",
       " ('Glutamic Acid', 'UMLS:C0061472'),\n",
       " ('prothrombin complex concentrates', 'UMLS:C0072434'),\n",
       " ('angiopeptin', 'UMLS:C0051846'),\n",
       " ('Immune Sera', 'UMLS:C0020960'),\n",
       " ('Acetylmuramyl-Alanyl-Isoglutamine', 'UMLS:C0001060'),\n",
       " ('ADM', 'NCBIGene:133'),\n",
       " ('oritavancin', 'UMLS:C1144403'),\n",
       " ('HA-1A', 'UMLS:C0120659'),\n",
       " ('Recombinant human granulocyte colony stimulating factor', 'UMLS:C1271481'),\n",
       " ('bactericidal permeability increasing protein', 'UMLS:C0052897'),\n",
       " ('Urokinase', 'UMLS:C0042071'),\n",
       " ('eculizumab', 'UMLS:C1541483'),\n",
       " ('telavancin', 'UMLS:C1453642'),\n",
       " ('Angiopoietin-2', 'UMLS:C0540511'),\n",
       " ('M15 protein', 'UMLS:C0168944'),\n",
       " ('Fibrinogen', 'UMLS:C0016006'),\n",
       " ('SAR650984', 'UMLS:C2983777'),\n",
       " ('molgramostim', 'UMLS:C0218633'),\n",
       " ('Melphalan', 'UMLS:C0025241'),\n",
       " ('Kininogenase', 'UMLS:C0022478'),\n",
       " ('von Willebrand factor', 'UMLS:C0042971'),\n",
       " ('tiopronin', 'UMLS:C0025405'),\n",
       " ('alpha 1-Antitrypsin', 'UMLS:C0002191'),\n",
       " ('Fibrin', 'UMLS:C0015982'),\n",
       " ('PLG', 'NCBIGene:5340'),\n",
       " ('Albumin Human, USP', 'UMLS:C0304925'),\n",
       " ('Lysine', 'UMLS:C0024337'),\n",
       " ('Threonine', 'UMLS:C0040005'),\n",
       " ('angiotensin II', 'UMLS:C0003009'),\n",
       " ('pantothenate', 'UMLS:C0178793'),\n",
       " ('peginterferon alfa-2a', 'UMLS:C0391001'),\n",
       " ('Thyrotropin-Releasing Hormone', 'UMLS:C0040162'),\n",
       " ('fibroblast-derived tumor cytotoxic factor', 'UMLS:C0655410'),\n",
       " ('Glucagon', 'UMLS:C0017687'),\n",
       " ('Muramidase', 'UMLS:C0026794')]"
      ]
     },
     "execution_count": 251,
     "metadata": {},
     "output_type": "execute_result"
    }
   ],
   "source": [
    "names[50:100]"
   ]
  },
  {
   "cell_type": "markdown",
   "id": "253a75c6",
   "metadata": {
    "heading_collapsed": true
   },
   "source": [
    "## C1-new analysis"
   ]
  },
  {
   "cell_type": "code",
   "execution_count": 258,
   "id": "edefa2e9",
   "metadata": {
    "ExecuteTime": {
     "end_time": "2021-11-30T05:48:49.418515Z",
     "start_time": "2021-11-30T05:48:49.381116Z"
    },
    "hidden": true
   },
   "outputs": [],
   "source": [
    "json_path = pathlib.Path.home().joinpath(\"Desktop\", \"SavedDemoRuns\",\n",
    "                                                \"C1-new.json\")\n",
    "\n",
    "with open(json_path) as file:\n",
    "    demo_response = json.load(file)"
   ]
  },
  {
   "cell_type": "code",
   "execution_count": 259,
   "id": "f323d693",
   "metadata": {
    "ExecuteTime": {
     "end_time": "2021-11-30T05:48:51.828222Z",
     "start_time": "2021-11-30T05:48:51.821661Z"
    },
    "hidden": true
   },
   "outputs": [],
   "source": [
    "## first level keys are logs, message, workflow\n",
    "# logs = demo_response[\"logs\"]\n",
    "\n",
    "## second level keys are query_graph, knowledge_graph, results\n",
    "knowledge_graph = demo_response[\"message\"][\"knowledge_graph\"]\n",
    "results = demo_response[\"message\"][\"results\"]"
   ]
  },
  {
   "cell_type": "code",
   "execution_count": 260,
   "id": "5fac5f8e",
   "metadata": {
    "ExecuteTime": {
     "end_time": "2021-11-30T05:48:52.289955Z",
     "start_time": "2021-11-30T05:48:52.283939Z"
    },
    "hidden": true
   },
   "outputs": [
    {
     "data": {
      "text/plain": [
       "378"
      ]
     },
     "execution_count": 260,
     "metadata": {},
     "output_type": "execute_result"
    },
    {
     "data": {
      "text/plain": [
       "989"
      ]
     },
     "execution_count": 260,
     "metadata": {},
     "output_type": "execute_result"
    },
    {
     "data": {
      "text/plain": [
       "907"
      ]
     },
     "execution_count": 260,
     "metadata": {},
     "output_type": "execute_result"
    }
   ],
   "source": [
    "## knowledge_graph has nodes and edges\n",
    "len(knowledge_graph['nodes'])\n",
    "len(knowledge_graph['edges'])\n",
    "len(results)"
   ]
  },
  {
   "cell_type": "code",
   "execution_count": 264,
   "id": "0b6de917",
   "metadata": {
    "ExecuteTime": {
     "end_time": "2021-11-30T05:50:31.811461Z",
     "start_time": "2021-11-30T05:50:31.807588Z"
    },
    "hidden": true
   },
   "outputs": [],
   "source": [
    "starting_nodes = list()\n",
    "chemicals = list()\n",
    "\n",
    "for k,v in knowledge_graph[\"nodes\"].items():\n",
    "    ## the orientation of the query was Diseases IDs -> Chemical.\n",
    "    ## so chemicals should have a source node count\n",
    "    if v[\"attributes\"][2][\"value\"] != 0:\n",
    "        chemicals.append(v)\n",
    "    else:\n",
    "        starting_nodes.append(v)"
   ]
  },
  {
   "cell_type": "code",
   "execution_count": 265,
   "id": "d3d296f6",
   "metadata": {
    "ExecuteTime": {
     "end_time": "2021-11-30T05:50:32.362335Z",
     "start_time": "2021-11-30T05:50:32.357470Z"
    },
    "hidden": true
   },
   "outputs": [
    {
     "data": {
      "text/plain": [
       "11"
      ]
     },
     "execution_count": 265,
     "metadata": {},
     "output_type": "execute_result"
    },
    {
     "data": {
      "text/plain": [
       "367"
      ]
     },
     "execution_count": 265,
     "metadata": {},
     "output_type": "execute_result"
    }
   ],
   "source": [
    "len(starting_nodes)\n",
    "len(chemicals)"
   ]
  },
  {
   "cell_type": "code",
   "execution_count": 269,
   "id": "99cf8d17",
   "metadata": {
    "ExecuteTime": {
     "end_time": "2021-11-30T05:51:32.250804Z",
     "start_time": "2021-11-30T05:51:32.247253Z"
    },
    "hidden": true
   },
   "outputs": [],
   "source": [
    "names = list()\n",
    "\n",
    "for i in chemicals:\n",
    "    if not ('UMLS' in i['name']): \n",
    "        names.append((i['name'], i['attributes'][0]['value'][0]))"
   ]
  },
  {
   "cell_type": "code",
   "execution_count": 270,
   "id": "04cf4c20",
   "metadata": {
    "ExecuteTime": {
     "end_time": "2021-11-30T05:51:33.077446Z",
     "start_time": "2021-11-30T05:51:33.073827Z"
    },
    "hidden": true
   },
   "outputs": [
    {
     "data": {
      "text/plain": [
       "367"
      ]
     },
     "execution_count": 270,
     "metadata": {},
     "output_type": "execute_result"
    }
   ],
   "source": [
    "len(names)"
   ]
  },
  {
   "cell_type": "code",
   "execution_count": 271,
   "id": "fbd48971",
   "metadata": {
    "ExecuteTime": {
     "end_time": "2021-11-30T05:51:47.099908Z",
     "start_time": "2021-11-30T05:51:47.094107Z"
    },
    "hidden": true
   },
   "outputs": [
    {
     "data": {
      "text/plain": [
       "[('2-Methyspiro(1,3-oxathiolane-5,3)quinuclidine',\n",
       "  'PUBCHEM.COMPOUND:25137844'),\n",
       " ('Mercaptopurine', 'PUBCHEM.COMPOUND:667490'),\n",
       " ('Treprostinil', 'PUBCHEM.COMPOUND:6918140'),\n",
       " ('Apremilast', 'PUBCHEM.COMPOUND:11561674'),\n",
       " ('Ambrisentan', 'PUBCHEM.COMPOUND:6918493'),\n",
       " ('Mesalamine', 'PUBCHEM.COMPOUND:4075'),\n",
       " ('Hydroxychloroquine', 'PUBCHEM.COMPOUND:3652'),\n",
       " ('BALSALAZIDE', 'CHEMBL.COMPOUND:CHEMBL1201346'),\n",
       " ('Macitentan', 'PUBCHEM.COMPOUND:16004692'),\n",
       " ('Methotrexate', 'PUBCHEM.COMPOUND:126941'),\n",
       " ('Calcipotriol', 'PUBCHEM.COMPOUND:5288783'),\n",
       " ('SULFASALAZINE', 'CHEMBL.COMPOUND:CHEMBL421'),\n",
       " ('Bosentan', 'PUBCHEM.COMPOUND:104865'),\n",
       " ('Acitretin', 'PUBCHEM.COMPOUND:5284513'),\n",
       " ('Mycophenolate mofetil', 'PUBCHEM.COMPOUND:5281078'),\n",
       " ('Azathioprine', 'PUBCHEM.COMPOUND:2265'),\n",
       " ('Leflunomide', 'PUBCHEM.COMPOUND:3899'),\n",
       " ('Pilocarpine', 'PUBCHEM.COMPOUND:5910'),\n",
       " ('Mycophenolic acid', 'PUBCHEM.COMPOUND:446541'),\n",
       " ('Chloroquine', 'PUBCHEM.COMPOUND:2719'),\n",
       " ('Iloprost', 'PUBCHEM.COMPOUND:5311181'),\n",
       " ('Clobetasol', 'PUBCHEM.COMPOUND:5311051'),\n",
       " ('Cyclosporin A', 'PUBCHEM.COMPOUND:5284373'),\n",
       " ('Halobetasol', 'PUBCHEM.COMPOUND:5311167'),\n",
       " ('Diflorasone', 'PUBCHEM.COMPOUND:71415'),\n",
       " ('Posaconazole', 'PUBCHEM.COMPOUND:468595'),\n",
       " ('Diphenoxylate', 'PUBCHEM.COMPOUND:13505'),\n",
       " ('Cyclophosphamide', 'PUBCHEM.COMPOUND:2907'),\n",
       " ('Lifitegrast', 'PUBCHEM.COMPOUND:11965427'),\n",
       " ('Polyvinyl alcohol', 'PUBCHEM.COMPOUND:11199'),\n",
       " ('Ribavirin', 'PUBCHEM.COMPOUND:37542'),\n",
       " ('Voriconazole', 'PUBCHEM.COMPOUND:71616'),\n",
       " ('Nifedipine', 'PUBCHEM.COMPOUND:4485'),\n",
       " ('Fluocinonide', 'PUBCHEM.COMPOUND:9642'),\n",
       " ('Alanine', 'PUBCHEM.COMPOUND:5950'),\n",
       " ('Sildenafil', 'PUBCHEM.COMPOUND:135398744'),\n",
       " ('Immunocorticotropin', 'PUBCHEM.COMPOUND:132902'),\n",
       " ('Salicylic acid', 'PUBCHEM.COMPOUND:338'),\n",
       " ('Propylene glycol', 'PUBCHEM.COMPOUND:1030'),\n",
       " ('Alendronic acid', 'PUBCHEM.COMPOUND:2088'),\n",
       " ('Phenylalanine', 'PUBCHEM.COMPOUND:6140'),\n",
       " ('Tyrosine', 'PUBCHEM.COMPOUND:6057'),\n",
       " ('Valganciclovir', 'PUBCHEM.COMPOUND:135413535'),\n",
       " ('(6S)-5-Formyltetrahydrofolate(2-)', 'PUBCHEM.COMPOUND:135398558'),\n",
       " ('Fluocinolone', 'PUBCHEM.COMPOUND:91488'),\n",
       " ('l-Isoleucine', 'PUBCHEM.COMPOUND:6306'),\n",
       " ('Urea', 'PUBCHEM.COMPOUND:1176'),\n",
       " ('Pimecrolimus', 'PUBCHEM.COMPOUND:6509979'),\n",
       " ('Proparacaine', 'PUBCHEM.COMPOUND:4935'),\n",
       " ('Pentoxifylline', 'PUBCHEM.COMPOUND:4740')]"
      ]
     },
     "execution_count": 271,
     "metadata": {},
     "output_type": "execute_result"
    }
   ],
   "source": [
    "names[0:50]"
   ]
  },
  {
   "cell_type": "markdown",
   "id": "744f4b2e",
   "metadata": {},
   "source": [
    "## Checking size of parts w/ dumps"
   ]
  },
  {
   "cell_type": "code",
   "execution_count": 6,
   "id": "ffa73d77",
   "metadata": {
    "ExecuteTime": {
     "end_time": "2021-12-03T22:03:41.532322Z",
     "start_time": "2021-12-03T22:03:38.367796Z"
    }
   },
   "outputs": [],
   "source": [
    "json_path = pathlib.Path.home().joinpath(\"Desktop\", \"SavedDemoRuns\", \"C3-new.json\")\n",
    "\n",
    "with open(json_path) as file:\n",
    "    demo_response = json.load(file)"
   ]
  },
  {
   "cell_type": "code",
   "execution_count": 7,
   "id": "2b639c3e",
   "metadata": {
    "ExecuteTime": {
     "end_time": "2021-12-03T22:03:42.488967Z",
     "start_time": "2021-12-03T22:03:42.155867Z"
    }
   },
   "outputs": [],
   "source": [
    "## first level keys are logs, message, workflow\n",
    "# logs = demo_response[\"logs\"]\n",
    "\n",
    "## second level keys are query_graph, knowledge_graph, results\n",
    "knowledge_graph = demo_response[\"message\"][\"knowledge_graph\"]\n",
    "results = demo_response[\"message\"][\"results\"]"
   ]
  },
  {
   "cell_type": "code",
   "execution_count": 8,
   "id": "c4dd6b69",
   "metadata": {
    "ExecuteTime": {
     "end_time": "2021-12-03T22:03:43.300794Z",
     "start_time": "2021-12-03T22:03:43.294631Z"
    }
   },
   "outputs": [
    {
     "data": {
      "text/plain": [
       "7505"
      ]
     },
     "execution_count": 8,
     "metadata": {},
     "output_type": "execute_result"
    },
    {
     "data": {
      "text/plain": [
       "38946"
      ]
     },
     "execution_count": 8,
     "metadata": {},
     "output_type": "execute_result"
    },
    {
     "data": {
      "text/plain": [
       "45469"
      ]
     },
     "execution_count": 8,
     "metadata": {},
     "output_type": "execute_result"
    }
   ],
   "source": [
    "## knowledge_graph has nodes and edges\n",
    "len(knowledge_graph['nodes'])\n",
    "len(knowledge_graph['edges'])\n",
    "len(results)"
   ]
  },
  {
   "cell_type": "code",
   "execution_count": null,
   "id": "cf41e1b3",
   "metadata": {
    "ExecuteTime": {
     "end_time": "2021-11-19T05:36:15.659922Z",
     "start_time": "2021-11-19T05:36:03.745488Z"
    }
   },
   "outputs": [],
   "source": [
    "B2a_without_edges = copy.deepcopy(demo_response)\n",
    "del B2a_without_edges[\"message\"]['knowledge_graph'][\"edges\"]\n",
    "B2a_without_edges[\"message\"]['knowledge_graph'].keys()"
   ]
  },
  {
   "cell_type": "code",
   "execution_count": null,
   "id": "3785cbfd",
   "metadata": {
    "ExecuteTime": {
     "end_time": "2021-11-19T05:36:19.615283Z",
     "start_time": "2021-11-19T05:36:17.526136Z"
    }
   },
   "outputs": [],
   "source": [
    "B2a_without_edges_path = pathlib.Path.home().joinpath(\"Desktop\", \"SavedDemoRuns\", \"D6_without_edges.json\")\n",
    "\n",
    "with open(B2a_without_edges_path, \"w\") as write_file:\n",
    "    json.dump(B2a_without_edges, write_file) # encode dict into JSON"
   ]
  },
  {
   "cell_type": "code",
   "execution_count": null,
   "id": "00af7589",
   "metadata": {
    "ExecuteTime": {
     "end_time": "2021-11-19T05:36:22.981150Z",
     "start_time": "2021-11-19T05:36:22.977835Z"
    }
   },
   "outputs": [],
   "source": [
    "B2a_without_edges_path.stat().st_size\n",
    "## 1.4 MB...so EDGES was the majority of the size..."
   ]
  },
  {
   "cell_type": "code",
   "execution_count": null,
   "id": "0eaa5f43",
   "metadata": {},
   "outputs": [],
   "source": []
  }
 ],
 "metadata": {
  "kernelspec": {
   "display_name": "Python 3 (ipykernel)",
   "language": "python",
   "name": "python3"
  },
  "language_info": {
   "codemirror_mode": {
    "name": "ipython",
    "version": 3
   },
   "file_extension": ".py",
   "mimetype": "text/x-python",
   "name": "python",
   "nbconvert_exporter": "python",
   "pygments_lexer": "ipython3",
   "version": "3.9.7"
  },
  "toc": {
   "base_numbering": 1,
   "nav_menu": {},
   "number_sections": true,
   "sideBar": true,
   "skip_h1_title": true,
   "title_cell": "Table of Contents",
   "title_sidebar": "Contents",
   "toc_cell": false,
   "toc_position": {
    "height": "calc(100% - 180px)",
    "left": "10px",
    "top": "150px",
    "width": "292.8px"
   },
   "toc_section_display": true,
   "toc_window_display": true
  }
 },
 "nbformat": 4,
 "nbformat_minor": 5
}
