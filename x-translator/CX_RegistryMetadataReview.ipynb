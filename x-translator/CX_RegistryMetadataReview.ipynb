{
 "cells": [
  {
   "cell_type": "markdown",
   "metadata": {},
   "source": [
    "# Use to explore and find issues with registry metadata"
   ]
  },
  {
   "cell_type": "markdown",
   "metadata": {},
   "source": [
    "## Setup"
   ]
  },
  {
   "cell_type": "code",
   "execution_count": 1,
   "metadata": {
    "ExecuteTime": {
     "end_time": "2021-02-23T07:29:07.027769Z",
     "start_time": "2021-02-23T07:29:06.641184Z"
    }
   },
   "outputs": [],
   "source": [
    "## CX: allows multiple lines of code to print from one code block\n",
    "from IPython.core.interactiveshell import InteractiveShell\n",
    "InteractiveShell.ast_node_interactivity = \"all\"\n",
    "\n",
    "## show time that this notebook was executed \n",
    "from datetime import datetime\n",
    "\n",
    "## packages to work with objects \n",
    "import re\n",
    "import requests\n",
    "import pandas as pd\n",
    "from textwrap import wrap  ## for plot labels\n",
    "\n",
    "## to get around bugs\n",
    "import nest_asyncio\n",
    "nest_asyncio.apply()"
   ]
  },
  {
   "cell_type": "code",
   "execution_count": 2,
   "metadata": {
    "ExecuteTime": {
     "end_time": "2021-02-23T07:29:07.813933Z",
     "start_time": "2021-02-23T07:29:07.809592Z"
    }
   },
   "outputs": [
    {
     "name": "stdout",
     "output_type": "stream",
     "text": [
      "The time that this notebook was executed is...\n",
      "Local time (PST, West Coast USA): \n",
      "2021-02-22 23:29:07.811070\n",
      "UTC time: \n",
      "2021-02-23 07:29:07.811180\n"
     ]
    }
   ],
   "source": [
    "## record when cell blocks are executed\n",
    "print('The time that this notebook was executed is...')\n",
    "print('Local time (PST, West Coast USA): ')\n",
    "print(datetime.now())\n",
    "print('UTC time: ')\n",
    "print(datetime.utcnow())"
   ]
  },
  {
   "cell_type": "markdown",
   "metadata": {},
   "source": [
    "### Getting and parsing registry info"
   ]
  },
  {
   "cell_type": "code",
   "execution_count": 3,
   "metadata": {
    "ExecuteTime": {
     "end_time": "2021-02-23T07:29:21.021806Z",
     "start_time": "2021-02-23T07:29:20.558392Z"
    }
   },
   "outputs": [
    {
     "data": {
      "text/plain": [
       "200"
      ]
     },
     "execution_count": 3,
     "metadata": {},
     "output_type": "execute_result"
    }
   ],
   "source": [
    "## setup request\n",
    "# headers = {\"content-type\": \"application/json\"}\n",
    "registry_url = \"https://smart-api.info/api/query/?fields=info,tags,_status&raw=1&size=1000\"\n",
    "\n",
    "## make request: check for success (200)\n",
    "registry_request = requests.get(registry_url, headers={})\n",
    "registry_request.status_code"
   ]
  },
  {
   "cell_type": "code",
   "execution_count": 4,
   "metadata": {
    "ExecuteTime": {
     "end_time": "2021-02-23T07:29:22.337736Z",
     "start_time": "2021-02-23T07:29:22.332441Z"
    }
   },
   "outputs": [],
   "source": [
    "registry = registry_request.json()"
   ]
  },
  {
   "cell_type": "code",
   "execution_count": 5,
   "metadata": {
    "ExecuteTime": {
     "end_time": "2021-02-23T07:29:23.342614Z",
     "start_time": "2021-02-23T07:29:23.337916Z"
    }
   },
   "outputs": [
    {
     "data": {
      "text/plain": [
       "{'_index': 'smartapi_docs',\n",
       " '_type': '_doc',\n",
       " '_id': '8b3389ee427f89a358e157319a9db534',\n",
       " '_score': 1.0,\n",
       " '_source': {'_status': {'refresh_status': 200,\n",
       "   'refresh_ts': '2021-02-17T08:01:39+00:00',\n",
       "   'uptime_status': 'unknown',\n",
       "   'uptime_ts': '2021-02-22T08:04:38.577573'},\n",
       "  'info': {'contact': {'name': 'GTEx Help',\n",
       "    'email': 'gtex-help@broadinstitute.org'},\n",
       "   'termsOfService': 'https://sites.google.com/broadinstitute.org/gtex-faqs/home',\n",
       "   'title': 'GTEx API',\n",
       "   'version': 'v1'},\n",
       "  'tags': [{'name': 'NIHdatacommons'}, {'name': 'GTEx'}]}}"
      ]
     },
     "execution_count": 5,
     "metadata": {},
     "output_type": "execute_result"
    }
   ],
   "source": [
    "registry['hits']['hits'][0]"
   ]
  },
  {
   "cell_type": "code",
   "execution_count": 6,
   "metadata": {
    "ExecuteTime": {
     "end_time": "2021-02-23T07:29:41.157866Z",
     "start_time": "2021-02-23T07:29:41.147024Z"
    }
   },
   "outputs": [],
   "source": [
    "## get response\n",
    "registry = registry_request.json()\n",
    "\n",
    "## parse response to get the information: uptime status, tags, x-translator, api name\n",
    "registry_data = []\n",
    "for ele in registry['hits']['hits']:\n",
    "    tempDict = {'uptimeStatus': ele['_source']['_status']['uptime_status'],\n",
    "                'refreshStatus': ele['_source']['_status']['refresh_status'],\n",
    "                'name': ele['_source']['info']['title']}\n",
    "    \n",
    "    if ele['_source'].get('tags'):\n",
    "        temp = [i.get('name') for i in ele['_source']['tags']]\n",
    "        tempDict.update({\"tags\": temp})\n",
    "    else:\n",
    "        tempDict.update({\"tags\": []})\n",
    "    \n",
    "    if ele['_source']['info'].get('x-translator'):\n",
    "        tempDict.update({            \n",
    "            'team': ele['_source']['info']['x-translator'].get('team'),\n",
    "            'component': ele['_source']['info']['x-translator'].get('component')\n",
    "        })\n",
    "    else:\n",
    "        tempDict.update({            \n",
    "            'team': [],\n",
    "            'component': None\n",
    "        })\n",
    "    registry_data.append(tempDict)"
   ]
  },
  {
   "cell_type": "code",
   "execution_count": 7,
   "metadata": {
    "ExecuteTime": {
     "end_time": "2021-02-23T07:29:52.385564Z",
     "start_time": "2021-02-23T07:29:52.374633Z"
    }
   },
   "outputs": [
    {
     "data": {
      "text/plain": [
       "(209, 6)"
      ]
     },
     "execution_count": 7,
     "metadata": {},
     "output_type": "execute_result"
    }
   ],
   "source": [
    "registry_df = pd.DataFrame.from_dict(registry_data)\n",
    "registry_df = registry_df[['name', 'team', 'component', 'uptimeStatus', 'refreshStatus', 'tags']]\n",
    "\n",
    "registry_df.shape"
   ]
  },
  {
   "cell_type": "markdown",
   "metadata": {},
   "source": [
    "### Issues around duplicate entries / x-translator compliance"
   ]
  },
  {
   "cell_type": "code",
   "execution_count": 8,
   "metadata": {
    "ExecuteTime": {
     "end_time": "2021-02-23T07:29:59.544170Z",
     "start_time": "2021-02-23T07:29:59.521191Z"
    }
   },
   "outputs": [
    {
     "data": {
      "text/html": [
       "<div>\n",
       "<style scoped>\n",
       "    .dataframe tbody tr th:only-of-type {\n",
       "        vertical-align: middle;\n",
       "    }\n",
       "\n",
       "    .dataframe tbody tr th {\n",
       "        vertical-align: top;\n",
       "    }\n",
       "\n",
       "    .dataframe thead th {\n",
       "        text-align: right;\n",
       "    }\n",
       "</style>\n",
       "<table border=\"1\" class=\"dataframe\">\n",
       "  <thead>\n",
       "    <tr style=\"text-align: right;\">\n",
       "      <th></th>\n",
       "      <th>name</th>\n",
       "      <th>team</th>\n",
       "      <th>component</th>\n",
       "      <th>uptimeStatus</th>\n",
       "      <th>refreshStatus</th>\n",
       "      <th>tags</th>\n",
       "    </tr>\n",
       "  </thead>\n",
       "  <tbody>\n",
       "    <tr>\n",
       "      <th>161</th>\n",
       "      <td>Ontology-KP API</td>\n",
       "      <td>SRI</td>\n",
       "      <td>KP</td>\n",
       "      <td>unknown</td>\n",
       "      <td>499</td>\n",
       "      <td>[translator]</td>\n",
       "    </tr>\n",
       "  </tbody>\n",
       "</table>\n",
       "</div>"
      ],
      "text/plain": [
       "                name team component uptimeStatus  refreshStatus          tags\n",
       "161  Ontology-KP API  SRI        KP      unknown            499  [translator]"
      ]
     },
     "execution_count": 8,
     "metadata": {},
     "output_type": "execute_result"
    },
    {
     "data": {
      "text/html": [
       "<div>\n",
       "<style scoped>\n",
       "    .dataframe tbody tr th:only-of-type {\n",
       "        vertical-align: middle;\n",
       "    }\n",
       "\n",
       "    .dataframe tbody tr th {\n",
       "        vertical-align: top;\n",
       "    }\n",
       "\n",
       "    .dataframe thead th {\n",
       "        text-align: right;\n",
       "    }\n",
       "</style>\n",
       "<table border=\"1\" class=\"dataframe\">\n",
       "  <thead>\n",
       "    <tr style=\"text-align: right;\">\n",
       "      <th></th>\n",
       "      <th>name</th>\n",
       "      <th>team</th>\n",
       "      <th>component</th>\n",
       "      <th>uptimeStatus</th>\n",
       "      <th>refreshStatus</th>\n",
       "      <th>tags</th>\n",
       "    </tr>\n",
       "  </thead>\n",
       "  <tbody>\n",
       "    <tr>\n",
       "      <th>20</th>\n",
       "      <td>imProving Agent</td>\n",
       "      <td>[imProving Agent]</td>\n",
       "      <td>ARA</td>\n",
       "      <td>unknown</td>\n",
       "      <td>499</td>\n",
       "      <td>[predicates, query, translator, reasoner, SPOKE]</td>\n",
       "    </tr>\n",
       "  </tbody>\n",
       "</table>\n",
       "</div>"
      ],
      "text/plain": [
       "               name               team component uptimeStatus  refreshStatus  \\\n",
       "20  imProving Agent  [imProving Agent]       ARA      unknown            499   \n",
       "\n",
       "                                                tags  \n",
       "20  [predicates, query, translator, reasoner, SPOKE]  "
      ]
     },
     "execution_count": 8,
     "metadata": {},
     "output_type": "execute_result"
    }
   ],
   "source": [
    "## allow these entries' team value (currently not in enum)\n",
    "registry_df[registry_df['name'].str.contains('Ontology-KP')]\n",
    "registry_df[registry_df['name'].str.contains('imProving')]"
   ]
  },
  {
   "cell_type": "code",
   "execution_count": 10,
   "metadata": {
    "ExecuteTime": {
     "end_time": "2021-02-23T07:31:51.520095Z",
     "start_time": "2021-02-23T07:31:51.508439Z"
    }
   },
   "outputs": [
    {
     "data": {
      "text/html": [
       "<div>\n",
       "<style scoped>\n",
       "    .dataframe tbody tr th:only-of-type {\n",
       "        vertical-align: middle;\n",
       "    }\n",
       "\n",
       "    .dataframe tbody tr th {\n",
       "        vertical-align: top;\n",
       "    }\n",
       "\n",
       "    .dataframe thead th {\n",
       "        text-align: right;\n",
       "    }\n",
       "</style>\n",
       "<table border=\"1\" class=\"dataframe\">\n",
       "  <thead>\n",
       "    <tr style=\"text-align: right;\">\n",
       "      <th></th>\n",
       "      <th>name</th>\n",
       "      <th>team</th>\n",
       "      <th>component</th>\n",
       "      <th>uptimeStatus</th>\n",
       "      <th>refreshStatus</th>\n",
       "      <th>tags</th>\n",
       "    </tr>\n",
       "  </thead>\n",
       "  <tbody>\n",
       "    <tr>\n",
       "      <th>97</th>\n",
       "      <td>Connections Hypothesis Provider API</td>\n",
       "      <td>[Connections Hypothesis Provider]</td>\n",
       "      <td>KP</td>\n",
       "      <td>unknown</td>\n",
       "      <td>200</td>\n",
       "      <td>[bayesian, translator, 1.0.0]</td>\n",
       "    </tr>\n",
       "    <tr>\n",
       "      <th>135</th>\n",
       "      <td>Connections Hypothesis Provider API</td>\n",
       "      <td>[Connections Hypothesis Provider]</td>\n",
       "      <td>KP</td>\n",
       "      <td>unknown</td>\n",
       "      <td>200</td>\n",
       "      <td>[bayesian, translator, 1.0.0]</td>\n",
       "    </tr>\n",
       "  </tbody>\n",
       "</table>\n",
       "</div>"
      ],
      "text/plain": [
       "                                    name                               team  \\\n",
       "97   Connections Hypothesis Provider API  [Connections Hypothesis Provider]   \n",
       "135  Connections Hypothesis Provider API  [Connections Hypothesis Provider]   \n",
       "\n",
       "    component uptimeStatus  refreshStatus                           tags  \n",
       "97         KP      unknown            200  [bayesian, translator, 1.0.0]  \n",
       "135        KP      unknown            200  [bayesian, translator, 1.0.0]  "
      ]
     },
     "execution_count": 10,
     "metadata": {},
     "output_type": "execute_result"
    }
   ],
   "source": [
    "## looks like accidentally two identical registrations? \n",
    "## see http://smart-api.info/registry?q=855adaa128ce5aa58a091d99e520d396 vs \n",
    "## http://smart-api.info/registry?q=da159a55e799a163ee23783edcb11725\n",
    "registry_df[registry_df['name'].str.startswith('Connections')]"
   ]
  },
  {
   "cell_type": "code",
   "execution_count": 11,
   "metadata": {
    "ExecuteTime": {
     "end_time": "2021-02-23T07:31:54.969897Z",
     "start_time": "2021-02-23T07:31:54.947676Z"
    }
   },
   "outputs": [
    {
     "data": {
      "text/html": [
       "<div>\n",
       "<style scoped>\n",
       "    .dataframe tbody tr th:only-of-type {\n",
       "        vertical-align: middle;\n",
       "    }\n",
       "\n",
       "    .dataframe tbody tr th {\n",
       "        vertical-align: top;\n",
       "    }\n",
       "\n",
       "    .dataframe thead th {\n",
       "        text-align: right;\n",
       "    }\n",
       "</style>\n",
       "<table border=\"1\" class=\"dataframe\">\n",
       "  <thead>\n",
       "    <tr style=\"text-align: right;\">\n",
       "      <th></th>\n",
       "      <th>name</th>\n",
       "      <th>team</th>\n",
       "      <th>component</th>\n",
       "      <th>uptimeStatus</th>\n",
       "      <th>refreshStatus</th>\n",
       "      <th>tags</th>\n",
       "    </tr>\n",
       "  </thead>\n",
       "  <tbody>\n",
       "    <tr>\n",
       "      <th>112</th>\n",
       "      <td>Clinical Risk KP API</td>\n",
       "      <td>[Multiomics Provider, Service Provider]</td>\n",
       "      <td>KP</td>\n",
       "      <td>good</td>\n",
       "      <td>200</td>\n",
       "      <td>[disease, drug, chemical_substance, phenotypic...</td>\n",
       "    </tr>\n",
       "    <tr>\n",
       "      <th>153</th>\n",
       "      <td>Clinical Risk KP API</td>\n",
       "      <td>[Multiomics Provider, Service Provider]</td>\n",
       "      <td>KP</td>\n",
       "      <td>good</td>\n",
       "      <td>200</td>\n",
       "      <td>[disease, association, annotation, query, tran...</td>\n",
       "    </tr>\n",
       "  </tbody>\n",
       "</table>\n",
       "</div>"
      ],
      "text/plain": [
       "                     name                                     team component  \\\n",
       "112  Clinical Risk KP API  [Multiomics Provider, Service Provider]        KP   \n",
       "153  Clinical Risk KP API  [Multiomics Provider, Service Provider]        KP   \n",
       "\n",
       "    uptimeStatus  refreshStatus  \\\n",
       "112         good            200   \n",
       "153         good            200   \n",
       "\n",
       "                                                  tags  \n",
       "112  [disease, drug, chemical_substance, phenotypic...  \n",
       "153  [disease, association, annotation, query, tran...  "
      ]
     },
     "execution_count": 11,
     "metadata": {},
     "output_type": "execute_result"
    },
    {
     "data": {
      "text/html": [
       "<div>\n",
       "<style scoped>\n",
       "    .dataframe tbody tr th:only-of-type {\n",
       "        vertical-align: middle;\n",
       "    }\n",
       "\n",
       "    .dataframe tbody tr th {\n",
       "        vertical-align: top;\n",
       "    }\n",
       "\n",
       "    .dataframe thead th {\n",
       "        text-align: right;\n",
       "    }\n",
       "</style>\n",
       "<table border=\"1\" class=\"dataframe\">\n",
       "  <thead>\n",
       "    <tr style=\"text-align: right;\">\n",
       "      <th></th>\n",
       "      <th>name</th>\n",
       "      <th>team</th>\n",
       "      <th>component</th>\n",
       "      <th>uptimeStatus</th>\n",
       "      <th>refreshStatus</th>\n",
       "      <th>tags</th>\n",
       "    </tr>\n",
       "  </thead>\n",
       "  <tbody>\n",
       "    <tr>\n",
       "      <th>18</th>\n",
       "      <td>Genetics Provider</td>\n",
       "      <td>[Genetics Provider]</td>\n",
       "      <td>KP</td>\n",
       "      <td>unknown</td>\n",
       "      <td>200</td>\n",
       "      <td>[1.0.0, translator, x-translator, reasoner, me...</td>\n",
       "    </tr>\n",
       "    <tr>\n",
       "      <th>115</th>\n",
       "      <td>Genetics Provider API</td>\n",
       "      <td>[Genetics Provider]</td>\n",
       "      <td>KP</td>\n",
       "      <td>unknown</td>\n",
       "      <td>200</td>\n",
       "      <td>[0.9.2, translator, reasoner]</td>\n",
       "    </tr>\n",
       "  </tbody>\n",
       "</table>\n",
       "</div>"
      ],
      "text/plain": [
       "                      name                 team component uptimeStatus  \\\n",
       "18       Genetics Provider  [Genetics Provider]        KP      unknown   \n",
       "115  Genetics Provider API  [Genetics Provider]        KP      unknown   \n",
       "\n",
       "     refreshStatus                                               tags  \n",
       "18             200  [1.0.0, translator, x-translator, reasoner, me...  \n",
       "115            200                      [0.9.2, translator, reasoner]  "
      ]
     },
     "execution_count": 11,
     "metadata": {},
     "output_type": "execute_result"
    }
   ],
   "source": [
    "## are these two different TRAPI versions? What's going on here?\n",
    "registry_df[registry_df['name'].str.startswith('Clinical Risk')]\n",
    "registry_df[registry_df['name'].str.contains('Genetics')]"
   ]
  },
  {
   "cell_type": "code",
   "execution_count": 13,
   "metadata": {
    "ExecuteTime": {
     "end_time": "2021-02-23T07:32:22.550682Z",
     "start_time": "2021-02-23T07:32:22.528673Z"
    }
   },
   "outputs": [
    {
     "data": {
      "text/html": [
       "<div>\n",
       "<style scoped>\n",
       "    .dataframe tbody tr th:only-of-type {\n",
       "        vertical-align: middle;\n",
       "    }\n",
       "\n",
       "    .dataframe tbody tr th {\n",
       "        vertical-align: top;\n",
       "    }\n",
       "\n",
       "    .dataframe thead th {\n",
       "        text-align: right;\n",
       "    }\n",
       "</style>\n",
       "<table border=\"1\" class=\"dataframe\">\n",
       "  <thead>\n",
       "    <tr style=\"text-align: right;\">\n",
       "      <th></th>\n",
       "      <th>name</th>\n",
       "      <th>team</th>\n",
       "      <th>component</th>\n",
       "      <th>uptimeStatus</th>\n",
       "      <th>refreshStatus</th>\n",
       "      <th>tags</th>\n",
       "    </tr>\n",
       "  </thead>\n",
       "  <tbody>\n",
       "    <tr>\n",
       "      <th>27</th>\n",
       "      <td>MyGene.info API</td>\n",
       "      <td>[Service Provider]</td>\n",
       "      <td>KP</td>\n",
       "      <td>good</td>\n",
       "      <td>200</td>\n",
       "      <td>[gene, annotation, query, translator, biothings]</td>\n",
       "    </tr>\n",
       "    <tr>\n",
       "      <th>45</th>\n",
       "      <td>MyGene.info API (for test)</td>\n",
       "      <td>[]</td>\n",
       "      <td>None</td>\n",
       "      <td>unknown</td>\n",
       "      <td>499</td>\n",
       "      <td>[Genes]</td>\n",
       "    </tr>\n",
       "  </tbody>\n",
       "</table>\n",
       "</div>"
      ],
      "text/plain": [
       "                          name                team component uptimeStatus  \\\n",
       "27             MyGene.info API  [Service Provider]        KP         good   \n",
       "45  MyGene.info API (for test)                  []      None      unknown   \n",
       "\n",
       "    refreshStatus                                              tags  \n",
       "27            200  [gene, annotation, query, translator, biothings]  \n",
       "45            499                                           [Genes]  "
      ]
     },
     "execution_count": 13,
     "metadata": {},
     "output_type": "execute_result"
    },
    {
     "data": {
      "text/html": [
       "<div>\n",
       "<style scoped>\n",
       "    .dataframe tbody tr th:only-of-type {\n",
       "        vertical-align: middle;\n",
       "    }\n",
       "\n",
       "    .dataframe tbody tr th {\n",
       "        vertical-align: top;\n",
       "    }\n",
       "\n",
       "    .dataframe thead th {\n",
       "        text-align: right;\n",
       "    }\n",
       "</style>\n",
       "<table border=\"1\" class=\"dataframe\">\n",
       "  <thead>\n",
       "    <tr style=\"text-align: right;\">\n",
       "      <th></th>\n",
       "      <th>name</th>\n",
       "      <th>team</th>\n",
       "      <th>component</th>\n",
       "      <th>uptimeStatus</th>\n",
       "      <th>refreshStatus</th>\n",
       "      <th>tags</th>\n",
       "    </tr>\n",
       "  </thead>\n",
       "  <tbody>\n",
       "    <tr>\n",
       "      <th>96</th>\n",
       "      <td>MyVariant.info API</td>\n",
       "      <td>[Service Provider]</td>\n",
       "      <td>KP</td>\n",
       "      <td>unknown</td>\n",
       "      <td>200</td>\n",
       "      <td>[variant, annotation, query, translator]</td>\n",
       "    </tr>\n",
       "    <tr>\n",
       "      <th>151</th>\n",
       "      <td>MyVariant.info API</td>\n",
       "      <td>[Service Provider]</td>\n",
       "      <td>KP</td>\n",
       "      <td>good</td>\n",
       "      <td>200</td>\n",
       "      <td>[variant, query, metadata, translator, biothings]</td>\n",
       "    </tr>\n",
       "  </tbody>\n",
       "</table>\n",
       "</div>"
      ],
      "text/plain": [
       "                   name                team component uptimeStatus  \\\n",
       "96   MyVariant.info API  [Service Provider]        KP      unknown   \n",
       "151  MyVariant.info API  [Service Provider]        KP         good   \n",
       "\n",
       "     refreshStatus                                               tags  \n",
       "96             200           [variant, annotation, query, translator]  \n",
       "151            200  [variant, query, metadata, translator, biothings]  "
      ]
     },
     "execution_count": 13,
     "metadata": {},
     "output_type": "execute_result"
    }
   ],
   "source": [
    "## these two versions were....registered by diff people?\n",
    "registry_df[registry_df['name'].str.startswith('MyGene.info')]\n",
    "registry_df[registry_df['name'].str.startswith('MyVariant.info')]"
   ]
  },
  {
   "cell_type": "code",
   "execution_count": 14,
   "metadata": {
    "ExecuteTime": {
     "end_time": "2021-02-23T07:32:30.189307Z",
     "start_time": "2021-02-23T07:32:30.177614Z"
    }
   },
   "outputs": [
    {
     "data": {
      "text/html": [
       "<div>\n",
       "<style scoped>\n",
       "    .dataframe tbody tr th:only-of-type {\n",
       "        vertical-align: middle;\n",
       "    }\n",
       "\n",
       "    .dataframe tbody tr th {\n",
       "        vertical-align: top;\n",
       "    }\n",
       "\n",
       "    .dataframe thead th {\n",
       "        text-align: right;\n",
       "    }\n",
       "</style>\n",
       "<table border=\"1\" class=\"dataframe\">\n",
       "  <thead>\n",
       "    <tr style=\"text-align: right;\">\n",
       "      <th></th>\n",
       "      <th>name</th>\n",
       "      <th>team</th>\n",
       "      <th>component</th>\n",
       "      <th>uptimeStatus</th>\n",
       "      <th>refreshStatus</th>\n",
       "      <th>tags</th>\n",
       "    </tr>\n",
       "  </thead>\n",
       "  <tbody>\n",
       "    <tr>\n",
       "      <th>33</th>\n",
       "      <td>SmartAPI API</td>\n",
       "      <td>Service Provider</td>\n",
       "      <td>Utility</td>\n",
       "      <td>good</td>\n",
       "      <td>200</td>\n",
       "      <td>[api, metadata, openapi, translator]</td>\n",
       "    </tr>\n",
       "    <tr>\n",
       "      <th>93</th>\n",
       "      <td>ARAX Translator Reasoner</td>\n",
       "      <td>Expander Agent</td>\n",
       "      <td>ARA</td>\n",
       "      <td>good</td>\n",
       "      <td>200</td>\n",
       "      <td>[predicates, query, translator, reasoner, resp...</td>\n",
       "    </tr>\n",
       "    <tr>\n",
       "      <th>161</th>\n",
       "      <td>Ontology-KP API</td>\n",
       "      <td>SRI</td>\n",
       "      <td>KP</td>\n",
       "      <td>unknown</td>\n",
       "      <td>499</td>\n",
       "      <td>[translator]</td>\n",
       "    </tr>\n",
       "    <tr>\n",
       "      <th>168</th>\n",
       "      <td>CAM-KP API</td>\n",
       "      <td>Exposures Provider</td>\n",
       "      <td>KP</td>\n",
       "      <td>unknown</td>\n",
       "      <td>200</td>\n",
       "      <td>[translator]</td>\n",
       "    </tr>\n",
       "  </tbody>\n",
       "</table>\n",
       "</div>"
      ],
      "text/plain": [
       "                         name                team component uptimeStatus  \\\n",
       "33               SmartAPI API    Service Provider   Utility         good   \n",
       "93   ARAX Translator Reasoner      Expander Agent       ARA         good   \n",
       "161           Ontology-KP API                 SRI        KP      unknown   \n",
       "168                CAM-KP API  Exposures Provider        KP      unknown   \n",
       "\n",
       "     refreshStatus                                               tags  \n",
       "33             200               [api, metadata, openapi, translator]  \n",
       "93             200  [predicates, query, translator, reasoner, resp...  \n",
       "161            499                                       [translator]  \n",
       "168            200                                       [translator]  "
      ]
     },
     "execution_count": 14,
     "metadata": {},
     "output_type": "execute_result"
    }
   ],
   "source": [
    "## currently not a problem since changed schema to allow team to be a string \n",
    "##   (as long as it matches one of the enums)\n",
    "teamNotList = [True if not isinstance(x, list) else False for x in registry_df['team']]\n",
    "registry_df[teamNotList]"
   ]
  },
  {
   "cell_type": "markdown",
   "metadata": {},
   "source": [
    "### Finishing that parsing"
   ]
  },
  {
   "cell_type": "markdown",
   "metadata": {},
   "source": [
    "Having team as an array is good when there is more than one team involved in making the API (this happens often with Service Provider). \n",
    "\n",
    "Having team (and tags) as an array is bad when you want to group-by/summarize....so for now I turned them to strings"
   ]
  },
  {
   "cell_type": "code",
   "execution_count": 15,
   "metadata": {
    "ExecuteTime": {
     "end_time": "2021-02-23T07:32:48.490077Z",
     "start_time": "2021-02-23T07:32:48.484346Z"
    }
   },
   "outputs": [],
   "source": [
    "## changing the column to strings to make it easier to sort values\n",
    "registry_df['team'] = [\",\".join(x) if isinstance(x, list) else x for x in registry_df['team']]\n",
    "registry_df['tags'] = [\",\".join(x) if isinstance(x, list) else x for x in registry_df['tags']]\n",
    "\n",
    "## replacing empty strings with None\n",
    "registry_df['team'] = [None if not x else x for x in registry_df['team']]\n",
    "registry_df['tags'] = [None if not x else x for x in registry_df['tags']]"
   ]
  },
  {
   "cell_type": "markdown",
   "metadata": {},
   "source": [
    "### Getting and parsing metaKG info"
   ]
  },
  {
   "cell_type": "markdown",
   "metadata": {},
   "source": [
    "The MetaKG is currently based on annotations from x-bte. The operations are all from APIs tagged translator "
   ]
  },
  {
   "cell_type": "code",
   "execution_count": 16,
   "metadata": {
    "ExecuteTime": {
     "end_time": "2021-02-23T07:32:52.200946Z",
     "start_time": "2021-02-23T07:32:51.991240Z"
    }
   },
   "outputs": [
    {
     "data": {
      "text/plain": [
       "200"
      ]
     },
     "execution_count": 16,
     "metadata": {},
     "output_type": "execute_result"
    }
   ],
   "source": [
    "headers = {\"content-type\": \"application/json\"}\n",
    "\n",
    "metaKG_url = \"https://smart-api.info/api/metakg\"\n",
    "\n",
    "metaKG_request = requests.get(metaKG_url, headers=headers)\n",
    "metaKG_request.status_code\n",
    "## if the output is successful, code 200"
   ]
  },
  {
   "cell_type": "code",
   "execution_count": 17,
   "metadata": {
    "ExecuteTime": {
     "end_time": "2021-02-23T07:32:52.848246Z",
     "start_time": "2021-02-23T07:32:52.836938Z"
    }
   },
   "outputs": [],
   "source": [
    "metaKG = metaKG_request.json()"
   ]
  },
  {
   "cell_type": "code",
   "execution_count": 18,
   "metadata": {
    "ExecuteTime": {
     "end_time": "2021-02-23T07:32:53.947556Z",
     "start_time": "2021-02-23T07:32:53.937571Z"
    }
   },
   "outputs": [],
   "source": [
    "metaKG_operations = []\n",
    "for edge in metaKG['associations']:\n",
    "    tempdict = {\n",
    "        \"subject\": edge['subject'],\n",
    "        \"object\": edge['object'],\n",
    "        \"predicate\": edge['predicate'],\n",
    "        \"provided_by\": edge.get('provided_by'),\n",
    "        \"api_name\": edge['api']['name']\n",
    "    }\n",
    "    if edge['api'].get('x-translator'):\n",
    "        tempteam = edge['api']['x-translator'].get('team')\n",
    "        if isinstance(tempteam, list):\n",
    "            tempteam = \",\".join(tempteam)\n",
    "            if not tempteam:\n",
    "                tempteam = None  \n",
    "        tempdict.update({\n",
    "            \"api_team\": tempteam,\n",
    "            \"api_component\": edge['api']['x-translator'].get('component'),\n",
    "        })\n",
    "    else:\n",
    "        tempdict.update({\n",
    "            \"api_team\": None,\n",
    "            \"api_component\": None,\n",
    "        })\n",
    "    metaKG_operations.append(tempdict)"
   ]
  },
  {
   "cell_type": "code",
   "execution_count": 19,
   "metadata": {
    "ExecuteTime": {
     "end_time": "2021-02-23T07:32:55.196070Z",
     "start_time": "2021-02-23T07:32:55.188936Z"
    }
   },
   "outputs": [
    {
     "data": {
      "text/plain": [
       "(1283, 7)"
      ]
     },
     "execution_count": 19,
     "metadata": {},
     "output_type": "execute_result"
    }
   ],
   "source": [
    "operations_summary = pd.DataFrame.from_dict(metaKG_operations)\n",
    "operations_summary.shape\n",
    "## describes this many operations"
   ]
  },
  {
   "cell_type": "markdown",
   "metadata": {},
   "source": [
    "### Issues around metaKG metadata"
   ]
  },
  {
   "cell_type": "markdown",
   "metadata": {},
   "source": [
    "Previously there were more APIs specified (SEMMED, Automat) that are now missing..."
   ]
  },
  {
   "cell_type": "markdown",
   "metadata": {},
   "source": [
    "## Registry API-level summary"
   ]
  },
  {
   "cell_type": "markdown",
   "metadata": {},
   "source": [
    "### Comparing translator tag and x-translator use"
   ]
  },
  {
   "cell_type": "code",
   "execution_count": 20,
   "metadata": {
    "ExecuteTime": {
     "end_time": "2021-02-23T07:34:00.591518Z",
     "start_time": "2021-02-23T07:34:00.574370Z"
    }
   },
   "outputs": [
    {
     "data": {
      "text/html": [
       "<div>\n",
       "<style scoped>\n",
       "    .dataframe tbody tr th:only-of-type {\n",
       "        vertical-align: middle;\n",
       "    }\n",
       "\n",
       "    .dataframe tbody tr th {\n",
       "        vertical-align: top;\n",
       "    }\n",
       "\n",
       "    .dataframe thead th {\n",
       "        text-align: right;\n",
       "    }\n",
       "</style>\n",
       "<table border=\"1\" class=\"dataframe\">\n",
       "  <thead>\n",
       "    <tr style=\"text-align: right;\">\n",
       "      <th></th>\n",
       "      <th>hasTranslatorTag</th>\n",
       "      <th>hasXTranslator</th>\n",
       "      <th>Num of APIs</th>\n",
       "    </tr>\n",
       "  </thead>\n",
       "  <tbody>\n",
       "    <tr>\n",
       "      <th>0</th>\n",
       "      <td>False</td>\n",
       "      <td>False</td>\n",
       "      <td>113</td>\n",
       "    </tr>\n",
       "    <tr>\n",
       "      <th>1</th>\n",
       "      <td>True</td>\n",
       "      <td>True</td>\n",
       "      <td>82</td>\n",
       "    </tr>\n",
       "    <tr>\n",
       "      <th>2</th>\n",
       "      <td>True</td>\n",
       "      <td>False</td>\n",
       "      <td>13</td>\n",
       "    </tr>\n",
       "    <tr>\n",
       "      <th>3</th>\n",
       "      <td>False</td>\n",
       "      <td>True</td>\n",
       "      <td>1</td>\n",
       "    </tr>\n",
       "  </tbody>\n",
       "</table>\n",
       "</div>"
      ],
      "text/plain": [
       "   hasTranslatorTag  hasXTranslator  Num of APIs\n",
       "0             False           False          113\n",
       "1              True            True           82\n",
       "2              True           False           13\n",
       "3             False            True            1"
      ]
     },
     "execution_count": 20,
     "metadata": {},
     "output_type": "execute_result"
    }
   ],
   "source": [
    "registry_df['hasTranslatorTag'] =  [False if x is None else x for x in registry_df.tags.str.contains('translator')]\n",
    "registry_df['hasXTranslator'] =  [False if x is None else True for x in registry_df.team]\n",
    "registry_df[['hasTranslatorTag', 'hasXTranslator']].value_counts().reset_index(name = \"Num of APIs\")"
   ]
  },
  {
   "cell_type": "markdown",
   "metadata": {},
   "source": [
    "So there are 95 APIs with the \"translator\" tag, and 82 of them currently have the x-translator extension. There is one API with the x-translator extension and no \"translator\" tag. "
   ]
  },
  {
   "cell_type": "markdown",
   "metadata": {},
   "source": [
    "### Translator-tagged / x-translator APIs"
   ]
  },
  {
   "cell_type": "code",
   "execution_count": 21,
   "metadata": {
    "ExecuteTime": {
     "end_time": "2021-02-23T07:34:22.679068Z",
     "start_time": "2021-02-23T07:34:22.670129Z"
    }
   },
   "outputs": [],
   "source": [
    "## grab only the APIs with the translator tag \n",
    "translator_apis = registry_df[(registry_df['hasTranslatorTag']) | \n",
    "            (registry_df['hasXTranslator'])].copy()\n",
    "translator_apis.drop(columns = ['hasTranslatorTag'], inplace = True)\n",
    "translator_apis = translator_apis[['team', 'component', 'name', 'uptimeStatus', 'refreshStatus', 'tags']]\n",
    "translator_apis.sort_values(by=['team', 'component', 'name'], \n",
    "                            ignore_index = True, na_position = 'last', inplace = True)"
   ]
  },
  {
   "cell_type": "markdown",
   "metadata": {},
   "source": [
    "Translator-tagged APIs with x-translator information. Another review may need to be done to address duplicate API registrations / different API registrations for BTE. "
   ]
  },
  {
   "cell_type": "code",
   "execution_count": 22,
   "metadata": {
    "ExecuteTime": {
     "end_time": "2021-02-23T07:34:24.939925Z",
     "start_time": "2021-02-23T07:34:24.923841Z"
    }
   },
   "outputs": [
    {
     "data": {
      "text/html": [
       "<div>\n",
       "<style scoped>\n",
       "    .dataframe tbody tr th:only-of-type {\n",
       "        vertical-align: middle;\n",
       "    }\n",
       "\n",
       "    .dataframe tbody tr th {\n",
       "        vertical-align: top;\n",
       "    }\n",
       "\n",
       "    .dataframe thead th {\n",
       "        text-align: right;\n",
       "    }\n",
       "</style>\n",
       "<table border=\"1\" class=\"dataframe\">\n",
       "  <thead>\n",
       "    <tr style=\"text-align: right;\">\n",
       "      <th></th>\n",
       "      <th>team</th>\n",
       "      <th>component</th>\n",
       "      <th>name</th>\n",
       "      <th>uptimeStatus</th>\n",
       "      <th>refreshStatus</th>\n",
       "      <th>tags</th>\n",
       "    </tr>\n",
       "  </thead>\n",
       "  <tbody>\n",
       "    <tr>\n",
       "      <th>0</th>\n",
       "      <td>Clinical Data Provider</td>\n",
       "      <td>KP</td>\n",
       "      <td>Columbia Open Health Data (COHD)</td>\n",
       "      <td>good</td>\n",
       "      <td>200</td>\n",
       "      <td>Metadata,OMOP,Clinical Frequencies,Concept Ass...</td>\n",
       "    </tr>\n",
       "    <tr>\n",
       "      <th>1</th>\n",
       "      <td>Clinical Data Provider</td>\n",
       "      <td>KP</td>\n",
       "      <td>Columbia Open Health Data (COHD) for COVID-19 ...</td>\n",
       "      <td>good</td>\n",
       "      <td>200</td>\n",
       "      <td>Metadata,OMOP,Clinical Frequencies,Concept Ass...</td>\n",
       "    </tr>\n",
       "    <tr>\n",
       "      <th>2</th>\n",
       "      <td>Clinical Data Provider</td>\n",
       "      <td>KP</td>\n",
       "      <td>OpenPredict API 🔮🐍</td>\n",
       "      <td>good</td>\n",
       "      <td>200</td>\n",
       "      <td>translator,reasoner</td>\n",
       "    </tr>\n",
       "    <tr>\n",
       "      <th>3</th>\n",
       "      <td>Clinical Data Provider</td>\n",
       "      <td>KP</td>\n",
       "      <td>Translator Knowledge Collaboratory API</td>\n",
       "      <td>good</td>\n",
       "      <td>200</td>\n",
       "      <td>predicates,query,translator,reasoner</td>\n",
       "    </tr>\n",
       "    <tr>\n",
       "      <th>4</th>\n",
       "      <td>Connections Hypothesis Provider</td>\n",
       "      <td>KP</td>\n",
       "      <td>Connections Hypothesis Provider API</td>\n",
       "      <td>unknown</td>\n",
       "      <td>200</td>\n",
       "      <td>bayesian,translator,1.0.0</td>\n",
       "    </tr>\n",
       "    <tr>\n",
       "      <th>...</th>\n",
       "      <td>...</td>\n",
       "      <td>...</td>\n",
       "      <td>...</td>\n",
       "      <td>...</td>\n",
       "      <td>...</td>\n",
       "      <td>...</td>\n",
       "    </tr>\n",
       "    <tr>\n",
       "      <th>78</th>\n",
       "      <td>Standards Reference Implementation Team</td>\n",
       "      <td>Utility</td>\n",
       "      <td>Name Resolver</td>\n",
       "      <td>unknown</td>\n",
       "      <td>200</td>\n",
       "      <td>translator</td>\n",
       "    </tr>\n",
       "    <tr>\n",
       "      <th>79</th>\n",
       "      <td>Standards Reference Implementation Team</td>\n",
       "      <td>Utility</td>\n",
       "      <td>Node Normalization</td>\n",
       "      <td>good</td>\n",
       "      <td>499</td>\n",
       "      <td>Interfaces</td>\n",
       "    </tr>\n",
       "    <tr>\n",
       "      <th>80</th>\n",
       "      <td>Text Mining Provider,Service Provider</td>\n",
       "      <td>KP</td>\n",
       "      <td>Text Mining CO-OCCURRENCE API</td>\n",
       "      <td>good</td>\n",
       "      <td>200</td>\n",
       "      <td>gene,chemical,association,annotation,query,tra...</td>\n",
       "    </tr>\n",
       "    <tr>\n",
       "      <th>81</th>\n",
       "      <td>Text Mining Provider,Service Provider</td>\n",
       "      <td>KP</td>\n",
       "      <td>Text Mining Targeted Association API</td>\n",
       "      <td>good</td>\n",
       "      <td>200</td>\n",
       "      <td>gene,chemical,association,annotation,query,tra...</td>\n",
       "    </tr>\n",
       "    <tr>\n",
       "      <th>82</th>\n",
       "      <td>imProving Agent</td>\n",
       "      <td>ARA</td>\n",
       "      <td>imProving Agent</td>\n",
       "      <td>unknown</td>\n",
       "      <td>499</td>\n",
       "      <td>predicates,query,translator,reasoner,SPOKE</td>\n",
       "    </tr>\n",
       "  </tbody>\n",
       "</table>\n",
       "<p>83 rows × 6 columns</p>\n",
       "</div>"
      ],
      "text/plain": [
       "                                       team component  \\\n",
       "0                    Clinical Data Provider        KP   \n",
       "1                    Clinical Data Provider        KP   \n",
       "2                    Clinical Data Provider        KP   \n",
       "3                    Clinical Data Provider        KP   \n",
       "4           Connections Hypothesis Provider        KP   \n",
       "..                                      ...       ...   \n",
       "78  Standards Reference Implementation Team   Utility   \n",
       "79  Standards Reference Implementation Team   Utility   \n",
       "80    Text Mining Provider,Service Provider        KP   \n",
       "81    Text Mining Provider,Service Provider        KP   \n",
       "82                          imProving Agent       ARA   \n",
       "\n",
       "                                                 name uptimeStatus  \\\n",
       "0                    Columbia Open Health Data (COHD)         good   \n",
       "1   Columbia Open Health Data (COHD) for COVID-19 ...         good   \n",
       "2                                  OpenPredict API 🔮🐍         good   \n",
       "3              Translator Knowledge Collaboratory API         good   \n",
       "4                 Connections Hypothesis Provider API      unknown   \n",
       "..                                                ...          ...   \n",
       "78                                      Name Resolver      unknown   \n",
       "79                                 Node Normalization         good   \n",
       "80                      Text Mining CO-OCCURRENCE API         good   \n",
       "81               Text Mining Targeted Association API         good   \n",
       "82                                    imProving Agent      unknown   \n",
       "\n",
       "    refreshStatus                                               tags  \n",
       "0             200  Metadata,OMOP,Clinical Frequencies,Concept Ass...  \n",
       "1             200  Metadata,OMOP,Clinical Frequencies,Concept Ass...  \n",
       "2             200                                translator,reasoner  \n",
       "3             200               predicates,query,translator,reasoner  \n",
       "4             200                          bayesian,translator,1.0.0  \n",
       "..            ...                                                ...  \n",
       "78            200                                         translator  \n",
       "79            499                                         Interfaces  \n",
       "80            200  gene,chemical,association,annotation,query,tra...  \n",
       "81            200  gene,chemical,association,annotation,query,tra...  \n",
       "82            499         predicates,query,translator,reasoner,SPOKE  \n",
       "\n",
       "[83 rows x 6 columns]"
      ]
     },
     "execution_count": 22,
     "metadata": {},
     "output_type": "execute_result"
    }
   ],
   "source": [
    "summarytable1 = translator_apis[~ translator_apis['team'].isna()].copy()\n",
    "summarytable1"
   ]
  },
  {
   "cell_type": "markdown",
   "metadata": {},
   "source": [
    "The APIs WITHOUT x-translator information"
   ]
  },
  {
   "cell_type": "code",
   "execution_count": 23,
   "metadata": {
    "ExecuteTime": {
     "end_time": "2021-02-23T07:34:30.744852Z",
     "start_time": "2021-02-23T07:34:30.732623Z"
    }
   },
   "outputs": [
    {
     "data": {
      "text/html": [
       "<div>\n",
       "<style scoped>\n",
       "    .dataframe tbody tr th:only-of-type {\n",
       "        vertical-align: middle;\n",
       "    }\n",
       "\n",
       "    .dataframe tbody tr th {\n",
       "        vertical-align: top;\n",
       "    }\n",
       "\n",
       "    .dataframe thead th {\n",
       "        text-align: right;\n",
       "    }\n",
       "</style>\n",
       "<table border=\"1\" class=\"dataframe\">\n",
       "  <thead>\n",
       "    <tr style=\"text-align: right;\">\n",
       "      <th></th>\n",
       "      <th>team</th>\n",
       "      <th>component</th>\n",
       "      <th>name</th>\n",
       "      <th>uptimeStatus</th>\n",
       "      <th>refreshStatus</th>\n",
       "      <th>tags</th>\n",
       "    </tr>\n",
       "  </thead>\n",
       "  <tbody>\n",
       "    <tr>\n",
       "      <th>83</th>\n",
       "      <td>None</td>\n",
       "      <td>None</td>\n",
       "      <td>Big GIM(Gene Interaction Miner)</td>\n",
       "      <td>unknown</td>\n",
       "      <td>500</td>\n",
       "      <td>translator,ISB,gene,similarity,tissue,TCGA,GIA...</td>\n",
       "    </tr>\n",
       "    <tr>\n",
       "      <th>84</th>\n",
       "      <td>None</td>\n",
       "      <td>None</td>\n",
       "      <td>Broad probabilistic graphical models translator</td>\n",
       "      <td>unknown</td>\n",
       "      <td>499</td>\n",
       "      <td>translator</td>\n",
       "    </tr>\n",
       "    <tr>\n",
       "      <th>85</th>\n",
       "      <td>None</td>\n",
       "      <td>None</td>\n",
       "      <td>CMAQ Exposures API</td>\n",
       "      <td>incompatible</td>\n",
       "      <td>200</td>\n",
       "      <td>translator</td>\n",
       "    </tr>\n",
       "    <tr>\n",
       "      <th>86</th>\n",
       "      <td>None</td>\n",
       "      <td>None</td>\n",
       "      <td>ChEMBL API</td>\n",
       "      <td>good</td>\n",
       "      <td>499</td>\n",
       "      <td>publication,translator</td>\n",
       "    </tr>\n",
       "    <tr>\n",
       "      <th>87</th>\n",
       "      <td>None</td>\n",
       "      <td>None</td>\n",
       "      <td>Metadata Provider API</td>\n",
       "      <td>good</td>\n",
       "      <td>499</td>\n",
       "      <td>metadata,biosample,translator</td>\n",
       "    </tr>\n",
       "    <tr>\n",
       "      <th>88</th>\n",
       "      <td>None</td>\n",
       "      <td>None</td>\n",
       "      <td>NCATS ARA Scaffold</td>\n",
       "      <td>unknown</td>\n",
       "      <td>499</td>\n",
       "      <td>translator</td>\n",
       "    </tr>\n",
       "    <tr>\n",
       "      <th>89</th>\n",
       "      <td>None</td>\n",
       "      <td>None</td>\n",
       "      <td>NCATS KP Scaffold</td>\n",
       "      <td>unknown</td>\n",
       "      <td>499</td>\n",
       "      <td>translator</td>\n",
       "    </tr>\n",
       "    <tr>\n",
       "      <th>90</th>\n",
       "      <td>None</td>\n",
       "      <td>None</td>\n",
       "      <td>OpenAPI for indigo NCATS Biomedical Translator...</td>\n",
       "      <td>unknown</td>\n",
       "      <td>499</td>\n",
       "      <td>query,translator,reasoner</td>\n",
       "    </tr>\n",
       "    <tr>\n",
       "      <th>91</th>\n",
       "      <td>None</td>\n",
       "      <td>None</td>\n",
       "      <td>RGD API</td>\n",
       "      <td>good</td>\n",
       "      <td>499</td>\n",
       "      <td>translator,gene</td>\n",
       "    </tr>\n",
       "    <tr>\n",
       "      <th>92</th>\n",
       "      <td>None</td>\n",
       "      <td>None</td>\n",
       "      <td>ROBOKOP</td>\n",
       "      <td>good</td>\n",
       "      <td>499</td>\n",
       "      <td>translator,reasoner</td>\n",
       "    </tr>\n",
       "    <tr>\n",
       "      <th>93</th>\n",
       "      <td>None</td>\n",
       "      <td>None</td>\n",
       "      <td>ROBOKOP Ranker</td>\n",
       "      <td>unknown</td>\n",
       "      <td>499</td>\n",
       "      <td>0.9.2,translator,reasoner</td>\n",
       "    </tr>\n",
       "    <tr>\n",
       "      <th>94</th>\n",
       "      <td>None</td>\n",
       "      <td>None</td>\n",
       "      <td>Roadway Exposures API</td>\n",
       "      <td>incompatible</td>\n",
       "      <td>200</td>\n",
       "      <td>translator</td>\n",
       "    </tr>\n",
       "    <tr>\n",
       "      <th>95</th>\n",
       "      <td>None</td>\n",
       "      <td>None</td>\n",
       "      <td>Socio-Environmental Exposures API</td>\n",
       "      <td>incompatible</td>\n",
       "      <td>200</td>\n",
       "      <td>translator</td>\n",
       "    </tr>\n",
       "  </tbody>\n",
       "</table>\n",
       "</div>"
      ],
      "text/plain": [
       "    team component                                               name  \\\n",
       "83  None      None                    Big GIM(Gene Interaction Miner)   \n",
       "84  None      None    Broad probabilistic graphical models translator   \n",
       "85  None      None                                 CMAQ Exposures API   \n",
       "86  None      None                                         ChEMBL API   \n",
       "87  None      None                              Metadata Provider API   \n",
       "88  None      None                                 NCATS ARA Scaffold   \n",
       "89  None      None                                  NCATS KP Scaffold   \n",
       "90  None      None  OpenAPI for indigo NCATS Biomedical Translator...   \n",
       "91  None      None                                            RGD API   \n",
       "92  None      None                                            ROBOKOP   \n",
       "93  None      None                                     ROBOKOP Ranker   \n",
       "94  None      None                              Roadway Exposures API   \n",
       "95  None      None                  Socio-Environmental Exposures API   \n",
       "\n",
       "    uptimeStatus  refreshStatus  \\\n",
       "83       unknown            500   \n",
       "84       unknown            499   \n",
       "85  incompatible            200   \n",
       "86          good            499   \n",
       "87          good            499   \n",
       "88       unknown            499   \n",
       "89       unknown            499   \n",
       "90       unknown            499   \n",
       "91          good            499   \n",
       "92          good            499   \n",
       "93       unknown            499   \n",
       "94  incompatible            200   \n",
       "95  incompatible            200   \n",
       "\n",
       "                                                 tags  \n",
       "83  translator,ISB,gene,similarity,tissue,TCGA,GIA...  \n",
       "84                                         translator  \n",
       "85                                         translator  \n",
       "86                             publication,translator  \n",
       "87                      metadata,biosample,translator  \n",
       "88                                         translator  \n",
       "89                                         translator  \n",
       "90                          query,translator,reasoner  \n",
       "91                                    translator,gene  \n",
       "92                                translator,reasoner  \n",
       "93                          0.9.2,translator,reasoner  \n",
       "94                                         translator  \n",
       "95                                         translator  "
      ]
     },
     "execution_count": 23,
     "metadata": {},
     "output_type": "execute_result"
    }
   ],
   "source": [
    "## APIs without x-translator information\n",
    "summarytable2 = translator_apis[translator_apis['team'].isna()].copy()\n",
    "summarytable2"
   ]
  },
  {
   "cell_type": "markdown",
   "metadata": {},
   "source": [
    "#### APIs by team"
   ]
  },
  {
   "cell_type": "code",
   "execution_count": 24,
   "metadata": {
    "ExecuteTime": {
     "end_time": "2021-02-23T07:34:35.947066Z",
     "start_time": "2021-02-23T07:34:35.339689Z"
    }
   },
   "outputs": [
    {
     "data": {
      "text/plain": [
       "<AxesSubplot:title={'center':'Num of APIs by team'}>"
      ]
     },
     "execution_count": 24,
     "metadata": {},
     "output_type": "execute_result"
    },
    {
     "data": {
      "text/html": [
       "<div>\n",
       "<style scoped>\n",
       "    .dataframe tbody tr th:only-of-type {\n",
       "        vertical-align: middle;\n",
       "    }\n",
       "\n",
       "    .dataframe tbody tr th {\n",
       "        vertical-align: top;\n",
       "    }\n",
       "\n",
       "    .dataframe thead th {\n",
       "        text-align: right;\n",
       "    }\n",
       "</style>\n",
       "<table border=\"1\" class=\"dataframe\">\n",
       "  <thead>\n",
       "    <tr style=\"text-align: right;\">\n",
       "      <th></th>\n",
       "      <th>name</th>\n",
       "      <th>Num of APIs</th>\n",
       "    </tr>\n",
       "  </thead>\n",
       "  <tbody>\n",
       "    <tr>\n",
       "      <th>0</th>\n",
       "      <td>Service Provider</td>\n",
       "      <td>28</td>\n",
       "    </tr>\n",
       "    <tr>\n",
       "      <th>1</th>\n",
       "      <td>Ranking Agent</td>\n",
       "      <td>27</td>\n",
       "    </tr>\n",
       "    <tr>\n",
       "      <th>2</th>\n",
       "      <td>Standards Reference Implementation Team</td>\n",
       "      <td>6</td>\n",
       "    </tr>\n",
       "    <tr>\n",
       "      <th>3</th>\n",
       "      <td>Multiomics Provider,Service Provider</td>\n",
       "      <td>5</td>\n",
       "    </tr>\n",
       "    <tr>\n",
       "      <th>4</th>\n",
       "      <td>Clinical Data Provider</td>\n",
       "      <td>4</td>\n",
       "    </tr>\n",
       "    <tr>\n",
       "      <th>5</th>\n",
       "      <td>Text Mining Provider,Service Provider</td>\n",
       "      <td>2</td>\n",
       "    </tr>\n",
       "    <tr>\n",
       "      <th>6</th>\n",
       "      <td>Genetics Provider</td>\n",
       "      <td>2</td>\n",
       "    </tr>\n",
       "    <tr>\n",
       "      <th>7</th>\n",
       "      <td>Connections Hypothesis Provider</td>\n",
       "      <td>2</td>\n",
       "    </tr>\n",
       "    <tr>\n",
       "      <th>8</th>\n",
       "      <td>Exploring Agent</td>\n",
       "      <td>1</td>\n",
       "    </tr>\n",
       "    <tr>\n",
       "      <th>9</th>\n",
       "      <td>Explanatory Agent</td>\n",
       "      <td>1</td>\n",
       "    </tr>\n",
       "    <tr>\n",
       "      <th>10</th>\n",
       "      <td>Expander Agent</td>\n",
       "      <td>1</td>\n",
       "    </tr>\n",
       "    <tr>\n",
       "      <th>11</th>\n",
       "      <td>Exposures Provider</td>\n",
       "      <td>1</td>\n",
       "    </tr>\n",
       "    <tr>\n",
       "      <th>12</th>\n",
       "      <td>SRI</td>\n",
       "      <td>1</td>\n",
       "    </tr>\n",
       "    <tr>\n",
       "      <th>13</th>\n",
       "      <td>imProving Agent</td>\n",
       "      <td>1</td>\n",
       "    </tr>\n",
       "    <tr>\n",
       "      <th>14</th>\n",
       "      <td>Molecular Data Provider</td>\n",
       "      <td>1</td>\n",
       "    </tr>\n",
       "  </tbody>\n",
       "</table>\n",
       "</div>"
      ],
      "text/plain": [
       "                                       name  Num of APIs\n",
       "0                          Service Provider           28\n",
       "1                             Ranking Agent           27\n",
       "2   Standards Reference Implementation Team            6\n",
       "3      Multiomics Provider,Service Provider            5\n",
       "4                    Clinical Data Provider            4\n",
       "5     Text Mining Provider,Service Provider            2\n",
       "6                         Genetics Provider            2\n",
       "7           Connections Hypothesis Provider            2\n",
       "8                           Exploring Agent            1\n",
       "9                         Explanatory Agent            1\n",
       "10                           Expander Agent            1\n",
       "11                       Exposures Provider            1\n",
       "12                                      SRI            1\n",
       "13                          imProving Agent            1\n",
       "14                  Molecular Data Provider            1"
      ]
     },
     "execution_count": 24,
     "metadata": {},
     "output_type": "execute_result"
    },
    {
     "data": {
      "image/png": "[encoded data removed]",
      "text/plain": [
       "<Figure size 792x576 with 1 Axes>"
      ]
     },
     "metadata": {
      "needs_background": "light"
     },
     "output_type": "display_data"
    }
   ],
   "source": [
    "team_summary = translator_apis.team.value_counts().reset_index()\n",
    "team_summary.columns = ['name', 'Num of APIs']\n",
    "team_summary['plot_names'] = [ '\\n'.join(wrap(i, 30)) for i in team_summary['name']]\n",
    "\n",
    "team_summary.plot.barh(x='plot_names', y='Num of APIs', fontsize = 10, figsize=(11,8), rot=0, \n",
    "                       legend=False, title = \"Num of APIs by team\", xlabel=\"\")\n",
    "## table view\n",
    "team_summary[['name', 'Num of APIs']]"
   ]
  },
  {
   "cell_type": "markdown",
   "metadata": {},
   "source": [
    "#### APIs by component"
   ]
  },
  {
   "cell_type": "code",
   "execution_count": 25,
   "metadata": {
    "ExecuteTime": {
     "end_time": "2021-02-23T07:34:39.416791Z",
     "start_time": "2021-02-23T07:34:39.266880Z"
    }
   },
   "outputs": [
    {
     "data": {
      "text/html": [
       "<div>\n",
       "<style scoped>\n",
       "    .dataframe tbody tr th:only-of-type {\n",
       "        vertical-align: middle;\n",
       "    }\n",
       "\n",
       "    .dataframe tbody tr th {\n",
       "        vertical-align: top;\n",
       "    }\n",
       "\n",
       "    .dataframe thead th {\n",
       "        text-align: right;\n",
       "    }\n",
       "</style>\n",
       "<table border=\"1\" class=\"dataframe\">\n",
       "  <thead>\n",
       "    <tr style=\"text-align: right;\">\n",
       "      <th></th>\n",
       "      <th>index</th>\n",
       "      <th>component</th>\n",
       "    </tr>\n",
       "  </thead>\n",
       "  <tbody>\n",
       "    <tr>\n",
       "      <th>0</th>\n",
       "      <td>KP</td>\n",
       "      <td>70</td>\n",
       "    </tr>\n",
       "    <tr>\n",
       "      <th>1</th>\n",
       "      <td>ARA</td>\n",
       "      <td>8</td>\n",
       "    </tr>\n",
       "    <tr>\n",
       "      <th>2</th>\n",
       "      <td>Utility</td>\n",
       "      <td>5</td>\n",
       "    </tr>\n",
       "  </tbody>\n",
       "</table>\n",
       "</div>"
      ],
      "text/plain": [
       "     index  component\n",
       "0       KP         70\n",
       "1      ARA          8\n",
       "2  Utility          5"
      ]
     },
     "execution_count": 25,
     "metadata": {},
     "output_type": "execute_result"
    },
    {
     "data": {
      "text/plain": [
       "<AxesSubplot:title={'center':'Num of APIs by team'}>"
      ]
     },
     "execution_count": 25,
     "metadata": {},
     "output_type": "execute_result"
    },
    {
     "data": {
      "image/png": "[encoded data removed]",
      "text/plain": [
       "<Figure size 432x288 with 1 Axes>"
      ]
     },
     "metadata": {
      "needs_background": "light"
     },
     "output_type": "display_data"
    }
   ],
   "source": [
    "component_summary = translator_apis.component.value_counts().reset_index()\n",
    "component_summary\n",
    "component_summary.plot.bar(x='index', y='component', rot=0,\n",
    "                       legend=False, title = \"Num of APIs by team\", xlabel=\"\")"
   ]
  },
  {
   "cell_type": "markdown",
   "metadata": {},
   "source": [
    "#### APIs by uptime status"
   ]
  },
  {
   "cell_type": "code",
   "execution_count": 26,
   "metadata": {
    "ExecuteTime": {
     "end_time": "2021-02-23T07:34:41.611742Z",
     "start_time": "2021-02-23T07:34:41.460490Z"
    }
   },
   "outputs": [
    {
     "data": {
      "text/html": [
       "<div>\n",
       "<style scoped>\n",
       "    .dataframe tbody tr th:only-of-type {\n",
       "        vertical-align: middle;\n",
       "    }\n",
       "\n",
       "    .dataframe tbody tr th {\n",
       "        vertical-align: top;\n",
       "    }\n",
       "\n",
       "    .dataframe thead th {\n",
       "        text-align: right;\n",
       "    }\n",
       "</style>\n",
       "<table border=\"1\" class=\"dataframe\">\n",
       "  <thead>\n",
       "    <tr style=\"text-align: right;\">\n",
       "      <th></th>\n",
       "      <th>index</th>\n",
       "      <th>uptimeStatus</th>\n",
       "    </tr>\n",
       "  </thead>\n",
       "  <tbody>\n",
       "    <tr>\n",
       "      <th>0</th>\n",
       "      <td>good</td>\n",
       "      <td>73</td>\n",
       "    </tr>\n",
       "    <tr>\n",
       "      <th>1</th>\n",
       "      <td>unknown</td>\n",
       "      <td>20</td>\n",
       "    </tr>\n",
       "    <tr>\n",
       "      <th>2</th>\n",
       "      <td>incompatible</td>\n",
       "      <td>3</td>\n",
       "    </tr>\n",
       "  </tbody>\n",
       "</table>\n",
       "</div>"
      ],
      "text/plain": [
       "          index  uptimeStatus\n",
       "0          good            73\n",
       "1       unknown            20\n",
       "2  incompatible             3"
      ]
     },
     "execution_count": 26,
     "metadata": {},
     "output_type": "execute_result"
    },
    {
     "data": {
      "text/plain": [
       "<AxesSubplot:title={'center':'Num of APIs by team'}>"
      ]
     },
     "execution_count": 26,
     "metadata": {},
     "output_type": "execute_result"
    },
    {
     "data": {
      "image/png": "[encoded data removed]",
      "text/plain": [
       "<Figure size 432x288 with 1 Axes>"
      ]
     },
     "metadata": {
      "needs_background": "light"
     },
     "output_type": "display_data"
    }
   ],
   "source": [
    "status_summary = translator_apis.uptimeStatus.value_counts().reset_index()\n",
    "status_summary\n",
    "status_summary.plot.bar(x='index', y='uptimeStatus', rot=0,\n",
    "                       legend=False, title = \"Num of APIs by team\", xlabel=\"\")"
   ]
  },
  {
   "cell_type": "markdown",
   "metadata": {},
   "source": [
    "## using x-translator and metaKG together"
   ]
  },
  {
   "cell_type": "markdown",
   "metadata": {},
   "source": [
    "The MetaKG is currently based on annotations from x-bte. The operations are all from APIs tagged translator "
   ]
  },
  {
   "cell_type": "markdown",
   "metadata": {},
   "source": [
    "### predicates by team"
   ]
  },
  {
   "cell_type": "code",
   "execution_count": 27,
   "metadata": {
    "ExecuteTime": {
     "end_time": "2021-02-23T07:34:44.026238Z",
     "start_time": "2021-02-23T07:34:44.014318Z"
    }
   },
   "outputs": [
    {
     "data": {
      "text/html": [
       "<div>\n",
       "<style scoped>\n",
       "    .dataframe tbody tr th:only-of-type {\n",
       "        vertical-align: middle;\n",
       "    }\n",
       "\n",
       "    .dataframe tbody tr th {\n",
       "        vertical-align: top;\n",
       "    }\n",
       "\n",
       "    .dataframe thead th {\n",
       "        text-align: right;\n",
       "    }\n",
       "</style>\n",
       "<table border=\"1\" class=\"dataframe\">\n",
       "  <thead>\n",
       "    <tr style=\"text-align: right;\">\n",
       "      <th></th>\n",
       "      <th>index</th>\n",
       "      <th>Num of unique predicates</th>\n",
       "    </tr>\n",
       "  </thead>\n",
       "  <tbody>\n",
       "    <tr>\n",
       "      <th>0</th>\n",
       "      <td>Service Provider</td>\n",
       "      <td>160</td>\n",
       "    </tr>\n",
       "    <tr>\n",
       "      <th>1</th>\n",
       "      <td>Multiomics Provider,Service Provider</td>\n",
       "      <td>7</td>\n",
       "    </tr>\n",
       "    <tr>\n",
       "      <th>2</th>\n",
       "      <td>Text Mining Provider,Service Provider</td>\n",
       "      <td>5</td>\n",
       "    </tr>\n",
       "    <tr>\n",
       "      <th>3</th>\n",
       "      <td>Standards Reference Implementation Team</td>\n",
       "      <td>3</td>\n",
       "    </tr>\n",
       "    <tr>\n",
       "      <th>4</th>\n",
       "      <td>Clinical Data Provider</td>\n",
       "      <td>2</td>\n",
       "    </tr>\n",
       "  </tbody>\n",
       "</table>\n",
       "</div>"
      ],
      "text/plain": [
       "                                     index  Num of unique predicates\n",
       "0                         Service Provider                       160\n",
       "1     Multiomics Provider,Service Provider                         7\n",
       "2    Text Mining Provider,Service Provider                         5\n",
       "3  Standards Reference Implementation Team                         3\n",
       "4                   Clinical Data Provider                         2"
      ]
     },
     "execution_count": 27,
     "metadata": {},
     "output_type": "execute_result"
    }
   ],
   "source": [
    "operations1 = operations_summary[['predicate', 'api_name', 'api_team']].drop_duplicates()\n",
    "operations1.api_team.value_counts().reset_index(name = 'Num of unique predicates')"
   ]
  },
  {
   "cell_type": "code",
   "execution_count": null,
   "metadata": {},
   "outputs": [],
   "source": []
  }
 ],
 "metadata": {
  "kernelspec": {
   "display_name": "Python 3",
   "language": "python",
   "name": "python3"
  },
  "language_info": {
   "codemirror_mode": {
    "name": "ipython",
    "version": 3
   },
   "file_extension": ".py",
   "mimetype": "text/x-python",
   "name": "python",
   "nbconvert_exporter": "python",
   "pygments_lexer": "ipython3",
   "version": "3.7.9"
  },
  "toc": {
   "base_numbering": 1,
   "nav_menu": {},
   "number_sections": true,
   "sideBar": true,
   "skip_h1_title": true,
   "title_cell": "Table of Contents",
   "title_sidebar": "Contents",
   "toc_cell": false,
   "toc_position": {
    "height": "calc(100% - 180px)",
    "left": "10px",
    "top": "150px",
    "width": "165px"
   },
   "toc_section_display": true,
   "toc_window_display": true
  },
  "varInspector": {
   "cols": {
    "lenName": 16,
    "lenType": 16,
    "lenVar": 40
   },
   "kernels_config": {
    "python": {
     "delete_cmd_postfix": "",
     "delete_cmd_prefix": "del ",
     "library": "var_list.py",
     "varRefreshCmd": "print(var_dic_list())"
    },
    "r": {
     "delete_cmd_postfix": ") ",
     "delete_cmd_prefix": "rm(",
     "library": "var_list.r",
     "varRefreshCmd": "cat(var_dic_list()) "
    }
   },
   "types_to_exclude": [
    "module",
    "function",
    "builtin_function_or_method",
    "instance",
    "_Feature"
   ],
   "window_display": false
  }
 },
 "nbformat": 4,
 "nbformat_minor": 4
}
