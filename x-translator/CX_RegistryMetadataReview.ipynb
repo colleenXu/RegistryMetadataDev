{
 "cells": [
  {
   "cell_type": "markdown",
   "metadata": {},
   "source": [
    "# Use to explore and find issues with registry metadata"
   ]
  },
  {
   "cell_type": "markdown",
   "metadata": {},
   "source": [
    "## Setup"
   ]
  },
  {
   "cell_type": "code",
   "execution_count": 1,
   "metadata": {
    "ExecuteTime": {
     "end_time": "2021-02-05T05:10:56.831411Z",
     "start_time": "2021-02-05T05:10:56.435598Z"
    }
   },
   "outputs": [],
   "source": [
    "## CX: allows multiple lines of code to print from one code block\n",
    "from IPython.core.interactiveshell import InteractiveShell\n",
    "InteractiveShell.ast_node_interactivity = \"all\"\n",
    "\n",
    "## show time that this notebook was executed \n",
    "from datetime import datetime\n",
    "\n",
    "## packages to work with objects \n",
    "import re\n",
    "import requests\n",
    "import pandas as pd\n",
    "from textwrap import wrap  ## for plot labels\n",
    "\n",
    "## to get around bugs\n",
    "import nest_asyncio\n",
    "nest_asyncio.apply()"
   ]
  },
  {
   "cell_type": "code",
   "execution_count": 2,
   "metadata": {
    "ExecuteTime": {
     "end_time": "2021-02-05T05:11:02.956653Z",
     "start_time": "2021-02-05T05:11:02.952204Z"
    }
   },
   "outputs": [
    {
     "name": "stdout",
     "output_type": "stream",
     "text": [
      "The time that this notebook was executed is...\n",
      "Local time (PST, West Coast USA): \n",
      "2021-02-04 21:11:02.953915\n",
      "UTC time: \n",
      "2021-02-05 05:11:02.954055\n"
     ]
    }
   ],
   "source": [
    "## record when cell blocks are executed\n",
    "print('The time that this notebook was executed is...')\n",
    "print('Local time (PST, West Coast USA): ')\n",
    "print(datetime.now())\n",
    "print('UTC time: ')\n",
    "print(datetime.utcnow())"
   ]
  },
  {
   "cell_type": "markdown",
   "metadata": {},
   "source": [
    "### Getting and parsing registry info"
   ]
  },
  {
   "cell_type": "code",
   "execution_count": 12,
   "metadata": {
    "ExecuteTime": {
     "end_time": "2021-02-05T05:12:33.075787Z",
     "start_time": "2021-02-05T05:12:32.815490Z"
    }
   },
   "outputs": [
    {
     "data": {
      "text/plain": [
       "200"
      ]
     },
     "execution_count": 12,
     "metadata": {},
     "output_type": "execute_result"
    }
   ],
   "source": [
    "## setup request\n",
    "headers = {\"content-type\": \"application/json\"}\n",
    "registry_url = \"https://smart-api.info/api/query/?q=%22%22&fields=info%2Ctags%2C_meta.uptime_status&raw=1&size=1000\"\n",
    "\n",
    "## make request: check for success (200)\n",
    "registry_request = requests.get(registry_url, headers=headers)\n",
    "registry_request.status_code"
   ]
  },
  {
   "cell_type": "code",
   "execution_count": 13,
   "metadata": {
    "ExecuteTime": {
     "end_time": "2021-02-05T05:12:33.965821Z",
     "start_time": "2021-02-05T05:12:33.960021Z"
    }
   },
   "outputs": [],
   "source": [
    "registry = registry_request.json()"
   ]
  },
  {
   "cell_type": "code",
   "execution_count": 14,
   "metadata": {
    "ExecuteTime": {
     "end_time": "2021-02-05T05:12:34.851121Z",
     "start_time": "2021-02-05T05:12:34.846691Z"
    }
   },
   "outputs": [
    {
     "data": {
      "text/plain": [
       "{'_index': 'smartapi_oas3',\n",
       " '_type': 'api',\n",
       " '_id': '3a43d2dc3b142b2127234be318970693',\n",
       " '_score': 3.7511036,\n",
       " '_source': {'_meta': {'uptime_status': 'incompatible'},\n",
       "  'info': {'title': 'FAIRsharing API', 'version': ''}}}"
      ]
     },
     "execution_count": 14,
     "metadata": {},
     "output_type": "execute_result"
    }
   ],
   "source": [
    "registry['hits']['hits'][0]"
   ]
  },
  {
   "cell_type": "code",
   "execution_count": 17,
   "metadata": {
    "ExecuteTime": {
     "end_time": "2021-02-05T05:12:51.909919Z",
     "start_time": "2021-02-05T05:12:51.900115Z"
    }
   },
   "outputs": [],
   "source": [
    "## get response\n",
    "registry = registry_request.json()\n",
    "\n",
    "## parse response to get the information: uptime status, tags, x-translator, api name\n",
    "registry_data = []\n",
    "for ele in registry['hits']['hits']:\n",
    "    tempDict = {'uptimeStatus': ele['_source']['_meta']['uptime_status'],\n",
    "                'name': ele['_source']['info']['title']}\n",
    "    \n",
    "    if ele['_source'].get('tags'):\n",
    "        temp = [i.get('name') for i in ele['_source']['tags']]\n",
    "        tempDict.update({\"tags\": temp})\n",
    "    else:\n",
    "        tempDict.update({\"tags\": []})\n",
    "    \n",
    "    if ele['_source']['info'].get('x-translator'):\n",
    "        tempDict.update({            \n",
    "            'team': ele['_source']['info']['x-translator'].get('team'),\n",
    "            'component': ele['_source']['info']['x-translator'].get('component')\n",
    "        })\n",
    "    else:\n",
    "        tempDict.update({            \n",
    "            'team': [],\n",
    "            'component': None\n",
    "        })\n",
    "    registry_data.append(tempDict)"
   ]
  },
  {
   "cell_type": "code",
   "execution_count": 38,
   "metadata": {
    "ExecuteTime": {
     "end_time": "2021-02-05T05:16:40.011023Z",
     "start_time": "2021-02-05T05:16:40.004994Z"
    }
   },
   "outputs": [
    {
     "data": {
      "text/plain": [
       "(216, 5)"
      ]
     },
     "execution_count": 38,
     "metadata": {},
     "output_type": "execute_result"
    }
   ],
   "source": [
    "registry_df = pd.DataFrame.from_dict(registry_data)\n",
    "registry_df = registry_df[['name', 'team', 'component', 'uptimeStatus', 'tags']]\n",
    "registry_df.shape"
   ]
  },
  {
   "cell_type": "markdown",
   "metadata": {},
   "source": [
    "### Issues around duplicate entries / x-translator compliance"
   ]
  },
  {
   "cell_type": "code",
   "execution_count": 51,
   "metadata": {
    "ExecuteTime": {
     "end_time": "2021-02-05T05:20:08.384421Z",
     "start_time": "2021-02-05T05:20:08.364165Z"
    }
   },
   "outputs": [
    {
     "data": {
      "text/html": [
       "<div>\n",
       "<style scoped>\n",
       "    .dataframe tbody tr th:only-of-type {\n",
       "        vertical-align: middle;\n",
       "    }\n",
       "\n",
       "    .dataframe tbody tr th {\n",
       "        vertical-align: top;\n",
       "    }\n",
       "\n",
       "    .dataframe thead th {\n",
       "        text-align: right;\n",
       "    }\n",
       "</style>\n",
       "<table border=\"1\" class=\"dataframe\">\n",
       "  <thead>\n",
       "    <tr style=\"text-align: right;\">\n",
       "      <th></th>\n",
       "      <th>name</th>\n",
       "      <th>team</th>\n",
       "      <th>component</th>\n",
       "      <th>uptimeStatus</th>\n",
       "      <th>tags</th>\n",
       "    </tr>\n",
       "  </thead>\n",
       "  <tbody>\n",
       "    <tr>\n",
       "      <th>15</th>\n",
       "      <td>Ontology-KP API</td>\n",
       "      <td>SRI</td>\n",
       "      <td>KP</td>\n",
       "      <td>unknown</td>\n",
       "      <td>[translator]</td>\n",
       "    </tr>\n",
       "  </tbody>\n",
       "</table>\n",
       "</div>"
      ],
      "text/plain": [
       "               name team component uptimeStatus          tags\n",
       "15  Ontology-KP API  SRI        KP      unknown  [translator]"
      ]
     },
     "execution_count": 51,
     "metadata": {},
     "output_type": "execute_result"
    },
    {
     "data": {
      "text/html": [
       "<div>\n",
       "<style scoped>\n",
       "    .dataframe tbody tr th:only-of-type {\n",
       "        vertical-align: middle;\n",
       "    }\n",
       "\n",
       "    .dataframe tbody tr th {\n",
       "        vertical-align: top;\n",
       "    }\n",
       "\n",
       "    .dataframe thead th {\n",
       "        text-align: right;\n",
       "    }\n",
       "</style>\n",
       "<table border=\"1\" class=\"dataframe\">\n",
       "  <thead>\n",
       "    <tr style=\"text-align: right;\">\n",
       "      <th></th>\n",
       "      <th>name</th>\n",
       "      <th>team</th>\n",
       "      <th>component</th>\n",
       "      <th>uptimeStatus</th>\n",
       "      <th>tags</th>\n",
       "    </tr>\n",
       "  </thead>\n",
       "  <tbody>\n",
       "    <tr>\n",
       "      <th>25</th>\n",
       "      <td>imProving Agent</td>\n",
       "      <td>[imProving Agent]</td>\n",
       "      <td>ARA</td>\n",
       "      <td>unknown</td>\n",
       "      <td>[predicates, query, translator, reasoner, SPOKE]</td>\n",
       "    </tr>\n",
       "  </tbody>\n",
       "</table>\n",
       "</div>"
      ],
      "text/plain": [
       "               name               team component uptimeStatus  \\\n",
       "25  imProving Agent  [imProving Agent]       ARA      unknown   \n",
       "\n",
       "                                                tags  \n",
       "25  [predicates, query, translator, reasoner, SPOKE]  "
      ]
     },
     "execution_count": 51,
     "metadata": {},
     "output_type": "execute_result"
    }
   ],
   "source": [
    "## allow these entries' team value (currently not in enum)\n",
    "registry_df[registry_df['name'].str.contains('Ontology-KP')]\n",
    "registry_df[registry_df['name'].str.contains('imProving')]"
   ]
  },
  {
   "cell_type": "code",
   "execution_count": 40,
   "metadata": {
    "ExecuteTime": {
     "end_time": "2021-02-05T05:16:50.890953Z",
     "start_time": "2021-02-05T05:16:50.880414Z"
    }
   },
   "outputs": [
    {
     "data": {
      "text/html": [
       "<div>\n",
       "<style scoped>\n",
       "    .dataframe tbody tr th:only-of-type {\n",
       "        vertical-align: middle;\n",
       "    }\n",
       "\n",
       "    .dataframe tbody tr th {\n",
       "        vertical-align: top;\n",
       "    }\n",
       "\n",
       "    .dataframe thead th {\n",
       "        text-align: right;\n",
       "    }\n",
       "</style>\n",
       "<table border=\"1\" class=\"dataframe\">\n",
       "  <thead>\n",
       "    <tr style=\"text-align: right;\">\n",
       "      <th></th>\n",
       "      <th>name</th>\n",
       "      <th>team</th>\n",
       "      <th>component</th>\n",
       "      <th>uptimeStatus</th>\n",
       "      <th>tags</th>\n",
       "    </tr>\n",
       "  </thead>\n",
       "  <tbody>\n",
       "    <tr>\n",
       "      <th>27</th>\n",
       "      <td>Genetics Provider</td>\n",
       "      <td>[Genetics Provider, Broad Institute Flannick Lab]</td>\n",
       "      <td>KP</td>\n",
       "      <td>unknown</td>\n",
       "      <td>[1.0.0, translator, x-translator, reasoner, me...</td>\n",
       "    </tr>\n",
       "    <tr>\n",
       "      <th>159</th>\n",
       "      <td>Genetics Provider API</td>\n",
       "      <td>[Genetics Provider]</td>\n",
       "      <td>KP</td>\n",
       "      <td>unknown</td>\n",
       "      <td>[0.9.2, translator, reasoner]</td>\n",
       "    </tr>\n",
       "  </tbody>\n",
       "</table>\n",
       "</div>"
      ],
      "text/plain": [
       "                      name                                               team  \\\n",
       "27       Genetics Provider  [Genetics Provider, Broad Institute Flannick Lab]   \n",
       "159  Genetics Provider API                                [Genetics Provider]   \n",
       "\n",
       "    component uptimeStatus                                               tags  \n",
       "27         KP      unknown  [1.0.0, translator, x-translator, reasoner, me...  \n",
       "159        KP      unknown                      [0.9.2, translator, reasoner]  "
      ]
     },
     "execution_count": 40,
     "metadata": {},
     "output_type": "execute_result"
    }
   ],
   "source": [
    "## note the first entry doesn't have an allowed enum name (only Genetics Provider was allowed)\n",
    "## also, two different TRAPI versions?\n",
    "registry_df[registry_df['name'].str.contains('Genetics')]"
   ]
  },
  {
   "cell_type": "code",
   "execution_count": 41,
   "metadata": {
    "ExecuteTime": {
     "end_time": "2021-02-05T05:17:04.893548Z",
     "start_time": "2021-02-05T05:17:04.883485Z"
    }
   },
   "outputs": [
    {
     "data": {
      "text/html": [
       "<div>\n",
       "<style scoped>\n",
       "    .dataframe tbody tr th:only-of-type {\n",
       "        vertical-align: middle;\n",
       "    }\n",
       "\n",
       "    .dataframe tbody tr th {\n",
       "        vertical-align: top;\n",
       "    }\n",
       "\n",
       "    .dataframe thead th {\n",
       "        text-align: right;\n",
       "    }\n",
       "</style>\n",
       "<table border=\"1\" class=\"dataframe\">\n",
       "  <thead>\n",
       "    <tr style=\"text-align: right;\">\n",
       "      <th></th>\n",
       "      <th>name</th>\n",
       "      <th>team</th>\n",
       "      <th>component</th>\n",
       "      <th>uptimeStatus</th>\n",
       "      <th>tags</th>\n",
       "    </tr>\n",
       "  </thead>\n",
       "  <tbody>\n",
       "    <tr>\n",
       "      <th>112</th>\n",
       "      <td>Connections Hypothesis Provider API</td>\n",
       "      <td>[Connections Hypothesis Provider]</td>\n",
       "      <td>KP</td>\n",
       "      <td>unknown</td>\n",
       "      <td>[bayesian, translator, 1.0.0]</td>\n",
       "    </tr>\n",
       "    <tr>\n",
       "      <th>119</th>\n",
       "      <td>Connections Hypothesis Provider API</td>\n",
       "      <td>[Connections Hypothesis Provider]</td>\n",
       "      <td>KP</td>\n",
       "      <td>unknown</td>\n",
       "      <td>[bayesian, translator, 1.0.0]</td>\n",
       "    </tr>\n",
       "  </tbody>\n",
       "</table>\n",
       "</div>"
      ],
      "text/plain": [
       "                                    name                               team  \\\n",
       "112  Connections Hypothesis Provider API  [Connections Hypothesis Provider]   \n",
       "119  Connections Hypothesis Provider API  [Connections Hypothesis Provider]   \n",
       "\n",
       "    component uptimeStatus                           tags  \n",
       "112        KP      unknown  [bayesian, translator, 1.0.0]  \n",
       "119        KP      unknown  [bayesian, translator, 1.0.0]  "
      ]
     },
     "execution_count": 41,
     "metadata": {},
     "output_type": "execute_result"
    }
   ],
   "source": [
    "## looks like accidentally two identical registrations? \n",
    "## see http://smart-api.info/registry?q=855adaa128ce5aa58a091d99e520d396 vs \n",
    "## http://smart-api.info/registry?q=da159a55e799a163ee23783edcb11725\n",
    "registry_df[registry_df['name'].str.startswith('Connections')]"
   ]
  },
  {
   "cell_type": "code",
   "execution_count": 22,
   "metadata": {
    "ExecuteTime": {
     "end_time": "2021-02-05T05:13:18.846918Z",
     "start_time": "2021-02-05T05:13:18.836288Z"
    }
   },
   "outputs": [
    {
     "data": {
      "text/html": [
       "<div>\n",
       "<style scoped>\n",
       "    .dataframe tbody tr th:only-of-type {\n",
       "        vertical-align: middle;\n",
       "    }\n",
       "\n",
       "    .dataframe tbody tr th {\n",
       "        vertical-align: top;\n",
       "    }\n",
       "\n",
       "    .dataframe thead th {\n",
       "        text-align: right;\n",
       "    }\n",
       "</style>\n",
       "<table border=\"1\" class=\"dataframe\">\n",
       "  <thead>\n",
       "    <tr style=\"text-align: right;\">\n",
       "      <th></th>\n",
       "      <th>name</th>\n",
       "      <th>team</th>\n",
       "      <th>component</th>\n",
       "      <th>uptimeStatus</th>\n",
       "      <th>tags</th>\n",
       "    </tr>\n",
       "  </thead>\n",
       "  <tbody>\n",
       "    <tr>\n",
       "      <th>150</th>\n",
       "      <td>Clinical Risk KP API</td>\n",
       "      <td>[Multiomics Provider, Service Provider]</td>\n",
       "      <td>KP</td>\n",
       "      <td>good</td>\n",
       "      <td>[disease, association, annotation, query, tran...</td>\n",
       "    </tr>\n",
       "    <tr>\n",
       "      <th>215</th>\n",
       "      <td>Clinical Risk KP API</td>\n",
       "      <td>[Multiomics Provider, Service Provider]</td>\n",
       "      <td>KP</td>\n",
       "      <td>good</td>\n",
       "      <td>[disease, drug, chemical_substance, phenotypic...</td>\n",
       "    </tr>\n",
       "  </tbody>\n",
       "</table>\n",
       "</div>"
      ],
      "text/plain": [
       "                     name                                     team component  \\\n",
       "150  Clinical Risk KP API  [Multiomics Provider, Service Provider]        KP   \n",
       "215  Clinical Risk KP API  [Multiomics Provider, Service Provider]        KP   \n",
       "\n",
       "    uptimeStatus                                               tags  \n",
       "150         good  [disease, association, annotation, query, tran...  \n",
       "215         good  [disease, drug, chemical_substance, phenotypic...  "
      ]
     },
     "execution_count": 22,
     "metadata": {},
     "output_type": "execute_result"
    }
   ],
   "source": [
    "## are these two different TRAPI versions? What's going on here?\n",
    "registry_df[registry_df['name'].str.startswith('Clinical Risk')]"
   ]
  },
  {
   "cell_type": "code",
   "execution_count": 23,
   "metadata": {
    "ExecuteTime": {
     "end_time": "2021-02-05T05:13:20.603891Z",
     "start_time": "2021-02-05T05:13:20.572264Z"
    }
   },
   "outputs": [
    {
     "data": {
      "text/html": [
       "<div>\n",
       "<style scoped>\n",
       "    .dataframe tbody tr th:only-of-type {\n",
       "        vertical-align: middle;\n",
       "    }\n",
       "\n",
       "    .dataframe tbody tr th {\n",
       "        vertical-align: top;\n",
       "    }\n",
       "\n",
       "    .dataframe thead th {\n",
       "        text-align: right;\n",
       "    }\n",
       "</style>\n",
       "<table border=\"1\" class=\"dataframe\">\n",
       "  <thead>\n",
       "    <tr style=\"text-align: right;\">\n",
       "      <th></th>\n",
       "      <th>name</th>\n",
       "      <th>team</th>\n",
       "      <th>component</th>\n",
       "      <th>uptimeStatus</th>\n",
       "      <th>tags</th>\n",
       "    </tr>\n",
       "  </thead>\n",
       "  <tbody>\n",
       "    <tr>\n",
       "      <th>70</th>\n",
       "      <td>Automat Cord19 Scibite</td>\n",
       "      <td>[Ranking Agent]</td>\n",
       "      <td>KP</td>\n",
       "      <td>good</td>\n",
       "      <td>[translator, automat]</td>\n",
       "    </tr>\n",
       "    <tr>\n",
       "      <th>126</th>\n",
       "      <td>Automat CORD19 Scibite API</td>\n",
       "      <td>[Ranking Agent]</td>\n",
       "      <td>KP</td>\n",
       "      <td>good</td>\n",
       "      <td>[drug, gene, disease, automat, translator]</td>\n",
       "    </tr>\n",
       "    <tr>\n",
       "      <th>182</th>\n",
       "      <td>Automat Cord19 Scigraph</td>\n",
       "      <td>[Ranking Agent]</td>\n",
       "      <td>KP</td>\n",
       "      <td>good</td>\n",
       "      <td>[translator, automat]</td>\n",
       "    </tr>\n",
       "    <tr>\n",
       "      <th>203</th>\n",
       "      <td>Automat CORD19 Scigraph API</td>\n",
       "      <td>[Ranking Agent]</td>\n",
       "      <td>KP</td>\n",
       "      <td>good</td>\n",
       "      <td>[drug, gene, disease, automat, translator]</td>\n",
       "    </tr>\n",
       "  </tbody>\n",
       "</table>\n",
       "</div>"
      ],
      "text/plain": [
       "                            name             team component uptimeStatus  \\\n",
       "70        Automat Cord19 Scibite  [Ranking Agent]        KP         good   \n",
       "126   Automat CORD19 Scibite API  [Ranking Agent]        KP         good   \n",
       "182      Automat Cord19 Scigraph  [Ranking Agent]        KP         good   \n",
       "203  Automat CORD19 Scigraph API  [Ranking Agent]        KP         good   \n",
       "\n",
       "                                           tags  \n",
       "70                        [translator, automat]  \n",
       "126  [drug, gene, disease, automat, translator]  \n",
       "182                       [translator, automat]  \n",
       "203  [drug, gene, disease, automat, translator]  "
      ]
     },
     "execution_count": 23,
     "metadata": {},
     "output_type": "execute_result"
    },
    {
     "data": {
      "text/html": [
       "<div>\n",
       "<style scoped>\n",
       "    .dataframe tbody tr th:only-of-type {\n",
       "        vertical-align: middle;\n",
       "    }\n",
       "\n",
       "    .dataframe tbody tr th {\n",
       "        vertical-align: top;\n",
       "    }\n",
       "\n",
       "    .dataframe thead th {\n",
       "        text-align: right;\n",
       "    }\n",
       "</style>\n",
       "<table border=\"1\" class=\"dataframe\">\n",
       "  <thead>\n",
       "    <tr style=\"text-align: right;\">\n",
       "      <th></th>\n",
       "      <th>name</th>\n",
       "      <th>team</th>\n",
       "      <th>component</th>\n",
       "      <th>uptimeStatus</th>\n",
       "      <th>tags</th>\n",
       "    </tr>\n",
       "  </thead>\n",
       "  <tbody>\n",
       "    <tr>\n",
       "      <th>43</th>\n",
       "      <td>Automat PHAROS API</td>\n",
       "      <td>[Ranking Agent]</td>\n",
       "      <td>KP</td>\n",
       "      <td>good</td>\n",
       "      <td>[drug, gene, disease, automat, translator]</td>\n",
       "    </tr>\n",
       "    <tr>\n",
       "      <th>144</th>\n",
       "      <td>Automat Pharos</td>\n",
       "      <td>[Ranking Agent]</td>\n",
       "      <td>KP</td>\n",
       "      <td>good</td>\n",
       "      <td>[translator, automat]</td>\n",
       "    </tr>\n",
       "  </tbody>\n",
       "</table>\n",
       "</div>"
      ],
      "text/plain": [
       "                   name             team component uptimeStatus  \\\n",
       "43   Automat PHAROS API  [Ranking Agent]        KP         good   \n",
       "144      Automat Pharos  [Ranking Agent]        KP         good   \n",
       "\n",
       "                                           tags  \n",
       "43   [drug, gene, disease, automat, translator]  \n",
       "144                       [translator, automat]  "
      ]
     },
     "execution_count": 23,
     "metadata": {},
     "output_type": "execute_result"
    },
    {
     "data": {
      "text/html": [
       "<div>\n",
       "<style scoped>\n",
       "    .dataframe tbody tr th:only-of-type {\n",
       "        vertical-align: middle;\n",
       "    }\n",
       "\n",
       "    .dataframe tbody tr th {\n",
       "        vertical-align: top;\n",
       "    }\n",
       "\n",
       "    .dataframe thead th {\n",
       "        text-align: right;\n",
       "    }\n",
       "</style>\n",
       "<table border=\"1\" class=\"dataframe\">\n",
       "  <thead>\n",
       "    <tr style=\"text-align: right;\">\n",
       "      <th></th>\n",
       "      <th>name</th>\n",
       "      <th>team</th>\n",
       "      <th>component</th>\n",
       "      <th>uptimeStatus</th>\n",
       "      <th>tags</th>\n",
       "    </tr>\n",
       "  </thead>\n",
       "  <tbody>\n",
       "    <tr>\n",
       "      <th>80</th>\n",
       "      <td>Automat HMDB</td>\n",
       "      <td>[Ranking Agent]</td>\n",
       "      <td>KP</td>\n",
       "      <td>good</td>\n",
       "      <td>[translator, automat]</td>\n",
       "    </tr>\n",
       "    <tr>\n",
       "      <th>94</th>\n",
       "      <td>Automat HMDB API</td>\n",
       "      <td>[Ranking Agent]</td>\n",
       "      <td>KP</td>\n",
       "      <td>good</td>\n",
       "      <td>[drug, gene, disease, automat, translator]</td>\n",
       "    </tr>\n",
       "  </tbody>\n",
       "</table>\n",
       "</div>"
      ],
      "text/plain": [
       "                name             team component uptimeStatus  \\\n",
       "80      Automat HMDB  [Ranking Agent]        KP         good   \n",
       "94  Automat HMDB API  [Ranking Agent]        KP         good   \n",
       "\n",
       "                                          tags  \n",
       "80                       [translator, automat]  \n",
       "94  [drug, gene, disease, automat, translator]  "
      ]
     },
     "execution_count": 23,
     "metadata": {},
     "output_type": "execute_result"
    }
   ],
   "source": [
    "## these two versions are RENCI only vs annotated with BTE as well\n",
    "registry_df[registry_df['name'].str.contains('CORD19|Cord19')]\n",
    "registry_df[registry_df['name'].str.contains('PHAROS|Pharos')]\n",
    "registry_df[registry_df['name'].str.startswith('Automat HMDB')]"
   ]
  },
  {
   "cell_type": "code",
   "execution_count": 24,
   "metadata": {
    "ExecuteTime": {
     "end_time": "2021-02-05T05:13:23.813502Z",
     "start_time": "2021-02-05T05:13:23.792499Z"
    }
   },
   "outputs": [
    {
     "data": {
      "text/html": [
       "<div>\n",
       "<style scoped>\n",
       "    .dataframe tbody tr th:only-of-type {\n",
       "        vertical-align: middle;\n",
       "    }\n",
       "\n",
       "    .dataframe tbody tr th {\n",
       "        vertical-align: top;\n",
       "    }\n",
       "\n",
       "    .dataframe thead th {\n",
       "        text-align: right;\n",
       "    }\n",
       "</style>\n",
       "<table border=\"1\" class=\"dataframe\">\n",
       "  <thead>\n",
       "    <tr style=\"text-align: right;\">\n",
       "      <th></th>\n",
       "      <th>name</th>\n",
       "      <th>team</th>\n",
       "      <th>component</th>\n",
       "      <th>uptimeStatus</th>\n",
       "      <th>tags</th>\n",
       "    </tr>\n",
       "  </thead>\n",
       "  <tbody>\n",
       "    <tr>\n",
       "      <th>49</th>\n",
       "      <td>MyGene.info API</td>\n",
       "      <td>[Service Provider]</td>\n",
       "      <td>KP</td>\n",
       "      <td>unknown</td>\n",
       "      <td>[gene, annotation, query, translator]</td>\n",
       "    </tr>\n",
       "    <tr>\n",
       "      <th>71</th>\n",
       "      <td>MyGene.info API (for test)</td>\n",
       "      <td>[]</td>\n",
       "      <td>None</td>\n",
       "      <td>unknown</td>\n",
       "      <td>[Genes]</td>\n",
       "    </tr>\n",
       "    <tr>\n",
       "      <th>81</th>\n",
       "      <td>MyGene.info API</td>\n",
       "      <td>[Service Provider]</td>\n",
       "      <td>KP</td>\n",
       "      <td>good</td>\n",
       "      <td>[gene, annotation, query, translator, biothings]</td>\n",
       "    </tr>\n",
       "  </tbody>\n",
       "</table>\n",
       "</div>"
      ],
      "text/plain": [
       "                          name                team component uptimeStatus  \\\n",
       "49             MyGene.info API  [Service Provider]        KP      unknown   \n",
       "71  MyGene.info API (for test)                  []      None      unknown   \n",
       "81             MyGene.info API  [Service Provider]        KP         good   \n",
       "\n",
       "                                                tags  \n",
       "49             [gene, annotation, query, translator]  \n",
       "71                                           [Genes]  \n",
       "81  [gene, annotation, query, translator, biothings]  "
      ]
     },
     "execution_count": 24,
     "metadata": {},
     "output_type": "execute_result"
    },
    {
     "data": {
      "text/html": [
       "<div>\n",
       "<style scoped>\n",
       "    .dataframe tbody tr th:only-of-type {\n",
       "        vertical-align: middle;\n",
       "    }\n",
       "\n",
       "    .dataframe tbody tr th {\n",
       "        vertical-align: top;\n",
       "    }\n",
       "\n",
       "    .dataframe thead th {\n",
       "        text-align: right;\n",
       "    }\n",
       "</style>\n",
       "<table border=\"1\" class=\"dataframe\">\n",
       "  <thead>\n",
       "    <tr style=\"text-align: right;\">\n",
       "      <th></th>\n",
       "      <th>name</th>\n",
       "      <th>team</th>\n",
       "      <th>component</th>\n",
       "      <th>uptimeStatus</th>\n",
       "      <th>tags</th>\n",
       "    </tr>\n",
       "  </thead>\n",
       "  <tbody>\n",
       "    <tr>\n",
       "      <th>48</th>\n",
       "      <td>MyVariant.info API</td>\n",
       "      <td>[Service Provider]</td>\n",
       "      <td>KP</td>\n",
       "      <td>unknown</td>\n",
       "      <td>[variant, annotation, query, translator]</td>\n",
       "    </tr>\n",
       "    <tr>\n",
       "      <th>149</th>\n",
       "      <td>MyVariant.info API</td>\n",
       "      <td>[Service Provider]</td>\n",
       "      <td>KP</td>\n",
       "      <td>good</td>\n",
       "      <td>[variant, query, metadata, translator, biothings]</td>\n",
       "    </tr>\n",
       "  </tbody>\n",
       "</table>\n",
       "</div>"
      ],
      "text/plain": [
       "                   name                team component uptimeStatus  \\\n",
       "48   MyVariant.info API  [Service Provider]        KP      unknown   \n",
       "149  MyVariant.info API  [Service Provider]        KP         good   \n",
       "\n",
       "                                                  tags  \n",
       "48            [variant, annotation, query, translator]  \n",
       "149  [variant, query, metadata, translator, biothings]  "
      ]
     },
     "execution_count": 24,
     "metadata": {},
     "output_type": "execute_result"
    }
   ],
   "source": [
    "## these two versions were....registered by diff people?\n",
    "registry_df[registry_df['name'].str.startswith('MyGene.info')]\n",
    "registry_df[registry_df['name'].str.startswith('MyVariant.info')]"
   ]
  },
  {
   "cell_type": "code",
   "execution_count": 25,
   "metadata": {
    "ExecuteTime": {
     "end_time": "2021-02-05T05:13:27.584771Z",
     "start_time": "2021-02-05T05:13:27.573948Z"
    }
   },
   "outputs": [
    {
     "data": {
      "text/html": [
       "<div>\n",
       "<style scoped>\n",
       "    .dataframe tbody tr th:only-of-type {\n",
       "        vertical-align: middle;\n",
       "    }\n",
       "\n",
       "    .dataframe tbody tr th {\n",
       "        vertical-align: top;\n",
       "    }\n",
       "\n",
       "    .dataframe thead th {\n",
       "        text-align: right;\n",
       "    }\n",
       "</style>\n",
       "<table border=\"1\" class=\"dataframe\">\n",
       "  <thead>\n",
       "    <tr style=\"text-align: right;\">\n",
       "      <th></th>\n",
       "      <th>name</th>\n",
       "      <th>team</th>\n",
       "      <th>component</th>\n",
       "      <th>uptimeStatus</th>\n",
       "      <th>tags</th>\n",
       "    </tr>\n",
       "  </thead>\n",
       "  <tbody>\n",
       "    <tr>\n",
       "      <th>9</th>\n",
       "      <td>CAM-KP API</td>\n",
       "      <td>Exposures Provider</td>\n",
       "      <td>KP</td>\n",
       "      <td>unknown</td>\n",
       "      <td>[translator]</td>\n",
       "    </tr>\n",
       "    <tr>\n",
       "      <th>10</th>\n",
       "      <td>SmartAPI API</td>\n",
       "      <td>Service Provider</td>\n",
       "      <td>Utility</td>\n",
       "      <td>good</td>\n",
       "      <td>[api, metadata, openapi, translator]</td>\n",
       "    </tr>\n",
       "    <tr>\n",
       "      <th>15</th>\n",
       "      <td>Ontology-KP API</td>\n",
       "      <td>SRI</td>\n",
       "      <td>KP</td>\n",
       "      <td>unknown</td>\n",
       "      <td>[translator]</td>\n",
       "    </tr>\n",
       "    <tr>\n",
       "      <th>189</th>\n",
       "      <td>ARAX Translator Reasoner</td>\n",
       "      <td>Expander Agent</td>\n",
       "      <td>ARA</td>\n",
       "      <td>good</td>\n",
       "      <td>[predicates, query, translator, reasoner, resp...</td>\n",
       "    </tr>\n",
       "  </tbody>\n",
       "</table>\n",
       "</div>"
      ],
      "text/plain": [
       "                         name                team component uptimeStatus  \\\n",
       "9                  CAM-KP API  Exposures Provider        KP      unknown   \n",
       "10               SmartAPI API    Service Provider   Utility         good   \n",
       "15            Ontology-KP API                 SRI        KP      unknown   \n",
       "189  ARAX Translator Reasoner      Expander Agent       ARA         good   \n",
       "\n",
       "                                                  tags  \n",
       "9                                         [translator]  \n",
       "10                [api, metadata, openapi, translator]  \n",
       "15                                        [translator]  \n",
       "189  [predicates, query, translator, reasoner, resp...  "
      ]
     },
     "execution_count": 25,
     "metadata": {},
     "output_type": "execute_result"
    }
   ],
   "source": [
    "## currently not a problem since changed schema to allow team to be a string \n",
    "##   (as long as it matches one of the enums)\n",
    "teamNotList = [True if not isinstance(x, list) else False for x in registry_df['team']]\n",
    "registry_df[teamNotList]"
   ]
  },
  {
   "cell_type": "markdown",
   "metadata": {},
   "source": [
    "### Finishing that parsing"
   ]
  },
  {
   "cell_type": "markdown",
   "metadata": {},
   "source": [
    "Having team as an array is good when there is more than one team involved in making the API (this happens often with Service Provider). \n",
    "\n",
    "Having team (and tags) as an array is bad when you want to group-by/summarize....so for now I turned them to strings"
   ]
  },
  {
   "cell_type": "code",
   "execution_count": 52,
   "metadata": {
    "ExecuteTime": {
     "end_time": "2021-02-05T05:20:20.634364Z",
     "start_time": "2021-02-05T05:20:20.628821Z"
    }
   },
   "outputs": [],
   "source": [
    "## changing the column to strings to make it easier to sort values\n",
    "registry_df['team'] = [\",\".join(x) if isinstance(x, list) else x for x in registry_df['team']]\n",
    "registry_df['tags'] = [\",\".join(x) if isinstance(x, list) else x for x in registry_df['tags']]\n",
    "\n",
    "## replacing empty strings with None\n",
    "registry_df['team'] = [None if not x else x for x in registry_df['team']]\n",
    "registry_df['tags'] = [None if not x else x for x in registry_df['tags']]"
   ]
  },
  {
   "cell_type": "markdown",
   "metadata": {},
   "source": [
    "### Getting and parsing metaKG info"
   ]
  },
  {
   "cell_type": "markdown",
   "metadata": {},
   "source": [
    "The MetaKG is currently based on annotations from x-bte. The operations are all from APIs tagged translator "
   ]
  },
  {
   "cell_type": "code",
   "execution_count": 53,
   "metadata": {
    "ExecuteTime": {
     "end_time": "2021-02-05T05:20:23.055871Z",
     "start_time": "2021-02-05T05:20:22.758811Z"
    }
   },
   "outputs": [
    {
     "data": {
      "text/plain": [
       "200"
      ]
     },
     "execution_count": 53,
     "metadata": {},
     "output_type": "execute_result"
    }
   ],
   "source": [
    "headers = {\"content-type\": \"application/json\"}\n",
    "\n",
    "metaKG_url = \"https://smart-api.info/api/metakg\"\n",
    "\n",
    "metaKG_request = requests.get(metaKG_url, headers=headers)\n",
    "metaKG_request.status_code\n",
    "## if the output is successful, code 200"
   ]
  },
  {
   "cell_type": "code",
   "execution_count": 54,
   "metadata": {
    "ExecuteTime": {
     "end_time": "2021-02-05T05:20:23.999365Z",
     "start_time": "2021-02-05T05:20:23.949704Z"
    }
   },
   "outputs": [],
   "source": [
    "metaKG = metaKG_request.json()"
   ]
  },
  {
   "cell_type": "code",
   "execution_count": 55,
   "metadata": {
    "ExecuteTime": {
     "end_time": "2021-02-05T05:20:25.373050Z",
     "start_time": "2021-02-05T05:20:25.336244Z"
    }
   },
   "outputs": [],
   "source": [
    "metaKG_operations = []\n",
    "for edge in metaKG['associations']:\n",
    "    tempdict = {\n",
    "        \"subject\": edge['subject'],\n",
    "        \"object\": edge['object'],\n",
    "        \"predicate\": edge['predicate'],\n",
    "        \"provided_by\": edge.get('provided_by'),\n",
    "        \"api_name\": edge['api']['name']\n",
    "    }\n",
    "    if edge['api'].get('x-translator'):\n",
    "        tempteam = edge['api']['x-translator'].get('team')\n",
    "        if isinstance(tempteam, list):\n",
    "            tempteam = \",\".join(tempteam)\n",
    "            if not tempteam:\n",
    "                tempteam = None  \n",
    "        tempdict.update({\n",
    "            \"api_team\": tempteam,\n",
    "            \"api_component\": edge['api']['x-translator'].get('component'),\n",
    "        })\n",
    "    else:\n",
    "        tempdict.update({\n",
    "            \"api_team\": None,\n",
    "            \"api_component\": None,\n",
    "        })\n",
    "    metaKG_operations.append(tempdict)"
   ]
  },
  {
   "cell_type": "code",
   "execution_count": 56,
   "metadata": {
    "ExecuteTime": {
     "end_time": "2021-02-05T05:20:27.027216Z",
     "start_time": "2021-02-05T05:20:27.010667Z"
    }
   },
   "outputs": [
    {
     "data": {
      "text/plain": [
       "(8475, 7)"
      ]
     },
     "execution_count": 56,
     "metadata": {},
     "output_type": "execute_result"
    }
   ],
   "source": [
    "operations_summary = pd.DataFrame.from_dict(metaKG_operations)\n",
    "operations_summary.shape\n",
    "## describes this many operations"
   ]
  },
  {
   "cell_type": "markdown",
   "metadata": {},
   "source": [
    "### Issues around metaKG metadata"
   ]
  },
  {
   "cell_type": "markdown",
   "metadata": {},
   "source": [
    "So....why are there so many ARA operations? The metaKG is currently based in KP operations, right?"
   ]
  },
  {
   "cell_type": "code",
   "execution_count": 57,
   "metadata": {
    "ExecuteTime": {
     "end_time": "2021-02-05T05:20:29.362595Z",
     "start_time": "2021-02-05T05:20:29.356104Z"
    }
   },
   "outputs": [
    {
     "data": {
      "text/plain": [
       "ARA    7115\n",
       "KP     1360\n",
       "Name: api_component, dtype: int64"
      ]
     },
     "execution_count": 57,
     "metadata": {},
     "output_type": "execute_result"
    }
   ],
   "source": [
    "operations_summary.api_component.value_counts()"
   ]
  },
  {
   "cell_type": "markdown",
   "metadata": {},
   "source": [
    "So....The ARA with >7000 operations is ARAX. \n",
    "\n",
    "Questions around whether there REALLY are associations for all subject-object type pairs in the other top KP APIs. "
   ]
  },
  {
   "cell_type": "code",
   "execution_count": 58,
   "metadata": {
    "ExecuteTime": {
     "end_time": "2021-02-05T05:20:32.714824Z",
     "start_time": "2021-02-05T05:20:32.706645Z"
    }
   },
   "outputs": [
    {
     "data": {
      "text/plain": [
       "ARAX Translator Reasoner                                             7072\n",
       "Clinical Risk KP API                                                  308\n",
       "Text Mining CO-OCCURRENCE API                                         288\n",
       "Multiomics Wellness KP API                                            128\n",
       "SEMMED Disease API                                                     96\n",
       "SEMMED Chemical API                                                    93\n",
       "SEMMED Gene API                                                        74\n",
       "SEMMED Phenotype API                                                   73\n",
       "SEMMED Biological Process API                                          67\n",
       "imProving Agent                                                        43\n",
       "SEMMED Anatomy API                                                     37\n",
       "BioLink API                                                            18\n",
       "Molecular Data Provider for NCATS Biomedical Translator Reasoners      17\n",
       "mydisease.info API                                                     14\n",
       "Text Mining Targeted Association API                                   12\n",
       "Gene Ontology Biological Process API                                   10\n",
       "Automat PHAROS API                                                     10\n",
       "MyGene.info API                                                        10\n",
       "Automat CORD19 Scibite API                                             10\n",
       "MyChem.info API                                                        10\n",
       "Automat CORD19 Scigraph API                                            10\n",
       "UBERON Ontology API                                                     9\n",
       "Genetics Provider API                                                   8\n",
       "Genetics Provider                                                       8\n",
       "Automat HMDB API                                                        7\n",
       "MGIgene2phenotype API                                                   4\n",
       "MyVariant.info API                                                      4\n",
       "Gene Ontology Cellular Component API                                    4\n",
       "Gene Ontology Molecular Activity API                                    4\n",
       "Automat CHEMBIO API                                                     3\n",
       "Translator Knowledge Collaboratory API                                  3\n",
       "TCGA Mutation Frequency KP API                                          2\n",
       "Human Phenotype Ontology API                                            2\n",
       "Drug Response KP API                                                    2\n",
       "BioThings DGIdb API                                                     2\n",
       "DISEASES API                                                            2\n",
       "EBIgene2phenotype API                                                   2\n",
       "OpenPredict API 🔮🐍                                                      2\n",
       "CTD API                                                                 2\n",
       "QuickGO API                                                             1\n",
       "LINCS Data Portal API                                                   1\n",
       "LitVar API                                                              1\n",
       "Ontology Lookup Service API                                             1\n",
       "OpenTarget API                                                          1\n",
       "Name: api_name, dtype: int64"
      ]
     },
     "execution_count": 58,
     "metadata": {},
     "output_type": "execute_result"
    }
   ],
   "source": [
    "operations_summary.api_name.value_counts()"
   ]
  },
  {
   "cell_type": "markdown",
   "metadata": {},
   "source": [
    "## Registry API-level summary"
   ]
  },
  {
   "cell_type": "markdown",
   "metadata": {},
   "source": [
    "### Comparing translator tag and x-translator use"
   ]
  },
  {
   "cell_type": "code",
   "execution_count": 59,
   "metadata": {
    "ExecuteTime": {
     "end_time": "2021-02-05T05:20:41.164547Z",
     "start_time": "2021-02-05T05:20:41.148127Z"
    }
   },
   "outputs": [
    {
     "data": {
      "text/html": [
       "<div>\n",
       "<style scoped>\n",
       "    .dataframe tbody tr th:only-of-type {\n",
       "        vertical-align: middle;\n",
       "    }\n",
       "\n",
       "    .dataframe tbody tr th {\n",
       "        vertical-align: top;\n",
       "    }\n",
       "\n",
       "    .dataframe thead th {\n",
       "        text-align: right;\n",
       "    }\n",
       "</style>\n",
       "<table border=\"1\" class=\"dataframe\">\n",
       "  <thead>\n",
       "    <tr style=\"text-align: right;\">\n",
       "      <th></th>\n",
       "      <th>hasTranslatorTag</th>\n",
       "      <th>hasXTranslator</th>\n",
       "      <th>Num of APIs</th>\n",
       "    </tr>\n",
       "  </thead>\n",
       "  <tbody>\n",
       "    <tr>\n",
       "      <th>0</th>\n",
       "      <td>False</td>\n",
       "      <td>False</td>\n",
       "      <td>113</td>\n",
       "    </tr>\n",
       "    <tr>\n",
       "      <th>1</th>\n",
       "      <td>True</td>\n",
       "      <td>True</td>\n",
       "      <td>88</td>\n",
       "    </tr>\n",
       "    <tr>\n",
       "      <th>2</th>\n",
       "      <td>True</td>\n",
       "      <td>False</td>\n",
       "      <td>14</td>\n",
       "    </tr>\n",
       "    <tr>\n",
       "      <th>3</th>\n",
       "      <td>False</td>\n",
       "      <td>True</td>\n",
       "      <td>1</td>\n",
       "    </tr>\n",
       "  </tbody>\n",
       "</table>\n",
       "</div>"
      ],
      "text/plain": [
       "   hasTranslatorTag  hasXTranslator  Num of APIs\n",
       "0             False           False          113\n",
       "1              True            True           88\n",
       "2              True           False           14\n",
       "3             False            True            1"
      ]
     },
     "execution_count": 59,
     "metadata": {},
     "output_type": "execute_result"
    }
   ],
   "source": [
    "registry_df['hasTranslatorTag'] =  [False if x is None else x for x in registry_df.tags.str.contains('translator')]\n",
    "registry_df['hasXTranslator'] =  [False if x is None else True for x in registry_df.team]\n",
    "registry_df[['hasTranslatorTag', 'hasXTranslator']].value_counts().reset_index(name = \"Num of APIs\")"
   ]
  },
  {
   "cell_type": "markdown",
   "metadata": {},
   "source": [
    "So there are 102 APIs with the \"translator\" tag, and 88 of them currently have the x-translator extension. There is one API with the x-translator extension and no \"translator\" tag. "
   ]
  },
  {
   "cell_type": "markdown",
   "metadata": {},
   "source": [
    "### Translator-tagged / x-translator APIs"
   ]
  },
  {
   "cell_type": "code",
   "execution_count": 60,
   "metadata": {
    "ExecuteTime": {
     "end_time": "2021-02-05T05:21:00.271688Z",
     "start_time": "2021-02-05T05:21:00.262603Z"
    }
   },
   "outputs": [],
   "source": [
    "## grab only the APIs with the translator tag \n",
    "translator_apis = registry_df[(registry_df['hasTranslatorTag']) | \n",
    "            (registry_df['hasXTranslator'])].copy()\n",
    "translator_apis.drop(columns = ['hasTranslatorTag'], inplace = True)\n",
    "translator_apis = translator_apis[['team', 'component', 'name', 'uptimeStatus', 'tags']]\n",
    "translator_apis.sort_values(by=['team', 'component', 'name'], \n",
    "                            ignore_index = True, na_position = 'last', inplace = True)"
   ]
  },
  {
   "cell_type": "markdown",
   "metadata": {},
   "source": [
    "Translator-tagged APIs with x-translator information. Another review may need to be done to address duplicate API registrations / different API registrations for BTE. "
   ]
  },
  {
   "cell_type": "code",
   "execution_count": 62,
   "metadata": {
    "ExecuteTime": {
     "end_time": "2021-02-05T05:21:12.927839Z",
     "start_time": "2021-02-05T05:21:12.914588Z"
    }
   },
   "outputs": [
    {
     "data": {
      "text/html": [
       "<div>\n",
       "<style scoped>\n",
       "    .dataframe tbody tr th:only-of-type {\n",
       "        vertical-align: middle;\n",
       "    }\n",
       "\n",
       "    .dataframe tbody tr th {\n",
       "        vertical-align: top;\n",
       "    }\n",
       "\n",
       "    .dataframe thead th {\n",
       "        text-align: right;\n",
       "    }\n",
       "</style>\n",
       "<table border=\"1\" class=\"dataframe\">\n",
       "  <thead>\n",
       "    <tr style=\"text-align: right;\">\n",
       "      <th></th>\n",
       "      <th>team</th>\n",
       "      <th>component</th>\n",
       "      <th>name</th>\n",
       "      <th>uptimeStatus</th>\n",
       "      <th>tags</th>\n",
       "    </tr>\n",
       "  </thead>\n",
       "  <tbody>\n",
       "    <tr>\n",
       "      <th>0</th>\n",
       "      <td>Clinical Data Provider</td>\n",
       "      <td>KP</td>\n",
       "      <td>Columbia Open Health Data (COHD)</td>\n",
       "      <td>good</td>\n",
       "      <td>Metadata,OMOP,Clinical Frequencies,Concept Ass...</td>\n",
       "    </tr>\n",
       "    <tr>\n",
       "      <th>1</th>\n",
       "      <td>Clinical Data Provider</td>\n",
       "      <td>KP</td>\n",
       "      <td>Columbia Open Health Data (COHD) for COVID-19 ...</td>\n",
       "      <td>good</td>\n",
       "      <td>Metadata,OMOP,Clinical Frequencies,Concept Ass...</td>\n",
       "    </tr>\n",
       "    <tr>\n",
       "      <th>2</th>\n",
       "      <td>Clinical Data Provider</td>\n",
       "      <td>KP</td>\n",
       "      <td>OpenPredict API 🔮🐍</td>\n",
       "      <td>good</td>\n",
       "      <td>translator,reasoner</td>\n",
       "    </tr>\n",
       "    <tr>\n",
       "      <th>3</th>\n",
       "      <td>Clinical Data Provider</td>\n",
       "      <td>KP</td>\n",
       "      <td>Translator Knowledge Collaboratory API</td>\n",
       "      <td>good</td>\n",
       "      <td>predicates,query,translator,reasoner</td>\n",
       "    </tr>\n",
       "    <tr>\n",
       "      <th>4</th>\n",
       "      <td>Connections Hypothesis Provider</td>\n",
       "      <td>KP</td>\n",
       "      <td>Connections Hypothesis Provider API</td>\n",
       "      <td>unknown</td>\n",
       "      <td>bayesian,translator,1.0.0</td>\n",
       "    </tr>\n",
       "    <tr>\n",
       "      <th>...</th>\n",
       "      <td>...</td>\n",
       "      <td>...</td>\n",
       "      <td>...</td>\n",
       "      <td>...</td>\n",
       "      <td>...</td>\n",
       "    </tr>\n",
       "    <tr>\n",
       "      <th>84</th>\n",
       "      <td>Standards Reference Implementation Team</td>\n",
       "      <td>Utility</td>\n",
       "      <td>Name Resolver</td>\n",
       "      <td>unknown</td>\n",
       "      <td>translator</td>\n",
       "    </tr>\n",
       "    <tr>\n",
       "      <th>85</th>\n",
       "      <td>Standards Reference Implementation Team</td>\n",
       "      <td>Utility</td>\n",
       "      <td>Node Normalization</td>\n",
       "      <td>good</td>\n",
       "      <td>Interfaces</td>\n",
       "    </tr>\n",
       "    <tr>\n",
       "      <th>86</th>\n",
       "      <td>Text Mining Provider,Service Provider</td>\n",
       "      <td>KP</td>\n",
       "      <td>Text Mining CO-OCCURRENCE API</td>\n",
       "      <td>good</td>\n",
       "      <td>gene,chemical,association,annotation,query,tra...</td>\n",
       "    </tr>\n",
       "    <tr>\n",
       "      <th>87</th>\n",
       "      <td>Text Mining Provider,Service Provider</td>\n",
       "      <td>KP</td>\n",
       "      <td>Text Mining Targeted Association API</td>\n",
       "      <td>good</td>\n",
       "      <td>gene,chemical,association,annotation,query,tra...</td>\n",
       "    </tr>\n",
       "    <tr>\n",
       "      <th>88</th>\n",
       "      <td>imProving Agent</td>\n",
       "      <td>ARA</td>\n",
       "      <td>imProving Agent</td>\n",
       "      <td>unknown</td>\n",
       "      <td>predicates,query,translator,reasoner,SPOKE</td>\n",
       "    </tr>\n",
       "  </tbody>\n",
       "</table>\n",
       "<p>89 rows × 5 columns</p>\n",
       "</div>"
      ],
      "text/plain": [
       "                                       team component  \\\n",
       "0                    Clinical Data Provider        KP   \n",
       "1                    Clinical Data Provider        KP   \n",
       "2                    Clinical Data Provider        KP   \n",
       "3                    Clinical Data Provider        KP   \n",
       "4           Connections Hypothesis Provider        KP   \n",
       "..                                      ...       ...   \n",
       "84  Standards Reference Implementation Team   Utility   \n",
       "85  Standards Reference Implementation Team   Utility   \n",
       "86    Text Mining Provider,Service Provider        KP   \n",
       "87    Text Mining Provider,Service Provider        KP   \n",
       "88                          imProving Agent       ARA   \n",
       "\n",
       "                                                 name uptimeStatus  \\\n",
       "0                    Columbia Open Health Data (COHD)         good   \n",
       "1   Columbia Open Health Data (COHD) for COVID-19 ...         good   \n",
       "2                                  OpenPredict API 🔮🐍         good   \n",
       "3              Translator Knowledge Collaboratory API         good   \n",
       "4                 Connections Hypothesis Provider API      unknown   \n",
       "..                                                ...          ...   \n",
       "84                                      Name Resolver      unknown   \n",
       "85                                 Node Normalization         good   \n",
       "86                      Text Mining CO-OCCURRENCE API         good   \n",
       "87               Text Mining Targeted Association API         good   \n",
       "88                                    imProving Agent      unknown   \n",
       "\n",
       "                                                 tags  \n",
       "0   Metadata,OMOP,Clinical Frequencies,Concept Ass...  \n",
       "1   Metadata,OMOP,Clinical Frequencies,Concept Ass...  \n",
       "2                                 translator,reasoner  \n",
       "3                predicates,query,translator,reasoner  \n",
       "4                           bayesian,translator,1.0.0  \n",
       "..                                                ...  \n",
       "84                                         translator  \n",
       "85                                         Interfaces  \n",
       "86  gene,chemical,association,annotation,query,tra...  \n",
       "87  gene,chemical,association,annotation,query,tra...  \n",
       "88         predicates,query,translator,reasoner,SPOKE  \n",
       "\n",
       "[89 rows x 5 columns]"
      ]
     },
     "execution_count": 62,
     "metadata": {},
     "output_type": "execute_result"
    }
   ],
   "source": [
    "summarytable1 = translator_apis[~ translator_apis['team'].isna()].copy()\n",
    "summarytable1"
   ]
  },
  {
   "cell_type": "markdown",
   "metadata": {},
   "source": [
    "The APIs WITHOUT x-translator information"
   ]
  },
  {
   "cell_type": "code",
   "execution_count": 61,
   "metadata": {
    "ExecuteTime": {
     "end_time": "2021-02-05T05:21:08.739688Z",
     "start_time": "2021-02-05T05:21:08.728648Z"
    }
   },
   "outputs": [
    {
     "data": {
      "text/html": [
       "<div>\n",
       "<style scoped>\n",
       "    .dataframe tbody tr th:only-of-type {\n",
       "        vertical-align: middle;\n",
       "    }\n",
       "\n",
       "    .dataframe tbody tr th {\n",
       "        vertical-align: top;\n",
       "    }\n",
       "\n",
       "    .dataframe thead th {\n",
       "        text-align: right;\n",
       "    }\n",
       "</style>\n",
       "<table border=\"1\" class=\"dataframe\">\n",
       "  <thead>\n",
       "    <tr style=\"text-align: right;\">\n",
       "      <th></th>\n",
       "      <th>team</th>\n",
       "      <th>component</th>\n",
       "      <th>name</th>\n",
       "      <th>uptimeStatus</th>\n",
       "      <th>tags</th>\n",
       "    </tr>\n",
       "  </thead>\n",
       "  <tbody>\n",
       "    <tr>\n",
       "      <th>89</th>\n",
       "      <td>None</td>\n",
       "      <td>None</td>\n",
       "      <td>Big GIM(Gene Interaction Miner)</td>\n",
       "      <td>unknown</td>\n",
       "      <td>translator,ISB,gene,similarity,tissue,TCGA,GIA...</td>\n",
       "    </tr>\n",
       "    <tr>\n",
       "      <th>90</th>\n",
       "      <td>None</td>\n",
       "      <td>None</td>\n",
       "      <td>Broad probabilistic graphical models translator</td>\n",
       "      <td>unknown</td>\n",
       "      <td>translator</td>\n",
       "    </tr>\n",
       "    <tr>\n",
       "      <th>91</th>\n",
       "      <td>None</td>\n",
       "      <td>None</td>\n",
       "      <td>CMAQ Exposures API</td>\n",
       "      <td>incompatible</td>\n",
       "      <td>translator</td>\n",
       "    </tr>\n",
       "    <tr>\n",
       "      <th>92</th>\n",
       "      <td>None</td>\n",
       "      <td>None</td>\n",
       "      <td>ChEMBL API</td>\n",
       "      <td>good</td>\n",
       "      <td>publication,translator</td>\n",
       "    </tr>\n",
       "    <tr>\n",
       "      <th>93</th>\n",
       "      <td>None</td>\n",
       "      <td>None</td>\n",
       "      <td>Metadata Provider API</td>\n",
       "      <td>good</td>\n",
       "      <td>metadata,biosample,translator</td>\n",
       "    </tr>\n",
       "    <tr>\n",
       "      <th>94</th>\n",
       "      <td>None</td>\n",
       "      <td>None</td>\n",
       "      <td>NCATS ARA Scaffold</td>\n",
       "      <td>unknown</td>\n",
       "      <td>translator</td>\n",
       "    </tr>\n",
       "    <tr>\n",
       "      <th>95</th>\n",
       "      <td>None</td>\n",
       "      <td>None</td>\n",
       "      <td>NCATS KP Scaffold</td>\n",
       "      <td>unknown</td>\n",
       "      <td>translator</td>\n",
       "    </tr>\n",
       "    <tr>\n",
       "      <th>96</th>\n",
       "      <td>None</td>\n",
       "      <td>None</td>\n",
       "      <td>OpenAPI for indigo NCATS Biomedical Translator...</td>\n",
       "      <td>unknown</td>\n",
       "      <td>query,translator,reasoner</td>\n",
       "    </tr>\n",
       "    <tr>\n",
       "      <th>97</th>\n",
       "      <td>None</td>\n",
       "      <td>None</td>\n",
       "      <td>RGD API</td>\n",
       "      <td>good</td>\n",
       "      <td>translator,gene</td>\n",
       "    </tr>\n",
       "    <tr>\n",
       "      <th>98</th>\n",
       "      <td>None</td>\n",
       "      <td>None</td>\n",
       "      <td>ROBOKOP</td>\n",
       "      <td>good</td>\n",
       "      <td>translator,reasoner</td>\n",
       "    </tr>\n",
       "    <tr>\n",
       "      <th>99</th>\n",
       "      <td>None</td>\n",
       "      <td>None</td>\n",
       "      <td>ROBOKOP Ranker</td>\n",
       "      <td>unknown</td>\n",
       "      <td>0.9.2,translator,reasoner</td>\n",
       "    </tr>\n",
       "    <tr>\n",
       "      <th>100</th>\n",
       "      <td>None</td>\n",
       "      <td>None</td>\n",
       "      <td>Roadway Exposures API</td>\n",
       "      <td>incompatible</td>\n",
       "      <td>translator</td>\n",
       "    </tr>\n",
       "    <tr>\n",
       "      <th>101</th>\n",
       "      <td>None</td>\n",
       "      <td>None</td>\n",
       "      <td>Socio-Environmental Exposures API</td>\n",
       "      <td>incompatible</td>\n",
       "      <td>translator</td>\n",
       "    </tr>\n",
       "    <tr>\n",
       "      <th>102</th>\n",
       "      <td>None</td>\n",
       "      <td>None</td>\n",
       "      <td>Text-mined Biolink Association TRAPI</td>\n",
       "      <td>unknown</td>\n",
       "      <td>translator</td>\n",
       "    </tr>\n",
       "  </tbody>\n",
       "</table>\n",
       "</div>"
      ],
      "text/plain": [
       "     team component                                               name  \\\n",
       "89   None      None                    Big GIM(Gene Interaction Miner)   \n",
       "90   None      None    Broad probabilistic graphical models translator   \n",
       "91   None      None                                 CMAQ Exposures API   \n",
       "92   None      None                                         ChEMBL API   \n",
       "93   None      None                              Metadata Provider API   \n",
       "94   None      None                                 NCATS ARA Scaffold   \n",
       "95   None      None                                  NCATS KP Scaffold   \n",
       "96   None      None  OpenAPI for indigo NCATS Biomedical Translator...   \n",
       "97   None      None                                            RGD API   \n",
       "98   None      None                                            ROBOKOP   \n",
       "99   None      None                                     ROBOKOP Ranker   \n",
       "100  None      None                              Roadway Exposures API   \n",
       "101  None      None                  Socio-Environmental Exposures API   \n",
       "102  None      None               Text-mined Biolink Association TRAPI   \n",
       "\n",
       "     uptimeStatus                                               tags  \n",
       "89        unknown  translator,ISB,gene,similarity,tissue,TCGA,GIA...  \n",
       "90        unknown                                         translator  \n",
       "91   incompatible                                         translator  \n",
       "92           good                             publication,translator  \n",
       "93           good                      metadata,biosample,translator  \n",
       "94        unknown                                         translator  \n",
       "95        unknown                                         translator  \n",
       "96        unknown                          query,translator,reasoner  \n",
       "97           good                                    translator,gene  \n",
       "98           good                                translator,reasoner  \n",
       "99        unknown                          0.9.2,translator,reasoner  \n",
       "100  incompatible                                         translator  \n",
       "101  incompatible                                         translator  \n",
       "102       unknown                                         translator  "
      ]
     },
     "execution_count": 61,
     "metadata": {},
     "output_type": "execute_result"
    }
   ],
   "source": [
    "## APIs without x-translator information\n",
    "summarytable2 = translator_apis[translator_apis['team'].isna()].copy()\n",
    "summarytable2"
   ]
  },
  {
   "cell_type": "markdown",
   "metadata": {},
   "source": [
    "#### APIs by team"
   ]
  },
  {
   "cell_type": "code",
   "execution_count": 63,
   "metadata": {
    "ExecuteTime": {
     "end_time": "2021-02-05T05:21:19.433756Z",
     "start_time": "2021-02-05T05:21:18.804465Z"
    }
   },
   "outputs": [
    {
     "data": {
      "text/plain": [
       "<AxesSubplot:title={'center':'Num of APIs by team'}>"
      ]
     },
     "execution_count": 63,
     "metadata": {},
     "output_type": "execute_result"
    },
    {
     "data": {
      "text/html": [
       "<div>\n",
       "<style scoped>\n",
       "    .dataframe tbody tr th:only-of-type {\n",
       "        vertical-align: middle;\n",
       "    }\n",
       "\n",
       "    .dataframe tbody tr th {\n",
       "        vertical-align: top;\n",
       "    }\n",
       "\n",
       "    .dataframe thead th {\n",
       "        text-align: right;\n",
       "    }\n",
       "</style>\n",
       "<table border=\"1\" class=\"dataframe\">\n",
       "  <thead>\n",
       "    <tr style=\"text-align: right;\">\n",
       "      <th></th>\n",
       "      <th>name</th>\n",
       "      <th>Num of APIs</th>\n",
       "    </tr>\n",
       "  </thead>\n",
       "  <tbody>\n",
       "    <tr>\n",
       "      <th>0</th>\n",
       "      <td>Ranking Agent</td>\n",
       "      <td>32</td>\n",
       "    </tr>\n",
       "    <tr>\n",
       "      <th>1</th>\n",
       "      <td>Service Provider</td>\n",
       "      <td>29</td>\n",
       "    </tr>\n",
       "    <tr>\n",
       "      <th>2</th>\n",
       "      <td>Standards Reference Implementation Team</td>\n",
       "      <td>6</td>\n",
       "    </tr>\n",
       "    <tr>\n",
       "      <th>3</th>\n",
       "      <td>Multiomics Provider,Service Provider</td>\n",
       "      <td>5</td>\n",
       "    </tr>\n",
       "    <tr>\n",
       "      <th>4</th>\n",
       "      <td>Clinical Data Provider</td>\n",
       "      <td>4</td>\n",
       "    </tr>\n",
       "    <tr>\n",
       "      <th>5</th>\n",
       "      <td>Text Mining Provider,Service Provider</td>\n",
       "      <td>2</td>\n",
       "    </tr>\n",
       "    <tr>\n",
       "      <th>6</th>\n",
       "      <td>Connections Hypothesis Provider</td>\n",
       "      <td>2</td>\n",
       "    </tr>\n",
       "    <tr>\n",
       "      <th>7</th>\n",
       "      <td>Explanatory Agent</td>\n",
       "      <td>1</td>\n",
       "    </tr>\n",
       "    <tr>\n",
       "      <th>8</th>\n",
       "      <td>Genetics Provider</td>\n",
       "      <td>1</td>\n",
       "    </tr>\n",
       "    <tr>\n",
       "      <th>9</th>\n",
       "      <td>imProving Agent</td>\n",
       "      <td>1</td>\n",
       "    </tr>\n",
       "    <tr>\n",
       "      <th>10</th>\n",
       "      <td>SRI</td>\n",
       "      <td>1</td>\n",
       "    </tr>\n",
       "    <tr>\n",
       "      <th>11</th>\n",
       "      <td>Genetics Provider, Broad Institute Flannick Lab</td>\n",
       "      <td>1</td>\n",
       "    </tr>\n",
       "    <tr>\n",
       "      <th>12</th>\n",
       "      <td>Molecular Data Provider</td>\n",
       "      <td>1</td>\n",
       "    </tr>\n",
       "    <tr>\n",
       "      <th>13</th>\n",
       "      <td>Expander Agent</td>\n",
       "      <td>1</td>\n",
       "    </tr>\n",
       "    <tr>\n",
       "      <th>14</th>\n",
       "      <td>Exploring Agent</td>\n",
       "      <td>1</td>\n",
       "    </tr>\n",
       "    <tr>\n",
       "      <th>15</th>\n",
       "      <td>Exposures Provider</td>\n",
       "      <td>1</td>\n",
       "    </tr>\n",
       "  </tbody>\n",
       "</table>\n",
       "</div>"
      ],
      "text/plain": [
       "                                               name  Num of APIs\n",
       "0                                     Ranking Agent           32\n",
       "1                                  Service Provider           29\n",
       "2           Standards Reference Implementation Team            6\n",
       "3              Multiomics Provider,Service Provider            5\n",
       "4                            Clinical Data Provider            4\n",
       "5             Text Mining Provider,Service Provider            2\n",
       "6                   Connections Hypothesis Provider            2\n",
       "7                                 Explanatory Agent            1\n",
       "8                                 Genetics Provider            1\n",
       "9                                   imProving Agent            1\n",
       "10                                              SRI            1\n",
       "11  Genetics Provider, Broad Institute Flannick Lab            1\n",
       "12                          Molecular Data Provider            1\n",
       "13                                   Expander Agent            1\n",
       "14                                  Exploring Agent            1\n",
       "15                               Exposures Provider            1"
      ]
     },
     "execution_count": 63,
     "metadata": {},
     "output_type": "execute_result"
    },
    {
     "data": {
      "image/png": "[encoded data removed]",
      "text/plain": [
       "<Figure size 792x576 with 1 Axes>"
      ]
     },
     "metadata": {
      "needs_background": "light"
     },
     "output_type": "display_data"
    }
   ],
   "source": [
    "team_summary = translator_apis.team.value_counts().reset_index()\n",
    "team_summary.columns = ['name', 'Num of APIs']\n",
    "team_summary['plot_names'] = [ '\\n'.join(wrap(i, 30)) for i in team_summary['name']]\n",
    "\n",
    "team_summary.plot.barh(x='plot_names', y='Num of APIs', fontsize = 10, figsize=(11,8), rot=0, \n",
    "                       legend=False, title = \"Num of APIs by team\", xlabel=\"\")\n",
    "## table view\n",
    "team_summary[['name', 'Num of APIs']]"
   ]
  },
  {
   "cell_type": "markdown",
   "metadata": {},
   "source": [
    "#### APIs by component"
   ]
  },
  {
   "cell_type": "code",
   "execution_count": 64,
   "metadata": {
    "ExecuteTime": {
     "end_time": "2021-02-05T05:21:23.056572Z",
     "start_time": "2021-02-05T05:21:22.915145Z"
    }
   },
   "outputs": [
    {
     "data": {
      "text/html": [
       "<div>\n",
       "<style scoped>\n",
       "    .dataframe tbody tr th:only-of-type {\n",
       "        vertical-align: middle;\n",
       "    }\n",
       "\n",
       "    .dataframe tbody tr th {\n",
       "        vertical-align: top;\n",
       "    }\n",
       "\n",
       "    .dataframe thead th {\n",
       "        text-align: right;\n",
       "    }\n",
       "</style>\n",
       "<table border=\"1\" class=\"dataframe\">\n",
       "  <thead>\n",
       "    <tr style=\"text-align: right;\">\n",
       "      <th></th>\n",
       "      <th>index</th>\n",
       "      <th>component</th>\n",
       "    </tr>\n",
       "  </thead>\n",
       "  <tbody>\n",
       "    <tr>\n",
       "      <th>0</th>\n",
       "      <td>KP</td>\n",
       "      <td>76</td>\n",
       "    </tr>\n",
       "    <tr>\n",
       "      <th>1</th>\n",
       "      <td>ARA</td>\n",
       "      <td>8</td>\n",
       "    </tr>\n",
       "    <tr>\n",
       "      <th>2</th>\n",
       "      <td>Utility</td>\n",
       "      <td>5</td>\n",
       "    </tr>\n",
       "  </tbody>\n",
       "</table>\n",
       "</div>"
      ],
      "text/plain": [
       "     index  component\n",
       "0       KP         76\n",
       "1      ARA          8\n",
       "2  Utility          5"
      ]
     },
     "execution_count": 64,
     "metadata": {},
     "output_type": "execute_result"
    },
    {
     "data": {
      "text/plain": [
       "<AxesSubplot:title={'center':'Num of APIs by team'}>"
      ]
     },
     "execution_count": 64,
     "metadata": {},
     "output_type": "execute_result"
    },
    {
     "data": {
      "image/png": "[encoded data removed]",
      "text/plain": [
       "<Figure size 432x288 with 1 Axes>"
      ]
     },
     "metadata": {
      "needs_background": "light"
     },
     "output_type": "display_data"
    }
   ],
   "source": [
    "component_summary = translator_apis.component.value_counts().reset_index()\n",
    "component_summary\n",
    "component_summary.plot.bar(x='index', y='component', rot=0,\n",
    "                       legend=False, title = \"Num of APIs by team\", xlabel=\"\")"
   ]
  },
  {
   "cell_type": "markdown",
   "metadata": {},
   "source": [
    "#### APIs by uptime status"
   ]
  },
  {
   "cell_type": "code",
   "execution_count": 65,
   "metadata": {
    "ExecuteTime": {
     "end_time": "2021-02-05T05:21:25.666462Z",
     "start_time": "2021-02-05T05:21:25.523480Z"
    }
   },
   "outputs": [
    {
     "data": {
      "text/html": [
       "<div>\n",
       "<style scoped>\n",
       "    .dataframe tbody tr th:only-of-type {\n",
       "        vertical-align: middle;\n",
       "    }\n",
       "\n",
       "    .dataframe tbody tr th {\n",
       "        vertical-align: top;\n",
       "    }\n",
       "\n",
       "    .dataframe thead th {\n",
       "        text-align: right;\n",
       "    }\n",
       "</style>\n",
       "<table border=\"1\" class=\"dataframe\">\n",
       "  <thead>\n",
       "    <tr style=\"text-align: right;\">\n",
       "      <th></th>\n",
       "      <th>index</th>\n",
       "      <th>uptimeStatus</th>\n",
       "    </tr>\n",
       "  </thead>\n",
       "  <tbody>\n",
       "    <tr>\n",
       "      <th>0</th>\n",
       "      <td>good</td>\n",
       "      <td>76</td>\n",
       "    </tr>\n",
       "    <tr>\n",
       "      <th>1</th>\n",
       "      <td>unknown</td>\n",
       "      <td>24</td>\n",
       "    </tr>\n",
       "    <tr>\n",
       "      <th>2</th>\n",
       "      <td>incompatible</td>\n",
       "      <td>3</td>\n",
       "    </tr>\n",
       "  </tbody>\n",
       "</table>\n",
       "</div>"
      ],
      "text/plain": [
       "          index  uptimeStatus\n",
       "0          good            76\n",
       "1       unknown            24\n",
       "2  incompatible             3"
      ]
     },
     "execution_count": 65,
     "metadata": {},
     "output_type": "execute_result"
    },
    {
     "data": {
      "text/plain": [
       "<AxesSubplot:title={'center':'Num of APIs by team'}>"
      ]
     },
     "execution_count": 65,
     "metadata": {},
     "output_type": "execute_result"
    },
    {
     "data": {
      "image/png": "[encoded data removed]",
      "text/plain": [
       "<Figure size 432x288 with 1 Axes>"
      ]
     },
     "metadata": {
      "needs_background": "light"
     },
     "output_type": "display_data"
    }
   ],
   "source": [
    "status_summary = translator_apis.uptimeStatus.value_counts().reset_index()\n",
    "status_summary\n",
    "status_summary.plot.bar(x='index', y='uptimeStatus', rot=0,\n",
    "                       legend=False, title = \"Num of APIs by team\", xlabel=\"\")"
   ]
  },
  {
   "cell_type": "markdown",
   "metadata": {},
   "source": [
    "## using x-translator and metaKG together"
   ]
  },
  {
   "cell_type": "markdown",
   "metadata": {},
   "source": [
    "The MetaKG is currently based on annotations from x-bte. The operations are all from APIs tagged translator "
   ]
  },
  {
   "cell_type": "markdown",
   "metadata": {},
   "source": [
    "### predicates by team"
   ]
  },
  {
   "cell_type": "code",
   "execution_count": 66,
   "metadata": {
    "ExecuteTime": {
     "end_time": "2021-02-05T05:21:28.618833Z",
     "start_time": "2021-02-05T05:21:28.599876Z"
    }
   },
   "outputs": [
    {
     "data": {
      "text/html": [
       "<div>\n",
       "<style scoped>\n",
       "    .dataframe tbody tr th:only-of-type {\n",
       "        vertical-align: middle;\n",
       "    }\n",
       "\n",
       "    .dataframe tbody tr th {\n",
       "        vertical-align: top;\n",
       "    }\n",
       "\n",
       "    .dataframe thead th {\n",
       "        text-align: right;\n",
       "    }\n",
       "</style>\n",
       "<table border=\"1\" class=\"dataframe\">\n",
       "  <thead>\n",
       "    <tr style=\"text-align: right;\">\n",
       "      <th></th>\n",
       "      <th>index</th>\n",
       "      <th>Num of unique predicates</th>\n",
       "    </tr>\n",
       "  </thead>\n",
       "  <tbody>\n",
       "    <tr>\n",
       "      <th>0</th>\n",
       "      <td>Service Provider</td>\n",
       "      <td>161</td>\n",
       "    </tr>\n",
       "    <tr>\n",
       "      <th>1</th>\n",
       "      <td>Expander Agent</td>\n",
       "      <td>79</td>\n",
       "    </tr>\n",
       "    <tr>\n",
       "      <th>2</th>\n",
       "      <td>imProving Agent</td>\n",
       "      <td>24</td>\n",
       "    </tr>\n",
       "    <tr>\n",
       "      <th>3</th>\n",
       "      <td>Molecular Data Provider</td>\n",
       "      <td>10</td>\n",
       "    </tr>\n",
       "    <tr>\n",
       "      <th>4</th>\n",
       "      <td>Multiomics Provider,Service Provider</td>\n",
       "      <td>7</td>\n",
       "    </tr>\n",
       "    <tr>\n",
       "      <th>5</th>\n",
       "      <td>Text Mining Provider,Service Provider</td>\n",
       "      <td>5</td>\n",
       "    </tr>\n",
       "    <tr>\n",
       "      <th>6</th>\n",
       "      <td>Clinical Data Provider</td>\n",
       "      <td>5</td>\n",
       "    </tr>\n",
       "    <tr>\n",
       "      <th>7</th>\n",
       "      <td>Ranking Agent</td>\n",
       "      <td>5</td>\n",
       "    </tr>\n",
       "    <tr>\n",
       "      <th>8</th>\n",
       "      <td>Standards Reference Implementation Team</td>\n",
       "      <td>3</td>\n",
       "    </tr>\n",
       "    <tr>\n",
       "      <th>9</th>\n",
       "      <td>Genetics Provider, Broad Institute Flannick Lab</td>\n",
       "      <td>3</td>\n",
       "    </tr>\n",
       "    <tr>\n",
       "      <th>10</th>\n",
       "      <td>Genetics Provider</td>\n",
       "      <td>1</td>\n",
       "    </tr>\n",
       "  </tbody>\n",
       "</table>\n",
       "</div>"
      ],
      "text/plain": [
       "                                              index  Num of unique predicates\n",
       "0                                  Service Provider                       161\n",
       "1                                    Expander Agent                        79\n",
       "2                                   imProving Agent                        24\n",
       "3                           Molecular Data Provider                        10\n",
       "4              Multiomics Provider,Service Provider                         7\n",
       "5             Text Mining Provider,Service Provider                         5\n",
       "6                            Clinical Data Provider                         5\n",
       "7                                     Ranking Agent                         5\n",
       "8           Standards Reference Implementation Team                         3\n",
       "9   Genetics Provider, Broad Institute Flannick Lab                         3\n",
       "10                                Genetics Provider                         1"
      ]
     },
     "execution_count": 66,
     "metadata": {},
     "output_type": "execute_result"
    }
   ],
   "source": [
    "operations1 = operations_summary[['predicate', 'api_name', 'api_team']].drop_duplicates()\n",
    "operations1.api_team.value_counts().reset_index(name = 'Num of unique predicates')"
   ]
  },
  {
   "cell_type": "code",
   "execution_count": null,
   "metadata": {},
   "outputs": [],
   "source": []
  }
 ],
 "metadata": {
  "kernelspec": {
   "display_name": "Python 3",
   "language": "python",
   "name": "python3"
  },
  "language_info": {
   "codemirror_mode": {
    "name": "ipython",
    "version": 3
   },
   "file_extension": ".py",
   "mimetype": "text/x-python",
   "name": "python",
   "nbconvert_exporter": "python",
   "pygments_lexer": "ipython3",
   "version": "3.7.9"
  },
  "toc": {
   "base_numbering": 1,
   "nav_menu": {},
   "number_sections": true,
   "sideBar": true,
   "skip_h1_title": true,
   "title_cell": "Table of Contents",
   "title_sidebar": "Contents",
   "toc_cell": false,
   "toc_position": {
    "height": "calc(100% - 180px)",
    "left": "10px",
    "top": "150px",
    "width": "279.067px"
   },
   "toc_section_display": true,
   "toc_window_display": true
  },
  "varInspector": {
   "cols": {
    "lenName": 16,
    "lenType": 16,
    "lenVar": 40
   },
   "kernels_config": {
    "python": {
     "delete_cmd_postfix": "",
     "delete_cmd_prefix": "del ",
     "library": "var_list.py",
     "varRefreshCmd": "print(var_dic_list())"
    },
    "r": {
     "delete_cmd_postfix": ") ",
     "delete_cmd_prefix": "rm(",
     "library": "var_list.r",
     "varRefreshCmd": "cat(var_dic_list()) "
    }
   },
   "types_to_exclude": [
    "module",
    "function",
    "builtin_function_or_method",
    "instance",
    "_Feature"
   ],
   "window_display": false
  }
 },
 "nbformat": 4,
 "nbformat_minor": 4
}
