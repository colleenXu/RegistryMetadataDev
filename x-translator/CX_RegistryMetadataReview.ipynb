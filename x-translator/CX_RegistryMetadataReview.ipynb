{
 "cells": [
  {
   "cell_type": "markdown",
   "metadata": {},
   "source": [
    "# Use to explore and find issues with registry metadata"
   ]
  },
  {
   "cell_type": "markdown",
   "metadata": {},
   "source": [
    "## Setup"
   ]
  },
  {
   "cell_type": "code",
   "execution_count": 1,
   "metadata": {
    "ExecuteTime": {
     "end_time": "2021-04-19T19:21:45.976147Z",
     "start_time": "2021-04-19T19:21:40.502179Z"
    }
   },
   "outputs": [],
   "source": [
    "## CX: allows multiple lines of code to print from one code block\n",
    "from IPython.core.interactiveshell import InteractiveShell\n",
    "InteractiveShell.ast_node_interactivity = \"all\"\n",
    "\n",
    "## show time that this notebook was executed \n",
    "from datetime import datetime\n",
    "\n",
    "## packages to work with objects \n",
    "import re\n",
    "import requests\n",
    "import pandas as pd\n",
    "from textwrap import wrap  ## for plot labels\n",
    "\n",
    "## to get around bugs\n",
    "import nest_asyncio\n",
    "nest_asyncio.apply()"
   ]
  },
  {
   "cell_type": "code",
   "execution_count": 2,
   "metadata": {
    "ExecuteTime": {
     "end_time": "2021-04-19T19:22:14.720120Z",
     "start_time": "2021-04-19T19:22:14.715852Z"
    }
   },
   "outputs": [
    {
     "name": "stdout",
     "output_type": "stream",
     "text": [
      "The time that this notebook was executed is...\n",
      "Local time (PST, West Coast USA): \n",
      "2021-04-19 12:22:14.717728\n",
      "UTC time: \n",
      "2021-04-19 19:22:14.717849\n"
     ]
    }
   ],
   "source": [
    "## record when cell blocks are executed\n",
    "print('The time that this notebook was executed is...')\n",
    "print('Local time (PST, West Coast USA): ')\n",
    "print(datetime.now())\n",
    "print('UTC time: ')\n",
    "print(datetime.utcnow())"
   ]
  },
  {
   "cell_type": "code",
   "execution_count": 46,
   "metadata": {
    "ExecuteTime": {
     "end_time": "2021-04-01T06:25:26.408787Z",
     "start_time": "2021-04-01T06:25:26.283498Z"
    }
   },
   "outputs": [
    {
     "data": {
      "text/plain": [
       "400"
      ]
     },
     "execution_count": 46,
     "metadata": {},
     "output_type": "execute_result"
    }
   ],
   "source": [
    "## old request, doesn't work\n",
    "\n",
    "## setup request\n",
    "headers = {\"content-type\": \"application/json\"}\n",
    "registry_url = \"https://smart-api.info/api/query/?q=%22%22&fields=info%2Ctags%2C_meta.uptime_status&raw=1&size=1000\"\n",
    "\n",
    "## make request: check for success (200)\n",
    "registry_request = requests.get(registry_url, headers=headers)\n",
    "registry_request.status_code"
   ]
  },
  {
   "cell_type": "code",
   "execution_count": null,
   "metadata": {
    "ExecuteTime": {
     "end_time": "2021-03-16T05:03:11.816164Z",
     "start_time": "2021-03-16T05:03:11.812535Z"
    }
   },
   "outputs": [],
   "source": [
    "registry = registry_request.json()\n",
    "registry"
   ]
  },
  {
   "cell_type": "markdown",
   "metadata": {},
   "source": [
    "### Getting and parsing registry info"
   ]
  },
  {
   "cell_type": "code",
   "execution_count": 47,
   "metadata": {
    "ExecuteTime": {
     "end_time": "2021-04-01T06:25:29.270052Z",
     "start_time": "2021-04-01T06:25:28.917439Z"
    }
   },
   "outputs": [
    {
     "data": {
      "text/plain": [
       "200"
      ]
     },
     "execution_count": 47,
     "metadata": {},
     "output_type": "execute_result"
    }
   ],
   "source": [
    "## setup request\n",
    "# headers = {\"content-type\": \"application/json\"}\n",
    "registry_url = \"https://smart-api.info/api/query/?q=__all__&fields=info,tags,_status&raw=1&size=1000\"\n",
    "\n",
    "## make request: check for success (200)\n",
    "registry_request = requests.get(registry_url, headers={})\n",
    "registry_request.status_code"
   ]
  },
  {
   "cell_type": "code",
   "execution_count": 48,
   "metadata": {
    "ExecuteTime": {
     "end_time": "2021-04-01T06:25:29.749369Z",
     "start_time": "2021-04-01T06:25:29.742569Z"
    }
   },
   "outputs": [],
   "source": [
    "registry = registry_request.json()"
   ]
  },
  {
   "cell_type": "code",
   "execution_count": 49,
   "metadata": {
    "ExecuteTime": {
     "end_time": "2021-04-01T06:25:30.198780Z",
     "start_time": "2021-04-01T06:25:30.190780Z"
    }
   },
   "outputs": [
    {
     "data": {
      "text/plain": [
       "{'_index': 'smartapi_docs',\n",
       " '_type': '_doc',\n",
       " '_id': 'be87344696148a41f577aca202ce84df',\n",
       " '_score': 1.0,\n",
       " '_source': {'_status': {'refresh_status': 200,\n",
       "   'refresh_ts': '2021-03-31T07:00:28+00:00',\n",
       "   'uptime_status': 'unknown',\n",
       "   'uptime_ts': '2021-03-31T07:05:16.381984'},\n",
       "  'info': {'termsOfService': 'https://creativecommons.org/licenses/by/4.0/',\n",
       "   'title': 'dcm4chee-arc',\n",
       "   'version': '5.23.0'},\n",
       "  'tags': [{'name': 'QIDO-RS',\n",
       "    'description': 'Query based on ID for DICOM Objects by RESTful Services',\n",
       "    'externalDocs': {'description': 'DICOM PS3.18',\n",
       "     'url': 'http://dicom.nema.org/medical/dicom/current/output/html/part18.html'}},\n",
       "   {'name': 'WADO-RS',\n",
       "    'description': 'Web Access to DICOM Objects by RESTful Services',\n",
       "    'externalDocs': {'description': 'DICOM PS3.18',\n",
       "     'url': 'http://dicom.nema.org/medical/dicom/current/output/html/part18.html'}},\n",
       "   {'name': 'WADO-URI',\n",
       "    'description': 'Web Access to DICOM Objects by URI',\n",
       "    'externalDocs': {'description': 'DICOM PS3.18',\n",
       "     'url': 'http://dicom.nema.org/medical/dicom/current/output/html/part18.html'}},\n",
       "   {'name': 'STOW-RS',\n",
       "    'description': 'Storage over the Web of DICOM Objects by RESTful Services',\n",
       "    'externalDocs': {'description': 'DICOM PS3.18',\n",
       "     'url': 'http://dicom.nema.org/medical/dicom/current/output/html/part18.html'}},\n",
       "   {'name': 'UPS-RS',\n",
       "    'description': 'RESTful interface to the Unified Procedure Step Service SOP Classes',\n",
       "    'externalDocs': {'description': 'DICOM PS3.18',\n",
       "     'url': 'http://dicom.nema.org/medical/dicom/current/output/html/part18.html'}},\n",
       "   {'name': 'AUTH-RS', 'description': 'Authentication/Authorization services'},\n",
       "   {'name': 'ACCESS-RS', 'description': 'Study access control services'},\n",
       "   {'name': 'CTRL-RS', 'description': 'Start/Stop/Reload Archive'},\n",
       "   {'name': 'CONFIG-RS', 'description': 'Configuration Access'},\n",
       "   {'name': 'STAT-RS', 'description': 'Statistics of Archive Content'},\n",
       "   {'name': 'ECHO-RS',\n",
       "    'description': 'Verify connection to external Application Entity'},\n",
       "   {'name': 'FIND-RS',\n",
       "    'description': 'Invoke C-FIND requests on external C-FIND SCP'},\n",
       "   {'name': 'MOVE-RS',\n",
       "    'description': 'Invoke C-MOVE requests on external C-MOVE SCP'},\n",
       "   {'name': 'MOVE-LEGACY-RS',\n",
       "    'description': 'Invoke C-MOVE requests on external C-MOVE SCP - Legacy'},\n",
       "   {'name': 'DIFF-RS',\n",
       "    'description': 'Compare Studies with/between external Archive(s)'},\n",
       "   {'name': 'EXPORT-RS', 'description': 'Export Instances'},\n",
       "   {'name': 'EXPORT-LEGACY-RS',\n",
       "    'description': 'Export Matching Instances - Legacy'},\n",
       "   {'name': 'IMPORT-RS', 'description': 'Import Instances'},\n",
       "   {'name': 'IAN-RS',\n",
       "    'description': 'Notify external IAN SCP about Availability of Instances'},\n",
       "   {'name': 'IAN-LEGACY-RS',\n",
       "    'description': 'Schedule IAN to external archive - Legacy'},\n",
       "   {'name': 'IOCM-RS', 'description': 'Imaging Object Change Management'},\n",
       "   {'name': 'IOCM-LEGACY-RS', 'description': 'Reject Matching - Legacy'},\n",
       "   {'name': 'MONITOR-RS', 'description': 'Archive Monitoring'},\n",
       "   {'name': 'MWL-RS', 'description': 'Modality Worklist Management'},\n",
       "   {'name': 'PAM-RS', 'description': 'Patient Administration Management'},\n",
       "   {'name': 'PDQ-RS', 'description': 'Patient Demographics Query'},\n",
       "   {'name': 'STGCMT-RS',\n",
       "    'description': 'Request Storage Commitment from external Archive'},\n",
       "   {'name': 'STGCMT-LEGACY-RS',\n",
       "    'description': 'Request Storage Commitment of matching entities from external Archive - Legacy'},\n",
       "   {'name': 'STGVER-RS', 'description': 'Storage Verification'},\n",
       "   {'name': 'STGVER-LEGACY-RS',\n",
       "    'description': 'Storage Verification Matching - Legacy'},\n",
       "   {'name': 'IMPAX-REPORT-RS',\n",
       "    'description': 'Query Agfa IMPAX Report Service'},\n",
       "   {'name': 'X-ROAD-RS',\n",
       "    'description': 'Query Estonia National Patient Registry'}]}}"
      ]
     },
     "execution_count": 49,
     "metadata": {},
     "output_type": "execute_result"
    }
   ],
   "source": [
    "registry['hits']['hits'][0]"
   ]
  },
  {
   "cell_type": "code",
   "execution_count": 50,
   "metadata": {
    "ExecuteTime": {
     "end_time": "2021-04-01T06:25:32.796459Z",
     "start_time": "2021-04-01T06:25:32.784601Z"
    }
   },
   "outputs": [],
   "source": [
    "## get response\n",
    "registry = registry_request.json()\n",
    "\n",
    "## parse response to get the information: uptime status, tags, x-translator, api name\n",
    "registry_data = []\n",
    "for ele in registry['hits']['hits']:\n",
    "    tempDict = {'uptimeStatus': ele['_source']['_status'].get('uptime_status'),\n",
    "                'refreshStatus': ele['_source']['_status']['refresh_status'],\n",
    "                'name': ele['_source']['info']['title']}\n",
    "    \n",
    "    if ele['_source'].get('tags'):\n",
    "        temp = [i.get('name') for i in ele['_source']['tags']]\n",
    "        tempDict.update({\"tags\": temp})\n",
    "    else:\n",
    "        tempDict.update({\"tags\": []})\n",
    "    \n",
    "    if ele['_source']['info'].get('x-translator'):\n",
    "        tempDict.update({            \n",
    "            'team': ele['_source']['info']['x-translator'].get('team'),\n",
    "            'component': ele['_source']['info']['x-translator'].get('component')\n",
    "        })\n",
    "    else:\n",
    "        tempDict.update({            \n",
    "            'team': [],\n",
    "            'component': None\n",
    "        })\n",
    "        \n",
    "    if ele['_source']['info'].get('x-trapi'):\n",
    "        tempDict.update({            \n",
    "            'trapi_version': ele['_source']['info']['x-trapi'].get('version')\n",
    "        })\n",
    "    else:\n",
    "        tempDict.update({            \n",
    "            'trapi_version': None\n",
    "        })\n",
    "        \n",
    "    registry_data.append(tempDict)"
   ]
  },
  {
   "cell_type": "code",
   "execution_count": 51,
   "metadata": {
    "ExecuteTime": {
     "end_time": "2021-04-01T06:25:34.159148Z",
     "start_time": "2021-04-01T06:25:34.150825Z"
    }
   },
   "outputs": [
    {
     "data": {
      "text/plain": [
       "(203, 7)"
      ]
     },
     "execution_count": 51,
     "metadata": {},
     "output_type": "execute_result"
    }
   ],
   "source": [
    "registry_df = pd.DataFrame.from_dict(registry_data)\n",
    "registry_df = registry_df[['name', 'team', 'component', 'trapi_version', 'uptimeStatus', 'refreshStatus', 'tags']]\n",
    "\n",
    "registry_df.shape"
   ]
  },
  {
   "cell_type": "markdown",
   "metadata": {},
   "source": [
    "### Issues"
   ]
  },
  {
   "cell_type": "code",
   "execution_count": 52,
   "metadata": {
    "ExecuteTime": {
     "end_time": "2021-04-01T06:25:36.294511Z",
     "start_time": "2021-04-01T06:25:36.281835Z"
    }
   },
   "outputs": [
    {
     "data": {
      "text/html": [
       "<div>\n",
       "<style scoped>\n",
       "    .dataframe tbody tr th:only-of-type {\n",
       "        vertical-align: middle;\n",
       "    }\n",
       "\n",
       "    .dataframe tbody tr th {\n",
       "        vertical-align: top;\n",
       "    }\n",
       "\n",
       "    .dataframe thead th {\n",
       "        text-align: right;\n",
       "    }\n",
       "</style>\n",
       "<table border=\"1\" class=\"dataframe\">\n",
       "  <thead>\n",
       "    <tr style=\"text-align: right;\">\n",
       "      <th></th>\n",
       "      <th>name</th>\n",
       "      <th>team</th>\n",
       "      <th>component</th>\n",
       "      <th>trapi_version</th>\n",
       "      <th>uptimeStatus</th>\n",
       "      <th>refreshStatus</th>\n",
       "      <th>tags</th>\n",
       "    </tr>\n",
       "  </thead>\n",
       "  <tbody>\n",
       "    <tr>\n",
       "      <th>75</th>\n",
       "      <td>ARAX Translator Reasoner</td>\n",
       "      <td>Expander Agent</td>\n",
       "      <td>ARA</td>\n",
       "      <td>None</td>\n",
       "      <td>good</td>\n",
       "      <td>499</td>\n",
       "      <td>[predicates, query, translator, reasoner, resp...</td>\n",
       "    </tr>\n",
       "    <tr>\n",
       "      <th>76</th>\n",
       "      <td>RTX KG2</td>\n",
       "      <td>Expander Agent</td>\n",
       "      <td>ARA</td>\n",
       "      <td>1.0.0</td>\n",
       "      <td>good</td>\n",
       "      <td>499</td>\n",
       "      <td>[predicates, query, translator, trapi, entity]</td>\n",
       "    </tr>\n",
       "  </tbody>\n",
       "</table>\n",
       "</div>"
      ],
      "text/plain": [
       "                        name            team component trapi_version  \\\n",
       "75  ARAX Translator Reasoner  Expander Agent       ARA          None   \n",
       "76                   RTX KG2  Expander Agent       ARA         1.0.0   \n",
       "\n",
       "   uptimeStatus  refreshStatus  \\\n",
       "75         good            499   \n",
       "76         good            499   \n",
       "\n",
       "                                                 tags  \n",
       "75  [predicates, query, translator, reasoner, resp...  \n",
       "76     [predicates, query, translator, trapi, entity]  "
      ]
     },
     "execution_count": 52,
     "metadata": {},
     "output_type": "execute_result"
    }
   ],
   "source": [
    "## currently not a problem since changed schema to allow team to be a string \n",
    "##   (as long as it matches one of the enums)\n",
    "teamNotList = [True if not isinstance(x, list) else False for x in registry_df['team']]\n",
    "registry_df[teamNotList]"
   ]
  },
  {
   "cell_type": "code",
   "execution_count": 53,
   "metadata": {
    "ExecuteTime": {
     "end_time": "2021-04-01T06:25:38.187898Z",
     "start_time": "2021-04-01T06:25:38.176723Z"
    }
   },
   "outputs": [
    {
     "data": {
      "text/html": [
       "<div>\n",
       "<style scoped>\n",
       "    .dataframe tbody tr th:only-of-type {\n",
       "        vertical-align: middle;\n",
       "    }\n",
       "\n",
       "    .dataframe tbody tr th {\n",
       "        vertical-align: top;\n",
       "    }\n",
       "\n",
       "    .dataframe thead th {\n",
       "        text-align: right;\n",
       "    }\n",
       "</style>\n",
       "<table border=\"1\" class=\"dataframe\">\n",
       "  <thead>\n",
       "    <tr style=\"text-align: right;\">\n",
       "      <th></th>\n",
       "      <th>name</th>\n",
       "      <th>team</th>\n",
       "      <th>component</th>\n",
       "      <th>trapi_version</th>\n",
       "      <th>uptimeStatus</th>\n",
       "      <th>refreshStatus</th>\n",
       "      <th>tags</th>\n",
       "    </tr>\n",
       "  </thead>\n",
       "  <tbody>\n",
       "    <tr>\n",
       "      <th>10</th>\n",
       "      <td>Ontology-KP API</td>\n",
       "      <td>[Standards Reference Implementation Team]</td>\n",
       "      <td>KP</td>\n",
       "      <td>None</td>\n",
       "      <td>unknown</td>\n",
       "      <td>200</td>\n",
       "      <td>[translator]</td>\n",
       "    </tr>\n",
       "  </tbody>\n",
       "</table>\n",
       "</div>"
      ],
      "text/plain": [
       "               name                                       team component  \\\n",
       "10  Ontology-KP API  [Standards Reference Implementation Team]        KP   \n",
       "\n",
       "   trapi_version uptimeStatus  refreshStatus          tags  \n",
       "10          None      unknown            200  [translator]  "
      ]
     },
     "execution_count": 53,
     "metadata": {},
     "output_type": "execute_result"
    }
   ],
   "source": [
    "## allow these entries' team value (currently not in enum)\n",
    "registry_df[registry_df['name'].str.contains('Ontology-KP')]"
   ]
  },
  {
   "cell_type": "code",
   "execution_count": 54,
   "metadata": {
    "ExecuteTime": {
     "end_time": "2021-04-01T06:25:46.476296Z",
     "start_time": "2021-04-01T06:25:46.458654Z"
    }
   },
   "outputs": [
    {
     "data": {
      "text/html": [
       "<div>\n",
       "<style scoped>\n",
       "    .dataframe tbody tr th:only-of-type {\n",
       "        vertical-align: middle;\n",
       "    }\n",
       "\n",
       "    .dataframe tbody tr th {\n",
       "        vertical-align: top;\n",
       "    }\n",
       "\n",
       "    .dataframe thead th {\n",
       "        text-align: right;\n",
       "    }\n",
       "</style>\n",
       "<table border=\"1\" class=\"dataframe\">\n",
       "  <thead>\n",
       "    <tr style=\"text-align: right;\">\n",
       "      <th></th>\n",
       "      <th>name</th>\n",
       "      <th>team</th>\n",
       "      <th>component</th>\n",
       "      <th>trapi_version</th>\n",
       "      <th>uptimeStatus</th>\n",
       "      <th>refreshStatus</th>\n",
       "      <th>tags</th>\n",
       "    </tr>\n",
       "  </thead>\n",
       "  <tbody>\n",
       "    <tr>\n",
       "      <th>4</th>\n",
       "      <td>imProving Agent</td>\n",
       "      <td>[imProving Agent]</td>\n",
       "      <td>ARA</td>\n",
       "      <td>1.0.0</td>\n",
       "      <td>unknown</td>\n",
       "      <td>499</td>\n",
       "      <td>[predicates, query, translator, reasoner, SPOKE]</td>\n",
       "    </tr>\n",
       "    <tr>\n",
       "      <th>12</th>\n",
       "      <td>Columbia Open Health Data (COHD)</td>\n",
       "      <td>[Clinical Data Provider]</td>\n",
       "      <td>KP</td>\n",
       "      <td>1.0.0</td>\n",
       "      <td>good</td>\n",
       "      <td>200</td>\n",
       "      <td>[Metadata, OMOP, Clinical Frequencies, Concept...</td>\n",
       "    </tr>\n",
       "    <tr>\n",
       "      <th>17</th>\n",
       "      <td>Columbia Open Health Data (COHD) for COVID-19 ...</td>\n",
       "      <td>[Clinical Data Provider]</td>\n",
       "      <td>KP</td>\n",
       "      <td>1.0.0</td>\n",
       "      <td>good</td>\n",
       "      <td>200</td>\n",
       "      <td>[Metadata, OMOP, Clinical Frequencies, Concept...</td>\n",
       "    </tr>\n",
       "    <tr>\n",
       "      <th>51</th>\n",
       "      <td>Molecular Data Provider for NCATS Biomedical T...</td>\n",
       "      <td>[Molecular Data Provider]</td>\n",
       "      <td>KP</td>\n",
       "      <td>1.0.0</td>\n",
       "      <td>unknown</td>\n",
       "      <td>200</td>\n",
       "      <td>[predicates, query, translator, trapi]</td>\n",
       "    </tr>\n",
       "    <tr>\n",
       "      <th>76</th>\n",
       "      <td>RTX KG2</td>\n",
       "      <td>Expander Agent</td>\n",
       "      <td>ARA</td>\n",
       "      <td>1.0.0</td>\n",
       "      <td>good</td>\n",
       "      <td>499</td>\n",
       "      <td>[predicates, query, translator, trapi, entity]</td>\n",
       "    </tr>\n",
       "    <tr>\n",
       "      <th>81</th>\n",
       "      <td>BioThings Explorer ReasonerStdAPI</td>\n",
       "      <td>[Exploring Agent]</td>\n",
       "      <td>ARA</td>\n",
       "      <td>1.0.0</td>\n",
       "      <td>good</td>\n",
       "      <td>200</td>\n",
       "      <td>[1.0.0, 0.9.2, translator, trapi, biothings, m...</td>\n",
       "    </tr>\n",
       "    <tr>\n",
       "      <th>144</th>\n",
       "      <td>OpenPredict API</td>\n",
       "      <td>[Clinical Data Provider]</td>\n",
       "      <td>KP</td>\n",
       "      <td>1.0.0</td>\n",
       "      <td>good</td>\n",
       "      <td>200</td>\n",
       "      <td>[translator, trapi]</td>\n",
       "    </tr>\n",
       "    <tr>\n",
       "      <th>177</th>\n",
       "      <td>Translator Knowledge Collaboratory API</td>\n",
       "      <td>[Clinical Data Provider]</td>\n",
       "      <td>KP</td>\n",
       "      <td>1.0.0</td>\n",
       "      <td>unknown</td>\n",
       "      <td>200</td>\n",
       "      <td>[trapi, translator]</td>\n",
       "    </tr>\n",
       "  </tbody>\n",
       "</table>\n",
       "</div>"
      ],
      "text/plain": [
       "                                                  name  \\\n",
       "4                                      imProving Agent   \n",
       "12                    Columbia Open Health Data (COHD)   \n",
       "17   Columbia Open Health Data (COHD) for COVID-19 ...   \n",
       "51   Molecular Data Provider for NCATS Biomedical T...   \n",
       "76                                             RTX KG2   \n",
       "81                   BioThings Explorer ReasonerStdAPI   \n",
       "144                                    OpenPredict API   \n",
       "177             Translator Knowledge Collaboratory API   \n",
       "\n",
       "                          team component trapi_version uptimeStatus  \\\n",
       "4            [imProving Agent]       ARA         1.0.0      unknown   \n",
       "12    [Clinical Data Provider]        KP         1.0.0         good   \n",
       "17    [Clinical Data Provider]        KP         1.0.0         good   \n",
       "51   [Molecular Data Provider]        KP         1.0.0      unknown   \n",
       "76              Expander Agent       ARA         1.0.0         good   \n",
       "81           [Exploring Agent]       ARA         1.0.0         good   \n",
       "144   [Clinical Data Provider]        KP         1.0.0         good   \n",
       "177   [Clinical Data Provider]        KP         1.0.0      unknown   \n",
       "\n",
       "     refreshStatus                                               tags  \n",
       "4              499   [predicates, query, translator, reasoner, SPOKE]  \n",
       "12             200  [Metadata, OMOP, Clinical Frequencies, Concept...  \n",
       "17             200  [Metadata, OMOP, Clinical Frequencies, Concept...  \n",
       "51             200             [predicates, query, translator, trapi]  \n",
       "76             499     [predicates, query, translator, trapi, entity]  \n",
       "81             200  [1.0.0, 0.9.2, translator, trapi, biothings, m...  \n",
       "144            200                                [translator, trapi]  \n",
       "177            200                                [trapi, translator]  "
      ]
     },
     "execution_count": 54,
     "metadata": {},
     "output_type": "execute_result"
    }
   ],
   "source": [
    "## who has x-trapi?\n",
    "registry_df[~ registry_df['trapi_version'].isna()]"
   ]
  },
  {
   "cell_type": "code",
   "execution_count": 11,
   "metadata": {
    "ExecuteTime": {
     "end_time": "2021-03-23T06:03:57.429081Z",
     "start_time": "2021-03-23T06:03:57.423466Z"
    }
   },
   "outputs": [
    {
     "data": {
      "text/plain": [
       "[['Metadata',\n",
       "  'OMOP',\n",
       "  'Clinical Frequencies',\n",
       "  'Concept Associations',\n",
       "  'Temporal Clinical Data',\n",
       "  'translator',\n",
       "  'trapi'],\n",
       " ['Metadata',\n",
       "  'OMOP',\n",
       "  'Clinical Frequencies',\n",
       "  'Concept Associations',\n",
       "  'Temporal Clinical Data',\n",
       "  'translator',\n",
       "  'trapi']]"
      ]
     },
     "execution_count": 11,
     "metadata": {},
     "output_type": "execute_result"
    }
   ],
   "source": [
    "registry_df[registry_df['name'].str.contains('COHD')].tags.to_list()"
   ]
  },
  {
   "cell_type": "markdown",
   "metadata": {},
   "source": [
    "### Finishing that parsing"
   ]
  },
  {
   "cell_type": "markdown",
   "metadata": {},
   "source": [
    "Having team as an array is good when there is more than one team involved in making the API (this happens often with Service Provider). \n",
    "\n",
    "Having team (and tags) as an array is bad when you want to group-by/summarize....so for now I turned them to strings"
   ]
  },
  {
   "cell_type": "code",
   "execution_count": 55,
   "metadata": {
    "ExecuteTime": {
     "end_time": "2021-04-01T06:25:55.359460Z",
     "start_time": "2021-04-01T06:25:55.353650Z"
    }
   },
   "outputs": [],
   "source": [
    "## changing the column to strings to make it easier to sort values\n",
    "registry_df['team'] = [\",\".join(x) if isinstance(x, list) else x for x in registry_df['team']]\n",
    "registry_df['tags'] = [\",\".join(x) if isinstance(x, list) else x for x in registry_df['tags']]\n",
    "\n",
    "## replacing empty strings with None\n",
    "registry_df['team'] = [None if not x else x for x in registry_df['team']]\n",
    "registry_df['tags'] = [None if not x else x for x in registry_df['tags']]"
   ]
  },
  {
   "cell_type": "markdown",
   "metadata": {},
   "source": [
    "### Getting and parsing metaKG info"
   ]
  },
  {
   "cell_type": "markdown",
   "metadata": {},
   "source": [
    "The MetaKG is currently based on annotations from x-bte. The operations are all from APIs tagged translator "
   ]
  },
  {
   "cell_type": "code",
   "execution_count": 3,
   "metadata": {
    "ExecuteTime": {
     "end_time": "2021-04-19T19:22:23.650564Z",
     "start_time": "2021-04-19T19:22:22.830648Z"
    }
   },
   "outputs": [
    {
     "data": {
      "text/plain": [
       "200"
      ]
     },
     "execution_count": 3,
     "metadata": {},
     "output_type": "execute_result"
    }
   ],
   "source": [
    "headers = {\"content-type\": \"application/json\"}\n",
    "\n",
    "metaKG_url = \"https://smart-api.info/api/metakg\"\n",
    "\n",
    "metaKG_request = requests.get(metaKG_url, headers=headers)\n",
    "metaKG_request.status_code\n",
    "## if the output is successful, code 200"
   ]
  },
  {
   "cell_type": "code",
   "execution_count": 4,
   "metadata": {
    "ExecuteTime": {
     "end_time": "2021-04-19T19:22:24.942795Z",
     "start_time": "2021-04-19T19:22:24.782075Z"
    }
   },
   "outputs": [],
   "source": [
    "metaKG = metaKG_request.json()"
   ]
  },
  {
   "cell_type": "code",
   "execution_count": 13,
   "metadata": {
    "ExecuteTime": {
     "end_time": "2021-04-19T20:10:26.210413Z",
     "start_time": "2021-04-19T20:10:26.197490Z"
    }
   },
   "outputs": [],
   "source": [
    "multiwellness = []\n",
    "clinicalrisk = []\n",
    "\n",
    "for edge in metaKG['associations']:\n",
    "    if edge['api']['name'] == 'Clinical Risk KP API':\n",
    "        clinicalrisk.append(edge)\n",
    "    elif edge['api']['name'] == 'Multiomics Wellness KP API':\n",
    "        multiwellness.append(edge)"
   ]
  },
  {
   "cell_type": "code",
   "execution_count": 15,
   "metadata": {
    "ExecuteTime": {
     "end_time": "2021-04-19T20:11:04.934667Z",
     "start_time": "2021-04-19T20:11:04.930615Z"
    }
   },
   "outputs": [
    {
     "data": {
      "text/plain": [
       "{'subject': 'Disease',\n",
       " 'object': 'Disease',\n",
       " 'predicate': 'associated_with_risk_for',\n",
       " 'provided_by': 'Multiomics Provider',\n",
       " 'api': {'name': 'Clinical Risk KP API',\n",
       "  'smartapi': {'metadata': 'https://storage.googleapis.com/multiomics_provider_kp_data/clinical_risk_kp.yaml',\n",
       "   'id': '1bef5ecbb0b9aee90023ce9faa2c8974',\n",
       "   'ui': 'https://smart-api.info/ui/1bef5ecbb0b9aee90023ce9faa2c8974'},\n",
       "  'x-translator': {'component': 'KP',\n",
       "   'team': ['Multiomics Provider', 'Service Provider']}}}"
      ]
     },
     "execution_count": 15,
     "metadata": {},
     "output_type": "execute_result"
    }
   ],
   "source": [
    "clinicalrisk[0]"
   ]
  },
  {
   "cell_type": "code",
   "execution_count": 5,
   "metadata": {
    "ExecuteTime": {
     "end_time": "2021-04-19T19:22:26.982317Z",
     "start_time": "2021-04-19T19:22:26.893669Z"
    }
   },
   "outputs": [],
   "source": [
    "metaKG_operations = []\n",
    "for edge in metaKG['associations']:\n",
    "    tempdict = {\n",
    "        \"subject\": edge['subject'],\n",
    "        \"object\": edge['object'],\n",
    "        \"predicate\": edge['predicate'],\n",
    "        \"provided_by\": edge.get('provided_by'),\n",
    "        \"api_name\": edge['api']['name']\n",
    "    }\n",
    "    if edge['api'].get('x-translator'):\n",
    "        tempteam = edge['api']['x-translator'].get('team')\n",
    "        if isinstance(tempteam, list):\n",
    "            tempteam = \",\".join(tempteam)\n",
    "            if not tempteam:\n",
    "                tempteam = None  \n",
    "        tempdict.update({\n",
    "            \"api_team\": tempteam,\n",
    "            \"api_component\": edge['api']['x-translator'].get('component'),\n",
    "        })\n",
    "    else:\n",
    "        tempdict.update({\n",
    "            \"api_team\": None,\n",
    "            \"api_component\": None,\n",
    "        })\n",
    "    metaKG_operations.append(tempdict)"
   ]
  },
  {
   "cell_type": "code",
   "execution_count": 7,
   "metadata": {
    "ExecuteTime": {
     "end_time": "2021-04-19T19:22:46.278210Z",
     "start_time": "2021-04-19T19:22:46.234246Z"
    }
   },
   "outputs": [
    {
     "data": {
      "text/plain": [
       "(21896, 7)"
      ]
     },
     "execution_count": 7,
     "metadata": {},
     "output_type": "execute_result"
    }
   ],
   "source": [
    "operations_summary = pd.DataFrame.from_dict(metaKG_operations)\n",
    "operations_summary.shape\n",
    "## describes this many operations"
   ]
  },
  {
   "cell_type": "code",
   "execution_count": 8,
   "metadata": {
    "ExecuteTime": {
     "end_time": "2021-04-19T19:23:15.978002Z",
     "start_time": "2021-04-19T19:23:15.909252Z"
    }
   },
   "outputs": [
    {
     "data": {
      "text/html": [
       "<div>\n",
       "<style scoped>\n",
       "    .dataframe tbody tr th:only-of-type {\n",
       "        vertical-align: middle;\n",
       "    }\n",
       "\n",
       "    .dataframe tbody tr th {\n",
       "        vertical-align: top;\n",
       "    }\n",
       "\n",
       "    .dataframe thead th {\n",
       "        text-align: right;\n",
       "    }\n",
       "</style>\n",
       "<table border=\"1\" class=\"dataframe\">\n",
       "  <thead>\n",
       "    <tr style=\"text-align: right;\">\n",
       "      <th></th>\n",
       "      <th>subject</th>\n",
       "      <th>object</th>\n",
       "      <th>predicate</th>\n",
       "      <th>provided_by</th>\n",
       "      <th>api_name</th>\n",
       "      <th>api_team</th>\n",
       "      <th>api_component</th>\n",
       "    </tr>\n",
       "  </thead>\n",
       "  <tbody>\n",
       "    <tr>\n",
       "      <th>837</th>\n",
       "      <td>ChemicalSubstance</td>\n",
       "      <td>ChemicalSubstance</td>\n",
       "      <td>correlated_with</td>\n",
       "      <td>Multiomics Provider</td>\n",
       "      <td>Multiomics Wellness KP API</td>\n",
       "      <td>Multiomics Provider,Service Provider</td>\n",
       "      <td>KP</td>\n",
       "    </tr>\n",
       "    <tr>\n",
       "      <th>838</th>\n",
       "      <td>ChemicalSubstance</td>\n",
       "      <td>ChemicalSubstance</td>\n",
       "      <td>correlated_with</td>\n",
       "      <td>Multiomics Provider</td>\n",
       "      <td>Multiomics Wellness KP API</td>\n",
       "      <td>Multiomics Provider,Service Provider</td>\n",
       "      <td>KP</td>\n",
       "    </tr>\n",
       "    <tr>\n",
       "      <th>839</th>\n",
       "      <td>ChemicalSubstance</td>\n",
       "      <td>ChemicalSubstance</td>\n",
       "      <td>correlated_with</td>\n",
       "      <td>Multiomics Provider</td>\n",
       "      <td>Multiomics Wellness KP API</td>\n",
       "      <td>Multiomics Provider,Service Provider</td>\n",
       "      <td>KP</td>\n",
       "    </tr>\n",
       "    <tr>\n",
       "      <th>840</th>\n",
       "      <td>ChemicalSubstance</td>\n",
       "      <td>ChemicalSubstance</td>\n",
       "      <td>correlated_with</td>\n",
       "      <td>Multiomics Provider</td>\n",
       "      <td>Multiomics Wellness KP API</td>\n",
       "      <td>Multiomics Provider,Service Provider</td>\n",
       "      <td>KP</td>\n",
       "    </tr>\n",
       "    <tr>\n",
       "      <th>841</th>\n",
       "      <td>ChemicalSubstance</td>\n",
       "      <td>ChemicalSubstance</td>\n",
       "      <td>correlated_with</td>\n",
       "      <td>Multiomics Provider</td>\n",
       "      <td>Multiomics Wellness KP API</td>\n",
       "      <td>Multiomics Provider,Service Provider</td>\n",
       "      <td>KP</td>\n",
       "    </tr>\n",
       "    <tr>\n",
       "      <th>...</th>\n",
       "      <td>...</td>\n",
       "      <td>...</td>\n",
       "      <td>...</td>\n",
       "      <td>...</td>\n",
       "      <td>...</td>\n",
       "      <td>...</td>\n",
       "      <td>...</td>\n",
       "    </tr>\n",
       "    <tr>\n",
       "      <th>960</th>\n",
       "      <td>Protein</td>\n",
       "      <td>Protein</td>\n",
       "      <td>correlated_with</td>\n",
       "      <td>Multiomics Provider</td>\n",
       "      <td>Multiomics Wellness KP API</td>\n",
       "      <td>Multiomics Provider,Service Provider</td>\n",
       "      <td>KP</td>\n",
       "    </tr>\n",
       "    <tr>\n",
       "      <th>961</th>\n",
       "      <td>Protein</td>\n",
       "      <td>Protein</td>\n",
       "      <td>correlated_with</td>\n",
       "      <td>Multiomics Provider</td>\n",
       "      <td>Multiomics Wellness KP API</td>\n",
       "      <td>Multiomics Provider,Service Provider</td>\n",
       "      <td>KP</td>\n",
       "    </tr>\n",
       "    <tr>\n",
       "      <th>962</th>\n",
       "      <td>Protein</td>\n",
       "      <td>Protein</td>\n",
       "      <td>correlated_with</td>\n",
       "      <td>Multiomics Provider</td>\n",
       "      <td>Multiomics Wellness KP API</td>\n",
       "      <td>Multiomics Provider,Service Provider</td>\n",
       "      <td>KP</td>\n",
       "    </tr>\n",
       "    <tr>\n",
       "      <th>963</th>\n",
       "      <td>Protein</td>\n",
       "      <td>Protein</td>\n",
       "      <td>correlated_with</td>\n",
       "      <td>Multiomics Provider</td>\n",
       "      <td>Multiomics Wellness KP API</td>\n",
       "      <td>Multiomics Provider,Service Provider</td>\n",
       "      <td>KP</td>\n",
       "    </tr>\n",
       "    <tr>\n",
       "      <th>964</th>\n",
       "      <td>Protein</td>\n",
       "      <td>Protein</td>\n",
       "      <td>correlated_with</td>\n",
       "      <td>Multiomics Provider</td>\n",
       "      <td>Multiomics Wellness KP API</td>\n",
       "      <td>Multiomics Provider,Service Provider</td>\n",
       "      <td>KP</td>\n",
       "    </tr>\n",
       "  </tbody>\n",
       "</table>\n",
       "<p>128 rows × 7 columns</p>\n",
       "</div>"
      ],
      "text/plain": [
       "               subject             object        predicate  \\\n",
       "837  ChemicalSubstance  ChemicalSubstance  correlated_with   \n",
       "838  ChemicalSubstance  ChemicalSubstance  correlated_with   \n",
       "839  ChemicalSubstance  ChemicalSubstance  correlated_with   \n",
       "840  ChemicalSubstance  ChemicalSubstance  correlated_with   \n",
       "841  ChemicalSubstance  ChemicalSubstance  correlated_with   \n",
       "..                 ...                ...              ...   \n",
       "960            Protein            Protein  correlated_with   \n",
       "961            Protein            Protein  correlated_with   \n",
       "962            Protein            Protein  correlated_with   \n",
       "963            Protein            Protein  correlated_with   \n",
       "964            Protein            Protein  correlated_with   \n",
       "\n",
       "             provided_by                    api_name  \\\n",
       "837  Multiomics Provider  Multiomics Wellness KP API   \n",
       "838  Multiomics Provider  Multiomics Wellness KP API   \n",
       "839  Multiomics Provider  Multiomics Wellness KP API   \n",
       "840  Multiomics Provider  Multiomics Wellness KP API   \n",
       "841  Multiomics Provider  Multiomics Wellness KP API   \n",
       "..                   ...                         ...   \n",
       "960  Multiomics Provider  Multiomics Wellness KP API   \n",
       "961  Multiomics Provider  Multiomics Wellness KP API   \n",
       "962  Multiomics Provider  Multiomics Wellness KP API   \n",
       "963  Multiomics Provider  Multiomics Wellness KP API   \n",
       "964  Multiomics Provider  Multiomics Wellness KP API   \n",
       "\n",
       "                                 api_team api_component  \n",
       "837  Multiomics Provider,Service Provider            KP  \n",
       "838  Multiomics Provider,Service Provider            KP  \n",
       "839  Multiomics Provider,Service Provider            KP  \n",
       "840  Multiomics Provider,Service Provider            KP  \n",
       "841  Multiomics Provider,Service Provider            KP  \n",
       "..                                    ...           ...  \n",
       "960  Multiomics Provider,Service Provider            KP  \n",
       "961  Multiomics Provider,Service Provider            KP  \n",
       "962  Multiomics Provider,Service Provider            KP  \n",
       "963  Multiomics Provider,Service Provider            KP  \n",
       "964  Multiomics Provider,Service Provider            KP  \n",
       "\n",
       "[128 rows x 7 columns]"
      ]
     },
     "execution_count": 8,
     "metadata": {},
     "output_type": "execute_result"
    }
   ],
   "source": [
    "operations_summary[operations_summary['api_name'] == 'Multiomics Wellness KP API']"
   ]
  },
  {
   "cell_type": "markdown",
   "metadata": {},
   "source": [
    "### DON'T WRITE OVER THIS"
   ]
  },
  {
   "cell_type": "markdown",
   "metadata": {},
   "source": [
    "Previously there were more APIs specified (SEMMED, Automat) that are now missing..."
   ]
  },
  {
   "cell_type": "code",
   "execution_count": 60,
   "metadata": {
    "ExecuteTime": {
     "end_time": "2021-04-01T06:26:02.401490Z",
     "start_time": "2021-04-01T06:26:02.397301Z"
    }
   },
   "outputs": [
    {
     "data": {
      "text/plain": [
       "32"
      ]
     },
     "execution_count": 60,
     "metadata": {},
     "output_type": "execute_result"
    }
   ],
   "source": [
    "operations_summary.api_name.nunique()"
   ]
  },
  {
   "cell_type": "code",
   "execution_count": 61,
   "metadata": {
    "ExecuteTime": {
     "end_time": "2021-04-01T06:26:02.930155Z",
     "start_time": "2021-04-01T06:26:02.906411Z"
    },
    "scrolled": true
   },
   "outputs": [
    {
     "data": {
      "text/html": [
       "<div>\n",
       "<style scoped>\n",
       "    .dataframe tbody tr th:only-of-type {\n",
       "        vertical-align: middle;\n",
       "    }\n",
       "\n",
       "    .dataframe tbody tr th {\n",
       "        vertical-align: top;\n",
       "    }\n",
       "\n",
       "    .dataframe thead th {\n",
       "        text-align: right;\n",
       "    }\n",
       "</style>\n",
       "<table border=\"1\" class=\"dataframe\">\n",
       "  <thead>\n",
       "    <tr style=\"text-align: right;\">\n",
       "      <th></th>\n",
       "      <th>index</th>\n",
       "      <th>api_name</th>\n",
       "    </tr>\n",
       "  </thead>\n",
       "  <tbody>\n",
       "    <tr>\n",
       "      <th>29</th>\n",
       "      <td>LINCS Data Portal API</td>\n",
       "      <td>1</td>\n",
       "    </tr>\n",
       "    <tr>\n",
       "      <th>27</th>\n",
       "      <td>LitVar API</td>\n",
       "      <td>1</td>\n",
       "    </tr>\n",
       "    <tr>\n",
       "      <th>30</th>\n",
       "      <td>Ontology Lookup Service API</td>\n",
       "      <td>1</td>\n",
       "    </tr>\n",
       "    <tr>\n",
       "      <th>28</th>\n",
       "      <td>OpenTarget API</td>\n",
       "      <td>1</td>\n",
       "    </tr>\n",
       "    <tr>\n",
       "      <th>31</th>\n",
       "      <td>QuickGO API</td>\n",
       "      <td>1</td>\n",
       "    </tr>\n",
       "    <tr>\n",
       "      <th>23</th>\n",
       "      <td>BioThings DGIdb API</td>\n",
       "      <td>2</td>\n",
       "    </tr>\n",
       "    <tr>\n",
       "      <th>20</th>\n",
       "      <td>DISEASES API</td>\n",
       "      <td>2</td>\n",
       "    </tr>\n",
       "    <tr>\n",
       "      <th>21</th>\n",
       "      <td>Drug Response KP API</td>\n",
       "      <td>2</td>\n",
       "    </tr>\n",
       "    <tr>\n",
       "      <th>22</th>\n",
       "      <td>EBIgene2phenotype API</td>\n",
       "      <td>2</td>\n",
       "    </tr>\n",
       "    <tr>\n",
       "      <th>24</th>\n",
       "      <td>Human Phenotype Ontology API</td>\n",
       "      <td>2</td>\n",
       "    </tr>\n",
       "    <tr>\n",
       "      <th>26</th>\n",
       "      <td>OpenPredict API</td>\n",
       "      <td>2</td>\n",
       "    </tr>\n",
       "    <tr>\n",
       "      <th>25</th>\n",
       "      <td>TCGA Mutation Frequency KP API</td>\n",
       "      <td>2</td>\n",
       "    </tr>\n",
       "    <tr>\n",
       "      <th>19</th>\n",
       "      <td>Gene Ontology Cellular Component API</td>\n",
       "      <td>4</td>\n",
       "    </tr>\n",
       "    <tr>\n",
       "      <th>17</th>\n",
       "      <td>Gene Ontology Molecular Activity API</td>\n",
       "      <td>4</td>\n",
       "    </tr>\n",
       "    <tr>\n",
       "      <th>18</th>\n",
       "      <td>MGIgene2phenotype API</td>\n",
       "      <td>4</td>\n",
       "    </tr>\n",
       "    <tr>\n",
       "      <th>16</th>\n",
       "      <td>MyVariant.info API</td>\n",
       "      <td>4</td>\n",
       "    </tr>\n",
       "    <tr>\n",
       "      <th>15</th>\n",
       "      <td>UBERON Ontology API</td>\n",
       "      <td>9</td>\n",
       "    </tr>\n",
       "    <tr>\n",
       "      <th>14</th>\n",
       "      <td>Gene Ontology Biological Process API</td>\n",
       "      <td>10</td>\n",
       "    </tr>\n",
       "    <tr>\n",
       "      <th>13</th>\n",
       "      <td>MyChem.info API</td>\n",
       "      <td>10</td>\n",
       "    </tr>\n",
       "    <tr>\n",
       "      <th>12</th>\n",
       "      <td>Text Mining Targeted Association API</td>\n",
       "      <td>12</td>\n",
       "    </tr>\n",
       "    <tr>\n",
       "      <th>11</th>\n",
       "      <td>MyDisease.info API</td>\n",
       "      <td>16</td>\n",
       "    </tr>\n",
       "    <tr>\n",
       "      <th>9</th>\n",
       "      <td>BioLink API</td>\n",
       "      <td>18</td>\n",
       "    </tr>\n",
       "    <tr>\n",
       "      <th>10</th>\n",
       "      <td>MyGene.info API</td>\n",
       "      <td>18</td>\n",
       "    </tr>\n",
       "    <tr>\n",
       "      <th>8</th>\n",
       "      <td>SEMMED Anatomy API</td>\n",
       "      <td>37</td>\n",
       "    </tr>\n",
       "    <tr>\n",
       "      <th>7</th>\n",
       "      <td>SEMMED Biological Process API</td>\n",
       "      <td>67</td>\n",
       "    </tr>\n",
       "    <tr>\n",
       "      <th>6</th>\n",
       "      <td>SEMMED Phenotype API</td>\n",
       "      <td>73</td>\n",
       "    </tr>\n",
       "    <tr>\n",
       "      <th>5</th>\n",
       "      <td>SEMMED Gene API</td>\n",
       "      <td>74</td>\n",
       "    </tr>\n",
       "    <tr>\n",
       "      <th>4</th>\n",
       "      <td>SEMMED Chemical API</td>\n",
       "      <td>93</td>\n",
       "    </tr>\n",
       "    <tr>\n",
       "      <th>3</th>\n",
       "      <td>SEMMED Disease API</td>\n",
       "      <td>96</td>\n",
       "    </tr>\n",
       "    <tr>\n",
       "      <th>2</th>\n",
       "      <td>Multiomics Wellness KP API</td>\n",
       "      <td>128</td>\n",
       "    </tr>\n",
       "    <tr>\n",
       "      <th>1</th>\n",
       "      <td>Text Mining CO-OCCURRENCE API</td>\n",
       "      <td>288</td>\n",
       "    </tr>\n",
       "    <tr>\n",
       "      <th>0</th>\n",
       "      <td>Clinical Risk KP API</td>\n",
       "      <td>294</td>\n",
       "    </tr>\n",
       "  </tbody>\n",
       "</table>\n",
       "</div>"
      ],
      "text/plain": [
       "                                   index  api_name\n",
       "29                 LINCS Data Portal API         1\n",
       "27                            LitVar API         1\n",
       "30           Ontology Lookup Service API         1\n",
       "28                        OpenTarget API         1\n",
       "31                           QuickGO API         1\n",
       "23                   BioThings DGIdb API         2\n",
       "20                          DISEASES API         2\n",
       "21                  Drug Response KP API         2\n",
       "22                 EBIgene2phenotype API         2\n",
       "24          Human Phenotype Ontology API         2\n",
       "26                       OpenPredict API         2\n",
       "25        TCGA Mutation Frequency KP API         2\n",
       "19  Gene Ontology Cellular Component API         4\n",
       "17  Gene Ontology Molecular Activity API         4\n",
       "18                 MGIgene2phenotype API         4\n",
       "16                    MyVariant.info API         4\n",
       "15                   UBERON Ontology API         9\n",
       "14  Gene Ontology Biological Process API        10\n",
       "13                       MyChem.info API        10\n",
       "12  Text Mining Targeted Association API        12\n",
       "11                    MyDisease.info API        16\n",
       "9                            BioLink API        18\n",
       "10                       MyGene.info API        18\n",
       "8                     SEMMED Anatomy API        37\n",
       "7          SEMMED Biological Process API        67\n",
       "6                   SEMMED Phenotype API        73\n",
       "5                        SEMMED Gene API        74\n",
       "4                    SEMMED Chemical API        93\n",
       "3                     SEMMED Disease API        96\n",
       "2             Multiomics Wellness KP API       128\n",
       "1          Text Mining CO-OCCURRENCE API       288\n",
       "0                   Clinical Risk KP API       294"
      ]
     },
     "execution_count": 61,
     "metadata": {},
     "output_type": "execute_result"
    }
   ],
   "source": [
    "operations_summary.api_name.value_counts().reset_index().sort_values(by = [\"api_name\", \"index\"], ascending=[True,True])"
   ]
  },
  {
   "cell_type": "markdown",
   "metadata": {},
   "source": [
    "## Registry API-level summary"
   ]
  },
  {
   "cell_type": "markdown",
   "metadata": {},
   "source": [
    "### Comparing translator tag and x-translator use"
   ]
  },
  {
   "cell_type": "code",
   "execution_count": null,
   "metadata": {
    "ExecuteTime": {
     "end_time": "2021-03-16T05:03:45.141674Z",
     "start_time": "2021-03-16T05:03:45.126173Z"
    }
   },
   "outputs": [],
   "source": [
    "registry_df['hasTranslatorTag'] =  [False if x is None else x for x in registry_df.tags.str.contains('translator')]\n",
    "registry_df['hasXTranslator'] =  [False if x is None else True for x in registry_df.team]\n",
    "registry_df[['hasTranslatorTag', 'hasXTranslator']].value_counts().reset_index(name = \"Num of APIs\")"
   ]
  },
  {
   "cell_type": "markdown",
   "metadata": {},
   "source": [
    "So there are 97 APIs with the \"translator\" tag, and 87 of them currently have the x-translator extension. There is one API with the x-translator extension and no \"translator\" tag. "
   ]
  },
  {
   "cell_type": "code",
   "execution_count": null,
   "metadata": {
    "ExecuteTime": {
     "end_time": "2021-03-16T05:03:50.163950Z",
     "start_time": "2021-03-16T05:03:50.107808Z"
    }
   },
   "outputs": [],
   "source": [
    "## This API doesn't have the translator tag but has x-translator\n",
    "registry_df[(registry_df['hasXTranslator'] == True) & \n",
    "            (registry_df['hasTranslatorTag'] == False)]"
   ]
  },
  {
   "cell_type": "markdown",
   "metadata": {},
   "source": [
    "### Translator-tagged / x-translator APIs"
   ]
  },
  {
   "cell_type": "code",
   "execution_count": null,
   "metadata": {
    "ExecuteTime": {
     "end_time": "2021-03-16T05:03:52.254645Z",
     "start_time": "2021-03-16T05:03:52.245452Z"
    }
   },
   "outputs": [],
   "source": [
    "## grab only the APIs with the translator tag \n",
    "translator_apis = registry_df[(registry_df['hasTranslatorTag']) | \n",
    "            (registry_df['hasXTranslator'])].copy()\n",
    "translator_apis.drop(columns = ['hasTranslatorTag'], inplace = True)\n",
    "translator_apis = translator_apis[['team', 'component', 'name', 'uptimeStatus', 'refreshStatus', 'tags']]\n",
    "translator_apis.sort_values(by=['team', 'component', 'name'], \n",
    "                            ignore_index = True, na_position = 'last', inplace = True)"
   ]
  },
  {
   "cell_type": "markdown",
   "metadata": {},
   "source": [
    "Translator-tagged APIs with x-translator information. Another review may need to be done to address duplicate API registrations / different API registrations for BTE. "
   ]
  },
  {
   "cell_type": "code",
   "execution_count": null,
   "metadata": {
    "ExecuteTime": {
     "end_time": "2021-03-16T05:03:54.187452Z",
     "start_time": "2021-03-16T05:03:54.171643Z"
    }
   },
   "outputs": [],
   "source": [
    "summarytable1 = translator_apis[~ translator_apis['team'].isna()].copy()\n",
    "summarytable1"
   ]
  },
  {
   "cell_type": "markdown",
   "metadata": {},
   "source": [
    "The APIs WITHOUT x-translator information"
   ]
  },
  {
   "cell_type": "code",
   "execution_count": null,
   "metadata": {
    "ExecuteTime": {
     "end_time": "2021-03-16T05:03:56.704192Z",
     "start_time": "2021-03-16T05:03:56.693184Z"
    }
   },
   "outputs": [],
   "source": [
    "## APIs without x-translator information\n",
    "summarytable2 = translator_apis[translator_apis['team'].isna()].copy()\n",
    "summarytable2"
   ]
  },
  {
   "cell_type": "markdown",
   "metadata": {},
   "source": [
    "#### APIs by team"
   ]
  },
  {
   "cell_type": "code",
   "execution_count": null,
   "metadata": {
    "ExecuteTime": {
     "end_time": "2021-03-16T05:04:02.438748Z",
     "start_time": "2021-03-16T05:03:59.355191Z"
    }
   },
   "outputs": [],
   "source": [
    "team_summary = translator_apis.team.value_counts().reset_index()\n",
    "team_summary.columns = ['name', 'Num of APIs']\n",
    "team_summary['plot_names'] = [ '\\n'.join(wrap(i, 30)) for i in team_summary['name']]\n",
    "\n",
    "team_summary.plot.barh(x='plot_names', y='Num of APIs', fontsize = 10, figsize=(11,8), rot=0, \n",
    "                       legend=False, title = \"Num of APIs by team\", xlabel=\"\")\n",
    "## table view\n",
    "team_summary[['name', 'Num of APIs']]"
   ]
  },
  {
   "cell_type": "markdown",
   "metadata": {},
   "source": [
    "#### APIs by component"
   ]
  },
  {
   "cell_type": "code",
   "execution_count": null,
   "metadata": {
    "ExecuteTime": {
     "end_time": "2021-03-16T05:04:07.769614Z",
     "start_time": "2021-03-16T05:04:07.625107Z"
    }
   },
   "outputs": [],
   "source": [
    "component_summary = translator_apis.component.value_counts().reset_index()\n",
    "component_summary\n",
    "component_summary.plot.bar(x='index', y='component', rot=0,\n",
    "                       legend=False, title = \"Num of APIs by team\", xlabel=\"\")"
   ]
  },
  {
   "cell_type": "markdown",
   "metadata": {},
   "source": [
    "#### APIs by uptime status"
   ]
  },
  {
   "cell_type": "code",
   "execution_count": null,
   "metadata": {
    "ExecuteTime": {
     "end_time": "2021-03-16T05:04:10.365125Z",
     "start_time": "2021-03-16T05:04:10.222800Z"
    }
   },
   "outputs": [],
   "source": [
    "status_summary = translator_apis.uptimeStatus.value_counts().reset_index()\n",
    "status_summary\n",
    "status_summary.plot.bar(x='index', y='uptimeStatus', rot=0,\n",
    "                       legend=False, title = \"Num of APIs by team\", xlabel=\"\")"
   ]
  },
  {
   "cell_type": "markdown",
   "metadata": {},
   "source": [
    "## using x-translator and metaKG together"
   ]
  },
  {
   "cell_type": "markdown",
   "metadata": {},
   "source": [
    "The MetaKG is currently based on annotations from x-bte. The operations are all from APIs tagged translator "
   ]
  },
  {
   "cell_type": "markdown",
   "metadata": {},
   "source": [
    "### predicates by team"
   ]
  },
  {
   "cell_type": "code",
   "execution_count": null,
   "metadata": {
    "ExecuteTime": {
     "end_time": "2021-03-16T05:04:14.101143Z",
     "start_time": "2021-03-16T05:04:14.087074Z"
    }
   },
   "outputs": [],
   "source": [
    "operations1 = operations_summary[['predicate', 'api_name', 'api_team']].drop_duplicates()\n",
    "operations1.api_team.value_counts().reset_index(name = 'Num of unique predicates')"
   ]
  },
  {
   "cell_type": "code",
   "execution_count": null,
   "metadata": {},
   "outputs": [],
   "source": []
  }
 ],
 "metadata": {
  "kernelspec": {
   "display_name": "Python 3",
   "language": "python",
   "name": "python3"
  },
  "language_info": {
   "codemirror_mode": {
    "name": "ipython",
    "version": 3
   },
   "file_extension": ".py",
   "mimetype": "text/x-python",
   "name": "python",
   "nbconvert_exporter": "python",
   "pygments_lexer": "ipython3",
   "version": "3.9.4"
  },
  "toc": {
   "base_numbering": 1,
   "nav_menu": {},
   "number_sections": true,
   "sideBar": true,
   "skip_h1_title": true,
   "title_cell": "Table of Contents",
   "title_sidebar": "Contents",
   "toc_cell": false,
   "toc_position": {
    "height": "calc(100% - 180px)",
    "left": "10px",
    "top": "150px",
    "width": "388.333px"
   },
   "toc_section_display": true,
   "toc_window_display": true
  },
  "varInspector": {
   "cols": {
    "lenName": 16,
    "lenType": 16,
    "lenVar": 40
   },
   "kernels_config": {
    "python": {
     "delete_cmd_postfix": "",
     "delete_cmd_prefix": "del ",
     "library": "var_list.py",
     "varRefreshCmd": "print(var_dic_list())"
    },
    "r": {
     "delete_cmd_postfix": ") ",
     "delete_cmd_prefix": "rm(",
     "library": "var_list.r",
     "varRefreshCmd": "cat(var_dic_list()) "
    }
   },
   "types_to_exclude": [
    "module",
    "function",
    "builtin_function_or_method",
    "instance",
    "_Feature"
   ],
   "window_display": false
  }
 },
 "nbformat": 4,
 "nbformat_minor": 4
}
