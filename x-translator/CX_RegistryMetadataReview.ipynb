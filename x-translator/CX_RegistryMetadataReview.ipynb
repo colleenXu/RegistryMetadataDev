{
 "cells": [
  {
   "cell_type": "markdown",
   "metadata": {},
   "source": [
    "# Use to explore and find issues with registry metadata"
   ]
  },
  {
   "cell_type": "markdown",
   "metadata": {},
   "source": [
    "## Setup"
   ]
  },
  {
   "cell_type": "code",
   "execution_count": 33,
   "metadata": {
    "ExecuteTime": {
     "end_time": "2021-03-03T07:12:26.878442Z",
     "start_time": "2021-03-03T07:12:26.875129Z"
    }
   },
   "outputs": [],
   "source": [
    "## CX: allows multiple lines of code to print from one code block\n",
    "from IPython.core.interactiveshell import InteractiveShell\n",
    "InteractiveShell.ast_node_interactivity = \"all\"\n",
    "\n",
    "## show time that this notebook was executed \n",
    "from datetime import datetime\n",
    "\n",
    "## packages to work with objects \n",
    "import re\n",
    "import requests\n",
    "import pandas as pd\n",
    "from textwrap import wrap  ## for plot labels\n",
    "\n",
    "## to get around bugs\n",
    "import nest_asyncio\n",
    "nest_asyncio.apply()"
   ]
  },
  {
   "cell_type": "code",
   "execution_count": 34,
   "metadata": {
    "ExecuteTime": {
     "end_time": "2021-03-03T07:12:30.409557Z",
     "start_time": "2021-03-03T07:12:30.405797Z"
    }
   },
   "outputs": [
    {
     "name": "stdout",
     "output_type": "stream",
     "text": [
      "The time that this notebook was executed is...\n",
      "Local time (PST, West Coast USA): \n",
      "2021-03-02 23:12:30.407262\n",
      "UTC time: \n",
      "2021-03-03 07:12:30.407368\n"
     ]
    }
   ],
   "source": [
    "## record when cell blocks are executed\n",
    "print('The time that this notebook was executed is...')\n",
    "print('Local time (PST, West Coast USA): ')\n",
    "print(datetime.now())\n",
    "print('UTC time: ')\n",
    "print(datetime.utcnow())"
   ]
  },
  {
   "cell_type": "code",
   "execution_count": 35,
   "metadata": {
    "ExecuteTime": {
     "end_time": "2021-03-03T07:12:31.298365Z",
     "start_time": "2021-03-03T07:12:31.147678Z"
    }
   },
   "outputs": [
    {
     "data": {
      "text/plain": [
       "400"
      ]
     },
     "execution_count": 35,
     "metadata": {},
     "output_type": "execute_result"
    }
   ],
   "source": [
    "## old request, doesn't work\n",
    "\n",
    "## setup request\n",
    "headers = {\"content-type\": \"application/json\"}\n",
    "registry_url = \"https://smart-api.info/api/query/?q=%22%22&fields=info%2Ctags%2C_meta.uptime_status&raw=1&size=1000\"\n",
    "\n",
    "## make request: check for success (200)\n",
    "registry_request = requests.get(registry_url, headers=headers)\n",
    "registry_request.status_code"
   ]
  },
  {
   "cell_type": "code",
   "execution_count": 36,
   "metadata": {
    "ExecuteTime": {
     "end_time": "2021-03-03T07:12:31.892019Z",
     "start_time": "2021-03-03T07:12:31.887781Z"
    }
   },
   "outputs": [
    {
     "data": {
      "text/plain": [
       "{'code': 400,\n",
       " 'success': False,\n",
       " 'error': 'Empty body is not a valid JSON. Remove the content-type header, or provide an empty object in the body.'}"
      ]
     },
     "execution_count": 36,
     "metadata": {},
     "output_type": "execute_result"
    }
   ],
   "source": [
    "registry = registry_request.json()\n",
    "registry"
   ]
  },
  {
   "cell_type": "markdown",
   "metadata": {},
   "source": [
    "### Getting and parsing registry info"
   ]
  },
  {
   "cell_type": "code",
   "execution_count": 45,
   "metadata": {
    "ExecuteTime": {
     "end_time": "2021-03-03T07:13:13.651236Z",
     "start_time": "2021-03-03T07:13:13.315479Z"
    }
   },
   "outputs": [
    {
     "data": {
      "text/plain": [
       "200"
      ]
     },
     "execution_count": 45,
     "metadata": {},
     "output_type": "execute_result"
    }
   ],
   "source": [
    "## setup request\n",
    "# headers = {\"content-type\": \"application/json\"}\n",
    "registry_url = \"https://smart-api.info/api/query/?q=__all__&fields=info,tags,_status&raw=1&size=1000\"\n",
    "\n",
    "## make request: check for success (200)\n",
    "registry_request = requests.get(registry_url, headers={})\n",
    "registry_request.status_code"
   ]
  },
  {
   "cell_type": "code",
   "execution_count": 46,
   "metadata": {
    "ExecuteTime": {
     "end_time": "2021-03-03T07:13:14.095593Z",
     "start_time": "2021-03-03T07:13:14.090345Z"
    }
   },
   "outputs": [],
   "source": [
    "registry = registry_request.json()"
   ]
  },
  {
   "cell_type": "code",
   "execution_count": 47,
   "metadata": {
    "ExecuteTime": {
     "end_time": "2021-03-03T07:13:14.670622Z",
     "start_time": "2021-03-03T07:13:14.663484Z"
    }
   },
   "outputs": [
    {
     "data": {
      "text/plain": [
       "{'_index': 'smartapi_docs',\n",
       " '_type': '_doc',\n",
       " '_id': 'be87344696148a41f577aca202ce84df',\n",
       " '_score': 1.0,\n",
       " '_source': {'_status': {'refresh_status': 200,\n",
       "   'refresh_ts': '2021-03-02T08:00:27+00:00',\n",
       "   'uptime_status': 'unknown',\n",
       "   'uptime_ts': '2021-03-02T08:05:13.837329'},\n",
       "  'info': {'termsOfService': 'https://creativecommons.org/licenses/by/4.0/',\n",
       "   'title': 'dcm4chee-arc',\n",
       "   'version': '5.23.0'},\n",
       "  'tags': [{'name': 'QIDO-RS',\n",
       "    'description': 'Query based on ID for DICOM Objects by RESTful Services',\n",
       "    'externalDocs': {'description': 'DICOM PS3.18',\n",
       "     'url': 'http://dicom.nema.org/medical/dicom/current/output/html/part18.html'}},\n",
       "   {'name': 'WADO-RS',\n",
       "    'description': 'Web Access to DICOM Objects by RESTful Services',\n",
       "    'externalDocs': {'description': 'DICOM PS3.18',\n",
       "     'url': 'http://dicom.nema.org/medical/dicom/current/output/html/part18.html'}},\n",
       "   {'name': 'WADO-URI',\n",
       "    'description': 'Web Access to DICOM Objects by URI',\n",
       "    'externalDocs': {'description': 'DICOM PS3.18',\n",
       "     'url': 'http://dicom.nema.org/medical/dicom/current/output/html/part18.html'}},\n",
       "   {'name': 'STOW-RS',\n",
       "    'description': 'Storage over the Web of DICOM Objects by RESTful Services',\n",
       "    'externalDocs': {'description': 'DICOM PS3.18',\n",
       "     'url': 'http://dicom.nema.org/medical/dicom/current/output/html/part18.html'}},\n",
       "   {'name': 'UPS-RS',\n",
       "    'description': 'RESTful interface to the Unified Procedure Step Service SOP Classes',\n",
       "    'externalDocs': {'description': 'DICOM PS3.18',\n",
       "     'url': 'http://dicom.nema.org/medical/dicom/current/output/html/part18.html'}},\n",
       "   {'name': 'AUTH-RS', 'description': 'Authentication/Authorization services'},\n",
       "   {'name': 'ACCESS-RS', 'description': 'Study access control services'},\n",
       "   {'name': 'CTRL-RS', 'description': 'Start/Stop/Reload Archive'},\n",
       "   {'name': 'CONFIG-RS', 'description': 'Configuration Access'},\n",
       "   {'name': 'STAT-RS', 'description': 'Statistics of Archive Content'},\n",
       "   {'name': 'ECHO-RS',\n",
       "    'description': 'Verify connection to external Application Entity'},\n",
       "   {'name': 'FIND-RS',\n",
       "    'description': 'Invoke C-FIND requests on external C-FIND SCP'},\n",
       "   {'name': 'MOVE-RS',\n",
       "    'description': 'Invoke C-MOVE requests on external C-MOVE SCP'},\n",
       "   {'name': 'MOVE-LEGACY-RS',\n",
       "    'description': 'Invoke C-MOVE requests on external C-MOVE SCP - Legacy'},\n",
       "   {'name': 'DIFF-RS',\n",
       "    'description': 'Compare Studies with/between external Archive(s)'},\n",
       "   {'name': 'EXPORT-RS', 'description': 'Export Instances'},\n",
       "   {'name': 'EXPORT-LEGACY-RS',\n",
       "    'description': 'Export Matching Instances - Legacy'},\n",
       "   {'name': 'IMPORT-RS', 'description': 'Import Instances'},\n",
       "   {'name': 'IAN-RS',\n",
       "    'description': 'Notify external IAN SCP about Availability of Instances'},\n",
       "   {'name': 'IAN-LEGACY-RS',\n",
       "    'description': 'Schedule IAN to external archive - Legacy'},\n",
       "   {'name': 'IOCM-RS', 'description': 'Imaging Object Change Management'},\n",
       "   {'name': 'IOCM-LEGACY-RS', 'description': 'Reject Matching - Legacy'},\n",
       "   {'name': 'MONITOR-RS', 'description': 'Archive Monitoring'},\n",
       "   {'name': 'MWL-RS', 'description': 'Modality Worklist Management'},\n",
       "   {'name': 'PAM-RS', 'description': 'Patient Administration Management'},\n",
       "   {'name': 'PDQ-RS', 'description': 'Patient Demographics Query'},\n",
       "   {'name': 'STGCMT-RS',\n",
       "    'description': 'Request Storage Commitment from external Archive'},\n",
       "   {'name': 'STGCMT-LEGACY-RS',\n",
       "    'description': 'Request Storage Commitment of matching entities from external Archive - Legacy'},\n",
       "   {'name': 'STGVER-RS', 'description': 'Storage Verification'},\n",
       "   {'name': 'STGVER-LEGACY-RS',\n",
       "    'description': 'Storage Verification Matching - Legacy'},\n",
       "   {'name': 'IMPAX-REPORT-RS',\n",
       "    'description': 'Query Agfa IMPAX Report Service'},\n",
       "   {'name': 'X-ROAD-RS',\n",
       "    'description': 'Query Estonia National Patient Registry'}]}}"
      ]
     },
     "execution_count": 47,
     "metadata": {},
     "output_type": "execute_result"
    }
   ],
   "source": [
    "registry['hits']['hits'][0]"
   ]
  },
  {
   "cell_type": "code",
   "execution_count": 49,
   "metadata": {
    "ExecuteTime": {
     "end_time": "2021-03-03T07:13:30.743840Z",
     "start_time": "2021-03-03T07:13:30.733562Z"
    }
   },
   "outputs": [],
   "source": [
    "## get response\n",
    "registry = registry_request.json()\n",
    "\n",
    "## parse response to get the information: uptime status, tags, x-translator, api name\n",
    "registry_data = []\n",
    "for ele in registry['hits']['hits']:\n",
    "    tempDict = {'uptimeStatus': ele['_source']['_status'].get('uptime_status'),\n",
    "                'refreshStatus': ele['_source']['_status']['refresh_status'],\n",
    "                'name': ele['_source']['info']['title']}\n",
    "    \n",
    "    if ele['_source'].get('tags'):\n",
    "        temp = [i.get('name') for i in ele['_source']['tags']]\n",
    "        tempDict.update({\"tags\": temp})\n",
    "    else:\n",
    "        tempDict.update({\"tags\": []})\n",
    "    \n",
    "    if ele['_source']['info'].get('x-translator'):\n",
    "        tempDict.update({            \n",
    "            'team': ele['_source']['info']['x-translator'].get('team'),\n",
    "            'component': ele['_source']['info']['x-translator'].get('component')\n",
    "        })\n",
    "    else:\n",
    "        tempDict.update({            \n",
    "            'team': [],\n",
    "            'component': None\n",
    "        })\n",
    "    registry_data.append(tempDict)"
   ]
  },
  {
   "cell_type": "code",
   "execution_count": 50,
   "metadata": {
    "ExecuteTime": {
     "end_time": "2021-03-03T07:13:32.297941Z",
     "start_time": "2021-03-03T07:13:32.290845Z"
    }
   },
   "outputs": [
    {
     "data": {
      "text/plain": [
       "(210, 6)"
      ]
     },
     "execution_count": 50,
     "metadata": {},
     "output_type": "execute_result"
    }
   ],
   "source": [
    "registry_df = pd.DataFrame.from_dict(registry_data)\n",
    "registry_df = registry_df[['name', 'team', 'component', 'uptimeStatus', 'refreshStatus', 'tags']]\n",
    "\n",
    "registry_df.shape"
   ]
  },
  {
   "cell_type": "markdown",
   "metadata": {},
   "source": [
    "### Issues"
   ]
  },
  {
   "cell_type": "code",
   "execution_count": 51,
   "metadata": {
    "ExecuteTime": {
     "end_time": "2021-03-03T07:13:34.456913Z",
     "start_time": "2021-03-03T07:13:34.443750Z"
    }
   },
   "outputs": [
    {
     "data": {
      "text/html": [
       "<div>\n",
       "<style scoped>\n",
       "    .dataframe tbody tr th:only-of-type {\n",
       "        vertical-align: middle;\n",
       "    }\n",
       "\n",
       "    .dataframe tbody tr th {\n",
       "        vertical-align: top;\n",
       "    }\n",
       "\n",
       "    .dataframe thead th {\n",
       "        text-align: right;\n",
       "    }\n",
       "</style>\n",
       "<table border=\"1\" class=\"dataframe\">\n",
       "  <thead>\n",
       "    <tr style=\"text-align: right;\">\n",
       "      <th></th>\n",
       "      <th>name</th>\n",
       "      <th>team</th>\n",
       "      <th>component</th>\n",
       "      <th>uptimeStatus</th>\n",
       "      <th>refreshStatus</th>\n",
       "      <th>tags</th>\n",
       "    </tr>\n",
       "  </thead>\n",
       "  <tbody>\n",
       "    <tr>\n",
       "      <th>2</th>\n",
       "      <td>RTX KG2</td>\n",
       "      <td>Expander Agent</td>\n",
       "      <td>ARA</td>\n",
       "      <td>unknown</td>\n",
       "      <td>200</td>\n",
       "      <td>[predicates, query, translator, reasoner, entity]</td>\n",
       "    </tr>\n",
       "    <tr>\n",
       "      <th>13</th>\n",
       "      <td>ARAX Translator Reasoner</td>\n",
       "      <td>Expander Agent</td>\n",
       "      <td>ARA</td>\n",
       "      <td>good</td>\n",
       "      <td>200</td>\n",
       "      <td>[predicates, query, translator, reasoner, resp...</td>\n",
       "    </tr>\n",
       "    <tr>\n",
       "      <th>112</th>\n",
       "      <td>Ontology-KP API</td>\n",
       "      <td>SRI</td>\n",
       "      <td>KP</td>\n",
       "      <td>unknown</td>\n",
       "      <td>499</td>\n",
       "      <td>[translator]</td>\n",
       "    </tr>\n",
       "    <tr>\n",
       "      <th>134</th>\n",
       "      <td>CAM-KP API</td>\n",
       "      <td>Exposures Provider</td>\n",
       "      <td>KP</td>\n",
       "      <td>unknown</td>\n",
       "      <td>200</td>\n",
       "      <td>[translator]</td>\n",
       "    </tr>\n",
       "  </tbody>\n",
       "</table>\n",
       "</div>"
      ],
      "text/plain": [
       "                         name                team component uptimeStatus  \\\n",
       "2                     RTX KG2      Expander Agent       ARA      unknown   \n",
       "13   ARAX Translator Reasoner      Expander Agent       ARA         good   \n",
       "112           Ontology-KP API                 SRI        KP      unknown   \n",
       "134                CAM-KP API  Exposures Provider        KP      unknown   \n",
       "\n",
       "     refreshStatus                                               tags  \n",
       "2              200  [predicates, query, translator, reasoner, entity]  \n",
       "13             200  [predicates, query, translator, reasoner, resp...  \n",
       "112            499                                       [translator]  \n",
       "134            200                                       [translator]  "
      ]
     },
     "execution_count": 51,
     "metadata": {},
     "output_type": "execute_result"
    }
   ],
   "source": [
    "## currently not a problem since changed schema to allow team to be a string \n",
    "##   (as long as it matches one of the enums)\n",
    "teamNotList = [True if not isinstance(x, list) else False for x in registry_df['team']]\n",
    "registry_df[teamNotList]"
   ]
  },
  {
   "cell_type": "code",
   "execution_count": 53,
   "metadata": {
    "ExecuteTime": {
     "end_time": "2021-03-03T07:13:44.819113Z",
     "start_time": "2021-03-03T07:13:44.807740Z"
    }
   },
   "outputs": [
    {
     "data": {
      "text/html": [
       "<div>\n",
       "<style scoped>\n",
       "    .dataframe tbody tr th:only-of-type {\n",
       "        vertical-align: middle;\n",
       "    }\n",
       "\n",
       "    .dataframe tbody tr th {\n",
       "        vertical-align: top;\n",
       "    }\n",
       "\n",
       "    .dataframe thead th {\n",
       "        text-align: right;\n",
       "    }\n",
       "</style>\n",
       "<table border=\"1\" class=\"dataframe\">\n",
       "  <thead>\n",
       "    <tr style=\"text-align: right;\">\n",
       "      <th></th>\n",
       "      <th>name</th>\n",
       "      <th>team</th>\n",
       "      <th>component</th>\n",
       "      <th>uptimeStatus</th>\n",
       "      <th>refreshStatus</th>\n",
       "      <th>tags</th>\n",
       "    </tr>\n",
       "  </thead>\n",
       "  <tbody>\n",
       "    <tr>\n",
       "      <th>112</th>\n",
       "      <td>Ontology-KP API</td>\n",
       "      <td>SRI</td>\n",
       "      <td>KP</td>\n",
       "      <td>unknown</td>\n",
       "      <td>499</td>\n",
       "      <td>[translator]</td>\n",
       "    </tr>\n",
       "  </tbody>\n",
       "</table>\n",
       "</div>"
      ],
      "text/plain": [
       "                name team component uptimeStatus  refreshStatus          tags\n",
       "112  Ontology-KP API  SRI        KP      unknown            499  [translator]"
      ]
     },
     "execution_count": 53,
     "metadata": {},
     "output_type": "execute_result"
    }
   ],
   "source": [
    "## allow these entries' team value (currently not in enum)\n",
    "registry_df[registry_df['name'].str.contains('Ontology-KP')]"
   ]
  },
  {
   "cell_type": "code",
   "execution_count": 54,
   "metadata": {
    "ExecuteTime": {
     "end_time": "2021-03-03T07:13:46.803424Z",
     "start_time": "2021-03-03T07:13:46.792230Z"
    }
   },
   "outputs": [
    {
     "data": {
      "text/html": [
       "<div>\n",
       "<style scoped>\n",
       "    .dataframe tbody tr th:only-of-type {\n",
       "        vertical-align: middle;\n",
       "    }\n",
       "\n",
       "    .dataframe tbody tr th {\n",
       "        vertical-align: top;\n",
       "    }\n",
       "\n",
       "    .dataframe thead th {\n",
       "        text-align: right;\n",
       "    }\n",
       "</style>\n",
       "<table border=\"1\" class=\"dataframe\">\n",
       "  <thead>\n",
       "    <tr style=\"text-align: right;\">\n",
       "      <th></th>\n",
       "      <th>name</th>\n",
       "      <th>team</th>\n",
       "      <th>component</th>\n",
       "      <th>uptimeStatus</th>\n",
       "      <th>refreshStatus</th>\n",
       "      <th>tags</th>\n",
       "    </tr>\n",
       "  </thead>\n",
       "  <tbody>\n",
       "    <tr>\n",
       "      <th>57</th>\n",
       "      <td>Connections Hypothesis Provider API</td>\n",
       "      <td>[Connections Hypothesis Provider]</td>\n",
       "      <td>KP</td>\n",
       "      <td>unknown</td>\n",
       "      <td>200</td>\n",
       "      <td>[bayesian, translator, 1.0.0]</td>\n",
       "    </tr>\n",
       "    <tr>\n",
       "      <th>145</th>\n",
       "      <td>Connections Hypothesis Provider API</td>\n",
       "      <td>[Connections Hypothesis Provider]</td>\n",
       "      <td>KP</td>\n",
       "      <td>unknown</td>\n",
       "      <td>200</td>\n",
       "      <td>[bayesian, translator, 1.0.0]</td>\n",
       "    </tr>\n",
       "  </tbody>\n",
       "</table>\n",
       "</div>"
      ],
      "text/plain": [
       "                                    name                               team  \\\n",
       "57   Connections Hypothesis Provider API  [Connections Hypothesis Provider]   \n",
       "145  Connections Hypothesis Provider API  [Connections Hypothesis Provider]   \n",
       "\n",
       "    component uptimeStatus  refreshStatus                           tags  \n",
       "57         KP      unknown            200  [bayesian, translator, 1.0.0]  \n",
       "145        KP      unknown            200  [bayesian, translator, 1.0.0]  "
      ]
     },
     "execution_count": 54,
     "metadata": {},
     "output_type": "execute_result"
    }
   ],
   "source": [
    "## looks like accidentally two identical registrations? \n",
    "## see http://smart-api.info/registry?q=855adaa128ce5aa58a091d99e520d396 vs \n",
    "## http://smart-api.info/registry?q=da159a55e799a163ee23783edcb11725\n",
    "registry_df[registry_df['name'].str.startswith('Connections')]"
   ]
  },
  {
   "cell_type": "code",
   "execution_count": 55,
   "metadata": {
    "ExecuteTime": {
     "end_time": "2021-03-03T07:13:47.513611Z",
     "start_time": "2021-03-03T07:13:47.491787Z"
    }
   },
   "outputs": [
    {
     "data": {
      "text/html": [
       "<div>\n",
       "<style scoped>\n",
       "    .dataframe tbody tr th:only-of-type {\n",
       "        vertical-align: middle;\n",
       "    }\n",
       "\n",
       "    .dataframe tbody tr th {\n",
       "        vertical-align: top;\n",
       "    }\n",
       "\n",
       "    .dataframe thead th {\n",
       "        text-align: right;\n",
       "    }\n",
       "</style>\n",
       "<table border=\"1\" class=\"dataframe\">\n",
       "  <thead>\n",
       "    <tr style=\"text-align: right;\">\n",
       "      <th></th>\n",
       "      <th>name</th>\n",
       "      <th>team</th>\n",
       "      <th>component</th>\n",
       "      <th>uptimeStatus</th>\n",
       "      <th>refreshStatus</th>\n",
       "      <th>tags</th>\n",
       "    </tr>\n",
       "  </thead>\n",
       "  <tbody>\n",
       "    <tr>\n",
       "      <th>89</th>\n",
       "      <td>Clinical Risk KP API</td>\n",
       "      <td>[Multiomics Provider, Service Provider]</td>\n",
       "      <td>KP</td>\n",
       "      <td>good</td>\n",
       "      <td>200</td>\n",
       "      <td>[disease, association, annotation, query, tran...</td>\n",
       "    </tr>\n",
       "    <tr>\n",
       "      <th>125</th>\n",
       "      <td>Clinical Risk KP API</td>\n",
       "      <td>[Multiomics Provider, Service Provider]</td>\n",
       "      <td>KP</td>\n",
       "      <td>good</td>\n",
       "      <td>200</td>\n",
       "      <td>[disease, drug, chemical_substance, phenotypic...</td>\n",
       "    </tr>\n",
       "  </tbody>\n",
       "</table>\n",
       "</div>"
      ],
      "text/plain": [
       "                     name                                     team component  \\\n",
       "89   Clinical Risk KP API  [Multiomics Provider, Service Provider]        KP   \n",
       "125  Clinical Risk KP API  [Multiomics Provider, Service Provider]        KP   \n",
       "\n",
       "    uptimeStatus  refreshStatus  \\\n",
       "89          good            200   \n",
       "125         good            200   \n",
       "\n",
       "                                                  tags  \n",
       "89   [disease, association, annotation, query, tran...  \n",
       "125  [disease, drug, chemical_substance, phenotypic...  "
      ]
     },
     "execution_count": 55,
     "metadata": {},
     "output_type": "execute_result"
    },
    {
     "data": {
      "text/html": [
       "<div>\n",
       "<style scoped>\n",
       "    .dataframe tbody tr th:only-of-type {\n",
       "        vertical-align: middle;\n",
       "    }\n",
       "\n",
       "    .dataframe tbody tr th {\n",
       "        vertical-align: top;\n",
       "    }\n",
       "\n",
       "    .dataframe thead th {\n",
       "        text-align: right;\n",
       "    }\n",
       "</style>\n",
       "<table border=\"1\" class=\"dataframe\">\n",
       "  <thead>\n",
       "    <tr style=\"text-align: right;\">\n",
       "      <th></th>\n",
       "      <th>name</th>\n",
       "      <th>team</th>\n",
       "      <th>component</th>\n",
       "      <th>uptimeStatus</th>\n",
       "      <th>refreshStatus</th>\n",
       "      <th>tags</th>\n",
       "    </tr>\n",
       "  </thead>\n",
       "  <tbody>\n",
       "    <tr>\n",
       "      <th>4</th>\n",
       "      <td>Genetics Provider API</td>\n",
       "      <td>[Genetics Provider]</td>\n",
       "      <td>KP</td>\n",
       "      <td>unknown</td>\n",
       "      <td>299</td>\n",
       "      <td>[0.9.2, translator, reasoner]</td>\n",
       "    </tr>\n",
       "    <tr>\n",
       "      <th>72</th>\n",
       "      <td>Genetics Provider</td>\n",
       "      <td>[Genetics Provider]</td>\n",
       "      <td>KP</td>\n",
       "      <td>unknown</td>\n",
       "      <td>200</td>\n",
       "      <td>[1.0.0, translator, x-translator, reasoner, me...</td>\n",
       "    </tr>\n",
       "  </tbody>\n",
       "</table>\n",
       "</div>"
      ],
      "text/plain": [
       "                     name                 team component uptimeStatus  \\\n",
       "4   Genetics Provider API  [Genetics Provider]        KP      unknown   \n",
       "72      Genetics Provider  [Genetics Provider]        KP      unknown   \n",
       "\n",
       "    refreshStatus                                               tags  \n",
       "4             299                      [0.9.2, translator, reasoner]  \n",
       "72            200  [1.0.0, translator, x-translator, reasoner, me...  "
      ]
     },
     "execution_count": 55,
     "metadata": {},
     "output_type": "execute_result"
    }
   ],
   "source": [
    "## are these two different TRAPI versions? What's going on here?\n",
    "registry_df[registry_df['name'].str.startswith('Clinical Risk')]\n",
    "registry_df[registry_df['name'].str.contains('Genetics')]"
   ]
  },
  {
   "cell_type": "code",
   "execution_count": 56,
   "metadata": {
    "ExecuteTime": {
     "end_time": "2021-03-03T07:13:49.860951Z",
     "start_time": "2021-03-03T07:13:49.830537Z"
    }
   },
   "outputs": [
    {
     "data": {
      "text/html": [
       "<div>\n",
       "<style scoped>\n",
       "    .dataframe tbody tr th:only-of-type {\n",
       "        vertical-align: middle;\n",
       "    }\n",
       "\n",
       "    .dataframe tbody tr th {\n",
       "        vertical-align: top;\n",
       "    }\n",
       "\n",
       "    .dataframe thead th {\n",
       "        text-align: right;\n",
       "    }\n",
       "</style>\n",
       "<table border=\"1\" class=\"dataframe\">\n",
       "  <thead>\n",
       "    <tr style=\"text-align: right;\">\n",
       "      <th></th>\n",
       "      <th>name</th>\n",
       "      <th>team</th>\n",
       "      <th>component</th>\n",
       "      <th>uptimeStatus</th>\n",
       "      <th>refreshStatus</th>\n",
       "      <th>tags</th>\n",
       "    </tr>\n",
       "  </thead>\n",
       "  <tbody>\n",
       "    <tr>\n",
       "      <th>49</th>\n",
       "      <td>MyGene.info API (for test)</td>\n",
       "      <td>[]</td>\n",
       "      <td>None</td>\n",
       "      <td>unknown</td>\n",
       "      <td>499</td>\n",
       "      <td>[Genes]</td>\n",
       "    </tr>\n",
       "    <tr>\n",
       "      <th>68</th>\n",
       "      <td>MyGene.info API</td>\n",
       "      <td>[Service Provider]</td>\n",
       "      <td>KP</td>\n",
       "      <td>good</td>\n",
       "      <td>299</td>\n",
       "      <td>[gene, annotation, query, translator, biothings]</td>\n",
       "    </tr>\n",
       "  </tbody>\n",
       "</table>\n",
       "</div>"
      ],
      "text/plain": [
       "                          name                team component uptimeStatus  \\\n",
       "49  MyGene.info API (for test)                  []      None      unknown   \n",
       "68             MyGene.info API  [Service Provider]        KP         good   \n",
       "\n",
       "    refreshStatus                                              tags  \n",
       "49            499                                           [Genes]  \n",
       "68            299  [gene, annotation, query, translator, biothings]  "
      ]
     },
     "execution_count": 56,
     "metadata": {},
     "output_type": "execute_result"
    },
    {
     "data": {
      "text/html": [
       "<div>\n",
       "<style scoped>\n",
       "    .dataframe tbody tr th:only-of-type {\n",
       "        vertical-align: middle;\n",
       "    }\n",
       "\n",
       "    .dataframe tbody tr th {\n",
       "        vertical-align: top;\n",
       "    }\n",
       "\n",
       "    .dataframe thead th {\n",
       "        text-align: right;\n",
       "    }\n",
       "</style>\n",
       "<table border=\"1\" class=\"dataframe\">\n",
       "  <thead>\n",
       "    <tr style=\"text-align: right;\">\n",
       "      <th></th>\n",
       "      <th>name</th>\n",
       "      <th>team</th>\n",
       "      <th>component</th>\n",
       "      <th>uptimeStatus</th>\n",
       "      <th>refreshStatus</th>\n",
       "      <th>tags</th>\n",
       "    </tr>\n",
       "  </thead>\n",
       "  <tbody>\n",
       "    <tr>\n",
       "      <th>15</th>\n",
       "      <td>MyVariant.info API</td>\n",
       "      <td>[Service Provider]</td>\n",
       "      <td>KP</td>\n",
       "      <td>good</td>\n",
       "      <td>299</td>\n",
       "      <td>[variant, query, metadata, translator, biothings]</td>\n",
       "    </tr>\n",
       "    <tr>\n",
       "      <th>128</th>\n",
       "      <td>MyVariant.info API</td>\n",
       "      <td>[Service Provider]</td>\n",
       "      <td>KP</td>\n",
       "      <td>unknown</td>\n",
       "      <td>200</td>\n",
       "      <td>[variant, annotation, query, translator]</td>\n",
       "    </tr>\n",
       "  </tbody>\n",
       "</table>\n",
       "</div>"
      ],
      "text/plain": [
       "                   name                team component uptimeStatus  \\\n",
       "15   MyVariant.info API  [Service Provider]        KP         good   \n",
       "128  MyVariant.info API  [Service Provider]        KP      unknown   \n",
       "\n",
       "     refreshStatus                                               tags  \n",
       "15             299  [variant, query, metadata, translator, biothings]  \n",
       "128            200           [variant, annotation, query, translator]  "
      ]
     },
     "execution_count": 56,
     "metadata": {},
     "output_type": "execute_result"
    },
    {
     "data": {
      "text/html": [
       "<div>\n",
       "<style scoped>\n",
       "    .dataframe tbody tr th:only-of-type {\n",
       "        vertical-align: middle;\n",
       "    }\n",
       "\n",
       "    .dataframe tbody tr th {\n",
       "        vertical-align: top;\n",
       "    }\n",
       "\n",
       "    .dataframe thead th {\n",
       "        text-align: right;\n",
       "    }\n",
       "</style>\n",
       "<table border=\"1\" class=\"dataframe\">\n",
       "  <thead>\n",
       "    <tr style=\"text-align: right;\">\n",
       "      <th></th>\n",
       "      <th>name</th>\n",
       "      <th>team</th>\n",
       "      <th>component</th>\n",
       "      <th>uptimeStatus</th>\n",
       "      <th>refreshStatus</th>\n",
       "      <th>tags</th>\n",
       "    </tr>\n",
       "  </thead>\n",
       "  <tbody>\n",
       "    <tr>\n",
       "      <th>20</th>\n",
       "      <td>MyDisease.info API</td>\n",
       "      <td>[]</td>\n",
       "      <td>None</td>\n",
       "      <td>good</td>\n",
       "      <td>404</td>\n",
       "      <td>[disease, query, metadata]</td>\n",
       "    </tr>\n",
       "    <tr>\n",
       "      <th>52</th>\n",
       "      <td>mydisease.info API</td>\n",
       "      <td>[Service Provider]</td>\n",
       "      <td>KP</td>\n",
       "      <td>good</td>\n",
       "      <td>299</td>\n",
       "      <td>[disease, annotation, query, translator, bioth...</td>\n",
       "    </tr>\n",
       "  </tbody>\n",
       "</table>\n",
       "</div>"
      ],
      "text/plain": [
       "                  name                team component uptimeStatus  \\\n",
       "20  MyDisease.info API                  []      None         good   \n",
       "52  mydisease.info API  [Service Provider]        KP         good   \n",
       "\n",
       "    refreshStatus                                               tags  \n",
       "20            404                         [disease, query, metadata]  \n",
       "52            299  [disease, annotation, query, translator, bioth...  "
      ]
     },
     "execution_count": 56,
     "metadata": {},
     "output_type": "execute_result"
    }
   ],
   "source": [
    "## these two versions were....registered by diff people?\n",
    "registry_df[registry_df['name'].str.startswith('MyGene.info')]\n",
    "registry_df[registry_df['name'].str.startswith('MyVariant.info')]\n",
    "registry_df[registry_df['name'].str.startswith('mydisease') | \n",
    "            registry_df['name'].str.startswith('MyDisease')]"
   ]
  },
  {
   "cell_type": "markdown",
   "metadata": {},
   "source": [
    "### Finishing that parsing"
   ]
  },
  {
   "cell_type": "markdown",
   "metadata": {},
   "source": [
    "Having team as an array is good when there is more than one team involved in making the API (this happens often with Service Provider). \n",
    "\n",
    "Having team (and tags) as an array is bad when you want to group-by/summarize....so for now I turned them to strings"
   ]
  },
  {
   "cell_type": "code",
   "execution_count": 57,
   "metadata": {
    "ExecuteTime": {
     "end_time": "2021-03-03T07:13:53.136531Z",
     "start_time": "2021-03-03T07:13:53.130913Z"
    }
   },
   "outputs": [],
   "source": [
    "## changing the column to strings to make it easier to sort values\n",
    "registry_df['team'] = [\",\".join(x) if isinstance(x, list) else x for x in registry_df['team']]\n",
    "registry_df['tags'] = [\",\".join(x) if isinstance(x, list) else x for x in registry_df['tags']]\n",
    "\n",
    "## replacing empty strings with None\n",
    "registry_df['team'] = [None if not x else x for x in registry_df['team']]\n",
    "registry_df['tags'] = [None if not x else x for x in registry_df['tags']]"
   ]
  },
  {
   "cell_type": "markdown",
   "metadata": {},
   "source": [
    "### Getting and parsing metaKG info"
   ]
  },
  {
   "cell_type": "markdown",
   "metadata": {},
   "source": [
    "The MetaKG is currently based on annotations from x-bte. The operations are all from APIs tagged translator "
   ]
  },
  {
   "cell_type": "code",
   "execution_count": 58,
   "metadata": {
    "ExecuteTime": {
     "end_time": "2021-03-03T07:13:55.083116Z",
     "start_time": "2021-03-03T07:13:54.903287Z"
    }
   },
   "outputs": [
    {
     "data": {
      "text/plain": [
       "200"
      ]
     },
     "execution_count": 58,
     "metadata": {},
     "output_type": "execute_result"
    }
   ],
   "source": [
    "headers = {\"content-type\": \"application/json\"}\n",
    "\n",
    "metaKG_url = \"https://smart-api.info/api/metakg\"\n",
    "\n",
    "metaKG_request = requests.get(metaKG_url, headers=headers)\n",
    "metaKG_request.status_code\n",
    "## if the output is successful, code 200"
   ]
  },
  {
   "cell_type": "code",
   "execution_count": 59,
   "metadata": {
    "ExecuteTime": {
     "end_time": "2021-03-03T07:13:55.776894Z",
     "start_time": "2021-03-03T07:13:55.767275Z"
    }
   },
   "outputs": [],
   "source": [
    "metaKG = metaKG_request.json()"
   ]
  },
  {
   "cell_type": "code",
   "execution_count": 60,
   "metadata": {
    "ExecuteTime": {
     "end_time": "2021-03-03T07:13:56.198051Z",
     "start_time": "2021-03-03T07:13:56.187532Z"
    }
   },
   "outputs": [],
   "source": [
    "metaKG_operations = []\n",
    "for edge in metaKG['associations']:\n",
    "    tempdict = {\n",
    "        \"subject\": edge['subject'],\n",
    "        \"object\": edge['object'],\n",
    "        \"predicate\": edge['predicate'],\n",
    "        \"provided_by\": edge.get('provided_by'),\n",
    "        \"api_name\": edge['api']['name']\n",
    "    }\n",
    "    if edge['api'].get('x-translator'):\n",
    "        tempteam = edge['api']['x-translator'].get('team')\n",
    "        if isinstance(tempteam, list):\n",
    "            tempteam = \",\".join(tempteam)\n",
    "            if not tempteam:\n",
    "                tempteam = None  \n",
    "        tempdict.update({\n",
    "            \"api_team\": tempteam,\n",
    "            \"api_component\": edge['api']['x-translator'].get('component'),\n",
    "        })\n",
    "    else:\n",
    "        tempdict.update({\n",
    "            \"api_team\": None,\n",
    "            \"api_component\": None,\n",
    "        })\n",
    "    metaKG_operations.append(tempdict)"
   ]
  },
  {
   "cell_type": "code",
   "execution_count": 61,
   "metadata": {
    "ExecuteTime": {
     "end_time": "2021-03-03T07:13:57.832883Z",
     "start_time": "2021-03-03T07:13:57.825054Z"
    }
   },
   "outputs": [
    {
     "data": {
      "text/plain": [
       "(1283, 7)"
      ]
     },
     "execution_count": 61,
     "metadata": {},
     "output_type": "execute_result"
    }
   ],
   "source": [
    "operations_summary = pd.DataFrame.from_dict(metaKG_operations)\n",
    "operations_summary.shape\n",
    "## describes this many operations"
   ]
  },
  {
   "cell_type": "markdown",
   "metadata": {},
   "source": [
    "### Issues around metaKG metadata"
   ]
  },
  {
   "cell_type": "markdown",
   "metadata": {},
   "source": [
    "Previously there were more APIs specified (SEMMED, Automat) that are now missing..."
   ]
  },
  {
   "cell_type": "code",
   "execution_count": 62,
   "metadata": {
    "ExecuteTime": {
     "end_time": "2021-03-03T07:13:59.878796Z",
     "start_time": "2021-03-03T07:13:59.872968Z"
    }
   },
   "outputs": [
    {
     "data": {
      "text/plain": [
       "Clinical Risk KP API                    308\n",
       "Text Mining CO-OCCURRENCE API           288\n",
       "Multiomics Wellness KP API              128\n",
       "SEMMED Disease API                       96\n",
       "SEMMED Chemical API                      93\n",
       "SEMMED Gene API                          74\n",
       "SEMMED Phenotype API                     73\n",
       "SEMMED Biological Process API            67\n",
       "SEMMED Anatomy API                       37\n",
       "BioLink API                              18\n",
       "mydisease.info API                       13\n",
       "Text Mining Targeted Association API     12\n",
       "MyGene.info API                          10\n",
       "MyChem.info API                          10\n",
       "Gene Ontology Biological Process API     10\n",
       "UBERON Ontology API                       9\n",
       "Gene Ontology Cellular Component API      4\n",
       "MyVariant.info API                        4\n",
       "MGIgene2phenotype API                     4\n",
       "Gene Ontology Molecular Activity API      4\n",
       "CTD API                                   2\n",
       "OpenPredict API 🔮🐍                        2\n",
       "BioThings DGIdb API                       2\n",
       "Human Phenotype Ontology API              2\n",
       "EBIgene2phenotype API                     2\n",
       "DISEASES API                              2\n",
       "TCGA Mutation Frequency KP API            2\n",
       "Drug Response KP API                      2\n",
       "QuickGO API                               1\n",
       "Ontology Lookup Service API               1\n",
       "OpenTarget API                            1\n",
       "LINCS Data Portal API                     1\n",
       "LitVar API                                1\n",
       "Name: api_name, dtype: int64"
      ]
     },
     "execution_count": 62,
     "metadata": {},
     "output_type": "execute_result"
    }
   ],
   "source": [
    "operations_summary.api_name.value_counts()"
   ]
  },
  {
   "cell_type": "markdown",
   "metadata": {},
   "source": [
    "## Registry API-level summary"
   ]
  },
  {
   "cell_type": "markdown",
   "metadata": {},
   "source": [
    "### Comparing translator tag and x-translator use"
   ]
  },
  {
   "cell_type": "code",
   "execution_count": 63,
   "metadata": {
    "ExecuteTime": {
     "end_time": "2021-03-03T07:14:02.350061Z",
     "start_time": "2021-03-03T07:14:02.334033Z"
    }
   },
   "outputs": [
    {
     "data": {
      "text/html": [
       "<div>\n",
       "<style scoped>\n",
       "    .dataframe tbody tr th:only-of-type {\n",
       "        vertical-align: middle;\n",
       "    }\n",
       "\n",
       "    .dataframe tbody tr th {\n",
       "        vertical-align: top;\n",
       "    }\n",
       "\n",
       "    .dataframe thead th {\n",
       "        text-align: right;\n",
       "    }\n",
       "</style>\n",
       "<table border=\"1\" class=\"dataframe\">\n",
       "  <thead>\n",
       "    <tr style=\"text-align: right;\">\n",
       "      <th></th>\n",
       "      <th>hasTranslatorTag</th>\n",
       "      <th>hasXTranslator</th>\n",
       "      <th>Num of APIs</th>\n",
       "    </tr>\n",
       "  </thead>\n",
       "  <tbody>\n",
       "    <tr>\n",
       "      <th>0</th>\n",
       "      <td>False</td>\n",
       "      <td>False</td>\n",
       "      <td>112</td>\n",
       "    </tr>\n",
       "    <tr>\n",
       "      <th>1</th>\n",
       "      <td>True</td>\n",
       "      <td>True</td>\n",
       "      <td>84</td>\n",
       "    </tr>\n",
       "    <tr>\n",
       "      <th>2</th>\n",
       "      <td>True</td>\n",
       "      <td>False</td>\n",
       "      <td>13</td>\n",
       "    </tr>\n",
       "    <tr>\n",
       "      <th>3</th>\n",
       "      <td>False</td>\n",
       "      <td>True</td>\n",
       "      <td>1</td>\n",
       "    </tr>\n",
       "  </tbody>\n",
       "</table>\n",
       "</div>"
      ],
      "text/plain": [
       "   hasTranslatorTag  hasXTranslator  Num of APIs\n",
       "0             False           False          112\n",
       "1              True            True           84\n",
       "2              True           False           13\n",
       "3             False            True            1"
      ]
     },
     "execution_count": 63,
     "metadata": {},
     "output_type": "execute_result"
    }
   ],
   "source": [
    "registry_df['hasTranslatorTag'] =  [False if x is None else x for x in registry_df.tags.str.contains('translator')]\n",
    "registry_df['hasXTranslator'] =  [False if x is None else True for x in registry_df.team]\n",
    "registry_df[['hasTranslatorTag', 'hasXTranslator']].value_counts().reset_index(name = \"Num of APIs\")"
   ]
  },
  {
   "cell_type": "code",
   "execution_count": 64,
   "metadata": {
    "ExecuteTime": {
     "end_time": "2021-03-03T07:14:04.347607Z",
     "start_time": "2021-03-03T07:14:04.332290Z"
    }
   },
   "outputs": [
    {
     "data": {
      "text/html": [
       "<div>\n",
       "<style scoped>\n",
       "    .dataframe tbody tr th:only-of-type {\n",
       "        vertical-align: middle;\n",
       "    }\n",
       "\n",
       "    .dataframe tbody tr th {\n",
       "        vertical-align: top;\n",
       "    }\n",
       "\n",
       "    .dataframe thead th {\n",
       "        text-align: right;\n",
       "    }\n",
       "</style>\n",
       "<table border=\"1\" class=\"dataframe\">\n",
       "  <thead>\n",
       "    <tr style=\"text-align: right;\">\n",
       "      <th></th>\n",
       "      <th>name</th>\n",
       "      <th>team</th>\n",
       "      <th>component</th>\n",
       "      <th>uptimeStatus</th>\n",
       "      <th>refreshStatus</th>\n",
       "      <th>hasTranslatorTag</th>\n",
       "      <th>hasXTranslator</th>\n",
       "    </tr>\n",
       "  </thead>\n",
       "  <tbody>\n",
       "    <tr>\n",
       "      <th>22</th>\n",
       "      <td>Socio-Environmental Exposures API</td>\n",
       "      <td>None</td>\n",
       "      <td>None</td>\n",
       "      <td>incompatible</td>\n",
       "      <td>404</td>\n",
       "      <td>True</td>\n",
       "      <td>False</td>\n",
       "    </tr>\n",
       "    <tr>\n",
       "      <th>61</th>\n",
       "      <td>Big GIM(Gene Interaction Miner)</td>\n",
       "      <td>None</td>\n",
       "      <td>None</td>\n",
       "      <td>unknown</td>\n",
       "      <td>500</td>\n",
       "      <td>True</td>\n",
       "      <td>False</td>\n",
       "    </tr>\n",
       "    <tr>\n",
       "      <th>65</th>\n",
       "      <td>OpenAPI for indigo NCATS Biomedical Translator...</td>\n",
       "      <td>None</td>\n",
       "      <td>None</td>\n",
       "      <td>unknown</td>\n",
       "      <td>499</td>\n",
       "      <td>True</td>\n",
       "      <td>False</td>\n",
       "    </tr>\n",
       "    <tr>\n",
       "      <th>75</th>\n",
       "      <td>NCATS ARA Scaffold</td>\n",
       "      <td>None</td>\n",
       "      <td>None</td>\n",
       "      <td>unknown</td>\n",
       "      <td>499</td>\n",
       "      <td>True</td>\n",
       "      <td>False</td>\n",
       "    </tr>\n",
       "    <tr>\n",
       "      <th>80</th>\n",
       "      <td>Roadway Exposures API</td>\n",
       "      <td>None</td>\n",
       "      <td>None</td>\n",
       "      <td>incompatible</td>\n",
       "      <td>404</td>\n",
       "      <td>True</td>\n",
       "      <td>False</td>\n",
       "    </tr>\n",
       "    <tr>\n",
       "      <th>81</th>\n",
       "      <td>CMAQ Exposures API</td>\n",
       "      <td>None</td>\n",
       "      <td>None</td>\n",
       "      <td>incompatible</td>\n",
       "      <td>404</td>\n",
       "      <td>True</td>\n",
       "      <td>False</td>\n",
       "    </tr>\n",
       "    <tr>\n",
       "      <th>95</th>\n",
       "      <td>ROBOKOP Ranker</td>\n",
       "      <td>None</td>\n",
       "      <td>None</td>\n",
       "      <td>unknown</td>\n",
       "      <td>499</td>\n",
       "      <td>True</td>\n",
       "      <td>False</td>\n",
       "    </tr>\n",
       "    <tr>\n",
       "      <th>118</th>\n",
       "      <td>Metadata Provider API</td>\n",
       "      <td>None</td>\n",
       "      <td>None</td>\n",
       "      <td>good</td>\n",
       "      <td>499</td>\n",
       "      <td>True</td>\n",
       "      <td>False</td>\n",
       "    </tr>\n",
       "    <tr>\n",
       "      <th>133</th>\n",
       "      <td>Broad probabilistic graphical models translator</td>\n",
       "      <td>None</td>\n",
       "      <td>None</td>\n",
       "      <td>unknown</td>\n",
       "      <td>499</td>\n",
       "      <td>True</td>\n",
       "      <td>False</td>\n",
       "    </tr>\n",
       "    <tr>\n",
       "      <th>138</th>\n",
       "      <td>Node Normalization</td>\n",
       "      <td>Standards Reference Implementation Team</td>\n",
       "      <td>Utility</td>\n",
       "      <td>good</td>\n",
       "      <td>499</td>\n",
       "      <td>False</td>\n",
       "      <td>True</td>\n",
       "    </tr>\n",
       "    <tr>\n",
       "      <th>164</th>\n",
       "      <td>NCATS KP Scaffold</td>\n",
       "      <td>None</td>\n",
       "      <td>None</td>\n",
       "      <td>unknown</td>\n",
       "      <td>499</td>\n",
       "      <td>True</td>\n",
       "      <td>False</td>\n",
       "    </tr>\n",
       "    <tr>\n",
       "      <th>193</th>\n",
       "      <td>ROBOKOP</td>\n",
       "      <td>None</td>\n",
       "      <td>None</td>\n",
       "      <td>good</td>\n",
       "      <td>499</td>\n",
       "      <td>True</td>\n",
       "      <td>False</td>\n",
       "    </tr>\n",
       "    <tr>\n",
       "      <th>200</th>\n",
       "      <td>RGD API</td>\n",
       "      <td>None</td>\n",
       "      <td>None</td>\n",
       "      <td>good</td>\n",
       "      <td>499</td>\n",
       "      <td>True</td>\n",
       "      <td>False</td>\n",
       "    </tr>\n",
       "    <tr>\n",
       "      <th>207</th>\n",
       "      <td>ChEMBL API</td>\n",
       "      <td>None</td>\n",
       "      <td>None</td>\n",
       "      <td>good</td>\n",
       "      <td>499</td>\n",
       "      <td>True</td>\n",
       "      <td>False</td>\n",
       "    </tr>\n",
       "  </tbody>\n",
       "</table>\n",
       "</div>"
      ],
      "text/plain": [
       "                                                  name  \\\n",
       "22                   Socio-Environmental Exposures API   \n",
       "61                     Big GIM(Gene Interaction Miner)   \n",
       "65   OpenAPI for indigo NCATS Biomedical Translator...   \n",
       "75                                  NCATS ARA Scaffold   \n",
       "80                               Roadway Exposures API   \n",
       "81                                  CMAQ Exposures API   \n",
       "95                                      ROBOKOP Ranker   \n",
       "118                              Metadata Provider API   \n",
       "133    Broad probabilistic graphical models translator   \n",
       "138                                 Node Normalization   \n",
       "164                                  NCATS KP Scaffold   \n",
       "193                                            ROBOKOP   \n",
       "200                                            RGD API   \n",
       "207                                         ChEMBL API   \n",
       "\n",
       "                                        team component  uptimeStatus  \\\n",
       "22                                      None      None  incompatible   \n",
       "61                                      None      None       unknown   \n",
       "65                                      None      None       unknown   \n",
       "75                                      None      None       unknown   \n",
       "80                                      None      None  incompatible   \n",
       "81                                      None      None  incompatible   \n",
       "95                                      None      None       unknown   \n",
       "118                                     None      None          good   \n",
       "133                                     None      None       unknown   \n",
       "138  Standards Reference Implementation Team   Utility          good   \n",
       "164                                     None      None       unknown   \n",
       "193                                     None      None          good   \n",
       "200                                     None      None          good   \n",
       "207                                     None      None          good   \n",
       "\n",
       "     refreshStatus  hasTranslatorTag  hasXTranslator  \n",
       "22             404              True           False  \n",
       "61             500              True           False  \n",
       "65             499              True           False  \n",
       "75             499              True           False  \n",
       "80             404              True           False  \n",
       "81             404              True           False  \n",
       "95             499              True           False  \n",
       "118            499              True           False  \n",
       "133            499              True           False  \n",
       "138            499             False            True  \n",
       "164            499              True           False  \n",
       "193            499              True           False  \n",
       "200            499              True           False  \n",
       "207            499              True           False  "
      ]
     },
     "execution_count": 64,
     "metadata": {},
     "output_type": "execute_result"
    }
   ],
   "source": [
    "## This API doesn't have the translator tag but has x-translator\n",
    "registry_df[((registry_df['hasXTranslator'] == True) & (registry_df['hasTranslatorTag'] == False)) |\n",
    "            ((registry_df['hasXTranslator'] == False) & (registry_df['hasTranslatorTag'] == True))].drop(columns = 'tags')"
   ]
  },
  {
   "cell_type": "code",
   "execution_count": 65,
   "metadata": {
    "ExecuteTime": {
     "end_time": "2021-03-03T07:14:06.433176Z",
     "start_time": "2021-03-03T07:14:06.417792Z"
    }
   },
   "outputs": [
    {
     "data": {
      "text/html": [
       "<div>\n",
       "<style scoped>\n",
       "    .dataframe tbody tr th:only-of-type {\n",
       "        vertical-align: middle;\n",
       "    }\n",
       "\n",
       "    .dataframe tbody tr th {\n",
       "        vertical-align: top;\n",
       "    }\n",
       "\n",
       "    .dataframe thead th {\n",
       "        text-align: right;\n",
       "    }\n",
       "</style>\n",
       "<table border=\"1\" class=\"dataframe\">\n",
       "  <thead>\n",
       "    <tr style=\"text-align: right;\">\n",
       "      <th></th>\n",
       "      <th>name</th>\n",
       "      <th>team</th>\n",
       "      <th>component</th>\n",
       "      <th>uptimeStatus</th>\n",
       "      <th>refreshStatus</th>\n",
       "      <th>tags</th>\n",
       "      <th>hasTranslatorTag</th>\n",
       "      <th>hasXTranslator</th>\n",
       "    </tr>\n",
       "  </thead>\n",
       "  <tbody>\n",
       "    <tr>\n",
       "      <th>22</th>\n",
       "      <td>Socio-Environmental Exposures API</td>\n",
       "      <td>None</td>\n",
       "      <td>None</td>\n",
       "      <td>incompatible</td>\n",
       "      <td>404</td>\n",
       "      <td>translator</td>\n",
       "      <td>True</td>\n",
       "      <td>False</td>\n",
       "    </tr>\n",
       "    <tr>\n",
       "      <th>61</th>\n",
       "      <td>Big GIM(Gene Interaction Miner)</td>\n",
       "      <td>None</td>\n",
       "      <td>None</td>\n",
       "      <td>unknown</td>\n",
       "      <td>500</td>\n",
       "      <td>translator,ISB,gene,similarity,tissue,TCGA,GIA...</td>\n",
       "      <td>True</td>\n",
       "      <td>False</td>\n",
       "    </tr>\n",
       "    <tr>\n",
       "      <th>65</th>\n",
       "      <td>OpenAPI for indigo NCATS Biomedical Translator...</td>\n",
       "      <td>None</td>\n",
       "      <td>None</td>\n",
       "      <td>unknown</td>\n",
       "      <td>499</td>\n",
       "      <td>query,translator,reasoner</td>\n",
       "      <td>True</td>\n",
       "      <td>False</td>\n",
       "    </tr>\n",
       "    <tr>\n",
       "      <th>75</th>\n",
       "      <td>NCATS ARA Scaffold</td>\n",
       "      <td>None</td>\n",
       "      <td>None</td>\n",
       "      <td>unknown</td>\n",
       "      <td>499</td>\n",
       "      <td>translator</td>\n",
       "      <td>True</td>\n",
       "      <td>False</td>\n",
       "    </tr>\n",
       "    <tr>\n",
       "      <th>80</th>\n",
       "      <td>Roadway Exposures API</td>\n",
       "      <td>None</td>\n",
       "      <td>None</td>\n",
       "      <td>incompatible</td>\n",
       "      <td>404</td>\n",
       "      <td>translator</td>\n",
       "      <td>True</td>\n",
       "      <td>False</td>\n",
       "    </tr>\n",
       "    <tr>\n",
       "      <th>81</th>\n",
       "      <td>CMAQ Exposures API</td>\n",
       "      <td>None</td>\n",
       "      <td>None</td>\n",
       "      <td>incompatible</td>\n",
       "      <td>404</td>\n",
       "      <td>translator</td>\n",
       "      <td>True</td>\n",
       "      <td>False</td>\n",
       "    </tr>\n",
       "    <tr>\n",
       "      <th>95</th>\n",
       "      <td>ROBOKOP Ranker</td>\n",
       "      <td>None</td>\n",
       "      <td>None</td>\n",
       "      <td>unknown</td>\n",
       "      <td>499</td>\n",
       "      <td>0.9.2,translator,reasoner</td>\n",
       "      <td>True</td>\n",
       "      <td>False</td>\n",
       "    </tr>\n",
       "    <tr>\n",
       "      <th>118</th>\n",
       "      <td>Metadata Provider API</td>\n",
       "      <td>None</td>\n",
       "      <td>None</td>\n",
       "      <td>good</td>\n",
       "      <td>499</td>\n",
       "      <td>metadata,biosample,translator</td>\n",
       "      <td>True</td>\n",
       "      <td>False</td>\n",
       "    </tr>\n",
       "    <tr>\n",
       "      <th>133</th>\n",
       "      <td>Broad probabilistic graphical models translator</td>\n",
       "      <td>None</td>\n",
       "      <td>None</td>\n",
       "      <td>unknown</td>\n",
       "      <td>499</td>\n",
       "      <td>translator</td>\n",
       "      <td>True</td>\n",
       "      <td>False</td>\n",
       "    </tr>\n",
       "    <tr>\n",
       "      <th>164</th>\n",
       "      <td>NCATS KP Scaffold</td>\n",
       "      <td>None</td>\n",
       "      <td>None</td>\n",
       "      <td>unknown</td>\n",
       "      <td>499</td>\n",
       "      <td>translator</td>\n",
       "      <td>True</td>\n",
       "      <td>False</td>\n",
       "    </tr>\n",
       "    <tr>\n",
       "      <th>193</th>\n",
       "      <td>ROBOKOP</td>\n",
       "      <td>None</td>\n",
       "      <td>None</td>\n",
       "      <td>good</td>\n",
       "      <td>499</td>\n",
       "      <td>translator,reasoner</td>\n",
       "      <td>True</td>\n",
       "      <td>False</td>\n",
       "    </tr>\n",
       "    <tr>\n",
       "      <th>200</th>\n",
       "      <td>RGD API</td>\n",
       "      <td>None</td>\n",
       "      <td>None</td>\n",
       "      <td>good</td>\n",
       "      <td>499</td>\n",
       "      <td>translator,gene</td>\n",
       "      <td>True</td>\n",
       "      <td>False</td>\n",
       "    </tr>\n",
       "    <tr>\n",
       "      <th>207</th>\n",
       "      <td>ChEMBL API</td>\n",
       "      <td>None</td>\n",
       "      <td>None</td>\n",
       "      <td>good</td>\n",
       "      <td>499</td>\n",
       "      <td>publication,translator</td>\n",
       "      <td>True</td>\n",
       "      <td>False</td>\n",
       "    </tr>\n",
       "  </tbody>\n",
       "</table>\n",
       "</div>"
      ],
      "text/plain": [
       "                                                  name  team component  \\\n",
       "22                   Socio-Environmental Exposures API  None      None   \n",
       "61                     Big GIM(Gene Interaction Miner)  None      None   \n",
       "65   OpenAPI for indigo NCATS Biomedical Translator...  None      None   \n",
       "75                                  NCATS ARA Scaffold  None      None   \n",
       "80                               Roadway Exposures API  None      None   \n",
       "81                                  CMAQ Exposures API  None      None   \n",
       "95                                      ROBOKOP Ranker  None      None   \n",
       "118                              Metadata Provider API  None      None   \n",
       "133    Broad probabilistic graphical models translator  None      None   \n",
       "164                                  NCATS KP Scaffold  None      None   \n",
       "193                                            ROBOKOP  None      None   \n",
       "200                                            RGD API  None      None   \n",
       "207                                         ChEMBL API  None      None   \n",
       "\n",
       "     uptimeStatus  refreshStatus  \\\n",
       "22   incompatible            404   \n",
       "61        unknown            500   \n",
       "65        unknown            499   \n",
       "75        unknown            499   \n",
       "80   incompatible            404   \n",
       "81   incompatible            404   \n",
       "95        unknown            499   \n",
       "118          good            499   \n",
       "133       unknown            499   \n",
       "164       unknown            499   \n",
       "193          good            499   \n",
       "200          good            499   \n",
       "207          good            499   \n",
       "\n",
       "                                                  tags  hasTranslatorTag  \\\n",
       "22                                          translator              True   \n",
       "61   translator,ISB,gene,similarity,tissue,TCGA,GIA...              True   \n",
       "65                           query,translator,reasoner              True   \n",
       "75                                          translator              True   \n",
       "80                                          translator              True   \n",
       "81                                          translator              True   \n",
       "95                           0.9.2,translator,reasoner              True   \n",
       "118                      metadata,biosample,translator              True   \n",
       "133                                         translator              True   \n",
       "164                                         translator              True   \n",
       "193                                translator,reasoner              True   \n",
       "200                                    translator,gene              True   \n",
       "207                             publication,translator              True   \n",
       "\n",
       "     hasXTranslator  \n",
       "22            False  \n",
       "61            False  \n",
       "65            False  \n",
       "75            False  \n",
       "80            False  \n",
       "81            False  \n",
       "95            False  \n",
       "118           False  \n",
       "133           False  \n",
       "164           False  \n",
       "193           False  \n",
       "200           False  \n",
       "207           False  "
      ]
     },
     "execution_count": 65,
     "metadata": {},
     "output_type": "execute_result"
    }
   ],
   "source": [
    "## This API doesn't have the translator tag but has x-translator\n",
    "registry_df[(registry_df['hasXTranslator'] == False) & \n",
    "            (registry_df['hasTranslatorTag'] == True)]"
   ]
  },
  {
   "cell_type": "markdown",
   "metadata": {},
   "source": [
    "So there are 95 APIs with the \"translator\" tag, and 82 of them currently have the x-translator extension. There is one API with the x-translator extension and no \"translator\" tag. "
   ]
  },
  {
   "cell_type": "markdown",
   "metadata": {},
   "source": [
    "### Translator-tagged / x-translator APIs"
   ]
  },
  {
   "cell_type": "code",
   "execution_count": 66,
   "metadata": {
    "ExecuteTime": {
     "end_time": "2021-03-03T07:14:08.876222Z",
     "start_time": "2021-03-03T07:14:08.866862Z"
    }
   },
   "outputs": [],
   "source": [
    "## grab only the APIs with the translator tag \n",
    "translator_apis = registry_df[(registry_df['hasTranslatorTag']) | \n",
    "            (registry_df['hasXTranslator'])].copy()\n",
    "translator_apis.drop(columns = ['hasTranslatorTag'], inplace = True)\n",
    "translator_apis = translator_apis[['team', 'component', 'name', 'uptimeStatus', 'refreshStatus', 'tags']]\n",
    "translator_apis.sort_values(by=['team', 'component', 'name'], \n",
    "                            ignore_index = True, na_position = 'last', inplace = True)"
   ]
  },
  {
   "cell_type": "markdown",
   "metadata": {},
   "source": [
    "Translator-tagged APIs with x-translator information. Another review may need to be done to address duplicate API registrations / different API registrations for BTE. "
   ]
  },
  {
   "cell_type": "code",
   "execution_count": 67,
   "metadata": {
    "ExecuteTime": {
     "end_time": "2021-03-03T07:14:10.905902Z",
     "start_time": "2021-03-03T07:14:10.889863Z"
    }
   },
   "outputs": [
    {
     "data": {
      "text/html": [
       "<div>\n",
       "<style scoped>\n",
       "    .dataframe tbody tr th:only-of-type {\n",
       "        vertical-align: middle;\n",
       "    }\n",
       "\n",
       "    .dataframe tbody tr th {\n",
       "        vertical-align: top;\n",
       "    }\n",
       "\n",
       "    .dataframe thead th {\n",
       "        text-align: right;\n",
       "    }\n",
       "</style>\n",
       "<table border=\"1\" class=\"dataframe\">\n",
       "  <thead>\n",
       "    <tr style=\"text-align: right;\">\n",
       "      <th></th>\n",
       "      <th>team</th>\n",
       "      <th>component</th>\n",
       "      <th>name</th>\n",
       "      <th>uptimeStatus</th>\n",
       "      <th>refreshStatus</th>\n",
       "      <th>tags</th>\n",
       "    </tr>\n",
       "  </thead>\n",
       "  <tbody>\n",
       "    <tr>\n",
       "      <th>0</th>\n",
       "      <td>Clinical Data Provider</td>\n",
       "      <td>KP</td>\n",
       "      <td>Columbia Open Health Data (COHD)</td>\n",
       "      <td>good</td>\n",
       "      <td>200</td>\n",
       "      <td>Metadata,OMOP,Clinical Frequencies,Concept Ass...</td>\n",
       "    </tr>\n",
       "    <tr>\n",
       "      <th>1</th>\n",
       "      <td>Clinical Data Provider</td>\n",
       "      <td>KP</td>\n",
       "      <td>Columbia Open Health Data (COHD) for COVID-19 ...</td>\n",
       "      <td>good</td>\n",
       "      <td>200</td>\n",
       "      <td>Metadata,OMOP,Clinical Frequencies,Concept Ass...</td>\n",
       "    </tr>\n",
       "    <tr>\n",
       "      <th>2</th>\n",
       "      <td>Clinical Data Provider</td>\n",
       "      <td>KP</td>\n",
       "      <td>OpenPredict API 🔮🐍</td>\n",
       "      <td>good</td>\n",
       "      <td>200</td>\n",
       "      <td>translator,reasoner</td>\n",
       "    </tr>\n",
       "    <tr>\n",
       "      <th>3</th>\n",
       "      <td>Clinical Data Provider</td>\n",
       "      <td>KP</td>\n",
       "      <td>Translator Knowledge Collaboratory API</td>\n",
       "      <td>good</td>\n",
       "      <td>200</td>\n",
       "      <td>predicates,query,translator,reasoner</td>\n",
       "    </tr>\n",
       "    <tr>\n",
       "      <th>4</th>\n",
       "      <td>Connections Hypothesis Provider</td>\n",
       "      <td>KP</td>\n",
       "      <td>Connections Hypothesis Provider API</td>\n",
       "      <td>unknown</td>\n",
       "      <td>200</td>\n",
       "      <td>bayesian,translator,1.0.0</td>\n",
       "    </tr>\n",
       "    <tr>\n",
       "      <th>...</th>\n",
       "      <td>...</td>\n",
       "      <td>...</td>\n",
       "      <td>...</td>\n",
       "      <td>...</td>\n",
       "      <td>...</td>\n",
       "      <td>...</td>\n",
       "    </tr>\n",
       "    <tr>\n",
       "      <th>80</th>\n",
       "      <td>Standards Reference Implementation Team</td>\n",
       "      <td>Utility</td>\n",
       "      <td>Name Resolver</td>\n",
       "      <td>unknown</td>\n",
       "      <td>200</td>\n",
       "      <td>translator</td>\n",
       "    </tr>\n",
       "    <tr>\n",
       "      <th>81</th>\n",
       "      <td>Standards Reference Implementation Team</td>\n",
       "      <td>Utility</td>\n",
       "      <td>Node Normalization</td>\n",
       "      <td>good</td>\n",
       "      <td>499</td>\n",
       "      <td>Interfaces</td>\n",
       "    </tr>\n",
       "    <tr>\n",
       "      <th>82</th>\n",
       "      <td>Text Mining Provider,Service Provider</td>\n",
       "      <td>KP</td>\n",
       "      <td>Text Mining CO-OCCURRENCE API</td>\n",
       "      <td>good</td>\n",
       "      <td>299</td>\n",
       "      <td>gene,chemical,association,annotation,query,tra...</td>\n",
       "    </tr>\n",
       "    <tr>\n",
       "      <th>83</th>\n",
       "      <td>Text Mining Provider,Service Provider</td>\n",
       "      <td>KP</td>\n",
       "      <td>Text Mining Targeted Association API</td>\n",
       "      <td>good</td>\n",
       "      <td>200</td>\n",
       "      <td>gene,chemical,association,annotation,query,tra...</td>\n",
       "    </tr>\n",
       "    <tr>\n",
       "      <th>84</th>\n",
       "      <td>imProving Agent</td>\n",
       "      <td>ARA</td>\n",
       "      <td>imProving Agent</td>\n",
       "      <td>unknown</td>\n",
       "      <td>499</td>\n",
       "      <td>predicates,query,translator,reasoner,SPOKE</td>\n",
       "    </tr>\n",
       "  </tbody>\n",
       "</table>\n",
       "<p>85 rows × 6 columns</p>\n",
       "</div>"
      ],
      "text/plain": [
       "                                       team component  \\\n",
       "0                    Clinical Data Provider        KP   \n",
       "1                    Clinical Data Provider        KP   \n",
       "2                    Clinical Data Provider        KP   \n",
       "3                    Clinical Data Provider        KP   \n",
       "4           Connections Hypothesis Provider        KP   \n",
       "..                                      ...       ...   \n",
       "80  Standards Reference Implementation Team   Utility   \n",
       "81  Standards Reference Implementation Team   Utility   \n",
       "82    Text Mining Provider,Service Provider        KP   \n",
       "83    Text Mining Provider,Service Provider        KP   \n",
       "84                          imProving Agent       ARA   \n",
       "\n",
       "                                                 name uptimeStatus  \\\n",
       "0                    Columbia Open Health Data (COHD)         good   \n",
       "1   Columbia Open Health Data (COHD) for COVID-19 ...         good   \n",
       "2                                  OpenPredict API 🔮🐍         good   \n",
       "3              Translator Knowledge Collaboratory API         good   \n",
       "4                 Connections Hypothesis Provider API      unknown   \n",
       "..                                                ...          ...   \n",
       "80                                      Name Resolver      unknown   \n",
       "81                                 Node Normalization         good   \n",
       "82                      Text Mining CO-OCCURRENCE API         good   \n",
       "83               Text Mining Targeted Association API         good   \n",
       "84                                    imProving Agent      unknown   \n",
       "\n",
       "    refreshStatus                                               tags  \n",
       "0             200  Metadata,OMOP,Clinical Frequencies,Concept Ass...  \n",
       "1             200  Metadata,OMOP,Clinical Frequencies,Concept Ass...  \n",
       "2             200                                translator,reasoner  \n",
       "3             200               predicates,query,translator,reasoner  \n",
       "4             200                          bayesian,translator,1.0.0  \n",
       "..            ...                                                ...  \n",
       "80            200                                         translator  \n",
       "81            499                                         Interfaces  \n",
       "82            299  gene,chemical,association,annotation,query,tra...  \n",
       "83            200  gene,chemical,association,annotation,query,tra...  \n",
       "84            499         predicates,query,translator,reasoner,SPOKE  \n",
       "\n",
       "[85 rows x 6 columns]"
      ]
     },
     "execution_count": 67,
     "metadata": {},
     "output_type": "execute_result"
    }
   ],
   "source": [
    "summarytable1 = translator_apis[~ translator_apis['team'].isna()].copy()\n",
    "summarytable1"
   ]
  },
  {
   "cell_type": "markdown",
   "metadata": {},
   "source": [
    "The APIs WITHOUT x-translator information"
   ]
  },
  {
   "cell_type": "code",
   "execution_count": 68,
   "metadata": {
    "ExecuteTime": {
     "end_time": "2021-03-03T07:14:13.486717Z",
     "start_time": "2021-03-03T07:14:13.475058Z"
    }
   },
   "outputs": [
    {
     "data": {
      "text/html": [
       "<div>\n",
       "<style scoped>\n",
       "    .dataframe tbody tr th:only-of-type {\n",
       "        vertical-align: middle;\n",
       "    }\n",
       "\n",
       "    .dataframe tbody tr th {\n",
       "        vertical-align: top;\n",
       "    }\n",
       "\n",
       "    .dataframe thead th {\n",
       "        text-align: right;\n",
       "    }\n",
       "</style>\n",
       "<table border=\"1\" class=\"dataframe\">\n",
       "  <thead>\n",
       "    <tr style=\"text-align: right;\">\n",
       "      <th></th>\n",
       "      <th>team</th>\n",
       "      <th>component</th>\n",
       "      <th>name</th>\n",
       "      <th>uptimeStatus</th>\n",
       "      <th>refreshStatus</th>\n",
       "      <th>tags</th>\n",
       "    </tr>\n",
       "  </thead>\n",
       "  <tbody>\n",
       "    <tr>\n",
       "      <th>85</th>\n",
       "      <td>None</td>\n",
       "      <td>None</td>\n",
       "      <td>Big GIM(Gene Interaction Miner)</td>\n",
       "      <td>unknown</td>\n",
       "      <td>500</td>\n",
       "      <td>translator,ISB,gene,similarity,tissue,TCGA,GIA...</td>\n",
       "    </tr>\n",
       "    <tr>\n",
       "      <th>86</th>\n",
       "      <td>None</td>\n",
       "      <td>None</td>\n",
       "      <td>Broad probabilistic graphical models translator</td>\n",
       "      <td>unknown</td>\n",
       "      <td>499</td>\n",
       "      <td>translator</td>\n",
       "    </tr>\n",
       "    <tr>\n",
       "      <th>87</th>\n",
       "      <td>None</td>\n",
       "      <td>None</td>\n",
       "      <td>CMAQ Exposures API</td>\n",
       "      <td>incompatible</td>\n",
       "      <td>404</td>\n",
       "      <td>translator</td>\n",
       "    </tr>\n",
       "    <tr>\n",
       "      <th>88</th>\n",
       "      <td>None</td>\n",
       "      <td>None</td>\n",
       "      <td>ChEMBL API</td>\n",
       "      <td>good</td>\n",
       "      <td>499</td>\n",
       "      <td>publication,translator</td>\n",
       "    </tr>\n",
       "    <tr>\n",
       "      <th>89</th>\n",
       "      <td>None</td>\n",
       "      <td>None</td>\n",
       "      <td>Metadata Provider API</td>\n",
       "      <td>good</td>\n",
       "      <td>499</td>\n",
       "      <td>metadata,biosample,translator</td>\n",
       "    </tr>\n",
       "    <tr>\n",
       "      <th>90</th>\n",
       "      <td>None</td>\n",
       "      <td>None</td>\n",
       "      <td>NCATS ARA Scaffold</td>\n",
       "      <td>unknown</td>\n",
       "      <td>499</td>\n",
       "      <td>translator</td>\n",
       "    </tr>\n",
       "    <tr>\n",
       "      <th>91</th>\n",
       "      <td>None</td>\n",
       "      <td>None</td>\n",
       "      <td>NCATS KP Scaffold</td>\n",
       "      <td>unknown</td>\n",
       "      <td>499</td>\n",
       "      <td>translator</td>\n",
       "    </tr>\n",
       "    <tr>\n",
       "      <th>92</th>\n",
       "      <td>None</td>\n",
       "      <td>None</td>\n",
       "      <td>OpenAPI for indigo NCATS Biomedical Translator...</td>\n",
       "      <td>unknown</td>\n",
       "      <td>499</td>\n",
       "      <td>query,translator,reasoner</td>\n",
       "    </tr>\n",
       "    <tr>\n",
       "      <th>93</th>\n",
       "      <td>None</td>\n",
       "      <td>None</td>\n",
       "      <td>RGD API</td>\n",
       "      <td>good</td>\n",
       "      <td>499</td>\n",
       "      <td>translator,gene</td>\n",
       "    </tr>\n",
       "    <tr>\n",
       "      <th>94</th>\n",
       "      <td>None</td>\n",
       "      <td>None</td>\n",
       "      <td>ROBOKOP</td>\n",
       "      <td>good</td>\n",
       "      <td>499</td>\n",
       "      <td>translator,reasoner</td>\n",
       "    </tr>\n",
       "    <tr>\n",
       "      <th>95</th>\n",
       "      <td>None</td>\n",
       "      <td>None</td>\n",
       "      <td>ROBOKOP Ranker</td>\n",
       "      <td>unknown</td>\n",
       "      <td>499</td>\n",
       "      <td>0.9.2,translator,reasoner</td>\n",
       "    </tr>\n",
       "    <tr>\n",
       "      <th>96</th>\n",
       "      <td>None</td>\n",
       "      <td>None</td>\n",
       "      <td>Roadway Exposures API</td>\n",
       "      <td>incompatible</td>\n",
       "      <td>404</td>\n",
       "      <td>translator</td>\n",
       "    </tr>\n",
       "    <tr>\n",
       "      <th>97</th>\n",
       "      <td>None</td>\n",
       "      <td>None</td>\n",
       "      <td>Socio-Environmental Exposures API</td>\n",
       "      <td>incompatible</td>\n",
       "      <td>404</td>\n",
       "      <td>translator</td>\n",
       "    </tr>\n",
       "  </tbody>\n",
       "</table>\n",
       "</div>"
      ],
      "text/plain": [
       "    team component                                               name  \\\n",
       "85  None      None                    Big GIM(Gene Interaction Miner)   \n",
       "86  None      None    Broad probabilistic graphical models translator   \n",
       "87  None      None                                 CMAQ Exposures API   \n",
       "88  None      None                                         ChEMBL API   \n",
       "89  None      None                              Metadata Provider API   \n",
       "90  None      None                                 NCATS ARA Scaffold   \n",
       "91  None      None                                  NCATS KP Scaffold   \n",
       "92  None      None  OpenAPI for indigo NCATS Biomedical Translator...   \n",
       "93  None      None                                            RGD API   \n",
       "94  None      None                                            ROBOKOP   \n",
       "95  None      None                                     ROBOKOP Ranker   \n",
       "96  None      None                              Roadway Exposures API   \n",
       "97  None      None                  Socio-Environmental Exposures API   \n",
       "\n",
       "    uptimeStatus  refreshStatus  \\\n",
       "85       unknown            500   \n",
       "86       unknown            499   \n",
       "87  incompatible            404   \n",
       "88          good            499   \n",
       "89          good            499   \n",
       "90       unknown            499   \n",
       "91       unknown            499   \n",
       "92       unknown            499   \n",
       "93          good            499   \n",
       "94          good            499   \n",
       "95       unknown            499   \n",
       "96  incompatible            404   \n",
       "97  incompatible            404   \n",
       "\n",
       "                                                 tags  \n",
       "85  translator,ISB,gene,similarity,tissue,TCGA,GIA...  \n",
       "86                                         translator  \n",
       "87                                         translator  \n",
       "88                             publication,translator  \n",
       "89                      metadata,biosample,translator  \n",
       "90                                         translator  \n",
       "91                                         translator  \n",
       "92                          query,translator,reasoner  \n",
       "93                                    translator,gene  \n",
       "94                                translator,reasoner  \n",
       "95                          0.9.2,translator,reasoner  \n",
       "96                                         translator  \n",
       "97                                         translator  "
      ]
     },
     "execution_count": 68,
     "metadata": {},
     "output_type": "execute_result"
    }
   ],
   "source": [
    "## APIs without x-translator information\n",
    "summarytable2 = translator_apis[translator_apis['team'].isna()].copy()\n",
    "summarytable2"
   ]
  },
  {
   "cell_type": "markdown",
   "metadata": {},
   "source": [
    "#### APIs by team"
   ]
  },
  {
   "cell_type": "code",
   "execution_count": 69,
   "metadata": {
    "ExecuteTime": {
     "end_time": "2021-03-03T07:14:15.578134Z",
     "start_time": "2021-03-03T07:14:15.299281Z"
    }
   },
   "outputs": [
    {
     "data": {
      "text/plain": [
       "<AxesSubplot:title={'center':'Num of APIs by team'}>"
      ]
     },
     "execution_count": 69,
     "metadata": {},
     "output_type": "execute_result"
    },
    {
     "data": {
      "text/html": [
       "<div>\n",
       "<style scoped>\n",
       "    .dataframe tbody tr th:only-of-type {\n",
       "        vertical-align: middle;\n",
       "    }\n",
       "\n",
       "    .dataframe tbody tr th {\n",
       "        vertical-align: top;\n",
       "    }\n",
       "\n",
       "    .dataframe thead th {\n",
       "        text-align: right;\n",
       "    }\n",
       "</style>\n",
       "<table border=\"1\" class=\"dataframe\">\n",
       "  <thead>\n",
       "    <tr style=\"text-align: right;\">\n",
       "      <th></th>\n",
       "      <th>name</th>\n",
       "      <th>Num of APIs</th>\n",
       "    </tr>\n",
       "  </thead>\n",
       "  <tbody>\n",
       "    <tr>\n",
       "      <th>0</th>\n",
       "      <td>Service Provider</td>\n",
       "      <td>28</td>\n",
       "    </tr>\n",
       "    <tr>\n",
       "      <th>1</th>\n",
       "      <td>Ranking Agent</td>\n",
       "      <td>27</td>\n",
       "    </tr>\n",
       "    <tr>\n",
       "      <th>2</th>\n",
       "      <td>Standards Reference Implementation Team</td>\n",
       "      <td>6</td>\n",
       "    </tr>\n",
       "    <tr>\n",
       "      <th>3</th>\n",
       "      <td>Multiomics Provider,Service Provider</td>\n",
       "      <td>5</td>\n",
       "    </tr>\n",
       "    <tr>\n",
       "      <th>4</th>\n",
       "      <td>Clinical Data Provider</td>\n",
       "      <td>4</td>\n",
       "    </tr>\n",
       "    <tr>\n",
       "      <th>5</th>\n",
       "      <td>Exposures Provider</td>\n",
       "      <td>2</td>\n",
       "    </tr>\n",
       "    <tr>\n",
       "      <th>6</th>\n",
       "      <td>Connections Hypothesis Provider</td>\n",
       "      <td>2</td>\n",
       "    </tr>\n",
       "    <tr>\n",
       "      <th>7</th>\n",
       "      <td>Genetics Provider</td>\n",
       "      <td>2</td>\n",
       "    </tr>\n",
       "    <tr>\n",
       "      <th>8</th>\n",
       "      <td>Expander Agent</td>\n",
       "      <td>2</td>\n",
       "    </tr>\n",
       "    <tr>\n",
       "      <th>9</th>\n",
       "      <td>Text Mining Provider,Service Provider</td>\n",
       "      <td>2</td>\n",
       "    </tr>\n",
       "    <tr>\n",
       "      <th>10</th>\n",
       "      <td>SRI</td>\n",
       "      <td>1</td>\n",
       "    </tr>\n",
       "    <tr>\n",
       "      <th>11</th>\n",
       "      <td>Molecular Data Provider</td>\n",
       "      <td>1</td>\n",
       "    </tr>\n",
       "    <tr>\n",
       "      <th>12</th>\n",
       "      <td>imProving Agent</td>\n",
       "      <td>1</td>\n",
       "    </tr>\n",
       "    <tr>\n",
       "      <th>13</th>\n",
       "      <td>Exploring Agent</td>\n",
       "      <td>1</td>\n",
       "    </tr>\n",
       "    <tr>\n",
       "      <th>14</th>\n",
       "      <td>Explanatory Agent</td>\n",
       "      <td>1</td>\n",
       "    </tr>\n",
       "  </tbody>\n",
       "</table>\n",
       "</div>"
      ],
      "text/plain": [
       "                                       name  Num of APIs\n",
       "0                          Service Provider           28\n",
       "1                             Ranking Agent           27\n",
       "2   Standards Reference Implementation Team            6\n",
       "3      Multiomics Provider,Service Provider            5\n",
       "4                    Clinical Data Provider            4\n",
       "5                        Exposures Provider            2\n",
       "6           Connections Hypothesis Provider            2\n",
       "7                         Genetics Provider            2\n",
       "8                            Expander Agent            2\n",
       "9     Text Mining Provider,Service Provider            2\n",
       "10                                      SRI            1\n",
       "11                  Molecular Data Provider            1\n",
       "12                          imProving Agent            1\n",
       "13                          Exploring Agent            1\n",
       "14                        Explanatory Agent            1"
      ]
     },
     "execution_count": 69,
     "metadata": {},
     "output_type": "execute_result"
    },
    {
     "data": {
      "image/png": "[encoded data removed]",
      "text/plain": [
       "<Figure size 792x576 with 1 Axes>"
      ]
     },
     "metadata": {
      "needs_background": "light"
     },
     "output_type": "display_data"
    }
   ],
   "source": [
    "team_summary = translator_apis.team.value_counts().reset_index()\n",
    "team_summary.columns = ['name', 'Num of APIs']\n",
    "team_summary['plot_names'] = [ '\\n'.join(wrap(i, 30)) for i in team_summary['name']]\n",
    "\n",
    "team_summary.plot.barh(x='plot_names', y='Num of APIs', fontsize = 10, figsize=(11,8), rot=0, \n",
    "                       legend=False, title = \"Num of APIs by team\", xlabel=\"\")\n",
    "## table view\n",
    "team_summary[['name', 'Num of APIs']]"
   ]
  },
  {
   "cell_type": "markdown",
   "metadata": {},
   "source": [
    "#### APIs by component"
   ]
  },
  {
   "cell_type": "code",
   "execution_count": 70,
   "metadata": {
    "ExecuteTime": {
     "end_time": "2021-03-03T07:14:19.402175Z",
     "start_time": "2021-03-03T07:14:19.262529Z"
    }
   },
   "outputs": [
    {
     "data": {
      "text/html": [
       "<div>\n",
       "<style scoped>\n",
       "    .dataframe tbody tr th:only-of-type {\n",
       "        vertical-align: middle;\n",
       "    }\n",
       "\n",
       "    .dataframe tbody tr th {\n",
       "        vertical-align: top;\n",
       "    }\n",
       "\n",
       "    .dataframe thead th {\n",
       "        text-align: right;\n",
       "    }\n",
       "</style>\n",
       "<table border=\"1\" class=\"dataframe\">\n",
       "  <thead>\n",
       "    <tr style=\"text-align: right;\">\n",
       "      <th></th>\n",
       "      <th>index</th>\n",
       "      <th>component</th>\n",
       "    </tr>\n",
       "  </thead>\n",
       "  <tbody>\n",
       "    <tr>\n",
       "      <th>0</th>\n",
       "      <td>KP</td>\n",
       "      <td>71</td>\n",
       "    </tr>\n",
       "    <tr>\n",
       "      <th>1</th>\n",
       "      <td>ARA</td>\n",
       "      <td>9</td>\n",
       "    </tr>\n",
       "    <tr>\n",
       "      <th>2</th>\n",
       "      <td>Utility</td>\n",
       "      <td>5</td>\n",
       "    </tr>\n",
       "  </tbody>\n",
       "</table>\n",
       "</div>"
      ],
      "text/plain": [
       "     index  component\n",
       "0       KP         71\n",
       "1      ARA          9\n",
       "2  Utility          5"
      ]
     },
     "execution_count": 70,
     "metadata": {},
     "output_type": "execute_result"
    },
    {
     "data": {
      "text/plain": [
       "<AxesSubplot:title={'center':'Num of APIs by team'}>"
      ]
     },
     "execution_count": 70,
     "metadata": {},
     "output_type": "execute_result"
    },
    {
     "data": {
      "image/png": "[encoded data removed]",
      "text/plain": [
       "<Figure size 432x288 with 1 Axes>"
      ]
     },
     "metadata": {
      "needs_background": "light"
     },
     "output_type": "display_data"
    }
   ],
   "source": [
    "component_summary = translator_apis.component.value_counts().reset_index()\n",
    "component_summary\n",
    "component_summary.plot.bar(x='index', y='component', rot=0,\n",
    "                       legend=False, title = \"Num of APIs by team\", xlabel=\"\")"
   ]
  },
  {
   "cell_type": "markdown",
   "metadata": {},
   "source": [
    "#### APIs by uptime status"
   ]
  },
  {
   "cell_type": "code",
   "execution_count": 71,
   "metadata": {
    "ExecuteTime": {
     "end_time": "2021-03-03T07:14:22.581187Z",
     "start_time": "2021-03-03T07:14:22.440347Z"
    }
   },
   "outputs": [
    {
     "data": {
      "text/html": [
       "<div>\n",
       "<style scoped>\n",
       "    .dataframe tbody tr th:only-of-type {\n",
       "        vertical-align: middle;\n",
       "    }\n",
       "\n",
       "    .dataframe tbody tr th {\n",
       "        vertical-align: top;\n",
       "    }\n",
       "\n",
       "    .dataframe thead th {\n",
       "        text-align: right;\n",
       "    }\n",
       "</style>\n",
       "<table border=\"1\" class=\"dataframe\">\n",
       "  <thead>\n",
       "    <tr style=\"text-align: right;\">\n",
       "      <th></th>\n",
       "      <th>index</th>\n",
       "      <th>uptimeStatus</th>\n",
       "    </tr>\n",
       "  </thead>\n",
       "  <tbody>\n",
       "    <tr>\n",
       "      <th>0</th>\n",
       "      <td>good</td>\n",
       "      <td>73</td>\n",
       "    </tr>\n",
       "    <tr>\n",
       "      <th>1</th>\n",
       "      <td>unknown</td>\n",
       "      <td>21</td>\n",
       "    </tr>\n",
       "    <tr>\n",
       "      <th>2</th>\n",
       "      <td>incompatible</td>\n",
       "      <td>3</td>\n",
       "    </tr>\n",
       "  </tbody>\n",
       "</table>\n",
       "</div>"
      ],
      "text/plain": [
       "          index  uptimeStatus\n",
       "0          good            73\n",
       "1       unknown            21\n",
       "2  incompatible             3"
      ]
     },
     "execution_count": 71,
     "metadata": {},
     "output_type": "execute_result"
    },
    {
     "data": {
      "text/plain": [
       "<AxesSubplot:title={'center':'Num of APIs by team'}>"
      ]
     },
     "execution_count": 71,
     "metadata": {},
     "output_type": "execute_result"
    },
    {
     "data": {
      "image/png": "[encoded data removed]",
      "text/plain": [
       "<Figure size 432x288 with 1 Axes>"
      ]
     },
     "metadata": {
      "needs_background": "light"
     },
     "output_type": "display_data"
    }
   ],
   "source": [
    "status_summary = translator_apis.uptimeStatus.value_counts().reset_index()\n",
    "status_summary\n",
    "status_summary.plot.bar(x='index', y='uptimeStatus', rot=0,\n",
    "                       legend=False, title = \"Num of APIs by team\", xlabel=\"\")"
   ]
  },
  {
   "cell_type": "markdown",
   "metadata": {},
   "source": [
    "## using x-translator and metaKG together"
   ]
  },
  {
   "cell_type": "markdown",
   "metadata": {},
   "source": [
    "The MetaKG is currently based on annotations from x-bte. The operations are all from APIs tagged translator "
   ]
  },
  {
   "cell_type": "markdown",
   "metadata": {},
   "source": [
    "### predicates by team"
   ]
  },
  {
   "cell_type": "code",
   "execution_count": 72,
   "metadata": {
    "ExecuteTime": {
     "end_time": "2021-03-03T07:14:24.976424Z",
     "start_time": "2021-03-03T07:14:24.961965Z"
    }
   },
   "outputs": [
    {
     "data": {
      "text/html": [
       "<div>\n",
       "<style scoped>\n",
       "    .dataframe tbody tr th:only-of-type {\n",
       "        vertical-align: middle;\n",
       "    }\n",
       "\n",
       "    .dataframe tbody tr th {\n",
       "        vertical-align: top;\n",
       "    }\n",
       "\n",
       "    .dataframe thead th {\n",
       "        text-align: right;\n",
       "    }\n",
       "</style>\n",
       "<table border=\"1\" class=\"dataframe\">\n",
       "  <thead>\n",
       "    <tr style=\"text-align: right;\">\n",
       "      <th></th>\n",
       "      <th>index</th>\n",
       "      <th>Num of unique predicates</th>\n",
       "    </tr>\n",
       "  </thead>\n",
       "  <tbody>\n",
       "    <tr>\n",
       "      <th>0</th>\n",
       "      <td>Service Provider</td>\n",
       "      <td>160</td>\n",
       "    </tr>\n",
       "    <tr>\n",
       "      <th>1</th>\n",
       "      <td>Multiomics Provider,Service Provider</td>\n",
       "      <td>7</td>\n",
       "    </tr>\n",
       "    <tr>\n",
       "      <th>2</th>\n",
       "      <td>Text Mining Provider,Service Provider</td>\n",
       "      <td>5</td>\n",
       "    </tr>\n",
       "    <tr>\n",
       "      <th>3</th>\n",
       "      <td>Standards Reference Implementation Team</td>\n",
       "      <td>3</td>\n",
       "    </tr>\n",
       "    <tr>\n",
       "      <th>4</th>\n",
       "      <td>Clinical Data Provider</td>\n",
       "      <td>2</td>\n",
       "    </tr>\n",
       "  </tbody>\n",
       "</table>\n",
       "</div>"
      ],
      "text/plain": [
       "                                     index  Num of unique predicates\n",
       "0                         Service Provider                       160\n",
       "1     Multiomics Provider,Service Provider                         7\n",
       "2    Text Mining Provider,Service Provider                         5\n",
       "3  Standards Reference Implementation Team                         3\n",
       "4                   Clinical Data Provider                         2"
      ]
     },
     "execution_count": 72,
     "metadata": {},
     "output_type": "execute_result"
    }
   ],
   "source": [
    "operations1 = operations_summary[['predicate', 'api_name', 'api_team']].drop_duplicates()\n",
    "operations1.api_team.value_counts().reset_index(name = 'Num of unique predicates')"
   ]
  },
  {
   "cell_type": "code",
   "execution_count": null,
   "metadata": {},
   "outputs": [],
   "source": []
  }
 ],
 "metadata": {
  "kernelspec": {
   "display_name": "Python 3",
   "language": "python",
   "name": "python3"
  },
  "language_info": {
   "codemirror_mode": {
    "name": "ipython",
    "version": 3
   },
   "file_extension": ".py",
   "mimetype": "text/x-python",
   "name": "python",
   "nbconvert_exporter": "python",
   "pygments_lexer": "ipython3",
   "version": "3.7.9"
  },
  "toc": {
   "base_numbering": 1,
   "nav_menu": {},
   "number_sections": true,
   "sideBar": true,
   "skip_h1_title": true,
   "title_cell": "Table of Contents",
   "title_sidebar": "Contents",
   "toc_cell": false,
   "toc_position": {
    "height": "calc(100% - 180px)",
    "left": "10px",
    "top": "150px",
    "width": "261.5px"
   },
   "toc_section_display": true,
   "toc_window_display": true
  },
  "varInspector": {
   "cols": {
    "lenName": 16,
    "lenType": 16,
    "lenVar": 40
   },
   "kernels_config": {
    "python": {
     "delete_cmd_postfix": "",
     "delete_cmd_prefix": "del ",
     "library": "var_list.py",
     "varRefreshCmd": "print(var_dic_list())"
    },
    "r": {
     "delete_cmd_postfix": ") ",
     "delete_cmd_prefix": "rm(",
     "library": "var_list.r",
     "varRefreshCmd": "cat(var_dic_list()) "
    }
   },
   "types_to_exclude": [
    "module",
    "function",
    "builtin_function_or_method",
    "instance",
    "_Feature"
   ],
   "window_display": false
  }
 },
 "nbformat": 4,
 "nbformat_minor": 4
}
