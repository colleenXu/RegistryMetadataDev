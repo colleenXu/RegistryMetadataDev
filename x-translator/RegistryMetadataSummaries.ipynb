{
 "cells": [
  {
   "cell_type": "markdown",
   "metadata": {},
   "source": [
    "# Using SmartAPI Registry metadata in summaries"
   ]
  },
  {
   "cell_type": "markdown",
   "metadata": {},
   "source": [
    "## Setup"
   ]
  },
  {
   "cell_type": "code",
   "execution_count": 1,
   "metadata": {
    "ExecuteTime": {
     "end_time": "2021-02-05T05:24:34.165763Z",
     "start_time": "2021-02-05T05:24:33.810403Z"
    }
   },
   "outputs": [],
   "source": [
    "## CX: allows multiple lines of code to print from one code block\n",
    "from IPython.core.interactiveshell import InteractiveShell\n",
    "InteractiveShell.ast_node_interactivity = \"all\"\n",
    "\n",
    "## packages to work with objects\n",
    "import requests\n",
    "import pandas as pd\n",
    "from textwrap import wrap  ## for plot labels\n",
    "\n",
    "## to get around bugs\n",
    "import nest_asyncio\n",
    "nest_asyncio.apply()"
   ]
  },
  {
   "cell_type": "code",
   "execution_count": 2,
   "metadata": {
    "ExecuteTime": {
     "end_time": "2021-02-05T05:24:34.448026Z",
     "start_time": "2021-02-05T05:24:34.167810Z"
    }
   },
   "outputs": [
    {
     "data": {
      "text/plain": [
       "200"
      ]
     },
     "execution_count": 2,
     "metadata": {},
     "output_type": "execute_result"
    }
   ],
   "source": [
    "## setup request\n",
    "headers = {\"content-type\": \"application/json\"}\n",
    "registry_url = \"https://smart-api.info/api/query/?q=%22%22&fields=info%2Ctags%2C_meta.uptime_status&raw=1&size=1000\"\n",
    "\n",
    "## make request: check for success (200)\n",
    "registry_request = requests.get(registry_url, headers=headers)\n",
    "registry_request.status_code"
   ]
  },
  {
   "cell_type": "code",
   "execution_count": 3,
   "metadata": {
    "ExecuteTime": {
     "end_time": "2021-02-05T05:24:34.466963Z",
     "start_time": "2021-02-05T05:24:34.450411Z"
    }
   },
   "outputs": [],
   "source": [
    "## get response\n",
    "registry = registry_request.json()\n",
    "\n",
    "## parse response to get the information: uptime status, tags, x-translator, api name\n",
    "registry_data = []\n",
    "for ele in registry['hits']['hits']:\n",
    "    tempDict = {'uptimeStatus': ele['_source']['_meta']['uptime_status'],\n",
    "                'name': ele['_source']['info']['title']}\n",
    "    \n",
    "    if ele['_source'].get('tags'):\n",
    "        temp = [i.get('name') for i in ele['_source']['tags']]\n",
    "        tempDict.update({\"tags\": temp})\n",
    "    else:\n",
    "        tempDict.update({\"tags\": []})\n",
    "    \n",
    "    if ele['_source']['info'].get('x-translator'):\n",
    "        tempDict.update({            \n",
    "            'team': ele['_source']['info']['x-translator'].get('team'),\n",
    "            'component': ele['_source']['info']['x-translator'].get('component')\n",
    "        })\n",
    "    else:\n",
    "        tempDict.update({            \n",
    "            'team': [],\n",
    "            'component': None\n",
    "        })\n",
    "    registry_data.append(tempDict)\n",
    "\n",
    "## creating dataframe for easier exploring / printing\n",
    "registry_df = pd.DataFrame.from_dict(registry_data)\n",
    "registry_df = registry_df[['name', 'team', 'component', 'uptimeStatus', 'tags']]\n",
    "\n",
    "## changing the column to strings to make it easier to sort values\n",
    "registry_df['team'] = [\",\".join(x) if isinstance(x, list) else x for x in registry_df['team']]\n",
    "registry_df['tags'] = [\",\".join(x) if isinstance(x, list) else x for x in registry_df['tags']]\n",
    "\n",
    "## replacing empty strings with None\n",
    "registry_df['team'] = [None if not x else x for x in registry_df['team']]\n",
    "registry_df['tags'] = [None if not x else x for x in registry_df['tags']]"
   ]
  },
  {
   "cell_type": "markdown",
   "metadata": {},
   "source": [
    "## Registry API-level summary"
   ]
  },
  {
   "cell_type": "markdown",
   "metadata": {},
   "source": [
    "### Comparing translator tag and x-translator use"
   ]
  },
  {
   "cell_type": "code",
   "execution_count": 4,
   "metadata": {
    "ExecuteTime": {
     "end_time": "2021-02-05T05:24:34.486432Z",
     "start_time": "2021-02-05T05:24:34.469195Z"
    }
   },
   "outputs": [
    {
     "data": {
      "text/html": [
       "<div>\n",
       "<style scoped>\n",
       "    .dataframe tbody tr th:only-of-type {\n",
       "        vertical-align: middle;\n",
       "    }\n",
       "\n",
       "    .dataframe tbody tr th {\n",
       "        vertical-align: top;\n",
       "    }\n",
       "\n",
       "    .dataframe thead th {\n",
       "        text-align: right;\n",
       "    }\n",
       "</style>\n",
       "<table border=\"1\" class=\"dataframe\">\n",
       "  <thead>\n",
       "    <tr style=\"text-align: right;\">\n",
       "      <th></th>\n",
       "      <th>hasTranslatorTag</th>\n",
       "      <th>hasXTranslator</th>\n",
       "      <th>Num of APIs</th>\n",
       "    </tr>\n",
       "  </thead>\n",
       "  <tbody>\n",
       "    <tr>\n",
       "      <th>0</th>\n",
       "      <td>False</td>\n",
       "      <td>False</td>\n",
       "      <td>113</td>\n",
       "    </tr>\n",
       "    <tr>\n",
       "      <th>1</th>\n",
       "      <td>True</td>\n",
       "      <td>True</td>\n",
       "      <td>88</td>\n",
       "    </tr>\n",
       "    <tr>\n",
       "      <th>2</th>\n",
       "      <td>True</td>\n",
       "      <td>False</td>\n",
       "      <td>14</td>\n",
       "    </tr>\n",
       "    <tr>\n",
       "      <th>3</th>\n",
       "      <td>False</td>\n",
       "      <td>True</td>\n",
       "      <td>1</td>\n",
       "    </tr>\n",
       "  </tbody>\n",
       "</table>\n",
       "</div>"
      ],
      "text/plain": [
       "   hasTranslatorTag  hasXTranslator  Num of APIs\n",
       "0             False           False          113\n",
       "1              True            True           88\n",
       "2              True           False           14\n",
       "3             False            True            1"
      ]
     },
     "execution_count": 4,
     "metadata": {},
     "output_type": "execute_result"
    }
   ],
   "source": [
    "## make flags whether api has a translator tag or x-translator field\n",
    "registry_df['hasTranslatorTag'] =  [False if x is None else x \n",
    "                                    for x in registry_df.tags.str.contains('translator')]\n",
    "registry_df['hasXTranslator'] =  [False if x is None else True for x in registry_df.team]\n",
    "\n",
    "## print table\n",
    "registry_df[['hasTranslatorTag', 'hasXTranslator']].value_counts().reset_index(name = \"Num of APIs\")"
   ]
  },
  {
   "cell_type": "markdown",
   "metadata": {},
   "source": [
    "So there are 102 APIs with the \"translator\" tag, and 88 of them currently have the x-translator extension. There is one API with the x-translator extension and no \"translator\" tag. "
   ]
  },
  {
   "cell_type": "markdown",
   "metadata": {},
   "source": [
    "### Translator-tagged / x-translator APIs"
   ]
  },
  {
   "cell_type": "code",
   "execution_count": 5,
   "metadata": {
    "ExecuteTime": {
     "end_time": "2021-02-05T05:24:34.496031Z",
     "start_time": "2021-02-05T05:24:34.488491Z"
    }
   },
   "outputs": [],
   "source": [
    "## grab only the APIs with the translator tag \n",
    "translator_apis = registry_df[(registry_df['hasTranslatorTag']) | \n",
    "            (registry_df['hasXTranslator'])].copy()\n",
    "\n",
    "## sort columns and rows to make format similar to Sarah's table\n",
    "translator_apis = translator_apis[['team', 'component', 'name', 'uptimeStatus', 'tags']]\n",
    "translator_apis.sort_values(by=['team', 'component', 'name'], \n",
    "                            ignore_index = True, na_position = 'last', inplace = True)"
   ]
  },
  {
   "cell_type": "markdown",
   "metadata": {},
   "source": [
    "Translator-tagged APIs with x-translator information. Another review may need to be done to address duplicate API registrations / different API registrations for BTE. "
   ]
  },
  {
   "cell_type": "code",
   "execution_count": 6,
   "metadata": {
    "ExecuteTime": {
     "end_time": "2021-02-05T05:24:34.513491Z",
     "start_time": "2021-02-05T05:24:34.498600Z"
    }
   },
   "outputs": [
    {
     "data": {
      "text/html": [
       "<div>\n",
       "<style scoped>\n",
       "    .dataframe tbody tr th:only-of-type {\n",
       "        vertical-align: middle;\n",
       "    }\n",
       "\n",
       "    .dataframe tbody tr th {\n",
       "        vertical-align: top;\n",
       "    }\n",
       "\n",
       "    .dataframe thead th {\n",
       "        text-align: right;\n",
       "    }\n",
       "</style>\n",
       "<table border=\"1\" class=\"dataframe\">\n",
       "  <thead>\n",
       "    <tr style=\"text-align: right;\">\n",
       "      <th></th>\n",
       "      <th>team</th>\n",
       "      <th>component</th>\n",
       "      <th>name</th>\n",
       "      <th>uptimeStatus</th>\n",
       "      <th>tags</th>\n",
       "    </tr>\n",
       "  </thead>\n",
       "  <tbody>\n",
       "    <tr>\n",
       "      <th>0</th>\n",
       "      <td>Clinical Data Provider</td>\n",
       "      <td>KP</td>\n",
       "      <td>Columbia Open Health Data (COHD)</td>\n",
       "      <td>good</td>\n",
       "      <td>Metadata,OMOP,Clinical Frequencies,Concept Ass...</td>\n",
       "    </tr>\n",
       "    <tr>\n",
       "      <th>1</th>\n",
       "      <td>Clinical Data Provider</td>\n",
       "      <td>KP</td>\n",
       "      <td>Columbia Open Health Data (COHD) for COVID-19 ...</td>\n",
       "      <td>good</td>\n",
       "      <td>Metadata,OMOP,Clinical Frequencies,Concept Ass...</td>\n",
       "    </tr>\n",
       "    <tr>\n",
       "      <th>2</th>\n",
       "      <td>Clinical Data Provider</td>\n",
       "      <td>KP</td>\n",
       "      <td>OpenPredict API 🔮🐍</td>\n",
       "      <td>good</td>\n",
       "      <td>translator,reasoner</td>\n",
       "    </tr>\n",
       "    <tr>\n",
       "      <th>3</th>\n",
       "      <td>Clinical Data Provider</td>\n",
       "      <td>KP</td>\n",
       "      <td>Translator Knowledge Collaboratory API</td>\n",
       "      <td>good</td>\n",
       "      <td>predicates,query,translator,reasoner</td>\n",
       "    </tr>\n",
       "    <tr>\n",
       "      <th>4</th>\n",
       "      <td>Connections Hypothesis Provider</td>\n",
       "      <td>KP</td>\n",
       "      <td>Connections Hypothesis Provider API</td>\n",
       "      <td>unknown</td>\n",
       "      <td>bayesian,translator,1.0.0</td>\n",
       "    </tr>\n",
       "    <tr>\n",
       "      <th>...</th>\n",
       "      <td>...</td>\n",
       "      <td>...</td>\n",
       "      <td>...</td>\n",
       "      <td>...</td>\n",
       "      <td>...</td>\n",
       "    </tr>\n",
       "    <tr>\n",
       "      <th>84</th>\n",
       "      <td>Standards Reference Implementation Team</td>\n",
       "      <td>Utility</td>\n",
       "      <td>Name Resolver</td>\n",
       "      <td>unknown</td>\n",
       "      <td>translator</td>\n",
       "    </tr>\n",
       "    <tr>\n",
       "      <th>85</th>\n",
       "      <td>Standards Reference Implementation Team</td>\n",
       "      <td>Utility</td>\n",
       "      <td>Node Normalization</td>\n",
       "      <td>good</td>\n",
       "      <td>Interfaces</td>\n",
       "    </tr>\n",
       "    <tr>\n",
       "      <th>86</th>\n",
       "      <td>Text Mining Provider,Service Provider</td>\n",
       "      <td>KP</td>\n",
       "      <td>Text Mining CO-OCCURRENCE API</td>\n",
       "      <td>good</td>\n",
       "      <td>gene,chemical,association,annotation,query,tra...</td>\n",
       "    </tr>\n",
       "    <tr>\n",
       "      <th>87</th>\n",
       "      <td>Text Mining Provider,Service Provider</td>\n",
       "      <td>KP</td>\n",
       "      <td>Text Mining Targeted Association API</td>\n",
       "      <td>good</td>\n",
       "      <td>gene,chemical,association,annotation,query,tra...</td>\n",
       "    </tr>\n",
       "    <tr>\n",
       "      <th>88</th>\n",
       "      <td>imProving Agent</td>\n",
       "      <td>ARA</td>\n",
       "      <td>imProving Agent</td>\n",
       "      <td>unknown</td>\n",
       "      <td>predicates,query,translator,reasoner,SPOKE</td>\n",
       "    </tr>\n",
       "  </tbody>\n",
       "</table>\n",
       "<p>89 rows × 5 columns</p>\n",
       "</div>"
      ],
      "text/plain": [
       "                                       team component  \\\n",
       "0                    Clinical Data Provider        KP   \n",
       "1                    Clinical Data Provider        KP   \n",
       "2                    Clinical Data Provider        KP   \n",
       "3                    Clinical Data Provider        KP   \n",
       "4           Connections Hypothesis Provider        KP   \n",
       "..                                      ...       ...   \n",
       "84  Standards Reference Implementation Team   Utility   \n",
       "85  Standards Reference Implementation Team   Utility   \n",
       "86    Text Mining Provider,Service Provider        KP   \n",
       "87    Text Mining Provider,Service Provider        KP   \n",
       "88                          imProving Agent       ARA   \n",
       "\n",
       "                                                 name uptimeStatus  \\\n",
       "0                    Columbia Open Health Data (COHD)         good   \n",
       "1   Columbia Open Health Data (COHD) for COVID-19 ...         good   \n",
       "2                                  OpenPredict API 🔮🐍         good   \n",
       "3              Translator Knowledge Collaboratory API         good   \n",
       "4                 Connections Hypothesis Provider API      unknown   \n",
       "..                                                ...          ...   \n",
       "84                                      Name Resolver      unknown   \n",
       "85                                 Node Normalization         good   \n",
       "86                      Text Mining CO-OCCURRENCE API         good   \n",
       "87               Text Mining Targeted Association API         good   \n",
       "88                                    imProving Agent      unknown   \n",
       "\n",
       "                                                 tags  \n",
       "0   Metadata,OMOP,Clinical Frequencies,Concept Ass...  \n",
       "1   Metadata,OMOP,Clinical Frequencies,Concept Ass...  \n",
       "2                                 translator,reasoner  \n",
       "3                predicates,query,translator,reasoner  \n",
       "4                           bayesian,translator,1.0.0  \n",
       "..                                                ...  \n",
       "84                                         translator  \n",
       "85                                         Interfaces  \n",
       "86  gene,chemical,association,annotation,query,tra...  \n",
       "87  gene,chemical,association,annotation,query,tra...  \n",
       "88         predicates,query,translator,reasoner,SPOKE  \n",
       "\n",
       "[89 rows x 5 columns]"
      ]
     },
     "execution_count": 6,
     "metadata": {},
     "output_type": "execute_result"
    }
   ],
   "source": [
    "summarytable1 = translator_apis[~ translator_apis['team'].isna()].copy()\n",
    "summarytable1"
   ]
  },
  {
   "cell_type": "markdown",
   "metadata": {},
   "source": [
    "The APIs WITHOUT x-translator information"
   ]
  },
  {
   "cell_type": "code",
   "execution_count": 7,
   "metadata": {
    "ExecuteTime": {
     "end_time": "2021-02-05T05:24:34.527550Z",
     "start_time": "2021-02-05T05:24:34.515841Z"
    }
   },
   "outputs": [
    {
     "data": {
      "text/html": [
       "<div>\n",
       "<style scoped>\n",
       "    .dataframe tbody tr th:only-of-type {\n",
       "        vertical-align: middle;\n",
       "    }\n",
       "\n",
       "    .dataframe tbody tr th {\n",
       "        vertical-align: top;\n",
       "    }\n",
       "\n",
       "    .dataframe thead th {\n",
       "        text-align: right;\n",
       "    }\n",
       "</style>\n",
       "<table border=\"1\" class=\"dataframe\">\n",
       "  <thead>\n",
       "    <tr style=\"text-align: right;\">\n",
       "      <th></th>\n",
       "      <th>name</th>\n",
       "      <th>uptimeStatus</th>\n",
       "      <th>tags</th>\n",
       "    </tr>\n",
       "  </thead>\n",
       "  <tbody>\n",
       "    <tr>\n",
       "      <th>89</th>\n",
       "      <td>Big GIM(Gene Interaction Miner)</td>\n",
       "      <td>unknown</td>\n",
       "      <td>translator,ISB,gene,similarity,tissue,TCGA,GIA...</td>\n",
       "    </tr>\n",
       "    <tr>\n",
       "      <th>90</th>\n",
       "      <td>Broad probabilistic graphical models translator</td>\n",
       "      <td>unknown</td>\n",
       "      <td>translator</td>\n",
       "    </tr>\n",
       "    <tr>\n",
       "      <th>91</th>\n",
       "      <td>CMAQ Exposures API</td>\n",
       "      <td>incompatible</td>\n",
       "      <td>translator</td>\n",
       "    </tr>\n",
       "    <tr>\n",
       "      <th>92</th>\n",
       "      <td>ChEMBL API</td>\n",
       "      <td>good</td>\n",
       "      <td>publication,translator</td>\n",
       "    </tr>\n",
       "    <tr>\n",
       "      <th>93</th>\n",
       "      <td>Metadata Provider API</td>\n",
       "      <td>good</td>\n",
       "      <td>metadata,biosample,translator</td>\n",
       "    </tr>\n",
       "    <tr>\n",
       "      <th>94</th>\n",
       "      <td>NCATS ARA Scaffold</td>\n",
       "      <td>unknown</td>\n",
       "      <td>translator</td>\n",
       "    </tr>\n",
       "    <tr>\n",
       "      <th>95</th>\n",
       "      <td>NCATS KP Scaffold</td>\n",
       "      <td>unknown</td>\n",
       "      <td>translator</td>\n",
       "    </tr>\n",
       "    <tr>\n",
       "      <th>96</th>\n",
       "      <td>OpenAPI for indigo NCATS Biomedical Translator...</td>\n",
       "      <td>unknown</td>\n",
       "      <td>query,translator,reasoner</td>\n",
       "    </tr>\n",
       "    <tr>\n",
       "      <th>97</th>\n",
       "      <td>RGD API</td>\n",
       "      <td>good</td>\n",
       "      <td>translator,gene</td>\n",
       "    </tr>\n",
       "    <tr>\n",
       "      <th>98</th>\n",
       "      <td>ROBOKOP</td>\n",
       "      <td>good</td>\n",
       "      <td>translator,reasoner</td>\n",
       "    </tr>\n",
       "    <tr>\n",
       "      <th>99</th>\n",
       "      <td>ROBOKOP Ranker</td>\n",
       "      <td>unknown</td>\n",
       "      <td>0.9.2,translator,reasoner</td>\n",
       "    </tr>\n",
       "    <tr>\n",
       "      <th>100</th>\n",
       "      <td>Roadway Exposures API</td>\n",
       "      <td>incompatible</td>\n",
       "      <td>translator</td>\n",
       "    </tr>\n",
       "    <tr>\n",
       "      <th>101</th>\n",
       "      <td>Socio-Environmental Exposures API</td>\n",
       "      <td>incompatible</td>\n",
       "      <td>translator</td>\n",
       "    </tr>\n",
       "    <tr>\n",
       "      <th>102</th>\n",
       "      <td>Text-mined Biolink Association TRAPI</td>\n",
       "      <td>unknown</td>\n",
       "      <td>translator</td>\n",
       "    </tr>\n",
       "  </tbody>\n",
       "</table>\n",
       "</div>"
      ],
      "text/plain": [
       "                                                  name  uptimeStatus  \\\n",
       "89                     Big GIM(Gene Interaction Miner)       unknown   \n",
       "90     Broad probabilistic graphical models translator       unknown   \n",
       "91                                  CMAQ Exposures API  incompatible   \n",
       "92                                          ChEMBL API          good   \n",
       "93                               Metadata Provider API          good   \n",
       "94                                  NCATS ARA Scaffold       unknown   \n",
       "95                                   NCATS KP Scaffold       unknown   \n",
       "96   OpenAPI for indigo NCATS Biomedical Translator...       unknown   \n",
       "97                                             RGD API          good   \n",
       "98                                             ROBOKOP          good   \n",
       "99                                      ROBOKOP Ranker       unknown   \n",
       "100                              Roadway Exposures API  incompatible   \n",
       "101                  Socio-Environmental Exposures API  incompatible   \n",
       "102               Text-mined Biolink Association TRAPI       unknown   \n",
       "\n",
       "                                                  tags  \n",
       "89   translator,ISB,gene,similarity,tissue,TCGA,GIA...  \n",
       "90                                          translator  \n",
       "91                                          translator  \n",
       "92                              publication,translator  \n",
       "93                       metadata,biosample,translator  \n",
       "94                                          translator  \n",
       "95                                          translator  \n",
       "96                           query,translator,reasoner  \n",
       "97                                     translator,gene  \n",
       "98                                 translator,reasoner  \n",
       "99                           0.9.2,translator,reasoner  \n",
       "100                                         translator  \n",
       "101                                         translator  \n",
       "102                                         translator  "
      ]
     },
     "execution_count": 7,
     "metadata": {},
     "output_type": "execute_result"
    }
   ],
   "source": [
    "## APIs without x-translator information\n",
    "summarytable2 = translator_apis[translator_apis['team'].isna()].copy()\n",
    "summarytable2.drop(columns = ['team', 'component'], inplace = True)\n",
    "summarytable2"
   ]
  },
  {
   "cell_type": "markdown",
   "metadata": {},
   "source": [
    "#### APIs by team"
   ]
  },
  {
   "cell_type": "code",
   "execution_count": 8,
   "metadata": {
    "ExecuteTime": {
     "end_time": "2021-02-05T05:24:35.030936Z",
     "start_time": "2021-02-05T05:24:34.530719Z"
    }
   },
   "outputs": [
    {
     "data": {
      "text/plain": [
       "<AxesSubplot:title={'center':'Num of APIs by team'}>"
      ]
     },
     "execution_count": 8,
     "metadata": {},
     "output_type": "execute_result"
    },
    {
     "data": {
      "text/html": [
       "<div>\n",
       "<style scoped>\n",
       "    .dataframe tbody tr th:only-of-type {\n",
       "        vertical-align: middle;\n",
       "    }\n",
       "\n",
       "    .dataframe tbody tr th {\n",
       "        vertical-align: top;\n",
       "    }\n",
       "\n",
       "    .dataframe thead th {\n",
       "        text-align: right;\n",
       "    }\n",
       "</style>\n",
       "<table border=\"1\" class=\"dataframe\">\n",
       "  <thead>\n",
       "    <tr style=\"text-align: right;\">\n",
       "      <th></th>\n",
       "      <th>name</th>\n",
       "      <th>Num of APIs</th>\n",
       "    </tr>\n",
       "  </thead>\n",
       "  <tbody>\n",
       "    <tr>\n",
       "      <th>0</th>\n",
       "      <td>Ranking Agent</td>\n",
       "      <td>32</td>\n",
       "    </tr>\n",
       "    <tr>\n",
       "      <th>1</th>\n",
       "      <td>Service Provider</td>\n",
       "      <td>29</td>\n",
       "    </tr>\n",
       "    <tr>\n",
       "      <th>2</th>\n",
       "      <td>Standards Reference Implementation Team</td>\n",
       "      <td>6</td>\n",
       "    </tr>\n",
       "    <tr>\n",
       "      <th>3</th>\n",
       "      <td>Multiomics Provider,Service Provider</td>\n",
       "      <td>5</td>\n",
       "    </tr>\n",
       "    <tr>\n",
       "      <th>4</th>\n",
       "      <td>Clinical Data Provider</td>\n",
       "      <td>4</td>\n",
       "    </tr>\n",
       "    <tr>\n",
       "      <th>5</th>\n",
       "      <td>Connections Hypothesis Provider</td>\n",
       "      <td>2</td>\n",
       "    </tr>\n",
       "    <tr>\n",
       "      <th>6</th>\n",
       "      <td>Text Mining Provider,Service Provider</td>\n",
       "      <td>2</td>\n",
       "    </tr>\n",
       "    <tr>\n",
       "      <th>7</th>\n",
       "      <td>Genetics Provider, Broad Institute Flannick Lab</td>\n",
       "      <td>1</td>\n",
       "    </tr>\n",
       "    <tr>\n",
       "      <th>8</th>\n",
       "      <td>Exploring Agent</td>\n",
       "      <td>1</td>\n",
       "    </tr>\n",
       "    <tr>\n",
       "      <th>9</th>\n",
       "      <td>Explanatory Agent</td>\n",
       "      <td>1</td>\n",
       "    </tr>\n",
       "    <tr>\n",
       "      <th>10</th>\n",
       "      <td>SRI</td>\n",
       "      <td>1</td>\n",
       "    </tr>\n",
       "    <tr>\n",
       "      <th>11</th>\n",
       "      <td>Molecular Data Provider</td>\n",
       "      <td>1</td>\n",
       "    </tr>\n",
       "    <tr>\n",
       "      <th>12</th>\n",
       "      <td>Genetics Provider</td>\n",
       "      <td>1</td>\n",
       "    </tr>\n",
       "    <tr>\n",
       "      <th>13</th>\n",
       "      <td>Expander Agent</td>\n",
       "      <td>1</td>\n",
       "    </tr>\n",
       "    <tr>\n",
       "      <th>14</th>\n",
       "      <td>Exposures Provider</td>\n",
       "      <td>1</td>\n",
       "    </tr>\n",
       "    <tr>\n",
       "      <th>15</th>\n",
       "      <td>imProving Agent</td>\n",
       "      <td>1</td>\n",
       "    </tr>\n",
       "  </tbody>\n",
       "</table>\n",
       "</div>"
      ],
      "text/plain": [
       "                                               name  Num of APIs\n",
       "0                                     Ranking Agent           32\n",
       "1                                  Service Provider           29\n",
       "2           Standards Reference Implementation Team            6\n",
       "3              Multiomics Provider,Service Provider            5\n",
       "4                            Clinical Data Provider            4\n",
       "5                   Connections Hypothesis Provider            2\n",
       "6             Text Mining Provider,Service Provider            2\n",
       "7   Genetics Provider, Broad Institute Flannick Lab            1\n",
       "8                                   Exploring Agent            1\n",
       "9                                 Explanatory Agent            1\n",
       "10                                              SRI            1\n",
       "11                          Molecular Data Provider            1\n",
       "12                                Genetics Provider            1\n",
       "13                                   Expander Agent            1\n",
       "14                               Exposures Provider            1\n",
       "15                                  imProving Agent            1"
      ]
     },
     "execution_count": 8,
     "metadata": {},
     "output_type": "execute_result"
    },
    {
     "data": {
      "image/png": "[encoded data removed]",
      "text/plain": [
       "<Figure size 792x576 with 1 Axes>"
      ]
     },
     "metadata": {
      "needs_background": "light"
     },
     "output_type": "display_data"
    }
   ],
   "source": [
    "team_summary = translator_apis.team.value_counts().reset_index()\n",
    "team_summary.columns = ['name', 'Num of APIs']\n",
    "team_summary['plot_names'] = [ '\\n'.join(wrap(i, 30)) for i in team_summary['name']]\n",
    "\n",
    "team_summary.plot.barh(x='plot_names', y='Num of APIs', fontsize = 10, figsize=(11,8), rot=0, \n",
    "                       legend=False, title = \"Num of APIs by team\", xlabel=\"\")\n",
    "## table view\n",
    "team_summary[['name', 'Num of APIs']]"
   ]
  },
  {
   "cell_type": "markdown",
   "metadata": {},
   "source": [
    "#### APIs by component"
   ]
  },
  {
   "cell_type": "code",
   "execution_count": 9,
   "metadata": {
    "ExecuteTime": {
     "end_time": "2021-02-05T05:24:35.208058Z",
     "start_time": "2021-02-05T05:24:35.033307Z"
    }
   },
   "outputs": [
    {
     "data": {
      "text/html": [
       "<div>\n",
       "<style scoped>\n",
       "    .dataframe tbody tr th:only-of-type {\n",
       "        vertical-align: middle;\n",
       "    }\n",
       "\n",
       "    .dataframe tbody tr th {\n",
       "        vertical-align: top;\n",
       "    }\n",
       "\n",
       "    .dataframe thead th {\n",
       "        text-align: right;\n",
       "    }\n",
       "</style>\n",
       "<table border=\"1\" class=\"dataframe\">\n",
       "  <thead>\n",
       "    <tr style=\"text-align: right;\">\n",
       "      <th></th>\n",
       "      <th>index</th>\n",
       "      <th>component</th>\n",
       "    </tr>\n",
       "  </thead>\n",
       "  <tbody>\n",
       "    <tr>\n",
       "      <th>0</th>\n",
       "      <td>KP</td>\n",
       "      <td>76</td>\n",
       "    </tr>\n",
       "    <tr>\n",
       "      <th>1</th>\n",
       "      <td>ARA</td>\n",
       "      <td>8</td>\n",
       "    </tr>\n",
       "    <tr>\n",
       "      <th>2</th>\n",
       "      <td>Utility</td>\n",
       "      <td>5</td>\n",
       "    </tr>\n",
       "  </tbody>\n",
       "</table>\n",
       "</div>"
      ],
      "text/plain": [
       "     index  component\n",
       "0       KP         76\n",
       "1      ARA          8\n",
       "2  Utility          5"
      ]
     },
     "execution_count": 9,
     "metadata": {},
     "output_type": "execute_result"
    },
    {
     "data": {
      "text/plain": [
       "<AxesSubplot:title={'center':'Num of APIs by team'}>"
      ]
     },
     "execution_count": 9,
     "metadata": {},
     "output_type": "execute_result"
    },
    {
     "data": {
      "image/png": "[encoded data removed]",
      "text/plain": [
       "<Figure size 432x288 with 1 Axes>"
      ]
     },
     "metadata": {
      "needs_background": "light"
     },
     "output_type": "display_data"
    }
   ],
   "source": [
    "component_summary = translator_apis.component.value_counts().reset_index()\n",
    "component_summary\n",
    "component_summary.plot.bar(x='index', y='component', rot=0,\n",
    "                       legend=False, title = \"Num of APIs by team\", xlabel=\"\")"
   ]
  },
  {
   "cell_type": "markdown",
   "metadata": {},
   "source": [
    "#### APIs by uptime status"
   ]
  },
  {
   "cell_type": "code",
   "execution_count": 10,
   "metadata": {
    "ExecuteTime": {
     "end_time": "2021-02-05T05:24:35.355380Z",
     "start_time": "2021-02-05T05:24:35.209764Z"
    }
   },
   "outputs": [
    {
     "data": {
      "text/html": [
       "<div>\n",
       "<style scoped>\n",
       "    .dataframe tbody tr th:only-of-type {\n",
       "        vertical-align: middle;\n",
       "    }\n",
       "\n",
       "    .dataframe tbody tr th {\n",
       "        vertical-align: top;\n",
       "    }\n",
       "\n",
       "    .dataframe thead th {\n",
       "        text-align: right;\n",
       "    }\n",
       "</style>\n",
       "<table border=\"1\" class=\"dataframe\">\n",
       "  <thead>\n",
       "    <tr style=\"text-align: right;\">\n",
       "      <th></th>\n",
       "      <th>index</th>\n",
       "      <th>uptimeStatus</th>\n",
       "    </tr>\n",
       "  </thead>\n",
       "  <tbody>\n",
       "    <tr>\n",
       "      <th>0</th>\n",
       "      <td>good</td>\n",
       "      <td>76</td>\n",
       "    </tr>\n",
       "    <tr>\n",
       "      <th>1</th>\n",
       "      <td>unknown</td>\n",
       "      <td>24</td>\n",
       "    </tr>\n",
       "    <tr>\n",
       "      <th>2</th>\n",
       "      <td>incompatible</td>\n",
       "      <td>3</td>\n",
       "    </tr>\n",
       "  </tbody>\n",
       "</table>\n",
       "</div>"
      ],
      "text/plain": [
       "          index  uptimeStatus\n",
       "0          good            76\n",
       "1       unknown            24\n",
       "2  incompatible             3"
      ]
     },
     "execution_count": 10,
     "metadata": {},
     "output_type": "execute_result"
    },
    {
     "data": {
      "text/plain": [
       "<AxesSubplot:title={'center':'Num of APIs by team'}>"
      ]
     },
     "execution_count": 10,
     "metadata": {},
     "output_type": "execute_result"
    },
    {
     "data": {
      "image/png": "[encoded data removed]",
      "text/plain": [
       "<Figure size 432x288 with 1 Axes>"
      ]
     },
     "metadata": {
      "needs_background": "light"
     },
     "output_type": "display_data"
    }
   ],
   "source": [
    "status_summary = translator_apis.uptimeStatus.value_counts().reset_index()\n",
    "status_summary\n",
    "status_summary.plot.bar(x='index', y='uptimeStatus', rot=0,\n",
    "                       legend=False, title = \"Num of APIs by team\", xlabel=\"\")"
   ]
  },
  {
   "cell_type": "markdown",
   "metadata": {},
   "source": [
    "## using x-translator and metaKG together"
   ]
  },
  {
   "cell_type": "markdown",
   "metadata": {},
   "source": [
    "The MetaKG is currently based on annotations from x-bte. The operations are all from APIs tagged translator "
   ]
  },
  {
   "cell_type": "markdown",
   "metadata": {},
   "source": [
    "### Setup "
   ]
  },
  {
   "cell_type": "markdown",
   "metadata": {},
   "source": [
    "The MetaKG is currently based on annotations from x-bte. The operations are all from APIs tagged translator "
   ]
  },
  {
   "cell_type": "code",
   "execution_count": 11,
   "metadata": {
    "ExecuteTime": {
     "end_time": "2021-02-05T05:24:41.914354Z",
     "start_time": "2021-02-05T05:24:35.357873Z"
    }
   },
   "outputs": [
    {
     "data": {
      "text/plain": [
       "200"
      ]
     },
     "execution_count": 11,
     "metadata": {},
     "output_type": "execute_result"
    }
   ],
   "source": [
    "headers = {\"content-type\": \"application/json\"}\n",
    "\n",
    "metaKG_url = \"https://smart-api.info/api/metakg\"\n",
    "\n",
    "metaKG_request = requests.get(metaKG_url, headers=headers)\n",
    "metaKG_request.status_code\n",
    "## if the output is successful, code 200"
   ]
  },
  {
   "cell_type": "code",
   "execution_count": 12,
   "metadata": {
    "ExecuteTime": {
     "end_time": "2021-02-05T05:24:42.008120Z",
     "start_time": "2021-02-05T05:24:41.916514Z"
    }
   },
   "outputs": [],
   "source": [
    "metaKG = metaKG_request.json()\n",
    "\n",
    "metaKG_operations = []\n",
    "for edge in metaKG['associations']:\n",
    "    tempdict = {\n",
    "        \"subject\": edge['subject'],\n",
    "        \"object\": edge['object'],\n",
    "        \"predicate\": edge['predicate'],\n",
    "        \"provided_by\": edge.get('provided_by'),\n",
    "        \"api_name\": edge['api']['name']\n",
    "    }\n",
    "    if edge['api'].get('x-translator'):\n",
    "        tempteam = edge['api']['x-translator'].get('team')\n",
    "        if isinstance(tempteam, list):\n",
    "            tempteam = \",\".join(tempteam)\n",
    "            if not tempteam:\n",
    "                tempteam = None  \n",
    "        tempdict.update({\n",
    "            \"api_team\": tempteam,\n",
    "            \"api_component\": edge['api']['x-translator'].get('component'),\n",
    "        })\n",
    "    else:\n",
    "        tempdict.update({\n",
    "            \"api_team\": None,\n",
    "            \"api_component\": None,\n",
    "        })\n",
    "    metaKG_operations.append(tempdict)\n",
    "    \n",
    "operations_summary = pd.DataFrame.from_dict(metaKG_operations)"
   ]
  },
  {
   "cell_type": "markdown",
   "metadata": {},
   "source": [
    "### MetaKG stats"
   ]
  },
  {
   "cell_type": "markdown",
   "metadata": {
    "ExecuteTime": {
     "end_time": "2021-01-28T05:22:57.755869Z",
     "start_time": "2021-01-28T05:22:57.736256Z"
    }
   },
   "source": [
    "MetaKG describes >8000 operations from 44 translator-tagged APIs"
   ]
  },
  {
   "cell_type": "code",
   "execution_count": 13,
   "metadata": {
    "ExecuteTime": {
     "end_time": "2021-02-05T05:24:42.017575Z",
     "start_time": "2021-02-05T05:24:42.010009Z"
    }
   },
   "outputs": [
    {
     "data": {
      "text/plain": [
       "(8475, 7)"
      ]
     },
     "execution_count": 13,
     "metadata": {},
     "output_type": "execute_result"
    },
    {
     "data": {
      "text/plain": [
       "44"
      ]
     },
     "execution_count": 13,
     "metadata": {},
     "output_type": "execute_result"
    }
   ],
   "source": [
    "operations_summary.shape\n",
    "operations_summary.api_name.nunique()"
   ]
  },
  {
   "cell_type": "markdown",
   "metadata": {},
   "source": [
    "### predicates by team"
   ]
  },
  {
   "cell_type": "code",
   "execution_count": 14,
   "metadata": {
    "ExecuteTime": {
     "end_time": "2021-02-05T05:24:42.036196Z",
     "start_time": "2021-02-05T05:24:42.019459Z"
    }
   },
   "outputs": [
    {
     "data": {
      "text/html": [
       "<div>\n",
       "<style scoped>\n",
       "    .dataframe tbody tr th:only-of-type {\n",
       "        vertical-align: middle;\n",
       "    }\n",
       "\n",
       "    .dataframe tbody tr th {\n",
       "        vertical-align: top;\n",
       "    }\n",
       "\n",
       "    .dataframe thead th {\n",
       "        text-align: right;\n",
       "    }\n",
       "</style>\n",
       "<table border=\"1\" class=\"dataframe\">\n",
       "  <thead>\n",
       "    <tr style=\"text-align: right;\">\n",
       "      <th></th>\n",
       "      <th>index</th>\n",
       "      <th>Num of unique predicates</th>\n",
       "    </tr>\n",
       "  </thead>\n",
       "  <tbody>\n",
       "    <tr>\n",
       "      <th>0</th>\n",
       "      <td>Service Provider</td>\n",
       "      <td>161</td>\n",
       "    </tr>\n",
       "    <tr>\n",
       "      <th>1</th>\n",
       "      <td>Expander Agent</td>\n",
       "      <td>79</td>\n",
       "    </tr>\n",
       "    <tr>\n",
       "      <th>2</th>\n",
       "      <td>imProving Agent</td>\n",
       "      <td>24</td>\n",
       "    </tr>\n",
       "    <tr>\n",
       "      <th>3</th>\n",
       "      <td>Molecular Data Provider</td>\n",
       "      <td>10</td>\n",
       "    </tr>\n",
       "    <tr>\n",
       "      <th>4</th>\n",
       "      <td>Multiomics Provider,Service Provider</td>\n",
       "      <td>7</td>\n",
       "    </tr>\n",
       "    <tr>\n",
       "      <th>5</th>\n",
       "      <td>Clinical Data Provider</td>\n",
       "      <td>5</td>\n",
       "    </tr>\n",
       "    <tr>\n",
       "      <th>6</th>\n",
       "      <td>Ranking Agent</td>\n",
       "      <td>5</td>\n",
       "    </tr>\n",
       "    <tr>\n",
       "      <th>7</th>\n",
       "      <td>Text Mining Provider,Service Provider</td>\n",
       "      <td>5</td>\n",
       "    </tr>\n",
       "    <tr>\n",
       "      <th>8</th>\n",
       "      <td>Genetics Provider, Broad Institute Flannick Lab</td>\n",
       "      <td>3</td>\n",
       "    </tr>\n",
       "    <tr>\n",
       "      <th>9</th>\n",
       "      <td>Standards Reference Implementation Team</td>\n",
       "      <td>3</td>\n",
       "    </tr>\n",
       "    <tr>\n",
       "      <th>10</th>\n",
       "      <td>Genetics Provider</td>\n",
       "      <td>1</td>\n",
       "    </tr>\n",
       "  </tbody>\n",
       "</table>\n",
       "</div>"
      ],
      "text/plain": [
       "                                              index  Num of unique predicates\n",
       "0                                  Service Provider                       161\n",
       "1                                    Expander Agent                        79\n",
       "2                                   imProving Agent                        24\n",
       "3                           Molecular Data Provider                        10\n",
       "4              Multiomics Provider,Service Provider                         7\n",
       "5                            Clinical Data Provider                         5\n",
       "6                                     Ranking Agent                         5\n",
       "7             Text Mining Provider,Service Provider                         5\n",
       "8   Genetics Provider, Broad Institute Flannick Lab                         3\n",
       "9           Standards Reference Implementation Team                         3\n",
       "10                                Genetics Provider                         1"
      ]
     },
     "execution_count": 14,
     "metadata": {},
     "output_type": "execute_result"
    }
   ],
   "source": [
    "operations1 = operations_summary[['predicate', 'api_name', 'api_team']].drop_duplicates()\n",
    "operations1.api_team.value_counts().reset_index(name = 'Num of unique predicates')"
   ]
  },
  {
   "cell_type": "code",
   "execution_count": null,
   "metadata": {},
   "outputs": [],
   "source": []
  }
 ],
 "metadata": {
  "kernelspec": {
   "display_name": "Python 3",
   "language": "python",
   "name": "python3"
  },
  "language_info": {
   "codemirror_mode": {
    "name": "ipython",
    "version": 3
   },
   "file_extension": ".py",
   "mimetype": "text/x-python",
   "name": "python",
   "nbconvert_exporter": "python",
   "pygments_lexer": "ipython3",
   "version": "3.7.9"
  },
  "toc": {
   "base_numbering": 1,
   "nav_menu": {},
   "number_sections": true,
   "sideBar": true,
   "skip_h1_title": true,
   "title_cell": "Table of Contents",
   "title_sidebar": "Contents",
   "toc_cell": false,
   "toc_position": {
    "height": "calc(100% - 180px)",
    "left": "10px",
    "top": "150px",
    "width": "279.067px"
   },
   "toc_section_display": true,
   "toc_window_display": true
  },
  "varInspector": {
   "cols": {
    "lenName": 16,
    "lenType": 16,
    "lenVar": 40
   },
   "kernels_config": {
    "python": {
     "delete_cmd_postfix": "",
     "delete_cmd_prefix": "del ",
     "library": "var_list.py",
     "varRefreshCmd": "print(var_dic_list())"
    },
    "r": {
     "delete_cmd_postfix": ") ",
     "delete_cmd_prefix": "rm(",
     "library": "var_list.r",
     "varRefreshCmd": "cat(var_dic_list()) "
    }
   },
   "types_to_exclude": [
    "module",
    "function",
    "builtin_function_or_method",
    "instance",
    "_Feature"
   ],
   "window_display": false
  }
 },
 "nbformat": 4,
 "nbformat_minor": 4
}
